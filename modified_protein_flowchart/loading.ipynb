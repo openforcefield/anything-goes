{
 "cells": [
  {
   "cell_type": "code",
   "execution_count": 81,
   "id": "3c2df4e4-55e1-4c0c-9780-56ed5ad8c3d9",
   "metadata": {
    "execution": {
     "iopub.execute_input": "2025-03-24T20:36:46.519124Z",
     "iopub.status.busy": "2025-03-24T20:36:46.518380Z",
     "iopub.status.idle": "2025-03-24T20:36:48.360846Z",
     "shell.execute_reply": "2025-03-24T20:36:48.360339Z",
     "shell.execute_reply.started": "2025-03-24T20:36:46.519068Z"
    }
   },
   "outputs": [
    {
     "data": {
      "text/html": [
       "<svg id=\"mermaid-svg\" width=\"100%\" xmlns=\"http://www.w3.org/2000/svg\" class=\"flowchart\" style=\"max-width: 3679.66796875px;\" viewBox=\"0 0 3679.66796875 4678\" role=\"graphics-document document\" aria-roledescription=\"flowchart-v2\" xmlns:xlink=\"http://www.w3.org/1999/xlink\"><style xmlns=\"http://www.w3.org/1999/xhtml\">@import url(\"https://cdnjs.cloudflare.com/ajax/libs/font-awesome/6.7.2/css/all.min.css\");</style><style>#mermaid-svg{font-family:\"trebuchet ms\",verdana,arial,sans-serif;font-size:16px;fill:#333;}#mermaid-svg .error-icon{fill:#552222;}#mermaid-svg .error-text{fill:#552222;stroke:#552222;}#mermaid-svg .edge-thickness-normal{stroke-width:1px;}#mermaid-svg .edge-thickness-thick{stroke-width:3.5px;}#mermaid-svg .edge-pattern-solid{stroke-dasharray:0;}#mermaid-svg .edge-thickness-invisible{stroke-width:0;fill:none;}#mermaid-svg .edge-pattern-dashed{stroke-dasharray:3;}#mermaid-svg .edge-pattern-dotted{stroke-dasharray:2;}#mermaid-svg .marker{fill:#333333;stroke:#333333;}#mermaid-svg .marker.cross{stroke:#333333;}#mermaid-svg svg{font-family:\"trebuchet ms\",verdana,arial,sans-serif;font-size:16px;}#mermaid-svg p{margin:0;}#mermaid-svg .label{font-family:\"trebuchet ms\",verdana,arial,sans-serif;color:#333;}#mermaid-svg .cluster-label text{fill:#333;}#mermaid-svg .cluster-label span{color:#333;}#mermaid-svg .cluster-label span p{background-color:transparent;}#mermaid-svg .label text,#mermaid-svg span{fill:#333;color:#333;}#mermaid-svg .node rect,#mermaid-svg .node circle,#mermaid-svg .node ellipse,#mermaid-svg .node polygon,#mermaid-svg .node path{fill:#ECECFF;stroke:#9370DB;stroke-width:1px;}#mermaid-svg .rough-node .label text,#mermaid-svg .node .label text,#mermaid-svg .image-shape .label,#mermaid-svg .icon-shape .label{text-anchor:middle;}#mermaid-svg .node .katex path{fill:#000;stroke:#000;stroke-width:1px;}#mermaid-svg .rough-node .label,#mermaid-svg .node .label,#mermaid-svg .image-shape .label,#mermaid-svg .icon-shape .label{text-align:center;}#mermaid-svg .node.clickable{cursor:pointer;}#mermaid-svg .root .anchor path{fill:#333333!important;stroke-width:0;stroke:#333333;}#mermaid-svg .arrowheadPath{fill:#333333;}#mermaid-svg .edgePath .path{stroke:#333333;stroke-width:2.0px;}#mermaid-svg .flowchart-link{stroke:#333333;fill:none;}#mermaid-svg .edgeLabel{background-color:rgba(232,232,232, 0.8);text-align:center;}#mermaid-svg .edgeLabel p{background-color:rgba(232,232,232, 0.8);}#mermaid-svg .edgeLabel rect{opacity:0.5;background-color:rgba(232,232,232, 0.8);fill:rgba(232,232,232, 0.8);}#mermaid-svg .labelBkg{background-color:rgba(232, 232, 232, 0.5);}#mermaid-svg .cluster rect{fill:#ffffde;stroke:#aaaa33;stroke-width:1px;}#mermaid-svg .cluster text{fill:#333;}#mermaid-svg .cluster span{color:#333;}#mermaid-svg div.mermaidTooltip{position:absolute;text-align:center;max-width:200px;padding:2px;font-family:\"trebuchet ms\",verdana,arial,sans-serif;font-size:12px;background:hsl(80, 100%, 96.2745098039%);border:1px solid #aaaa33;border-radius:2px;pointer-events:none;z-index:100;}#mermaid-svg .flowchartTitleText{text-anchor:middle;font-size:18px;fill:#333;}#mermaid-svg rect.text{fill:none;stroke-width:0;}#mermaid-svg .icon-shape,#mermaid-svg .image-shape{background-color:rgba(232,232,232, 0.8);text-align:center;}#mermaid-svg .icon-shape p,#mermaid-svg .image-shape p{background-color:rgba(232,232,232, 0.8);padding:2px;}#mermaid-svg .icon-shape rect,#mermaid-svg .image-shape rect{opacity:0.5;background-color:rgba(232,232,232, 0.8);fill:rgba(232,232,232, 0.8);}#mermaid-svg :root{--mermaid-font-family:\"trebuchet ms\",verdana,arial,sans-serif;}</style><g><marker id=\"mermaid-svg_flowchart-v2-pointEnd\" class=\"marker flowchart-v2\" viewBox=\"0 0 10 10\" refX=\"5\" refY=\"5\" markerUnits=\"userSpaceOnUse\" markerWidth=\"8\" markerHeight=\"8\" orient=\"auto\"><path d=\"M 0 0 L 10 5 L 0 10 z\" class=\"arrowMarkerPath\" style=\"stroke-width: 1; stroke-dasharray: 1, 0;\"/></marker><marker id=\"mermaid-svg_flowchart-v2-pointStart\" class=\"marker flowchart-v2\" viewBox=\"0 0 10 10\" refX=\"4.5\" refY=\"5\" markerUnits=\"userSpaceOnUse\" markerWidth=\"8\" markerHeight=\"8\" orient=\"auto\"><path d=\"M 0 5 L 10 10 L 10 0 z\" class=\"arrowMarkerPath\" style=\"stroke-width: 1; stroke-dasharray: 1, 0;\"/></marker><marker id=\"mermaid-svg_flowchart-v2-circleEnd\" class=\"marker flowchart-v2\" viewBox=\"0 0 10 10\" refX=\"11\" refY=\"5\" markerUnits=\"userSpaceOnUse\" markerWidth=\"11\" markerHeight=\"11\" orient=\"auto\"><circle cx=\"5\" cy=\"5\" r=\"5\" class=\"arrowMarkerPath\" style=\"stroke-width: 1; stroke-dasharray: 1, 0;\"/></marker><marker id=\"mermaid-svg_flowchart-v2-circleStart\" class=\"marker flowchart-v2\" viewBox=\"0 0 10 10\" refX=\"-1\" refY=\"5\" markerUnits=\"userSpaceOnUse\" markerWidth=\"11\" markerHeight=\"11\" orient=\"auto\"><circle cx=\"5\" cy=\"5\" r=\"5\" class=\"arrowMarkerPath\" style=\"stroke-width: 1; stroke-dasharray: 1, 0;\"/></marker><marker id=\"mermaid-svg_flowchart-v2-crossEnd\" class=\"marker cross flowchart-v2\" viewBox=\"0 0 11 11\" refX=\"12\" refY=\"5.2\" markerUnits=\"userSpaceOnUse\" markerWidth=\"11\" markerHeight=\"11\" orient=\"auto\"><path d=\"M 1,1 l 9,9 M 10,1 l -9,9\" class=\"arrowMarkerPath\" style=\"stroke-width: 2; stroke-dasharray: 1, 0;\"/></marker><marker id=\"mermaid-svg_flowchart-v2-crossStart\" class=\"marker cross flowchart-v2\" viewBox=\"0 0 11 11\" refX=\"-1\" refY=\"5.2\" markerUnits=\"userSpaceOnUse\" markerWidth=\"11\" markerHeight=\"11\" orient=\"auto\"><path d=\"M 1,1 l 9,9 M 10,1 l -9,9\" class=\"arrowMarkerPath\" style=\"stroke-width: 2; stroke-dasharray: 1, 0;\"/></marker><g class=\"root\"><g class=\"clusters\"/><g class=\"edgePaths\"><path d=\"M1021.614,261.974L1014.781,276.145C1007.947,290.316,994.28,318.658,987.447,338.329C980.613,358,980.613,369,980.613,374.5L980.613,380\" id=\"L_0_0A_0\" class=\" edge-thickness-normal edge-pattern-solid edge-thickness-normal edge-pattern-solid flowchart-link\" style=\"\" marker-end=\"url(#mermaid-svg_flowchart-v2-pointEnd)\"/><path d=\"M1118.667,261.974L1125.334,276.145C1132.001,290.316,1145.334,318.658,1152.001,353.496C1158.668,388.333,1158.668,429.667,1158.668,473C1158.668,516.333,1158.668,561.667,1151.933,599.725C1145.197,637.782,1131.727,668.565,1124.991,683.956L1118.256,699.347\" id=\"L_0_1_1\" class=\" edge-thickness-normal edge-pattern-solid edge-thickness-normal edge-pattern-solid flowchart-link\" style=\"\" marker-end=\"url(#mermaid-svg_flowchart-v2-pointEnd)\"/><path d=\"M980.613,558L980.613,566.167C980.613,574.333,980.613,590.667,987.51,614.227C994.407,637.787,1008.2,668.574,1015.097,683.968L1021.994,699.361\" id=\"L_0A_1_2\" class=\" edge-thickness-normal edge-pattern-solid edge-thickness-normal edge-pattern-solid flowchart-link\" style=\"\" marker-end=\"url(#mermaid-svg_flowchart-v2-pointEnd)\"/><path d=\"M976.202,864.561L940.192,886.301C904.181,908.041,832.161,951.52,796.151,990.76C760.141,1030,760.141,1065,760.141,1082.5L760.141,1100\" id=\"L_1_1A_3\" class=\" edge-thickness-normal edge-pattern-solid edge-thickness-normal edge-pattern-solid flowchart-link\" style=\"\" marker-end=\"url(#mermaid-svg_flowchart-v2-pointEnd)\"/><path d=\"M1164.079,864.561L1199.923,886.301C1235.766,908.041,1307.454,951.52,1343.372,978.844C1379.29,1006.167,1379.438,1017.334,1379.513,1022.917L1379.587,1028.5\" id=\"L_1_2_4\" class=\" edge-thickness-normal edge-pattern-solid edge-thickness-normal edge-pattern-solid flowchart-link\" style=\"\" marker-end=\"url(#mermaid-svg_flowchart-v2-pointEnd)\"/><path d=\"M1277.587,1208.447L1213.49,1231.539C1149.392,1254.631,1021.196,1300.816,957.172,1329.491C893.149,1358.167,893.298,1369.334,893.372,1374.917L893.447,1380.5\" id=\"L_2_2A_5\" class=\" edge-thickness-normal edge-pattern-solid edge-thickness-normal edge-pattern-solid flowchart-link\" style=\"\" marker-end=\"url(#mermaid-svg_flowchart-v2-pointEnd)\"/><path d=\"M1492.629,1197.512L1601.131,1222.426C1709.633,1247.341,1926.637,1297.171,2035.217,1331.669C2143.796,1366.167,2143.952,1385.333,2144.03,1394.917L2144.108,1404.5\" id=\"L_2_3_6\" class=\" edge-thickness-normal edge-pattern-solid edge-thickness-normal edge-pattern-solid flowchart-link\" style=\"\" marker-end=\"url(#mermaid-svg_flowchart-v2-pointEnd)\"/><path d=\"M774.122,1615.122L718.102,1641.102C662.081,1667.081,550.041,1719.041,494.02,1758.52C438,1798,438,1825,438,1838.5L438,1852\" id=\"L_2A_2AA_7\" class=\" edge-thickness-normal edge-pattern-solid edge-thickness-normal edge-pattern-solid flowchart-link\" style=\"\" marker-end=\"url(#mermaid-svg_flowchart-v2-pointEnd)\"/><path d=\"M1012.878,1615.122L1068.732,1641.102C1124.585,1667.081,1236.293,1719.041,1292.146,1762.52C1348,1806,1348,1841,1348,1858.5L1348,1876\" id=\"L_2A_2AB_8\" class=\" edge-thickness-normal edge-pattern-solid edge-thickness-normal edge-pattern-solid flowchart-link\" style=\"\" marker-end=\"url(#mermaid-svg_flowchart-v2-pointEnd)\"/><path d=\"M2075.51,1641.869L2057.425,1663.391C2039.34,1684.913,2003.17,1727.956,1985.159,1755.062C1967.149,1782.167,1967.298,1793.334,1967.372,1798.917L1967.447,1804.5\" id=\"L_3_4_9\" class=\" edge-thickness-normal edge-pattern-solid edge-thickness-normal edge-pattern-solid flowchart-link\" style=\"\" marker-end=\"url(#mermaid-svg_flowchart-v2-pointEnd)\"/><path d=\"M2263.081,1591.56L2374.257,1621.467C2485.434,1651.373,2707.787,1711.187,2818.964,1770.427C2930.141,1829.667,2930.141,1888.333,2930.141,1947C2930.141,2005.667,2930.141,2064.333,2930.219,2103.25C2930.296,2142.167,2930.452,2161.333,2930.53,2170.917L2930.608,2180.5\" id=\"L_3_11_10\" class=\" edge-thickness-normal edge-pattern-solid edge-thickness-normal edge-pattern-solid flowchart-link\" style=\"\" marker-end=\"url(#mermaid-svg_flowchart-v2-pointEnd)\"/><path d=\"M1877.674,1996.674L1838.978,2017.728C1800.283,2038.783,1722.891,2080.891,1684.196,2107.446C1645.5,2134,1645.5,2145,1645.5,2150.5L1645.5,2156\" id=\"L_4_5_11\" class=\" edge-thickness-normal edge-pattern-solid edge-thickness-normal edge-pattern-solid flowchart-link\" style=\"\" marker-end=\"url(#mermaid-svg_flowchart-v2-pointEnd)\"/><path d=\"M2057.326,1996.674L2095.855,2017.728C2134.384,2038.783,2211.442,2080.891,2250.045,2107.529C2288.649,2134.167,2288.798,2145.334,2288.872,2150.917L2288.947,2156.5\" id=\"L_4_6_12\" class=\" edge-thickness-normal edge-pattern-solid edge-thickness-normal edge-pattern-solid flowchart-link\" style=\"\" marker-end=\"url(#mermaid-svg_flowchart-v2-pointEnd)\"/><path d=\"M2217.609,2415.109L2203.448,2433.091C2189.286,2451.073,2160.963,2487.036,2146.877,2510.602C2132.79,2534.167,2132.938,2545.334,2133.013,2550.917L2133.087,2556.5\" id=\"L_6_7_13\" class=\" edge-thickness-normal edge-pattern-solid edge-thickness-normal edge-pattern-solid flowchart-link\" style=\"\" marker-end=\"url(#mermaid-svg_flowchart-v2-pointEnd)\"/><path d=\"M2401.328,2374.172L2456.417,2398.976C2511.505,2423.781,2621.682,2473.391,2720.915,2524.686C2820.147,2575.981,2908.435,2628.961,2952.579,2655.451L2996.723,2681.942\" id=\"L_6_13_14\" class=\" edge-thickness-normal edge-pattern-solid edge-thickness-normal edge-pattern-solid flowchart-link\" style=\"\" marker-end=\"url(#mermaid-svg_flowchart-v2-pointEnd)\"/><path d=\"M2007.64,2785L1938.89,2812C1870.14,2839,1732.641,2893,1663.891,2951.333C1595.141,3009.667,1595.141,3072.333,1595.141,3135C1595.141,3197.667,1595.141,3260.333,1595.141,3347C1595.141,3433.667,1595.141,3544.333,1595.141,3653C1595.141,3761.667,1595.141,3868.333,1599.775,3925.414C1604.41,3982.495,1613.679,3989.99,1618.313,3993.737L1622.948,3997.485\" id=\"L_7_10_15\" class=\" edge-thickness-normal edge-pattern-solid edge-thickness-normal edge-pattern-solid flowchart-link\" style=\"\" marker-end=\"url(#mermaid-svg_flowchart-v2-pointEnd)\"/><path d=\"M2224.676,2818.965L2248.087,2840.304C2271.498,2861.643,2318.319,2904.322,2341.804,2931.244C2365.29,2958.167,2365.438,2969.334,2365.513,2974.917L2365.587,2980.5\" id=\"L_7_8_16\" class=\" edge-thickness-normal edge-pattern-solid edge-thickness-normal edge-pattern-solid flowchart-link\" style=\"\" marker-end=\"url(#mermaid-svg_flowchart-v2-pointEnd)\"/><path d=\"M2272.223,3193.082L2236.876,3214.735C2201.529,3236.388,2130.835,3279.694,2095.488,3306.847C2060.141,3334,2060.141,3345,2060.141,3350.5L2060.141,3356\" id=\"L_8_9_17\" class=\" edge-thickness-normal edge-pattern-solid edge-thickness-normal edge-pattern-solid flowchart-link\" style=\"\" marker-end=\"url(#mermaid-svg_flowchart-v2-pointEnd)\"/><path d=\"M2459.058,3193.082L2494.239,3214.735C2529.419,3236.388,2599.78,3279.694,2634.96,3349.514C2670.141,3419.333,2670.141,3515.667,2670.141,3563.833L2670.141,3612\" id=\"L_8_17_18\" class=\" edge-thickness-normal edge-pattern-solid edge-thickness-normal edge-pattern-solid flowchart-link\" style=\"\" marker-end=\"url(#mermaid-svg_flowchart-v2-pointEnd)\"/><path d=\"M2060.141,3950L2060.141,3954.167C2060.141,3958.333,2060.141,3966.667,2055.506,3974.581C2050.872,3982.495,2041.603,3989.99,2036.968,3993.737L2032.333,3997.485\" id=\"L_9_10_19\" class=\" edge-thickness-normal edge-pattern-solid edge-thickness-normal edge-pattern-solid flowchart-link\" style=\"\" marker-end=\"url(#mermaid-svg_flowchart-v2-pointEnd)\"/><path d=\"M2869.95,2401.81L2854.149,2422.008C2838.347,2442.207,2806.744,2482.603,2790.942,2530.968C2775.141,2579.333,2775.141,2635.667,2775.141,2663.833L2775.141,2692\" id=\"L_11_12_20\" class=\" edge-thickness-normal edge-pattern-solid edge-thickness-normal edge-pattern-solid flowchart-link\" style=\"\" marker-end=\"url(#mermaid-svg_flowchart-v2-pointEnd)\"/><path d=\"M2991.331,2401.81L3006.966,2422.008C3022.601,2442.207,3053.871,2482.603,3069.506,2528.968C3085.141,2575.333,3085.141,2627.667,3085.141,2653.833L3085.141,2680\" id=\"L_11_13_21\" class=\" edge-thickness-normal edge-pattern-solid edge-thickness-normal edge-pattern-solid flowchart-link\" style=\"\" marker-end=\"url(#mermaid-svg_flowchart-v2-pointEnd)\"/><path d=\"M3085.141,2786L3085.141,2812.833C3085.141,2839.667,3085.141,2893.333,3085.141,2951.5C3085.141,3009.667,3085.141,3072.333,3085.141,3135C3085.141,3197.667,3085.141,3260.333,3085.141,3347C3085.141,3433.667,3085.141,3544.333,3085.141,3653C3085.141,3761.667,3085.141,3868.333,3079.413,3934.98C3073.685,4001.626,3062.23,4028.253,3056.503,4041.566L3050.775,4054.879\" id=\"L_13_14_22\" class=\" edge-thickness-normal edge-pattern-solid edge-thickness-normal edge-pattern-solid flowchart-link\" style=\"\" marker-end=\"url(#mermaid-svg_flowchart-v2-pointEnd)\"/><path d=\"M2920.929,4232.288L2894.71,4254.074C2868.49,4275.859,2816.052,4319.429,2789.833,4356.548C2763.613,4393.667,2763.613,4424.333,2763.613,4453C2763.613,4481.667,2763.613,4508.333,2775.43,4525.622C2787.248,4542.91,2810.882,4550.82,2822.699,4554.775L2834.516,4558.73\" id=\"L_14_16_23\" class=\" edge-thickness-normal edge-pattern-solid edge-thickness-normal edge-pattern-solid flowchart-link\" style=\"\" marker-end=\"url(#mermaid-svg_flowchart-v2-pointEnd)\"/><path d=\"M3085.352,4232.288L3111.405,4254.074C3137.457,4275.859,3189.563,4319.429,3215.615,4346.715C3241.668,4374,3241.668,4385,3241.668,4390.5L3241.668,4396\" id=\"L_14_15_24\" class=\" edge-thickness-normal edge-pattern-solid edge-thickness-normal edge-pattern-solid flowchart-link\" style=\"\" marker-end=\"url(#mermaid-svg_flowchart-v2-pointEnd)\"/><path d=\"M3241.668,4510L3241.668,4514.167C3241.668,4518.333,3241.668,4526.667,3229.851,4534.788C3218.034,4542.91,3194.399,4550.82,3182.582,4554.775L3170.765,4558.73\" id=\"L_15_16_25\" class=\" edge-thickness-normal edge-pattern-solid edge-thickness-normal edge-pattern-solid flowchart-link\" style=\"\" marker-end=\"url(#mermaid-svg_flowchart-v2-pointEnd)\"/><path d=\"M2670.141,3694L2670.141,3740.833C2670.141,3787.667,2670.141,3881.333,2708.984,3950.165C2747.827,4018.996,2825.513,4062.993,2864.357,4084.991L2903.2,4106.989\" id=\"L_17_14_26\" class=\" edge-thickness-normal edge-pattern-solid edge-thickness-normal edge-pattern-solid flowchart-link\" style=\"\" marker-end=\"url(#mermaid-svg_flowchart-v2-pointEnd)\"/></g><g class=\"edgeLabels\"><g class=\"edgeLabel\" transform=\"translate(980.61328125, 347)\"><g class=\"label\" transform=\"translate(-10.2265625, -12)\"><foreignObject width=\"20.453125\" height=\"24\"><div xmlns=\"http://www.w3.org/1999/xhtml\" class=\"labelBkg\" style=\"display: table-cell; white-space: nowrap; line-height: 1.5; max-width: 200px; text-align: center;\"><span class=\"edgeLabel \"><p>No</p></span></div></foreignObject></g></g><g class=\"edgeLabel\" transform=\"translate(1158.66796875, 471)\"><g class=\"label\" transform=\"translate(-13.0546875, -12)\"><foreignObject width=\"26.109375\" height=\"24\"><div xmlns=\"http://www.w3.org/1999/xhtml\" class=\"labelBkg\" style=\"display: table-cell; white-space: nowrap; line-height: 1.5; max-width: 200px; text-align: center;\"><span class=\"edgeLabel \"><p>Yes</p></span></div></foreignObject></g></g><g class=\"edgeLabel\" transform=\"translate(980.61328125, 607)\"><g class=\"label\" transform=\"translate(-100, -24)\"><foreignObject width=\"200\" height=\"48\"><div xmlns=\"http://www.w3.org/1999/xhtml\" class=\"labelBkg\" style=\"display: table; white-space: break-spaces; line-height: 1.5; max-width: 200px; text-align: center; width: 200px;\"><span class=\"edgeLabel \"><p>Ok, I've added explicit hydrogens</p></span></div></foreignObject></g></g><g class=\"edgeLabel\" transform=\"translate(760.140625, 995)\"><g class=\"label\" transform=\"translate(-13.0546875, -12)\"><foreignObject width=\"26.109375\" height=\"24\"><div xmlns=\"http://www.w3.org/1999/xhtml\" class=\"labelBkg\" style=\"display: table-cell; white-space: nowrap; line-height: 1.5; max-width: 200px; text-align: center;\"><span class=\"edgeLabel \"><p>Yes</p></span></div></foreignObject></g></g><g class=\"edgeLabel\" transform=\"translate(1379.140625, 995)\"><g class=\"label\" transform=\"translate(-10.2265625, -12)\"><foreignObject width=\"20.453125\" height=\"24\"><div xmlns=\"http://www.w3.org/1999/xhtml\" class=\"labelBkg\" style=\"display: table-cell; white-space: nowrap; line-height: 1.5; max-width: 200px; text-align: center;\"><span class=\"edgeLabel \"><p>No</p></span></div></foreignObject></g></g><g class=\"edgeLabel\" transform=\"translate(893, 1347)\"><g class=\"label\" transform=\"translate(-13.0546875, -12)\"><foreignObject width=\"26.109375\" height=\"24\"><div xmlns=\"http://www.w3.org/1999/xhtml\" class=\"labelBkg\" style=\"display: table-cell; white-space: nowrap; line-height: 1.5; max-width: 200px; text-align: center;\"><span class=\"edgeLabel \"><p>Yes</p></span></div></foreignObject></g></g><g class=\"edgeLabel\" transform=\"translate(2143.640625, 1347)\"><g class=\"label\" transform=\"translate(-10.2265625, -12)\"><foreignObject width=\"20.453125\" height=\"24\"><div xmlns=\"http://www.w3.org/1999/xhtml\" class=\"labelBkg\" style=\"display: table-cell; white-space: nowrap; line-height: 1.5; max-width: 200px; text-align: center;\"><span class=\"edgeLabel \"><p>No</p></span></div></foreignObject></g></g><g class=\"edgeLabel\" transform=\"translate(438, 1771)\"><g class=\"label\" transform=\"translate(-13.0546875, -12)\"><foreignObject width=\"26.109375\" height=\"24\"><div xmlns=\"http://www.w3.org/1999/xhtml\" class=\"labelBkg\" style=\"display: table-cell; white-space: nowrap; line-height: 1.5; max-width: 200px; text-align: center;\"><span class=\"edgeLabel \"><p>Yes</p></span></div></foreignObject></g></g><g class=\"edgeLabel\" transform=\"translate(1348, 1771)\"><g class=\"label\" transform=\"translate(-10.2265625, -12)\"><foreignObject width=\"20.453125\" height=\"24\"><div xmlns=\"http://www.w3.org/1999/xhtml\" class=\"labelBkg\" style=\"display: table-cell; white-space: nowrap; line-height: 1.5; max-width: 200px; text-align: center;\"><span class=\"edgeLabel \"><p>No</p></span></div></foreignObject></g></g><g class=\"edgeLabel\" transform=\"translate(1967, 1771)\"><g class=\"label\" transform=\"translate(-13.0546875, -12)\"><foreignObject width=\"26.109375\" height=\"24\"><div xmlns=\"http://www.w3.org/1999/xhtml\" class=\"labelBkg\" style=\"display: table-cell; white-space: nowrap; line-height: 1.5; max-width: 200px; text-align: center;\"><span class=\"edgeLabel \"><p>Yes</p></span></div></foreignObject></g></g><g class=\"edgeLabel\" transform=\"translate(2930.140625, 1947)\"><g class=\"label\" transform=\"translate(-10.2265625, -12)\"><foreignObject width=\"20.453125\" height=\"24\"><div xmlns=\"http://www.w3.org/1999/xhtml\" class=\"labelBkg\" style=\"display: table-cell; white-space: nowrap; line-height: 1.5; max-width: 200px; text-align: center;\"><span class=\"edgeLabel \"><p>No</p></span></div></foreignObject></g></g><g class=\"edgeLabel\" transform=\"translate(1645.5, 2123)\"><g class=\"label\" transform=\"translate(-13.0546875, -12)\"><foreignObject width=\"26.109375\" height=\"24\"><div xmlns=\"http://www.w3.org/1999/xhtml\" class=\"labelBkg\" style=\"display: table-cell; white-space: nowrap; line-height: 1.5; max-width: 200px; text-align: center;\"><span class=\"edgeLabel \"><p>Yes</p></span></div></foreignObject></g></g><g class=\"edgeLabel\" transform=\"translate(2288.5, 2123)\"><g class=\"label\" transform=\"translate(-10.2265625, -12)\"><foreignObject width=\"20.453125\" height=\"24\"><div xmlns=\"http://www.w3.org/1999/xhtml\" class=\"labelBkg\" style=\"display: table-cell; white-space: nowrap; line-height: 1.5; max-width: 200px; text-align: center;\"><span class=\"edgeLabel \"><p>No</p></span></div></foreignObject></g></g><g class=\"edgeLabel\" transform=\"translate(2132.640625, 2523)\"><g class=\"label\" transform=\"translate(-13.0546875, -12)\"><foreignObject width=\"26.109375\" height=\"24\"><div xmlns=\"http://www.w3.org/1999/xhtml\" class=\"labelBkg\" style=\"display: table-cell; white-space: nowrap; line-height: 1.5; max-width: 200px; text-align: center;\"><span class=\"edgeLabel \"><p>Yes</p></span></div></foreignObject></g></g><g class=\"edgeLabel\" transform=\"translate(2731.859375, 2523)\"><g class=\"label\" transform=\"translate(-10.2265625, -12)\"><foreignObject width=\"20.453125\" height=\"24\"><div xmlns=\"http://www.w3.org/1999/xhtml\" class=\"labelBkg\" style=\"display: table-cell; white-space: nowrap; line-height: 1.5; max-width: 200px; text-align: center;\"><span class=\"edgeLabel \"><p>No</p></span></div></foreignObject></g></g><g class=\"edgeLabel\" transform=\"translate(1595.140625, 3323)\"><g class=\"label\" transform=\"translate(-13.0546875, -12)\"><foreignObject width=\"26.109375\" height=\"24\"><div xmlns=\"http://www.w3.org/1999/xhtml\" class=\"labelBkg\" style=\"display: table-cell; white-space: nowrap; line-height: 1.5; max-width: 200px; text-align: center;\"><span class=\"edgeLabel \"><p>Yes</p></span></div></foreignObject></g></g><g class=\"edgeLabel\" transform=\"translate(2365.140625, 2947)\"><g class=\"label\" transform=\"translate(-10.2265625, -12)\"><foreignObject width=\"20.453125\" height=\"24\"><div xmlns=\"http://www.w3.org/1999/xhtml\" class=\"labelBkg\" style=\"display: table-cell; white-space: nowrap; line-height: 1.5; max-width: 200px; text-align: center;\"><span class=\"edgeLabel \"><p>No</p></span></div></foreignObject></g></g><g class=\"edgeLabel\" transform=\"translate(2060.140625, 3323)\"><g class=\"label\" transform=\"translate(-13.0546875, -12)\"><foreignObject width=\"26.109375\" height=\"24\"><div xmlns=\"http://www.w3.org/1999/xhtml\" class=\"labelBkg\" style=\"display: table-cell; white-space: nowrap; line-height: 1.5; max-width: 200px; text-align: center;\"><span class=\"edgeLabel \"><p>Yes</p></span></div></foreignObject></g></g><g class=\"edgeLabel\" transform=\"translate(2670.140625, 3323)\"><g class=\"label\" transform=\"translate(-10.2265625, -12)\"><foreignObject width=\"20.453125\" height=\"24\"><div xmlns=\"http://www.w3.org/1999/xhtml\" class=\"labelBkg\" style=\"display: table-cell; white-space: nowrap; line-height: 1.5; max-width: 200px; text-align: center;\"><span class=\"edgeLabel \"><p>No</p></span></div></foreignObject></g></g><g class=\"edgeLabel\"><g class=\"label\" transform=\"translate(0, 0)\"><foreignObject width=\"0\" height=\"0\"><div xmlns=\"http://www.w3.org/1999/xhtml\" class=\"labelBkg\" style=\"display: table-cell; white-space: nowrap; line-height: 1.5; max-width: 200px; text-align: center;\"><span class=\"edgeLabel \"></span></div></foreignObject></g></g><g class=\"edgeLabel\" transform=\"translate(2775.140625, 2523)\"><g class=\"label\" transform=\"translate(-13.0546875, -12)\"><foreignObject width=\"26.109375\" height=\"24\"><div xmlns=\"http://www.w3.org/1999/xhtml\" class=\"labelBkg\" style=\"display: table-cell; white-space: nowrap; line-height: 1.5; max-width: 200px; text-align: center;\"><span class=\"edgeLabel \"><p>Yes</p></span></div></foreignObject></g></g><g class=\"edgeLabel\" transform=\"translate(3085.140625, 2523)\"><g class=\"label\" transform=\"translate(-10.2265625, -12)\"><foreignObject width=\"20.453125\" height=\"24\"><div xmlns=\"http://www.w3.org/1999/xhtml\" class=\"labelBkg\" style=\"display: table-cell; white-space: nowrap; line-height: 1.5; max-width: 200px; text-align: center;\"><span class=\"edgeLabel \"><p>No</p></span></div></foreignObject></g></g><g class=\"edgeLabel\"><g class=\"label\" transform=\"translate(0, 0)\"><foreignObject width=\"0\" height=\"0\"><div xmlns=\"http://www.w3.org/1999/xhtml\" class=\"labelBkg\" style=\"display: table-cell; white-space: nowrap; line-height: 1.5; max-width: 200px; text-align: center;\"><span class=\"edgeLabel \"></span></div></foreignObject></g></g><g class=\"edgeLabel\" transform=\"translate(2763.61328125, 4455)\"><g class=\"label\" transform=\"translate(-13.0546875, -12)\"><foreignObject width=\"26.109375\" height=\"24\"><div xmlns=\"http://www.w3.org/1999/xhtml\" class=\"labelBkg\" style=\"display: table-cell; white-space: nowrap; line-height: 1.5; max-width: 200px; text-align: center;\"><span class=\"edgeLabel \"><p>Yes</p></span></div></foreignObject></g></g><g class=\"edgeLabel\" transform=\"translate(3241.66796875, 4363)\"><g class=\"label\" transform=\"translate(-10.2265625, -12)\"><foreignObject width=\"20.453125\" height=\"24\"><div xmlns=\"http://www.w3.org/1999/xhtml\" class=\"labelBkg\" style=\"display: table-cell; white-space: nowrap; line-height: 1.5; max-width: 200px; text-align: center;\"><span class=\"edgeLabel \"><p>No</p></span></div></foreignObject></g></g><g class=\"edgeLabel\"><g class=\"label\" transform=\"translate(0, 0)\"><foreignObject width=\"0\" height=\"0\"><div xmlns=\"http://www.w3.org/1999/xhtml\" class=\"labelBkg\" style=\"display: table-cell; white-space: nowrap; line-height: 1.5; max-width: 200px; text-align: center;\"><span class=\"edgeLabel \"></span></div></foreignObject></g></g><g class=\"edgeLabel\"><g class=\"label\" transform=\"translate(0, 0)\"><foreignObject width=\"0\" height=\"0\"><div xmlns=\"http://www.w3.org/1999/xhtml\" class=\"labelBkg\" style=\"display: table-cell; white-space: nowrap; line-height: 1.5; max-width: 200px; text-align: center;\"><span class=\"edgeLabel \"></span></div></foreignObject></g></g></g><g class=\"nodes\"><g class=\"node default  \" id=\"flowchart-0-0\" transform=\"translate(1069.640625, 159)\"><polygon points=\"151,0 302,-151 151,-302 0,-151\" class=\"label-container\" transform=\"translate(-151,151)\"/><g class=\"label\" style=\"\" transform=\"translate(-100, -36)\"><rect/><foreignObject width=\"200\" height=\"72\"><div xmlns=\"http://www.w3.org/1999/xhtml\" style=\"display: table; white-space: break-spaces; line-height: 1.5; max-width: 200px; text-align: center; width: 200px;\"><span class=\"nodeLabel \"><p>Do you have a structure of the modified protein with all hydrogens added?</p></span></div></foreignObject></g></g><g class=\"node default  \" id=\"flowchart-1-5\" transform=\"translate(1069.640625, 807)\"><polygon points=\"151,0 302,-151 151,-302 0,-151\" class=\"label-container\" transform=\"translate(-151,151)\"/><g class=\"label\" style=\"\" transform=\"translate(-100, -36)\"><rect/><foreignObject width=\"200\" height=\"72\"><div xmlns=\"http://www.w3.org/1999/xhtml\" style=\"display: table; white-space: break-spaces; line-height: 1.5; max-width: 200px; text-align: center; width: 200px;\"><span class=\"nodeLabel \"><p>Do you have a RDKit or OpenEye Molecule of your modified protein?</p></span></div></foreignObject></g></g><g class=\"node default  \" id=\"flowchart-2-17\" transform=\"translate(1379.140625, 1171)\"><polygon points=\"139,0 278,-139 139,-278 0,-139\" class=\"label-container\" transform=\"translate(-139,139)\"/><g class=\"label\" style=\"\" transform=\"translate(-100, -24)\"><rect/><foreignObject width=\"200\" height=\"48\"><div xmlns=\"http://www.w3.org/1999/xhtml\" style=\"display: table; white-space: break-spaces; line-height: 1.5; max-width: 200px; text-align: center; width: 200px;\"><span class=\"nodeLabel \"><p>Do you have an SDF file of the modified protein?</p></span></div></foreignObject></g></g><g class=\"node default  \" id=\"flowchart-3-23\" transform=\"translate(2143.640625, 1559)\"><polygon points=\"151,0 302,-151 151,-302 0,-151\" class=\"label-container\" transform=\"translate(-151,151)\"/><g class=\"label\" style=\"\" transform=\"translate(-100, -36)\"><rect/><foreignObject width=\"200\" height=\"72\"><div xmlns=\"http://www.w3.org/1999/xhtml\" style=\"display: table; white-space: break-spaces; line-height: 1.5; max-width: 200px; text-align: center; width: 200px;\"><span class=\"nodeLabel \"><p>Do you have a PDB file with CONECT records for the modified residue?</p></span></div></foreignObject></g></g><g class=\"node default  \" id=\"flowchart-4-39\" transform=\"translate(1967, 1947)\"><polygon points=\"139,0 278,-139 139,-278 0,-139\" class=\"label-container\" transform=\"translate(-139,139)\"/><g class=\"label\" style=\"\" transform=\"translate(-100, -24)\"><rect/><foreignObject width=\"200\" height=\"48\"><div xmlns=\"http://www.w3.org/1999/xhtml\" style=\"display: table; white-space: break-spaces; line-height: 1.5; max-width: 200px; text-align: center; width: 200px;\"><span class=\"nodeLabel \"><p>Is the modified residue a conjugated cysteine?</p></span></div></foreignObject></g></g><g class=\"node default  \" id=\"flowchart-5-45\" transform=\"translate(1645.5, 2323)\"><rect class=\"basic label-container\" style=\"\" x=\"-430\" y=\"-163\" width=\"860\" height=\"326\"/><g class=\"label\" style=\"\" transform=\"translate(-400, -148)\"><rect/><foreignObject width=\"800\" height=\"296\"><div xmlns=\"http://www.w3.org/1999/xhtml\" style=\"display: table; white-space: break-spaces; line-height: 1.5; max-width: 200px; text-align: center; width: 200px;\"><span class=\"nodeLabel \"><pre style=\"white-space: pre-wrap; text-align: left; width: 800px;\"><br />mol = Molecule.from_file('maleimide_hydrogenated.sdf')<br /># Mark leaving hydrogen where the bond will be made to the cysteine<br />for atom in mol.atoms:<br />    atom.metadata['substructure_atom'] = True<br />smarts = 'C(=O)C([H:1])CC(=O)'<br /># Since this pattern will be found multiple times due to symmetry, only use <br /># the first match ([0}) to identify a single leaving hydrogen. <br />    print(f'marking {atom_idx=} as leaving')<br />    mol.atom(atom_idx).metadata['substructure_atom'] = False<br />top = Topology.from_pdb('3ip9_dye.pdb', _additional_substructures=[mol])</pre></span></div></foreignObject></g></g><g class=\"node default  \" id=\"flowchart-6-47\" transform=\"translate(2288.5, 2323)\"><polygon points=\"163,0 326,-163 163,-326 0,-163\" class=\"label-container\" transform=\"translate(-163,163)\"/><g class=\"label\" style=\"\" transform=\"translate(-100, -48)\"><rect/><foreignObject width=\"200\" height=\"96\"><div xmlns=\"http://www.w3.org/1999/xhtml\" style=\"display: table; white-space: break-spaces; line-height: 1.5; max-width: 200px; text-align: center; width: 200px;\"><span class=\"nodeLabel \"><p>Does the ENTIRE modified residue have CONECT records (not just the covalent attachment)?</p></span></div></foreignObject></g></g><g class=\"node default  \" id=\"flowchart-7-53\" transform=\"translate(2132.640625, 2735)\"><polygon points=\"175,0 350,-175 175,-350 0,-175\" class=\"label-container\" transform=\"translate(-175,175)\"/><g class=\"label\" style=\"\" transform=\"translate(-100, -60)\"><rect/><foreignObject width=\"200\" height=\"120\"><div xmlns=\"http://www.w3.org/1999/xhtml\" style=\"display: table; white-space: break-spaces; line-height: 1.5; max-width: 200px; text-align: center; width: 200px;\"><span class=\"nodeLabel \"><p>Do you have an SDF/SMILES of the ENTIRE modified residue (including backbone atoms)?</p></span></div></foreignObject></g></g><g class=\"node default  \" id=\"flowchart-8-61\" transform=\"translate(2365.140625, 3135)\"><polygon points=\"151,0 302,-151 151,-302 0,-151\" class=\"label-container\" transform=\"translate(-151,151)\"/><g class=\"label\" style=\"\" transform=\"translate(-100, -36)\"><rect/><foreignObject width=\"200\" height=\"72\"><div xmlns=\"http://www.w3.org/1999/xhtml\" style=\"display: table; white-space: break-spaces; line-height: 1.5; max-width: 200px; text-align: center; width: 200px;\"><span class=\"nodeLabel \"><p>Do you have an SDF/SMILES of the covalent attachment?</p></span></div></foreignObject></g></g><g class=\"node default  \" id=\"flowchart-9-65\" transform=\"translate(2060.140625, 3655)\"><rect class=\"basic label-container\" style=\"\" x=\"-430\" y=\"-295\" width=\"860\" height=\"590\"/><g class=\"label\" style=\"\" transform=\"translate(-400, -280)\"><rect/><foreignObject width=\"800\" height=\"560\"><div xmlns=\"http://www.w3.org/1999/xhtml\" style=\"display: table; white-space: break-spaces; line-height: 1.5; max-width: 200px; text-align: center; width: 200px;\"><span class=\"nodeLabel \"><pre style=\"white-space: pre-wrap; text-align: left; width: 800px;\"><br />from ptm_prototype import react<br />from openff.pablo import ccd, CCD_RESIDUE_DEFINITION_CACHE<br /># Load canonical form of residue from CCD cache<br />cysteine = CCD_RESIDUE_DEFINITION_CACHE['CYS'][0].to_openff_molecule()<br /># Load covalent attachment<br />maleimide = Molecule.from_file('maleimide.sdf')<br /># Define the reaction that conjugates the canonical residue to the covalent attachment<br />thiol_maleimide_click_smarts = (<br />'[C:10]-[S:1]-[H:2]'<br />+ '.'<br />+ '[N:3]1-[C:4](=[O:5])-[C:6](-[H:11])=[C:7](-[H:12])-[C:8](=[O:9])-1'<br />+ '&gt;&gt;'<br />+ '[N:3]1-[C:4](=[O:5])-[C:6](-[H:2])(-[H:11])-[C@:7](-[S:1]-[C:10])(-[H:12])-[C:8](=[O:9])-1'<br />)<br /># Run the reaction, generate a conformer, and save the file<br />products = react([cysteine, maleimide], thiol_maleimide_click_smarts)<br />mod_res = [*products][0][0]<br />mod_res.generate_conformers()<br />mod_res.to_file('CYS-MAL.sdf', file_format='sdf')</pre></span></div></foreignObject></g></g><g class=\"node default  \" id=\"flowchart-10-59\" transform=\"translate(1827.640625, 4163)\"><rect class=\"basic label-container\" style=\"\" x=\"-430\" y=\"-163\" width=\"860\" height=\"326\"/><g class=\"label\" style=\"\" transform=\"translate(-400, -148)\"><rect/><foreignObject width=\"800\" height=\"296\"><div xmlns=\"http://www.w3.org/1999/xhtml\" style=\"display: table; white-space: break-spaces; line-height: 1.5; max-width: 200px; text-align: center; width: 200px;\"><span class=\"nodeLabel \"><pre style=\"white-space: pre-wrap; text-align: left; width: 800px;\">mod_res = Molecule.from_file('CYS-MAL.sdf')<br /># Mark leaving hydrogen where the bond will be made to the cysteine<br />for atom in mod_res.atoms:<br />    atom.metadata['substructure_atom'] = True<br />backbone_smarts = '[H:1][NH2X3][CH1X4][CH0X3](=[OH0X1])[OX2H1:2][H:3]'<br /># Since this pattern will be found multiple times due to symmetry, only use <br />#the first match ([0}) to identify a single leaving hydrogen. <br />for atom_idx in mod_res.chemical_environment_matches(backbone_smarts)[0]:<br />    print(f'marking {atom_idx=} as leaving')<br />    mod_res.atom(atom_idx).metadata['substructure_atom'] = False<br />top = Topology.from_pdb('3ip9_dye.pdb', _additional_substructures=[mod_res])<br /></pre></span></div></foreignObject></g></g><g class=\"node default  \" id=\"flowchart-11-41\" transform=\"translate(2930.140625, 2323)\"><polygon points=\"139,0 278,-139 139,-278 0,-139\" class=\"label-container\" transform=\"translate(-139,139)\"/><g class=\"label\" style=\"\" transform=\"translate(-100, -24)\"><rect/><foreignObject width=\"200\" height=\"48\"><div xmlns=\"http://www.w3.org/1999/xhtml\" style=\"display: table; white-space: break-spaces; line-height: 1.5; max-width: 200px; text-align: center; width: 200px;\"><span class=\"nodeLabel \"><p>Is the modified residue a conjugated cysteine?</p></span></div></foreignObject></g></g><g class=\"node default  \" id=\"flowchart-12-77\" transform=\"translate(2775.140625, 2735)\"><rect class=\"basic label-container\" style=\"\" x=\"-130\" y=\"-39\" width=\"260\" height=\"78\"/><g class=\"label\" style=\"\" transform=\"translate(-100, -24)\"><rect/><foreignObject width=\"200\" height=\"48\"><div xmlns=\"http://www.w3.org/1999/xhtml\" style=\"display: table; white-space: break-spaces; line-height: 1.5; max-width: 200px; text-align: center; width: 200px;\"><span class=\"nodeLabel \"><p>Follow PTM prototype notebook</p></span></div></foreignObject></g></g><g class=\"node default  \" id=\"flowchart-13-55\" transform=\"translate(3085.140625, 2735)\"><rect class=\"basic label-container\" style=\"\" x=\"-130\" y=\"-51\" width=\"260\" height=\"102\"/><g class=\"label\" style=\"\" transform=\"translate(-100, -36)\"><rect/><foreignObject width=\"200\" height=\"72\"><div xmlns=\"http://www.w3.org/1999/xhtml\" style=\"display: table; white-space: break-spaces; line-height: 1.5; max-width: 200px; text-align: center; width: 200px;\"><span class=\"nodeLabel \"><p>The ENTIRE modified residue must have a single residue name+number</p></span></div></foreignObject></g></g><g class=\"node default  \" id=\"flowchart-14-85\" transform=\"translate(3002.640625, 4163)\"><polygon points=\"151,0 302,-151 151,-302 0,-151\" class=\"label-container\" transform=\"translate(-151,151)\"/><g class=\"label\" style=\"\" transform=\"translate(-100, -36)\"><rect/><foreignObject width=\"200\" height=\"72\"><div xmlns=\"http://www.w3.org/1999/xhtml\" style=\"display: table; white-space: break-spaces; line-height: 1.5; max-width: 200px; text-align: center; width: 200px;\"><span class=\"nodeLabel \"><p>Do you have a SDF or SMILES of the whole residue?</p></span></div></foreignObject></g></g><g class=\"node default  \" id=\"flowchart-15-91\" transform=\"translate(3241.66796875, 4455)\"><rect class=\"basic label-container\" style=\"\" x=\"-430\" y=\"-55\" width=\"860\" height=\"110\"/><g class=\"label\" style=\"\" transform=\"translate(-400, -40)\"><rect/><foreignObject width=\"800\" height=\"80\"><div xmlns=\"http://www.w3.org/1999/xhtml\" style=\"display: table; white-space: break-spaces; line-height: 1.5; max-width: 200px; text-align: center; width: 200px;\"><span class=\"nodeLabel \"><pre style=\"white-space: pre-wrap; text-align: left; width: 800px;\"><br />Fill this in<br /></pre></span></div></foreignObject></g></g><g class=\"node default  \" id=\"flowchart-16-89\" transform=\"translate(3002.640625, 4615)\"><rect class=\"basic label-container\" style=\"\" x=\"-430\" y=\"-55\" width=\"860\" height=\"110\"/><g class=\"label\" style=\"\" transform=\"translate(-400, -40)\"><rect/><foreignObject width=\"800\" height=\"80\"><div xmlns=\"http://www.w3.org/1999/xhtml\" style=\"display: table; white-space: break-spaces; line-height: 1.5; max-width: 200px; text-align: center; width: 200px;\"><span class=\"nodeLabel \"><pre style=\"white-space: pre-wrap; text-align: left; width: 800px;\"><br />Fill this in<br /></pre></span></div></foreignObject></g></g><g class=\"node default  \" id=\"flowchart-17-67\" transform=\"translate(2670.140625, 3655)\"><rect class=\"basic label-container\" style=\"\" x=\"-130\" y=\"-39\" width=\"260\" height=\"78\"/><g class=\"label\" style=\"\" transform=\"translate(-100, -24)\"><rect/><foreignObject width=\"200\" height=\"48\"><div xmlns=\"http://www.w3.org/1999/xhtml\" style=\"display: table; white-space: break-spaces; line-height: 1.5; max-width: 200px; text-align: center; width: 200px;\"><span class=\"nodeLabel \"><p>Write in to let us know what you DO have</p></span></div></foreignObject></g></g><g class=\"node default  \" id=\"flowchart-0A-3\" transform=\"translate(980.61328125, 471)\"><rect class=\"basic label-container\" style=\"\" x=\"-130\" y=\"-87\" width=\"260\" height=\"174\"/><g class=\"label\" style=\"\" transform=\"translate(-100, -72)\"><rect/><foreignObject width=\"200\" height=\"144\"><div xmlns=\"http://www.w3.org/1999/xhtml\" style=\"display: table; white-space: break-spaces; line-height: 1.5; max-width: 200px; text-align: center; width: 200px;\"><span class=\"nodeLabel \"><p>All OpenFF protein loading methods require explicit hydrogens to be present. Consider using PDBFixer, pdb2pqr, or another protein preparation tool.</p></span></div></foreignObject></g></g><g class=\"node default  \" id=\"flowchart-1A-13\" transform=\"translate(760.140625, 1171)\"><rect class=\"basic label-container\" style=\"\" x=\"-430\" y=\"-67\" width=\"860\" height=\"134\"/><g class=\"label\" style=\"\" transform=\"translate(-400, -52)\"><rect/><foreignObject width=\"800\" height=\"104\"><div xmlns=\"http://www.w3.org/1999/xhtml\" style=\"display: table; white-space: break-spaces; line-height: 1.5; max-width: 200px; text-align: center; width: 200px;\"><span class=\"nodeLabel \"><pre style=\"white-space: pre-wrap; text-align: left; width: 800px;\">Molecule.from_rdkit(rdmol)<br /># or<br />Molecule.from_openeye(oemol)</pre></span></div></foreignObject></g></g><g class=\"node default  \" id=\"flowchart-2A-21\" transform=\"translate(893, 1559)\"><polygon points=\"175,0 350,-175 175,-350 0,-175\" class=\"label-container\" transform=\"translate(-175,175)\"/><g class=\"label\" style=\"\" transform=\"translate(-100, -60)\"><rect/><foreignObject width=\"200\" height=\"120\"><div xmlns=\"http://www.w3.org/1999/xhtml\" style=\"display: table; white-space: break-spaces; line-height: 1.5; max-width: 200px; text-align: center; width: 200px;\"><span class=\"nodeLabel \"><p>Do you ALSO have a PDB file with residue information that you want to preserve in the final OpenFF Molecule?</p></span></div></foreignObject></g></g><g class=\"node default  \" id=\"flowchart-2AA-27\" transform=\"translate(438, 1947)\"><rect class=\"basic label-container\" style=\"\" x=\"-430\" y=\"-91\" width=\"860\" height=\"182\"/><g class=\"label\" style=\"\" transform=\"translate(-400, -76)\"><rect/><foreignObject width=\"800\" height=\"152\"><div xmlns=\"http://www.w3.org/1999/xhtml\" style=\"display: table; white-space: break-spaces; line-height: 1.5; max-width: 200px; text-align: center; width: 200px;\"><span class=\"nodeLabel \"><pre style=\"white-space: pre-wrap; text-align: left; width: 800px;\">ref_mol = Molecule.from_file('protein.sdf')<br />from openmm.app import PDBFile<br />pdb = PDBFile('protein.pdb')<br />top = Topology.from_openmm(pdb.topology, unique_molecules=[ref_mol], positions=pdb.positions)</pre></span></div></foreignObject></g></g><g class=\"node default  \" id=\"flowchart-2AB-29\" transform=\"translate(1348, 1947)\"><rect class=\"basic label-container\" style=\"\" x=\"-430\" y=\"-67\" width=\"860\" height=\"134\"/><g class=\"label\" style=\"\" transform=\"translate(-400, -52)\"><rect/><foreignObject width=\"800\" height=\"104\"><div xmlns=\"http://www.w3.org/1999/xhtml\" style=\"display: table; white-space: break-spaces; line-height: 1.5; max-width: 200px; text-align: center; width: 200px;\"><span class=\"nodeLabel \"><pre style=\"white-space: pre-wrap; text-align: left; width: 800px;\">offmol = Molecule.from_file('protein.sdf')<br />#(then optionally)<br />offmol.percieve_residues()</pre></span></div></foreignObject></g></g><g class=\"node default  \" id=\"flowchart-2P5-34\" transform=\"translate(1400.640625, 159)\"><rect class=\"basic label-container\" style=\"\" x=\"-130\" y=\"-99\" width=\"260\" height=\"198\"/><g class=\"label\" style=\"\" transform=\"translate(-100, -84)\"><rect/><foreignObject width=\"200\" height=\"168\"><div xmlns=\"http://www.w3.org/1999/xhtml\" style=\"display: table; white-space: break-spaces; line-height: 1.5; max-width: 200px; text-align: center; width: 200px;\"><span class=\"nodeLabel \"><p>You must have SDF/SMILES of at least modification, if not the whole residue (for CCD residues, you can download the 'ideal' SDF from RCSB PDB)</p></span></div></foreignObject></g></g></g></g></g></svg>"
      ],
      "text/plain": [
       "<mermaid.__main__.Mermaid at 0x12ccb59d0>"
      ]
     },
     "execution_count": 81,
     "metadata": {},
     "output_type": "execute_result"
    }
   ],
   "source": [
    "import mermaid as md\n",
    "from mermaid.graph import Graph\n",
    "\n",
    "#sequence = Graph('Sequence-diagram',\"\"\"\n",
    "# %%{init: {'themeVariables': { 'fontSize': '10px' }}}%%\n",
    "# %%{init: {'theme': 'base', 'themeVariables': { 'darkMode': false }}}%%\n",
    "\n",
    "sequence = Graph('flowchart',\"\"\"\n",
    "%%{init: {'themeVariables': {'nodeWidth': 500, 'wrap': false}}}%%\n",
    "flowchart TB\n",
    "    0@{ shape: diamond, label: \"Do you have a structure of the modified protein with all hydrogens added?\" }\n",
    "    0-->|No|0A\n",
    "    0-->|Yes|1\n",
    "    \n",
    "    0A@{ shape: rectangle, label: \"All OpenFF protein loading methods require explicit hydrogens to be present. Consider using PDBFixer, pdb2pqr, or another protein preparation tool.\"}\n",
    "    0A-->|Ok, I've added explicit hydrogens|1\n",
    "    \n",
    "    1@{ shape: diamond, label: \"Do you have a RDKit or OpenEye Molecule of your modified protein?\" }\n",
    "    1-->|Yes|1A\n",
    "    1A@{ shape: rectangle, label: \"<pre style='white-space: pre-wrap; text-align: left; width: 800px;'>Molecule.from_rdkit(rdmol)\n",
    "    # or\n",
    "    Molecule.from_openeye(oemol)</pre>\"}\n",
    "    \n",
    "    1-->|No|2\n",
    "    2@{ shape: diamond, label: \"Do you have an SDF file of the modified protein?\"}\n",
    "    2-->|Yes|2A\n",
    "    2-->|No|3\n",
    "    \n",
    "    2A@{ shape: diamond, label: \"Do you ALSO have a PDB file with residue information that you want to preserve in the final OpenFF Molecule?\"}\n",
    "    2A-->|Yes|2AA\n",
    "    2A-->|No|2AB\n",
    "\n",
    "\n",
    "    2AA@{ shape: rectangle, label: \"<pre style='white-space: pre-wrap; text-align: left; width: 800px;'>ref_mol = Molecule.from_file('protein.sdf')\n",
    "    from openmm.app import PDBFile\n",
    "    pdb = PDBFile('protein.pdb')\n",
    "    top = Topology.from_openmm(pdb.topology, unique_molecules=[ref_mol], positions=pdb.positions)</pre>\"}\n",
    "    \n",
    "    2AB@{ shape: rectangle, label: \"<pre style='white-space: pre-wrap; text-align: left; width: 800px;'>offmol = Molecule.from_file('protein.sdf')\n",
    "    #(then optionally)\n",
    "    offmol.percieve_residues()</pre>\"}\n",
    "    \n",
    "    2P5@{ shape: rectangle, label: \"You must have SDF/SMILES of at least modification, if not the whole residue (for CCD residues, you can download the 'ideal' SDF from RCSB PDB)\"}\n",
    "    \n",
    "    3@{ shape: diamond, label: \"Do you have a PDB file with CONECT records for the modified residue?\"}\n",
    "    3-->|Yes|4\n",
    "    3-->|No|11\n",
    "    \n",
    "    4@{ shape: diamond, label: \"Is the modified residue a conjugated cysteine?\"}\n",
    "    4-->|Yes|5\n",
    "    4-->|No|6\n",
    "\n",
    "    5@{ shape: rectangle, label: \"<pre style='white-space: pre-wrap; text-align: left; width: 800px;'>\n",
    "mol = Molecule.from_file('maleimide_hydrogenated.sdf')\n",
    "# Mark leaving hydrogen where the bond will be made to the cysteine\n",
    "for atom in mol.atoms:\n",
    "&nbsp;&nbsp;&nbsp;&nbsp;atom.metadata['substructure_atom'] = True\n",
    "smarts = 'C(=O)C([H:1])CC(=O)'\n",
    "# Since this pattern will be found multiple times due to symmetry, only use \n",
    "# the first match ([0}) to identify a single leaving hydrogen. \n",
    "&nbsp;&nbsp;&nbsp;&nbsp;print(f'marking {atom_idx=} as leaving')\n",
    "&nbsp;&nbsp;&nbsp;&nbsp;mol.atom(atom_idx).metadata['substructure_atom'] = False\n",
    "top = Topology.from_pdb('3ip9_dye.pdb', _additional_substructures=[mol])</pre>\"}\n",
    "    \n",
    "    6@{ shape: diamond, label: \"Does the ENTIRE modified residue have CONECT records (not just the covalent attachment)?\"}\n",
    "    6-->|Yes|7\n",
    "    6-->|No|13\n",
    "\n",
    "    7@{ shape: diamond, label: \"Do you have an SDF/SMILES of the ENTIRE modified residue (including backbone atoms)?\"}\n",
    "    7-->|Yes|10\n",
    "    7-->|No|8\n",
    "\n",
    "    8@{ shape: diamond, label: \"Do you have an SDF/SMILES of the covalent attachment?\"}\n",
    "    8-->|Yes|9\n",
    "    8-->|No|17\n",
    "\n",
    "    9@{ shape: rectangle, label: \"<pre style='white-space: pre-wrap; text-align: left; width: 800px;'>\n",
    "from ptm_prototype import react\n",
    "from openff.pablo import ccd, CCD_RESIDUE_DEFINITION_CACHE\n",
    "# Load canonical form of residue from CCD cache\n",
    "cysteine = CCD_RESIDUE_DEFINITION_CACHE['CYS'][0].to_openff_molecule()\n",
    "# Load covalent attachment\n",
    "maleimide = Molecule.from_file('maleimide.sdf')\n",
    "# Define the reaction that conjugates the canonical residue to the covalent attachment\n",
    "thiol_maleimide_click_smarts = (\n",
    "    '[C:10]-[S:1]-[H:2]'\n",
    "    + '.'\n",
    "    + '[N:3]1-[C:4](=[O:5])-[C:6](-[H:11])=[C:7](-[H:12])-[C:8](=[O:9])-1'\n",
    "    + '>>'\n",
    "    + '[N:3]1-[C:4](=[O:5])-[C:6](-[H:2])(-[H:11])-[C@:7](-[S:1]-[C:10])(-[H:12])-[C:8](=[O:9])-1'\n",
    ")\n",
    "# Run the reaction, generate a conformer, and save the file\n",
    "products = react([cysteine, maleimide], thiol_maleimide_click_smarts)\n",
    "mod_res = [*products][0][0]\n",
    "mod_res.generate_conformers()\n",
    "mod_res.to_file('CYS-MAL.sdf', file_format='sdf')</pre>\"}\n",
    "\n",
    "    9-->10\n",
    "    \n",
    "    10@{ shape: rectangle, label: \"<pre style='white-space: pre-wrap; text-align: left; width: 800px;'>mod_res = Molecule.from_file('CYS-MAL.sdf')\n",
    "# Mark leaving hydrogen where the bond will be made to the cysteine\n",
    "for atom in mod_res.atoms:\n",
    "&nbsp;&nbsp;&nbsp;&nbsp;atom.metadata['substructure_atom'] = True\n",
    "backbone_smarts = '[H:1][NH2X3][CH1X4][CH0X3](=[OH0X1])[OX2H1:2][H:3]'\n",
    "# Since this pattern will be found multiple times due to symmetry, only use \n",
    "#the first match ([0}) to identify a single leaving hydrogen. \n",
    "for atom_idx in mod_res.chemical_environment_matches(backbone_smarts)[0]:\n",
    "&nbsp;&nbsp;&nbsp;&nbsp;print(f'marking {atom_idx=} as leaving')\n",
    "&nbsp;&nbsp;&nbsp;&nbsp;mod_res.atom(atom_idx).metadata['substructure_atom'] = False\n",
    "top = Topology.from_pdb('3ip9_dye.pdb', _additional_substructures=[mod_res])\n",
    "</pre>\"}\n",
    "\n",
    "    11@{ shape: diamond, label: \"Is the modified residue a conjugated cysteine?\"}\n",
    "    11-->|Yes|12\n",
    "    11-->|No|13\n",
    "\n",
    "    12@{ shape: rectangle, label: \"Follow PTM prototype notebook\"}\n",
    "\n",
    "    13@{ shape: rectangle, label: \"The ENTIRE modified residue must have a single residue name+number\"}\n",
    "    13-->14\n",
    "    \n",
    "    14@{ shape: diamond, label: \"Do you have a SDF or SMILES of the whole residue?\"}\n",
    "    14-->|Yes|16\n",
    "    14-->|No|15\n",
    "    \n",
    "    15@{ shape: rectangle, label: \"<pre style='white-space: pre-wrap; text-align: left; width: 800px;'>\n",
    "    Fill this in\n",
    "    </pre>\"}\n",
    "    15-->16\n",
    "\n",
    "    16@{ shape: rectangle, label: \"<pre style='white-space: pre-wrap; text-align: left; width: 800px;'>\n",
    "    Fill this in\n",
    "    </pre>\"}\n",
    "\n",
    "    17@{ shape: rectangle, label: \"Write in to let us know what you DO have\"}\n",
    "    17-->14\n",
    "    \n",
    "\n",
    "\n",
    "\"\"\")\n",
    "render = md.Mermaid(sequence)\n",
    "render # !! note this only works in the notebook that rendered the html."
   ]
  },
  {
   "cell_type": "code",
   "execution_count": null,
   "id": "226bfcd3-b971-4b51-bae1-3083e9492c51",
   "metadata": {},
   "outputs": [],
   "source": [
    "import numpy as np\n",
    "type(round(np.float64(2.2)))"
   ]
  },
  {
   "cell_type": "code",
   "execution_count": null,
   "id": "bb38c0cf-283f-4cf1-be13-4b5db1432a33",
   "metadata": {},
   "outputs": [],
   "source": [
    "from openff.toolkit import Molecule, Topology"
   ]
  },
  {
   "cell_type": "code",
   "execution_count": null,
   "id": "dfc9c194-27ce-404b-9a67-6c92fc1c9a50",
   "metadata": {},
   "outputs": [],
   "source": [
    "# YES CONECT/YES protein SDF/NO preserve metadata\n",
    "protein = Molecule.from_file(\"1npz_prot_lig.sdf\")\n",
    "protein.perceive_residues()"
   ]
  },
  {
   "cell_type": "code",
   "execution_count": null,
   "id": "d0c867a3-6410-49b9-9331-5539f6eb4fe5",
   "metadata": {},
   "outputs": [],
   "source": [
    "# YES CONECT/YES protein SDF/YES preserve metadata\n",
    "ref_mol = Molecule.from_file(\"1npz_prot_lig.sdf\")\n",
    "from openmm.app import PDBFile\n",
    "pdb = PDBFile('1npz_vanilla_oe_prot-lig.pdb')\n",
    "top = Topology.from_openmm(pdb.topology, unique_molecules=[ref_mol], positions=pdb.positions)"
   ]
  },
  {
   "cell_type": "code",
   "execution_count": 3,
   "id": "744028f1-a378-4391-8813-7c027e13ce7c",
   "metadata": {
    "execution": {
     "iopub.execute_input": "2025-03-24T16:08:18.025192Z",
     "iopub.status.busy": "2025-03-24T16:08:18.024799Z",
     "iopub.status.idle": "2025-03-24T16:08:18.028479Z",
     "shell.execute_reply": "2025-03-24T16:08:18.027837Z",
     "shell.execute_reply.started": "2025-03-24T16:08:18.025168Z"
    }
   },
   "outputs": [],
   "source": [
    "from openff.toolkit import Molecule, Topology\n",
    "from ptm_prototype import react"
   ]
  },
  {
   "cell_type": "code",
   "execution_count": 44,
   "id": "ccc49e39-916e-40d1-bdb7-91a0d88c1bf8",
   "metadata": {
    "execution": {
     "iopub.execute_input": "2025-03-24T17:36:53.084393Z",
     "iopub.status.busy": "2025-03-24T17:36:53.083752Z",
     "iopub.status.idle": "2025-03-24T17:36:53.519031Z",
     "shell.execute_reply": "2025-03-24T17:36:53.518763Z",
     "shell.execute_reply.started": "2025-03-24T17:36:53.084345Z"
    }
   },
   "outputs": [
    {
     "data": {
      "application/vnd.jupyter.widget-view+json": {
       "model_id": "96363d5307464bc9aef157e9d90467a4",
       "version_major": 2,
       "version_minor": 0
      },
      "text/plain": [
       "NGLWidget(max_frame=1)"
      ]
     },
     "metadata": {},
     "output_type": "display_data"
    }
   ],
   "source": [
    "mol = Molecule.from_file('maleimide.sdf')\n",
    "h2 = Molecule.from_smiles('[H][H]')\n",
    "prods = react([h2, mol], \"[H:3][H:4].[C:7](=O)-[CX3:1]([H:5])=[CX3:2]([H:6])-[C:8](=O) >> [C:7](=O)-[CX4:1]([H:3])([H:5])-[CX4:2]([H:4])([H:6])-[C:8](=O)\")\n",
    "hydrogenated = [*prods][0][0]\n",
    "hydrogenated.generate_conformers()\n",
    "hydrogenated"
   ]
  },
  {
   "cell_type": "code",
   "execution_count": 34,
   "id": "79a4686c-9b93-4a92-b684-fd13fc06abdd",
   "metadata": {
    "execution": {
     "iopub.execute_input": "2025-03-24T16:20:17.237050Z",
     "iopub.status.busy": "2025-03-24T16:20:17.236507Z",
     "iopub.status.idle": "2025-03-24T16:20:17.251034Z",
     "shell.execute_reply": "2025-03-24T16:20:17.250364Z",
     "shell.execute_reply.started": "2025-03-24T16:20:17.237013Z"
    }
   },
   "outputs": [],
   "source": [
    "hydrogenated.to_file('maleimide_hydrogenated.sdf', file_format='sdf')"
   ]
  },
  {
   "cell_type": "markdown",
   "id": "9a4156ea-17fe-4b8e-add9-17e7dfc7dae1",
   "metadata": {},
   "source": [
    "# 5"
   ]
  },
  {
   "cell_type": "code",
   "execution_count": 36,
   "id": "2ffd3302-3e38-4e41-ab82-9c2ddacaf4a2",
   "metadata": {
    "execution": {
     "iopub.execute_input": "2025-03-24T16:23:13.011028Z",
     "iopub.status.busy": "2025-03-24T16:23:13.010348Z",
     "iopub.status.idle": "2025-03-24T16:23:17.070422Z",
     "shell.execute_reply": "2025-03-24T16:23:17.070140Z",
     "shell.execute_reply.started": "2025-03-24T16:23:13.010977Z"
    }
   },
   "outputs": [
    {
     "name": "stdout",
     "output_type": "stream",
     "text": [
      "marking atom_idx=3 as leaving\n"
     ]
    }
   ],
   "source": [
    "mol = Molecule.from_file('maleimide_hydrogenated.sdf')\n",
    "# Mark leaving hydrogen where the bond will be made to the cysteine\n",
    "for atom in mol.atoms:\n",
    "    atom.metadata['substructure_atom'] = True\n",
    "smarts = 'C(=O)C([H:1])CC(=O)'\n",
    "# Since this pattern will be found multiple times due to symmetry, only use \n",
    "#the first match ([0}) to identify a single leaving hydrogen. \n",
    "for atom_idx in mol.chemical_environment_matches(smarts)[0]:\n",
    "    print(f\"marking {atom_idx=} as leaving\")\n",
    "    mol.atom(atom_idx).metadata['substructure_atom'] = False\n",
    "top = Topology.from_pdb('3ip9_dye.pdb', _additional_substructures=[mol])"
   ]
  },
  {
   "cell_type": "markdown",
   "id": "61a8636a-588d-406a-98d7-38168a3ae1d3",
   "metadata": {},
   "source": [
    "# 9"
   ]
  },
  {
   "cell_type": "code",
   "execution_count": 55,
   "id": "66c5af1a-7262-4f13-8980-47463320ec54",
   "metadata": {
    "execution": {
     "iopub.execute_input": "2025-03-24T18:17:12.161134Z",
     "iopub.status.busy": "2025-03-24T18:17:12.160753Z",
     "iopub.status.idle": "2025-03-24T18:17:12.767159Z",
     "shell.execute_reply": "2025-03-24T18:17:12.766868Z",
     "shell.execute_reply.started": "2025-03-24T18:17:12.161108Z"
    }
   },
   "outputs": [
    {
     "data": {
      "image/svg+xml": [
       "<svg xmlns=\"http://www.w3.org/2000/svg\" xmlns:rdkit=\"http://www.rdkit.org/xml\" xmlns:xlink=\"http://www.w3.org/1999/xlink\" version=\"1.1\" baseProfile=\"full\" xml:space=\"preserve\" width=\"500px\" height=\"300px\" viewBox=\"0 0 500 300\">\n",
       "<!-- END OF HEADER -->\n",
       "<rect style=\"opacity:1.0;fill:#FFFFFF;stroke:none\" width=\"500.0\" height=\"300.0\" x=\"0.0\" y=\"0.0\"> </rect>\n",
       "<path class=\"bond-0 atom-0 atom-1\" d=\"M 232.1,158.8 L 225.7,162.3\" style=\"fill:none;fill-rule:evenodd;stroke:#0000FF;stroke-width:2.0px;stroke-linecap:butt;stroke-linejoin:miter;stroke-opacity:1\"/>\n",
       "<path class=\"bond-0 atom-0 atom-1\" d=\"M 225.7,162.3 L 219.3,165.8\" style=\"fill:none;fill-rule:evenodd;stroke:#000000;stroke-width:2.0px;stroke-linecap:butt;stroke-linejoin:miter;stroke-opacity:1\"/>\n",
       "<path class=\"bond-1 atom-1 atom-2\" d=\"M 220.8,165.0 L 214.0,161.8\" style=\"fill:none;fill-rule:evenodd;stroke:#000000;stroke-width:2.0px;stroke-linecap:butt;stroke-linejoin:miter;stroke-opacity:1\"/>\n",
       "<path class=\"bond-1 atom-1 atom-2\" d=\"M 214.0,161.8 L 207.3,158.5\" style=\"fill:none;fill-rule:evenodd;stroke:#FF0000;stroke-width:2.0px;stroke-linecap:butt;stroke-linejoin:miter;stroke-opacity:1\"/>\n",
       "<path class=\"bond-1 atom-1 atom-2\" d=\"M 219.6,167.5 L 212.9,164.3\" style=\"fill:none;fill-rule:evenodd;stroke:#000000;stroke-width:2.0px;stroke-linecap:butt;stroke-linejoin:miter;stroke-opacity:1\"/>\n",
       "<path class=\"bond-1 atom-1 atom-2\" d=\"M 212.9,164.3 L 206.1,161.0\" style=\"fill:none;fill-rule:evenodd;stroke:#FF0000;stroke-width:2.0px;stroke-linecap:butt;stroke-linejoin:miter;stroke-opacity:1\"/>\n",
       "<path class=\"bond-2 atom-1 atom-3\" d=\"M 219.3,165.8 L 222.7,184.2\" style=\"fill:none;fill-rule:evenodd;stroke:#000000;stroke-width:2.0px;stroke-linecap:butt;stroke-linejoin:miter;stroke-opacity:1\"/>\n",
       "<path class=\"bond-3 atom-3 atom-4\" d=\"M 222.7,184.2 L 207.8,185.3\" style=\"fill:none;fill-rule:evenodd;stroke:#000000;stroke-width:2.0px;stroke-linecap:butt;stroke-linejoin:miter;stroke-opacity:1\"/>\n",
       "<path class=\"bond-4 atom-3 atom-5\" d=\"M 222.7,184.2 L 222.2,198.3\" style=\"fill:none;fill-rule:evenodd;stroke:#000000;stroke-width:2.0px;stroke-linecap:butt;stroke-linejoin:miter;stroke-opacity:1\"/>\n",
       "<path class=\"bond-5 atom-3 atom-6\" d=\"M 222.7,184.2 L 241.2,186.6\" style=\"fill:none;fill-rule:evenodd;stroke:#000000;stroke-width:2.0px;stroke-linecap:butt;stroke-linejoin:miter;stroke-opacity:1\"/>\n",
       "<path class=\"bond-6 atom-6 atom-7\" d=\"M 241.2,186.6 L 239.6,193.6\" style=\"fill:none;fill-rule:evenodd;stroke:#000000;stroke-width:2.0px;stroke-linecap:butt;stroke-linejoin:miter;stroke-opacity:1\"/>\n",
       "<path class=\"bond-6 atom-6 atom-7\" d=\"M 239.6,193.6 L 237.9,200.6\" style=\"fill:none;fill-rule:evenodd;stroke:#CCCC00;stroke-width:2.0px;stroke-linecap:butt;stroke-linejoin:miter;stroke-opacity:1\"/>\n",
       "<path class=\"bond-7 atom-7 atom-8\" d=\"M 240.0,208.4 L 245.0,213.7\" style=\"fill:none;fill-rule:evenodd;stroke:#CCCC00;stroke-width:2.0px;stroke-linecap:butt;stroke-linejoin:miter;stroke-opacity:1\"/>\n",
       "<path class=\"bond-7 atom-7 atom-8\" d=\"M 245.0,213.7 L 250.1,218.9\" style=\"fill:none;fill-rule:evenodd;stroke:#000000;stroke-width:2.0px;stroke-linecap:butt;stroke-linejoin:miter;stroke-opacity:1\"/>\n",
       "<path class=\"bond-8 atom-6 atom-9\" d=\"M 241.2,186.6 L 254.7,189.6 L 253.8,192.2 Z\" style=\"fill:#000000;fill-rule:evenodd;fill-opacity:1;stroke:#000000;stroke-width:0.5px;stroke-linecap:butt;stroke-linejoin:miter;stroke-opacity:1;\"/>\n",
       "<path class=\"bond-9 atom-6 atom-10\" d=\"M 241.2,186.6 L 249.2,169.7\" style=\"fill:none;fill-rule:evenodd;stroke:#000000;stroke-width:2.0px;stroke-linecap:butt;stroke-linejoin:miter;stroke-opacity:1\"/>\n",
       "<path class=\"bond-10 atom-10 atom-11\" d=\"M 248.5,171.3 L 256.0,169.9\" style=\"fill:none;fill-rule:evenodd;stroke:#000000;stroke-width:2.0px;stroke-linecap:butt;stroke-linejoin:miter;stroke-opacity:1\"/>\n",
       "<path class=\"bond-10 atom-10 atom-11\" d=\"M 256.0,169.9 L 263.6,168.5\" style=\"fill:none;fill-rule:evenodd;stroke:#FF0000;stroke-width:2.0px;stroke-linecap:butt;stroke-linejoin:miter;stroke-opacity:1\"/>\n",
       "<path class=\"bond-10 atom-10 atom-11\" d=\"M 248.0,168.6 L 255.5,167.2\" style=\"fill:none;fill-rule:evenodd;stroke:#000000;stroke-width:2.0px;stroke-linecap:butt;stroke-linejoin:miter;stroke-opacity:1\"/>\n",
       "<path class=\"bond-10 atom-10 atom-11\" d=\"M 255.5,167.2 L 263.1,165.8\" style=\"fill:none;fill-rule:evenodd;stroke:#FF0000;stroke-width:2.0px;stroke-linecap:butt;stroke-linejoin:miter;stroke-opacity:1\"/>\n",
       "<path class=\"bond-11 atom-10 atom-0\" d=\"M 249.2,169.7 L 244.2,165.0\" style=\"fill:none;fill-rule:evenodd;stroke:#000000;stroke-width:2.0px;stroke-linecap:butt;stroke-linejoin:miter;stroke-opacity:1\"/>\n",
       "<path class=\"bond-11 atom-10 atom-0\" d=\"M 244.2,165.0 L 239.3,160.3\" style=\"fill:none;fill-rule:evenodd;stroke:#0000FF;stroke-width:2.0px;stroke-linecap:butt;stroke-linejoin:miter;stroke-opacity:1\"/>\n",
       "<path class=\"bond-12 atom-12 atom-8\" d=\"M 245.1,236.8 L 250.1,218.9\" style=\"fill:none;fill-rule:evenodd;stroke:#000000;stroke-width:2.0px;stroke-linecap:butt;stroke-linejoin:miter;stroke-opacity:1\"/>\n",
       "<path class=\"bond-13 atom-8 atom-13\" d=\"M 250.1,218.9 L 259.8,209.9\" style=\"fill:none;fill-rule:evenodd;stroke:#000000;stroke-width:2.0px;stroke-linecap:butt;stroke-linejoin:miter;stroke-opacity:1\"/>\n",
       "<path class=\"bond-14 atom-8 atom-14\" d=\"M 250.1,218.9 L 264.3,223.1\" style=\"fill:none;fill-rule:evenodd;stroke:#000000;stroke-width:2.0px;stroke-linecap:butt;stroke-linejoin:miter;stroke-opacity:1\"/>\n",
       "<path class=\"bond-15 atom-15 atom-12\" d=\"M 235.5,246.4 L 240.3,241.6\" style=\"fill:none;fill-rule:evenodd;stroke:#0000FF;stroke-width:2.0px;stroke-linecap:butt;stroke-linejoin:miter;stroke-opacity:1\"/>\n",
       "<path class=\"bond-15 atom-15 atom-12\" d=\"M 240.3,241.6 L 245.1,236.8\" style=\"fill:none;fill-rule:evenodd;stroke:#000000;stroke-width:2.0px;stroke-linecap:butt;stroke-linejoin:miter;stroke-opacity:1\"/>\n",
       "<path class=\"bond-16 atom-12 atom-16\" d=\"M 245.1,236.8 L 258.3,249.9\" style=\"fill:none;fill-rule:evenodd;stroke:#000000;stroke-width:2.0px;stroke-linecap:butt;stroke-linejoin:miter;stroke-opacity:1\"/>\n",
       "<path class=\"bond-17 atom-12 atom-17\" d=\"M 241.6,236.2 L 241.8,235.5\" style=\"fill:none;fill-rule:evenodd;stroke:#000000;stroke-width:1.0px;stroke-linecap:butt;stroke-linejoin:miter;stroke-opacity:1\"/>\n",
       "<path class=\"bond-17 atom-12 atom-17\" d=\"M 238.1,235.6 L 238.4,234.3\" style=\"fill:none;fill-rule:evenodd;stroke:#000000;stroke-width:1.0px;stroke-linecap:butt;stroke-linejoin:miter;stroke-opacity:1\"/>\n",
       "<path class=\"bond-17 atom-12 atom-17\" d=\"M 234.6,235.0 L 235.1,233.0\" style=\"fill:none;fill-rule:evenodd;stroke:#000000;stroke-width:1.0px;stroke-linecap:butt;stroke-linejoin:miter;stroke-opacity:1\"/>\n",
       "<path class=\"bond-17 atom-12 atom-17\" d=\"M 231.1,234.4 L 231.8,231.7\" style=\"fill:none;fill-rule:evenodd;stroke:#000000;stroke-width:1.0px;stroke-linecap:butt;stroke-linejoin:miter;stroke-opacity:1\"/>\n",
       "<path class=\"bond-18 atom-15 atom-18\" d=\"M 228.3,249.0 L 222.9,247.6\" style=\"fill:none;fill-rule:evenodd;stroke:#0000FF;stroke-width:2.0px;stroke-linecap:butt;stroke-linejoin:miter;stroke-opacity:1\"/>\n",
       "<path class=\"bond-18 atom-15 atom-18\" d=\"M 222.9,247.6 L 217.6,246.1\" style=\"fill:none;fill-rule:evenodd;stroke:#000000;stroke-width:2.0px;stroke-linecap:butt;stroke-linejoin:miter;stroke-opacity:1\"/>\n",
       "<path class=\"bond-19 atom-15 atom-19\" d=\"M 233.1,254.6 L 234.3,259.0\" style=\"fill:none;fill-rule:evenodd;stroke:#0000FF;stroke-width:2.0px;stroke-linecap:butt;stroke-linejoin:miter;stroke-opacity:1\"/>\n",
       "<path class=\"bond-19 atom-15 atom-19\" d=\"M 234.3,259.0 L 235.5,263.4\" style=\"fill:none;fill-rule:evenodd;stroke:#000000;stroke-width:2.0px;stroke-linecap:butt;stroke-linejoin:miter;stroke-opacity:1\"/>\n",
       "<path class=\"bond-20 atom-16 atom-20\" d=\"M 257.9,251.5 L 265.1,249.5\" style=\"fill:none;fill-rule:evenodd;stroke:#000000;stroke-width:2.0px;stroke-linecap:butt;stroke-linejoin:miter;stroke-opacity:1\"/>\n",
       "<path class=\"bond-20 atom-16 atom-20\" d=\"M 265.1,249.5 L 272.4,247.5\" style=\"fill:none;fill-rule:evenodd;stroke:#FF0000;stroke-width:2.0px;stroke-linecap:butt;stroke-linejoin:miter;stroke-opacity:1\"/>\n",
       "<path class=\"bond-20 atom-16 atom-20\" d=\"M 257.1,248.8 L 264.4,246.8\" style=\"fill:none;fill-rule:evenodd;stroke:#000000;stroke-width:2.0px;stroke-linecap:butt;stroke-linejoin:miter;stroke-opacity:1\"/>\n",
       "<path class=\"bond-20 atom-16 atom-20\" d=\"M 264.4,246.8 L 271.7,244.9\" style=\"fill:none;fill-rule:evenodd;stroke:#FF0000;stroke-width:2.0px;stroke-linecap:butt;stroke-linejoin:miter;stroke-opacity:1\"/>\n",
       "<path class=\"bond-21 atom-16 atom-21\" d=\"M 258.3,249.9 L 256.5,256.6\" style=\"fill:none;fill-rule:evenodd;stroke:#000000;stroke-width:2.0px;stroke-linecap:butt;stroke-linejoin:miter;stroke-opacity:1\"/>\n",
       "<path class=\"bond-21 atom-16 atom-21\" d=\"M 256.5,256.6 L 254.7,263.3\" style=\"fill:none;fill-rule:evenodd;stroke:#FF0000;stroke-width:2.0px;stroke-linecap:butt;stroke-linejoin:miter;stroke-opacity:1\"/>\n",
       "<path class=\"bond-22 atom-21 atom-22\" d=\"M 257.8,272.1 L 260.4,274.8\" style=\"fill:none;fill-rule:evenodd;stroke:#FF0000;stroke-width:2.0px;stroke-linecap:butt;stroke-linejoin:miter;stroke-opacity:1\"/>\n",
       "<path class=\"bond-22 atom-21 atom-22\" d=\"M 260.4,274.8 L 263.1,277.4\" style=\"fill:none;fill-rule:evenodd;stroke:#000000;stroke-width:2.0px;stroke-linecap:butt;stroke-linejoin:miter;stroke-opacity:1\"/>\n",
       "<path class=\"bond-23 atom-0 atom-23\" d=\"M 236.4,152.3 L 237.3,146.7\" style=\"fill:none;fill-rule:evenodd;stroke:#0000FF;stroke-width:2.0px;stroke-linecap:butt;stroke-linejoin:miter;stroke-opacity:1\"/>\n",
       "<path class=\"bond-23 atom-0 atom-23\" d=\"M 237.3,146.7 L 238.2,141.2\" style=\"fill:none;fill-rule:evenodd;stroke:#000000;stroke-width:2.0px;stroke-linecap:butt;stroke-linejoin:miter;stroke-opacity:1\"/>\n",
       "<path class=\"bond-24 atom-23 atom-24\" d=\"M 238.2,141.2 L 224.1,129.2\" style=\"fill:none;fill-rule:evenodd;stroke:#000000;stroke-width:2.0px;stroke-linecap:butt;stroke-linejoin:miter;stroke-opacity:1\"/>\n",
       "<path class=\"bond-24 atom-23 atom-24\" d=\"M 238.8,138.0 L 227.1,128.1\" style=\"fill:none;fill-rule:evenodd;stroke:#000000;stroke-width:2.0px;stroke-linecap:butt;stroke-linejoin:miter;stroke-opacity:1\"/>\n",
       "<path class=\"bond-25 atom-25 atom-23\" d=\"M 255.6,135.0 L 238.2,141.2\" style=\"fill:none;fill-rule:evenodd;stroke:#000000;stroke-width:2.0px;stroke-linecap:butt;stroke-linejoin:miter;stroke-opacity:1\"/>\n",
       "<path class=\"bond-26 atom-24 atom-26\" d=\"M 224.1,129.2 L 210.3,134.2\" style=\"fill:none;fill-rule:evenodd;stroke:#000000;stroke-width:2.0px;stroke-linecap:butt;stroke-linejoin:miter;stroke-opacity:1\"/>\n",
       "<path class=\"bond-27 atom-24 atom-27\" d=\"M 224.1,129.2 L 227.6,111.0\" style=\"fill:none;fill-rule:evenodd;stroke:#000000;stroke-width:2.0px;stroke-linecap:butt;stroke-linejoin:miter;stroke-opacity:1\"/>\n",
       "<path class=\"bond-28 atom-28 atom-25\" d=\"M 258.9,116.8 L 255.6,135.0\" style=\"fill:none;fill-rule:evenodd;stroke:#000000;stroke-width:2.0px;stroke-linecap:butt;stroke-linejoin:miter;stroke-opacity:1\"/>\n",
       "<path class=\"bond-28 atom-28 atom-25\" d=\"M 255.9,117.9 L 253.2,133.0\" style=\"fill:none;fill-rule:evenodd;stroke:#000000;stroke-width:2.0px;stroke-linecap:butt;stroke-linejoin:miter;stroke-opacity:1\"/>\n",
       "<path class=\"bond-29 atom-25 atom-29\" d=\"M 255.6,135.0 L 266.2,143.9\" style=\"fill:none;fill-rule:evenodd;stroke:#000000;stroke-width:2.0px;stroke-linecap:butt;stroke-linejoin:miter;stroke-opacity:1\"/>\n",
       "<path class=\"bond-30 atom-27 atom-30\" d=\"M 227.6,111.0 L 224.7,106.3\" style=\"fill:none;fill-rule:evenodd;stroke:#000000;stroke-width:2.0px;stroke-linecap:butt;stroke-linejoin:miter;stroke-opacity:1\"/>\n",
       "<path class=\"bond-31 atom-27 atom-31\" d=\"M 227.6,111.0 L 244.9,104.8\" style=\"fill:none;fill-rule:evenodd;stroke:#000000;stroke-width:2.0px;stroke-linecap:butt;stroke-linejoin:miter;stroke-opacity:1\"/>\n",
       "<path class=\"bond-31 atom-27 atom-31\" d=\"M 230.0,113.0 L 244.3,107.9\" style=\"fill:none;fill-rule:evenodd;stroke:#000000;stroke-width:2.0px;stroke-linecap:butt;stroke-linejoin:miter;stroke-opacity:1\"/>\n",
       "<path class=\"bond-32 atom-31 atom-28\" d=\"M 244.9,104.8 L 258.9,116.8\" style=\"fill:none;fill-rule:evenodd;stroke:#000000;stroke-width:2.0px;stroke-linecap:butt;stroke-linejoin:miter;stroke-opacity:1\"/>\n",
       "<path class=\"bond-33 atom-28 atom-32\" d=\"M 258.9,116.8 L 266.6,113.1\" style=\"fill:none;fill-rule:evenodd;stroke:#000000;stroke-width:2.0px;stroke-linecap:butt;stroke-linejoin:miter;stroke-opacity:1\"/>\n",
       "<path class=\"bond-34 atom-31 atom-33\" d=\"M 244.9,104.8 L 247.4,83.6\" style=\"fill:none;fill-rule:evenodd;stroke:#000000;stroke-width:2.0px;stroke-linecap:butt;stroke-linejoin:miter;stroke-opacity:1\"/>\n",
       "<path class=\"bond-35 atom-32 atom-34\" d=\"M 265.2,113.8 L 270.8,117.9\" style=\"fill:none;fill-rule:evenodd;stroke:#000000;stroke-width:2.0px;stroke-linecap:butt;stroke-linejoin:miter;stroke-opacity:1\"/>\n",
       "<path class=\"bond-35 atom-32 atom-34\" d=\"M 270.8,117.9 L 276.4,121.9\" style=\"fill:none;fill-rule:evenodd;stroke:#FF0000;stroke-width:2.0px;stroke-linecap:butt;stroke-linejoin:miter;stroke-opacity:1\"/>\n",
       "<path class=\"bond-35 atom-32 atom-34\" d=\"M 266.5,111.3 L 272.4,115.6\" style=\"fill:none;fill-rule:evenodd;stroke:#000000;stroke-width:2.0px;stroke-linecap:butt;stroke-linejoin:miter;stroke-opacity:1\"/>\n",
       "<path class=\"bond-35 atom-32 atom-34\" d=\"M 272.4,115.6 L 278.0,119.7\" style=\"fill:none;fill-rule:evenodd;stroke:#FF0000;stroke-width:2.0px;stroke-linecap:butt;stroke-linejoin:miter;stroke-opacity:1\"/>\n",
       "<path class=\"bond-36 atom-32 atom-35\" d=\"M 266.6,113.1 L 266.2,106.1\" style=\"fill:none;fill-rule:evenodd;stroke:#000000;stroke-width:2.0px;stroke-linecap:butt;stroke-linejoin:miter;stroke-opacity:1\"/>\n",
       "<path class=\"bond-36 atom-32 atom-35\" d=\"M 266.2,106.1 L 265.7,99.0\" style=\"fill:none;fill-rule:evenodd;stroke:#FF0000;stroke-width:2.0px;stroke-linecap:butt;stroke-linejoin:miter;stroke-opacity:1\"/>\n",
       "<path class=\"bond-37 atom-33 atom-36\" d=\"M 247.4,83.6 L 265.0,76.5\" style=\"fill:none;fill-rule:evenodd;stroke:#000000;stroke-width:2.0px;stroke-linecap:butt;stroke-linejoin:miter;stroke-opacity:1\"/>\n",
       "<path class=\"bond-37 atom-33 atom-36\" d=\"M 247.8,80.5 L 262.4,74.5\" style=\"fill:none;fill-rule:evenodd;stroke:#000000;stroke-width:2.0px;stroke-linecap:butt;stroke-linejoin:miter;stroke-opacity:1\"/>\n",
       "<path class=\"bond-38 atom-37 atom-33\" d=\"M 232.2,72.1 L 247.4,83.6\" style=\"fill:none;fill-rule:evenodd;stroke:#000000;stroke-width:2.0px;stroke-linecap:butt;stroke-linejoin:miter;stroke-opacity:1\"/>\n",
       "<path class=\"bond-39 atom-36 atom-38\" d=\"M 265.0,76.5 L 280.0,87.9\" style=\"fill:none;fill-rule:evenodd;stroke:#000000;stroke-width:2.0px;stroke-linecap:butt;stroke-linejoin:miter;stroke-opacity:1\"/>\n",
       "<path class=\"bond-40 atom-39 atom-36\" d=\"M 267.3,58.0 L 265.0,76.5\" style=\"fill:none;fill-rule:evenodd;stroke:#000000;stroke-width:2.0px;stroke-linecap:butt;stroke-linejoin:miter;stroke-opacity:1\"/>\n",
       "<path class=\"bond-41 atom-40 atom-37\" d=\"M 214.7,79.1 L 232.2,72.1\" style=\"fill:none;fill-rule:evenodd;stroke:#000000;stroke-width:2.0px;stroke-linecap:butt;stroke-linejoin:miter;stroke-opacity:1\"/>\n",
       "<path class=\"bond-42 atom-37 atom-41\" d=\"M 232.2,72.1 L 234.8,53.6\" style=\"fill:none;fill-rule:evenodd;stroke:#000000;stroke-width:2.0px;stroke-linecap:butt;stroke-linejoin:miter;stroke-opacity:1\"/>\n",
       "<path class=\"bond-42 atom-37 atom-41\" d=\"M 229.7,70.1 L 231.9,54.8\" style=\"fill:none;fill-rule:evenodd;stroke:#000000;stroke-width:2.0px;stroke-linecap:butt;stroke-linejoin:miter;stroke-opacity:1\"/>\n",
       "<path class=\"bond-43 atom-38 atom-42\" d=\"M 280.0,87.9 L 280.7,100.6\" style=\"fill:none;fill-rule:evenodd;stroke:#000000;stroke-width:2.0px;stroke-linecap:butt;stroke-linejoin:miter;stroke-opacity:1\"/>\n",
       "<path class=\"bond-44 atom-38 atom-43\" d=\"M 280.0,87.9 L 297.2,80.6\" style=\"fill:none;fill-rule:evenodd;stroke:#000000;stroke-width:2.0px;stroke-linecap:butt;stroke-linejoin:miter;stroke-opacity:1\"/>\n",
       "<path class=\"bond-44 atom-38 atom-43\" d=\"M 280.4,84.7 L 294.7,78.7\" style=\"fill:none;fill-rule:evenodd;stroke:#000000;stroke-width:2.0px;stroke-linecap:butt;stroke-linejoin:miter;stroke-opacity:1\"/>\n",
       "<path class=\"bond-45 atom-44 atom-39\" d=\"M 284.6,50.8 L 267.3,58.0\" style=\"fill:none;fill-rule:evenodd;stroke:#000000;stroke-width:2.0px;stroke-linecap:butt;stroke-linejoin:miter;stroke-opacity:1\"/>\n",
       "<path class=\"bond-45 atom-44 atom-39\" d=\"M 284.2,53.9 L 269.8,59.9\" style=\"fill:none;fill-rule:evenodd;stroke:#000000;stroke-width:2.0px;stroke-linecap:butt;stroke-linejoin:miter;stroke-opacity:1\"/>\n",
       "<path class=\"bond-46 atom-39 atom-45\" d=\"M 267.3,58.0 L 261.9,53.9\" style=\"fill:none;fill-rule:evenodd;stroke:#000000;stroke-width:2.0px;stroke-linecap:butt;stroke-linejoin:miter;stroke-opacity:1\"/>\n",
       "<path class=\"bond-46 atom-39 atom-45\" d=\"M 261.9,53.9 L 256.6,49.8\" style=\"fill:none;fill-rule:evenodd;stroke:#FF0000;stroke-width:2.0px;stroke-linecap:butt;stroke-linejoin:miter;stroke-opacity:1\"/>\n",
       "<path class=\"bond-47 atom-46 atom-40\" d=\"M 200.0,67.5 L 214.7,79.1\" style=\"fill:none;fill-rule:evenodd;stroke:#000000;stroke-width:2.0px;stroke-linecap:butt;stroke-linejoin:miter;stroke-opacity:1\"/>\n",
       "<path class=\"bond-47 atom-46 atom-40\" d=\"M 203.0,66.3 L 215.2,75.9\" style=\"fill:none;fill-rule:evenodd;stroke:#000000;stroke-width:2.0px;stroke-linecap:butt;stroke-linejoin:miter;stroke-opacity:1\"/>\n",
       "<path class=\"bond-48 atom-40 atom-47\" d=\"M 214.7,79.1 L 209.1,93.5\" style=\"fill:none;fill-rule:evenodd;stroke:#000000;stroke-width:2.0px;stroke-linecap:butt;stroke-linejoin:miter;stroke-opacity:1\"/>\n",
       "<path class=\"bond-49 atom-45 atom-41\" d=\"M 248.1,48.2 L 241.5,50.9\" style=\"fill:none;fill-rule:evenodd;stroke:#FF0000;stroke-width:2.0px;stroke-linecap:butt;stroke-linejoin:miter;stroke-opacity:1\"/>\n",
       "<path class=\"bond-49 atom-45 atom-41\" d=\"M 241.5,50.9 L 234.8,53.6\" style=\"fill:none;fill-rule:evenodd;stroke:#000000;stroke-width:2.0px;stroke-linecap:butt;stroke-linejoin:miter;stroke-opacity:1\"/>\n",
       "<path class=\"bond-50 atom-41 atom-48\" d=\"M 234.8,53.6 L 220.1,42.1\" style=\"fill:none;fill-rule:evenodd;stroke:#000000;stroke-width:2.0px;stroke-linecap:butt;stroke-linejoin:miter;stroke-opacity:1\"/>\n",
       "<path class=\"bond-51 atom-43 atom-49\" d=\"M 297.2,80.6 L 308.4,89.1\" style=\"fill:none;fill-rule:evenodd;stroke:#000000;stroke-width:2.0px;stroke-linecap:butt;stroke-linejoin:miter;stroke-opacity:1\"/>\n",
       "<path class=\"bond-52 atom-43 atom-50\" d=\"M 297.2,80.6 L 299.6,62.1\" style=\"fill:none;fill-rule:evenodd;stroke:#000000;stroke-width:2.0px;stroke-linecap:butt;stroke-linejoin:miter;stroke-opacity:1\"/>\n",
       "<path class=\"bond-53 atom-50 atom-44\" d=\"M 299.6,62.1 L 284.6,50.8\" style=\"fill:none;fill-rule:evenodd;stroke:#000000;stroke-width:2.0px;stroke-linecap:butt;stroke-linejoin:miter;stroke-opacity:1\"/>\n",
       "<path class=\"bond-54 atom-44 atom-51\" d=\"M 284.6,50.8 L 286.4,36.8\" style=\"fill:none;fill-rule:evenodd;stroke:#000000;stroke-width:2.0px;stroke-linecap:butt;stroke-linejoin:miter;stroke-opacity:1\"/>\n",
       "<path class=\"bond-55 atom-52 atom-46\" d=\"M 202.7,49.0 L 200.0,67.5\" style=\"fill:none;fill-rule:evenodd;stroke:#000000;stroke-width:2.0px;stroke-linecap:butt;stroke-linejoin:miter;stroke-opacity:1\"/>\n",
       "<path class=\"bond-56 atom-46 atom-53\" d=\"M 200.0,67.5 L 186.4,72.9\" style=\"fill:none;fill-rule:evenodd;stroke:#000000;stroke-width:2.0px;stroke-linecap:butt;stroke-linejoin:miter;stroke-opacity:1\"/>\n",
       "<path class=\"bond-57 atom-48 atom-54\" d=\"M 220.1,42.1 L 222.1,28.2\" style=\"fill:none;fill-rule:evenodd;stroke:#000000;stroke-width:2.0px;stroke-linecap:butt;stroke-linejoin:miter;stroke-opacity:1\"/>\n",
       "<path class=\"bond-58 atom-48 atom-52\" d=\"M 220.1,42.1 L 202.7,49.0\" style=\"fill:none;fill-rule:evenodd;stroke:#000000;stroke-width:2.0px;stroke-linecap:butt;stroke-linejoin:miter;stroke-opacity:1\"/>\n",
       "<path class=\"bond-58 atom-48 atom-52\" d=\"M 219.6,45.2 L 205.2,51.0\" style=\"fill:none;fill-rule:evenodd;stroke:#000000;stroke-width:2.0px;stroke-linecap:butt;stroke-linejoin:miter;stroke-opacity:1\"/>\n",
       "<path class=\"bond-59 atom-50 atom-55\" d=\"M 299.4,63.6 L 306.2,60.8\" style=\"fill:none;fill-rule:evenodd;stroke:#000000;stroke-width:2.0px;stroke-linecap:butt;stroke-linejoin:miter;stroke-opacity:1\"/>\n",
       "<path class=\"bond-59 atom-50 atom-55\" d=\"M 306.2,60.8 L 313.1,57.9\" style=\"fill:none;fill-rule:evenodd;stroke:#FF0000;stroke-width:2.0px;stroke-linecap:butt;stroke-linejoin:miter;stroke-opacity:1\"/>\n",
       "<path class=\"bond-59 atom-50 atom-55\" d=\"M 298.3,61.1 L 305.2,58.2\" style=\"fill:none;fill-rule:evenodd;stroke:#000000;stroke-width:2.0px;stroke-linecap:butt;stroke-linejoin:miter;stroke-opacity:1\"/>\n",
       "<path class=\"bond-59 atom-50 atom-55\" d=\"M 305.2,58.2 L 312.0,55.3\" style=\"fill:none;fill-rule:evenodd;stroke:#FF0000;stroke-width:2.0px;stroke-linecap:butt;stroke-linejoin:miter;stroke-opacity:1\"/>\n",
       "<path class=\"bond-60 atom-52 atom-56\" d=\"M 202.7,49.0 L 197.5,44.9\" style=\"fill:none;fill-rule:evenodd;stroke:#000000;stroke-width:2.0px;stroke-linecap:butt;stroke-linejoin:miter;stroke-opacity:1\"/>\n",
       "<path class=\"bond-60 atom-52 atom-56\" d=\"M 197.5,44.9 L 192.3,40.8\" style=\"fill:none;fill-rule:evenodd;stroke:#FF0000;stroke-width:2.0px;stroke-linecap:butt;stroke-linejoin:miter;stroke-opacity:1\"/>\n",
       "<path class=\"bond-61 atom-56 atom-57\" d=\"M 188.7,32.8 L 189.4,28.2\" style=\"fill:none;fill-rule:evenodd;stroke:#FF0000;stroke-width:2.0px;stroke-linecap:butt;stroke-linejoin:miter;stroke-opacity:1\"/>\n",
       "<path class=\"bond-61 atom-56 atom-57\" d=\"M 189.4,28.2 L 190.0,23.5\" style=\"fill:none;fill-rule:evenodd;stroke:#000000;stroke-width:2.0px;stroke-linecap:butt;stroke-linejoin:miter;stroke-opacity:1\"/>\n",
       "<path d=\"M 219.6,165.6 L 219.3,165.8 L 219.5,166.7\" style=\"fill:none;stroke:#000000;stroke-width:2.0px;stroke-linecap:butt;stroke-linejoin:miter;stroke-opacity:1;\"/>\n",
       "<path d=\"M 248.8,170.6 L 249.2,169.7 L 249.0,169.5\" style=\"fill:none;stroke:#000000;stroke-width:2.0px;stroke-linecap:butt;stroke-linejoin:miter;stroke-opacity:1;\"/>\n",
       "<path d=\"M 257.6,249.3 L 258.3,249.9 L 258.2,250.3\" style=\"fill:none;stroke:#000000;stroke-width:2.0px;stroke-linecap:butt;stroke-linejoin:miter;stroke-opacity:1;\"/>\n",
       "<path d=\"M 266.2,113.3 L 266.6,113.1 L 266.6,112.8\" style=\"fill:none;stroke:#000000;stroke-width:2.0px;stroke-linecap:butt;stroke-linejoin:miter;stroke-opacity:1;\"/>\n",
       "<path d=\"M 299.5,63.0 L 299.6,62.1 L 298.9,61.5\" style=\"fill:none;stroke:#000000;stroke-width:2.0px;stroke-linecap:butt;stroke-linejoin:miter;stroke-opacity:1;\"/>\n",
       "<path class=\"atom-0\" d=\"M 233.9 152.9 L 236.5 157.1 Q 236.8 157.5, 237.2 158.3 Q 237.6 159.0, 237.6 159.1 L 237.6 152.9 L 238.7 152.9 L 238.7 160.8 L 237.6 160.8 L 234.8 156.2 Q 234.5 155.7, 234.1 155.1 Q 233.8 154.5, 233.7 154.3 L 233.7 160.8 L 232.7 160.8 L 232.7 152.9 L 233.9 152.9 \" fill=\"#0000FF\"/>\n",
       "<path class=\"atom-2\" d=\"M 198.8 157.8 Q 198.8 155.9, 199.7 154.8 Q 200.7 153.8, 202.4 153.8 Q 204.2 153.8, 205.1 154.8 Q 206.1 155.9, 206.1 157.8 Q 206.1 159.7, 205.1 160.8 Q 204.2 161.9, 202.4 161.9 Q 200.7 161.9, 199.7 160.8 Q 198.8 159.7, 198.8 157.8 M 202.4 161.0 Q 203.7 161.0, 204.3 160.2 Q 205.0 159.4, 205.0 157.8 Q 205.0 156.2, 204.3 155.4 Q 203.7 154.7, 202.4 154.7 Q 201.2 154.7, 200.6 155.4 Q 199.9 156.2, 199.9 157.8 Q 199.9 159.4, 200.6 160.2 Q 201.2 161.0, 202.4 161.0 \" fill=\"#FF0000\"/>\n",
       "<path class=\"atom-4\" d=\"M 201.0 181.6 L 202.1 181.6 L 202.1 184.9 L 206.1 184.9 L 206.1 181.6 L 207.2 181.6 L 207.2 189.5 L 206.1 189.5 L 206.1 185.8 L 202.1 185.8 L 202.1 189.5 L 201.0 189.5 L 201.0 181.6 \" fill=\"#000000\"/>\n",
       "<path class=\"atom-5\" d=\"M 219.0 198.9 L 220.0 198.9 L 220.0 202.2 L 224.1 202.2 L 224.1 198.9 L 225.2 198.9 L 225.2 206.8 L 224.1 206.8 L 224.1 203.1 L 220.0 203.1 L 220.0 206.8 L 219.0 206.8 L 219.0 198.9 \" fill=\"#000000\"/>\n",
       "<path class=\"atom-7\" d=\"M 234.6 207.9 Q 234.7 207.9, 235.0 208.1 Q 235.4 208.3, 235.8 208.4 Q 236.2 208.4, 236.6 208.4 Q 237.4 208.4, 237.8 208.1 Q 238.2 207.7, 238.2 207.1 Q 238.2 206.6, 238.0 206.4 Q 237.8 206.1, 237.5 206.0 Q 237.1 205.8, 236.6 205.6 Q 235.9 205.4, 235.4 205.2 Q 235.0 205.0, 234.7 204.6 Q 234.4 204.2, 234.4 203.5 Q 234.4 202.5, 235.1 201.9 Q 235.8 201.2, 237.1 201.2 Q 238.0 201.2, 239.1 201.7 L 238.8 202.5 Q 237.9 202.1, 237.2 202.1 Q 236.4 202.1, 236.0 202.5 Q 235.5 202.8, 235.6 203.3 Q 235.6 203.8, 235.8 204.0 Q 236.0 204.3, 236.3 204.4 Q 236.6 204.6, 237.2 204.7 Q 237.9 205.0, 238.3 205.2 Q 238.7 205.4, 239.0 205.9 Q 239.3 206.3, 239.3 207.1 Q 239.3 208.2, 238.6 208.8 Q 237.9 209.4, 236.7 209.4 Q 236.0 209.4, 235.4 209.2 Q 234.9 209.1, 234.3 208.8 L 234.6 207.9 \" fill=\"#CCCC00\"/>\n",
       "<path class=\"atom-9\" d=\"M 255.5 188.4 L 256.6 188.4 L 256.6 191.8 L 260.6 191.8 L 260.6 188.4 L 261.7 188.4 L 261.7 196.3 L 260.6 196.3 L 260.6 192.7 L 256.6 192.7 L 256.6 196.3 L 255.5 196.3 L 255.5 188.4 \" fill=\"#000000\"/>\n",
       "<path class=\"atom-11\" d=\"M 263.9 166.4 Q 263.9 164.4, 264.9 163.4 Q 265.8 162.3, 267.6 162.3 Q 269.3 162.3, 270.3 163.4 Q 271.2 164.4, 271.2 166.4 Q 271.2 168.3, 270.3 169.4 Q 269.3 170.5, 267.6 170.5 Q 265.8 170.5, 264.9 169.4 Q 263.9 168.3, 263.9 166.4 M 267.6 169.6 Q 268.8 169.6, 269.4 168.8 Q 270.1 167.9, 270.1 166.4 Q 270.1 164.8, 269.4 164.0 Q 268.8 163.2, 267.6 163.2 Q 266.4 163.2, 265.7 164.0 Q 265.1 164.8, 265.1 166.4 Q 265.1 168.0, 265.7 168.8 Q 266.4 169.6, 267.6 169.6 \" fill=\"#FF0000\"/>\n",
       "<path class=\"atom-13\" d=\"M 260.4 202.5 L 261.5 202.5 L 261.5 205.9 L 265.6 205.9 L 265.6 202.5 L 266.6 202.5 L 266.6 210.4 L 265.6 210.4 L 265.6 206.7 L 261.5 206.7 L 261.5 210.4 L 260.4 210.4 L 260.4 202.5 \" fill=\"#000000\"/>\n",
       "<path class=\"atom-14\" d=\"M 264.9 220.2 L 266.0 220.2 L 266.0 223.6 L 270.1 223.6 L 270.1 220.2 L 271.1 220.2 L 271.1 228.1 L 270.1 228.1 L 270.1 224.5 L 266.0 224.5 L 266.0 228.1 L 264.9 228.1 L 264.9 220.2 \" fill=\"#000000\"/>\n",
       "<path class=\"atom-15\" d=\"M 230.1 246.0 L 232.7 250.2 Q 233.0 250.6, 233.4 251.4 Q 233.8 252.1, 233.8 252.2 L 233.8 246.0 L 234.9 246.0 L 234.9 253.9 L 233.8 253.9 L 231.0 249.4 Q 230.7 248.8, 230.3 248.2 Q 230.0 247.6, 229.9 247.4 L 229.9 253.9 L 228.9 253.9 L 228.9 246.0 L 230.1 246.0 \" fill=\"#0000FF\"/>\n",
       "<path class=\"atom-17\" d=\"M 224.0 227.9 L 225.1 227.9 L 225.1 231.3 L 229.1 231.3 L 229.1 227.9 L 230.2 227.9 L 230.2 235.8 L 229.1 235.8 L 229.1 232.2 L 225.1 232.2 L 225.1 235.8 L 224.0 235.8 L 224.0 227.9 \" fill=\"#000000\"/>\n",
       "<path class=\"atom-18\" d=\"M 210.8 241.2 L 211.8 241.2 L 211.8 244.5 L 215.9 244.5 L 215.9 241.2 L 217.0 241.2 L 217.0 249.1 L 215.9 249.1 L 215.9 245.4 L 211.8 245.4 L 211.8 249.1 L 210.8 249.1 L 210.8 241.2 \" fill=\"#000000\"/>\n",
       "<path class=\"atom-19\" d=\"M 233.6 264.1 L 234.7 264.1 L 234.7 267.4 L 238.7 267.4 L 238.7 264.1 L 239.8 264.1 L 239.8 272.0 L 238.7 272.0 L 238.7 268.3 L 234.7 268.3 L 234.7 272.0 L 233.6 272.0 L 233.6 264.1 \" fill=\"#000000\"/>\n",
       "<path class=\"atom-20\" d=\"M 272.6 245.1 Q 272.6 243.2, 273.6 242.1 Q 274.5 241.0, 276.3 241.0 Q 278.0 241.0, 279.0 242.1 Q 279.9 243.2, 279.9 245.1 Q 279.9 247.0, 279.0 248.1 Q 278.0 249.2, 276.3 249.2 Q 274.5 249.2, 273.6 248.1 Q 272.6 247.0, 272.6 245.1 M 276.3 248.3 Q 277.5 248.3, 278.1 247.5 Q 278.8 246.7, 278.8 245.1 Q 278.8 243.5, 278.1 242.7 Q 277.5 241.9, 276.3 241.9 Q 275.1 241.9, 274.4 242.7 Q 273.8 243.5, 273.8 245.1 Q 273.8 246.7, 274.4 247.5 Q 275.1 248.3, 276.3 248.3 \" fill=\"#FF0000\"/>\n",
       "<path class=\"atom-21\" d=\"M 249.9 268.0 Q 249.9 266.1, 250.8 265.0 Q 251.8 263.9, 253.5 263.9 Q 255.3 263.9, 256.2 265.0 Q 257.2 266.1, 257.2 268.0 Q 257.2 269.9, 256.2 271.0 Q 255.3 272.1, 253.5 272.1 Q 251.8 272.1, 250.8 271.0 Q 249.9 269.9, 249.9 268.0 M 253.5 271.2 Q 254.7 271.2, 255.4 270.4 Q 256.0 269.6, 256.0 268.0 Q 256.0 266.4, 255.4 265.6 Q 254.7 264.8, 253.5 264.8 Q 252.3 264.8, 251.7 265.6 Q 251.0 266.4, 251.0 268.0 Q 251.0 269.6, 251.7 270.4 Q 252.3 271.2, 253.5 271.2 \" fill=\"#FF0000\"/>\n",
       "<path class=\"atom-22\" d=\"M 263.7 277.1 L 264.8 277.1 L 264.8 280.4 L 268.8 280.4 L 268.8 277.1 L 269.9 277.1 L 269.9 285.0 L 268.8 285.0 L 268.8 281.3 L 264.8 281.3 L 264.8 285.0 L 263.7 285.0 L 263.7 277.1 \" fill=\"#000000\"/>\n",
       "<path class=\"atom-26\" d=\"M 203.5 131.5 L 204.6 131.5 L 204.6 134.9 L 208.6 134.9 L 208.6 131.5 L 209.7 131.5 L 209.7 139.5 L 208.6 139.5 L 208.6 135.8 L 204.6 135.8 L 204.6 139.5 L 203.5 139.5 L 203.5 131.5 \" fill=\"#000000\"/>\n",
       "<path class=\"atom-29\" d=\"M 266.8 143.0 L 267.9 143.0 L 267.9 146.4 L 271.9 146.4 L 271.9 143.0 L 273.0 143.0 L 273.0 150.9 L 271.9 150.9 L 271.9 147.3 L 267.9 147.3 L 267.9 150.9 L 266.8 150.9 L 266.8 143.0 \" fill=\"#000000\"/>\n",
       "<path class=\"atom-30\" d=\"M 218.7 97.8 L 219.8 97.8 L 219.8 101.2 L 223.8 101.2 L 223.8 97.8 L 224.9 97.8 L 224.9 105.7 L 223.8 105.7 L 223.8 102.1 L 219.8 102.1 L 219.8 105.7 L 218.7 105.7 L 218.7 97.8 \" fill=\"#000000\"/>\n",
       "<path class=\"atom-34\" d=\"M 277.8 123.9 Q 277.8 122.0, 278.7 121.0 Q 279.7 119.9, 281.4 119.9 Q 283.2 119.9, 284.1 121.0 Q 285.1 122.0, 285.1 123.9 Q 285.1 125.9, 284.1 127.0 Q 283.2 128.0, 281.4 128.0 Q 279.7 128.0, 278.7 127.0 Q 277.8 125.9, 277.8 123.9 M 281.4 127.1 Q 282.6 127.1, 283.3 126.3 Q 283.9 125.5, 283.9 123.9 Q 283.9 122.4, 283.3 121.6 Q 282.6 120.8, 281.4 120.8 Q 280.2 120.8, 279.5 121.6 Q 278.9 122.4, 278.9 123.9 Q 278.9 125.5, 279.5 126.3 Q 280.2 127.1, 281.4 127.1 \" fill=\"#FF0000\"/>\n",
       "<path class=\"atom-35\" d=\"M 261.8 94.3 Q 261.8 92.4, 262.7 91.3 Q 263.6 90.3, 265.4 90.3 Q 267.2 90.3, 268.1 91.3 Q 269.0 92.4, 269.0 94.3 Q 269.0 96.2, 268.1 97.3 Q 267.1 98.4, 265.4 98.4 Q 263.6 98.4, 262.7 97.3 Q 261.8 96.2, 261.8 94.3 M 265.4 97.5 Q 266.6 97.5, 267.3 96.7 Q 267.9 95.9, 267.9 94.3 Q 267.9 92.7, 267.3 91.9 Q 266.6 91.2, 265.4 91.2 Q 264.2 91.2, 263.5 91.9 Q 262.9 92.7, 262.9 94.3 Q 262.9 95.9, 263.5 96.7 Q 264.2 97.5, 265.4 97.5 \" fill=\"#FF0000\"/>\n",
       "<path class=\"atom-35\" d=\"M 270.2 91.5 L 272.9 91.5 L 272.9 92.1 L 270.2 92.1 L 270.2 91.5 \" fill=\"#FF0000\"/>\n",
       "<path class=\"atom-42\" d=\"M 277.9 101.2 L 279.0 101.2 L 279.0 104.6 L 283.0 104.6 L 283.0 101.2 L 284.1 101.2 L 284.1 109.2 L 283.0 109.2 L 283.0 105.5 L 279.0 105.5 L 279.0 109.2 L 277.9 109.2 L 277.9 101.2 \" fill=\"#000000\"/>\n",
       "<path class=\"atom-45\" d=\"M 248.7 46.5 Q 248.7 44.6, 249.6 43.6 Q 250.6 42.5, 252.3 42.5 Q 254.1 42.5, 255.0 43.6 Q 256.0 44.6, 256.0 46.5 Q 256.0 48.5, 255.0 49.6 Q 254.1 50.6, 252.3 50.6 Q 250.6 50.6, 249.6 49.6 Q 248.7 48.5, 248.7 46.5 M 252.3 49.8 Q 253.5 49.8, 254.2 48.9 Q 254.8 48.1, 254.8 46.5 Q 254.8 45.0, 254.2 44.2 Q 253.5 43.4, 252.3 43.4 Q 251.1 43.4, 250.4 44.2 Q 249.8 45.0, 249.8 46.5 Q 249.8 48.1, 250.4 48.9 Q 251.1 49.8, 252.3 49.8 \" fill=\"#FF0000\"/>\n",
       "<path class=\"atom-47\" d=\"M 204.3 94.1 L 205.4 94.1 L 205.4 97.5 L 209.4 97.5 L 209.4 94.1 L 210.5 94.1 L 210.5 102.0 L 209.4 102.0 L 209.4 98.4 L 205.4 98.4 L 205.4 102.0 L 204.3 102.0 L 204.3 94.1 \" fill=\"#000000\"/>\n",
       "<path class=\"atom-49\" d=\"M 309.0 87.9 L 310.1 87.9 L 310.1 91.3 L 314.2 91.3 L 314.2 87.9 L 315.2 87.9 L 315.2 95.9 L 314.2 95.9 L 314.2 92.2 L 310.1 92.2 L 310.1 95.9 L 309.0 95.9 L 309.0 87.9 \" fill=\"#000000\"/>\n",
       "<path class=\"atom-51\" d=\"M 283.9 28.3 L 285.0 28.3 L 285.0 31.7 L 289.0 31.7 L 289.0 28.3 L 290.1 28.3 L 290.1 36.2 L 289.0 36.2 L 289.0 32.6 L 285.0 32.6 L 285.0 36.2 L 283.9 36.2 L 283.9 28.3 \" fill=\"#000000\"/>\n",
       "<path class=\"atom-53\" d=\"M 179.6 70.4 L 180.6 70.4 L 180.6 73.8 L 184.7 73.8 L 184.7 70.4 L 185.8 70.4 L 185.8 78.4 L 184.7 78.4 L 184.7 74.7 L 180.6 74.7 L 180.6 78.4 L 179.6 78.4 L 179.6 70.4 \" fill=\"#000000\"/>\n",
       "<path class=\"atom-54\" d=\"M 219.6 19.6 L 220.7 19.6 L 220.7 23.0 L 224.7 23.0 L 224.7 19.6 L 225.8 19.6 L 225.8 27.6 L 224.7 27.6 L 224.7 23.9 L 220.7 23.9 L 220.7 27.6 L 219.6 27.6 L 219.6 19.6 \" fill=\"#000000\"/>\n",
       "<path class=\"atom-55\" d=\"M 313.1 54.8 Q 313.1 52.9, 314.1 51.9 Q 315.0 50.8, 316.8 50.8 Q 318.5 50.8, 319.5 51.9 Q 320.4 52.9, 320.4 54.8 Q 320.4 56.8, 319.5 57.9 Q 318.5 59.0, 316.8 59.0 Q 315.0 59.0, 314.1 57.9 Q 313.1 56.8, 313.1 54.8 M 316.8 58.1 Q 318.0 58.1, 318.6 57.3 Q 319.3 56.4, 319.3 54.8 Q 319.3 53.3, 318.6 52.5 Q 318.0 51.7, 316.8 51.7 Q 315.6 51.7, 314.9 52.5 Q 314.3 53.3, 314.3 54.8 Q 314.3 56.4, 314.9 57.3 Q 315.6 58.1, 316.8 58.1 \" fill=\"#FF0000\"/>\n",
       "<path class=\"atom-56\" d=\"M 184.4 37.5 Q 184.4 35.6, 185.3 34.5 Q 186.3 33.4, 188.0 33.4 Q 189.8 33.4, 190.7 34.5 Q 191.7 35.6, 191.7 37.5 Q 191.7 39.4, 190.7 40.5 Q 189.8 41.6, 188.0 41.6 Q 186.3 41.6, 185.3 40.5 Q 184.4 39.4, 184.4 37.5 M 188.0 40.7 Q 189.2 40.7, 189.9 39.9 Q 190.5 39.0, 190.5 37.5 Q 190.5 35.9, 189.9 35.1 Q 189.2 34.3, 188.0 34.3 Q 186.8 34.3, 186.2 35.1 Q 185.5 35.9, 185.5 37.5 Q 185.5 39.1, 186.2 39.9 Q 186.8 40.7, 188.0 40.7 \" fill=\"#FF0000\"/>\n",
       "<path class=\"atom-57\" d=\"M 187.6 15.0 L 188.7 15.0 L 188.7 18.4 L 192.7 18.4 L 192.7 15.0 L 193.8 15.0 L 193.8 22.9 L 192.7 22.9 L 192.7 19.3 L 188.7 19.3 L 188.7 22.9 L 187.6 22.9 L 187.6 15.0 \" fill=\"#000000\"/>\n",
       "</svg>"
      ],
      "text/plain": [
       "<IPython.core.display.SVG object>"
      ]
     },
     "execution_count": 55,
     "metadata": {},
     "output_type": "execute_result"
    }
   ],
   "source": [
    "from ptm_prototype import react\n",
    "from openff.pablo import ccd, CCD_RESIDUE_DEFINITION_CACHE\n",
    "# Load canonical form of residue from CCD cache\n",
    "cysteine = CCD_RESIDUE_DEFINITION_CACHE['CYS'][0].to_openff_molecule()\n",
    "# Load covalent attachment\n",
    "maleimide = Molecule.from_file('maleimide.sdf')\n",
    "# Define the reaction that conjugates the canonical residue to the covalent attachment\n",
    "thiol_maleimide_click_smarts = (\n",
    "    '[C:10]-[S:1]-[H:2]'\n",
    "    + '.'\n",
    "    + '[N:3]1-[C:4](=[O:5])-[C:6](-[H:11])=[C:7](-[H:12])-[C:8](=[O:9])-1'\n",
    "    + '>>'\n",
    "    + '[N:3]1-[C:4](=[O:5])-[C:6](-[H:2])(-[H:11])-[C@:7](-[S:1]-[C:10])(-[H:12])-[C:8](=[O:9])-1'\n",
    ")\n",
    "# Run the reaction, generate a conformer, and save the file\n",
    "products = react([cysteine, maleimide], thiol_maleimide_click_smarts)\n",
    "mod_res = [*products][0][0]\n",
    "mod_res.generate_conformers()\n",
    "mod_res.to_file('CYS-MAL.sdf', file_format='sdf')\n",
    "mod_res.visualize(backend='rdkit')\n"
   ]
  },
  {
   "cell_type": "markdown",
   "id": "c162b74c-5860-4dfd-8b96-7a2acdda89c1",
   "metadata": {},
   "source": [
    "# 10"
   ]
  },
  {
   "cell_type": "code",
   "execution_count": 56,
   "id": "82c62233-12c7-4ac3-91ad-0646122fa12a",
   "metadata": {
    "execution": {
     "iopub.execute_input": "2025-03-24T18:17:13.483673Z",
     "iopub.status.busy": "2025-03-24T18:17:13.482993Z",
     "iopub.status.idle": "2025-03-24T18:17:17.497940Z",
     "shell.execute_reply": "2025-03-24T18:17:17.497675Z",
     "shell.execute_reply.started": "2025-03-24T18:17:13.483617Z"
    }
   },
   "outputs": [
    {
     "name": "stdout",
     "output_type": "stream",
     "text": [
      "marking atom_idx=18 as leaving\n",
      "marking atom_idx=21 as leaving\n",
      "marking atom_idx=22 as leaving\n"
     ]
    }
   ],
   "source": [
    "mod_res = Molecule.from_file('CYS-MAL.sdf')\n",
    "# Mark leaving hydrogen where the bond will be made to the cysteine\n",
    "for atom in mod_res.atoms:\n",
    "    atom.metadata['substructure_atom'] = True\n",
    "backbone_smarts = '[H:1][NH2X3][CH1X4][CH0X3](=[OH0X1])[OX2H1:2][H:3]'\n",
    "# Since this pattern will be found multiple times due to symmetry, only use \n",
    "#the first match ([0}) to identify a single leaving hydrogen. \n",
    "for atom_idx in mod_res.chemical_environment_matches(backbone_smarts)[0]:\n",
    "    print(f\"marking {atom_idx=} as leaving\")\n",
    "    mod_res.atom(atom_idx).metadata['substructure_atom'] = False\n",
    "top = Topology.from_pdb('3ip9_dye.pdb', _additional_substructures=[mod_res])\n"
   ]
  },
  {
   "cell_type": "markdown",
   "id": "e94d43b5-8a8b-4e13-aa72-e14211e8e2cd",
   "metadata": {},
   "source": [
    "# S1"
   ]
  },
  {
   "cell_type": "code",
   "execution_count": null,
   "id": "be004b58-8a27-4be9-a3d1-238b53af9c40",
   "metadata": {},
   "outputs": [],
   "source": [
    "# S1: NO protein SDF/YES CONECT/YES mod res SDF/SMILES\n",
    "#mod_res = Molecule.from_file(\"maleimide.sdf\")\n",
    "#mod_res.to_smiles()\n",
    "mod_res = Molecule.from_smiles('[H][O][c]1[c]([H])[c]([H])[c]2[c]([c]1[H])[O][C]1=[C]([H])[C](=[O])[C]([H])=[C]([H])[C]1=[C]2[c]1[c]([H])[c]([H])[c]([N]2[C](=[O])[C@@]([H])(SC[C@@H](N)[C]([O][H])=O)-[C]([H])([H])[C]2=[O])[c]([H])[c]1[C](=[O])[O-]')\n",
    "mod_res.visualize()"
   ]
  },
  {
   "cell_type": "code",
   "execution_count": null,
   "id": "f6b4c3fb-bca3-4389-aac5-406f1029a297",
   "metadata": {},
   "outputs": [],
   "source": [
    "for atom in mod_res.atoms:\n",
    "    atom.metadata['substructure_atom'] = True\n",
    "backbone_smarts = '[H:1][NH2X3][CH1X4][CH0X3](=[OH0X1])[OX2H1:2][H:3]'\n",
    "for atom_idx in mod_res.chemical_environment_matches(backbone_smarts)[0]:\n",
    "    print(f\"marking {atom_idx=} as leaving\")\n",
    "    mod_res.atom(atom_idx).metadata['substructure_atom'] = False\n",
    "top = Topology.from_pdb('3ip9_dye.pdb', _additional_substructures=[mod_res])"
   ]
  },
  {
   "cell_type": "markdown",
   "id": "8f0d8231-9924-4310-94a8-426290de1063",
   "metadata": {},
   "source": [
    "# S2\n",
    "Note: This would be better with a modified residue other than CYS"
   ]
  },
  {
   "cell_type": "code",
   "execution_count": null,
   "id": "2f411f1e-0a74-480f-b21d-d0f76e3e4bca",
   "metadata": {},
   "outputs": [],
   "source": [
    "# S2: NO protein SDF/YES CONECT/NO mod res SDF/YES modification SDF/SMILES\n",
    "\n",
    "from openff.pablo import CCD_RESIDUE_DEFINITION_CACHE\n",
    "from rdkit.Chem.rdChemReactions import ReactionFromSmarts\n",
    "import rdkit\n",
    "cysteine = CCD_RESIDUE_DEFINITION_CACHE['CYS'][0].to_openff_molecule()\n",
    "maleimide = Molecule.from_file('maleimide.sdf')\n",
    "thiol_maleimide_click_smarts = (\n",
    "    \"[C:10]-[S:1]-[H:2]\"\n",
    "    + \".\"\n",
    "    + \"[N:3]1-[C:4](=[O:5])-[C:6](-[H:11])=[C:7](-[H:12])-[C:8](=[O:9])-1\"\n",
    "    + \">>\"\n",
    "    + \"[N:3]1-[C:4](=[O:5])-[C:6](-[H:2])(-[H:11])-[C@:7](-[S:1]-[C:10])(-[H:12])-[C:8](=[O:9])-1\"\n",
    ")\n",
    "rxn = ReactionFromSmarts(thiol_maleimide_click_smarts)\n",
    "product_rdmols = rxn.RunReactants([cysteine.to_rdkit(),\n",
    "                                   maleimide.to_rdkit()])\n",
    "for products in product_rdmols:\n",
    "    # Skip products that cannot be sanitized\n",
    "    try:\n",
    "        for product in products:\n",
    "            product.UpdatePropertyCache()\n",
    "            rdkit.Chem.SanitizeMol(product)\n",
    "    except rdkit.Chem.rdchem.MolSanitizeException:\n",
    "        continue\n",
    "    mod_res = Molecule.from_rdkit(product_rdmols[0][0])\n",
    "    break\n",
    "\n",
    "for atom in mod_res.atoms:\n",
    "    atom.metadata['substructure_atom'] = True\n",
    "backbone_smarts = '[H:1][NH2X3][CH1X4][CH0X3](=[OH0X1])[OX2H1:2][H:3]'\n",
    "for atom_idx in mod_res.chemical_environment_matches(backbone_smarts)[0]:\n",
    "    print(f\"marking {atom_idx=} as leaving\")\n",
    "    mod_res.atom(atom_idx).metadata['substructure_atom'] = False\n",
    "top = Topology.from_pdb('3ip9_dye.pdb', _additional_substructures=[mod_res])\n",
    "\n"
   ]
  },
  {
   "cell_type": "markdown",
   "id": "f4d086ab-3d11-4d0b-9e98-066fa6cca888",
   "metadata": {},
   "source": [
    "# S3"
   ]
  },
  {
   "cell_type": "code",
   "execution_count": null,
   "id": "4c63a0ee-2770-4489-a124-261ded50e2c7",
   "metadata": {},
   "outputs": [],
   "source": [
    "# S3: NO protein SDF/NO CONECT/YES mod res is one res num/YES CCD defined residue (Ex TPO)\n",
    "from openff.pablo import ccd, CCD_RESIDUE_DEFINITION_CACHE, topology_from_pdb\n",
    "import pathlib\n",
    "cache = ccd.CcdCache([pathlib.Path('.')], preload=['TPO'])"
   ]
  },
  {
   "cell_type": "code",
   "execution_count": null,
   "id": "8b1f2f9c-3665-410e-b086-cfb7dbf9c325",
   "metadata": {},
   "outputs": [],
   "source": [
    "mod_res = cache['TPO'][0].to_openff_molecule()\n",
    "draw_molecule(\n",
    "    mod_res,\n",
    "    width=700,\n",
    "    height=600,\n",
    "    atom_notes={\n",
    "        i: (\n",
    "            f\"{i}:{'|'.join([atom.name, *atom.metadata.get('synonyms', '').split()])}\"\n",
    "            + f\"{'^' if bool(atom.metadata.get('leaving_atom')) else ''}\"\n",
    "        )\n",
    "        for i, atom in enumerate(cysteine.atoms)\n",
    "    },\n",
    ")"
   ]
  },
  {
   "cell_type": "code",
   "execution_count": null,
   "id": "fefdfa36-6d5e-4207-a71f-4a2576737354",
   "metadata": {},
   "outputs": [],
   "source": [
    "from ptm_prototype import react\n",
    "\n",
    "products = list(react([mod_res], '[P:1]([O:2][H:3])[O:4][H:5] >> [P:1]([O-:2])[O-:4]'))\n",
    "mod_res = products[1][0]\n"
   ]
  },
  {
   "cell_type": "code",
   "execution_count": null,
   "id": "44cff847-c156-44e2-b054-e5814b251b3f",
   "metadata": {},
   "outputs": [],
   "source": [
    "from ptm_prototype import draw_molecule\n",
    "\n",
    "draw_molecule(\n",
    "    mod_res,\n",
    "    width=700,\n",
    "    height=600,\n",
    "    atom_notes={\n",
    "        i: (\n",
    "            f\"{i}:{'|'.join([atom.name, *atom.metadata.get('synonyms', '').split()])}\"\n",
    "            + f\"{'^' if bool(atom.metadata.get('leaving_atom')) else ''}\"\n",
    "        )\n",
    "        for i, atom in enumerate(cysteine.atoms)\n",
    "    },\n",
    ")"
   ]
  },
  {
   "cell_type": "code",
   "execution_count": null,
   "id": "103fc9ad-f696-4e90-8a57-437765d5d1ce",
   "metadata": {},
   "outputs": [],
   "source": [
    "#mod_res = Molecule.from_file('TPO_ideal.sdf')\n",
    "for atom in mod_res.atoms:\n",
    "    atom.metadata['leaving_atom'] = False\n",
    "backbone_smarts = '[H:1][NH2X3][CH1X4][CH0X3](=[OH0X1])[OX2H1:2][H:3]'\n",
    "for atom_idx in mod_res.chemical_environment_matches(backbone_smarts)[0]:\n",
    "    print(f\"marking {atom_idx=} as leaving\")\n",
    "    mod_res.atom(atom_idx).metadata['leaving_atom'] = True\n",
    "from openff.pablo import ResidueDefinition\n",
    "from openff.pablo.chem import PEPTIDE_BOND\n",
    "\n",
    "mod_resdef = ResidueDefinition.from_molecule(\n",
    "    molecule=mod_res,\n",
    "    residue_name=\"TPO\",\n",
    "    linking_bond=PEPTIDE_BOND,\n",
    ")"
   ]
  },
  {
   "cell_type": "code",
   "execution_count": null,
   "id": "9dcdc6e5-9f43-402c-910d-6b86921bb1cb",
   "metadata": {},
   "outputs": [],
   "source": [
    "topology = topology_from_pdb(\n",
    "    \"8sg2.pdb\",\n",
    "    residue_database=CCD_RESIDUE_DEFINITION_CACHE.with_({'TPO':[mod_resdef]}),\n",
    ")"
   ]
  },
  {
   "cell_type": "code",
   "execution_count": null,
   "id": "e8d365df-18cc-4d40-8ac6-2b96c1cc262b",
   "metadata": {},
   "outputs": [],
   "source": [
    "# S4: NO protein SDF/NO CONECT/YES mod res is one res num/NO CCD defined residue/YES attachment SDF\n",
    "\n"
   ]
  },
  {
   "cell_type": "code",
   "execution_count": null,
   "id": "850fa568-f832-4d49-a4b0-c1b5a2058126",
   "metadata": {},
   "outputs": [],
   "source": [
    "# S5: NO protein SDF/NO CONECT/NO mod res is one res num/base residue is NOT cysteine\n",
    "\n",
    "\n"
   ]
  },
  {
   "cell_type": "code",
   "execution_count": null,
   "id": "f4f9349d-0725-49dd-a641-9cbcec272c04",
   "metadata": {},
   "outputs": [],
   "source": [
    "molecule = maleimide\n",
    "del molecule.properties['atom_map']"
   ]
  },
  {
   "cell_type": "code",
   "execution_count": null,
   "id": "e44352b9-8919-444a-aa17-954effb2b1c9",
   "metadata": {},
   "outputs": [],
   "source": [
    "from openff.toolkit.utils.nagl_wrapper import NAGLToolkitWrapper\n",
    "nagl = NAGLToolkitWrapper()\n",
    "nagl.assign_partial_charges(molecule, \"openff-gnn-am1bcc-0.1.0-rc.3.pt\")\n"
   ]
  },
  {
   "cell_type": "code",
   "execution_count": null,
   "id": "98fdea50-f2b3-4e5a-b1f9-6e5a05ac6270",
   "metadata": {},
   "outputs": [],
   "source": [
    "from openff.toolkit import ForceField\n",
    "ff = ForceField('openff-2.2.1.offxml')\n",
    "smirks = molecule.to_smiles(mapped=True)\n",
    "charges = molecule.partial_charges\n",
    "\n",
    "library_charge = ff['LibraryCharges'].LibraryChargeType(\n",
    "    smirks=smirks,\n",
    "    charge=charges,\n",
    ")\n",
    "print(library_charge)"
   ]
  },
  {
   "cell_type": "code",
   "execution_count": null,
   "id": "33a6ea23-c255-4dcb-b1db-7e752edbafd3",
   "metadata": {},
   "outputs": [],
   "source": [
    "from openff.toolkit import Molecule, Topology, ForceField\n",
    "from openff.toolkit.utils.nagl_wrapper import NAGLToolkitWrapper\n",
    "ff=ForceField('openff-2.1.0.offxml')\n",
    "h2po4 = Molecule.from_smiles('[O-]P(=O)(O)O')\n",
    "h2po4.generate_unique_atom_names()\n",
    "h2po4.generate_conformers(n_conformers=1)#, toolkit_registry=GTR)\n",
    "h2po4.assign_partial_charges(partial_charge_method='openff-gnn-am1bcc-0.1.0-rc.3.pt', \n",
    "                             toolkit_registry=NAGLToolkitWrapper())\n",
    "h2po4_top = Topology.from_molecules([h2po4])\n",
    "inc_h2po4 = ff.create_interchange(h2po4_top,charge_from_molecules=[h2po4])\n",
    "inc_h2po4.to_pdb(\"h2po4_inc.pdb\")\n",
    "h2po4_top.to_file(\"h2po4.pdb\")\n",
    "offtop = Topology.from_pdb(\"h2po4_inc.pdb\", unique_molecules=[h2po4])\n",
    "\n",
    "\n"
   ]
  },
  {
   "cell_type": "code",
   "execution_count": null,
   "id": "fdbfaea2-e422-4b5a-9536-281d1c08aa39",
   "metadata": {},
   "outputs": [],
   "source": [
    "import mermaid as md\n",
    "from mermaid.graph import Graph\n",
    "\n",
    "#sequence = Graph('Sequence-diagram',\"\"\"\n",
    "# %%{init: {'themeVariables': { 'fontSize': '10px' }}}%%\n",
    "# %%{init: {'theme': 'base', 'themeVariables': { 'darkMode': false }}}%%\n",
    "\n",
    "sequence = Graph('flowchart',\"\"\"\n",
    "%%{init: {'themeVariables': {'nodeWidth': 500, 'wrap': false}}}%%\n",
    "flowchart TB\n",
    "    0@{ shape: diamond, label: \"Do you have a structure of the modified protein with all hydrogens added?\" }\n",
    "    0-->|No|0A\n",
    "    0-->|Yes|1\n",
    "    0A@{ shape: rectangle, label: \"All OpenFF protein loading methods require explicit hydrogens to be present. Consider using PDBFixer, pdb2pqr, or another protein preparation tool.\"}\n",
    "    0A-->|Ok, I've added explicit hydrogens|1\n",
    "    1@{ shape: diamond, label: \"Do you have a RDKit or OpenEye Molecule of your modified protein?\" }\n",
    "    1-->|Yes|1A\n",
    "    1A@{ shape: rectangle, label: \"Molecule.from_rdkit(rdmol)\\n or \\n Molecule.from_openeye(oemol)\"}\n",
    "    1-->|No|2\n",
    "    2@{ shape: diamond, label: \"Do you have an SDF file of the modified protein?\"}\n",
    "    2-->|Yes|2A\n",
    "    2-->|No|3\n",
    "    2A@{ shape: diamond, label: \"Do you ALSO have a PDB file with residue information that you want to preserve in the final OpenFF Molecule?\"}\n",
    "    2A-->|Yes|2AA\n",
    "    2A-->|No|2AB\n",
    "    2AA@{ shape: rectangle, label: \"ref_mol = Molecule.from_file('protein.sdf')\\nfrom openmm.app import PDBFile\\npdb = PDBFile('protein.pdb')\\ntop = Topology.from_openmm(pdb.topology, unique_molecules=[ref_mol], positions=pdb.positions)\"}\n",
    "    2AB@{ shape: rectangle, label: \"offmol = Molecule.from_file('protein.sdf') \\n (then optionally) \\n offmol.percieve_residues()\"}\n",
    "    3@{ shape: diamond, label: \"Do you have a PDB file with CONECT records for the modified residue?\"}\n",
    "    3-->|Yes|3A\n",
    "    3-->|No|4\n",
    "    3A@{ shape: diamond, label: \"Do you have an SDF/SMILES of the whole modified residue (including backbone atoms, capped with hydrogens)?\"}\n",
    "    3A-->|Yes|3AA\n",
    "    3A-->|No|3AB\n",
    "    \n",
    "    3AA@{ shape: rectangle, label: \"<pre style='white-space: pre-wrap; text-align: left; width: 800px;'>\n",
    "    offmol = Molecule.from_file('mod_res.sdf')\n",
    "    # or\n",
    "    offmol = Molecule.from_smiles(modified_residue_smiles)\n",
    "    for atom in offmol.atoms:\n",
    "    &nbsp;&nbsp;&nbsp;&nbsp;atom.metadata['substructure_atom'] = True\n",
    "    backbone_smarts = '[H:1][NH2X3][CH1X4][CH0X3](=[OH0X1])[OH1X2:2][H:3]'\n",
    "    for atom_idx in offmol.chemical_environment_matches(backbone_smarts)[0]:\n",
    "    &nbsp;&nbsp;&nbsp;&nbsp;offmol.atom(atom_idx).metadata['substructure_atom'] = False\n",
    "    top = Topology.from_pdb('protein.pdb', _additional_substructures=[offmol])\n",
    "    </pre>\"}\n",
    "\n",
    "    3AB@{ shape: diamond, label: \"Is the modified residue a conjugated cysteine?\"}\n",
    "    3AB-->|Yes|3ABA\n",
    "    3AB-->|No|3ABB\n",
    "\n",
    "    3ABA@{ shape: diamond, label: \"Do you have an SDF/SMILES of the modification/covalent ligand before its attachment to a cysteine?\"}\n",
    "\n",
    "    3ABA@{ shape: rectangle, label: \"<pre style='white-space: pre-wrap; text-align: left; width: 800px;'>\n",
    "    mol = Molecule.from_file('covalent_ligand.sdf')\n",
    "\n",
    "    # Initialize the substructure_atom metadata entry on all atoms to True\n",
    "    for atom in mol.atoms:\n",
    "    &nbsp;&nbsp;&nbsp;&nbsp;atom.metadata['substructure_atom'] = True\n",
    "\n",
    "    # Mark the appropriate hydrogen as leaving\n",
    "    matches = mol.chemical_environment_matches('<a SMARTS to match one of your leaving hydrogens, ending with>[H:1]')\n",
    "    mol.atom(matches[0][0]).metadata['substructure_atom'] = False\n",
    "    \n",
    "    top = Topology.from_pdb('modified_protein.pdb',\n",
    "                        _additional_substructures=[mol])\n",
    "\n",
    "    </pre>\"}\n",
    "    3ABB@{ shape: diamond, label: \"Please write in to our <a href='https://github.com/openforcefield/ptm_prototype/issues' target='_blank'>issue tracker</a> and let us know what your SDF/SMILES file contains.\"}\n",
    "\n",
    "    \n",
    "    #4A@{ shape: rectangle, label: \"Use Topology.from_pdb with the _additional_substructures or _custom_substructures named arguments\"}\n",
    "    #5A@{ shape: rectangle, label: \"Use Topology.from_pdb with the _additional_substructures or _custom_substructures named arguments\"}\n",
    "    #6@{ shape: diamond, label: \"\"}\n",
    "    #6A@{ shape: rectangle, label: \"\"}\n",
    "    #6-->|Yes|4A\n",
    "    #6-->|No|5\n",
    "\n",
    "    \"\"\")\n",
    "render = md.Mermaid(sequence)\n",
    "render # !! note this only works in the notebook that rendered the html."
   ]
  },
  {
   "cell_type": "code",
   "execution_count": null,
   "id": "c2d30b38-793c-4f56-9cdd-eb62989c621d",
   "metadata": {},
   "outputs": [],
   "source": []
  }
 ],
 "metadata": {
  "kernelspec": {
   "display_name": "Python 3 (ipykernel)",
   "language": "python",
   "name": "python3"
  },
  "language_info": {
   "codemirror_mode": {
    "name": "ipython",
    "version": 3
   },
   "file_extension": ".py",
   "mimetype": "text/x-python",
   "name": "python",
   "nbconvert_exporter": "python",
   "pygments_lexer": "ipython3",
   "version": "3.12.9"
  },
  "widgets": {
   "application/vnd.jupyter.widget-state+json": {
    "state": {
     "00bbac465a044863837c9c78f8f4da06": {
      "model_module": "@jupyter-widgets/controls",
      "model_module_version": "2.0.0",
      "model_name": "HBoxModel",
      "state": {
       "children": [
        "IPY_MODEL_c06c19f76f0047189893df3f43592efe",
        "IPY_MODEL_99e82a3c6f204fdd950c5d2c8cc3c481"
       ],
       "layout": "IPY_MODEL_68cbf847cd6f438abe0ade3dc339b254"
      }
     },
     "020a00276e414b6ca7565d21e975be25": {
      "model_module": "@jupyter-widgets/base",
      "model_module_version": "2.0.0",
      "model_name": "LayoutModel",
      "state": {}
     },
     "03af3734850141eea71e46fe8dfa0727": {
      "model_module": "@jupyter-widgets/base",
      "model_module_version": "2.0.0",
      "model_name": "LayoutModel",
      "state": {}
     },
     "0545412306a746da96b06624fceb57b1": {
      "model_module": "@jupyter-widgets/base",
      "model_module_version": "2.0.0",
      "model_name": "LayoutModel",
      "state": {}
     },
     "055067dd686c4b149289407943077590": {
      "model_module": "@jupyter-widgets/base",
      "model_module_version": "2.0.0",
      "model_name": "LayoutModel",
      "state": {}
     },
     "05ece1cb81c143c5ad062f3e7b567634": {
      "model_module": "@jupyter-widgets/controls",
      "model_module_version": "2.0.0",
      "model_name": "ButtonModel",
      "state": {
       "icon": "compress",
       "layout": "IPY_MODEL_8cdcd07dc8fb48d6b4ed198d0ee169f8",
       "style": "IPY_MODEL_0771745d2cb54d599cda14755b8196b3",
       "tooltip": null
      }
     },
     "06467ff6c156480582851f3916ab3651": {
      "model_module": "@jupyter-widgets/base",
      "model_module_version": "2.0.0",
      "model_name": "LayoutModel",
      "state": {}
     },
     "064aa707799a4366860703665fd09625": {
      "model_module": "@jupyter-widgets/controls",
      "model_module_version": "2.0.0",
      "model_name": "DescriptionStyleModel",
      "state": {
       "description_width": ""
      }
     },
     "066e15f7c41040bbb62fc7dbbed513bf": {
      "model_module": "@jupyter-widgets/base",
      "model_module_version": "2.0.0",
      "model_name": "LayoutModel",
      "state": {}
     },
     "069d237f3259472b9ebf621bb54ebdcc": {
      "model_module": "@jupyter-widgets/controls",
      "model_module_version": "2.0.0",
      "model_name": "LinkModel",
      "state": {
       "source": [
        "IPY_MODEL_99e82a3c6f204fdd950c5d2c8cc3c481",
        "max"
       ],
       "target": [
        "IPY_MODEL_c67817247a6c478db129eb64eac74be4",
        "max_frame"
       ]
      }
     },
     "0771745d2cb54d599cda14755b8196b3": {
      "model_module": "@jupyter-widgets/controls",
      "model_module_version": "2.0.0",
      "model_name": "ButtonStyleModel",
      "state": {
       "font_family": null,
       "font_size": null,
       "font_style": null,
       "font_variant": null,
       "font_weight": null,
       "text_color": null,
       "text_decoration": null
      }
     },
     "098ecdf0427b4ea68864640dda2ad919": {
      "model_module": "@jupyter-widgets/base",
      "model_module_version": "2.0.0",
      "model_name": "LayoutModel",
      "state": {}
     },
     "099bcf0cc4d742a3a2910bc8710d9a05": {
      "model_module": "@jupyter-widgets/controls",
      "model_module_version": "2.0.0",
      "model_name": "ButtonModel",
      "state": {
       "icon": "compress",
       "layout": "IPY_MODEL_31aee3b3b34441cc87b7de6b3aae0d5f",
       "style": "IPY_MODEL_edaf96f7672040059e52b8b654966b81",
       "tooltip": null
      }
     },
     "0e3ad8a5285f4647974dfecec8d0025b": {
      "model_module": "@jupyter-widgets/controls",
      "model_module_version": "2.0.0",
      "model_name": "LinkModel",
      "state": {
       "source": [
        "IPY_MODEL_2aa4e543e0b24d60836fa3803759b6b6",
        "value"
       ],
       "target": [
        "IPY_MODEL_438e2c7516ca4ff39f57ffa2e247efb7",
        "value"
       ]
      }
     },
     "0e46091cb8b34fb29fb534d8eb7d3aee": {
      "model_module": "nglview-js-widgets",
      "model_module_version": "3.0.8",
      "model_name": "NGLModel",
      "state": {
       "_camera_orientation": [
        26.116002288694304,
        0,
        0,
        0,
        0,
        26.116002288694304,
        0,
        0,
        0,
        0,
        26.116002288694304,
        0,
        5.511000156402588,
        0,
        0,
        1
       ],
       "_camera_str": "orthographic",
       "_gui_theme": null,
       "_ibtn_fullscreen": "IPY_MODEL_8d348b66eec8487784a47be6a7e9be13",
       "_igui": null,
       "_iplayer": "IPY_MODEL_ce134e19f12f4f8ba17b2ed9b6489615",
       "_ngl_color_dict": {},
       "_ngl_coordinate_resource": {},
       "_ngl_full_stage_parameters": {
        "ambientColor": 14540253,
        "ambientIntensity": 0.2,
        "backgroundColor": "white",
        "cameraEyeSep": 0.3,
        "cameraFov": 40,
        "cameraType": "perspective",
        "clipDist": 10,
        "clipFar": 100,
        "clipMode": "scene",
        "clipNear": 0,
        "clipScale": "relative",
        "fogFar": 100,
        "fogNear": 50,
        "hoverTimeout": 0,
        "impostor": true,
        "lightColor": 14540253,
        "lightIntensity": 1,
        "mousePreset": "default",
        "panSpeed": 1,
        "quality": "medium",
        "rotateSpeed": 2,
        "sampleLevel": 0,
        "tooltip": true,
        "workerDefault": true,
        "zoomSpeed": 1.2
       },
       "_ngl_msg_archive": [
        {
         "args": [
          {
           "binary": false,
           "data": "HETATM    1  C1  UNL     1       0.000   0.000   0.000  1.00  0.00           C  \nHETATM    2  O1  UNL     1       0.000   0.000   0.000  1.00  0.00           O  \nHETATM    3  C2  UNL     1      -9.808  -0.750   0.000  1.00  0.00           C  \nHETATM    4  H1  UNL     1       0.000   0.000   0.000  1.00  0.00           H  \nHETATM    5  C3  UNL     1      -9.808   0.750   0.000  1.00  0.00           C  \nHETATM    6  H2  UNL     1       0.000   0.000   0.000  1.00  0.00           H  \nHETATM    7  C4  UNL     1       0.000   0.000   0.000  1.00  0.00           C  \nHETATM    8  O2  UNL     1       0.000   0.000   0.000  1.00  0.00           O  \nHETATM    9  H3  UNL     1     -11.022  -1.632   0.000  1.00  0.00           H  \nHETATM   10  H4  UNL     1     -11.022   1.632   0.000  1.00  0.00           H  \nHETATM   11  H5  UNL     1       0.000   0.000   0.000  1.00  0.00           H  \nHETATM   12  H6  UNL     1       0.000   0.000   0.000  1.00  0.00           H  \nCONECT    1    2    2    3   11\nCONECT    3    4    5    9\nCONECT    5    6    7   10\nCONECT    7    8    8   12\nEND\n",
           "type": "blob"
          }
         ],
         "kwargs": {
          "defaultRepresentation": true,
          "ext": "pdb",
          "name": "<openff.toolkit.utils._viz.MoleculeNGLViewTrajectory object at 0x12c1f4fe0>"
         },
         "methodName": "loadFile",
         "reconstruc_color_scheme": false,
         "target": "Stage",
         "type": "call_method"
        },
        {
         "args": [],
         "component_index": 0,
         "kwargs": {},
         "methodName": "removeAllRepresentations",
         "reconstruc_color_scheme": false,
         "target": "compList",
         "type": "call_method"
        },
        {
         "args": [
          "licorice"
         ],
         "component_index": 0,
         "kwargs": {
          "multipleBond": true,
          "radius": 0.25,
          "sele": "*"
         },
         "methodName": "addRepresentation",
         "reconstruc_color_scheme": false,
         "target": "compList",
         "type": "call_method"
        }
       ],
       "_ngl_original_stage_parameters": {
        "ambientColor": 14540253,
        "ambientIntensity": 0.2,
        "backgroundColor": "white",
        "cameraEyeSep": 0.3,
        "cameraFov": 40,
        "cameraType": "perspective",
        "clipDist": 10,
        "clipFar": 100,
        "clipMode": "scene",
        "clipNear": 0,
        "clipScale": "relative",
        "fogFar": 100,
        "fogNear": 50,
        "hoverTimeout": 0,
        "impostor": true,
        "lightColor": 14540253,
        "lightIntensity": 1,
        "mousePreset": "default",
        "panSpeed": 1,
        "quality": "medium",
        "rotateSpeed": 2,
        "sampleLevel": 0,
        "tooltip": true,
        "workerDefault": true,
        "zoomSpeed": 1.2
       },
       "_ngl_repr_dict": {
        "0": {
         "0": {
          "params": {
           "assembly": "default",
           "bondScale": 0.4,
           "bondSpacing": 1,
           "clipCenter": {
            "x": 0,
            "y": 0,
            "z": 0
           },
           "clipNear": 0,
           "clipRadius": 0,
           "colorMode": "hcl",
           "colorReverse": false,
           "colorScale": "",
           "colorScheme": "element",
           "colorValue": 9474192,
           "cylinderOnly": false,
           "defaultAssembly": "",
           "depthWrite": true,
           "diffuse": 16777215,
           "diffuseInterior": false,
           "disableImpostor": false,
           "disablePicking": false,
           "flatShaded": false,
           "interiorColor": 2236962,
           "interiorDarkening": 0,
           "lazy": false,
           "lineOnly": false,
           "linewidth": 2,
           "matrix": {
            "elements": [
             1,
             0,
             0,
             0,
             0,
             1,
             0,
             0,
             0,
             0,
             1,
             0,
             0,
             0,
             0,
             1
            ]
           },
           "metalness": 0,
           "multipleBond": true,
           "opacity": 1,
           "openEnded": true,
           "quality": "medium",
           "radialSegments": 10,
           "radiusData": {},
           "radiusScale": 1,
           "radiusSize": 0.25,
           "radiusType": "size",
           "roughness": 0.4,
           "sele": "*",
           "side": "double",
           "sphereDetail": 1,
           "useInteriorColor": true,
           "visible": true,
           "wireframe": false
          },
          "type": "licorice"
         }
        }
       },
       "_ngl_serialize": false,
       "_ngl_version": "2.0.0-dev.39",
       "_ngl_view_id": [
        "039116A2-E465-47BC-BC2A-83111D647C50"
       ],
       "_player_dict": {},
       "_scene_position": {},
       "_scene_rotation": {},
       "_synced_model_ids": [],
       "_synced_repr_model_ids": [],
       "_view_height": "",
       "_view_width": "",
       "background": "white",
       "frame": 0,
       "gui_style": null,
       "layout": "IPY_MODEL_67d2b2974c8542bd9b1fe2cfb682ae02",
       "max_frame": 0,
       "n_components": 1,
       "picked": {}
      }
     },
     "0eb41590323049b88bcdb3b795a2fb6a": {
      "model_module": "@jupyter-widgets/controls",
      "model_module_version": "2.0.0",
      "model_name": "ImageModel",
      "state": {
       "layout": "IPY_MODEL_098ecdf0427b4ea68864640dda2ad919",
       "width": "900.0"
      }
     },
     "0f4692ca8568468cbad6adbe75616fa1": {
      "model_module": "@jupyter-widgets/base",
      "model_module_version": "2.0.0",
      "model_name": "LayoutModel",
      "state": {}
     },
     "0f65f034c57b4ef9b61c6ee514f4e12d": {
      "model_module": "@jupyter-widgets/controls",
      "model_module_version": "2.0.0",
      "model_name": "IntSliderModel",
      "state": {
       "behavior": "drag-tap",
       "layout": "IPY_MODEL_716e4e1cfcb24528b7971203e8b51b8e",
       "max": 0,
       "style": "IPY_MODEL_d7903d581b0943abae91341682c8e6b2"
      }
     },
     "0f76d19501c34bb7b27bfa3e662bb92c": {
      "model_module": "@jupyter-widgets/controls",
      "model_module_version": "2.0.0",
      "model_name": "PlayModel",
      "state": {
       "layout": "IPY_MODEL_6718e62ba69f42f1aaaa4ec75fe04d12",
       "max": 0,
       "style": "IPY_MODEL_79416bfde63d4ad8a6d55066fecf55c4"
      }
     },
     "12a2bea6df8c430d841860252d9b6a3c": {
      "model_module": "@jupyter-widgets/controls",
      "model_module_version": "2.0.0",
      "model_name": "LinkModel",
      "state": {
       "source": [
        "IPY_MODEL_a2ac4ea002a243dfbd16a486f67d39ea",
        "max"
       ],
       "target": [
        "IPY_MODEL_a56b92be02304730bed743e138e21174",
        "max_frame"
       ]
      }
     },
     "130c150a538c46ffa9843d2d2e4fa227": {
      "model_module": "@jupyter-widgets/controls",
      "model_module_version": "2.0.0",
      "model_name": "DescriptionStyleModel",
      "state": {
       "description_width": ""
      }
     },
     "132aeadf4be54b47b23a4eef995befd4": {
      "model_module": "@jupyter-widgets/controls",
      "model_module_version": "2.0.0",
      "model_name": "SliderStyleModel",
      "state": {
       "description_width": ""
      }
     },
     "13ad7cee959e42be96afdab866a3a2bf": {
      "model_module": "@jupyter-widgets/base",
      "model_module_version": "2.0.0",
      "model_name": "LayoutModel",
      "state": {}
     },
     "164bc8e8e2b14a24979b75096b47d8df": {
      "model_module": "@jupyter-widgets/controls",
      "model_module_version": "2.0.0",
      "model_name": "PlayModel",
      "state": {
       "layout": "IPY_MODEL_8256c6751feb4a288f8b7c0e93be288c",
       "max": 1,
       "style": "IPY_MODEL_7928dc7b4e574e26aca96d844e72ed37"
      }
     },
     "16fddde77e754f219404db98cacf05cf": {
      "model_module": "nglview-js-widgets",
      "model_module_version": "3.0.8",
      "model_name": "NGLModel",
      "state": {
       "_camera_orientation": [
        30.502502514965663,
        0,
        0,
        0,
        0,
        30.502502514965663,
        0,
        0,
        0,
        0,
        30.502502514965663,
        0,
        4.011000156402588,
        -0.6494998931884766,
        0,
        1
       ],
       "_camera_str": "orthographic",
       "_gui_theme": null,
       "_ibtn_fullscreen": "IPY_MODEL_4c3de44e66a24944b993f50b3915285e",
       "_igui": null,
       "_iplayer": "IPY_MODEL_c032525e0cf84a9585ff9684bbce6386",
       "_ngl_color_dict": {},
       "_ngl_coordinate_resource": {},
       "_ngl_full_stage_parameters": {
        "ambientColor": 14540253,
        "ambientIntensity": 0.2,
        "backgroundColor": "white",
        "cameraEyeSep": 0.3,
        "cameraFov": 40,
        "cameraType": "perspective",
        "clipDist": 10,
        "clipFar": 100,
        "clipMode": "scene",
        "clipNear": 0,
        "clipScale": "relative",
        "fogFar": 100,
        "fogNear": 50,
        "hoverTimeout": 0,
        "impostor": true,
        "lightColor": 14540253,
        "lightIntensity": 1,
        "mousePreset": "default",
        "panSpeed": 1,
        "quality": "medium",
        "rotateSpeed": 2,
        "sampleLevel": 0,
        "tooltip": true,
        "workerDefault": true,
        "zoomSpeed": 1.2
       },
       "_ngl_msg_archive": [
        {
         "args": [
          {
           "binary": false,
           "data": "HETATM    1  N1  UNL     1      -7.500  -0.000   0.000  1.00  0.00           N  \nHETATM    2  C1  UNL     1      -8.382   1.214   0.000  1.00  0.00           C  \nHETATM    3  O1  UNL     1      -7.918   2.640   0.000  1.00  0.00           O  \nHETATM    4  C2  UNL     1      -9.808   0.750   0.000  1.00  0.00           C  \nATOM      5  HG  CYS     0       0.000   0.000   0.000  1.00  0.00           H  \nHETATM    6  H1  UNL     1     -11.022   1.632   0.000  1.00  0.00           H  \nHETATM    7  C3  UNL     1      -9.808  -0.750   0.000  1.00  0.00           C  \nATOM      8  SG  CYS     0       0.000   0.000   0.000  1.00  0.00           S  \nATOM      9  CB  CYS     0       0.000   0.000   0.000  1.00  0.00           C  \nHETATM   10  H2  UNL     1     -11.022  -1.632   0.000  1.00  0.00           H  \nHETATM   11  C4  UNL     1      -8.382  -1.214   0.000  1.00  0.00           C  \nHETATM   12  O2  UNL     1      -7.918  -2.640   0.000  1.00  0.00           O  \nATOM     13  CA  CYS     0       0.000   0.000   0.000  1.00  0.00           C  \nATOM     14 HB2  CYS     0       0.000   0.000   0.000  1.00  0.00           H  \nATOM     15 HB3  CYS     0       0.000   0.000   0.000  1.00  0.00           H  \nATOM     16  N   CYS     0       0.000   0.000   0.000  1.00  0.00           N  \nATOM     17  C   CYS     0       0.000   0.000   0.000  1.00  0.00           C  \nATOM     18  HA  CYS     0       0.000   0.000   0.000  1.00  0.00           H  \nATOM     19  H   CYS     0       0.000   0.000   0.000  1.00  0.00           H  \nATOM     20  H2  CYS     0       0.000   0.000   0.000  1.00  0.00           H  \nATOM     21  O   CYS     0       0.000   0.000   0.000  1.00  0.00           O  \nATOM     22 OXT  CYS     0       0.000   0.000   0.000  1.00  0.00           O  \nATOM     23 HXT  CYS     0       0.000   0.000   0.000  1.00  0.00           H  \nHETATM   24  C5  UNL     1      -6.000  -0.000   0.000  1.00  0.00           C  \nHETATM   25  C6  UNL     1      -5.250   1.299   0.000  1.00  0.00           C  \nHETATM   26  C7  UNL     1      -5.250  -1.299   0.000  1.00  0.00           C  \nHETATM   27  H3  UNL     1      -6.000   2.598   0.000  1.00  0.00           H  \nHETATM   28  C8  UNL     1      -3.750   1.299   0.000  1.00  0.00           C  \nHETATM   29  C9  UNL     1      -3.750  -1.299   0.000  1.00  0.00           C  \nHETATM   30  H4  UNL     1      -6.000  -2.598   0.000  1.00  0.00           H  \nHETATM   31  H5  UNL     1      -3.365   2.205   0.000  1.00  0.00           H  \nHETATM   32  C10 UNL     1      -3.000   0.000   0.000  1.00  0.00           C  \nHETATM   33  C11 UNL     1      -3.000  -2.598   0.000  1.00  0.00           C  \nHETATM   34  C12 UNL     1      -1.500   0.000   0.000  1.00  0.00           C  \nHETATM   35  O3  UNL     1      -3.750  -3.897   0.000  1.00  0.00           O  \nHETATM   36  O4  UNL     1      -1.545  -2.961   0.000  1.00  0.00           O1-\nHETATM   37  C13 UNL     1      -0.750  -1.299   0.000  1.00  0.00           C  \nHETATM   38  C14 UNL     1      -0.750   1.299   0.000  1.00  0.00           C  \nHETATM   39  C15 UNL     1      -1.500  -2.598   0.000  1.00  0.00           C  \nHETATM   40  C16 UNL     1       0.750  -1.299   0.000  1.00  0.00           C  \nHETATM   41  C17 UNL     1      -1.500   2.598   0.000  1.00  0.00           C  \nHETATM   42  C18 UNL     1       0.750   1.299   0.000  1.00  0.00           C  \nHETATM   43  H6  UNL     1      -2.273  -2.791   0.000  1.00  0.00           H  \nHETATM   44  C19 UNL     1      -0.750  -3.897   0.000  1.00  0.00           C  \nHETATM   45  C20 UNL     1       1.500  -2.598   0.000  1.00  0.00           C  \nHETATM   46  O5  UNL     1       1.500   0.000   0.000  1.00  0.00           O  \nHETATM   47  C21 UNL     1      -0.750   3.897   0.000  1.00  0.00           C  \nHETATM   48  H7  UNL     1      -2.477   2.718   0.000  1.00  0.00           H  \nHETATM   49  C22 UNL     1       1.500   2.598   0.000  1.00  0.00           C  \nHETATM   50  H8  UNL     1      -1.500  -5.196   0.000  1.00  0.00           H  \nHETATM   51  C23 UNL     1       0.750  -3.897   0.000  1.00  0.00           C  \nHETATM   52  H9  UNL     1       3.000  -2.598   0.000  1.00  0.00           H  \nHETATM   53  C24 UNL     1       0.750   3.897   0.000  1.00  0.00           C  \nHETATM   54  H10 UNL     1      -1.500   5.196   0.000  1.00  0.00           H  \nHETATM   55  H11 UNL     1       3.000   2.598   0.000  1.00  0.00           H  \nHETATM   56  O6  UNL     1       1.500  -5.196   0.000  1.00  0.00           O  \nHETATM   57  O7  UNL     1       1.500   5.196   0.000  1.00  0.00           O  \nHETATM   58  H12 UNL     1       0.750   6.495   0.000  1.00  0.00           H  \nCONECT    1    2   11   24\nCONECT    2    3    3    4\nCONECT    4    5    6    7\nCONECT    7    8   10   11\nCONECT    8    9\nCONECT    9   13   14   15\nCONECT   11   12   12\nCONECT   13   16   17   18\nCONECT   16   19   20\nCONECT   17   21   21   22\nCONECT   22   23\nCONECT   24   25   25   26\nCONECT   25   27   28\nCONECT   26   29   29   30\nCONECT   28   31   32   32\nCONECT   29   32   33\nCONECT   32   34\nCONECT   33   35   35   36\nCONECT   34   37   37   38\nCONECT   37   39   40\nCONECT   38   41   42   42\nCONECT   39   43   44   44\nCONECT   40   45   45   46\nCONECT   41   47   47   48\nCONECT   42   46   49\nCONECT   44   50   51\nCONECT   45   51   52\nCONECT   47   53   54\nCONECT   49   53   53   55\nCONECT   51   56   56\nCONECT   53   57\nCONECT   57   58\nEND\n",
           "type": "blob"
          }
         ],
         "kwargs": {
          "defaultRepresentation": true,
          "ext": "pdb",
          "name": "<openff.toolkit.utils._viz.MoleculeNGLViewTrajectory object at 0x12ec73bf0>"
         },
         "methodName": "loadFile",
         "reconstruc_color_scheme": false,
         "target": "Stage",
         "type": "call_method"
        },
        {
         "args": [],
         "component_index": 0,
         "kwargs": {},
         "methodName": "removeAllRepresentations",
         "reconstruc_color_scheme": false,
         "target": "compList",
         "type": "call_method"
        },
        {
         "args": [
          "licorice"
         ],
         "component_index": 0,
         "kwargs": {
          "multipleBond": true,
          "radius": 0.25,
          "sele": "*"
         },
         "methodName": "addRepresentation",
         "reconstruc_color_scheme": false,
         "target": "compList",
         "type": "call_method"
        }
       ],
       "_ngl_original_stage_parameters": {
        "ambientColor": 14540253,
        "ambientIntensity": 0.2,
        "backgroundColor": "white",
        "cameraEyeSep": 0.3,
        "cameraFov": 40,
        "cameraType": "perspective",
        "clipDist": 10,
        "clipFar": 100,
        "clipMode": "scene",
        "clipNear": 0,
        "clipScale": "relative",
        "fogFar": 100,
        "fogNear": 50,
        "hoverTimeout": 0,
        "impostor": true,
        "lightColor": 14540253,
        "lightIntensity": 1,
        "mousePreset": "default",
        "panSpeed": 1,
        "quality": "medium",
        "rotateSpeed": 2,
        "sampleLevel": 0,
        "tooltip": true,
        "workerDefault": true,
        "zoomSpeed": 1.2
       },
       "_ngl_repr_dict": {
        "0": {
         "0": {
          "params": {
           "assembly": "default",
           "bondScale": 0.4,
           "bondSpacing": 1,
           "clipCenter": {
            "x": 0,
            "y": 0,
            "z": 0
           },
           "clipNear": 0,
           "clipRadius": 0,
           "colorMode": "hcl",
           "colorReverse": false,
           "colorScale": "",
           "colorScheme": "element",
           "colorValue": 9474192,
           "cylinderOnly": false,
           "defaultAssembly": "",
           "depthWrite": true,
           "diffuse": 16777215,
           "diffuseInterior": false,
           "disableImpostor": false,
           "disablePicking": false,
           "flatShaded": false,
           "interiorColor": 2236962,
           "interiorDarkening": 0,
           "lazy": false,
           "lineOnly": false,
           "linewidth": 2,
           "matrix": {
            "elements": [
             1,
             0,
             0,
             0,
             0,
             1,
             0,
             0,
             0,
             0,
             1,
             0,
             0,
             0,
             0,
             1
            ]
           },
           "metalness": 0,
           "multipleBond": true,
           "opacity": 1,
           "openEnded": true,
           "quality": "medium",
           "radialSegments": 10,
           "radiusData": {},
           "radiusScale": 1,
           "radiusSize": 0.25,
           "radiusType": "size",
           "roughness": 0.4,
           "sele": "*",
           "side": "double",
           "sphereDetail": 1,
           "useInteriorColor": true,
           "visible": true,
           "wireframe": false
          },
          "type": "licorice"
         }
        }
       },
       "_ngl_serialize": false,
       "_ngl_version": "2.0.0-dev.39",
       "_ngl_view_id": [
        "889C3AD3-2C27-461B-BA55-343799924A07"
       ],
       "_player_dict": {},
       "_scene_position": {},
       "_scene_rotation": {},
       "_synced_model_ids": [],
       "_synced_repr_model_ids": [],
       "_view_height": "",
       "_view_width": "",
       "background": "white",
       "frame": 0,
       "gui_style": null,
       "layout": "IPY_MODEL_524b55d1316647b3a8155f364f2b2aa9",
       "max_frame": 0,
       "n_components": 1,
       "picked": {}
      }
     },
     "1744f87080f64c009c568363ba833aef": {
      "model_module": "@jupyter-widgets/controls",
      "model_module_version": "2.0.0",
      "model_name": "LinkModel",
      "state": {
       "source": [
        "IPY_MODEL_ace455c6acc5428382d8789a0bd1cbac",
        "value"
       ],
       "target": [
        "IPY_MODEL_ee8532b03ee64e70b18167882c8bf4c7",
        "value"
       ]
      }
     },
     "179065227118474999e8ef3b432ab69c": {
      "model_module": "@jupyter-widgets/controls",
      "model_module_version": "2.0.0",
      "model_name": "ButtonStyleModel",
      "state": {
       "font_family": null,
       "font_size": null,
       "font_style": null,
       "font_variant": null,
       "font_weight": null,
       "text_color": null,
       "text_decoration": null
      }
     },
     "1a757be094af4d8e9497da2bcc0d36a1": {
      "model_module": "nglview-js-widgets",
      "model_module_version": "3.0.8",
      "model_name": "NGLModel",
      "state": {
       "_camera_orientation": [],
       "_camera_str": "orthographic",
       "_gui_theme": null,
       "_ibtn_fullscreen": null,
       "_igui": null,
       "_iplayer": null,
       "_ngl_color_dict": {},
       "_ngl_coordinate_resource": {},
       "_ngl_full_stage_parameters": {},
       "_ngl_msg_archive": [],
       "_ngl_original_stage_parameters": {},
       "_ngl_repr_dict": {},
       "_ngl_serialize": false,
       "_ngl_version": "",
       "_ngl_view_id": [],
       "_player_dict": {},
       "_scene_position": {},
       "_scene_rotation": {},
       "_synced_model_ids": [],
       "_synced_repr_model_ids": [],
       "_view_height": "",
       "_view_width": "",
       "background": "white",
       "frame": 0,
       "gui_style": null,
       "layout": "IPY_MODEL_055067dd686c4b149289407943077590",
       "max_frame": 0,
       "n_components": 0,
       "picked": {}
      }
     },
     "1b22780ec7944a0e97c644eed69240d2": {
      "model_module": "@jupyter-widgets/controls",
      "model_module_version": "2.0.0",
      "model_name": "LinkModel",
      "state": {
       "source": [
        "IPY_MODEL_ace455c6acc5428382d8789a0bd1cbac",
        "value"
       ],
       "target": [
        "IPY_MODEL_16fddde77e754f219404db98cacf05cf",
        "frame"
       ]
      }
     },
     "1c76c5dc25df41e8a57b5cef4a71394d": {
      "model_module": "@jupyter-widgets/controls",
      "model_module_version": "2.0.0",
      "model_name": "SliderStyleModel",
      "state": {
       "description_width": ""
      }
     },
     "1dfa930b1bf2428fbddb4c9ac82f93fb": {
      "model_module": "@jupyter-widgets/controls",
      "model_module_version": "2.0.0",
      "model_name": "LinkModel",
      "state": {
       "source": [
        "IPY_MODEL_2d61c1dd01514f7bb2e79f692508e5fa",
        "value"
       ],
       "target": [
        "IPY_MODEL_44b1328b3d744418b4e9cc8686024e0c",
        "value"
       ]
      }
     },
     "1dfdae6177bd4065891dc35d08606099": {
      "model_module": "@jupyter-widgets/controls",
      "model_module_version": "2.0.0",
      "model_name": "PlayModel",
      "state": {
       "layout": "IPY_MODEL_a9bd6ce50e88474fa45051d9f040ca6c",
       "max": 0,
       "style": "IPY_MODEL_a3ab6ea206cf4122b112bcefa7238fac"
      }
     },
     "1e79a0cfd4154892bdf4204569d3d39b": {
      "model_module": "@jupyter-widgets/base",
      "model_module_version": "2.0.0",
      "model_name": "LayoutModel",
      "state": {}
     },
     "204d1488f41b47bd88cc559e07992a69": {
      "model_module": "@jupyter-widgets/controls",
      "model_module_version": "2.0.0",
      "model_name": "LinkModel",
      "state": {
       "source": [
        "IPY_MODEL_ace455c6acc5428382d8789a0bd1cbac",
        "max"
       ],
       "target": [
        "IPY_MODEL_16fddde77e754f219404db98cacf05cf",
        "max_frame"
       ]
      }
     },
     "232e014d5eee447b9aa43bef3b7aea22": {
      "model_module": "@jupyter-widgets/controls",
      "model_module_version": "2.0.0",
      "model_name": "ButtonStyleModel",
      "state": {
       "font_family": null,
       "font_size": null,
       "font_style": null,
       "font_variant": null,
       "font_weight": null,
       "text_color": null,
       "text_decoration": null
      }
     },
     "257b7b4246f543dc8db1be8027db6492": {
      "model_module": "@jupyter-widgets/controls",
      "model_module_version": "2.0.0",
      "model_name": "LinkModel",
      "state": {
       "source": [
        "IPY_MODEL_c06c19f76f0047189893df3f43592efe",
        "max"
       ],
       "target": [
        "IPY_MODEL_c67817247a6c478db129eb64eac74be4",
        "max_frame"
       ]
      }
     },
     "28d02da36a594d95aa36aee8eece2b7a": {
      "model_module": "@jupyter-widgets/controls",
      "model_module_version": "2.0.0",
      "model_name": "HBoxModel",
      "state": {
       "children": [
        "IPY_MODEL_164bc8e8e2b14a24979b75096b47d8df",
        "IPY_MODEL_a9b4a38530e94108afefe7744b659da3"
       ],
       "layout": "IPY_MODEL_066e15f7c41040bbb62fc7dbbed513bf"
      }
     },
     "2906b919f7aa4fd1802ba8f1747a178a": {
      "model_module": "@jupyter-widgets/base",
      "model_module_version": "2.0.0",
      "model_name": "LayoutModel",
      "state": {}
     },
     "2aa4e543e0b24d60836fa3803759b6b6": {
      "model_module": "@jupyter-widgets/controls",
      "model_module_version": "2.0.0",
      "model_name": "PlayModel",
      "state": {
       "layout": "IPY_MODEL_8d6d8ce7e1254f838b9c69f597214a94",
       "max": 0,
       "style": "IPY_MODEL_77ee10aa429c4855903cafcf594bbca2"
      }
     },
     "2c250d4b03484c69924ff2cf0109112a": {
      "model_module": "@jupyter-widgets/controls",
      "model_module_version": "2.0.0",
      "model_name": "LinkModel",
      "state": {
       "source": [
        "IPY_MODEL_0f76d19501c34bb7b27bfa3e662bb92c",
        "max"
       ],
       "target": [
        "IPY_MODEL_eabf4d170add49079bf668d772449d39",
        "max_frame"
       ]
      }
     },
     "2c27bc08bf034b55866a87973b64c822": {
      "model_module": "@jupyter-widgets/base",
      "model_module_version": "2.0.0",
      "model_name": "LayoutModel",
      "state": {}
     },
     "2d61c1dd01514f7bb2e79f692508e5fa": {
      "model_module": "@jupyter-widgets/controls",
      "model_module_version": "2.0.0",
      "model_name": "PlayModel",
      "state": {
       "layout": "IPY_MODEL_df1c6e9ba3e44723b66946ab30a0f3bf",
       "max": 0,
       "style": "IPY_MODEL_b11f53f1634746df9b83a7f299c4abdb"
      }
     },
     "2d8d513854334ffcb442e3b48cc0f21e": {
      "model_module": "@jupyter-widgets/base",
      "model_module_version": "2.0.0",
      "model_name": "LayoutModel",
      "state": {}
     },
     "2e6db506c5c146f79e25128a916ee402": {
      "model_module": "@jupyter-widgets/controls",
      "model_module_version": "2.0.0",
      "model_name": "ImageModel",
      "state": {
       "layout": "IPY_MODEL_684c22a480ca4389a36afe252b52b4a1",
       "width": "900.0"
      }
     },
     "2f71c1b383ee4922a38abd140fc1da8a": {
      "model_module": "@jupyter-widgets/base",
      "model_module_version": "2.0.0",
      "model_name": "LayoutModel",
      "state": {}
     },
     "30052aa72723418786ade0b57f3ffdd5": {
      "model_module": "@jupyter-widgets/controls",
      "model_module_version": "2.0.0",
      "model_name": "ButtonModel",
      "state": {
       "icon": "compress",
       "layout": "IPY_MODEL_3d59f46c08a94b4abd19ab42ef0f1c75",
       "style": "IPY_MODEL_7f8e9a3d88d14435a85644e961723411",
       "tooltip": null
      }
     },
     "30c5db01cbe0404a86fc0dfae7fb81a5": {
      "model_module": "@jupyter-widgets/base",
      "model_module_version": "2.0.0",
      "model_name": "LayoutModel",
      "state": {}
     },
     "317f765838ee4bf2b34149139570af65": {
      "model_module": "@jupyter-widgets/base",
      "model_module_version": "2.0.0",
      "model_name": "LayoutModel",
      "state": {
       "width": "34px"
      }
     },
     "31aee3b3b34441cc87b7de6b3aae0d5f": {
      "model_module": "@jupyter-widgets/base",
      "model_module_version": "2.0.0",
      "model_name": "LayoutModel",
      "state": {
       "width": "34px"
      }
     },
     "31f20add5d144ed58d8035e1dd4dd57d": {
      "model_module": "@jupyter-widgets/controls",
      "model_module_version": "2.0.0",
      "model_name": "ImageModel",
      "state": {
       "layout": "IPY_MODEL_ce9c2a2d8dee4809a439bda08fc16d45",
       "width": "900.0"
      }
     },
     "33fc6c6bb0af4575ae319f103a996d62": {
      "model_module": "@jupyter-widgets/base",
      "model_module_version": "2.0.0",
      "model_name": "LayoutModel",
      "state": {}
     },
     "34161dd36b2a474fa32939ce8531eae9": {
      "model_module": "nglview-js-widgets",
      "model_module_version": "3.0.8",
      "model_name": "NGLModel",
      "state": {
       "_camera_orientation": [],
       "_camera_str": "orthographic",
       "_gui_theme": null,
       "_ibtn_fullscreen": null,
       "_igui": null,
       "_iplayer": null,
       "_ngl_color_dict": {},
       "_ngl_coordinate_resource": {},
       "_ngl_full_stage_parameters": {},
       "_ngl_msg_archive": [],
       "_ngl_original_stage_parameters": {},
       "_ngl_repr_dict": {},
       "_ngl_serialize": false,
       "_ngl_version": "",
       "_ngl_view_id": [],
       "_player_dict": {},
       "_scene_position": {},
       "_scene_rotation": {},
       "_synced_model_ids": [],
       "_synced_repr_model_ids": [],
       "_view_height": "",
       "_view_width": "",
       "background": "white",
       "frame": 0,
       "gui_style": null,
       "layout": "IPY_MODEL_5fa5bf6ade054bce815eb7d3ad6162b4",
       "max_frame": 0,
       "n_components": 0,
       "picked": {}
      }
     },
     "342942decf6d41388f76af10468ec9d4": {
      "model_module": "@jupyter-widgets/base",
      "model_module_version": "2.0.0",
      "model_name": "LayoutModel",
      "state": {}
     },
     "378f0aaaa0dd4defbf083c66d99ab856": {
      "model_module": "@jupyter-widgets/base",
      "model_module_version": "2.0.0",
      "model_name": "LayoutModel",
      "state": {}
     },
     "39b9235160d944d2872f608906a0d1b3": {
      "model_module": "@jupyter-widgets/base",
      "model_module_version": "2.0.0",
      "model_name": "LayoutModel",
      "state": {
       "width": "34px"
      }
     },
     "3ae612abb21441fdac0b712c50df0c3f": {
      "model_module": "nglview-js-widgets",
      "model_module_version": "3.0.8",
      "model_name": "NGLModel",
      "state": {
       "_camera_orientation": [
        23.48900952084376,
        10.760438320787296,
        3.8111644437532313,
        0,
        -11.392481811066988,
        21.544194968122756,
        9.386404897675199,
        0,
        0.7234400163822967,
        -10.104761544100226,
        24.071061551636042,
        0,
        5.511000156402588,
        0,
        0,
        1
       ],
       "_camera_str": "orthographic",
       "_gui_theme": null,
       "_ibtn_fullscreen": "IPY_MODEL_946a8869ddf04b89b17be65fd3732659",
       "_igui": null,
       "_iplayer": "IPY_MODEL_5062f5e9c4b649b2b535f0d3ecd35ed4",
       "_ngl_color_dict": {},
       "_ngl_coordinate_resource": {},
       "_ngl_full_stage_parameters": {
        "ambientColor": 14540253,
        "ambientIntensity": 0.2,
        "backgroundColor": "white",
        "cameraEyeSep": 0.3,
        "cameraFov": 40,
        "cameraType": "perspective",
        "clipDist": 10,
        "clipFar": 100,
        "clipMode": "scene",
        "clipNear": 0,
        "clipScale": "relative",
        "fogFar": 100,
        "fogNear": 50,
        "hoverTimeout": 0,
        "impostor": true,
        "lightColor": 14540253,
        "lightIntensity": 1,
        "mousePreset": "default",
        "panSpeed": 1,
        "quality": "medium",
        "rotateSpeed": 2,
        "sampleLevel": 0,
        "tooltip": true,
        "workerDefault": true,
        "zoomSpeed": 1.2
       },
       "_ngl_msg_archive": [
        {
         "args": [
          {
           "binary": false,
           "data": "HETATM    1  C1  UNL     1       0.000   0.000   0.000  1.00  0.00           C  \nHETATM    2  O1  UNL     1       0.000   0.000   0.000  1.00  0.00           O  \nHETATM    3  C2  UNL     1      -9.808   0.750   0.000  1.00  0.00           C  \nHETATM    4  H1  UNL     1       0.000   0.000   0.000  1.00  0.00           H  \nHETATM    5  H2  UNL     1     -11.022   1.632   0.000  1.00  0.00           H  \nHETATM    6  C3  UNL     1      -9.808  -0.750   0.000  1.00  0.00           C  \nHETATM    7  H3  UNL     1       0.000   0.000   0.000  1.00  0.00           H  \nHETATM    8  H4  UNL     1     -11.022  -1.632   0.000  1.00  0.00           H  \nHETATM    9  C4  UNL     1       0.000   0.000   0.000  1.00  0.00           C  \nHETATM   10  O2  UNL     1       0.000   0.000   0.000  1.00  0.00           O  \nHETATM   11  H5  UNL     1       0.000   0.000   0.000  1.00  0.00           H  \nHETATM   12  H6  UNL     1       0.000   0.000   0.000  1.00  0.00           H  \nCONECT    1    2    2    3   11\nCONECT    3    4    5    6\nCONECT    6    7    8    9\nCONECT    9   10   10   12\nEND\n",
           "type": "blob"
          }
         ],
         "kwargs": {
          "defaultRepresentation": true,
          "ext": "pdb",
          "name": "<openff.toolkit.utils._viz.MoleculeNGLViewTrajectory object at 0x12cd56ea0>"
         },
         "methodName": "loadFile",
         "reconstruc_color_scheme": false,
         "target": "Stage",
         "type": "call_method"
        },
        {
         "args": [],
         "component_index": 0,
         "kwargs": {},
         "methodName": "removeAllRepresentations",
         "reconstruc_color_scheme": false,
         "target": "compList",
         "type": "call_method"
        },
        {
         "args": [
          "licorice"
         ],
         "component_index": 0,
         "kwargs": {
          "multipleBond": true,
          "radius": 0.25,
          "sele": "*"
         },
         "methodName": "addRepresentation",
         "reconstruc_color_scheme": false,
         "target": "compList",
         "type": "call_method"
        }
       ],
       "_ngl_original_stage_parameters": {
        "ambientColor": 14540253,
        "ambientIntensity": 0.2,
        "backgroundColor": "white",
        "cameraEyeSep": 0.3,
        "cameraFov": 40,
        "cameraType": "perspective",
        "clipDist": 10,
        "clipFar": 100,
        "clipMode": "scene",
        "clipNear": 0,
        "clipScale": "relative",
        "fogFar": 100,
        "fogNear": 50,
        "hoverTimeout": 0,
        "impostor": true,
        "lightColor": 14540253,
        "lightIntensity": 1,
        "mousePreset": "default",
        "panSpeed": 1,
        "quality": "medium",
        "rotateSpeed": 2,
        "sampleLevel": 0,
        "tooltip": true,
        "workerDefault": true,
        "zoomSpeed": 1.2
       },
       "_ngl_repr_dict": {
        "0": {
         "0": {
          "params": {
           "assembly": "default",
           "bondScale": 0.4,
           "bondSpacing": 1,
           "clipCenter": {
            "x": 0,
            "y": 0,
            "z": 0
           },
           "clipNear": 0,
           "clipRadius": 0,
           "colorMode": "hcl",
           "colorReverse": false,
           "colorScale": "",
           "colorScheme": "element",
           "colorValue": 9474192,
           "cylinderOnly": false,
           "defaultAssembly": "",
           "depthWrite": true,
           "diffuse": 16777215,
           "diffuseInterior": false,
           "disableImpostor": false,
           "disablePicking": false,
           "flatShaded": false,
           "interiorColor": 2236962,
           "interiorDarkening": 0,
           "lazy": false,
           "lineOnly": false,
           "linewidth": 2,
           "matrix": {
            "elements": [
             1,
             0,
             0,
             0,
             0,
             1,
             0,
             0,
             0,
             0,
             1,
             0,
             0,
             0,
             0,
             1
            ]
           },
           "metalness": 0,
           "multipleBond": true,
           "opacity": 1,
           "openEnded": true,
           "quality": "medium",
           "radialSegments": 10,
           "radiusData": {},
           "radiusScale": 1,
           "radiusSize": 0.25,
           "radiusType": "size",
           "roughness": 0.4,
           "sele": "*",
           "side": "double",
           "sphereDetail": 1,
           "useInteriorColor": true,
           "visible": true,
           "wireframe": false
          },
          "type": "licorice"
         }
        }
       },
       "_ngl_serialize": false,
       "_ngl_version": "2.0.0-dev.39",
       "_ngl_view_id": [
        "972A5825-BFDB-4057-83EE-8B08106589D0"
       ],
       "_player_dict": {},
       "_scene_position": {},
       "_scene_rotation": {},
       "_synced_model_ids": [],
       "_synced_repr_model_ids": [],
       "_view_height": "",
       "_view_width": "",
       "background": "white",
       "frame": 0,
       "gui_style": null,
       "layout": "IPY_MODEL_f59c2cdd855142fd8f1eef4458ba6f15",
       "max_frame": 0,
       "n_components": 1,
       "picked": {}
      }
     },
     "3d59f46c08a94b4abd19ab42ef0f1c75": {
      "model_module": "@jupyter-widgets/base",
      "model_module_version": "2.0.0",
      "model_name": "LayoutModel",
      "state": {
       "width": "34px"
      }
     },
     "3d7e0bcd75024c7e8bbf98f30f9ab64e": {
      "model_module": "@jupyter-widgets/controls",
      "model_module_version": "2.0.0",
      "model_name": "ImageModel",
      "state": {
       "layout": "IPY_MODEL_06467ff6c156480582851f3916ab3651",
       "width": "900.0"
      }
     },
     "3f00f4a12b3d4869aba154f4f8249dfd": {
      "model_module": "nglview-js-widgets",
      "model_module_version": "3.0.8",
      "model_name": "ColormakerRegistryModel",
      "state": {
       "_msg_ar": [],
       "_msg_q": [],
       "_ready": true,
       "layout": "IPY_MODEL_ea86b26940fc452cace64bd41ddb85b0"
      }
     },
     "4073aa3e3df642ba8e34b93002f4a9cc": {
      "model_module": "@jupyter-widgets/controls",
      "model_module_version": "2.0.0",
      "model_name": "SliderStyleModel",
      "state": {
       "description_width": ""
      }
     },
     "4091a7410e9e4404bcb1593eba53f583": {
      "model_module": "@jupyter-widgets/controls",
      "model_module_version": "2.0.0",
      "model_name": "LinkModel",
      "state": {
       "source": [
        "IPY_MODEL_c06c19f76f0047189893df3f43592efe",
        "value"
       ],
       "target": [
        "IPY_MODEL_c67817247a6c478db129eb64eac74be4",
        "frame"
       ]
      }
     },
     "414c9dc60b004a37986f27387d8a090a": {
      "model_module": "@jupyter-widgets/base",
      "model_module_version": "2.0.0",
      "model_name": "LayoutModel",
      "state": {}
     },
     "424f676eada14d73aba9f0930cf23e69": {
      "model_module": "@jupyter-widgets/controls",
      "model_module_version": "2.0.0",
      "model_name": "ImageModel",
      "state": {
       "layout": "IPY_MODEL_8ad8205400d74c38b7f9d2aab80f9392",
       "width": "900.0"
      }
     },
     "4351754e105545bcacc31018a3d1eb28": {
      "model_module": "nglview-js-widgets",
      "model_module_version": "3.0.8",
      "model_name": "NGLModel",
      "state": {
       "_camera_orientation": [
        30.502502514965663,
        0,
        0,
        0,
        0,
        30.502502514965663,
        0,
        0,
        0,
        0,
        30.502502514965663,
        0,
        4.011000156402588,
        -0.6494998931884766,
        0,
        1
       ],
       "_camera_str": "orthographic",
       "_gui_theme": null,
       "_ibtn_fullscreen": "IPY_MODEL_7bf931e70f2d43758a6703394c2baf2a",
       "_igui": null,
       "_iplayer": "IPY_MODEL_dc1c565c20264dea8f278e9e8c7c1654",
       "_ngl_color_dict": {},
       "_ngl_coordinate_resource": {},
       "_ngl_full_stage_parameters": {
        "ambientColor": 14540253,
        "ambientIntensity": 0.2,
        "backgroundColor": "white",
        "cameraEyeSep": 0.3,
        "cameraFov": 40,
        "cameraType": "perspective",
        "clipDist": 10,
        "clipFar": 100,
        "clipMode": "scene",
        "clipNear": 0,
        "clipScale": "relative",
        "fogFar": 100,
        "fogNear": 50,
        "hoverTimeout": 0,
        "impostor": true,
        "lightColor": 14540253,
        "lightIntensity": 1,
        "mousePreset": "default",
        "panSpeed": 1,
        "quality": "medium",
        "rotateSpeed": 2,
        "sampleLevel": 0,
        "tooltip": true,
        "workerDefault": true,
        "zoomSpeed": 1.2
       },
       "_ngl_msg_archive": [
        {
         "args": [
          {
           "binary": false,
           "data": "HETATM    1  C1  UNL     1      -8.382   1.214   0.000  1.00  0.00           C  \nHETATM    2  O1  UNL     1       0.000   0.000   0.000  1.00  0.00           O  \nHETATM    3  C2  UNL     1      -9.808   0.750   0.000  1.00  0.00           C  \nHETATM    4  H1  UNL     1       0.000   0.000   0.000  1.00  0.00           H  \nHETATM    5  H2  UNL     1     -11.022   1.632   0.000  1.00  0.00           H  \nHETATM    6  C3  UNL     1      -9.808  -0.750   0.000  1.00  0.00           C  \nHETATM    7  H3  UNL     1       0.000   0.000   0.000  1.00  0.00           H  \nHETATM    8  H4  UNL     1     -11.022  -1.632   0.000  1.00  0.00           H  \nHETATM    9  C4  UNL     1      -8.382  -1.214   0.000  1.00  0.00           C  \nHETATM   10  O2  UNL     1       0.000   0.000   0.000  1.00  0.00           O  \nHETATM   11  N1  UNL     1      -7.500  -0.000   0.000  1.00  0.00           N  \nHETATM   12  C5  UNL     1      -6.000  -0.000   0.000  1.00  0.00           C  \nHETATM   13  C6  UNL     1      -5.250   1.299   0.000  1.00  0.00           C  \nHETATM   14  C7  UNL     1      -5.250  -1.299   0.000  1.00  0.00           C  \nHETATM   15  H5  UNL     1      -6.000   2.598   0.000  1.00  0.00           H  \nHETATM   16  C8  UNL     1      -3.750   1.299   0.000  1.00  0.00           C  \nHETATM   17  C9  UNL     1      -3.750  -1.299   0.000  1.00  0.00           C  \nHETATM   18  H6  UNL     1      -6.000  -2.598   0.000  1.00  0.00           H  \nHETATM   19  H7  UNL     1      -3.365   2.205   0.000  1.00  0.00           H  \nHETATM   20  C10 UNL     1      -3.000   0.000   0.000  1.00  0.00           C  \nHETATM   21  C11 UNL     1      -3.000  -2.598   0.000  1.00  0.00           C  \nHETATM   22  C12 UNL     1      -1.500   0.000   0.000  1.00  0.00           C  \nHETATM   23  O3  UNL     1      -3.750  -3.897   0.000  1.00  0.00           O  \nHETATM   24  O4  UNL     1      -1.545  -2.961   0.000  1.00  0.00           O1-\nHETATM   25  C13 UNL     1      -0.750  -1.299   0.000  1.00  0.00           C  \nHETATM   26  C14 UNL     1      -0.750   1.299   0.000  1.00  0.00           C  \nHETATM   27  C15 UNL     1      -1.500  -2.598   0.000  1.00  0.00           C  \nHETATM   28  C16 UNL     1       0.750  -1.299   0.000  1.00  0.00           C  \nHETATM   29  C17 UNL     1      -1.500   2.598   0.000  1.00  0.00           C  \nHETATM   30  C18 UNL     1       0.750   1.299   0.000  1.00  0.00           C  \nHETATM   31  H8  UNL     1      -2.273  -2.791   0.000  1.00  0.00           H  \nHETATM   32  C19 UNL     1      -0.750  -3.897   0.000  1.00  0.00           C  \nHETATM   33  C20 UNL     1       1.500  -2.598   0.000  1.00  0.00           C  \nHETATM   34  O5  UNL     1       1.500   0.000   0.000  1.00  0.00           O  \nHETATM   35  C21 UNL     1      -0.750   3.897   0.000  1.00  0.00           C  \nHETATM   36  H9  UNL     1      -2.477   2.718   0.000  1.00  0.00           H  \nHETATM   37  C22 UNL     1       1.500   2.598   0.000  1.00  0.00           C  \nHETATM   38  H10 UNL     1      -1.500  -5.196   0.000  1.00  0.00           H  \nHETATM   39  C23 UNL     1       0.750  -3.897   0.000  1.00  0.00           C  \nHETATM   40  H11 UNL     1       3.000  -2.598   0.000  1.00  0.00           H  \nHETATM   41  C24 UNL     1       0.750   3.897   0.000  1.00  0.00           C  \nHETATM   42  H12 UNL     1      -1.500   5.196   0.000  1.00  0.00           H  \nHETATM   43  H13 UNL     1       3.000   2.598   0.000  1.00  0.00           H  \nHETATM   44  O6  UNL     1       1.500  -5.196   0.000  1.00  0.00           O  \nHETATM   45  O7  UNL     1       1.500   5.196   0.000  1.00  0.00           O  \nHETATM   46  H14 UNL     1       0.750   6.495   0.000  1.00  0.00           H  \nCONECT    1    2    2    3   11\nCONECT    3    4    5    6\nCONECT    6    7    8    9\nCONECT    9   10   10   11\nCONECT   11   12\nCONECT   12   13   13   14\nCONECT   13   15   16\nCONECT   14   17   17   18\nCONECT   16   19   20   20\nCONECT   17   20   21\nCONECT   20   22\nCONECT   21   23   23   24\nCONECT   22   25   25   26\nCONECT   25   27   28\nCONECT   26   29   30   30\nCONECT   27   31   32   32\nCONECT   28   33   33   34\nCONECT   29   35   35   36\nCONECT   30   34   37\nCONECT   32   38   39\nCONECT   33   39   40\nCONECT   35   41   42\nCONECT   37   41   41   43\nCONECT   39   44   44\nCONECT   41   45\nCONECT   45   46\nEND\n",
           "type": "blob"
          }
         ],
         "kwargs": {
          "defaultRepresentation": true,
          "ext": "pdb",
          "name": "<openff.toolkit.utils._viz.MoleculeNGLViewTrajectory object at 0x12ce41d60>"
         },
         "methodName": "loadFile",
         "reconstruc_color_scheme": false,
         "target": "Stage",
         "type": "call_method"
        },
        {
         "args": [],
         "component_index": 0,
         "kwargs": {},
         "methodName": "removeAllRepresentations",
         "reconstruc_color_scheme": false,
         "target": "compList",
         "type": "call_method"
        },
        {
         "args": [
          "licorice"
         ],
         "component_index": 0,
         "kwargs": {
          "multipleBond": true,
          "radius": 0.25,
          "sele": "*"
         },
         "methodName": "addRepresentation",
         "reconstruc_color_scheme": false,
         "target": "compList",
         "type": "call_method"
        }
       ],
       "_ngl_original_stage_parameters": {
        "ambientColor": 14540253,
        "ambientIntensity": 0.2,
        "backgroundColor": "white",
        "cameraEyeSep": 0.3,
        "cameraFov": 40,
        "cameraType": "perspective",
        "clipDist": 10,
        "clipFar": 100,
        "clipMode": "scene",
        "clipNear": 0,
        "clipScale": "relative",
        "fogFar": 100,
        "fogNear": 50,
        "hoverTimeout": 0,
        "impostor": true,
        "lightColor": 14540253,
        "lightIntensity": 1,
        "mousePreset": "default",
        "panSpeed": 1,
        "quality": "medium",
        "rotateSpeed": 2,
        "sampleLevel": 0,
        "tooltip": true,
        "workerDefault": true,
        "zoomSpeed": 1.2
       },
       "_ngl_repr_dict": {
        "0": {
         "0": {
          "params": {
           "assembly": "default",
           "bondScale": 0.4,
           "bondSpacing": 1,
           "clipCenter": {
            "x": 0,
            "y": 0,
            "z": 0
           },
           "clipNear": 0,
           "clipRadius": 0,
           "colorMode": "hcl",
           "colorReverse": false,
           "colorScale": "",
           "colorScheme": "element",
           "colorValue": 9474192,
           "cylinderOnly": false,
           "defaultAssembly": "",
           "depthWrite": true,
           "diffuse": 16777215,
           "diffuseInterior": false,
           "disableImpostor": false,
           "disablePicking": false,
           "flatShaded": false,
           "interiorColor": 2236962,
           "interiorDarkening": 0,
           "lazy": false,
           "lineOnly": false,
           "linewidth": 2,
           "matrix": {
            "elements": [
             1,
             0,
             0,
             0,
             0,
             1,
             0,
             0,
             0,
             0,
             1,
             0,
             0,
             0,
             0,
             1
            ]
           },
           "metalness": 0,
           "multipleBond": true,
           "opacity": 1,
           "openEnded": true,
           "quality": "medium",
           "radialSegments": 10,
           "radiusData": {},
           "radiusScale": 1,
           "radiusSize": 0.25,
           "radiusType": "size",
           "roughness": 0.4,
           "sele": "*",
           "side": "double",
           "sphereDetail": 1,
           "useInteriorColor": true,
           "visible": true,
           "wireframe": false
          },
          "type": "licorice"
         }
        }
       },
       "_ngl_serialize": false,
       "_ngl_version": "2.0.0-dev.39",
       "_ngl_view_id": [
        "71FCD64B-599A-407F-9331-3F2412AF1B9C"
       ],
       "_player_dict": {},
       "_scene_position": {},
       "_scene_rotation": {},
       "_synced_model_ids": [],
       "_synced_repr_model_ids": [],
       "_view_height": "",
       "_view_width": "",
       "background": "white",
       "frame": 0,
       "gui_style": null,
       "layout": "IPY_MODEL_33fc6c6bb0af4575ae319f103a996d62",
       "max_frame": 0,
       "n_components": 1,
       "picked": {}
      }
     },
     "438e2c7516ca4ff39f57ffa2e247efb7": {
      "model_module": "@jupyter-widgets/controls",
      "model_module_version": "2.0.0",
      "model_name": "IntSliderModel",
      "state": {
       "behavior": "drag-tap",
       "layout": "IPY_MODEL_a2b75ee2017840efb77e84fb1aaf6c11",
       "max": 0,
       "style": "IPY_MODEL_bba3be7a0a4b4537a5d1b198b23b5f2a"
      }
     },
     "44b1328b3d744418b4e9cc8686024e0c": {
      "model_module": "@jupyter-widgets/controls",
      "model_module_version": "2.0.0",
      "model_name": "IntSliderModel",
      "state": {
       "behavior": "drag-tap",
       "layout": "IPY_MODEL_60f7f99876e34ac1975f98ce761fcd13",
       "max": 0,
       "style": "IPY_MODEL_c463145631c448d0b778f86e46e3d874"
      }
     },
     "47d467b260c54347962493a02cd44870": {
      "model_module": "@jupyter-widgets/controls",
      "model_module_version": "2.0.0",
      "model_name": "ImageModel",
      "state": {
       "layout": "IPY_MODEL_549f73b8b87e4217b79290d168aa728b",
       "width": "900.0"
      }
     },
     "48c413118cbd4a9e9bb104e632c84c07": {
      "model_module": "@jupyter-widgets/controls",
      "model_module_version": "2.0.0",
      "model_name": "SliderStyleModel",
      "state": {
       "description_width": ""
      }
     },
     "49a1dffb39a94c2c8c834004d2b4af70": {
      "model_module": "@jupyter-widgets/base",
      "model_module_version": "2.0.0",
      "model_name": "LayoutModel",
      "state": {}
     },
     "4c3de44e66a24944b993f50b3915285e": {
      "model_module": "@jupyter-widgets/controls",
      "model_module_version": "2.0.0",
      "model_name": "ButtonModel",
      "state": {
       "icon": "compress",
       "layout": "IPY_MODEL_b6770ceae0f94555a5e60d324813ad1b",
       "style": "IPY_MODEL_232e014d5eee447b9aa43bef3b7aea22",
       "tooltip": null
      }
     },
     "4fefd25c49e8488c8cd9174007add43e": {
      "model_module": "@jupyter-widgets/controls",
      "model_module_version": "2.0.0",
      "model_name": "ImageModel",
      "state": {
       "layout": "IPY_MODEL_c3d6150e32554f6ea3da45c32345e6f0",
       "width": "900.0"
      }
     },
     "5062f5e9c4b649b2b535f0d3ecd35ed4": {
      "model_module": "@jupyter-widgets/controls",
      "model_module_version": "2.0.0",
      "model_name": "HBoxModel",
      "state": {
       "children": [
        "IPY_MODEL_d915b3af36d54e8b86bb5ba30a5d93eb",
        "IPY_MODEL_af171329fb5b4da9a174028481abd4fa"
       ],
       "layout": "IPY_MODEL_a145e15f61374faaac986a9d2c95259d"
      }
     },
     "51ca0a29e1f04545bf18fbf0516548b9": {
      "model_module": "@jupyter-widgets/controls",
      "model_module_version": "2.0.0",
      "model_name": "ImageModel",
      "state": {
       "layout": "IPY_MODEL_49a1dffb39a94c2c8c834004d2b4af70",
       "width": "900.0"
      }
     },
     "524b55d1316647b3a8155f364f2b2aa9": {
      "model_module": "@jupyter-widgets/base",
      "model_module_version": "2.0.0",
      "model_name": "LayoutModel",
      "state": {}
     },
     "52ff3f4491794564a95ca60da21ba55d": {
      "model_module": "@jupyter-widgets/controls",
      "model_module_version": "2.0.0",
      "model_name": "LinkModel",
      "state": {
       "source": [
        "IPY_MODEL_2aa4e543e0b24d60836fa3803759b6b6",
        "value"
       ],
       "target": [
        "IPY_MODEL_0e46091cb8b34fb29fb534d8eb7d3aee",
        "frame"
       ]
      }
     },
     "53be70fecdb24e1bb5474bf1c29e3737": {
      "model_module": "@jupyter-widgets/controls",
      "model_module_version": "2.0.0",
      "model_name": "LinkModel",
      "state": {
       "source": [
        "IPY_MODEL_1dfdae6177bd4065891dc35d08606099",
        "value"
       ],
       "target": [
        "IPY_MODEL_f394c0e92a5a401db56b62380faeba01",
        "value"
       ]
      }
     },
     "53de69d85a794212ab606ff940b4dc42": {
      "model_module": "@jupyter-widgets/base",
      "model_module_version": "2.0.0",
      "model_name": "LayoutModel",
      "state": {}
     },
     "549f73b8b87e4217b79290d168aa728b": {
      "model_module": "@jupyter-widgets/base",
      "model_module_version": "2.0.0",
      "model_name": "LayoutModel",
      "state": {}
     },
     "54bf59d58086437491ac45eb319d2b06": {
      "model_module": "@jupyter-widgets/controls",
      "model_module_version": "2.0.0",
      "model_name": "SliderStyleModel",
      "state": {
       "description_width": ""
      }
     },
     "5812d4ad846a4699956dee6922dff48d": {
      "model_module": "@jupyter-widgets/controls",
      "model_module_version": "2.0.0",
      "model_name": "LinkModel",
      "state": {
       "source": [
        "IPY_MODEL_d915b3af36d54e8b86bb5ba30a5d93eb",
        "value"
       ],
       "target": [
        "IPY_MODEL_af171329fb5b4da9a174028481abd4fa",
        "value"
       ]
      }
     },
     "5ab947456b03437bad87437f7f8448ae": {
      "model_module": "@jupyter-widgets/controls",
      "model_module_version": "2.0.0",
      "model_name": "LinkModel",
      "state": {
       "source": [
        "IPY_MODEL_a9b4a38530e94108afefe7744b659da3",
        "max"
       ],
       "target": [
        "IPY_MODEL_96363d5307464bc9aef157e9d90467a4",
        "max_frame"
       ]
      }
     },
     "5d11018525984710bea30647860960b3": {
      "model_module": "@jupyter-widgets/controls",
      "model_module_version": "2.0.0",
      "model_name": "LinkModel",
      "state": {
       "source": [
        "IPY_MODEL_438e2c7516ca4ff39f57ffa2e247efb7",
        "max"
       ],
       "target": [
        "IPY_MODEL_0e46091cb8b34fb29fb534d8eb7d3aee",
        "max_frame"
       ]
      }
     },
     "5e9511a38d164ca28bd64ec771cbbb56": {
      "model_module": "@jupyter-widgets/controls",
      "model_module_version": "2.0.0",
      "model_name": "HBoxModel",
      "state": {
       "children": [
        "IPY_MODEL_718699ecaa424971b75e3f0048019822",
        "IPY_MODEL_0f65f034c57b4ef9b61c6ee514f4e12d"
       ],
       "layout": "IPY_MODEL_fd21debd8ca549afa5bf37375d4b0d02"
      }
     },
     "5fa5bf6ade054bce815eb7d3ad6162b4": {
      "model_module": "@jupyter-widgets/base",
      "model_module_version": "2.0.0",
      "model_name": "LayoutModel",
      "state": {}
     },
     "60f7f99876e34ac1975f98ce761fcd13": {
      "model_module": "@jupyter-widgets/base",
      "model_module_version": "2.0.0",
      "model_name": "LayoutModel",
      "state": {}
     },
     "614e8f6ea2434cab88737c63dbb2ba25": {
      "model_module": "@jupyter-widgets/controls",
      "model_module_version": "2.0.0",
      "model_name": "LinkModel",
      "state": {
       "source": [
        "IPY_MODEL_a2ac4ea002a243dfbd16a486f67d39ea",
        "value"
       ],
       "target": [
        "IPY_MODEL_6a407c0fc803405c8b0bcc5b5459929f",
        "value"
       ]
      }
     },
     "614ed837e3244d64a0cdc41c39af47a0": {
      "model_module": "@jupyter-widgets/controls",
      "model_module_version": "2.0.0",
      "model_name": "LinkModel",
      "state": {
       "source": [
        "IPY_MODEL_6a407c0fc803405c8b0bcc5b5459929f",
        "max"
       ],
       "target": [
        "IPY_MODEL_a56b92be02304730bed743e138e21174",
        "max_frame"
       ]
      }
     },
     "61ce3b00c089428ca63da102efd98dff": {
      "model_module": "@jupyter-widgets/controls",
      "model_module_version": "2.0.0",
      "model_name": "LinkModel",
      "state": {
       "source": [
        "IPY_MODEL_2aa4e543e0b24d60836fa3803759b6b6",
        "max"
       ],
       "target": [
        "IPY_MODEL_0e46091cb8b34fb29fb534d8eb7d3aee",
        "max_frame"
       ]
      }
     },
     "61e204482e4e4ae7865aff22cd9175dd": {
      "model_module": "@jupyter-widgets/base",
      "model_module_version": "2.0.0",
      "model_name": "LayoutModel",
      "state": {}
     },
     "63b4b3384cdd4674a097be0a1689a32f": {
      "model_module": "@jupyter-widgets/controls",
      "model_module_version": "2.0.0",
      "model_name": "LinkModel",
      "state": {
       "source": [
        "IPY_MODEL_2d61c1dd01514f7bb2e79f692508e5fa",
        "max"
       ],
       "target": [
        "IPY_MODEL_9dd815af2b04404cbdac6c41831b2329",
        "max_frame"
       ]
      }
     },
     "6718e62ba69f42f1aaaa4ec75fe04d12": {
      "model_module": "@jupyter-widgets/base",
      "model_module_version": "2.0.0",
      "model_name": "LayoutModel",
      "state": {}
     },
     "67d2b2974c8542bd9b1fe2cfb682ae02": {
      "model_module": "@jupyter-widgets/base",
      "model_module_version": "2.0.0",
      "model_name": "LayoutModel",
      "state": {}
     },
     "684c22a480ca4389a36afe252b52b4a1": {
      "model_module": "@jupyter-widgets/base",
      "model_module_version": "2.0.0",
      "model_name": "LayoutModel",
      "state": {}
     },
     "68cbf847cd6f438abe0ade3dc339b254": {
      "model_module": "@jupyter-widgets/base",
      "model_module_version": "2.0.0",
      "model_name": "LayoutModel",
      "state": {}
     },
     "6926948da8de416db888cc38f95b46a5": {
      "model_module": "@jupyter-widgets/base",
      "model_module_version": "2.0.0",
      "model_name": "LayoutModel",
      "state": {}
     },
     "69bf13b2701b4bc7a9c92ccebe42d1e1": {
      "model_module": "nglview-js-widgets",
      "model_module_version": "3.0.8",
      "model_name": "NGLModel",
      "state": {
       "_camera_orientation": [],
       "_camera_str": "orthographic",
       "_gui_theme": null,
       "_ibtn_fullscreen": null,
       "_igui": null,
       "_iplayer": null,
       "_ngl_color_dict": {},
       "_ngl_coordinate_resource": {},
       "_ngl_full_stage_parameters": {},
       "_ngl_msg_archive": [],
       "_ngl_original_stage_parameters": {},
       "_ngl_repr_dict": {},
       "_ngl_serialize": false,
       "_ngl_version": "",
       "_ngl_view_id": [],
       "_player_dict": {},
       "_scene_position": {},
       "_scene_rotation": {},
       "_synced_model_ids": [],
       "_synced_repr_model_ids": [],
       "_view_height": "",
       "_view_width": "",
       "background": "white",
       "frame": 0,
       "gui_style": null,
       "layout": "IPY_MODEL_c63b1fe10f584acbbdc0fb5d8968b03f",
       "max_frame": 0,
       "n_components": 0,
       "picked": {}
      }
     },
     "6a407c0fc803405c8b0bcc5b5459929f": {
      "model_module": "@jupyter-widgets/controls",
      "model_module_version": "2.0.0",
      "model_name": "IntSliderModel",
      "state": {
       "behavior": "drag-tap",
       "layout": "IPY_MODEL_bcbc8c91bef5454a9aeb4cfdb4316708",
       "max": 0,
       "style": "IPY_MODEL_9e4f2fe4094346aaa53aba1711bd897f"
      }
     },
     "6a6f70da8974467baffc6422bffe6191": {
      "model_module": "@jupyter-widgets/base",
      "model_module_version": "2.0.0",
      "model_name": "LayoutModel",
      "state": {}
     },
     "6d2006ae348446078f2656baedcc26a8": {
      "model_module": "@jupyter-widgets/controls",
      "model_module_version": "2.0.0",
      "model_name": "LinkModel",
      "state": {
       "source": [
        "IPY_MODEL_d915b3af36d54e8b86bb5ba30a5d93eb",
        "max"
       ],
       "target": [
        "IPY_MODEL_3ae612abb21441fdac0b712c50df0c3f",
        "max_frame"
       ]
      }
     },
     "6d413a56581b48b29457515ad2cf064e": {
      "model_module": "nglview-js-widgets",
      "model_module_version": "3.0.8",
      "model_name": "NGLModel",
      "state": {
       "_camera_orientation": [],
       "_camera_str": "orthographic",
       "_gui_theme": null,
       "_ibtn_fullscreen": null,
       "_igui": null,
       "_iplayer": null,
       "_ngl_color_dict": {},
       "_ngl_coordinate_resource": {},
       "_ngl_full_stage_parameters": {},
       "_ngl_msg_archive": [],
       "_ngl_original_stage_parameters": {},
       "_ngl_repr_dict": {},
       "_ngl_serialize": false,
       "_ngl_version": "",
       "_ngl_view_id": [],
       "_player_dict": {},
       "_scene_position": {},
       "_scene_rotation": {},
       "_synced_model_ids": [],
       "_synced_repr_model_ids": [],
       "_view_height": "",
       "_view_width": "",
       "background": "white",
       "frame": 0,
       "gui_style": null,
       "layout": "IPY_MODEL_7a74105f5948427d836d9c3c715c7de0",
       "max_frame": 0,
       "n_components": 0,
       "picked": {}
      }
     },
     "6dda5be9f7f44a139028827cb1551918": {
      "model_module": "@jupyter-widgets/controls",
      "model_module_version": "2.0.0",
      "model_name": "ImageModel",
      "state": {
       "layout": "IPY_MODEL_aa15edca59dd401e8fec17a28536bbe6",
       "width": "900.0"
      }
     },
     "7016fbeb9b2e4af9982e73f9ae5578ac": {
      "model_module": "@jupyter-widgets/controls",
      "model_module_version": "2.0.0",
      "model_name": "ButtonStyleModel",
      "state": {
       "font_family": null,
       "font_size": null,
       "font_style": null,
       "font_variant": null,
       "font_weight": null,
       "text_color": null,
       "text_decoration": null
      }
     },
     "716e4e1cfcb24528b7971203e8b51b8e": {
      "model_module": "@jupyter-widgets/base",
      "model_module_version": "2.0.0",
      "model_name": "LayoutModel",
      "state": {}
     },
     "718699ecaa424971b75e3f0048019822": {
      "model_module": "@jupyter-widgets/controls",
      "model_module_version": "2.0.0",
      "model_name": "PlayModel",
      "state": {
       "layout": "IPY_MODEL_03af3734850141eea71e46fe8dfa0727",
       "max": 0,
       "style": "IPY_MODEL_c3baa414988e493ca08abb836afc9b1e"
      }
     },
     "724b9d6821e74774b0e374b06c569453": {
      "model_module": "@jupyter-widgets/base",
      "model_module_version": "2.0.0",
      "model_name": "LayoutModel",
      "state": {}
     },
     "7468f1ae4f354c9995ea87f7f576995b": {
      "model_module": "@jupyter-widgets/controls",
      "model_module_version": "2.0.0",
      "model_name": "LinkModel",
      "state": {
       "source": [
        "IPY_MODEL_44b1328b3d744418b4e9cc8686024e0c",
        "max"
       ],
       "target": [
        "IPY_MODEL_9dd815af2b04404cbdac6c41831b2329",
        "max_frame"
       ]
      }
     },
     "74bae7f6c5a64478b588c3651730ab85": {
      "model_module": "@jupyter-widgets/controls",
      "model_module_version": "2.0.0",
      "model_name": "ImageModel",
      "state": {
       "layout": "IPY_MODEL_020a00276e414b6ca7565d21e975be25",
       "width": "900.0"
      }
     },
     "76e5fe8b0bee484e9881da6232132baa": {
      "model_module": "@jupyter-widgets/controls",
      "model_module_version": "2.0.0",
      "model_name": "LinkModel",
      "state": {
       "source": [
        "IPY_MODEL_af171329fb5b4da9a174028481abd4fa",
        "max"
       ],
       "target": [
        "IPY_MODEL_3ae612abb21441fdac0b712c50df0c3f",
        "max_frame"
       ]
      }
     },
     "77ee10aa429c4855903cafcf594bbca2": {
      "model_module": "@jupyter-widgets/controls",
      "model_module_version": "2.0.0",
      "model_name": "DescriptionStyleModel",
      "state": {
       "description_width": ""
      }
     },
     "77f4e66ddb554a80b544b68006711274": {
      "model_module": "@jupyter-widgets/controls",
      "model_module_version": "2.0.0",
      "model_name": "ImageModel",
      "state": {
       "layout": "IPY_MODEL_84d916e722164872be4d4ade5b8f2c75",
       "width": "900.0"
      }
     },
     "7928dc7b4e574e26aca96d844e72ed37": {
      "model_module": "@jupyter-widgets/controls",
      "model_module_version": "2.0.0",
      "model_name": "DescriptionStyleModel",
      "state": {
       "description_width": ""
      }
     },
     "79416bfde63d4ad8a6d55066fecf55c4": {
      "model_module": "@jupyter-widgets/controls",
      "model_module_version": "2.0.0",
      "model_name": "DescriptionStyleModel",
      "state": {
       "description_width": ""
      }
     },
     "796102d58ffa44c99f4a586ba60c599d": {
      "model_module": "@jupyter-widgets/controls",
      "model_module_version": "2.0.0",
      "model_name": "LinkModel",
      "state": {
       "source": [
        "IPY_MODEL_0f65f034c57b4ef9b61c6ee514f4e12d",
        "max"
       ],
       "target": [
        "IPY_MODEL_f78a12771b2e4b3a95449634551ef313",
        "max_frame"
       ]
      }
     },
     "79da7aebe79647359b54364b5f207ffd": {
      "model_module": "@jupyter-widgets/controls",
      "model_module_version": "2.0.0",
      "model_name": "LinkModel",
      "state": {
       "source": [
        "IPY_MODEL_0f76d19501c34bb7b27bfa3e662bb92c",
        "value"
       ],
       "target": [
        "IPY_MODEL_eabf4d170add49079bf668d772449d39",
        "frame"
       ]
      }
     },
     "7a34084991a8460ab5b8a80b98d545f0": {
      "model_module": "@jupyter-widgets/base",
      "model_module_version": "2.0.0",
      "model_name": "LayoutModel",
      "state": {
       "width": "34px"
      }
     },
     "7a74105f5948427d836d9c3c715c7de0": {
      "model_module": "@jupyter-widgets/base",
      "model_module_version": "2.0.0",
      "model_name": "LayoutModel",
      "state": {}
     },
     "7ac61a20fbb24a038137c8ea5b71432b": {
      "model_module": "nglview-js-widgets",
      "model_module_version": "3.0.8",
      "model_name": "NGLModel",
      "state": {
       "_camera_orientation": [],
       "_camera_str": "orthographic",
       "_gui_theme": null,
       "_ibtn_fullscreen": null,
       "_igui": null,
       "_iplayer": null,
       "_ngl_color_dict": {},
       "_ngl_coordinate_resource": {},
       "_ngl_full_stage_parameters": {},
       "_ngl_msg_archive": [],
       "_ngl_original_stage_parameters": {},
       "_ngl_repr_dict": {},
       "_ngl_serialize": false,
       "_ngl_version": "",
       "_ngl_view_id": [],
       "_player_dict": {},
       "_scene_position": {},
       "_scene_rotation": {},
       "_synced_model_ids": [],
       "_synced_repr_model_ids": [],
       "_view_height": "",
       "_view_width": "",
       "background": "white",
       "frame": 0,
       "gui_style": null,
       "layout": "IPY_MODEL_2f71c1b383ee4922a38abd140fc1da8a",
       "max_frame": 0,
       "n_components": 0,
       "picked": {}
      }
     },
     "7b8d68c15be34bd89e7c830845eec71e": {
      "model_module": "@jupyter-widgets/controls",
      "model_module_version": "2.0.0",
      "model_name": "ButtonModel",
      "state": {
       "icon": "compress",
       "layout": "IPY_MODEL_7a34084991a8460ab5b8a80b98d545f0",
       "style": "IPY_MODEL_9dc5e4c279cb4d6eb5d81d68157cf0ec",
       "tooltip": null
      }
     },
     "7bf931e70f2d43758a6703394c2baf2a": {
      "model_module": "@jupyter-widgets/controls",
      "model_module_version": "2.0.0",
      "model_name": "ButtonModel",
      "state": {
       "icon": "compress",
       "layout": "IPY_MODEL_b9a730a98374473f8e9340493a4bb054",
       "style": "IPY_MODEL_7016fbeb9b2e4af9982e73f9ae5578ac",
       "tooltip": null
      }
     },
     "7f8e9a3d88d14435a85644e961723411": {
      "model_module": "@jupyter-widgets/controls",
      "model_module_version": "2.0.0",
      "model_name": "ButtonStyleModel",
      "state": {
       "font_family": null,
       "font_size": null,
       "font_style": null,
       "font_variant": null,
       "font_weight": null,
       "text_color": null,
       "text_decoration": null
      }
     },
     "7fdf28303b1d414f81ff68a65c9d3de9": {
      "model_module": "@jupyter-widgets/controls",
      "model_module_version": "2.0.0",
      "model_name": "HBoxModel",
      "state": {
       "children": [
        "IPY_MODEL_a2ac4ea002a243dfbd16a486f67d39ea",
        "IPY_MODEL_6a407c0fc803405c8b0bcc5b5459929f"
       ],
       "layout": "IPY_MODEL_bbee24f868b84fc5a3005a317a9afc35"
      }
     },
     "8006827733cf4422831a907053875a6e": {
      "model_module": "@jupyter-widgets/base",
      "model_module_version": "2.0.0",
      "model_name": "LayoutModel",
      "state": {}
     },
     "810a580147744939a08b9b498d1a5a1f": {
      "model_module": "@jupyter-widgets/controls",
      "model_module_version": "2.0.0",
      "model_name": "DescriptionStyleModel",
      "state": {
       "description_width": ""
      }
     },
     "8256c6751feb4a288f8b7c0e93be288c": {
      "model_module": "@jupyter-widgets/base",
      "model_module_version": "2.0.0",
      "model_name": "LayoutModel",
      "state": {}
     },
     "83ce0abbb4794bc49d4128a53d2b7c9e": {
      "model_module": "@jupyter-widgets/base",
      "model_module_version": "2.0.0",
      "model_name": "LayoutModel",
      "state": {}
     },
     "84c674a394bc4a28aad97fc70148c4a9": {
      "model_module": "@jupyter-widgets/base",
      "model_module_version": "2.0.0",
      "model_name": "LayoutModel",
      "state": {}
     },
     "84d916e722164872be4d4ade5b8f2c75": {
      "model_module": "@jupyter-widgets/base",
      "model_module_version": "2.0.0",
      "model_name": "LayoutModel",
      "state": {}
     },
     "886f58eac10c495b85d73f97eb5dee62": {
      "model_module": "@jupyter-widgets/controls",
      "model_module_version": "2.0.0",
      "model_name": "ButtonModel",
      "state": {
       "icon": "compress",
       "layout": "IPY_MODEL_f5c0b9b0e7214e28bc8fc32d4b5449d5",
       "style": "IPY_MODEL_b3525c4cde9d4dbca5a56778689f9502",
       "tooltip": null
      }
     },
     "8ad8205400d74c38b7f9d2aab80f9392": {
      "model_module": "@jupyter-widgets/base",
      "model_module_version": "2.0.0",
      "model_name": "LayoutModel",
      "state": {}
     },
     "8cdcd07dc8fb48d6b4ed198d0ee169f8": {
      "model_module": "@jupyter-widgets/base",
      "model_module_version": "2.0.0",
      "model_name": "LayoutModel",
      "state": {
       "width": "34px"
      }
     },
     "8d348b66eec8487784a47be6a7e9be13": {
      "model_module": "@jupyter-widgets/controls",
      "model_module_version": "2.0.0",
      "model_name": "ButtonModel",
      "state": {
       "icon": "compress",
       "layout": "IPY_MODEL_cf678276df2e49e8a52014bda6c9d0f6",
       "style": "IPY_MODEL_d609d9e3e93b4c5297f807b2449d754f",
       "tooltip": null
      }
     },
     "8d6d8ce7e1254f838b9c69f597214a94": {
      "model_module": "@jupyter-widgets/base",
      "model_module_version": "2.0.0",
      "model_name": "LayoutModel",
      "state": {}
     },
     "946a8869ddf04b89b17be65fd3732659": {
      "model_module": "@jupyter-widgets/controls",
      "model_module_version": "2.0.0",
      "model_name": "ButtonModel",
      "state": {
       "icon": "compress",
       "layout": "IPY_MODEL_39b9235160d944d2872f608906a0d1b3",
       "style": "IPY_MODEL_179065227118474999e8ef3b432ab69c",
       "tooltip": null
      }
     },
     "96363d5307464bc9aef157e9d90467a4": {
      "model_module": "nglview-js-widgets",
      "model_module_version": "3.0.8",
      "model_name": "NGLModel",
      "state": {
       "_camera_orientation": [
        0.5909625696084836,
        0.03061003838797901,
        -0.11182473150446283,
        0,
        -0.05044266915920863,
        0.5908844525906083,
        -0.10483131459260611,
        0,
        0.10439004815715626,
        0.11223677178628107,
        0.5823951653380735,
        0,
        -0.6809999942779541,
        -0.17950010299682617,
        -0.1679999828338623,
        1
       ],
       "_camera_str": "orthographic",
       "_gui_theme": null,
       "_ibtn_fullscreen": "IPY_MODEL_05ece1cb81c143c5ad062f3e7b567634",
       "_igui": null,
       "_iplayer": "IPY_MODEL_28d02da36a594d95aa36aee8eece2b7a",
       "_ngl_color_dict": {},
       "_ngl_coordinate_resource": {},
       "_ngl_full_stage_parameters": {
        "ambientColor": 14540253,
        "ambientIntensity": 0.2,
        "backgroundColor": "white",
        "cameraEyeSep": 0.3,
        "cameraFov": 40,
        "cameraType": "perspective",
        "clipDist": 10,
        "clipFar": 100,
        "clipMode": "scene",
        "clipNear": 0,
        "clipScale": "relative",
        "fogFar": 100,
        "fogNear": 50,
        "hoverTimeout": 0,
        "impostor": true,
        "lightColor": 14540253,
        "lightIntensity": 1,
        "mousePreset": "default",
        "panSpeed": 1,
        "quality": "medium",
        "rotateSpeed": 2,
        "sampleLevel": 0,
        "tooltip": true,
        "workerDefault": true,
        "zoomSpeed": 1.2
       },
       "_ngl_msg_archive": [
        {
         "args": [
          {
           "binary": false,
           "data": "MODEL        1\nHETATM    1  C1  UNL     1       4.945  -0.550  -0.648  1.00  0.00           C  \nHETATM    2  O1  UNL     1       4.798  -1.565  -1.410  1.00  0.00           O  \nHETATM    3  C2  UNL     1       6.180   0.308  -0.580  1.00  0.00           C  \nHETATM    4  H1  UNL     1       7.081  -0.254  -0.899  1.00  0.00           H  \nHETATM    5  H2  UNL     1       6.029   1.246  -1.160  1.00  0.00           H  \nHETATM    6  C3  UNL     1       6.231   0.643   0.894  1.00  0.00           C  \nHETATM    7  H3  UNL     1       6.842  -0.094   1.450  1.00  0.00           H  \nHETATM    8  H4  UNL     1       6.654   1.663   0.976  1.00  0.00           H  \nHETATM    9  C4  UNL     1       4.792   0.604   1.272  1.00  0.00           C  \nHETATM   10  O2  UNL     1       4.425   1.092   2.358  1.00  0.00           O  \nHETATM   11  N1  UNL     1       4.005  -0.020   0.275  1.00  0.00           N  \nHETATM   12  C5  UNL     1       2.614  -0.112   0.191  1.00  0.00           C  \nHETATM   13  C6  UNL     1       1.980  -0.755  -0.849  1.00  0.00           C  \nHETATM   14  C7  UNL     1       1.764   0.427   1.133  1.00  0.00           C  \nHETATM   15  H5  UNL     1       2.508  -1.217  -1.647  1.00  0.00           H  \nHETATM   16  C8  UNL     1       0.600  -0.864  -0.961  1.00  0.00           C  \nHETATM   17  C9  UNL     1       0.389   0.347   1.067  1.00  0.00           C  \nHETATM   18  H6  UNL     1       2.130   0.948   1.982  1.00  0.00           H  \nHETATM   19  H7  UNL     1       0.110  -1.368  -1.777  1.00  0.00           H  \nHETATM   20  C10 UNL     1      -0.206  -0.307   0.008  1.00  0.00           C  \nHETATM   21  C11 UNL     1      -0.475   0.943   2.104  1.00  0.00           C  \nHETATM   22  C12 UNL     1      -1.657  -0.413  -0.097  1.00  0.00           C  \nHETATM   23  O3  UNL     1      -1.717   0.811   1.946  1.00  0.00           O  \nHETATM   24  O4  UNL     1       0.143   1.603   3.174  1.00  0.00           O1-\nHETATM   25  C13 UNL     1      -2.443  -1.426   0.416  1.00  0.00           C  \nHETATM   26  C14 UNL     1      -2.307   0.614  -0.785  1.00  0.00           C  \nHETATM   27  C15 UNL     1      -1.779  -2.430   1.091  1.00  0.00           C  \nHETATM   28  C16 UNL     1      -3.886  -1.362   0.210  1.00  0.00           C  \nHETATM   29  C17 UNL     1      -1.565   1.663  -1.325  1.00  0.00           C  \nHETATM   30  C18 UNL     1      -3.678   0.618  -0.947  1.00  0.00           C  \nHETATM   31  H8  UNL     1      -0.704  -2.422   1.212  1.00  0.00           H  \nHETATM   32  C19 UNL     1      -2.602  -3.434   1.595  1.00  0.00           C  \nHETATM   33  C20 UNL     1      -4.654  -2.400   0.740  1.00  0.00           C  \nHETATM   34  O5  UNL     1      -4.435  -0.357  -0.453  1.00  0.00           O  \nHETATM   35  C21 UNL     1      -2.161   2.701  -2.013  1.00  0.00           C  \nHETATM   36  H9  UNL     1      -0.471   1.676  -1.206  1.00  0.00           H  \nHETATM   37  C22 UNL     1      -4.328   1.635  -1.629  1.00  0.00           C  \nHETATM   38  H10 UNL     1      -2.161  -4.257   2.137  1.00  0.00           H  \nHETATM   39  C23 UNL     1      -3.970  -3.396   1.414  1.00  0.00           C  \nHETATM   40  H11 UNL     1      -5.719  -2.398   0.615  1.00  0.00           H  \nHETATM   41  C24 UNL     1      -3.533   2.638  -2.135  1.00  0.00           C  \nHETATM   42  H12 UNL     1      -1.587   3.517  -2.433  1.00  0.00           H  \nHETATM   43  H13 UNL     1      -5.407   1.644  -1.760  1.00  0.00           H  \nHETATM   44  O6  UNL     1      -4.715  -4.305   1.870  1.00  0.00           O  \nHETATM   45  O7  UNL     1      -4.121   3.702  -2.838  1.00  0.00           O  \nHETATM   46  H14 UNL     1      -3.939   4.664  -2.575  1.00  0.00           H  \nCONECT    1    2    2    3   11\nCONECT    3    4    5    6\nCONECT    6    7    8    9\nCONECT    9   10   10   11\nCONECT   11   12\nCONECT   12   13   13   14\nCONECT   13   15   16\nCONECT   14   17   17   18\nCONECT   16   19   20   20\nCONECT   17   20   21\nCONECT   20   22\nCONECT   21   23   23   24\nCONECT   22   25   25   26\nCONECT   25   27   28\nCONECT   26   29   30   30\nCONECT   27   31   32   32\nCONECT   28   33   33   34\nCONECT   29   35   35   36\nCONECT   30   34   37\nCONECT   32   38   39\nCONECT   33   39   40\nCONECT   35   41   42\nCONECT   37   41   41   43\nCONECT   39   44   44\nCONECT   41   45\nCONECT   45   46\nENDMDL\nMODEL        2\nHETATM    1  C1  UNL     1       4.817  -1.035  -0.995  1.00  0.00           C  \nHETATM    2  O1  UNL     1       4.488  -2.192  -1.353  1.00  0.00           O  \nHETATM    3  C2  UNL     1       6.171  -0.412  -1.030  1.00  0.00           C  \nHETATM    4  H1  UNL     1       6.946  -1.085  -0.633  1.00  0.00           H  \nHETATM    5  H2  UNL     1       6.455  -0.141  -2.066  1.00  0.00           H  \nHETATM    6  C3  UNL     1       6.028   0.853  -0.231  1.00  0.00           C  \nHETATM    7  H3  UNL     1       6.550   0.699   0.739  1.00  0.00           H  \nHETATM    8  H4  UNL     1       6.509   1.720  -0.727  1.00  0.00           H  \nHETATM    9  C4  UNL     1       4.570   1.051  -0.019  1.00  0.00           C  \nHETATM   10  O2  UNL     1       4.256   2.142   0.493  1.00  0.00           O  \nHETATM   11  N1  UNL     1       3.895  -0.114  -0.481  1.00  0.00           N  \nHETATM   12  C5  UNL     1       2.483  -0.115  -0.338  1.00  0.00           C  \nHETATM   13  C6  UNL     1       1.997  -0.627   0.847  1.00  0.00           C  \nHETATM   14  C7  UNL     1       1.675   0.385  -1.364  1.00  0.00           C  \nHETATM   15  H5  UNL     1       2.657  -1.002   1.611  1.00  0.00           H  \nHETATM   16  C8  UNL     1       0.632  -0.657   1.050  1.00  0.00           C  \nHETATM   17  C9  UNL     1       0.336   0.321  -1.089  1.00  0.00           C  \nHETATM   18  H6  UNL     1       2.079   0.779  -2.279  1.00  0.00           H  \nHETATM   19  H7  UNL     1       0.219  -1.052   1.967  1.00  0.00           H  \nHETATM   20  C10 UNL     1      -0.213  -0.178   0.074  1.00  0.00           C  \nHETATM   21  C11 UNL     1      -0.641   0.804  -2.060  1.00  0.00           C  \nHETATM   22  C12 UNL     1      -1.642  -0.226   0.322  1.00  0.00           C  \nHETATM   23  O3  UNL     1      -0.502   1.313  -3.202  1.00  0.00           O  \nHETATM   24  O4  UNL     1      -0.468   1.357  -3.302  1.00  0.00           O1-\nHETATM   25  C13 UNL     1      -2.292  -1.394  -0.091  1.00  0.00           C  \nHETATM   26  C14 UNL     1      -2.363   0.785   0.924  1.00  0.00           C  \nHETATM   27  C15 UNL     1      -1.599  -2.421  -0.695  1.00  0.00           C  \nHETATM   28  C16 UNL     1      -3.739  -1.454   0.155  1.00  0.00           C  \nHETATM   29  C17 UNL     1      -1.657   1.903   1.304  1.00  0.00           C  \nHETATM   30  C18 UNL     1      -3.728   0.659   1.124  1.00  0.00           C  \nHETATM   31  H8  UNL     1      -0.553  -2.360  -0.865  1.00  0.00           H  \nHETATM   32  C19 UNL     1      -2.372  -3.508  -1.048  1.00  0.00           C  \nHETATM   33  C20 UNL     1      -4.388  -2.598  -0.248  1.00  0.00           C  \nHETATM   34  O5  UNL     1      -4.330  -0.438   0.734  1.00  0.00           O  \nHETATM   35  C21 UNL     1      -2.384   2.918   1.909  1.00  0.00           C  \nHETATM   36  H9  UNL     1      -0.586   1.995   1.143  1.00  0.00           H  \nHETATM   37  C22 UNL     1      -4.412   1.694   1.729  1.00  0.00           C  \nHETATM   38  H10 UNL     1      -1.885  -4.348  -1.527  1.00  0.00           H  \nHETATM   39  C23 UNL     1      -3.731  -3.648  -0.856  1.00  0.00           C  \nHETATM   40  H11 UNL     1      -5.470  -2.675  -0.079  1.00  0.00           H  \nHETATM   41  C24 UNL     1      -3.753   2.853   2.138  1.00  0.00           C  \nHETATM   42  H12 UNL     1      -1.795   3.797   2.201  1.00  0.00           H  \nHETATM   43  H13 UNL     1      -5.498   1.618   1.900  1.00  0.00           H  \nHETATM   44  O6  UNL     1      -4.336  -4.690  -1.220  1.00  0.00           O  \nHETATM   45  O7  UNL     1      -4.411   3.903   2.745  1.00  0.00           O  \nHETATM   46  H14 UNL     1      -4.018   4.820   2.687  1.00  0.00           H  \nCONECT    1    2    2    3   11\nCONECT    3    4    5    6\nCONECT    6    7    8    9\nCONECT    9   10   10   11\nCONECT   11   12\nCONECT   12   13   13   14\nCONECT   13   15   16\nCONECT   14   17   17   18\nCONECT   16   19   20   20\nCONECT   17   20   21\nCONECT   20   22\nCONECT   21   23   23   24\nCONECT   22   25   25   26\nCONECT   25   27   28\nCONECT   26   29   30   30\nCONECT   27   31   32   32\nCONECT   28   33   33   34\nCONECT   29   35   35   36\nCONECT   30   34   37\nCONECT   32   38   39\nCONECT   33   39   40\nCONECT   35   41   42\nCONECT   37   41   41   43\nCONECT   39   44   44\nCONECT   41   45\nCONECT   45   46\nENDMDL\nEND\n",
           "type": "blob"
          }
         ],
         "kwargs": {
          "defaultRepresentation": true,
          "ext": "pdb",
          "name": "<openff.toolkit.utils._viz.MoleculeNGLViewTrajectory object at 0x12d582930>"
         },
         "methodName": "loadFile",
         "reconstruc_color_scheme": false,
         "target": "Stage",
         "type": "call_method"
        },
        {
         "args": [],
         "component_index": 0,
         "kwargs": {},
         "methodName": "removeAllRepresentations",
         "reconstruc_color_scheme": false,
         "target": "compList",
         "type": "call_method"
        },
        {
         "args": [
          "licorice"
         ],
         "component_index": 0,
         "kwargs": {
          "multipleBond": true,
          "radius": 0.25,
          "sele": "*"
         },
         "methodName": "addRepresentation",
         "reconstruc_color_scheme": false,
         "target": "compList",
         "type": "call_method"
        }
       ],
       "_ngl_original_stage_parameters": {
        "ambientColor": 14540253,
        "ambientIntensity": 0.2,
        "backgroundColor": "white",
        "cameraEyeSep": 0.3,
        "cameraFov": 40,
        "cameraType": "perspective",
        "clipDist": 10,
        "clipFar": 100,
        "clipMode": "scene",
        "clipNear": 0,
        "clipScale": "relative",
        "fogFar": 100,
        "fogNear": 50,
        "hoverTimeout": 0,
        "impostor": true,
        "lightColor": 14540253,
        "lightIntensity": 1,
        "mousePreset": "default",
        "panSpeed": 1,
        "quality": "medium",
        "rotateSpeed": 2,
        "sampleLevel": 0,
        "tooltip": true,
        "workerDefault": true,
        "zoomSpeed": 1.2
       },
       "_ngl_repr_dict": {
        "0": {
         "0": {
          "params": {
           "assembly": "default",
           "bondScale": 0.4,
           "bondSpacing": 1,
           "clipCenter": {
            "x": 0,
            "y": 0,
            "z": 0
           },
           "clipNear": 0,
           "clipRadius": 0,
           "colorMode": "hcl",
           "colorReverse": false,
           "colorScale": "",
           "colorScheme": "element",
           "colorValue": 9474192,
           "cylinderOnly": false,
           "defaultAssembly": "",
           "depthWrite": true,
           "diffuse": 16777215,
           "diffuseInterior": false,
           "disableImpostor": false,
           "disablePicking": false,
           "flatShaded": false,
           "interiorColor": 2236962,
           "interiorDarkening": 0,
           "lazy": false,
           "lineOnly": false,
           "linewidth": 2,
           "matrix": {
            "elements": [
             1,
             0,
             0,
             0,
             0,
             1,
             0,
             0,
             0,
             0,
             1,
             0,
             0,
             0,
             0,
             1
            ]
           },
           "metalness": 0,
           "multipleBond": true,
           "opacity": 1,
           "openEnded": true,
           "quality": "medium",
           "radialSegments": 10,
           "radiusData": {},
           "radiusScale": 1,
           "radiusSize": 0.25,
           "radiusType": "size",
           "roughness": 0.4,
           "sele": "*",
           "side": "double",
           "sphereDetail": 1,
           "useInteriorColor": true,
           "visible": true,
           "wireframe": false
          },
          "type": "licorice"
         }
        }
       },
       "_ngl_serialize": false,
       "_ngl_version": "2.0.0-dev.39",
       "_ngl_view_id": [
        "2B47E46A-9A19-4552-A8F5-447540956E0C"
       ],
       "_player_dict": {},
       "_scene_position": {},
       "_scene_rotation": {},
       "_synced_model_ids": [],
       "_synced_repr_model_ids": [],
       "_view_height": "",
       "_view_width": "",
       "background": "white",
       "frame": 0,
       "gui_style": null,
       "layout": "IPY_MODEL_b0a8c8cfdbb44e8b9c164686d4c4dce0",
       "max_frame": 1,
       "n_components": 1,
       "picked": {}
      }
     },
     "97b734c841e848a0b5cc21d1f99fe694": {
      "model_module": "@jupyter-widgets/base",
      "model_module_version": "2.0.0",
      "model_name": "LayoutModel",
      "state": {}
     },
     "99e82a3c6f204fdd950c5d2c8cc3c481": {
      "model_module": "@jupyter-widgets/controls",
      "model_module_version": "2.0.0",
      "model_name": "IntSliderModel",
      "state": {
       "behavior": "drag-tap",
       "layout": "IPY_MODEL_724b9d6821e74774b0e374b06c569453",
       "max": 1,
       "style": "IPY_MODEL_4073aa3e3df642ba8e34b93002f4a9cc"
      }
     },
     "9b54f86e10944aa7ba613895e1dcf7fd": {
      "model_module": "@jupyter-widgets/controls",
      "model_module_version": "2.0.0",
      "model_name": "LinkModel",
      "state": {
       "source": [
        "IPY_MODEL_a2ac4ea002a243dfbd16a486f67d39ea",
        "value"
       ],
       "target": [
        "IPY_MODEL_a56b92be02304730bed743e138e21174",
        "frame"
       ]
      }
     },
     "9dc5e4c279cb4d6eb5d81d68157cf0ec": {
      "model_module": "@jupyter-widgets/controls",
      "model_module_version": "2.0.0",
      "model_name": "ButtonStyleModel",
      "state": {
       "font_family": null,
       "font_size": null,
       "font_style": null,
       "font_variant": null,
       "font_weight": null,
       "text_color": null,
       "text_decoration": null
      }
     },
     "9dd815af2b04404cbdac6c41831b2329": {
      "model_module": "nglview-js-widgets",
      "model_module_version": "3.0.8",
      "model_name": "NGLModel",
      "state": {
       "_camera_orientation": [
        26.116002288694304,
        0,
        0,
        0,
        0,
        26.116002288694304,
        0,
        0,
        0,
        0,
        26.116002288694304,
        0,
        5.511000156402588,
        0,
        0,
        1
       ],
       "_camera_str": "orthographic",
       "_gui_theme": null,
       "_ibtn_fullscreen": "IPY_MODEL_7b8d68c15be34bd89e7c830845eec71e",
       "_igui": null,
       "_iplayer": "IPY_MODEL_ed660f82c2d042f894a58d228202913a",
       "_ngl_color_dict": {},
       "_ngl_coordinate_resource": {},
       "_ngl_full_stage_parameters": {
        "ambientColor": 14540253,
        "ambientIntensity": 0.2,
        "backgroundColor": "white",
        "cameraEyeSep": 0.3,
        "cameraFov": 40,
        "cameraType": "perspective",
        "clipDist": 10,
        "clipFar": 100,
        "clipMode": "scene",
        "clipNear": 0,
        "clipScale": "relative",
        "fogFar": 100,
        "fogNear": 50,
        "hoverTimeout": 0,
        "impostor": true,
        "lightColor": 14540253,
        "lightIntensity": 1,
        "mousePreset": "default",
        "panSpeed": 1,
        "quality": "medium",
        "rotateSpeed": 2,
        "sampleLevel": 0,
        "tooltip": true,
        "workerDefault": true,
        "zoomSpeed": 1.2
       },
       "_ngl_msg_archive": [
        {
         "args": [
          {
           "binary": false,
           "data": "HETATM    1  C1  UNL     1       0.000   0.000   0.000  1.00  0.00           C  \nHETATM    2  O1  UNL     1       0.000   0.000   0.000  1.00  0.00           O  \nHETATM    3  C2  UNL     1      -9.808  -0.750   0.000  1.00  0.00           C  \nHETATM    4  H1  UNL     1       0.000   0.000   0.000  1.00  0.00           H  \nHETATM    5  C3  UNL     1      -9.808   0.750   0.000  1.00  0.00           C  \nHETATM    6  H2  UNL     1       0.000   0.000   0.000  1.00  0.00           H  \nHETATM    7  C4  UNL     1       0.000   0.000   0.000  1.00  0.00           C  \nHETATM    8  O2  UNL     1       0.000   0.000   0.000  1.00  0.00           O  \nHETATM    9  H3  UNL     1     -11.022  -1.632   0.000  1.00  0.00           H  \nHETATM   10  H4  UNL     1     -11.022   1.632   0.000  1.00  0.00           H  \nHETATM   11  H5  UNL     1       0.000   0.000   0.000  1.00  0.00           H  \nHETATM   12  H6  UNL     1       0.000   0.000   0.000  1.00  0.00           H  \nCONECT    1    2    2    3   11\nCONECT    3    4    5    9\nCONECT    5    6    7   10\nCONECT    7    8    8   12\nEND\n",
           "type": "blob"
          }
         ],
         "kwargs": {
          "defaultRepresentation": true,
          "ext": "pdb",
          "name": "<openff.toolkit.utils._viz.MoleculeNGLViewTrajectory object at 0x12c1f8260>"
         },
         "methodName": "loadFile",
         "reconstruc_color_scheme": false,
         "target": "Stage",
         "type": "call_method"
        },
        {
         "args": [],
         "component_index": 0,
         "kwargs": {},
         "methodName": "removeAllRepresentations",
         "reconstruc_color_scheme": false,
         "target": "compList",
         "type": "call_method"
        },
        {
         "args": [
          "licorice"
         ],
         "component_index": 0,
         "kwargs": {
          "multipleBond": true,
          "radius": 0.25,
          "sele": "*"
         },
         "methodName": "addRepresentation",
         "reconstruc_color_scheme": false,
         "target": "compList",
         "type": "call_method"
        }
       ],
       "_ngl_original_stage_parameters": {
        "ambientColor": 14540253,
        "ambientIntensity": 0.2,
        "backgroundColor": "white",
        "cameraEyeSep": 0.3,
        "cameraFov": 40,
        "cameraType": "perspective",
        "clipDist": 10,
        "clipFar": 100,
        "clipMode": "scene",
        "clipNear": 0,
        "clipScale": "relative",
        "fogFar": 100,
        "fogNear": 50,
        "hoverTimeout": 0,
        "impostor": true,
        "lightColor": 14540253,
        "lightIntensity": 1,
        "mousePreset": "default",
        "panSpeed": 1,
        "quality": "medium",
        "rotateSpeed": 2,
        "sampleLevel": 0,
        "tooltip": true,
        "workerDefault": true,
        "zoomSpeed": 1.2
       },
       "_ngl_repr_dict": {
        "0": {
         "0": {
          "params": {
           "assembly": "default",
           "bondScale": 0.4,
           "bondSpacing": 1,
           "clipCenter": {
            "x": 0,
            "y": 0,
            "z": 0
           },
           "clipNear": 0,
           "clipRadius": 0,
           "colorMode": "hcl",
           "colorReverse": false,
           "colorScale": "",
           "colorScheme": "element",
           "colorValue": 9474192,
           "cylinderOnly": false,
           "defaultAssembly": "",
           "depthWrite": true,
           "diffuse": 16777215,
           "diffuseInterior": false,
           "disableImpostor": false,
           "disablePicking": false,
           "flatShaded": false,
           "interiorColor": 2236962,
           "interiorDarkening": 0,
           "lazy": false,
           "lineOnly": false,
           "linewidth": 2,
           "matrix": {
            "elements": [
             1,
             0,
             0,
             0,
             0,
             1,
             0,
             0,
             0,
             0,
             1,
             0,
             0,
             0,
             0,
             1
            ]
           },
           "metalness": 0,
           "multipleBond": true,
           "opacity": 1,
           "openEnded": true,
           "quality": "medium",
           "radialSegments": 10,
           "radiusData": {},
           "radiusScale": 1,
           "radiusSize": 0.25,
           "radiusType": "size",
           "roughness": 0.4,
           "sele": "*",
           "side": "double",
           "sphereDetail": 1,
           "useInteriorColor": true,
           "visible": true,
           "wireframe": false
          },
          "type": "licorice"
         }
        }
       },
       "_ngl_serialize": false,
       "_ngl_version": "2.0.0-dev.39",
       "_ngl_view_id": [
        "843352A0-B72D-4127-A162-BED1FF8CC2BA"
       ],
       "_player_dict": {},
       "_scene_position": {},
       "_scene_rotation": {},
       "_synced_model_ids": [],
       "_synced_repr_model_ids": [],
       "_view_height": "",
       "_view_width": "",
       "background": "white",
       "frame": 0,
       "gui_style": null,
       "layout": "IPY_MODEL_53de69d85a794212ab606ff940b4dc42",
       "max_frame": 0,
       "n_components": 1,
       "picked": {}
      }
     },
     "9e4f2fe4094346aaa53aba1711bd897f": {
      "model_module": "@jupyter-widgets/controls",
      "model_module_version": "2.0.0",
      "model_name": "SliderStyleModel",
      "state": {
       "description_width": ""
      }
     },
     "9ea2dcf8f1294297ab09d4fad10a8984": {
      "model_module": "@jupyter-widgets/controls",
      "model_module_version": "2.0.0",
      "model_name": "LinkModel",
      "state": {
       "source": [
        "IPY_MODEL_164bc8e8e2b14a24979b75096b47d8df",
        "value"
       ],
       "target": [
        "IPY_MODEL_a9b4a38530e94108afefe7744b659da3",
        "value"
       ]
      }
     },
     "9ee7be8712624b16a60380b7e253766c": {
      "model_module": "@jupyter-widgets/base",
      "model_module_version": "2.0.0",
      "model_name": "LayoutModel",
      "state": {}
     },
     "a0e1410df9a94f789f7f489b991fa4a3": {
      "model_module": "@jupyter-widgets/controls",
      "model_module_version": "2.0.0",
      "model_name": "ImageModel",
      "state": {
       "layout": "IPY_MODEL_6a6f70da8974467baffc6422bffe6191",
       "width": "900.0"
      }
     },
     "a111370638e747f39ff262b3ac437226": {
      "model_module": "@jupyter-widgets/base",
      "model_module_version": "2.0.0",
      "model_name": "LayoutModel",
      "state": {}
     },
     "a145e15f61374faaac986a9d2c95259d": {
      "model_module": "@jupyter-widgets/base",
      "model_module_version": "2.0.0",
      "model_name": "LayoutModel",
      "state": {}
     },
     "a1fba56b7d7846b6828dcd92be40779a": {
      "model_module": "@jupyter-widgets/controls",
      "model_module_version": "2.0.0",
      "model_name": "LinkModel",
      "state": {
       "source": [
        "IPY_MODEL_718699ecaa424971b75e3f0048019822",
        "value"
       ],
       "target": [
        "IPY_MODEL_f78a12771b2e4b3a95449634551ef313",
        "frame"
       ]
      }
     },
     "a2ac4ea002a243dfbd16a486f67d39ea": {
      "model_module": "@jupyter-widgets/controls",
      "model_module_version": "2.0.0",
      "model_name": "PlayModel",
      "state": {
       "layout": "IPY_MODEL_83ce0abbb4794bc49d4128a53d2b7c9e",
       "max": 0,
       "style": "IPY_MODEL_e4ec3c626fba4c968d1b47d0006e1bab"
      }
     },
     "a2b75ee2017840efb77e84fb1aaf6c11": {
      "model_module": "@jupyter-widgets/base",
      "model_module_version": "2.0.0",
      "model_name": "LayoutModel",
      "state": {}
     },
     "a3ab6ea206cf4122b112bcefa7238fac": {
      "model_module": "@jupyter-widgets/controls",
      "model_module_version": "2.0.0",
      "model_name": "DescriptionStyleModel",
      "state": {
       "description_width": ""
      }
     },
     "a3d3d4e104cd4845935414a64c62b58e": {
      "model_module": "@jupyter-widgets/controls",
      "model_module_version": "2.0.0",
      "model_name": "ImageModel",
      "state": {
       "layout": "IPY_MODEL_c2810eab73af4ecb88624da9103bf4c1",
       "width": "900.0"
      }
     },
     "a56b92be02304730bed743e138e21174": {
      "model_module": "nglview-js-widgets",
      "model_module_version": "3.0.8",
      "model_name": "NGLModel",
      "state": {
       "_camera_orientation": [
        25.197286859453982,
        4.3360110956182485,
        -5.3236564731533,
        0,
        -5.906797253699081,
        24.01253528274241,
        -8.399611362546926,
        0,
        3.5002937975496553,
        9.308207809068836,
        24.148515197773758,
        0,
        5.511000156402588,
        0,
        0,
        1
       ],
       "_camera_str": "orthographic",
       "_gui_theme": null,
       "_ibtn_fullscreen": "IPY_MODEL_886f58eac10c495b85d73f97eb5dee62",
       "_igui": null,
       "_iplayer": "IPY_MODEL_7fdf28303b1d414f81ff68a65c9d3de9",
       "_ngl_color_dict": {},
       "_ngl_coordinate_resource": {},
       "_ngl_full_stage_parameters": {
        "ambientColor": 14540253,
        "ambientIntensity": 0.2,
        "backgroundColor": "white",
        "cameraEyeSep": 0.3,
        "cameraFov": 40,
        "cameraType": "perspective",
        "clipDist": 10,
        "clipFar": 100,
        "clipMode": "scene",
        "clipNear": 0,
        "clipScale": "relative",
        "fogFar": 100,
        "fogNear": 50,
        "hoverTimeout": 0,
        "impostor": true,
        "lightColor": 14540253,
        "lightIntensity": 1,
        "mousePreset": "default",
        "panSpeed": 1,
        "quality": "medium",
        "rotateSpeed": 2,
        "sampleLevel": 0,
        "tooltip": true,
        "workerDefault": true,
        "zoomSpeed": 1.2
       },
       "_ngl_msg_archive": [
        {
         "args": [
          {
           "binary": false,
           "data": "HETATM    1  C1  UNL     1       0.000   0.000   0.000  1.00  0.00           C  \nHETATM    2  O1  UNL     1       0.000   0.000   0.000  1.00  0.00           O  \nHETATM    3  C2  UNL     1      -9.808   0.750   0.000  1.00  0.00           C  \nHETATM    4  H1  UNL     1       0.000   0.000   0.000  1.00  0.00           H  \nHETATM    5  C3  UNL     1      -9.808  -0.750   0.000  1.00  0.00           C  \nHETATM    6  H2  UNL     1       0.000   0.000   0.000  1.00  0.00           H  \nHETATM    7  C4  UNL     1       0.000   0.000   0.000  1.00  0.00           C  \nHETATM    8  O2  UNL     1       0.000   0.000   0.000  1.00  0.00           O  \nHETATM    9  H3  UNL     1     -11.022   1.632   0.000  1.00  0.00           H  \nHETATM   10  H4  UNL     1     -11.022  -1.632   0.000  1.00  0.00           H  \nHETATM   11  H5  UNL     1       0.000   0.000   0.000  1.00  0.00           H  \nHETATM   12  H6  UNL     1       0.000   0.000   0.000  1.00  0.00           H  \nCONECT    1    2    2    3   11\nCONECT    3    4    5    9\nCONECT    5    6    7   10\nCONECT    7    8    8   12\nEND\n",
           "type": "blob"
          }
         ],
         "kwargs": {
          "defaultRepresentation": true,
          "ext": "pdb",
          "name": "<openff.toolkit.utils._viz.MoleculeNGLViewTrajectory object at 0x12c0e6f30>"
         },
         "methodName": "loadFile",
         "reconstruc_color_scheme": false,
         "target": "Stage",
         "type": "call_method"
        },
        {
         "args": [],
         "component_index": 0,
         "kwargs": {},
         "methodName": "removeAllRepresentations",
         "reconstruc_color_scheme": false,
         "target": "compList",
         "type": "call_method"
        },
        {
         "args": [
          "licorice"
         ],
         "component_index": 0,
         "kwargs": {
          "multipleBond": true,
          "radius": 0.25,
          "sele": "*"
         },
         "methodName": "addRepresentation",
         "reconstruc_color_scheme": false,
         "target": "compList",
         "type": "call_method"
        }
       ],
       "_ngl_original_stage_parameters": {
        "ambientColor": 14540253,
        "ambientIntensity": 0.2,
        "backgroundColor": "white",
        "cameraEyeSep": 0.3,
        "cameraFov": 40,
        "cameraType": "perspective",
        "clipDist": 10,
        "clipFar": 100,
        "clipMode": "scene",
        "clipNear": 0,
        "clipScale": "relative",
        "fogFar": 100,
        "fogNear": 50,
        "hoverTimeout": 0,
        "impostor": true,
        "lightColor": 14540253,
        "lightIntensity": 1,
        "mousePreset": "default",
        "panSpeed": 1,
        "quality": "medium",
        "rotateSpeed": 2,
        "sampleLevel": 0,
        "tooltip": true,
        "workerDefault": true,
        "zoomSpeed": 1.2
       },
       "_ngl_repr_dict": {
        "0": {
         "0": {
          "params": {
           "assembly": "default",
           "bondScale": 0.4,
           "bondSpacing": 1,
           "clipCenter": {
            "x": 0,
            "y": 0,
            "z": 0
           },
           "clipNear": 0,
           "clipRadius": 0,
           "colorMode": "hcl",
           "colorReverse": false,
           "colorScale": "",
           "colorScheme": "element",
           "colorValue": 9474192,
           "cylinderOnly": false,
           "defaultAssembly": "",
           "depthWrite": true,
           "diffuse": 16777215,
           "diffuseInterior": false,
           "disableImpostor": false,
           "disablePicking": false,
           "flatShaded": false,
           "interiorColor": 2236962,
           "interiorDarkening": 0,
           "lazy": false,
           "lineOnly": false,
           "linewidth": 2,
           "matrix": {
            "elements": [
             1,
             0,
             0,
             0,
             0,
             1,
             0,
             0,
             0,
             0,
             1,
             0,
             0,
             0,
             0,
             1
            ]
           },
           "metalness": 0,
           "multipleBond": true,
           "opacity": 1,
           "openEnded": true,
           "quality": "medium",
           "radialSegments": 10,
           "radiusData": {},
           "radiusScale": 1,
           "radiusSize": 0.25,
           "radiusType": "size",
           "roughness": 0.4,
           "sele": "*",
           "side": "double",
           "sphereDetail": 1,
           "useInteriorColor": true,
           "visible": true,
           "wireframe": false
          },
          "type": "licorice"
         }
        }
       },
       "_ngl_serialize": false,
       "_ngl_version": "2.0.0-dev.39",
       "_ngl_view_id": [
        "C79A63DB-F168-4FE0-A3F2-B0B866E93BDB"
       ],
       "_player_dict": {},
       "_scene_position": {},
       "_scene_rotation": {},
       "_synced_model_ids": [],
       "_synced_repr_model_ids": [],
       "_view_height": "",
       "_view_width": "",
       "background": "white",
       "frame": 0,
       "gui_style": null,
       "layout": "IPY_MODEL_a111370638e747f39ff262b3ac437226",
       "max_frame": 0,
       "n_components": 1,
       "picked": {}
      }
     },
     "a6e85ccf38154e04a617decde8f0d05b": {
      "model_module": "nglview-js-widgets",
      "model_module_version": "3.0.8",
      "model_name": "NGLModel",
      "state": {
       "_camera_orientation": [],
       "_camera_str": "orthographic",
       "_gui_theme": null,
       "_ibtn_fullscreen": null,
       "_igui": null,
       "_iplayer": null,
       "_ngl_color_dict": {},
       "_ngl_coordinate_resource": {},
       "_ngl_full_stage_parameters": {},
       "_ngl_msg_archive": [],
       "_ngl_original_stage_parameters": {},
       "_ngl_repr_dict": {},
       "_ngl_serialize": false,
       "_ngl_version": "",
       "_ngl_view_id": [],
       "_player_dict": {},
       "_scene_position": {},
       "_scene_rotation": {},
       "_synced_model_ids": [],
       "_synced_repr_model_ids": [],
       "_view_height": "",
       "_view_width": "",
       "background": "white",
       "frame": 0,
       "gui_style": null,
       "layout": "IPY_MODEL_2c27bc08bf034b55866a87973b64c822",
       "max_frame": 0,
       "n_components": 0,
       "picked": {}
      }
     },
     "a71071767d774136840e8482afc604ce": {
      "model_module": "@jupyter-widgets/controls",
      "model_module_version": "2.0.0",
      "model_name": "ImageModel",
      "state": {
       "layout": "IPY_MODEL_aced7056d4ea494395a7e9490b7ff820",
       "width": "900.0"
      }
     },
     "a96dd83bdf804c40bb871118c6321c93": {
      "model_module": "nglview-js-widgets",
      "model_module_version": "3.0.8",
      "model_name": "NGLModel",
      "state": {
       "_camera_orientation": [],
       "_camera_str": "orthographic",
       "_gui_theme": null,
       "_ibtn_fullscreen": null,
       "_igui": null,
       "_iplayer": null,
       "_ngl_color_dict": {},
       "_ngl_coordinate_resource": {},
       "_ngl_full_stage_parameters": {},
       "_ngl_msg_archive": [],
       "_ngl_original_stage_parameters": {},
       "_ngl_repr_dict": {},
       "_ngl_serialize": false,
       "_ngl_version": "",
       "_ngl_view_id": [],
       "_player_dict": {},
       "_scene_position": {},
       "_scene_rotation": {},
       "_synced_model_ids": [],
       "_synced_repr_model_ids": [],
       "_view_height": "",
       "_view_width": "",
       "background": "white",
       "frame": 0,
       "gui_style": null,
       "layout": "IPY_MODEL_61e204482e4e4ae7865aff22cd9175dd",
       "max_frame": 0,
       "n_components": 0,
       "picked": {}
      }
     },
     "a9b4a38530e94108afefe7744b659da3": {
      "model_module": "@jupyter-widgets/controls",
      "model_module_version": "2.0.0",
      "model_name": "IntSliderModel",
      "state": {
       "behavior": "drag-tap",
       "layout": "IPY_MODEL_e3d667b3bf9c4de3936a39dc7aeffc9e",
       "max": 1,
       "style": "IPY_MODEL_54bf59d58086437491ac45eb319d2b06"
      }
     },
     "a9bd6ce50e88474fa45051d9f040ca6c": {
      "model_module": "@jupyter-widgets/base",
      "model_module_version": "2.0.0",
      "model_name": "LayoutModel",
      "state": {}
     },
     "a9cedd27262247d6b7da85c0556687f6": {
      "model_module": "@jupyter-widgets/controls",
      "model_module_version": "2.0.0",
      "model_name": "LinkModel",
      "state": {
       "source": [
        "IPY_MODEL_ee8532b03ee64e70b18167882c8bf4c7",
        "max"
       ],
       "target": [
        "IPY_MODEL_16fddde77e754f219404db98cacf05cf",
        "max_frame"
       ]
      }
     },
     "aa15edca59dd401e8fec17a28536bbe6": {
      "model_module": "@jupyter-widgets/base",
      "model_module_version": "2.0.0",
      "model_name": "LayoutModel",
      "state": {}
     },
     "aa849640df74464b919bf690b6ea0573": {
      "model_module": "@jupyter-widgets/controls",
      "model_module_version": "2.0.0",
      "model_name": "IntSliderModel",
      "state": {
       "behavior": "drag-tap",
       "layout": "IPY_MODEL_414c9dc60b004a37986f27387d8a090a",
       "max": 0,
       "style": "IPY_MODEL_48c413118cbd4a9e9bb104e632c84c07"
      }
     },
     "ace455c6acc5428382d8789a0bd1cbac": {
      "model_module": "@jupyter-widgets/controls",
      "model_module_version": "2.0.0",
      "model_name": "PlayModel",
      "state": {
       "layout": "IPY_MODEL_2d8d513854334ffcb442e3b48cc0f21e",
       "max": 0,
       "style": "IPY_MODEL_810a580147744939a08b9b498d1a5a1f"
      }
     },
     "aced7056d4ea494395a7e9490b7ff820": {
      "model_module": "@jupyter-widgets/base",
      "model_module_version": "2.0.0",
      "model_name": "LayoutModel",
      "state": {}
     },
     "ae7ae624d48b4a56a56a3f10e92d0584": {
      "model_module": "@jupyter-widgets/controls",
      "model_module_version": "2.0.0",
      "model_name": "ButtonModel",
      "state": {
       "icon": "compress",
       "layout": "IPY_MODEL_317f765838ee4bf2b34149139570af65",
       "style": "IPY_MODEL_aedb30376e224170875ffb21447633a1",
       "tooltip": null
      }
     },
     "aedb30376e224170875ffb21447633a1": {
      "model_module": "@jupyter-widgets/controls",
      "model_module_version": "2.0.0",
      "model_name": "ButtonStyleModel",
      "state": {
       "font_family": null,
       "font_size": null,
       "font_style": null,
       "font_variant": null,
       "font_weight": null,
       "text_color": null,
       "text_decoration": null
      }
     },
     "af171329fb5b4da9a174028481abd4fa": {
      "model_module": "@jupyter-widgets/controls",
      "model_module_version": "2.0.0",
      "model_name": "IntSliderModel",
      "state": {
       "behavior": "drag-tap",
       "layout": "IPY_MODEL_f9e6356205a540d78cd7baf2421c2ff2",
       "max": 0,
       "style": "IPY_MODEL_132aeadf4be54b47b23a4eef995befd4"
      }
     },
     "af9c4316e184468194cce06e5e04c439": {
      "model_module": "@jupyter-widgets/controls",
      "model_module_version": "2.0.0",
      "model_name": "ImageModel",
      "state": {
       "layout": "IPY_MODEL_dfd38ed43fef4ca597cb6ac32462236e",
       "width": "900.0"
      }
     },
     "afa3d3a18e1f4ef6b2132ec698580b0b": {
      "model_module": "@jupyter-widgets/controls",
      "model_module_version": "2.0.0",
      "model_name": "LinkModel",
      "state": {
       "source": [
        "IPY_MODEL_1dfdae6177bd4065891dc35d08606099",
        "value"
       ],
       "target": [
        "IPY_MODEL_4351754e105545bcacc31018a3d1eb28",
        "frame"
       ]
      }
     },
     "b0a8c8cfdbb44e8b9c164686d4c4dce0": {
      "model_module": "@jupyter-widgets/base",
      "model_module_version": "2.0.0",
      "model_name": "LayoutModel",
      "state": {}
     },
     "b11f53f1634746df9b83a7f299c4abdb": {
      "model_module": "@jupyter-widgets/controls",
      "model_module_version": "2.0.0",
      "model_name": "DescriptionStyleModel",
      "state": {
       "description_width": ""
      }
     },
     "b3525c4cde9d4dbca5a56778689f9502": {
      "model_module": "@jupyter-widgets/controls",
      "model_module_version": "2.0.0",
      "model_name": "ButtonStyleModel",
      "state": {
       "font_family": null,
       "font_size": null,
       "font_style": null,
       "font_variant": null,
       "font_weight": null,
       "text_color": null,
       "text_decoration": null
      }
     },
     "b3e835e5dbac4f70b06fb4a452f7ec15": {
      "model_module": "@jupyter-widgets/controls",
      "model_module_version": "2.0.0",
      "model_name": "LinkModel",
      "state": {
       "source": [
        "IPY_MODEL_f394c0e92a5a401db56b62380faeba01",
        "max"
       ],
       "target": [
        "IPY_MODEL_4351754e105545bcacc31018a3d1eb28",
        "max_frame"
       ]
      }
     },
     "b6770ceae0f94555a5e60d324813ad1b": {
      "model_module": "@jupyter-widgets/base",
      "model_module_version": "2.0.0",
      "model_name": "LayoutModel",
      "state": {
       "width": "34px"
      }
     },
     "b6e04da100f744b2a3553c5949be1f4e": {
      "model_module": "@jupyter-widgets/base",
      "model_module_version": "2.0.0",
      "model_name": "LayoutModel",
      "state": {}
     },
     "b741e2f4719047069a3faad418a5c958": {
      "model_module": "@jupyter-widgets/controls",
      "model_module_version": "2.0.0",
      "model_name": "HBoxModel",
      "state": {
       "children": [
        "IPY_MODEL_0f76d19501c34bb7b27bfa3e662bb92c",
        "IPY_MODEL_aa849640df74464b919bf690b6ea0573"
       ],
       "layout": "IPY_MODEL_e6a519fce13d4463a07fcfd2c4890715"
      }
     },
     "b78a78b1ae3c4212944050dc1e8cef8e": {
      "model_module": "@jupyter-widgets/base",
      "model_module_version": "2.0.0",
      "model_name": "LayoutModel",
      "state": {}
     },
     "b8f2a576a6584e4b813c62173bceab29": {
      "model_module": "@jupyter-widgets/controls",
      "model_module_version": "2.0.0",
      "model_name": "ImageModel",
      "state": {
       "layout": "IPY_MODEL_84c674a394bc4a28aad97fc70148c4a9",
       "width": "900.0"
      }
     },
     "b9a730a98374473f8e9340493a4bb054": {
      "model_module": "@jupyter-widgets/base",
      "model_module_version": "2.0.0",
      "model_name": "LayoutModel",
      "state": {
       "width": "34px"
      }
     },
     "bba3be7a0a4b4537a5d1b198b23b5f2a": {
      "model_module": "@jupyter-widgets/controls",
      "model_module_version": "2.0.0",
      "model_name": "SliderStyleModel",
      "state": {
       "description_width": ""
      }
     },
     "bbee24f868b84fc5a3005a317a9afc35": {
      "model_module": "@jupyter-widgets/base",
      "model_module_version": "2.0.0",
      "model_name": "LayoutModel",
      "state": {}
     },
     "bcbc8c91bef5454a9aeb4cfdb4316708": {
      "model_module": "@jupyter-widgets/base",
      "model_module_version": "2.0.0",
      "model_name": "LayoutModel",
      "state": {}
     },
     "c032525e0cf84a9585ff9684bbce6386": {
      "model_module": "@jupyter-widgets/controls",
      "model_module_version": "2.0.0",
      "model_name": "HBoxModel",
      "state": {
       "children": [
        "IPY_MODEL_ace455c6acc5428382d8789a0bd1cbac",
        "IPY_MODEL_ee8532b03ee64e70b18167882c8bf4c7"
       ],
       "layout": "IPY_MODEL_342942decf6d41388f76af10468ec9d4"
      }
     },
     "c06c19f76f0047189893df3f43592efe": {
      "model_module": "@jupyter-widgets/controls",
      "model_module_version": "2.0.0",
      "model_name": "PlayModel",
      "state": {
       "layout": "IPY_MODEL_c10659d859c547fab1269445af726514",
       "max": 1,
       "style": "IPY_MODEL_130c150a538c46ffa9843d2d2e4fa227"
      }
     },
     "c10659d859c547fab1269445af726514": {
      "model_module": "@jupyter-widgets/base",
      "model_module_version": "2.0.0",
      "model_name": "LayoutModel",
      "state": {}
     },
     "c2810eab73af4ecb88624da9103bf4c1": {
      "model_module": "@jupyter-widgets/base",
      "model_module_version": "2.0.0",
      "model_name": "LayoutModel",
      "state": {}
     },
     "c3baa414988e493ca08abb836afc9b1e": {
      "model_module": "@jupyter-widgets/controls",
      "model_module_version": "2.0.0",
      "model_name": "DescriptionStyleModel",
      "state": {
       "description_width": ""
      }
     },
     "c3d6150e32554f6ea3da45c32345e6f0": {
      "model_module": "@jupyter-widgets/base",
      "model_module_version": "2.0.0",
      "model_name": "LayoutModel",
      "state": {}
     },
     "c463145631c448d0b778f86e46e3d874": {
      "model_module": "@jupyter-widgets/controls",
      "model_module_version": "2.0.0",
      "model_name": "SliderStyleModel",
      "state": {
       "description_width": ""
      }
     },
     "c63b1fe10f584acbbdc0fb5d8968b03f": {
      "model_module": "@jupyter-widgets/base",
      "model_module_version": "2.0.0",
      "model_name": "LayoutModel",
      "state": {}
     },
     "c67817247a6c478db129eb64eac74be4": {
      "model_module": "nglview-js-widgets",
      "model_module_version": "3.0.8",
      "model_name": "NGLModel",
      "state": {
       "_camera_orientation": [
        19.06972467030831,
        -17.39545748409262,
        1.2188037348833236,
        0,
        17.3238342476009,
        19.104856232670077,
        1.622053611032462,
        0,
        -1.9930355206794785,
        -0.3799340397211608,
        25.760925491239092,
        0,
        -0.6809999942779541,
        -0.17950010299682617,
        -0.1679999828338623,
        1
       ],
       "_camera_str": "orthographic",
       "_gui_theme": null,
       "_ibtn_fullscreen": "IPY_MODEL_30052aa72723418786ade0b57f3ffdd5",
       "_igui": null,
       "_iplayer": "IPY_MODEL_00bbac465a044863837c9c78f8f4da06",
       "_ngl_color_dict": {},
       "_ngl_coordinate_resource": {},
       "_ngl_full_stage_parameters": {
        "ambientColor": 14540253,
        "ambientIntensity": 0.2,
        "backgroundColor": "white",
        "cameraEyeSep": 0.3,
        "cameraFov": 40,
        "cameraType": "perspective",
        "clipDist": 10,
        "clipFar": 100,
        "clipMode": "scene",
        "clipNear": 0,
        "clipScale": "relative",
        "fogFar": 100,
        "fogNear": 50,
        "hoverTimeout": 0,
        "impostor": true,
        "lightColor": 14540253,
        "lightIntensity": 1,
        "mousePreset": "default",
        "panSpeed": 1,
        "quality": "medium",
        "rotateSpeed": 2,
        "sampleLevel": 0,
        "tooltip": true,
        "workerDefault": true,
        "zoomSpeed": 1.2
       },
       "_ngl_msg_archive": [
        {
         "args": [
          {
           "binary": false,
           "data": "MODEL        1\nHETATM    1  C1  UNL     1       4.945  -0.550  -0.648  1.00  0.00           C  \nHETATM    2  O1  UNL     1       4.798  -1.565  -1.410  1.00  0.00           O  \nHETATM    3  C2  UNL     1       6.180   0.308  -0.580  1.00  0.00           C  \nHETATM    4  H1  UNL     1       7.081  -0.254  -0.899  1.00  0.00           H  \nHETATM    5  H2  UNL     1       6.029   1.246  -1.160  1.00  0.00           H  \nHETATM    6  C3  UNL     1       6.231   0.643   0.894  1.00  0.00           C  \nHETATM    7  H3  UNL     1       6.842  -0.094   1.450  1.00  0.00           H  \nHETATM    8  H4  UNL     1       6.654   1.663   0.976  1.00  0.00           H  \nHETATM    9  C4  UNL     1       4.792   0.604   1.272  1.00  0.00           C  \nHETATM   10  O2  UNL     1       4.425   1.092   2.358  1.00  0.00           O  \nHETATM   11  N1  UNL     1       4.005  -0.020   0.275  1.00  0.00           N  \nHETATM   12  C5  UNL     1       2.614  -0.112   0.191  1.00  0.00           C  \nHETATM   13  C6  UNL     1       1.980  -0.755  -0.849  1.00  0.00           C  \nHETATM   14  C7  UNL     1       1.764   0.427   1.133  1.00  0.00           C  \nHETATM   15  H5  UNL     1       2.508  -1.217  -1.647  1.00  0.00           H  \nHETATM   16  C8  UNL     1       0.600  -0.864  -0.961  1.00  0.00           C  \nHETATM   17  C9  UNL     1       0.389   0.347   1.067  1.00  0.00           C  \nHETATM   18  H6  UNL     1       2.130   0.948   1.982  1.00  0.00           H  \nHETATM   19  H7  UNL     1       0.110  -1.368  -1.777  1.00  0.00           H  \nHETATM   20  C10 UNL     1      -0.206  -0.307   0.008  1.00  0.00           C  \nHETATM   21  C11 UNL     1      -0.475   0.943   2.104  1.00  0.00           C  \nHETATM   22  C12 UNL     1      -1.657  -0.413  -0.097  1.00  0.00           C  \nHETATM   23  O3  UNL     1      -1.717   0.811   1.946  1.00  0.00           O  \nHETATM   24  O4  UNL     1       0.143   1.603   3.174  1.00  0.00           O1-\nHETATM   25  C13 UNL     1      -2.443  -1.426   0.416  1.00  0.00           C  \nHETATM   26  C14 UNL     1      -2.307   0.614  -0.785  1.00  0.00           C  \nHETATM   27  C15 UNL     1      -1.779  -2.430   1.091  1.00  0.00           C  \nHETATM   28  C16 UNL     1      -3.886  -1.362   0.210  1.00  0.00           C  \nHETATM   29  C17 UNL     1      -1.565   1.663  -1.325  1.00  0.00           C  \nHETATM   30  C18 UNL     1      -3.678   0.618  -0.947  1.00  0.00           C  \nHETATM   31  H8  UNL     1      -0.704  -2.422   1.212  1.00  0.00           H  \nHETATM   32  C19 UNL     1      -2.602  -3.434   1.595  1.00  0.00           C  \nHETATM   33  C20 UNL     1      -4.654  -2.400   0.740  1.00  0.00           C  \nHETATM   34  O5  UNL     1      -4.435  -0.357  -0.453  1.00  0.00           O  \nHETATM   35  C21 UNL     1      -2.161   2.701  -2.013  1.00  0.00           C  \nHETATM   36  H9  UNL     1      -0.471   1.676  -1.206  1.00  0.00           H  \nHETATM   37  C22 UNL     1      -4.328   1.635  -1.629  1.00  0.00           C  \nHETATM   38  H10 UNL     1      -2.161  -4.257   2.137  1.00  0.00           H  \nHETATM   39  C23 UNL     1      -3.970  -3.396   1.414  1.00  0.00           C  \nHETATM   40  H11 UNL     1      -5.719  -2.398   0.615  1.00  0.00           H  \nHETATM   41  C24 UNL     1      -3.533   2.638  -2.135  1.00  0.00           C  \nHETATM   42  H12 UNL     1      -1.587   3.517  -2.433  1.00  0.00           H  \nHETATM   43  H13 UNL     1      -5.407   1.644  -1.760  1.00  0.00           H  \nHETATM   44  O6  UNL     1      -4.715  -4.305   1.870  1.00  0.00           O  \nHETATM   45  O7  UNL     1      -4.121   3.702  -2.838  1.00  0.00           O  \nHETATM   46  H14 UNL     1      -3.939   4.664  -2.575  1.00  0.00           H  \nCONECT    1    2    2    3   11\nCONECT    3    4    5    6\nCONECT    6    7    8    9\nCONECT    9   10   10   11\nCONECT   11   12\nCONECT   12   13   13   14\nCONECT   13   15   16\nCONECT   14   17   17   18\nCONECT   16   19   20   20\nCONECT   17   20   21\nCONECT   20   22\nCONECT   21   23   23   24\nCONECT   22   25   25   26\nCONECT   25   27   28\nCONECT   26   29   30   30\nCONECT   27   31   32   32\nCONECT   28   33   33   34\nCONECT   29   35   35   36\nCONECT   30   34   37\nCONECT   32   38   39\nCONECT   33   39   40\nCONECT   35   41   42\nCONECT   37   41   41   43\nCONECT   39   44   44\nCONECT   41   45\nCONECT   45   46\nENDMDL\nMODEL        2\nHETATM    1  C1  UNL     1       4.817  -1.035  -0.995  1.00  0.00           C  \nHETATM    2  O1  UNL     1       4.488  -2.192  -1.353  1.00  0.00           O  \nHETATM    3  C2  UNL     1       6.171  -0.412  -1.030  1.00  0.00           C  \nHETATM    4  H1  UNL     1       6.946  -1.085  -0.633  1.00  0.00           H  \nHETATM    5  H2  UNL     1       6.455  -0.141  -2.066  1.00  0.00           H  \nHETATM    6  C3  UNL     1       6.028   0.853  -0.231  1.00  0.00           C  \nHETATM    7  H3  UNL     1       6.550   0.699   0.739  1.00  0.00           H  \nHETATM    8  H4  UNL     1       6.509   1.720  -0.727  1.00  0.00           H  \nHETATM    9  C4  UNL     1       4.570   1.051  -0.019  1.00  0.00           C  \nHETATM   10  O2  UNL     1       4.256   2.142   0.493  1.00  0.00           O  \nHETATM   11  N1  UNL     1       3.895  -0.114  -0.481  1.00  0.00           N  \nHETATM   12  C5  UNL     1       2.483  -0.115  -0.338  1.00  0.00           C  \nHETATM   13  C6  UNL     1       1.997  -0.627   0.847  1.00  0.00           C  \nHETATM   14  C7  UNL     1       1.675   0.385  -1.364  1.00  0.00           C  \nHETATM   15  H5  UNL     1       2.657  -1.002   1.611  1.00  0.00           H  \nHETATM   16  C8  UNL     1       0.632  -0.657   1.050  1.00  0.00           C  \nHETATM   17  C9  UNL     1       0.336   0.321  -1.089  1.00  0.00           C  \nHETATM   18  H6  UNL     1       2.079   0.779  -2.279  1.00  0.00           H  \nHETATM   19  H7  UNL     1       0.219  -1.052   1.967  1.00  0.00           H  \nHETATM   20  C10 UNL     1      -0.213  -0.178   0.074  1.00  0.00           C  \nHETATM   21  C11 UNL     1      -0.641   0.804  -2.060  1.00  0.00           C  \nHETATM   22  C12 UNL     1      -1.642  -0.226   0.322  1.00  0.00           C  \nHETATM   23  O3  UNL     1      -0.502   1.313  -3.202  1.00  0.00           O  \nHETATM   24  O4  UNL     1      -0.468   1.357  -3.302  1.00  0.00           O1-\nHETATM   25  C13 UNL     1      -2.292  -1.394  -0.091  1.00  0.00           C  \nHETATM   26  C14 UNL     1      -2.363   0.785   0.924  1.00  0.00           C  \nHETATM   27  C15 UNL     1      -1.599  -2.421  -0.695  1.00  0.00           C  \nHETATM   28  C16 UNL     1      -3.739  -1.454   0.155  1.00  0.00           C  \nHETATM   29  C17 UNL     1      -1.657   1.903   1.304  1.00  0.00           C  \nHETATM   30  C18 UNL     1      -3.728   0.659   1.124  1.00  0.00           C  \nHETATM   31  H8  UNL     1      -0.553  -2.360  -0.865  1.00  0.00           H  \nHETATM   32  C19 UNL     1      -2.372  -3.508  -1.048  1.00  0.00           C  \nHETATM   33  C20 UNL     1      -4.388  -2.598  -0.248  1.00  0.00           C  \nHETATM   34  O5  UNL     1      -4.330  -0.438   0.734  1.00  0.00           O  \nHETATM   35  C21 UNL     1      -2.384   2.918   1.909  1.00  0.00           C  \nHETATM   36  H9  UNL     1      -0.586   1.995   1.143  1.00  0.00           H  \nHETATM   37  C22 UNL     1      -4.412   1.694   1.729  1.00  0.00           C  \nHETATM   38  H10 UNL     1      -1.885  -4.348  -1.527  1.00  0.00           H  \nHETATM   39  C23 UNL     1      -3.731  -3.648  -0.856  1.00  0.00           C  \nHETATM   40  H11 UNL     1      -5.470  -2.675  -0.079  1.00  0.00           H  \nHETATM   41  C24 UNL     1      -3.753   2.853   2.138  1.00  0.00           C  \nHETATM   42  H12 UNL     1      -1.795   3.797   2.201  1.00  0.00           H  \nHETATM   43  H13 UNL     1      -5.498   1.618   1.900  1.00  0.00           H  \nHETATM   44  O6  UNL     1      -4.336  -4.690  -1.220  1.00  0.00           O  \nHETATM   45  O7  UNL     1      -4.411   3.903   2.745  1.00  0.00           O  \nHETATM   46  H14 UNL     1      -4.018   4.820   2.687  1.00  0.00           H  \nCONECT    1    2    2    3   11\nCONECT    3    4    5    6\nCONECT    6    7    8    9\nCONECT    9   10   10   11\nCONECT   11   12\nCONECT   12   13   13   14\nCONECT   13   15   16\nCONECT   14   17   17   18\nCONECT   16   19   20   20\nCONECT   17   20   21\nCONECT   20   22\nCONECT   21   23   23   24\nCONECT   22   25   25   26\nCONECT   25   27   28\nCONECT   26   29   30   30\nCONECT   27   31   32   32\nCONECT   28   33   33   34\nCONECT   29   35   35   36\nCONECT   30   34   37\nCONECT   32   38   39\nCONECT   33   39   40\nCONECT   35   41   42\nCONECT   37   41   41   43\nCONECT   39   44   44\nCONECT   41   45\nCONECT   45   46\nENDMDL\nEND\n",
           "type": "blob"
          }
         ],
         "kwargs": {
          "defaultRepresentation": true,
          "ext": "pdb",
          "name": "<openff.toolkit.utils._viz.MoleculeNGLViewTrajectory object at 0x12ce707d0>"
         },
         "methodName": "loadFile",
         "reconstruc_color_scheme": false,
         "target": "Stage",
         "type": "call_method"
        },
        {
         "args": [],
         "component_index": 0,
         "kwargs": {},
         "methodName": "removeAllRepresentations",
         "reconstruc_color_scheme": false,
         "target": "compList",
         "type": "call_method"
        },
        {
         "args": [
          "licorice"
         ],
         "component_index": 0,
         "kwargs": {
          "multipleBond": true,
          "radius": 0.25,
          "sele": "*"
         },
         "methodName": "addRepresentation",
         "reconstruc_color_scheme": false,
         "target": "compList",
         "type": "call_method"
        }
       ],
       "_ngl_original_stage_parameters": {
        "ambientColor": 14540253,
        "ambientIntensity": 0.2,
        "backgroundColor": "white",
        "cameraEyeSep": 0.3,
        "cameraFov": 40,
        "cameraType": "perspective",
        "clipDist": 10,
        "clipFar": 100,
        "clipMode": "scene",
        "clipNear": 0,
        "clipScale": "relative",
        "fogFar": 100,
        "fogNear": 50,
        "hoverTimeout": 0,
        "impostor": true,
        "lightColor": 14540253,
        "lightIntensity": 1,
        "mousePreset": "default",
        "panSpeed": 1,
        "quality": "medium",
        "rotateSpeed": 2,
        "sampleLevel": 0,
        "tooltip": true,
        "workerDefault": true,
        "zoomSpeed": 1.2
       },
       "_ngl_repr_dict": {
        "0": {
         "0": {
          "params": {
           "assembly": "default",
           "bondScale": 0.4,
           "bondSpacing": 1,
           "clipCenter": {
            "x": 0,
            "y": 0,
            "z": 0
           },
           "clipNear": 0,
           "clipRadius": 0,
           "colorMode": "hcl",
           "colorReverse": false,
           "colorScale": "",
           "colorScheme": "element",
           "colorValue": 9474192,
           "cylinderOnly": false,
           "defaultAssembly": "",
           "depthWrite": true,
           "diffuse": 16777215,
           "diffuseInterior": false,
           "disableImpostor": false,
           "disablePicking": false,
           "flatShaded": false,
           "interiorColor": 2236962,
           "interiorDarkening": 0,
           "lazy": false,
           "lineOnly": false,
           "linewidth": 2,
           "matrix": {
            "elements": [
             1,
             0,
             0,
             0,
             0,
             1,
             0,
             0,
             0,
             0,
             1,
             0,
             0,
             0,
             0,
             1
            ]
           },
           "metalness": 0,
           "multipleBond": true,
           "opacity": 1,
           "openEnded": true,
           "quality": "medium",
           "radialSegments": 10,
           "radiusData": {},
           "radiusScale": 1,
           "radiusSize": 0.25,
           "radiusType": "size",
           "roughness": 0.4,
           "sele": "*",
           "side": "double",
           "sphereDetail": 1,
           "useInteriorColor": true,
           "visible": true,
           "wireframe": false
          },
          "type": "licorice"
         }
        }
       },
       "_ngl_serialize": false,
       "_ngl_version": "2.0.0-dev.39",
       "_ngl_view_id": [
        "DCA49C91-090C-43B4-B0AD-0D4255B7A6A3"
       ],
       "_player_dict": {},
       "_scene_position": {},
       "_scene_rotation": {},
       "_synced_model_ids": [],
       "_synced_repr_model_ids": [],
       "_view_height": "",
       "_view_width": "",
       "background": "white",
       "frame": 0,
       "gui_style": null,
       "layout": "IPY_MODEL_b6e04da100f744b2a3553c5949be1f4e",
       "max_frame": 1,
       "n_components": 1,
       "picked": {}
      }
     },
     "ce134e19f12f4f8ba17b2ed9b6489615": {
      "model_module": "@jupyter-widgets/controls",
      "model_module_version": "2.0.0",
      "model_name": "HBoxModel",
      "state": {
       "children": [
        "IPY_MODEL_2aa4e543e0b24d60836fa3803759b6b6",
        "IPY_MODEL_438e2c7516ca4ff39f57ffa2e247efb7"
       ],
       "layout": "IPY_MODEL_e9b8a0b1ff804034bd2e7d722b973a15"
      }
     },
     "ce56e2e015b24151bb4a9734bd58c4cb": {
      "model_module": "@jupyter-widgets/controls",
      "model_module_version": "2.0.0",
      "model_name": "LinkModel",
      "state": {
       "source": [
        "IPY_MODEL_718699ecaa424971b75e3f0048019822",
        "value"
       ],
       "target": [
        "IPY_MODEL_0f65f034c57b4ef9b61c6ee514f4e12d",
        "value"
       ]
      }
     },
     "ce9c2a2d8dee4809a439bda08fc16d45": {
      "model_module": "@jupyter-widgets/base",
      "model_module_version": "2.0.0",
      "model_name": "LayoutModel",
      "state": {}
     },
     "cee07f2ed6734029a9c6d5a9d0342b3d": {
      "model_module": "nglview-js-widgets",
      "model_module_version": "3.0.8",
      "model_name": "NGLModel",
      "state": {
       "_camera_orientation": [],
       "_camera_str": "orthographic",
       "_gui_theme": null,
       "_ibtn_fullscreen": null,
       "_igui": null,
       "_iplayer": null,
       "_ngl_color_dict": {},
       "_ngl_coordinate_resource": {},
       "_ngl_full_stage_parameters": {},
       "_ngl_msg_archive": [],
       "_ngl_original_stage_parameters": {},
       "_ngl_repr_dict": {},
       "_ngl_serialize": false,
       "_ngl_version": "",
       "_ngl_view_id": [],
       "_player_dict": {},
       "_scene_position": {},
       "_scene_rotation": {},
       "_synced_model_ids": [],
       "_synced_repr_model_ids": [],
       "_view_height": "",
       "_view_width": "",
       "background": "white",
       "frame": 0,
       "gui_style": null,
       "layout": "IPY_MODEL_b78a78b1ae3c4212944050dc1e8cef8e",
       "max_frame": 0,
       "n_components": 0,
       "picked": {}
      }
     },
     "cf49a2dcd53944199c492cef839e85a9": {
      "model_module": "@jupyter-widgets/controls",
      "model_module_version": "2.0.0",
      "model_name": "LinkModel",
      "state": {
       "source": [
        "IPY_MODEL_2d61c1dd01514f7bb2e79f692508e5fa",
        "value"
       ],
       "target": [
        "IPY_MODEL_9dd815af2b04404cbdac6c41831b2329",
        "frame"
       ]
      }
     },
     "cf678276df2e49e8a52014bda6c9d0f6": {
      "model_module": "@jupyter-widgets/base",
      "model_module_version": "2.0.0",
      "model_name": "LayoutModel",
      "state": {
       "width": "34px"
      }
     },
     "d3c1ddea896545fda4b02d1a2dd0e51b": {
      "model_module": "@jupyter-widgets/controls",
      "model_module_version": "2.0.0",
      "model_name": "LinkModel",
      "state": {
       "source": [
        "IPY_MODEL_164bc8e8e2b14a24979b75096b47d8df",
        "max"
       ],
       "target": [
        "IPY_MODEL_96363d5307464bc9aef157e9d90467a4",
        "max_frame"
       ]
      }
     },
     "d4dbf8f1b71a412cb4a2fddb5a64e8f7": {
      "model_module": "nglview-js-widgets",
      "model_module_version": "3.0.8",
      "model_name": "NGLModel",
      "state": {
       "_camera_orientation": [],
       "_camera_str": "orthographic",
       "_gui_theme": null,
       "_ibtn_fullscreen": null,
       "_igui": null,
       "_iplayer": null,
       "_ngl_color_dict": {},
       "_ngl_coordinate_resource": {},
       "_ngl_full_stage_parameters": {},
       "_ngl_msg_archive": [],
       "_ngl_original_stage_parameters": {},
       "_ngl_repr_dict": {},
       "_ngl_serialize": false,
       "_ngl_version": "",
       "_ngl_view_id": [],
       "_player_dict": {},
       "_scene_position": {},
       "_scene_rotation": {},
       "_synced_model_ids": [],
       "_synced_repr_model_ids": [],
       "_view_height": "",
       "_view_width": "",
       "background": "white",
       "frame": 0,
       "gui_style": null,
       "layout": "IPY_MODEL_1e79a0cfd4154892bdf4204569d3d39b",
       "max_frame": 0,
       "n_components": 0,
       "picked": {}
      }
     },
     "d609d9e3e93b4c5297f807b2449d754f": {
      "model_module": "@jupyter-widgets/controls",
      "model_module_version": "2.0.0",
      "model_name": "ButtonStyleModel",
      "state": {
       "font_family": null,
       "font_size": null,
       "font_style": null,
       "font_variant": null,
       "font_weight": null,
       "text_color": null,
       "text_decoration": null
      }
     },
     "d7903d581b0943abae91341682c8e6b2": {
      "model_module": "@jupyter-widgets/controls",
      "model_module_version": "2.0.0",
      "model_name": "SliderStyleModel",
      "state": {
       "description_width": ""
      }
     },
     "d915b3af36d54e8b86bb5ba30a5d93eb": {
      "model_module": "@jupyter-widgets/controls",
      "model_module_version": "2.0.0",
      "model_name": "PlayModel",
      "state": {
       "layout": "IPY_MODEL_8006827733cf4422831a907053875a6e",
       "max": 0,
       "style": "IPY_MODEL_064aa707799a4366860703665fd09625"
      }
     },
     "daed3092f84c4a428067194dba3e8a66": {
      "model_module": "@jupyter-widgets/controls",
      "model_module_version": "2.0.0",
      "model_name": "ImageModel",
      "state": {
       "layout": "IPY_MODEL_f9ef54292a5744f4a2f1086396d999e3",
       "width": "900.0"
      }
     },
     "dc1c565c20264dea8f278e9e8c7c1654": {
      "model_module": "@jupyter-widgets/controls",
      "model_module_version": "2.0.0",
      "model_name": "HBoxModel",
      "state": {
       "children": [
        "IPY_MODEL_1dfdae6177bd4065891dc35d08606099",
        "IPY_MODEL_f394c0e92a5a401db56b62380faeba01"
       ],
       "layout": "IPY_MODEL_97b734c841e848a0b5cc21d1f99fe694"
      }
     },
     "de1a1c50612e474c81a4b61c857f22a7": {
      "model_module": "@jupyter-widgets/base",
      "model_module_version": "2.0.0",
      "model_name": "LayoutModel",
      "state": {}
     },
     "df1c6e9ba3e44723b66946ab30a0f3bf": {
      "model_module": "@jupyter-widgets/base",
      "model_module_version": "2.0.0",
      "model_name": "LayoutModel",
      "state": {}
     },
     "dfd38ed43fef4ca597cb6ac32462236e": {
      "model_module": "@jupyter-widgets/base",
      "model_module_version": "2.0.0",
      "model_name": "LayoutModel",
      "state": {}
     },
     "e09385f5e95b433495ca3dfe1b8777a3": {
      "model_module": "@jupyter-widgets/controls",
      "model_module_version": "2.0.0",
      "model_name": "LinkModel",
      "state": {
       "source": [
        "IPY_MODEL_c06c19f76f0047189893df3f43592efe",
        "value"
       ],
       "target": [
        "IPY_MODEL_99e82a3c6f204fdd950c5d2c8cc3c481",
        "value"
       ]
      }
     },
     "e156f9bacb7d460c9322db65de4716ee": {
      "model_module": "@jupyter-widgets/controls",
      "model_module_version": "2.0.0",
      "model_name": "SliderStyleModel",
      "state": {
       "description_width": ""
      }
     },
     "e3d667b3bf9c4de3936a39dc7aeffc9e": {
      "model_module": "@jupyter-widgets/base",
      "model_module_version": "2.0.0",
      "model_name": "LayoutModel",
      "state": {}
     },
     "e4ec3c626fba4c968d1b47d0006e1bab": {
      "model_module": "@jupyter-widgets/controls",
      "model_module_version": "2.0.0",
      "model_name": "DescriptionStyleModel",
      "state": {
       "description_width": ""
      }
     },
     "e56c69c9b4754f29a33aaaebfbdd977a": {
      "model_module": "@jupyter-widgets/controls",
      "model_module_version": "2.0.0",
      "model_name": "LinkModel",
      "state": {
       "source": [
        "IPY_MODEL_d915b3af36d54e8b86bb5ba30a5d93eb",
        "value"
       ],
       "target": [
        "IPY_MODEL_3ae612abb21441fdac0b712c50df0c3f",
        "frame"
       ]
      }
     },
     "e6a519fce13d4463a07fcfd2c4890715": {
      "model_module": "@jupyter-widgets/base",
      "model_module_version": "2.0.0",
      "model_name": "LayoutModel",
      "state": {}
     },
     "e7afbcf005034b6d9b173176751c5d33": {
      "model_module": "@jupyter-widgets/controls",
      "model_module_version": "2.0.0",
      "model_name": "LinkModel",
      "state": {
       "source": [
        "IPY_MODEL_164bc8e8e2b14a24979b75096b47d8df",
        "value"
       ],
       "target": [
        "IPY_MODEL_96363d5307464bc9aef157e9d90467a4",
        "frame"
       ]
      }
     },
     "e9b8a0b1ff804034bd2e7d722b973a15": {
      "model_module": "@jupyter-widgets/base",
      "model_module_version": "2.0.0",
      "model_name": "LayoutModel",
      "state": {}
     },
     "ea86b26940fc452cace64bd41ddb85b0": {
      "model_module": "@jupyter-widgets/base",
      "model_module_version": "2.0.0",
      "model_name": "LayoutModel",
      "state": {}
     },
     "eabf4d170add49079bf668d772449d39": {
      "model_module": "nglview-js-widgets",
      "model_module_version": "3.0.8",
      "model_name": "NGLModel",
      "state": {
       "_camera_orientation": [
        26.116002288694304,
        0,
        0,
        0,
        0,
        26.116002288694304,
        0,
        0,
        0,
        0,
        26.116002288694304,
        0,
        5.511000156402588,
        0,
        0,
        1
       ],
       "_camera_str": "orthographic",
       "_gui_theme": null,
       "_ibtn_fullscreen": "IPY_MODEL_099bcf0cc4d742a3a2910bc8710d9a05",
       "_igui": null,
       "_iplayer": "IPY_MODEL_b741e2f4719047069a3faad418a5c958",
       "_ngl_color_dict": {},
       "_ngl_coordinate_resource": {},
       "_ngl_full_stage_parameters": {
        "ambientColor": 14540253,
        "ambientIntensity": 0.2,
        "backgroundColor": "white",
        "cameraEyeSep": 0.3,
        "cameraFov": 40,
        "cameraType": "perspective",
        "clipDist": 10,
        "clipFar": 100,
        "clipMode": "scene",
        "clipNear": 0,
        "clipScale": "relative",
        "fogFar": 100,
        "fogNear": 50,
        "hoverTimeout": 0,
        "impostor": true,
        "lightColor": 14540253,
        "lightIntensity": 1,
        "mousePreset": "default",
        "panSpeed": 1,
        "quality": "medium",
        "rotateSpeed": 2,
        "sampleLevel": 0,
        "tooltip": true,
        "workerDefault": true,
        "zoomSpeed": 1.2
       },
       "_ngl_msg_archive": [
        {
         "args": [
          {
           "binary": false,
           "data": "HETATM    1  C1  UNL     1       0.000   0.000   0.000  1.00  0.00           C  \nHETATM    2  O1  UNL     1       0.000   0.000   0.000  1.00  0.00           O  \nHETATM    3  C2  UNL     1      -9.808   0.750   0.000  1.00  0.00           C  \nHETATM    4  H1  UNL     1       0.000   0.000   0.000  1.00  0.00           H  \nHETATM    5  C3  UNL     1      -9.808  -0.750   0.000  1.00  0.00           C  \nHETATM    6  H2  UNL     1       0.000   0.000   0.000  1.00  0.00           H  \nHETATM    7  C4  UNL     1       0.000   0.000   0.000  1.00  0.00           C  \nHETATM    8  O2  UNL     1       0.000   0.000   0.000  1.00  0.00           O  \nHETATM    9  H3  UNL     1     -11.022   1.632   0.000  1.00  0.00           H  \nHETATM   10  H4  UNL     1     -11.022  -1.632   0.000  1.00  0.00           H  \nHETATM   11  H5  UNL     1       0.000   0.000   0.000  1.00  0.00           H  \nHETATM   12  H6  UNL     1       0.000   0.000   0.000  1.00  0.00           H  \nCONECT    1    2    2    3   11\nCONECT    3    4    5    9\nCONECT    5    6    7   10\nCONECT    7    8    8   12\nEND\n",
           "type": "blob"
          }
         ],
         "kwargs": {
          "defaultRepresentation": true,
          "ext": "pdb",
          "name": "<openff.toolkit.utils._viz.MoleculeNGLViewTrajectory object at 0x12ccb5460>"
         },
         "methodName": "loadFile",
         "reconstruc_color_scheme": false,
         "target": "Stage",
         "type": "call_method"
        },
        {
         "args": [],
         "component_index": 0,
         "kwargs": {},
         "methodName": "removeAllRepresentations",
         "reconstruc_color_scheme": false,
         "target": "compList",
         "type": "call_method"
        },
        {
         "args": [
          "licorice"
         ],
         "component_index": 0,
         "kwargs": {
          "multipleBond": true,
          "radius": 0.25,
          "sele": "*"
         },
         "methodName": "addRepresentation",
         "reconstruc_color_scheme": false,
         "target": "compList",
         "type": "call_method"
        }
       ],
       "_ngl_original_stage_parameters": {
        "ambientColor": 14540253,
        "ambientIntensity": 0.2,
        "backgroundColor": "white",
        "cameraEyeSep": 0.3,
        "cameraFov": 40,
        "cameraType": "perspective",
        "clipDist": 10,
        "clipFar": 100,
        "clipMode": "scene",
        "clipNear": 0,
        "clipScale": "relative",
        "fogFar": 100,
        "fogNear": 50,
        "hoverTimeout": 0,
        "impostor": true,
        "lightColor": 14540253,
        "lightIntensity": 1,
        "mousePreset": "default",
        "panSpeed": 1,
        "quality": "medium",
        "rotateSpeed": 2,
        "sampleLevel": 0,
        "tooltip": true,
        "workerDefault": true,
        "zoomSpeed": 1.2
       },
       "_ngl_repr_dict": {
        "0": {
         "0": {
          "params": {
           "assembly": "default",
           "bondScale": 0.4,
           "bondSpacing": 1,
           "clipCenter": {
            "x": 0,
            "y": 0,
            "z": 0
           },
           "clipNear": 0,
           "clipRadius": 0,
           "colorMode": "hcl",
           "colorReverse": false,
           "colorScale": "",
           "colorScheme": "element",
           "colorValue": 9474192,
           "cylinderOnly": false,
           "defaultAssembly": "",
           "depthWrite": true,
           "diffuse": 16777215,
           "diffuseInterior": false,
           "disableImpostor": false,
           "disablePicking": false,
           "flatShaded": false,
           "interiorColor": 2236962,
           "interiorDarkening": 0,
           "lazy": false,
           "lineOnly": false,
           "linewidth": 2,
           "matrix": {
            "elements": [
             1,
             0,
             0,
             0,
             0,
             1,
             0,
             0,
             0,
             0,
             1,
             0,
             0,
             0,
             0,
             1
            ]
           },
           "metalness": 0,
           "multipleBond": true,
           "opacity": 1,
           "openEnded": true,
           "quality": "medium",
           "radialSegments": 10,
           "radiusData": {},
           "radiusScale": 1,
           "radiusSize": 0.25,
           "radiusType": "size",
           "roughness": 0.4,
           "sele": "*",
           "side": "double",
           "sphereDetail": 1,
           "useInteriorColor": true,
           "visible": true,
           "wireframe": false
          },
          "type": "licorice"
         }
        }
       },
       "_ngl_serialize": false,
       "_ngl_version": "2.0.0-dev.39",
       "_ngl_view_id": [
        "140D13F9-92D3-46B6-A8D4-6373E4E6A1AB"
       ],
       "_player_dict": {},
       "_scene_position": {},
       "_scene_rotation": {},
       "_synced_model_ids": [],
       "_synced_repr_model_ids": [],
       "_view_height": "",
       "_view_width": "",
       "background": "white",
       "frame": 0,
       "gui_style": null,
       "layout": "IPY_MODEL_de1a1c50612e474c81a4b61c857f22a7",
       "max_frame": 0,
       "n_components": 1,
       "picked": {}
      }
     },
     "ed660f82c2d042f894a58d228202913a": {
      "model_module": "@jupyter-widgets/controls",
      "model_module_version": "2.0.0",
      "model_name": "HBoxModel",
      "state": {
       "children": [
        "IPY_MODEL_2d61c1dd01514f7bb2e79f692508e5fa",
        "IPY_MODEL_44b1328b3d744418b4e9cc8686024e0c"
       ],
       "layout": "IPY_MODEL_13ad7cee959e42be96afdab866a3a2bf"
      }
     },
     "edaf96f7672040059e52b8b654966b81": {
      "model_module": "@jupyter-widgets/controls",
      "model_module_version": "2.0.0",
      "model_name": "ButtonStyleModel",
      "state": {
       "font_family": null,
       "font_size": null,
       "font_style": null,
       "font_variant": null,
       "font_weight": null,
       "text_color": null,
       "text_decoration": null
      }
     },
     "ee8532b03ee64e70b18167882c8bf4c7": {
      "model_module": "@jupyter-widgets/controls",
      "model_module_version": "2.0.0",
      "model_name": "IntSliderModel",
      "state": {
       "behavior": "drag-tap",
       "layout": "IPY_MODEL_378f0aaaa0dd4defbf083c66d99ab856",
       "max": 0,
       "style": "IPY_MODEL_e156f9bacb7d460c9322db65de4716ee"
      }
     },
     "f09ceca64f4a41e5b53dbb848a74d0de": {
      "model_module": "@jupyter-widgets/controls",
      "model_module_version": "2.0.0",
      "model_name": "ImageModel",
      "state": {
       "layout": "IPY_MODEL_9ee7be8712624b16a60380b7e253766c",
       "width": "900.0"
      }
     },
     "f16f3057896746bb824814b7921233be": {
      "model_module": "@jupyter-widgets/controls",
      "model_module_version": "2.0.0",
      "model_name": "ImageModel",
      "state": {
       "layout": "IPY_MODEL_6926948da8de416db888cc38f95b46a5",
       "width": "900.0"
      }
     },
     "f2d25f4aad3e42f08df36d7a65e76d86": {
      "model_module": "nglview-js-widgets",
      "model_module_version": "3.0.8",
      "model_name": "NGLModel",
      "state": {
       "_camera_orientation": [],
       "_camera_str": "orthographic",
       "_gui_theme": null,
       "_ibtn_fullscreen": null,
       "_igui": null,
       "_iplayer": null,
       "_ngl_color_dict": {},
       "_ngl_coordinate_resource": {},
       "_ngl_full_stage_parameters": {},
       "_ngl_msg_archive": [],
       "_ngl_original_stage_parameters": {},
       "_ngl_repr_dict": {},
       "_ngl_serialize": false,
       "_ngl_version": "",
       "_ngl_view_id": [],
       "_player_dict": {},
       "_scene_position": {},
       "_scene_rotation": {},
       "_synced_model_ids": [],
       "_synced_repr_model_ids": [],
       "_view_height": "",
       "_view_width": "",
       "background": "white",
       "frame": 0,
       "gui_style": null,
       "layout": "IPY_MODEL_0545412306a746da96b06624fceb57b1",
       "max_frame": 0,
       "n_components": 0,
       "picked": {}
      }
     },
     "f394c0e92a5a401db56b62380faeba01": {
      "model_module": "@jupyter-widgets/controls",
      "model_module_version": "2.0.0",
      "model_name": "IntSliderModel",
      "state": {
       "behavior": "drag-tap",
       "layout": "IPY_MODEL_0f4692ca8568468cbad6adbe75616fa1",
       "max": 0,
       "style": "IPY_MODEL_1c76c5dc25df41e8a57b5cef4a71394d"
      }
     },
     "f4a34dbdcb4444988c8b7d82690bce51": {
      "model_module": "@jupyter-widgets/controls",
      "model_module_version": "2.0.0",
      "model_name": "LinkModel",
      "state": {
       "source": [
        "IPY_MODEL_aa849640df74464b919bf690b6ea0573",
        "max"
       ],
       "target": [
        "IPY_MODEL_eabf4d170add49079bf668d772449d39",
        "max_frame"
       ]
      }
     },
     "f538890a8907446d90f2dc74f0d081e5": {
      "model_module": "@jupyter-widgets/controls",
      "model_module_version": "2.0.0",
      "model_name": "LinkModel",
      "state": {
       "source": [
        "IPY_MODEL_1dfdae6177bd4065891dc35d08606099",
        "max"
       ],
       "target": [
        "IPY_MODEL_4351754e105545bcacc31018a3d1eb28",
        "max_frame"
       ]
      }
     },
     "f5937076177841dea856f77a77ecf9b0": {
      "model_module": "@jupyter-widgets/controls",
      "model_module_version": "2.0.0",
      "model_name": "ImageModel",
      "state": {
       "layout": "IPY_MODEL_2906b919f7aa4fd1802ba8f1747a178a",
       "width": "900.0"
      }
     },
     "f59c2cdd855142fd8f1eef4458ba6f15": {
      "model_module": "@jupyter-widgets/base",
      "model_module_version": "2.0.0",
      "model_name": "LayoutModel",
      "state": {}
     },
     "f5a0eda4296648fb884d2258cf7c05b2": {
      "model_module": "@jupyter-widgets/controls",
      "model_module_version": "2.0.0",
      "model_name": "LinkModel",
      "state": {
       "source": [
        "IPY_MODEL_718699ecaa424971b75e3f0048019822",
        "max"
       ],
       "target": [
        "IPY_MODEL_f78a12771b2e4b3a95449634551ef313",
        "max_frame"
       ]
      }
     },
     "f5c0b9b0e7214e28bc8fc32d4b5449d5": {
      "model_module": "@jupyter-widgets/base",
      "model_module_version": "2.0.0",
      "model_name": "LayoutModel",
      "state": {
       "width": "34px"
      }
     },
     "f65e47ec2a554bf4b9d9ff14315f13fb": {
      "model_module": "@jupyter-widgets/controls",
      "model_module_version": "2.0.0",
      "model_name": "LinkModel",
      "state": {
       "source": [
        "IPY_MODEL_0f76d19501c34bb7b27bfa3e662bb92c",
        "value"
       ],
       "target": [
        "IPY_MODEL_aa849640df74464b919bf690b6ea0573",
        "value"
       ]
      }
     },
     "f78a12771b2e4b3a95449634551ef313": {
      "model_module": "nglview-js-widgets",
      "model_module_version": "3.0.8",
      "model_name": "NGLModel",
      "state": {
       "_camera_orientation": [
        29.15529643279418,
        2.079498363882207,
        -8.720495177797778,
        0,
        -3.4729438738465555,
        29.973618132120965,
        -4.463578899760033,
        0,
        8.26498701998345,
        5.2593309745520544,
        28.886538161141925,
        0,
        4.011000156402588,
        -0.6494998931884766,
        0,
        1
       ],
       "_camera_str": "orthographic",
       "_gui_theme": null,
       "_ibtn_fullscreen": "IPY_MODEL_ae7ae624d48b4a56a56a3f10e92d0584",
       "_igui": null,
       "_iplayer": "IPY_MODEL_5e9511a38d164ca28bd64ec771cbbb56",
       "_ngl_color_dict": {},
       "_ngl_coordinate_resource": {},
       "_ngl_full_stage_parameters": {
        "ambientColor": 14540253,
        "ambientIntensity": 0.2,
        "backgroundColor": "white",
        "cameraEyeSep": 0.3,
        "cameraFov": 40,
        "cameraType": "perspective",
        "clipDist": 10,
        "clipFar": 100,
        "clipMode": "scene",
        "clipNear": 0,
        "clipScale": "relative",
        "fogFar": 100,
        "fogNear": 50,
        "hoverTimeout": 0,
        "impostor": true,
        "lightColor": 14540253,
        "lightIntensity": 1,
        "mousePreset": "default",
        "panSpeed": 1,
        "quality": "medium",
        "rotateSpeed": 2,
        "sampleLevel": 0,
        "tooltip": true,
        "workerDefault": true,
        "zoomSpeed": 1.2
       },
       "_ngl_msg_archive": [
        {
         "args": [
          {
           "binary": false,
           "data": "HETATM    1  C1  UNL     1      -8.382   1.214   0.000  1.00  0.00           C  \nHETATM    2  O1  UNL     1       0.000   0.000   0.000  1.00  0.00           O  \nHETATM    3  C2  UNL     1      -9.808   0.750   0.000  1.00  0.00           C  \nHETATM    4  H1  UNL     1       0.000   0.000   0.000  1.00  0.00           H  \nHETATM    5  H2  UNL     1     -11.022   1.632   0.000  1.00  0.00           H  \nHETATM    6  C3  UNL     1      -9.808  -0.750   0.000  1.00  0.00           C  \nHETATM    7  H3  UNL     1       0.000   0.000   0.000  1.00  0.00           H  \nHETATM    8  H4  UNL     1     -11.022  -1.632   0.000  1.00  0.00           H  \nHETATM    9  C4  UNL     1      -8.382  -1.214   0.000  1.00  0.00           C  \nHETATM   10  O2  UNL     1       0.000   0.000   0.000  1.00  0.00           O  \nHETATM   11  N1  UNL     1      -7.500  -0.000   0.000  1.00  0.00           N  \nHETATM   12  C5  UNL     1      -6.000  -0.000   0.000  1.00  0.00           C  \nHETATM   13  C6  UNL     1      -5.250   1.299   0.000  1.00  0.00           C  \nHETATM   14  C7  UNL     1      -5.250  -1.299   0.000  1.00  0.00           C  \nHETATM   15  H5  UNL     1      -6.000   2.598   0.000  1.00  0.00           H  \nHETATM   16  C8  UNL     1      -3.750   1.299   0.000  1.00  0.00           C  \nHETATM   17  C9  UNL     1      -3.750  -1.299   0.000  1.00  0.00           C  \nHETATM   18  H6  UNL     1      -6.000  -2.598   0.000  1.00  0.00           H  \nHETATM   19  H7  UNL     1      -3.365   2.205   0.000  1.00  0.00           H  \nHETATM   20  C10 UNL     1      -3.000   0.000   0.000  1.00  0.00           C  \nHETATM   21  C11 UNL     1      -3.000  -2.598   0.000  1.00  0.00           C  \nHETATM   22  C12 UNL     1      -1.500   0.000   0.000  1.00  0.00           C  \nHETATM   23  O3  UNL     1      -3.750  -3.897   0.000  1.00  0.00           O  \nHETATM   24  O4  UNL     1      -1.545  -2.961   0.000  1.00  0.00           O1-\nHETATM   25  C13 UNL     1      -0.750  -1.299   0.000  1.00  0.00           C  \nHETATM   26  C14 UNL     1      -0.750   1.299   0.000  1.00  0.00           C  \nHETATM   27  C15 UNL     1      -1.500  -2.598   0.000  1.00  0.00           C  \nHETATM   28  C16 UNL     1       0.750  -1.299   0.000  1.00  0.00           C  \nHETATM   29  C17 UNL     1      -1.500   2.598   0.000  1.00  0.00           C  \nHETATM   30  C18 UNL     1       0.750   1.299   0.000  1.00  0.00           C  \nHETATM   31  H8  UNL     1      -2.273  -2.791   0.000  1.00  0.00           H  \nHETATM   32  C19 UNL     1      -0.750  -3.897   0.000  1.00  0.00           C  \nHETATM   33  C20 UNL     1       1.500  -2.598   0.000  1.00  0.00           C  \nHETATM   34  O5  UNL     1       1.500   0.000   0.000  1.00  0.00           O  \nHETATM   35  C21 UNL     1      -0.750   3.897   0.000  1.00  0.00           C  \nHETATM   36  H9  UNL     1      -2.477   2.718   0.000  1.00  0.00           H  \nHETATM   37  C22 UNL     1       1.500   2.598   0.000  1.00  0.00           C  \nHETATM   38  H10 UNL     1      -1.500  -5.196   0.000  1.00  0.00           H  \nHETATM   39  C23 UNL     1       0.750  -3.897   0.000  1.00  0.00           C  \nHETATM   40  H11 UNL     1       3.000  -2.598   0.000  1.00  0.00           H  \nHETATM   41  C24 UNL     1       0.750   3.897   0.000  1.00  0.00           C  \nHETATM   42  H12 UNL     1      -1.500   5.196   0.000  1.00  0.00           H  \nHETATM   43  H13 UNL     1       3.000   2.598   0.000  1.00  0.00           H  \nHETATM   44  O6  UNL     1       1.500  -5.196   0.000  1.00  0.00           O  \nHETATM   45  O7  UNL     1       1.500   5.196   0.000  1.00  0.00           O  \nHETATM   46  H14 UNL     1       0.750   6.495   0.000  1.00  0.00           H  \nCONECT    1    2    2    3   11\nCONECT    3    4    5    6\nCONECT    6    7    8    9\nCONECT    9   10   10   11\nCONECT   11   12\nCONECT   12   13   13   14\nCONECT   13   15   16\nCONECT   14   17   17   18\nCONECT   16   19   20   20\nCONECT   17   20   21\nCONECT   20   22\nCONECT   21   23   23   24\nCONECT   22   25   25   26\nCONECT   25   27   28\nCONECT   26   29   30   30\nCONECT   27   31   32   32\nCONECT   28   33   33   34\nCONECT   29   35   35   36\nCONECT   30   34   37\nCONECT   32   38   39\nCONECT   33   39   40\nCONECT   35   41   42\nCONECT   37   41   41   43\nCONECT   39   44   44\nCONECT   41   45\nCONECT   45   46\nEND\n",
           "type": "blob"
          }
         ],
         "kwargs": {
          "defaultRepresentation": true,
          "ext": "pdb",
          "name": "<openff.toolkit.utils._viz.MoleculeNGLViewTrajectory object at 0x12cdc9fd0>"
         },
         "methodName": "loadFile",
         "reconstruc_color_scheme": false,
         "target": "Stage",
         "type": "call_method"
        },
        {
         "args": [],
         "component_index": 0,
         "kwargs": {},
         "methodName": "removeAllRepresentations",
         "reconstruc_color_scheme": false,
         "target": "compList",
         "type": "call_method"
        },
        {
         "args": [
          "licorice"
         ],
         "component_index": 0,
         "kwargs": {
          "multipleBond": true,
          "radius": 0.25,
          "sele": "*"
         },
         "methodName": "addRepresentation",
         "reconstruc_color_scheme": false,
         "target": "compList",
         "type": "call_method"
        }
       ],
       "_ngl_original_stage_parameters": {
        "ambientColor": 14540253,
        "ambientIntensity": 0.2,
        "backgroundColor": "white",
        "cameraEyeSep": 0.3,
        "cameraFov": 40,
        "cameraType": "perspective",
        "clipDist": 10,
        "clipFar": 100,
        "clipMode": "scene",
        "clipNear": 0,
        "clipScale": "relative",
        "fogFar": 100,
        "fogNear": 50,
        "hoverTimeout": 0,
        "impostor": true,
        "lightColor": 14540253,
        "lightIntensity": 1,
        "mousePreset": "default",
        "panSpeed": 1,
        "quality": "medium",
        "rotateSpeed": 2,
        "sampleLevel": 0,
        "tooltip": true,
        "workerDefault": true,
        "zoomSpeed": 1.2
       },
       "_ngl_repr_dict": {
        "0": {
         "0": {
          "params": {
           "assembly": "default",
           "bondScale": 0.4,
           "bondSpacing": 1,
           "clipCenter": {
            "x": 0,
            "y": 0,
            "z": 0
           },
           "clipNear": 0,
           "clipRadius": 0,
           "colorMode": "hcl",
           "colorReverse": false,
           "colorScale": "",
           "colorScheme": "element",
           "colorValue": 9474192,
           "cylinderOnly": false,
           "defaultAssembly": "",
           "depthWrite": true,
           "diffuse": 16777215,
           "diffuseInterior": false,
           "disableImpostor": false,
           "disablePicking": false,
           "flatShaded": false,
           "interiorColor": 2236962,
           "interiorDarkening": 0,
           "lazy": false,
           "lineOnly": false,
           "linewidth": 2,
           "matrix": {
            "elements": [
             1,
             0,
             0,
             0,
             0,
             1,
             0,
             0,
             0,
             0,
             1,
             0,
             0,
             0,
             0,
             1
            ]
           },
           "metalness": 0,
           "multipleBond": true,
           "opacity": 1,
           "openEnded": true,
           "quality": "medium",
           "radialSegments": 10,
           "radiusData": {},
           "radiusScale": 1,
           "radiusSize": 0.25,
           "radiusType": "size",
           "roughness": 0.4,
           "sele": "*",
           "side": "double",
           "sphereDetail": 1,
           "useInteriorColor": true,
           "visible": true,
           "wireframe": false
          },
          "type": "licorice"
         }
        }
       },
       "_ngl_serialize": false,
       "_ngl_version": "2.0.0-dev.39",
       "_ngl_view_id": [
        "6A4591D8-4133-4F7D-A3A2-E2A813E798A0"
       ],
       "_player_dict": {},
       "_scene_position": {},
       "_scene_rotation": {},
       "_synced_model_ids": [],
       "_synced_repr_model_ids": [],
       "_view_height": "",
       "_view_width": "",
       "background": "white",
       "frame": 0,
       "gui_style": null,
       "layout": "IPY_MODEL_30c5db01cbe0404a86fc0dfae7fb81a5",
       "max_frame": 0,
       "n_components": 1,
       "picked": {}
      }
     },
     "f9e6356205a540d78cd7baf2421c2ff2": {
      "model_module": "@jupyter-widgets/base",
      "model_module_version": "2.0.0",
      "model_name": "LayoutModel",
      "state": {}
     },
     "f9ef54292a5744f4a2f1086396d999e3": {
      "model_module": "@jupyter-widgets/base",
      "model_module_version": "2.0.0",
      "model_name": "LayoutModel",
      "state": {}
     },
     "fd21debd8ca549afa5bf37375d4b0d02": {
      "model_module": "@jupyter-widgets/base",
      "model_module_version": "2.0.0",
      "model_name": "LayoutModel",
      "state": {}
     }
    },
    "version_major": 2,
    "version_minor": 0
   }
  }
 },
 "nbformat": 4,
 "nbformat_minor": 5
}
