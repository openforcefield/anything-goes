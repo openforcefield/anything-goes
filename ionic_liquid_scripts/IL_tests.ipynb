{
 "cells": [
  {
   "cell_type": "code",
   "execution_count": 24,
   "id": "3b1b0c15-50b0-4fca-8a8a-f181c4552f05",
   "metadata": {},
   "outputs": [],
   "source": [
    "from openff.toolkit import Molecule, Topology, ForceField\n",
    "from openff.interchange import Interchange\n",
    "from openff.units import unit, Quantity\n",
    "from openff.toolkit.utils.toolkits import NAGLToolkitWrapper\n",
    "import numpy as np\n",
    "from openff.interchange.components._packmol import pack_box"
   ]
  },
  {
   "cell_type": "code",
   "execution_count": 25,
   "id": "a40e8d0f-09d1-4ee4-b249-b2bb46a7baba",
   "metadata": {},
   "outputs": [],
   "source": [
    "anion_smiles = 'C(F)(F)(F)S(=O)(=O)[N-]S(=O)(=O)C(F)(F)F'\n",
    "cation_smiles = ['CCCn1cc[n+](C)c1','CCCCn1cc[n+](C)c1',\n",
    "                 'CCCCCn1cc[n+](C)c1','CCCCCCn1cc[n+](C)c1','CCCCCCCn1cc[n+](C)c1',\n",
    "                 'CC(C)n1cc[n+](C)c1','CC(C)Cn1cc[n+](C)c1','CC(C)CCn1cc[n+](C)c1',\n",
    "                  'CC(C)CCCn1cc[n+](C)c1','CC(C)CCCCn1cc[n+](C)c1']"
   ]
  },
  {
   "cell_type": "code",
   "execution_count": 26,
   "id": "13ad46a8-2a70-433e-a4bf-e43fce4d41ae",
   "metadata": {},
   "outputs": [
    {
     "data": {
      "image/svg+xml": [
       "<svg xmlns=\"http://www.w3.org/2000/svg\" xmlns:rdkit=\"http://www.rdkit.org/xml\" xmlns:xlink=\"http://www.w3.org/1999/xlink\" version=\"1.1\" baseProfile=\"full\" xml:space=\"preserve\" width=\"500px\" height=\"300px\" viewBox=\"0 0 500 300\">\n",
       "<!-- END OF HEADER -->\n",
       "<rect style=\"opacity:1.0;fill:#FFFFFF;stroke:none\" width=\"500.0\" height=\"300.0\" x=\"0.0\" y=\"0.0\"> </rect>\n",
       "<path class=\"bond-0 atom-0 atom-1\" d=\"M 363.5,217.0 L 352.3,236.6\" style=\"fill:none;fill-rule:evenodd;stroke:#000000;stroke-width:2.0px;stroke-linecap:butt;stroke-linejoin:miter;stroke-opacity:1\"/>\n",
       "<path class=\"bond-0 atom-0 atom-1\" d=\"M 352.3,236.6 L 341.0,256.2\" style=\"fill:none;fill-rule:evenodd;stroke:#33CCCC;stroke-width:2.0px;stroke-linecap:butt;stroke-linejoin:miter;stroke-opacity:1\"/>\n",
       "<path class=\"bond-1 atom-0 atom-2\" d=\"M 363.5,217.0 L 374.8,236.5\" style=\"fill:none;fill-rule:evenodd;stroke:#000000;stroke-width:2.0px;stroke-linecap:butt;stroke-linejoin:miter;stroke-opacity:1\"/>\n",
       "<path class=\"bond-1 atom-0 atom-2\" d=\"M 374.8,236.5 L 386.2,256.0\" style=\"fill:none;fill-rule:evenodd;stroke:#33CCCC;stroke-width:2.0px;stroke-linecap:butt;stroke-linejoin:miter;stroke-opacity:1\"/>\n",
       "<path class=\"bond-2 atom-0 atom-3\" d=\"M 363.5,217.0 L 385.8,204.1\" style=\"fill:none;fill-rule:evenodd;stroke:#000000;stroke-width:2.0px;stroke-linecap:butt;stroke-linejoin:miter;stroke-opacity:1\"/>\n",
       "<path class=\"bond-2 atom-0 atom-3\" d=\"M 385.8,204.1 L 408.0,191.2\" style=\"fill:none;fill-rule:evenodd;stroke:#33CCCC;stroke-width:2.0px;stroke-linecap:butt;stroke-linejoin:miter;stroke-opacity:1\"/>\n",
       "<path class=\"bond-3 atom-0 atom-4\" d=\"M 363.5,217.0 L 341.5,204.3\" style=\"fill:none;fill-rule:evenodd;stroke:#000000;stroke-width:2.0px;stroke-linecap:butt;stroke-linejoin:miter;stroke-opacity:1\"/>\n",
       "<path class=\"bond-3 atom-0 atom-4\" d=\"M 341.5,204.3 L 319.6,191.7\" style=\"fill:none;fill-rule:evenodd;stroke:#CCCC00;stroke-width:2.0px;stroke-linecap:butt;stroke-linejoin:miter;stroke-opacity:1\"/>\n",
       "<path class=\"bond-4 atom-4 atom-5\" d=\"M 295.5,199.4 L 288.9,210.8\" style=\"fill:none;fill-rule:evenodd;stroke:#CCCC00;stroke-width:2.0px;stroke-linecap:butt;stroke-linejoin:miter;stroke-opacity:1\"/>\n",
       "<path class=\"bond-4 atom-4 atom-5\" d=\"M 288.9,210.8 L 282.4,222.2\" style=\"fill:none;fill-rule:evenodd;stroke:#FF0000;stroke-width:2.0px;stroke-linecap:butt;stroke-linejoin:miter;stroke-opacity:1\"/>\n",
       "<path class=\"bond-4 atom-4 atom-5\" d=\"M 303.7,204.1 L 297.1,215.5\" style=\"fill:none;fill-rule:evenodd;stroke:#CCCC00;stroke-width:2.0px;stroke-linecap:butt;stroke-linejoin:miter;stroke-opacity:1\"/>\n",
       "<path class=\"bond-4 atom-4 atom-5\" d=\"M 297.1,215.5 L 290.6,227.0\" style=\"fill:none;fill-rule:evenodd;stroke:#FF0000;stroke-width:2.0px;stroke-linecap:butt;stroke-linejoin:miter;stroke-opacity:1\"/>\n",
       "<path class=\"bond-5 atom-4 atom-6\" d=\"M 321.9,172.5 L 328.5,160.9\" style=\"fill:none;fill-rule:evenodd;stroke:#CCCC00;stroke-width:2.0px;stroke-linecap:butt;stroke-linejoin:miter;stroke-opacity:1\"/>\n",
       "<path class=\"bond-5 atom-4 atom-6\" d=\"M 328.5,160.9 L 335.2,149.3\" style=\"fill:none;fill-rule:evenodd;stroke:#FF0000;stroke-width:2.0px;stroke-linecap:butt;stroke-linejoin:miter;stroke-opacity:1\"/>\n",
       "<path class=\"bond-5 atom-4 atom-6\" d=\"M 313.7,167.8 L 320.3,156.2\" style=\"fill:none;fill-rule:evenodd;stroke:#CCCC00;stroke-width:2.0px;stroke-linecap:butt;stroke-linejoin:miter;stroke-opacity:1\"/>\n",
       "<path class=\"bond-5 atom-4 atom-6\" d=\"M 320.3,156.2 L 327.0,144.6\" style=\"fill:none;fill-rule:evenodd;stroke:#FF0000;stroke-width:2.0px;stroke-linecap:butt;stroke-linejoin:miter;stroke-opacity:1\"/>\n",
       "<path class=\"bond-6 atom-4 atom-7\" d=\"M 298.2,179.5 L 282.4,170.3\" style=\"fill:none;fill-rule:evenodd;stroke:#CCCC00;stroke-width:2.0px;stroke-linecap:butt;stroke-linejoin:miter;stroke-opacity:1\"/>\n",
       "<path class=\"bond-6 atom-4 atom-7\" d=\"M 282.4,170.3 L 266.5,161.2\" style=\"fill:none;fill-rule:evenodd;stroke:#0000FF;stroke-width:2.0px;stroke-linecap:butt;stroke-linejoin:miter;stroke-opacity:1\"/>\n",
       "<path class=\"bond-7 atom-7 atom-8\" d=\"M 242.0,147.2 L 226.2,138.0\" style=\"fill:none;fill-rule:evenodd;stroke:#0000FF;stroke-width:2.0px;stroke-linecap:butt;stroke-linejoin:miter;stroke-opacity:1\"/>\n",
       "<path class=\"bond-7 atom-7 atom-8\" d=\"M 226.2,138.0 L 210.3,128.9\" style=\"fill:none;fill-rule:evenodd;stroke:#CCCC00;stroke-width:2.0px;stroke-linecap:butt;stroke-linejoin:miter;stroke-opacity:1\"/>\n",
       "<path class=\"bond-8 atom-8 atom-9\" d=\"M 212.6,109.7 L 219.2,98.1\" style=\"fill:none;fill-rule:evenodd;stroke:#CCCC00;stroke-width:2.0px;stroke-linecap:butt;stroke-linejoin:miter;stroke-opacity:1\"/>\n",
       "<path class=\"bond-8 atom-8 atom-9\" d=\"M 219.2,98.1 L 225.9,86.5\" style=\"fill:none;fill-rule:evenodd;stroke:#FF0000;stroke-width:2.0px;stroke-linecap:butt;stroke-linejoin:miter;stroke-opacity:1\"/>\n",
       "<path class=\"bond-8 atom-8 atom-9\" d=\"M 204.4,105.0 L 211.0,93.4\" style=\"fill:none;fill-rule:evenodd;stroke:#CCCC00;stroke-width:2.0px;stroke-linecap:butt;stroke-linejoin:miter;stroke-opacity:1\"/>\n",
       "<path class=\"bond-8 atom-8 atom-9\" d=\"M 211.0,93.4 L 217.7,81.8\" style=\"fill:none;fill-rule:evenodd;stroke:#FF0000;stroke-width:2.0px;stroke-linecap:butt;stroke-linejoin:miter;stroke-opacity:1\"/>\n",
       "<path class=\"bond-9 atom-8 atom-10\" d=\"M 186.2,136.6 L 179.7,148.0\" style=\"fill:none;fill-rule:evenodd;stroke:#CCCC00;stroke-width:2.0px;stroke-linecap:butt;stroke-linejoin:miter;stroke-opacity:1\"/>\n",
       "<path class=\"bond-9 atom-8 atom-10\" d=\"M 179.7,148.0 L 173.1,159.5\" style=\"fill:none;fill-rule:evenodd;stroke:#FF0000;stroke-width:2.0px;stroke-linecap:butt;stroke-linejoin:miter;stroke-opacity:1\"/>\n",
       "<path class=\"bond-9 atom-8 atom-10\" d=\"M 194.4,141.3 L 187.9,152.7\" style=\"fill:none;fill-rule:evenodd;stroke:#CCCC00;stroke-width:2.0px;stroke-linecap:butt;stroke-linejoin:miter;stroke-opacity:1\"/>\n",
       "<path class=\"bond-9 atom-8 atom-10\" d=\"M 187.9,152.7 L 181.3,164.2\" style=\"fill:none;fill-rule:evenodd;stroke:#FF0000;stroke-width:2.0px;stroke-linecap:butt;stroke-linejoin:miter;stroke-opacity:1\"/>\n",
       "<path class=\"bond-10 atom-8 atom-11\" d=\"M 189.0,116.7 L 167.0,104.0\" style=\"fill:none;fill-rule:evenodd;stroke:#CCCC00;stroke-width:2.0px;stroke-linecap:butt;stroke-linejoin:miter;stroke-opacity:1\"/>\n",
       "<path class=\"bond-10 atom-8 atom-11\" d=\"M 167.0,104.0 L 145.0,91.4\" style=\"fill:none;fill-rule:evenodd;stroke:#000000;stroke-width:2.0px;stroke-linecap:butt;stroke-linejoin:miter;stroke-opacity:1\"/>\n",
       "<path class=\"bond-11 atom-11 atom-12\" d=\"M 145.0,91.4 L 133.7,111.0\" style=\"fill:none;fill-rule:evenodd;stroke:#000000;stroke-width:2.0px;stroke-linecap:butt;stroke-linejoin:miter;stroke-opacity:1\"/>\n",
       "<path class=\"bond-11 atom-11 atom-12\" d=\"M 133.7,111.0 L 122.5,130.6\" style=\"fill:none;fill-rule:evenodd;stroke:#33CCCC;stroke-width:2.0px;stroke-linecap:butt;stroke-linejoin:miter;stroke-opacity:1\"/>\n",
       "<path class=\"bond-12 atom-11 atom-13\" d=\"M 145.0,91.4 L 118.5,91.4\" style=\"fill:none;fill-rule:evenodd;stroke:#000000;stroke-width:2.0px;stroke-linecap:butt;stroke-linejoin:miter;stroke-opacity:1\"/>\n",
       "<path class=\"bond-12 atom-11 atom-13\" d=\"M 118.5,91.4 L 92.0,91.5\" style=\"fill:none;fill-rule:evenodd;stroke:#33CCCC;stroke-width:2.0px;stroke-linecap:butt;stroke-linejoin:miter;stroke-opacity:1\"/>\n",
       "<path class=\"bond-13 atom-11 atom-14\" d=\"M 145.0,91.4 L 144.9,67.6\" style=\"fill:none;fill-rule:evenodd;stroke:#000000;stroke-width:2.0px;stroke-linecap:butt;stroke-linejoin:miter;stroke-opacity:1\"/>\n",
       "<path class=\"bond-13 atom-11 atom-14\" d=\"M 144.9,67.6 L 144.9,43.8\" style=\"fill:none;fill-rule:evenodd;stroke:#33CCCC;stroke-width:2.0px;stroke-linecap:butt;stroke-linejoin:miter;stroke-opacity:1\"/>\n",
       "<path class=\"atom-1\" d=\"M 324.2 258.2 L 340.1 258.2 L 340.1 261.3 L 327.8 261.3 L 327.8 269.4 L 338.7 269.4 L 338.7 272.5 L 327.8 272.5 L 327.8 285.0 L 324.2 285.0 L 324.2 258.2 \" fill=\"#33CCCC\"/>\n",
       "<path class=\"atom-2\" d=\"M 387.2 258.1 L 403.1 258.1 L 403.1 261.2 L 390.8 261.2 L 390.8 269.3 L 401.7 269.3 L 401.7 272.4 L 390.8 272.4 L 390.8 284.9 L 387.2 284.9 L 387.2 258.1 \" fill=\"#33CCCC\"/>\n",
       "<path class=\"atom-3\" d=\"M 410.1 172.0 L 426.0 172.0 L 426.0 175.0 L 413.7 175.0 L 413.7 183.2 L 424.6 183.2 L 424.6 186.3 L 413.7 186.3 L 413.7 198.8 L 410.1 198.8 L 410.1 172.0 \" fill=\"#33CCCC\"/>\n",
       "<path class=\"atom-4\" d=\"M 301.3 194.8 Q 301.6 194.9, 302.9 195.4 Q 304.1 195.9, 305.5 196.3 Q 306.9 196.6, 308.2 196.6 Q 310.8 196.6, 312.3 195.4 Q 313.7 194.1, 313.7 192.0 Q 313.7 190.5, 313.0 189.6 Q 312.3 188.7, 311.1 188.2 Q 310.0 187.7, 308.1 187.1 Q 305.7 186.4, 304.3 185.7 Q 302.9 185.1, 301.9 183.6 Q 300.9 182.2, 300.9 179.8 Q 300.9 176.4, 303.1 174.3 Q 305.4 172.2, 310.0 172.2 Q 313.1 172.2, 316.6 173.7 L 315.7 176.6 Q 312.5 175.3, 310.1 175.3 Q 307.5 175.3, 306.1 176.4 Q 304.6 177.5, 304.7 179.3 Q 304.7 180.7, 305.4 181.6 Q 306.1 182.5, 307.2 183.0 Q 308.3 183.5, 310.1 184.0 Q 312.5 184.8, 314.0 185.5 Q 315.4 186.3, 316.4 187.9 Q 317.5 189.4, 317.5 192.0 Q 317.5 195.7, 315.0 197.7 Q 312.5 199.6, 308.4 199.6 Q 306.0 199.6, 304.2 199.1 Q 302.4 198.6, 300.3 197.8 L 301.3 194.8 \" fill=\"#CCCC00\"/>\n",
       "<path class=\"atom-5\" d=\"M 265.2 240.3 Q 265.2 233.9, 268.4 230.3 Q 271.5 226.7, 277.5 226.7 Q 283.4 226.7, 286.6 230.3 Q 289.8 233.9, 289.8 240.3 Q 289.8 246.8, 286.6 250.5 Q 283.3 254.2, 277.5 254.2 Q 271.6 254.2, 268.4 250.5 Q 265.2 246.8, 265.2 240.3 M 277.5 251.1 Q 281.6 251.1, 283.8 248.4 Q 286.0 245.7, 286.0 240.3 Q 286.0 235.0, 283.8 232.4 Q 281.6 229.7, 277.5 229.7 Q 273.4 229.7, 271.2 232.3 Q 269.0 235.0, 269.0 240.3 Q 269.0 245.7, 271.2 248.4 Q 273.4 251.1, 277.5 251.1 \" fill=\"#FF0000\"/>\n",
       "<path class=\"atom-6\" d=\"M 328.0 131.0 Q 328.0 124.6, 331.2 121.0 Q 334.3 117.4, 340.3 117.4 Q 346.2 117.4, 349.4 121.0 Q 352.6 124.6, 352.6 131.0 Q 352.6 137.5, 349.4 141.2 Q 346.1 144.9, 340.3 144.9 Q 334.4 144.9, 331.2 141.2 Q 328.0 137.6, 328.0 131.0 M 340.3 141.9 Q 344.4 141.9, 346.6 139.2 Q 348.8 136.4, 348.8 131.0 Q 348.8 125.8, 346.6 123.1 Q 344.4 120.4, 340.3 120.4 Q 336.2 120.4, 334.0 123.1 Q 331.8 125.7, 331.8 131.0 Q 331.8 136.4, 334.0 139.2 Q 336.2 141.9, 340.3 141.9 \" fill=\"#FF0000\"/>\n",
       "<path class=\"atom-7\" d=\"M 248.3 140.8 L 257.1 155.0 Q 258.0 156.4, 259.4 158.9 Q 260.8 161.4, 260.9 161.6 L 260.9 140.8 L 264.4 140.8 L 264.4 167.6 L 260.7 167.6 L 251.3 152.1 Q 250.2 150.3, 249.1 148.2 Q 247.9 146.1, 247.6 145.5 L 247.6 167.6 L 244.1 167.6 L 244.1 140.8 L 248.3 140.8 \" fill=\"#0000FF\"/>\n",
       "<path class=\"atom-7\" d=\"M 269.3 145.2 L 278.4 145.2 L 278.4 147.2 L 269.3 147.2 L 269.3 145.2 \" fill=\"#0000FF\"/>\n",
       "<path class=\"atom-8\" d=\"M 192.1 132.0 Q 192.4 132.1, 193.6 132.6 Q 194.9 133.2, 196.2 133.5 Q 197.6 133.8, 199.0 133.8 Q 201.5 133.8, 203.0 132.6 Q 204.5 131.3, 204.5 129.2 Q 204.5 127.7, 203.7 126.8 Q 203.0 125.9, 201.8 125.4 Q 200.7 124.9, 198.8 124.3 Q 196.4 123.6, 195.0 122.9 Q 193.6 122.3, 192.6 120.8 Q 191.6 119.4, 191.6 117.0 Q 191.6 113.6, 193.9 111.5 Q 196.2 109.5, 200.7 109.5 Q 203.8 109.5, 207.3 110.9 L 206.5 113.8 Q 203.2 112.5, 200.8 112.5 Q 198.2 112.5, 196.8 113.6 Q 195.3 114.7, 195.4 116.5 Q 195.4 118.0, 196.1 118.8 Q 196.9 119.7, 197.9 120.2 Q 199.0 120.7, 200.8 121.2 Q 203.2 122.0, 204.7 122.8 Q 206.1 123.5, 207.1 125.1 Q 208.2 126.6, 208.2 129.2 Q 208.2 132.9, 205.7 134.9 Q 203.2 136.9, 199.1 136.9 Q 196.7 136.9, 194.9 136.3 Q 193.2 135.8, 191.0 135.0 L 192.1 132.0 \" fill=\"#CCCC00\"/>\n",
       "<path class=\"atom-9\" d=\"M 218.7 68.2 Q 218.7 61.8, 221.9 58.2 Q 225.1 54.6, 231.0 54.6 Q 237.0 54.6, 240.1 58.2 Q 243.3 61.8, 243.3 68.2 Q 243.3 74.7, 240.1 78.4 Q 236.9 82.1, 231.0 82.1 Q 225.1 82.1, 221.9 78.4 Q 218.7 74.8, 218.7 68.2 M 231.0 79.1 Q 235.1 79.1, 237.3 76.4 Q 239.5 73.6, 239.5 68.2 Q 239.5 63.0, 237.3 60.3 Q 235.1 57.6, 231.0 57.6 Q 226.9 57.6, 224.7 60.3 Q 222.5 62.9, 222.5 68.2 Q 222.5 73.6, 224.7 76.4 Q 226.9 79.1, 231.0 79.1 \" fill=\"#FF0000\"/>\n",
       "<path class=\"atom-10\" d=\"M 155.9 177.5 Q 155.9 171.1, 159.1 167.5 Q 162.3 163.9, 168.2 163.9 Q 174.2 163.9, 177.3 167.5 Q 180.5 171.1, 180.5 177.5 Q 180.5 184.0, 177.3 187.7 Q 174.1 191.4, 168.2 191.4 Q 162.3 191.4, 159.1 187.7 Q 155.9 184.0, 155.9 177.5 M 168.2 188.4 Q 172.3 188.4, 174.5 185.6 Q 176.7 182.9, 176.7 177.5 Q 176.7 172.2, 174.5 169.6 Q 172.3 166.9, 168.2 166.9 Q 164.1 166.9, 161.9 169.6 Q 159.7 172.2, 159.7 177.5 Q 159.7 182.9, 161.9 185.6 Q 164.1 188.4, 168.2 188.4 \" fill=\"#FF0000\"/>\n",
       "<path class=\"atom-12\" d=\"M 105.6 132.6 L 121.6 132.6 L 121.6 135.7 L 109.2 135.7 L 109.2 143.8 L 120.2 143.8 L 120.2 146.9 L 109.2 146.9 L 109.2 159.4 L 105.6 159.4 L 105.6 132.6 \" fill=\"#33CCCC\"/>\n",
       "<path class=\"atom-13\" d=\"M 74.0 78.1 L 89.9 78.1 L 89.9 81.2 L 77.6 81.2 L 77.6 89.3 L 88.6 89.3 L 88.6 92.4 L 77.6 92.4 L 77.6 104.9 L 74.0 104.9 L 74.0 78.1 \" fill=\"#33CCCC\"/>\n",
       "<path class=\"atom-14\" d=\"M 136.9 15.0 L 152.8 15.0 L 152.8 18.1 L 140.5 18.1 L 140.5 26.2 L 151.5 26.2 L 151.5 29.3 L 140.5 29.3 L 140.5 41.8 L 136.9 41.8 L 136.9 15.0 \" fill=\"#33CCCC\"/>\n",
       "</svg>"
      ],
      "text/plain": [
       "<IPython.core.display.SVG object>"
      ]
     },
     "execution_count": 26,
     "metadata": {},
     "output_type": "execute_result"
    }
   ],
   "source": [
    "anion = Molecule.from_smiles(anion_smiles)\n",
    "anion.visualize()"
   ]
  },
  {
   "cell_type": "code",
   "execution_count": 27,
   "id": "cd051893-e824-41a9-bbe6-8493d9cb6d62",
   "metadata": {},
   "outputs": [],
   "source": [
    "cations = list()\n",
    "for cat in cation_smiles:\n",
    "    molecule = Molecule.from_smiles(cat)\n",
    "    cations.append(molecule)"
   ]
  },
  {
   "cell_type": "code",
   "execution_count": 28,
   "id": "53365da2-45aa-4385-b6b1-6e6d11a46d94",
   "metadata": {},
   "outputs": [
    {
     "data": {
      "image/svg+xml": [
       "<svg xmlns=\"http://www.w3.org/2000/svg\" xmlns:rdkit=\"http://www.rdkit.org/xml\" xmlns:xlink=\"http://www.w3.org/1999/xlink\" version=\"1.1\" baseProfile=\"full\" xml:space=\"preserve\" width=\"500px\" height=\"300px\" viewBox=\"0 0 500 300\">\n",
       "<!-- END OF HEADER -->\n",
       "<rect style=\"opacity:1.0;fill:#FFFFFF;stroke:none\" width=\"500.0\" height=\"300.0\" x=\"0.0\" y=\"0.0\"> </rect>\n",
       "<path class=\"bond-0 atom-0 atom-1\" d=\"M 426.1,204.3 L 385.9,177.4\" style=\"fill:none;fill-rule:evenodd;stroke:#000000;stroke-width:2.0px;stroke-linecap:butt;stroke-linejoin:miter;stroke-opacity:1\"/>\n",
       "<path class=\"bond-1 atom-1 atom-2\" d=\"M 385.9,177.4 L 411.4,136.4\" style=\"fill:none;fill-rule:evenodd;stroke:#000000;stroke-width:2.0px;stroke-linecap:butt;stroke-linejoin:miter;stroke-opacity:1\"/>\n",
       "<path class=\"bond-2 atom-1 atom-3\" d=\"M 385.9,177.4 L 345.0,154.8\" style=\"fill:none;fill-rule:evenodd;stroke:#000000;stroke-width:2.0px;stroke-linecap:butt;stroke-linejoin:miter;stroke-opacity:1\"/>\n",
       "<path class=\"bond-3 atom-3 atom-4\" d=\"M 345.0,154.8 L 305.3,177.5\" style=\"fill:none;fill-rule:evenodd;stroke:#000000;stroke-width:2.0px;stroke-linecap:butt;stroke-linejoin:miter;stroke-opacity:1\"/>\n",
       "<path class=\"bond-4 atom-4 atom-5\" d=\"M 305.3,177.5 L 265.3,154.6\" style=\"fill:none;fill-rule:evenodd;stroke:#000000;stroke-width:2.0px;stroke-linecap:butt;stroke-linejoin:miter;stroke-opacity:1\"/>\n",
       "<path class=\"bond-5 atom-5 atom-6\" d=\"M 265.3,154.6 L 226.6,176.1\" style=\"fill:none;fill-rule:evenodd;stroke:#000000;stroke-width:2.0px;stroke-linecap:butt;stroke-linejoin:miter;stroke-opacity:1\"/>\n",
       "<path class=\"bond-6 atom-6 atom-7\" d=\"M 226.6,176.1 L 212.8,167.2\" style=\"fill:none;fill-rule:evenodd;stroke:#000000;stroke-width:2.0px;stroke-linecap:butt;stroke-linejoin:miter;stroke-opacity:1\"/>\n",
       "<path class=\"bond-6 atom-6 atom-7\" d=\"M 212.8,167.2 L 198.9,158.4\" style=\"fill:none;fill-rule:evenodd;stroke:#0000FF;stroke-width:2.0px;stroke-linecap:butt;stroke-linejoin:miter;stroke-opacity:1\"/>\n",
       "<path class=\"bond-7 atom-7 atom-8\" d=\"M 189.3,141.7 L 188.0,124.6\" style=\"fill:none;fill-rule:evenodd;stroke:#0000FF;stroke-width:2.0px;stroke-linecap:butt;stroke-linejoin:miter;stroke-opacity:1\"/>\n",
       "<path class=\"bond-7 atom-7 atom-8\" d=\"M 188.0,124.6 L 186.7,107.6\" style=\"fill:none;fill-rule:evenodd;stroke:#000000;stroke-width:2.0px;stroke-linecap:butt;stroke-linejoin:miter;stroke-opacity:1\"/>\n",
       "<path class=\"bond-8 atom-8 atom-9\" d=\"M 186.7,107.6 L 142.5,96.9\" style=\"fill:none;fill-rule:evenodd;stroke:#000000;stroke-width:2.0px;stroke-linecap:butt;stroke-linejoin:miter;stroke-opacity:1\"/>\n",
       "<path class=\"bond-8 atom-8 atom-9\" d=\"M 180.3,113.0 L 145.7,104.6\" style=\"fill:none;fill-rule:evenodd;stroke:#000000;stroke-width:2.0px;stroke-linecap:butt;stroke-linejoin:miter;stroke-opacity:1\"/>\n",
       "<path class=\"bond-9 atom-9 atom-10\" d=\"M 142.5,96.9 L 134.1,110.7\" style=\"fill:none;fill-rule:evenodd;stroke:#000000;stroke-width:2.0px;stroke-linecap:butt;stroke-linejoin:miter;stroke-opacity:1\"/>\n",
       "<path class=\"bond-9 atom-9 atom-10\" d=\"M 134.1,110.7 L 125.6,124.4\" style=\"fill:none;fill-rule:evenodd;stroke:#0000FF;stroke-width:2.0px;stroke-linecap:butt;stroke-linejoin:miter;stroke-opacity:1\"/>\n",
       "<path class=\"bond-10 atom-10 atom-11\" d=\"M 109.9,136.3 L 91.7,137.7\" style=\"fill:none;fill-rule:evenodd;stroke:#0000FF;stroke-width:2.0px;stroke-linecap:butt;stroke-linejoin:miter;stroke-opacity:1\"/>\n",
       "<path class=\"bond-10 atom-10 atom-11\" d=\"M 91.7,137.7 L 73.5,139.1\" style=\"fill:none;fill-rule:evenodd;stroke:#000000;stroke-width:2.0px;stroke-linecap:butt;stroke-linejoin:miter;stroke-opacity:1\"/>\n",
       "<path class=\"bond-11 atom-10 atom-12\" d=\"M 127.5,145.9 L 137.9,158.0\" style=\"fill:none;fill-rule:evenodd;stroke:#0000FF;stroke-width:2.0px;stroke-linecap:butt;stroke-linejoin:miter;stroke-opacity:1\"/>\n",
       "<path class=\"bond-11 atom-10 atom-12\" d=\"M 137.9,158.0 L 148.2,170.1\" style=\"fill:none;fill-rule:evenodd;stroke:#000000;stroke-width:2.0px;stroke-linecap:butt;stroke-linejoin:miter;stroke-opacity:1\"/>\n",
       "<path class=\"bond-11 atom-10 atom-12\" d=\"M 132.7,141.5 L 141.4,151.8\" style=\"fill:none;fill-rule:evenodd;stroke:#0000FF;stroke-width:2.0px;stroke-linecap:butt;stroke-linejoin:miter;stroke-opacity:1\"/>\n",
       "<path class=\"bond-11 atom-10 atom-12\" d=\"M 141.4,151.8 L 150.2,162.0\" style=\"fill:none;fill-rule:evenodd;stroke:#000000;stroke-width:2.0px;stroke-linecap:butt;stroke-linejoin:miter;stroke-opacity:1\"/>\n",
       "<path class=\"bond-12 atom-12 atom-7\" d=\"M 148.2,170.1 L 164.8,163.3\" style=\"fill:none;fill-rule:evenodd;stroke:#000000;stroke-width:2.0px;stroke-linecap:butt;stroke-linejoin:miter;stroke-opacity:1\"/>\n",
       "<path class=\"bond-12 atom-12 atom-7\" d=\"M 164.8,163.3 L 181.3,156.5\" style=\"fill:none;fill-rule:evenodd;stroke:#0000FF;stroke-width:2.0px;stroke-linecap:butt;stroke-linejoin:miter;stroke-opacity:1\"/>\n",
       "<path class=\"bond-13 atom-0 atom-13\" d=\"M 426.1,204.3 L 408.2,230.7\" style=\"fill:none;fill-rule:evenodd;stroke:#000000;stroke-width:2.0px;stroke-linecap:butt;stroke-linejoin:miter;stroke-opacity:1\"/>\n",
       "<path class=\"bond-14 atom-0 atom-14\" d=\"M 426.1,204.3 L 440.1,234.0\" style=\"fill:none;fill-rule:evenodd;stroke:#000000;stroke-width:2.0px;stroke-linecap:butt;stroke-linejoin:miter;stroke-opacity:1\"/>\n",
       "<path class=\"bond-15 atom-0 atom-15\" d=\"M 426.1,204.3 L 458.4,189.9\" style=\"fill:none;fill-rule:evenodd;stroke:#000000;stroke-width:2.0px;stroke-linecap:butt;stroke-linejoin:miter;stroke-opacity:1\"/>\n",
       "<path class=\"bond-16 atom-1 atom-16\" d=\"M 385.9,177.4 L 369.8,204.9\" style=\"fill:none;fill-rule:evenodd;stroke:#000000;stroke-width:2.0px;stroke-linecap:butt;stroke-linejoin:miter;stroke-opacity:1\"/>\n",
       "<path class=\"bond-17 atom-2 atom-17\" d=\"M 411.4,136.4 L 433.7,151.2\" style=\"fill:none;fill-rule:evenodd;stroke:#000000;stroke-width:2.0px;stroke-linecap:butt;stroke-linejoin:miter;stroke-opacity:1\"/>\n",
       "<path class=\"bond-18 atom-2 atom-18\" d=\"M 411.4,136.4 L 443.8,122.4\" style=\"fill:none;fill-rule:evenodd;stroke:#000000;stroke-width:2.0px;stroke-linecap:butt;stroke-linejoin:miter;stroke-opacity:1\"/>\n",
       "<path class=\"bond-19 atom-2 atom-19\" d=\"M 411.4,136.4 L 398.9,106.6\" style=\"fill:none;fill-rule:evenodd;stroke:#000000;stroke-width:2.0px;stroke-linecap:butt;stroke-linejoin:miter;stroke-opacity:1\"/>\n",
       "<path class=\"bond-20 atom-3 atom-20\" d=\"M 345.0,154.8 L 358.4,128.3\" style=\"fill:none;fill-rule:evenodd;stroke:#000000;stroke-width:2.0px;stroke-linecap:butt;stroke-linejoin:miter;stroke-opacity:1\"/>\n",
       "<path class=\"bond-21 atom-3 atom-21\" d=\"M 345.0,154.8 L 329.3,127.5\" style=\"fill:none;fill-rule:evenodd;stroke:#000000;stroke-width:2.0px;stroke-linecap:butt;stroke-linejoin:miter;stroke-opacity:1\"/>\n",
       "<path class=\"bond-22 atom-4 atom-22\" d=\"M 305.3,177.5 L 320.7,205.1\" style=\"fill:none;fill-rule:evenodd;stroke:#000000;stroke-width:2.0px;stroke-linecap:butt;stroke-linejoin:miter;stroke-opacity:1\"/>\n",
       "<path class=\"bond-23 atom-4 atom-23\" d=\"M 305.3,177.5 L 289.7,205.2\" style=\"fill:none;fill-rule:evenodd;stroke:#000000;stroke-width:2.0px;stroke-linecap:butt;stroke-linejoin:miter;stroke-opacity:1\"/>\n",
       "<path class=\"bond-24 atom-5 atom-24\" d=\"M 265.3,154.6 L 280.5,126.8\" style=\"fill:none;fill-rule:evenodd;stroke:#000000;stroke-width:2.0px;stroke-linecap:butt;stroke-linejoin:miter;stroke-opacity:1\"/>\n",
       "<path class=\"bond-25 atom-5 atom-25\" d=\"M 265.3,154.6 L 249.0,126.4\" style=\"fill:none;fill-rule:evenodd;stroke:#000000;stroke-width:2.0px;stroke-linecap:butt;stroke-linejoin:miter;stroke-opacity:1\"/>\n",
       "<path class=\"bond-26 atom-6 atom-26\" d=\"M 226.6,176.1 L 241.4,204.6\" style=\"fill:none;fill-rule:evenodd;stroke:#000000;stroke-width:2.0px;stroke-linecap:butt;stroke-linejoin:miter;stroke-opacity:1\"/>\n",
       "<path class=\"bond-27 atom-6 atom-27\" d=\"M 226.6,176.1 L 209.4,203.2\" style=\"fill:none;fill-rule:evenodd;stroke:#000000;stroke-width:2.0px;stroke-linecap:butt;stroke-linejoin:miter;stroke-opacity:1\"/>\n",
       "<path class=\"bond-28 atom-8 atom-28\" d=\"M 186.7,107.6 L 212.2,85.9\" style=\"fill:none;fill-rule:evenodd;stroke:#000000;stroke-width:2.0px;stroke-linecap:butt;stroke-linejoin:miter;stroke-opacity:1\"/>\n",
       "<path class=\"bond-29 atom-9 atom-29\" d=\"M 142.5,96.9 L 129.8,66.0\" style=\"fill:none;fill-rule:evenodd;stroke:#000000;stroke-width:2.0px;stroke-linecap:butt;stroke-linejoin:miter;stroke-opacity:1\"/>\n",
       "<path class=\"bond-30 atom-11 atom-30\" d=\"M 73.5,139.1 L 70.9,105.0\" style=\"fill:none;fill-rule:evenodd;stroke:#000000;stroke-width:2.0px;stroke-linecap:butt;stroke-linejoin:miter;stroke-opacity:1\"/>\n",
       "<path class=\"bond-31 atom-11 atom-31\" d=\"M 73.5,139.1 L 41.6,123.8\" style=\"fill:none;fill-rule:evenodd;stroke:#000000;stroke-width:2.0px;stroke-linecap:butt;stroke-linejoin:miter;stroke-opacity:1\"/>\n",
       "<path class=\"bond-32 atom-11 atom-32\" d=\"M 73.5,139.1 L 59.3,168.9\" style=\"fill:none;fill-rule:evenodd;stroke:#000000;stroke-width:2.0px;stroke-linecap:butt;stroke-linejoin:miter;stroke-opacity:1\"/>\n",
       "<path class=\"bond-33 atom-12 atom-33\" d=\"M 148.2,170.1 L 140.2,203.1\" style=\"fill:none;fill-rule:evenodd;stroke:#000000;stroke-width:2.0px;stroke-linecap:butt;stroke-linejoin:miter;stroke-opacity:1\"/>\n",
       "<path class=\"atom-7\" d=\"M 185.9 143.2 L 192.2 153.4 Q 192.8 154.4, 193.8 156.2 Q 194.8 158.1, 194.9 158.2 L 194.9 143.2 L 197.4 143.2 L 197.4 162.5 L 194.8 162.5 L 188.0 151.3 Q 187.2 150.0, 186.4 148.5 Q 185.6 147.0, 185.3 146.5 L 185.3 162.5 L 182.8 162.5 L 182.8 143.2 L 185.9 143.2 \" fill=\"#0000FF\"/>\n",
       "<path class=\"atom-10\" d=\"M 114.5 125.9 L 120.8 136.1 Q 121.4 137.1, 122.4 139.0 Q 123.4 140.8, 123.5 140.9 L 123.5 125.9 L 126.1 125.9 L 126.1 145.2 L 123.4 145.2 L 116.6 134.0 Q 115.8 132.7, 115.0 131.2 Q 114.2 129.7, 113.9 129.3 L 113.9 145.2 L 111.4 145.2 L 111.4 125.9 L 114.5 125.9 \" fill=\"#0000FF\"/>\n",
       "<path class=\"atom-10\" d=\"M 129.7 129.4 L 133.1 129.4 L 133.1 125.8 L 134.6 125.8 L 134.6 129.4 L 138.1 129.4 L 138.1 130.7 L 134.6 130.7 L 134.6 134.3 L 133.1 134.3 L 133.1 130.7 L 129.7 130.7 L 129.7 129.4 \" fill=\"#0000FF\"/>\n",
       "<path class=\"atom-13\" d=\"M 393.1 232.2 L 395.7 232.2 L 395.7 240.4 L 405.6 240.4 L 405.6 232.2 L 408.2 232.2 L 408.2 251.5 L 405.6 251.5 L 405.6 242.6 L 395.7 242.6 L 395.7 251.5 L 393.1 251.5 L 393.1 232.2 \" fill=\"#000000\"/>\n",
       "<path class=\"atom-14\" d=\"M 437.8 235.4 L 440.5 235.4 L 440.5 243.6 L 450.3 243.6 L 450.3 235.4 L 452.9 235.4 L 452.9 254.7 L 450.3 254.7 L 450.3 245.8 L 440.5 245.8 L 440.5 254.7 L 437.8 254.7 L 437.8 235.4 \" fill=\"#000000\"/>\n",
       "<path class=\"atom-15\" d=\"M 459.9 176.3 L 462.5 176.3 L 462.5 184.5 L 472.4 184.5 L 472.4 176.3 L 475.0 176.3 L 475.0 195.5 L 472.4 195.5 L 472.4 186.6 L 462.5 186.6 L 462.5 195.5 L 459.9 195.5 L 459.9 176.3 \" fill=\"#000000\"/>\n",
       "<path class=\"atom-16\" d=\"M 355.8 206.4 L 358.4 206.4 L 358.4 214.6 L 368.2 214.6 L 368.2 206.4 L 370.8 206.4 L 370.8 225.7 L 368.2 225.7 L 368.2 216.8 L 358.4 216.8 L 358.4 225.7 L 355.8 225.7 L 355.8 206.4 \" fill=\"#000000\"/>\n",
       "<path class=\"atom-17\" d=\"M 435.2 147.6 L 437.8 147.6 L 437.8 155.8 L 447.7 155.8 L 447.7 147.6 L 450.3 147.6 L 450.3 166.9 L 447.7 166.9 L 447.7 158.0 L 437.8 158.0 L 437.8 166.9 L 435.2 166.9 L 435.2 147.6 \" fill=\"#000000\"/>\n",
       "<path class=\"atom-18\" d=\"M 445.3 108.9 L 447.9 108.9 L 447.9 117.1 L 457.8 117.1 L 457.8 108.9 L 460.4 108.9 L 460.4 128.2 L 457.8 128.2 L 457.8 119.3 L 447.9 119.3 L 447.9 128.2 L 445.3 128.2 L 445.3 108.9 \" fill=\"#000000\"/>\n",
       "<path class=\"atom-19\" d=\"M 386.7 85.8 L 389.4 85.8 L 389.4 94.0 L 399.2 94.0 L 399.2 85.8 L 401.8 85.8 L 401.8 105.1 L 399.2 105.1 L 399.2 96.2 L 389.4 96.2 L 389.4 105.1 L 386.7 105.1 L 386.7 85.8 \" fill=\"#000000\"/>\n",
       "<path class=\"atom-20\" d=\"M 356.4 107.5 L 359.0 107.5 L 359.0 115.7 L 368.9 115.7 L 368.9 107.5 L 371.5 107.5 L 371.5 126.8 L 368.9 126.8 L 368.9 117.9 L 359.0 117.9 L 359.0 126.8 L 356.4 126.8 L 356.4 107.5 \" fill=\"#000000\"/>\n",
       "<path class=\"atom-21\" d=\"M 315.4 106.7 L 318.0 106.7 L 318.0 114.9 L 327.8 114.9 L 327.8 106.7 L 330.5 106.7 L 330.5 126.0 L 327.8 126.0 L 327.8 117.1 L 318.0 117.1 L 318.0 126.0 L 315.4 126.0 L 315.4 106.7 \" fill=\"#000000\"/>\n",
       "<path class=\"atom-22\" d=\"M 319.4 206.6 L 322.0 206.6 L 322.0 214.8 L 331.9 214.8 L 331.9 206.6 L 334.5 206.6 L 334.5 225.9 L 331.9 225.9 L 331.9 217.0 L 322.0 217.0 L 322.0 225.9 L 319.4 225.9 L 319.4 206.6 \" fill=\"#000000\"/>\n",
       "<path class=\"atom-23\" d=\"M 276.0 206.7 L 278.6 206.7 L 278.6 214.9 L 288.5 214.9 L 288.5 206.7 L 291.1 206.7 L 291.1 226.0 L 288.5 226.0 L 288.5 217.1 L 278.6 217.1 L 278.6 226.0 L 276.0 226.0 L 276.0 206.7 \" fill=\"#000000\"/>\n",
       "<path class=\"atom-24\" d=\"M 279.1 106.0 L 281.7 106.0 L 281.7 114.2 L 291.5 114.2 L 291.5 106.0 L 294.2 106.0 L 294.2 125.3 L 291.5 125.3 L 291.5 116.4 L 281.7 116.4 L 281.7 125.3 L 279.1 125.3 L 279.1 106.0 \" fill=\"#000000\"/>\n",
       "<path class=\"atom-25\" d=\"M 235.1 105.7 L 237.7 105.7 L 237.7 113.9 L 247.5 113.9 L 247.5 105.7 L 250.1 105.7 L 250.1 125.0 L 247.5 125.0 L 247.5 116.0 L 237.7 116.0 L 237.7 125.0 L 235.1 125.0 L 235.1 105.7 \" fill=\"#000000\"/>\n",
       "<path class=\"atom-26\" d=\"M 239.7 206.1 L 242.3 206.1 L 242.3 214.3 L 252.1 214.3 L 252.1 206.1 L 254.7 206.1 L 254.7 225.4 L 252.1 225.4 L 252.1 216.5 L 242.3 216.5 L 242.3 225.4 L 239.7 225.4 L 239.7 206.1 \" fill=\"#000000\"/>\n",
       "<path class=\"atom-27\" d=\"M 194.7 204.7 L 197.3 204.7 L 197.3 212.9 L 207.2 212.9 L 207.2 204.7 L 209.8 204.7 L 209.8 224.0 L 207.2 224.0 L 207.2 215.1 L 197.3 215.1 L 197.3 224.0 L 194.7 224.0 L 194.7 204.7 \" fill=\"#000000\"/>\n",
       "<path class=\"atom-28\" d=\"M 213.7 68.5 L 216.3 68.5 L 216.3 76.7 L 226.2 76.7 L 226.2 68.5 L 228.8 68.5 L 228.8 87.8 L 226.2 87.8 L 226.2 78.9 L 216.3 78.9 L 216.3 87.8 L 213.7 87.8 L 213.7 68.5 \" fill=\"#000000\"/>\n",
       "<path class=\"atom-29\" d=\"M 117.7 45.3 L 120.3 45.3 L 120.3 53.5 L 130.2 53.5 L 130.2 45.3 L 132.8 45.3 L 132.8 64.6 L 130.2 64.6 L 130.2 55.6 L 120.3 55.6 L 120.3 64.6 L 117.7 64.6 L 117.7 45.3 \" fill=\"#000000\"/>\n",
       "<path class=\"atom-30\" d=\"M 62.4 84.2 L 65.1 84.2 L 65.1 92.4 L 74.9 92.4 L 74.9 84.2 L 77.5 84.2 L 77.5 103.5 L 74.9 103.5 L 74.9 94.6 L 65.1 94.6 L 65.1 103.5 L 62.4 103.5 L 62.4 84.2 \" fill=\"#000000\"/>\n",
       "<path class=\"atom-31\" d=\"M 25.0 109.9 L 27.6 109.9 L 27.6 118.1 L 37.5 118.1 L 37.5 109.9 L 40.1 109.9 L 40.1 129.1 L 37.5 129.1 L 37.5 120.2 L 27.6 120.2 L 27.6 129.1 L 25.0 129.1 L 25.0 109.9 \" fill=\"#000000\"/>\n",
       "<path class=\"atom-32\" d=\"M 46.4 170.4 L 49.0 170.4 L 49.0 178.6 L 58.9 178.6 L 58.9 170.4 L 61.5 170.4 L 61.5 189.7 L 58.9 189.7 L 58.9 180.8 L 49.0 180.8 L 49.0 189.7 L 46.4 189.7 L 46.4 170.4 \" fill=\"#000000\"/>\n",
       "<path class=\"atom-33\" d=\"M 130.0 204.6 L 132.6 204.6 L 132.6 212.8 L 142.4 212.8 L 142.4 204.6 L 145.0 204.6 L 145.0 223.9 L 142.4 223.9 L 142.4 215.0 L 132.6 215.0 L 132.6 223.9 L 130.0 223.9 L 130.0 204.6 \" fill=\"#000000\"/>\n",
       "</svg>"
      ],
      "text/plain": [
       "<IPython.core.display.SVG object>"
      ]
     },
     "execution_count": 28,
     "metadata": {},
     "output_type": "execute_result"
    }
   ],
   "source": [
    "cations[-1].visualize()  # change the index to visualize others"
   ]
  },
  {
   "cell_type": "code",
   "execution_count": 29,
   "id": "e390a054-a91f-48cf-b691-b6cc068f894f",
   "metadata": {},
   "outputs": [],
   "source": [
    "# assign a force field\n",
    "sage = ForceField(\"openff-2.2.0.offxml\")\n",
    "# big box\n",
    "cubic_box = unit.Quantity(80 * np.eye(3), unit.angstrom)"
   ]
  },
  {
   "cell_type": "code",
   "execution_count": 33,
   "id": "d023808d-f54c-481b-99e8-ff4075a4f9e3",
   "metadata": {},
   "outputs": [
    {
     "name": "stdout",
     "output_type": "stream",
     "text": [
      "Anion charges = -1.0000000000e+00 elementary_charge\n",
      "processing [H][C]1=[C]([H])[N+]([C]([H])([H])[H])=[C]([H])[N]1[C]([H])([H])[C]([H])([H])[C]([H])([H])[H]\n",
      "cation0 charges = 1.0000000000e+00 elementary_charge\n",
      "processing [H][C]1=[C]([H])[N+]([C]([H])([H])[H])=[C]([H])[N]1[C]([H])([H])[C]([H])([H])[C]([H])([H])[C]([H])([H])[H]\n",
      "cation1 charges = 1.0000000000e+00 elementary_charge\n",
      "processing [H][C]1=[C]([H])[N+]([C]([H])([H])[H])=[C]([H])[N]1[C]([H])([H])[C]([H])([H])[C]([H])([H])[C]([H])([H])[C]([H])([H])[H]\n",
      "cation2 charges = 1.0000000000e+00 elementary_charge\n",
      "processing [H][C]1=[C]([H])[N+]([C]([H])([H])[H])=[C]([H])[N]1[C]([H])([H])[C]([H])([H])[C]([H])([H])[C]([H])([H])[C]([H])([H])[C]([H])([H])[H]\n",
      "cation3 charges = 1.0000000000e+00 elementary_charge\n",
      "processing [H][C]1=[C]([H])[N+]([C]([H])([H])[H])=[C]([H])[N]1[C]([H])([H])[C]([H])([H])[C]([H])([H])[C]([H])([H])[C]([H])([H])[C]([H])([H])[C]([H])([H])[H]\n",
      "cation4 charges = 1.0000000000e+00 elementary_charge\n",
      "processing [H][C]1=[C]([H])[N+]([C]([H])([H])[H])=[C]([H])[N]1[C]([H])([C]([H])([H])[H])[C]([H])([H])[H]\n",
      "cation5 charges = 1.0000000000e+00 elementary_charge\n",
      "processing [H][C]1=[C]([H])[N+]([C]([H])([H])[H])=[C]([H])[N]1[C]([H])([H])[C]([H])([C]([H])([H])[H])[C]([H])([H])[H]\n",
      "cation6 charges = 1.0000000000e+00 elementary_charge\n",
      "processing [H][C]1=[C]([H])[N+]([C]([H])([H])[H])=[C]([H])[N]1[C]([H])([H])[C]([H])([H])[C]([H])([C]([H])([H])[H])[C]([H])([H])[H]\n",
      "cation7 charges = 1.0000000000e+00 elementary_charge\n",
      "processing [H][C]1=[C]([H])[N+]([C]([H])([H])[H])=[C]([H])[N]1[C]([H])([H])[C]([H])([H])[C]([H])([H])[C]([H])([C]([H])([H])[H])[C]([H])([H])[H]\n",
      "cation8 charges = 1.0000000000e+00 elementary_charge\n",
      "processing [H][C]1=[C]([H])[N+]([C]([H])([H])[H])=[C]([H])[N]1[C]([H])([H])[C]([H])([H])[C]([H])([H])[C]([H])([H])[C]([H])([C]([H])([H])[H])[C]([H])([H])[H]\n",
      "cation9 charges = 1.0000000000e+00 elementary_charge\n"
     ]
    }
   ],
   "source": [
    "anion.generate_conformers(n_conformers=1)\n",
    "NAGLToolkitWrapper().assign_partial_charges(anion, 'openff-gnn-am1bcc-0.1.0-rc.3.pt')    \n",
    "print(f\"Anion charges = {sum(anion.partial_charges):.10e}\")\n",
    "\n",
    "for i,cat in enumerate(cations):\n",
    "    print(f'processing {cat.to_smiles()}')\n",
    "    # use RDkit to generate a conformer\n",
    "    cat.generate_conformers(n_conformers=1)\n",
    "    NAGLToolkitWrapper().assign_partial_charges(cat, 'openff-gnn-am1bcc-0.1.0-rc.3.pt')\n",
    "    print(f\"cation{i} charges = {sum(cat.partial_charges):.10e}\")\n"
   ]
  },
  {
   "cell_type": "code",
   "execution_count": 106,
   "id": "7046e852-aea0-40a3-b544-e3d06c04e6a7",
   "metadata": {},
   "outputs": [
    {
     "name": "stdout",
     "output_type": "stream",
     "text": [
      "packing [H][C]1=[C]([H])[N+]([C]([H])([H])[H])=[C]([H])[N]1[C]([H])([H])[C]([H])([H])[C]([H])([H])[H]\n",
      "packing [H][C]1=[C]([H])[N+]([C]([H])([H])[H])=[C]([H])[N]1[C]([H])([H])[C]([H])([H])[C]([H])([H])[C]([H])([H])[H]\n",
      "packing [H][C]1=[C]([H])[N+]([C]([H])([H])[H])=[C]([H])[N]1[C]([H])([H])[C]([H])([H])[C]([H])([H])[C]([H])([H])[C]([H])([H])[H]\n",
      "packing [H][C]1=[C]([H])[N+]([C]([H])([H])[H])=[C]([H])[N]1[C]([H])([H])[C]([H])([H])[C]([H])([H])[C]([H])([H])[C]([H])([H])[C]([H])([H])[H]\n",
      "packing [H][C]1=[C]([H])[N+]([C]([H])([H])[H])=[C]([H])[N]1[C]([H])([H])[C]([H])([H])[C]([H])([H])[C]([H])([H])[C]([H])([H])[C]([H])([H])[C]([H])([H])[H]\n",
      "packing [H][C]1=[C]([H])[N+]([C]([H])([H])[H])=[C]([H])[N]1[C]([H])([C]([H])([H])[H])[C]([H])([H])[H]\n",
      "packing [H][C]1=[C]([H])[N+]([C]([H])([H])[H])=[C]([H])[N]1[C]([H])([H])[C]([H])([C]([H])([H])[H])[C]([H])([H])[H]\n",
      "packing [H][C]1=[C]([H])[N+]([C]([H])([H])[H])=[C]([H])[N]1[C]([H])([H])[C]([H])([H])[C]([H])([C]([H])([H])[H])[C]([H])([H])[H]\n",
      "packing [H][C]1=[C]([H])[N+]([C]([H])([H])[H])=[C]([H])[N]1[C]([H])([H])[C]([H])([H])[C]([H])([H])[C]([H])([C]([H])([H])[H])[C]([H])([H])[H]\n",
      "packing [H][C]1=[C]([H])[N+]([C]([H])([H])[H])=[C]([H])[N]1[C]([H])([H])[C]([H])([H])[C]([H])([H])[C]([H])([H])[C]([H])([C]([H])([H])[H])[C]([H])([H])[H]\n"
     ]
    }
   ],
   "source": [
    "n_anion = 300\n",
    "n_cation = 300\n",
    "il_interchanges = list()\n",
    "for cat in cations:\n",
    "    print(f'packing {cat.to_smiles()}')\n",
    "\n",
    "    packed_mixture_topology = pack_box(\n",
    "        molecules=[anion,cat],\n",
    "        number_of_copies=[n_anion,n_cation],\n",
    "        solute=None,\n",
    "        tolerance=1.0*unit.angstrom,\n",
    "        box_vectors=cubic_box,\n",
    "    )\n",
    "    \n",
    "    interchange = Interchange.from_smirnoff(\n",
    "        force_field=ForceField(\"openff-2.2.0.offxml\"),charge_from_molecules=[anion,cat],\n",
    "        topology=packed_mixture_topology, box=cubic_box\n",
    "    )\n",
    "    il_interchanges.append(interchange)\n"
   ]
  },
  {
   "cell_type": "code",
   "execution_count": null,
   "id": "3a7d2e4f-61a0-469d-aa21-f728000b5d8d",
   "metadata": {},
   "outputs": [],
   "source": []
  },
  {
   "cell_type": "code",
   "execution_count": 107,
   "id": "3d707825-947c-4a7e-90d2-f3c4cd28cadf",
   "metadata": {},
   "outputs": [
    {
     "name": "stdout",
     "output_type": "stream",
     "text": [
      "minimizing energy of [H][C]1=[C]([H])[N+]([C]([H])([H])[H])=[C]([H])[N]1[C]([H])([H])[C]([H])([H])[C]([H])([H])[H] + anion\n",
      "minimizing energy of [H][C]1=[C]([H])[N+]([C]([H])([H])[H])=[C]([H])[N]1[C]([H])([H])[C]([H])([H])[C]([H])([H])[C]([H])([H])[H] + anion\n",
      "minimizing energy of [H][C]1=[C]([H])[N+]([C]([H])([H])[H])=[C]([H])[N]1[C]([H])([H])[C]([H])([H])[C]([H])([H])[C]([H])([H])[C]([H])([H])[H] + anion\n",
      "minimizing energy of [H][C]1=[C]([H])[N+]([C]([H])([H])[H])=[C]([H])[N]1[C]([H])([H])[C]([H])([H])[C]([H])([H])[C]([H])([H])[C]([H])([H])[C]([H])([H])[H] + anion\n",
      "minimizing energy of [H][C]1=[C]([H])[N+]([C]([H])([H])[H])=[C]([H])[N]1[C]([H])([H])[C]([H])([H])[C]([H])([H])[C]([H])([H])[C]([H])([H])[C]([H])([H])[C]([H])([H])[H] + anion\n",
      "minimizing energy of [H][C]1=[C]([H])[N+]([C]([H])([H])[H])=[C]([H])[N]1[C]([H])([C]([H])([H])[H])[C]([H])([H])[H] + anion\n",
      "minimizing energy of [H][C]1=[C]([H])[N+]([C]([H])([H])[H])=[C]([H])[N]1[C]([H])([H])[C]([H])([C]([H])([H])[H])[C]([H])([H])[H] + anion\n",
      "minimizing energy of [H][C]1=[C]([H])[N+]([C]([H])([H])[H])=[C]([H])[N]1[C]([H])([H])[C]([H])([H])[C]([H])([C]([H])([H])[H])[C]([H])([H])[H] + anion\n",
      "minimizing energy of [H][C]1=[C]([H])[N+]([C]([H])([H])[H])=[C]([H])[N]1[C]([H])([H])[C]([H])([H])[C]([H])([H])[C]([H])([C]([H])([H])[H])[C]([H])([H])[H] + anion\n",
      "minimizing energy of [H][C]1=[C]([H])[N+]([C]([H])([H])[H])=[C]([H])[N]1[C]([H])([H])[C]([H])([H])[C]([H])([H])[C]([H])([H])[C]([H])([C]([H])([H])[H])[C]([H])([H])[H] + anion\n"
     ]
    }
   ],
   "source": [
    "for cat,il_int in zip(cations,il_interchanges): # approximately minimize energy with OpenMM\n",
    "    print(f'minimizing energy of {cat.to_smiles()} + anion')\n",
    "    il_int.minimize()"
   ]
  },
  {
   "cell_type": "code",
   "execution_count": 108,
   "id": "a31b7cfa-9ba8-4e14-be59-981f91a8e1f3",
   "metadata": {},
   "outputs": [],
   "source": [
    "# now print out files\n",
    "for i,il in enumerate(il_interchanges):\n",
    "    # gromacs files\n",
    "    il.to_gro(f'il{i:d}.gro')\n",
    "    il.to_top(f'il{i:d}.top')\n",
    "    il.to_lammps(f'il{i:d}.lmp')"
   ]
  },
  {
   "cell_type": "markdown",
   "id": "3d99e6ae-e5b9-49d8-9d03-26a381e8926d",
   "metadata": {},
   "source": [
    "### IL with neutrals"
   ]
  },
  {
   "cell_type": "code",
   "execution_count": 172,
   "id": "c038ed90-43b3-46fc-856b-50d642f8a855",
   "metadata": {},
   "outputs": [],
   "source": [
    "# we already generated the topology for the IL (it was cations[3] - lets verify by visualizing"
   ]
  },
  {
   "cell_type": "code",
   "execution_count": 173,
   "id": "52519847-5c1b-4401-ba9b-ec581cc79df3",
   "metadata": {},
   "outputs": [
    {
     "data": {
      "image/svg+xml": [
       "<svg xmlns=\"http://www.w3.org/2000/svg\" xmlns:rdkit=\"http://www.rdkit.org/xml\" xmlns:xlink=\"http://www.w3.org/1999/xlink\" version=\"1.1\" baseProfile=\"full\" xml:space=\"preserve\" width=\"500px\" height=\"300px\" viewBox=\"0 0 500 300\">\n",
       "<!-- END OF HEADER -->\n",
       "<rect style=\"opacity:1.0;fill:#FFFFFF;stroke:none\" width=\"500.0\" height=\"300.0\" x=\"0.0\" y=\"0.0\"> </rect>\n",
       "<path class=\"bond-0 atom-0 atom-1\" d=\"M 418.0,217.8 L 417.3,168.5\" style=\"fill:none;fill-rule:evenodd;stroke:#000000;stroke-width:2.0px;stroke-linecap:butt;stroke-linejoin:miter;stroke-opacity:1\"/>\n",
       "<path class=\"bond-1 atom-1 atom-2\" d=\"M 417.3,168.5 L 374.5,143.8\" style=\"fill:none;fill-rule:evenodd;stroke:#000000;stroke-width:2.0px;stroke-linecap:butt;stroke-linejoin:miter;stroke-opacity:1\"/>\n",
       "<path class=\"bond-2 atom-2 atom-3\" d=\"M 374.5,143.8 L 331.3,168.2\" style=\"fill:none;fill-rule:evenodd;stroke:#000000;stroke-width:2.0px;stroke-linecap:butt;stroke-linejoin:miter;stroke-opacity:1\"/>\n",
       "<path class=\"bond-3 atom-3 atom-4\" d=\"M 331.3,168.2 L 288.0,143.8\" style=\"fill:none;fill-rule:evenodd;stroke:#000000;stroke-width:2.0px;stroke-linecap:butt;stroke-linejoin:miter;stroke-opacity:1\"/>\n",
       "<path class=\"bond-4 atom-4 atom-5\" d=\"M 288.0,143.8 L 245.3,168.1\" style=\"fill:none;fill-rule:evenodd;stroke:#000000;stroke-width:2.0px;stroke-linecap:butt;stroke-linejoin:miter;stroke-opacity:1\"/>\n",
       "<path class=\"bond-5 atom-5 atom-6\" d=\"M 245.3,168.1 L 229.4,158.7\" style=\"fill:none;fill-rule:evenodd;stroke:#000000;stroke-width:2.0px;stroke-linecap:butt;stroke-linejoin:miter;stroke-opacity:1\"/>\n",
       "<path class=\"bond-5 atom-5 atom-6\" d=\"M 229.4,158.7 L 213.5,149.4\" style=\"fill:none;fill-rule:evenodd;stroke:#0000FF;stroke-width:2.0px;stroke-linecap:butt;stroke-linejoin:miter;stroke-opacity:1\"/>\n",
       "<path class=\"bond-6 atom-6 atom-7\" d=\"M 202.7,131.8 L 200.8,113.4\" style=\"fill:none;fill-rule:evenodd;stroke:#0000FF;stroke-width:2.0px;stroke-linecap:butt;stroke-linejoin:miter;stroke-opacity:1\"/>\n",
       "<path class=\"bond-6 atom-6 atom-7\" d=\"M 200.8,113.4 L 198.9,95.1\" style=\"fill:none;fill-rule:evenodd;stroke:#000000;stroke-width:2.0px;stroke-linecap:butt;stroke-linejoin:miter;stroke-opacity:1\"/>\n",
       "<path class=\"bond-7 atom-7 atom-8\" d=\"M 198.9,95.1 L 151.0,85.0\" style=\"fill:none;fill-rule:evenodd;stroke:#000000;stroke-width:2.0px;stroke-linecap:butt;stroke-linejoin:miter;stroke-opacity:1\"/>\n",
       "<path class=\"bond-7 atom-7 atom-8\" d=\"M 192.2,101.1 L 154.7,93.2\" style=\"fill:none;fill-rule:evenodd;stroke:#000000;stroke-width:2.0px;stroke-linecap:butt;stroke-linejoin:miter;stroke-opacity:1\"/>\n",
       "<path class=\"bond-8 atom-8 atom-9\" d=\"M 151.0,85.0 L 142.2,100.1\" style=\"fill:none;fill-rule:evenodd;stroke:#000000;stroke-width:2.0px;stroke-linecap:butt;stroke-linejoin:miter;stroke-opacity:1\"/>\n",
       "<path class=\"bond-8 atom-8 atom-9\" d=\"M 142.2,100.1 L 133.5,115.3\" style=\"fill:none;fill-rule:evenodd;stroke:#0000FF;stroke-width:2.0px;stroke-linecap:butt;stroke-linejoin:miter;stroke-opacity:1\"/>\n",
       "<path class=\"bond-9 atom-9 atom-10\" d=\"M 117.0,128.4 L 97.5,130.4\" style=\"fill:none;fill-rule:evenodd;stroke:#0000FF;stroke-width:2.0px;stroke-linecap:butt;stroke-linejoin:miter;stroke-opacity:1\"/>\n",
       "<path class=\"bond-9 atom-9 atom-10\" d=\"M 97.5,130.4 L 77.9,132.5\" style=\"fill:none;fill-rule:evenodd;stroke:#000000;stroke-width:2.0px;stroke-linecap:butt;stroke-linejoin:miter;stroke-opacity:1\"/>\n",
       "<path class=\"bond-10 atom-9 atom-11\" d=\"M 136.0,137.9 L 147.7,150.8\" style=\"fill:none;fill-rule:evenodd;stroke:#0000FF;stroke-width:2.0px;stroke-linecap:butt;stroke-linejoin:miter;stroke-opacity:1\"/>\n",
       "<path class=\"bond-10 atom-9 atom-11\" d=\"M 147.7,150.8 L 159.4,163.7\" style=\"fill:none;fill-rule:evenodd;stroke:#000000;stroke-width:2.0px;stroke-linecap:butt;stroke-linejoin:miter;stroke-opacity:1\"/>\n",
       "<path class=\"bond-10 atom-9 atom-11\" d=\"M 141.5,132.9 L 151.4,143.9\" style=\"fill:none;fill-rule:evenodd;stroke:#0000FF;stroke-width:2.0px;stroke-linecap:butt;stroke-linejoin:miter;stroke-opacity:1\"/>\n",
       "<path class=\"bond-10 atom-9 atom-11\" d=\"M 151.4,143.9 L 161.2,154.8\" style=\"fill:none;fill-rule:evenodd;stroke:#000000;stroke-width:2.0px;stroke-linecap:butt;stroke-linejoin:miter;stroke-opacity:1\"/>\n",
       "<path class=\"bond-11 atom-11 atom-6\" d=\"M 159.4,163.7 L 176.9,155.8\" style=\"fill:none;fill-rule:evenodd;stroke:#000000;stroke-width:2.0px;stroke-linecap:butt;stroke-linejoin:miter;stroke-opacity:1\"/>\n",
       "<path class=\"bond-11 atom-11 atom-6\" d=\"M 176.9,155.8 L 194.5,148.0\" style=\"fill:none;fill-rule:evenodd;stroke:#0000FF;stroke-width:2.0px;stroke-linecap:butt;stroke-linejoin:miter;stroke-opacity:1\"/>\n",
       "<path class=\"bond-12 atom-0 atom-12\" d=\"M 418.0,217.8 L 457.1,217.3\" style=\"fill:none;fill-rule:evenodd;stroke:#000000;stroke-width:2.0px;stroke-linecap:butt;stroke-linejoin:miter;stroke-opacity:1\"/>\n",
       "<path class=\"bond-13 atom-0 atom-13\" d=\"M 418.0,217.8 L 435.9,247.8\" style=\"fill:none;fill-rule:evenodd;stroke:#000000;stroke-width:2.0px;stroke-linecap:butt;stroke-linejoin:miter;stroke-opacity:1\"/>\n",
       "<path class=\"bond-14 atom-0 atom-14\" d=\"M 418.0,217.8 L 386.4,236.8\" style=\"fill:none;fill-rule:evenodd;stroke:#000000;stroke-width:2.0px;stroke-linecap:butt;stroke-linejoin:miter;stroke-opacity:1\"/>\n",
       "<path class=\"bond-15 atom-1 atom-15\" d=\"M 417.3,168.5 L 434.6,137.9\" style=\"fill:none;fill-rule:evenodd;stroke:#000000;stroke-width:2.0px;stroke-linecap:butt;stroke-linejoin:miter;stroke-opacity:1\"/>\n",
       "<path class=\"bond-16 atom-1 atom-16\" d=\"M 417.3,168.5 L 456.4,168.0\" style=\"fill:none;fill-rule:evenodd;stroke:#000000;stroke-width:2.0px;stroke-linecap:butt;stroke-linejoin:miter;stroke-opacity:1\"/>\n",
       "<path class=\"bond-17 atom-2 atom-17\" d=\"M 374.5,143.8 L 357.5,113.3\" style=\"fill:none;fill-rule:evenodd;stroke:#000000;stroke-width:2.0px;stroke-linecap:butt;stroke-linejoin:miter;stroke-opacity:1\"/>\n",
       "<path class=\"bond-18 atom-2 atom-18\" d=\"M 374.5,143.8 L 392.2,113.6\" style=\"fill:none;fill-rule:evenodd;stroke:#000000;stroke-width:2.0px;stroke-linecap:butt;stroke-linejoin:miter;stroke-opacity:1\"/>\n",
       "<path class=\"bond-19 atom-3 atom-19\" d=\"M 331.3,168.2 L 314.4,198.4\" style=\"fill:none;fill-rule:evenodd;stroke:#000000;stroke-width:2.0px;stroke-linecap:butt;stroke-linejoin:miter;stroke-opacity:1\"/>\n",
       "<path class=\"bond-20 atom-3 atom-20\" d=\"M 331.3,168.2 L 348.3,198.0\" style=\"fill:none;fill-rule:evenodd;stroke:#000000;stroke-width:2.0px;stroke-linecap:butt;stroke-linejoin:miter;stroke-opacity:1\"/>\n",
       "<path class=\"bond-21 atom-4 atom-21\" d=\"M 288.0,143.8 L 304.9,113.3\" style=\"fill:none;fill-rule:evenodd;stroke:#000000;stroke-width:2.0px;stroke-linecap:butt;stroke-linejoin:miter;stroke-opacity:1\"/>\n",
       "<path class=\"bond-22 atom-4 atom-22\" d=\"M 288.0,143.8 L 270.3,113.5\" style=\"fill:none;fill-rule:evenodd;stroke:#000000;stroke-width:2.0px;stroke-linecap:butt;stroke-linejoin:miter;stroke-opacity:1\"/>\n",
       "<path class=\"bond-23 atom-5 atom-23\" d=\"M 245.3,168.1 L 262.0,198.5\" style=\"fill:none;fill-rule:evenodd;stroke:#000000;stroke-width:2.0px;stroke-linecap:butt;stroke-linejoin:miter;stroke-opacity:1\"/>\n",
       "<path class=\"bond-24 atom-5 atom-24\" d=\"M 245.3,168.1 L 227.4,198.1\" style=\"fill:none;fill-rule:evenodd;stroke:#000000;stroke-width:2.0px;stroke-linecap:butt;stroke-linejoin:miter;stroke-opacity:1\"/>\n",
       "<path class=\"bond-25 atom-7 atom-25\" d=\"M 198.9,95.1 L 225.5,71.1\" style=\"fill:none;fill-rule:evenodd;stroke:#000000;stroke-width:2.0px;stroke-linecap:butt;stroke-linejoin:miter;stroke-opacity:1\"/>\n",
       "<path class=\"bond-26 atom-8 atom-26\" d=\"M 151.0,85.0 L 136.4,52.2\" style=\"fill:none;fill-rule:evenodd;stroke:#000000;stroke-width:2.0px;stroke-linecap:butt;stroke-linejoin:miter;stroke-opacity:1\"/>\n",
       "<path class=\"bond-27 atom-10 atom-27\" d=\"M 77.9,132.5 L 74.0,95.9\" style=\"fill:none;fill-rule:evenodd;stroke:#000000;stroke-width:2.0px;stroke-linecap:butt;stroke-linejoin:miter;stroke-opacity:1\"/>\n",
       "<path class=\"bond-28 atom-10 atom-28\" d=\"M 77.9,132.5 L 42.9,117.0\" style=\"fill:none;fill-rule:evenodd;stroke:#000000;stroke-width:2.0px;stroke-linecap:butt;stroke-linejoin:miter;stroke-opacity:1\"/>\n",
       "<path class=\"bond-29 atom-10 atom-29\" d=\"M 77.9,132.5 L 63.4,165.3\" style=\"fill:none;fill-rule:evenodd;stroke:#000000;stroke-width:2.0px;stroke-linecap:butt;stroke-linejoin:miter;stroke-opacity:1\"/>\n",
       "<path class=\"bond-30 atom-11 atom-30\" d=\"M 159.4,163.7 L 151.7,199.6\" style=\"fill:none;fill-rule:evenodd;stroke:#000000;stroke-width:2.0px;stroke-linecap:butt;stroke-linejoin:miter;stroke-opacity:1\"/>\n",
       "<path class=\"atom-6\" d=\"M 199.4 133.4 L 206.2 144.4 Q 206.9 145.5, 208.0 147.4 Q 209.1 149.4, 209.1 149.5 L 209.1 133.4 L 211.9 133.4 L 211.9 154.2 L 209.0 154.2 L 201.7 142.1 Q 200.9 140.7, 200.0 139.1 Q 199.1 137.5, 198.8 137.0 L 198.8 154.2 L 196.1 154.2 L 196.1 133.4 L 199.4 133.4 \" fill=\"#0000FF\"/>\n",
       "<path class=\"atom-9\" d=\"M 121.9 116.9 L 128.8 128.0 Q 129.4 129.0, 130.5 131.0 Q 131.6 133.0, 131.7 133.1 L 131.7 116.9 L 134.4 116.9 L 134.4 137.7 L 131.6 137.7 L 124.3 125.7 Q 123.4 124.3, 122.5 122.7 Q 121.6 121.1, 121.4 120.6 L 121.4 137.7 L 118.6 137.7 L 118.6 116.9 L 121.9 116.9 \" fill=\"#0000FF\"/>\n",
       "<path class=\"atom-9\" d=\"M 138.3 120.7 L 142.0 120.7 L 142.0 116.8 L 143.6 116.8 L 143.6 120.7 L 147.4 120.7 L 147.4 122.1 L 143.6 122.1 L 143.6 126.0 L 142.0 126.0 L 142.0 122.1 L 138.3 122.1 L 138.3 120.7 \" fill=\"#0000FF\"/>\n",
       "<path class=\"atom-12\" d=\"M 458.7 206.7 L 461.5 206.7 L 461.5 215.6 L 472.2 215.6 L 472.2 206.7 L 475.0 206.7 L 475.0 227.5 L 472.2 227.5 L 472.2 217.9 L 461.5 217.9 L 461.5 227.5 L 458.7 227.5 L 458.7 206.7 \" fill=\"#000000\"/>\n",
       "<path class=\"atom-13\" d=\"M 434.9 249.4 L 437.7 249.4 L 437.7 258.2 L 448.3 258.2 L 448.3 249.4 L 451.1 249.4 L 451.1 270.2 L 448.3 270.2 L 448.3 260.6 L 437.7 260.6 L 437.7 270.2 L 434.9 270.2 L 434.9 249.4 \" fill=\"#000000\"/>\n",
       "<path class=\"atom-14\" d=\"M 368.6 232.3 L 371.4 232.3 L 371.4 241.1 L 382.0 241.1 L 382.0 232.3 L 384.8 232.3 L 384.8 253.1 L 382.0 253.1 L 382.0 243.5 L 371.4 243.5 L 371.4 253.1 L 368.6 253.1 L 368.6 232.3 \" fill=\"#000000\"/>\n",
       "<path class=\"atom-15\" d=\"M 433.3 115.5 L 436.1 115.5 L 436.1 124.3 L 446.7 124.3 L 446.7 115.5 L 449.6 115.5 L 449.6 136.3 L 446.7 136.3 L 446.7 126.7 L 436.1 126.7 L 436.1 136.3 L 433.3 136.3 L 433.3 115.5 \" fill=\"#000000\"/>\n",
       "<path class=\"atom-16\" d=\"M 458.0 157.5 L 460.8 157.5 L 460.8 166.4 L 471.5 166.4 L 471.5 157.5 L 474.3 157.5 L 474.3 178.3 L 471.5 178.3 L 471.5 168.7 L 460.8 168.7 L 460.8 178.3 L 458.0 178.3 L 458.0 157.5 \" fill=\"#000000\"/>\n",
       "<path class=\"atom-17\" d=\"M 342.6 90.9 L 345.5 90.9 L 345.5 99.8 L 356.1 99.8 L 356.1 90.9 L 358.9 90.9 L 358.9 111.7 L 356.1 111.7 L 356.1 102.1 L 345.5 102.1 L 345.5 111.7 L 342.6 111.7 L 342.6 90.9 \" fill=\"#000000\"/>\n",
       "<path class=\"atom-18\" d=\"M 391.1 91.2 L 393.9 91.2 L 393.9 100.0 L 404.5 100.0 L 404.5 91.2 L 407.4 91.2 L 407.4 112.0 L 404.5 112.0 L 404.5 102.4 L 393.9 102.4 L 393.9 112.0 L 391.1 112.0 L 391.1 91.2 \" fill=\"#000000\"/>\n",
       "<path class=\"atom-19\" d=\"M 299.6 200.0 L 302.4 200.0 L 302.4 208.9 L 313.0 208.9 L 313.0 200.0 L 315.9 200.0 L 315.9 220.8 L 313.0 220.8 L 313.0 211.2 L 302.4 211.2 L 302.4 220.8 L 299.6 220.8 L 299.6 200.0 \" fill=\"#000000\"/>\n",
       "<path class=\"atom-20\" d=\"M 347.0 199.6 L 349.8 199.6 L 349.8 208.4 L 360.5 208.4 L 360.5 199.6 L 363.3 199.6 L 363.3 220.4 L 360.5 220.4 L 360.5 210.8 L 349.8 210.8 L 349.8 220.4 L 347.0 220.4 L 347.0 199.6 \" fill=\"#000000\"/>\n",
       "<path class=\"atom-21\" d=\"M 303.5 90.9 L 306.3 90.9 L 306.3 99.7 L 316.9 99.7 L 316.9 90.9 L 319.7 90.9 L 319.7 111.7 L 316.9 111.7 L 316.9 102.1 L 306.3 102.1 L 306.3 111.7 L 303.5 111.7 L 303.5 90.9 \" fill=\"#000000\"/>\n",
       "<path class=\"atom-22\" d=\"M 255.1 91.1 L 257.9 91.1 L 257.9 99.9 L 268.5 99.9 L 268.5 91.1 L 271.4 91.1 L 271.4 111.9 L 268.5 111.9 L 268.5 102.3 L 257.9 102.3 L 257.9 111.9 L 255.1 111.9 L 255.1 91.1 \" fill=\"#000000\"/>\n",
       "<path class=\"atom-23\" d=\"M 260.4 200.1 L 263.2 200.1 L 263.2 209.0 L 273.8 209.0 L 273.8 200.1 L 276.7 200.1 L 276.7 220.9 L 273.8 220.9 L 273.8 211.3 L 263.2 211.3 L 263.2 220.9 L 260.4 220.9 L 260.4 200.1 \" fill=\"#000000\"/>\n",
       "<path class=\"atom-24\" d=\"M 212.0 199.7 L 214.9 199.7 L 214.9 208.6 L 225.5 208.6 L 225.5 199.7 L 228.3 199.7 L 228.3 220.5 L 225.5 220.5 L 225.5 210.9 L 214.9 210.9 L 214.9 220.5 L 212.0 220.5 L 212.0 199.7 \" fill=\"#000000\"/>\n",
       "<path class=\"atom-25\" d=\"M 227.1 51.9 L 229.9 51.9 L 229.9 60.8 L 240.6 60.8 L 240.6 51.9 L 243.4 51.9 L 243.4 72.7 L 240.6 72.7 L 240.6 63.1 L 229.9 63.1 L 229.9 72.7 L 227.1 72.7 L 227.1 51.9 \" fill=\"#000000\"/>\n",
       "<path class=\"atom-26\" d=\"M 122.9 29.8 L 125.7 29.8 L 125.7 38.6 L 136.4 38.6 L 136.4 29.8 L 139.2 29.8 L 139.2 50.6 L 136.4 50.6 L 136.4 41.0 L 125.7 41.0 L 125.7 50.6 L 122.9 50.6 L 122.9 29.8 \" fill=\"#000000\"/>\n",
       "<path class=\"atom-27\" d=\"M 64.6 73.4 L 67.4 73.4 L 67.4 82.3 L 78.0 82.3 L 78.0 73.4 L 80.8 73.4 L 80.8 94.2 L 78.0 94.2 L 78.0 84.6 L 67.4 84.6 L 67.4 94.2 L 64.6 94.2 L 64.6 73.4 \" fill=\"#000000\"/>\n",
       "<path class=\"atom-28\" d=\"M 25.0 102.3 L 27.8 102.3 L 27.8 111.1 L 38.5 111.1 L 38.5 102.3 L 41.3 102.3 L 41.3 123.1 L 38.5 123.1 L 38.5 113.5 L 27.8 113.5 L 27.8 123.1 L 25.0 123.1 L 25.0 102.3 \" fill=\"#000000\"/>\n",
       "<path class=\"atom-29\" d=\"M 49.9 166.9 L 52.7 166.9 L 52.7 175.7 L 63.4 175.7 L 63.4 166.9 L 66.2 166.9 L 66.2 187.7 L 63.4 187.7 L 63.4 178.1 L 52.7 178.1 L 52.7 187.7 L 49.9 187.7 L 49.9 166.9 \" fill=\"#000000\"/>\n",
       "<path class=\"atom-30\" d=\"M 141.0 201.2 L 143.9 201.2 L 143.9 210.0 L 154.5 210.0 L 154.5 201.2 L 157.3 201.2 L 157.3 222.0 L 154.5 222.0 L 154.5 212.4 L 143.9 212.4 L 143.9 222.0 L 141.0 222.0 L 141.0 201.2 \" fill=\"#000000\"/>\n",
       "</svg>"
      ],
      "text/plain": [
       "<IPython.core.display.SVG object>"
      ]
     },
     "execution_count": 173,
     "metadata": {},
     "output_type": "execute_result"
    }
   ],
   "source": [
    "cations[3].visualize()"
   ]
  },
  {
   "cell_type": "code",
   "execution_count": 179,
   "id": "9097e77f-61ce-4b78-9ff9-f120bf28341d",
   "metadata": {},
   "outputs": [],
   "source": [
    "tetraglyme_smiles = 'COCCOCCOCCOCCOC'"
   ]
  },
  {
   "cell_type": "code",
   "execution_count": 180,
   "id": "1d3a3c87-1623-43e9-97e6-008b2776ea7e",
   "metadata": {},
   "outputs": [
    {
     "data": {
      "image/svg+xml": [
       "<svg xmlns=\"http://www.w3.org/2000/svg\" xmlns:rdkit=\"http://www.rdkit.org/xml\" xmlns:xlink=\"http://www.w3.org/1999/xlink\" version=\"1.1\" baseProfile=\"full\" xml:space=\"preserve\" width=\"500px\" height=\"300px\" viewBox=\"0 0 500 300\">\n",
       "<!-- END OF HEADER -->\n",
       "<rect style=\"opacity:1.0;fill:#FFFFFF;stroke:none\" width=\"500.0\" height=\"300.0\" x=\"0.0\" y=\"0.0\"> </rect>\n",
       "<path class=\"bond-0 atom-0 atom-1\" d=\"M 64.0,168.8 L 74.7,174.9\" style=\"fill:none;fill-rule:evenodd;stroke:#000000;stroke-width:2.0px;stroke-linecap:butt;stroke-linejoin:miter;stroke-opacity:1\"/>\n",
       "<path class=\"bond-0 atom-0 atom-1\" d=\"M 74.7,174.9 L 85.3,180.9\" style=\"fill:none;fill-rule:evenodd;stroke:#FF0000;stroke-width:2.0px;stroke-linecap:butt;stroke-linejoin:miter;stroke-opacity:1\"/>\n",
       "<path class=\"bond-1 atom-1 atom-2\" d=\"M 100.6,180.8 L 111.2,174.6\" style=\"fill:none;fill-rule:evenodd;stroke:#FF0000;stroke-width:2.0px;stroke-linecap:butt;stroke-linejoin:miter;stroke-opacity:1\"/>\n",
       "<path class=\"bond-1 atom-1 atom-2\" d=\"M 111.2,174.6 L 121.8,168.4\" style=\"fill:none;fill-rule:evenodd;stroke:#000000;stroke-width:2.0px;stroke-linecap:butt;stroke-linejoin:miter;stroke-opacity:1\"/>\n",
       "<path class=\"bond-2 atom-2 atom-3\" d=\"M 121.8,168.4 L 150.6,185.1\" style=\"fill:none;fill-rule:evenodd;stroke:#000000;stroke-width:2.0px;stroke-linecap:butt;stroke-linejoin:miter;stroke-opacity:1\"/>\n",
       "<path class=\"bond-3 atom-3 atom-4\" d=\"M 150.6,185.1 L 161.4,178.8\" style=\"fill:none;fill-rule:evenodd;stroke:#000000;stroke-width:2.0px;stroke-linecap:butt;stroke-linejoin:miter;stroke-opacity:1\"/>\n",
       "<path class=\"bond-3 atom-3 atom-4\" d=\"M 161.4,178.8 L 172.1,172.6\" style=\"fill:none;fill-rule:evenodd;stroke:#FF0000;stroke-width:2.0px;stroke-linecap:butt;stroke-linejoin:miter;stroke-opacity:1\"/>\n",
       "<path class=\"bond-4 atom-4 atom-5\" d=\"M 187.4,172.3 L 198.3,178.3\" style=\"fill:none;fill-rule:evenodd;stroke:#FF0000;stroke-width:2.0px;stroke-linecap:butt;stroke-linejoin:miter;stroke-opacity:1\"/>\n",
       "<path class=\"bond-4 atom-4 atom-5\" d=\"M 198.3,178.3 L 209.3,184.3\" style=\"fill:none;fill-rule:evenodd;stroke:#000000;stroke-width:2.0px;stroke-linecap:butt;stroke-linejoin:miter;stroke-opacity:1\"/>\n",
       "<path class=\"bond-5 atom-5 atom-6\" d=\"M 209.3,184.3 L 237.6,167.0\" style=\"fill:none;fill-rule:evenodd;stroke:#000000;stroke-width:2.0px;stroke-linecap:butt;stroke-linejoin:miter;stroke-opacity:1\"/>\n",
       "<path class=\"bond-6 atom-6 atom-7\" d=\"M 237.6,167.0 L 248.5,173.0\" style=\"fill:none;fill-rule:evenodd;stroke:#000000;stroke-width:2.0px;stroke-linecap:butt;stroke-linejoin:miter;stroke-opacity:1\"/>\n",
       "<path class=\"bond-6 atom-6 atom-7\" d=\"M 248.5,173.0 L 259.4,179.0\" style=\"fill:none;fill-rule:evenodd;stroke:#FF0000;stroke-width:2.0px;stroke-linecap:butt;stroke-linejoin:miter;stroke-opacity:1\"/>\n",
       "<path class=\"bond-7 atom-7 atom-8\" d=\"M 274.7,178.8 L 285.4,172.6\" style=\"fill:none;fill-rule:evenodd;stroke:#FF0000;stroke-width:2.0px;stroke-linecap:butt;stroke-linejoin:miter;stroke-opacity:1\"/>\n",
       "<path class=\"bond-7 atom-7 atom-8\" d=\"M 285.4,172.6 L 296.2,166.4\" style=\"fill:none;fill-rule:evenodd;stroke:#000000;stroke-width:2.0px;stroke-linecap:butt;stroke-linejoin:miter;stroke-opacity:1\"/>\n",
       "<path class=\"bond-8 atom-8 atom-9\" d=\"M 296.2,166.4 L 324.8,183.3\" style=\"fill:none;fill-rule:evenodd;stroke:#000000;stroke-width:2.0px;stroke-linecap:butt;stroke-linejoin:miter;stroke-opacity:1\"/>\n",
       "<path class=\"bond-9 atom-9 atom-10\" d=\"M 324.8,183.3 L 335.6,177.1\" style=\"fill:none;fill-rule:evenodd;stroke:#000000;stroke-width:2.0px;stroke-linecap:butt;stroke-linejoin:miter;stroke-opacity:1\"/>\n",
       "<path class=\"bond-9 atom-9 atom-10\" d=\"M 335.6,177.1 L 346.5,170.9\" style=\"fill:none;fill-rule:evenodd;stroke:#FF0000;stroke-width:2.0px;stroke-linecap:butt;stroke-linejoin:miter;stroke-opacity:1\"/>\n",
       "<path class=\"bond-10 atom-10 atom-11\" d=\"M 361.7,170.8 L 372.6,176.9\" style=\"fill:none;fill-rule:evenodd;stroke:#FF0000;stroke-width:2.0px;stroke-linecap:butt;stroke-linejoin:miter;stroke-opacity:1\"/>\n",
       "<path class=\"bond-10 atom-10 atom-11\" d=\"M 372.6,176.9 L 383.5,182.9\" style=\"fill:none;fill-rule:evenodd;stroke:#000000;stroke-width:2.0px;stroke-linecap:butt;stroke-linejoin:miter;stroke-opacity:1\"/>\n",
       "<path class=\"bond-11 atom-11 atom-12\" d=\"M 383.5,182.9 L 412.1,165.8\" style=\"fill:none;fill-rule:evenodd;stroke:#000000;stroke-width:2.0px;stroke-linecap:butt;stroke-linejoin:miter;stroke-opacity:1\"/>\n",
       "<path class=\"bond-12 atom-12 atom-13\" d=\"M 412.1,165.8 L 411.9,153.3\" style=\"fill:none;fill-rule:evenodd;stroke:#000000;stroke-width:2.0px;stroke-linecap:butt;stroke-linejoin:miter;stroke-opacity:1\"/>\n",
       "<path class=\"bond-12 atom-12 atom-13\" d=\"M 411.9,153.3 L 411.7,140.8\" style=\"fill:none;fill-rule:evenodd;stroke:#FF0000;stroke-width:2.0px;stroke-linecap:butt;stroke-linejoin:miter;stroke-opacity:1\"/>\n",
       "<path class=\"bond-13 atom-13 atom-14\" d=\"M 419.2,127.8 L 429.7,121.5\" style=\"fill:none;fill-rule:evenodd;stroke:#FF0000;stroke-width:2.0px;stroke-linecap:butt;stroke-linejoin:miter;stroke-opacity:1\"/>\n",
       "<path class=\"bond-13 atom-13 atom-14\" d=\"M 429.7,121.5 L 440.3,115.2\" style=\"fill:none;fill-rule:evenodd;stroke:#000000;stroke-width:2.0px;stroke-linecap:butt;stroke-linejoin:miter;stroke-opacity:1\"/>\n",
       "<path class=\"bond-14 atom-0 atom-15\" d=\"M 64.0,168.8 L 52.1,189.7\" style=\"fill:none;fill-rule:evenodd;stroke:#000000;stroke-width:2.0px;stroke-linecap:butt;stroke-linejoin:miter;stroke-opacity:1\"/>\n",
       "<path class=\"bond-15 atom-0 atom-16\" d=\"M 64.0,168.8 L 37.2,169.0\" style=\"fill:none;fill-rule:evenodd;stroke:#000000;stroke-width:2.0px;stroke-linecap:butt;stroke-linejoin:miter;stroke-opacity:1\"/>\n",
       "<path class=\"bond-16 atom-0 atom-17\" d=\"M 64.0,168.8 L 63.8,143.5\" style=\"fill:none;fill-rule:evenodd;stroke:#000000;stroke-width:2.0px;stroke-linecap:butt;stroke-linejoin:miter;stroke-opacity:1\"/>\n",
       "<path class=\"bond-17 atom-2 atom-18\" d=\"M 121.8,168.4 L 133.7,147.6\" style=\"fill:none;fill-rule:evenodd;stroke:#000000;stroke-width:2.0px;stroke-linecap:butt;stroke-linejoin:miter;stroke-opacity:1\"/>\n",
       "<path class=\"bond-18 atom-2 atom-19\" d=\"M 121.8,168.4 L 109.7,147.7\" style=\"fill:none;fill-rule:evenodd;stroke:#000000;stroke-width:2.0px;stroke-linecap:butt;stroke-linejoin:miter;stroke-opacity:1\"/>\n",
       "<path class=\"bond-19 atom-3 atom-20\" d=\"M 150.6,185.1 L 162.3,205.7\" style=\"fill:none;fill-rule:evenodd;stroke:#000000;stroke-width:2.0px;stroke-linecap:butt;stroke-linejoin:miter;stroke-opacity:1\"/>\n",
       "<path class=\"bond-20 atom-3 atom-21\" d=\"M 150.6,185.1 L 138.6,205.8\" style=\"fill:none;fill-rule:evenodd;stroke:#000000;stroke-width:2.0px;stroke-linecap:butt;stroke-linejoin:miter;stroke-opacity:1\"/>\n",
       "<path class=\"bond-21 atom-5 atom-22\" d=\"M 209.3,184.3 L 221.9,204.6\" style=\"fill:none;fill-rule:evenodd;stroke:#000000;stroke-width:2.0px;stroke-linecap:butt;stroke-linejoin:miter;stroke-opacity:1\"/>\n",
       "<path class=\"bond-22 atom-5 atom-23\" d=\"M 209.3,184.3 L 198.1,205.4\" style=\"fill:none;fill-rule:evenodd;stroke:#000000;stroke-width:2.0px;stroke-linecap:butt;stroke-linejoin:miter;stroke-opacity:1\"/>\n",
       "<path class=\"bond-23 atom-6 atom-24\" d=\"M 237.6,167.0 L 225.1,146.7\" style=\"fill:none;fill-rule:evenodd;stroke:#000000;stroke-width:2.0px;stroke-linecap:butt;stroke-linejoin:miter;stroke-opacity:1\"/>\n",
       "<path class=\"bond-24 atom-6 atom-25\" d=\"M 237.6,167.0 L 248.9,145.9\" style=\"fill:none;fill-rule:evenodd;stroke:#000000;stroke-width:2.0px;stroke-linecap:butt;stroke-linejoin:miter;stroke-opacity:1\"/>\n",
       "<path class=\"bond-25 atom-8 atom-26\" d=\"M 296.2,166.4 L 284.6,145.7\" style=\"fill:none;fill-rule:evenodd;stroke:#000000;stroke-width:2.0px;stroke-linecap:butt;stroke-linejoin:miter;stroke-opacity:1\"/>\n",
       "<path class=\"bond-26 atom-8 atom-27\" d=\"M 296.2,166.4 L 308.4,145.9\" style=\"fill:none;fill-rule:evenodd;stroke:#000000;stroke-width:2.0px;stroke-linecap:butt;stroke-linejoin:miter;stroke-opacity:1\"/>\n",
       "<path class=\"bond-27 atom-9 atom-28\" d=\"M 324.8,183.3 L 312.6,203.8\" style=\"fill:none;fill-rule:evenodd;stroke:#000000;stroke-width:2.0px;stroke-linecap:butt;stroke-linejoin:miter;stroke-opacity:1\"/>\n",
       "<path class=\"bond-28 atom-9 atom-29\" d=\"M 324.8,183.3 L 336.3,204.1\" style=\"fill:none;fill-rule:evenodd;stroke:#000000;stroke-width:2.0px;stroke-linecap:butt;stroke-linejoin:miter;stroke-opacity:1\"/>\n",
       "<path class=\"bond-29 atom-11 atom-30\" d=\"M 383.5,182.9 L 372.2,203.9\" style=\"fill:none;fill-rule:evenodd;stroke:#000000;stroke-width:2.0px;stroke-linecap:butt;stroke-linejoin:miter;stroke-opacity:1\"/>\n",
       "<path class=\"bond-30 atom-11 atom-31\" d=\"M 383.5,182.9 L 395.9,203.3\" style=\"fill:none;fill-rule:evenodd;stroke:#000000;stroke-width:2.0px;stroke-linecap:butt;stroke-linejoin:miter;stroke-opacity:1\"/>\n",
       "<path class=\"bond-31 atom-12 atom-32\" d=\"M 412.1,165.8 L 424.3,186.2\" style=\"fill:none;fill-rule:evenodd;stroke:#000000;stroke-width:2.0px;stroke-linecap:butt;stroke-linejoin:miter;stroke-opacity:1\"/>\n",
       "<path class=\"bond-32 atom-12 atom-33\" d=\"M 412.1,165.8 L 438.8,165.3\" style=\"fill:none;fill-rule:evenodd;stroke:#000000;stroke-width:2.0px;stroke-linecap:butt;stroke-linejoin:miter;stroke-opacity:1\"/>\n",
       "<path class=\"bond-33 atom-14 atom-34\" d=\"M 440.3,115.2 L 428.0,94.7\" style=\"fill:none;fill-rule:evenodd;stroke:#000000;stroke-width:2.0px;stroke-linecap:butt;stroke-linejoin:miter;stroke-opacity:1\"/>\n",
       "<path class=\"bond-34 atom-14 atom-35\" d=\"M 440.3,115.2 L 452.0,94.2\" style=\"fill:none;fill-rule:evenodd;stroke:#000000;stroke-width:2.0px;stroke-linecap:butt;stroke-linejoin:miter;stroke-opacity:1\"/>\n",
       "<path class=\"bond-35 atom-14 atom-36\" d=\"M 440.3,115.2 L 462.8,127.8\" style=\"fill:none;fill-rule:evenodd;stroke:#000000;stroke-width:2.0px;stroke-linecap:butt;stroke-linejoin:miter;stroke-opacity:1\"/>\n",
       "<path class=\"atom-1\" d=\"M 86.4 185.3 Q 86.4 181.9, 88.1 180.0 Q 89.8 178.1, 93.0 178.1 Q 96.1 178.1, 97.8 180.0 Q 99.5 181.9, 99.5 185.3 Q 99.5 188.8, 97.8 190.7 Q 96.1 192.7, 93.0 192.7 Q 89.8 192.7, 88.1 190.7 Q 86.4 188.8, 86.4 185.3 M 93.0 191.1 Q 95.1 191.1, 96.3 189.6 Q 97.5 188.2, 97.5 185.3 Q 97.5 182.5, 96.3 181.1 Q 95.1 179.7, 93.0 179.7 Q 90.8 179.7, 89.6 181.1 Q 88.4 182.5, 88.4 185.3 Q 88.4 188.2, 89.6 189.6 Q 90.8 191.1, 93.0 191.1 \" fill=\"#FF0000\"/>\n",
       "<path class=\"atom-4\" d=\"M 173.2 168.2 Q 173.2 164.8, 174.9 162.9 Q 176.6 161.0, 179.7 161.0 Q 182.9 161.0, 184.6 162.9 Q 186.3 164.8, 186.3 168.2 Q 186.3 171.7, 184.6 173.6 Q 182.9 175.6, 179.7 175.6 Q 176.6 175.6, 174.9 173.6 Q 173.2 171.7, 173.2 168.2 M 179.7 174.0 Q 181.9 174.0, 183.1 172.5 Q 184.3 171.0, 184.3 168.2 Q 184.3 165.4, 183.1 164.0 Q 181.9 162.6, 179.7 162.6 Q 177.6 162.6, 176.4 164.0 Q 175.2 165.4, 175.2 168.2 Q 175.2 171.1, 176.4 172.5 Q 177.6 174.0, 179.7 174.0 \" fill=\"#FF0000\"/>\n",
       "<path class=\"atom-7\" d=\"M 260.5 183.2 Q 260.5 179.8, 262.2 177.9 Q 263.9 176.0, 267.0 176.0 Q 270.2 176.0, 271.9 177.9 Q 273.6 179.8, 273.6 183.2 Q 273.6 186.7, 271.9 188.6 Q 270.2 190.6, 267.0 190.6 Q 263.9 190.6, 262.2 188.6 Q 260.5 186.7, 260.5 183.2 M 267.0 189.0 Q 269.2 189.0, 270.4 187.5 Q 271.6 186.1, 271.6 183.2 Q 271.6 180.4, 270.4 179.0 Q 269.2 177.6, 267.0 177.6 Q 264.9 177.6, 263.7 179.0 Q 262.5 180.4, 262.5 183.2 Q 262.5 186.1, 263.7 187.5 Q 264.9 189.0, 267.0 189.0 \" fill=\"#FF0000\"/>\n",
       "<path class=\"atom-10\" d=\"M 347.6 166.6 Q 347.6 163.2, 349.2 161.3 Q 350.9 159.4, 354.1 159.4 Q 357.2 159.4, 358.9 161.3 Q 360.6 163.2, 360.6 166.6 Q 360.6 170.0, 358.9 172.0 Q 357.2 174.0, 354.1 174.0 Q 350.9 174.0, 349.2 172.0 Q 347.6 170.1, 347.6 166.6 M 354.1 172.4 Q 356.2 172.4, 357.4 170.9 Q 358.6 169.4, 358.6 166.6 Q 358.6 163.8, 357.4 162.4 Q 356.2 161.0, 354.1 161.0 Q 351.9 161.0, 350.7 162.4 Q 349.6 163.8, 349.6 166.6 Q 349.6 169.5, 350.7 170.9 Q 351.9 172.4, 354.1 172.4 \" fill=\"#FF0000\"/>\n",
       "<path class=\"atom-13\" d=\"M 405.0 132.4 Q 405.0 128.9, 406.7 127.0 Q 408.4 125.1, 411.5 125.1 Q 414.7 125.1, 416.4 127.0 Q 418.1 128.9, 418.1 132.4 Q 418.1 135.8, 416.4 137.8 Q 414.7 139.7, 411.5 139.7 Q 408.4 139.7, 406.7 137.8 Q 405.0 135.8, 405.0 132.4 M 411.5 138.1 Q 413.7 138.1, 414.9 136.7 Q 416.1 135.2, 416.1 132.4 Q 416.1 129.6, 414.9 128.2 Q 413.7 126.7, 411.5 126.7 Q 409.4 126.7, 408.2 128.1 Q 407.0 129.5, 407.0 132.4 Q 407.0 135.2, 408.2 136.7 Q 409.4 138.1, 411.5 138.1 \" fill=\"#FF0000\"/>\n",
       "<path class=\"atom-15\" d=\"M 41.9 190.8 L 43.9 190.8 L 43.9 196.8 L 51.1 196.8 L 51.1 190.8 L 53.0 190.8 L 53.0 205.0 L 51.1 205.0 L 51.1 198.4 L 43.9 198.4 L 43.9 205.0 L 41.9 205.0 L 41.9 190.8 \" fill=\"#000000\"/>\n",
       "<path class=\"atom-16\" d=\"M 25.0 161.9 L 26.9 161.9 L 26.9 168.0 L 34.2 168.0 L 34.2 161.9 L 36.1 161.9 L 36.1 176.1 L 34.2 176.1 L 34.2 169.6 L 26.9 169.6 L 26.9 176.1 L 25.0 176.1 L 25.0 161.9 \" fill=\"#000000\"/>\n",
       "<path class=\"atom-17\" d=\"M 58.2 128.2 L 60.1 128.2 L 60.1 134.3 L 67.4 134.3 L 67.4 128.2 L 69.3 128.2 L 69.3 142.4 L 67.4 142.4 L 67.4 135.9 L 60.1 135.9 L 60.1 142.4 L 58.2 142.4 L 58.2 128.2 \" fill=\"#000000\"/>\n",
       "<path class=\"atom-18\" d=\"M 132.9 132.3 L 134.8 132.3 L 134.8 138.4 L 142.1 138.4 L 142.1 132.3 L 144.0 132.3 L 144.0 146.5 L 142.1 146.5 L 142.1 140.0 L 134.8 140.0 L 134.8 146.5 L 132.9 146.5 L 132.9 132.3 \" fill=\"#000000\"/>\n",
       "<path class=\"atom-19\" d=\"M 99.4 132.4 L 101.3 132.4 L 101.3 138.5 L 108.6 138.5 L 108.6 132.4 L 110.5 132.4 L 110.5 146.6 L 108.6 146.6 L 108.6 140.1 L 101.3 140.1 L 101.3 146.6 L 99.4 146.6 L 99.4 132.4 \" fill=\"#000000\"/>\n",
       "<path class=\"atom-20\" d=\"M 161.4 206.8 L 163.3 206.8 L 163.3 212.9 L 170.6 212.9 L 170.6 206.8 L 172.5 206.8 L 172.5 221.0 L 170.6 221.0 L 170.6 214.5 L 163.3 214.5 L 163.3 221.0 L 161.4 221.0 L 161.4 206.8 \" fill=\"#000000\"/>\n",
       "<path class=\"atom-21\" d=\"M 128.2 206.9 L 130.2 206.9 L 130.2 212.9 L 137.4 212.9 L 137.4 206.9 L 139.4 206.9 L 139.4 221.1 L 137.4 221.1 L 137.4 214.5 L 130.2 214.5 L 130.2 221.1 L 128.2 221.1 L 128.2 206.9 \" fill=\"#000000\"/>\n",
       "<path class=\"atom-22\" d=\"M 221.4 205.7 L 223.3 205.7 L 223.3 211.7 L 230.6 211.7 L 230.6 205.7 L 232.5 205.7 L 232.5 219.9 L 230.6 219.9 L 230.6 213.3 L 223.3 213.3 L 223.3 219.9 L 221.4 219.9 L 221.4 205.7 \" fill=\"#000000\"/>\n",
       "<path class=\"atom-23\" d=\"M 188.2 206.5 L 190.1 206.5 L 190.1 212.6 L 197.4 212.6 L 197.4 206.5 L 199.3 206.5 L 199.3 220.7 L 197.4 220.7 L 197.4 214.2 L 190.1 214.2 L 190.1 220.7 L 188.2 220.7 L 188.2 206.5 \" fill=\"#000000\"/>\n",
       "<path class=\"atom-24\" d=\"M 214.5 131.4 L 216.4 131.4 L 216.4 137.5 L 223.7 137.5 L 223.7 131.4 L 225.6 131.4 L 225.6 145.6 L 223.7 145.6 L 223.7 139.1 L 216.4 139.1 L 216.4 145.6 L 214.5 145.6 L 214.5 131.4 \" fill=\"#000000\"/>\n",
       "<path class=\"atom-25\" d=\"M 247.7 130.6 L 249.6 130.6 L 249.6 136.6 L 256.9 136.6 L 256.9 130.6 L 258.8 130.6 L 258.8 144.8 L 256.9 144.8 L 256.9 138.2 L 249.6 138.2 L 249.6 144.8 L 247.7 144.8 L 247.7 130.6 \" fill=\"#000000\"/>\n",
       "<path class=\"atom-26\" d=\"M 274.4 130.4 L 276.4 130.4 L 276.4 136.4 L 283.6 136.4 L 283.6 130.4 L 285.6 130.4 L 285.6 144.6 L 283.6 144.6 L 283.6 138.0 L 276.4 138.0 L 276.4 144.6 L 274.4 144.6 L 274.4 130.4 \" fill=\"#000000\"/>\n",
       "<path class=\"atom-27\" d=\"M 307.7 130.6 L 309.6 130.6 L 309.6 136.6 L 316.9 136.6 L 316.9 130.6 L 318.8 130.6 L 318.8 144.8 L 316.9 144.8 L 316.9 138.2 L 309.6 138.2 L 309.6 144.8 L 307.7 144.8 L 307.7 130.6 \" fill=\"#000000\"/>\n",
       "<path class=\"atom-28\" d=\"M 302.1 204.9 L 304.1 204.9 L 304.1 211.0 L 311.3 211.0 L 311.3 204.9 L 313.3 204.9 L 313.3 219.1 L 311.3 219.1 L 311.3 212.6 L 304.1 212.6 L 304.1 219.1 L 302.1 219.1 L 302.1 204.9 \" fill=\"#000000\"/>\n",
       "<path class=\"atom-29\" d=\"M 335.3 205.2 L 337.2 205.2 L 337.2 211.2 L 344.5 211.2 L 344.5 205.2 L 346.4 205.2 L 346.4 219.4 L 344.5 219.4 L 344.5 212.8 L 337.2 212.8 L 337.2 219.4 L 335.3 219.4 L 335.3 205.2 \" fill=\"#000000\"/>\n",
       "<path class=\"atom-30\" d=\"M 362.1 205.0 L 364.1 205.0 L 364.1 211.0 L 371.3 211.0 L 371.3 205.0 L 373.3 205.0 L 373.3 219.2 L 371.3 219.2 L 371.3 212.6 L 364.1 212.6 L 364.1 219.2 L 362.1 219.2 L 362.1 205.0 \" fill=\"#000000\"/>\n",
       "<path class=\"atom-31\" d=\"M 395.3 204.4 L 397.2 204.4 L 397.2 210.4 L 404.5 210.4 L 404.5 204.4 L 406.4 204.4 L 406.4 218.6 L 404.5 218.6 L 404.5 212.0 L 397.2 212.0 L 397.2 218.6 L 395.3 218.6 L 395.3 204.4 \" fill=\"#000000\"/>\n",
       "<path class=\"atom-32\" d=\"M 423.7 187.3 L 425.6 187.3 L 425.6 193.4 L 432.9 193.4 L 432.9 187.3 L 434.8 187.3 L 434.8 201.5 L 432.9 201.5 L 432.9 195.0 L 425.6 195.0 L 425.6 201.5 L 423.7 201.5 L 423.7 187.3 \" fill=\"#000000\"/>\n",
       "<path class=\"atom-33\" d=\"M 439.9 158.1 L 441.9 158.1 L 441.9 164.2 L 449.1 164.2 L 449.1 158.1 L 451.1 158.1 L 451.1 172.3 L 449.1 172.3 L 449.1 165.8 L 441.9 165.8 L 441.9 172.3 L 439.9 172.3 L 439.9 158.1 \" fill=\"#000000\"/>\n",
       "<path class=\"atom-34\" d=\"M 417.6 79.4 L 419.5 79.4 L 419.5 85.4 L 426.8 85.4 L 426.8 79.4 L 428.7 79.4 L 428.7 93.6 L 426.8 93.6 L 426.8 87.0 L 419.5 87.0 L 419.5 93.6 L 417.6 93.6 L 417.6 79.4 \" fill=\"#000000\"/>\n",
       "<path class=\"atom-35\" d=\"M 451.1 78.9 L 453.0 78.9 L 453.0 85.0 L 460.3 85.0 L 460.3 78.9 L 462.2 78.9 L 462.2 93.1 L 460.3 93.1 L 460.3 86.6 L 453.0 86.6 L 453.0 93.1 L 451.1 93.1 L 451.1 78.9 \" fill=\"#000000\"/>\n",
       "<path class=\"atom-36\" d=\"M 463.9 124.5 L 465.8 124.5 L 465.8 130.5 L 473.1 130.5 L 473.1 124.5 L 475.0 124.5 L 475.0 138.7 L 473.1 138.7 L 473.1 132.1 L 465.8 132.1 L 465.8 138.7 L 463.9 138.7 L 463.9 124.5 \" fill=\"#000000\"/>\n",
       "</svg>"
      ],
      "text/plain": [
       "<IPython.core.display.SVG object>"
      ]
     },
     "execution_count": 180,
     "metadata": {},
     "output_type": "execute_result"
    }
   ],
   "source": [
    "tetra = Molecule.from_smiles(tetraglyme_smiles)\n",
    "tetra.generate_conformers(n_conformers=1)\n",
    "NAGLToolkitWrapper().assign_partial_charges(tetra, 'openff-gnn-am1bcc-0.1.0-rc.3.pt')\n",
    "tetra.visualize()"
   ]
  },
  {
   "cell_type": "code",
   "execution_count": 182,
   "id": "28ae200b-45aa-4ba2-a022-921b5c9bc446",
   "metadata": {},
   "outputs": [
    {
     "name": "stdout",
     "output_type": "stream",
     "text": [
      "working on percent tetra 10(270:30)\n",
      "working on percent tetra 20(240:60)\n",
      "working on percent tetra 30(210:90)\n",
      "working on percent tetra 40(180:120)\n",
      "working on percent tetra 50(150:150)\n"
     ]
    }
   ],
   "source": [
    "n_ions = [270,240,210,180,150]\n",
    "n_tetra = [30,60,90,120,150]\n",
    "percent_tetra = [10,20,30,40,50]\n",
    "\n",
    "for n1,n2,p in zip(n_ions,n_tetra,percent_tetra):\n",
    "    print(f\"working on percent tetra {p}({n1}:{n2})\")\n",
    "    \n",
    "    packed_mixture_topology = pack_box(\n",
    "        molecules=[anion,cations[3],tetra],\n",
    "        number_of_copies=[n1,n1,n2],\n",
    "        solute=None,\n",
    "        tolerance=1.0*unit.angstrom,\n",
    "        box_vectors=cubic_box,\n",
    "    )\n",
    "    \n",
    "    interchange = Interchange.from_smirnoff(\n",
    "        force_field=ForceField(\"openff-2.2.0.offxml\"),charge_from_molecules=[anion,cations[3],tetra],\n",
    "        topology=packed_mixture_topology, box=cubic_box\n",
    "    )\n",
    "\n",
    "    interchange.minimize()\n",
    "    interchange.to_gro(f'il_neutral{p:d}.gro')\n",
    "    interchange.to_top(f'il_neutral{p:d}.top')\n",
    "    interchange.to_lammps(f'il_neutral{p:d}.lmp')\n"
   ]
  },
  {
   "cell_type": "markdown",
   "id": "6e283d20-1d9d-42f0-ad02-a2cedf9136f0",
   "metadata": {},
   "source": [
    "### Deep Eutectics"
   ]
  },
  {
   "cell_type": "code",
   "execution_count": 17,
   "id": "b1992b17-ee35-4d5d-920a-13c09696f63b",
   "metadata": {},
   "outputs": [],
   "source": [
    "# bigish box\n",
    "cubic_box = unit.Quantity(60 * np.eye(3), unit.angstrom)\n",
    "n_ccl = [250,200,175,150,125,0]\n",
    "n_eg = [500,600,700,750,750,1000]\n",
    "ratios = [12,13,14,15,16,0]\n",
    "EG_smiles = 'OCCO'\n",
    "choline_smiles = 'C[N+](C)(C)CCO' \n",
    "CL_smiles = '[Cl-]'"
   ]
  },
  {
   "cell_type": "code",
   "execution_count": 19,
   "id": "8defc678-0b6e-4570-97e7-2e8035c4fea4",
   "metadata": {},
   "outputs": [
    {
     "data": {
      "image/svg+xml": [
       "<svg xmlns=\"http://www.w3.org/2000/svg\" xmlns:rdkit=\"http://www.rdkit.org/xml\" xmlns:xlink=\"http://www.w3.org/1999/xlink\" version=\"1.1\" baseProfile=\"full\" xml:space=\"preserve\" width=\"500px\" height=\"300px\" viewBox=\"0 0 500 300\">\n",
       "<!-- END OF HEADER -->\n",
       "<rect style=\"opacity:1.0;fill:#FFFFFF;stroke:none\" width=\"500.0\" height=\"300.0\" x=\"0.0\" y=\"0.0\"> </rect>\n",
       "<path class=\"bond-0 atom-0 atom-1\" d=\"M 359.2,164.9 L 325.5,145.4\" style=\"fill:none;fill-rule:evenodd;stroke:#FF0000;stroke-width:2.0px;stroke-linecap:butt;stroke-linejoin:miter;stroke-opacity:1\"/>\n",
       "<path class=\"bond-0 atom-0 atom-1\" d=\"M 325.5,145.4 L 291.8,125.9\" style=\"fill:none;fill-rule:evenodd;stroke:#000000;stroke-width:2.0px;stroke-linecap:butt;stroke-linejoin:miter;stroke-opacity:1\"/>\n",
       "<path class=\"bond-1 atom-1 atom-2\" d=\"M 291.8,125.9 L 208.2,174.1\" style=\"fill:none;fill-rule:evenodd;stroke:#000000;stroke-width:2.0px;stroke-linecap:butt;stroke-linejoin:miter;stroke-opacity:1\"/>\n",
       "<path class=\"bond-2 atom-2 atom-3\" d=\"M 208.2,174.1 L 174.5,154.6\" style=\"fill:none;fill-rule:evenodd;stroke:#000000;stroke-width:2.0px;stroke-linecap:butt;stroke-linejoin:miter;stroke-opacity:1\"/>\n",
       "<path class=\"bond-2 atom-2 atom-3\" d=\"M 174.5,154.6 L 140.8,135.1\" style=\"fill:none;fill-rule:evenodd;stroke:#FF0000;stroke-width:2.0px;stroke-linecap:butt;stroke-linejoin:miter;stroke-opacity:1\"/>\n",
       "<path class=\"bond-3 atom-0 atom-4\" d=\"M 391.5,164.9 L 418.1,149.6\" style=\"fill:none;fill-rule:evenodd;stroke:#FF0000;stroke-width:2.0px;stroke-linecap:butt;stroke-linejoin:miter;stroke-opacity:1\"/>\n",
       "<path class=\"bond-3 atom-0 atom-4\" d=\"M 418.1,149.6 L 444.7,134.3\" style=\"fill:none;fill-rule:evenodd;stroke:#000000;stroke-width:2.0px;stroke-linecap:butt;stroke-linejoin:miter;stroke-opacity:1\"/>\n",
       "<path class=\"bond-4 atom-1 atom-5\" d=\"M 291.8,125.9 L 253.6,59.6\" style=\"fill:none;fill-rule:evenodd;stroke:#000000;stroke-width:2.0px;stroke-linecap:butt;stroke-linejoin:miter;stroke-opacity:1\"/>\n",
       "<path class=\"bond-5 atom-1 atom-6\" d=\"M 291.8,125.9 L 330.1,59.7\" style=\"fill:none;fill-rule:evenodd;stroke:#000000;stroke-width:2.0px;stroke-linecap:butt;stroke-linejoin:miter;stroke-opacity:1\"/>\n",
       "<path class=\"bond-6 atom-2 atom-7\" d=\"M 208.2,174.1 L 246.4,240.4\" style=\"fill:none;fill-rule:evenodd;stroke:#000000;stroke-width:2.0px;stroke-linecap:butt;stroke-linejoin:miter;stroke-opacity:1\"/>\n",
       "<path class=\"bond-7 atom-2 atom-8\" d=\"M 208.2,174.1 L 169.9,240.3\" style=\"fill:none;fill-rule:evenodd;stroke:#000000;stroke-width:2.0px;stroke-linecap:butt;stroke-linejoin:miter;stroke-opacity:1\"/>\n",
       "<path class=\"bond-8 atom-3 atom-9\" d=\"M 108.5,135.1 L 81.9,150.4\" style=\"fill:none;fill-rule:evenodd;stroke:#FF0000;stroke-width:2.0px;stroke-linecap:butt;stroke-linejoin:miter;stroke-opacity:1\"/>\n",
       "<path class=\"bond-8 atom-3 atom-9\" d=\"M 81.9,150.4 L 55.3,165.7\" style=\"fill:none;fill-rule:evenodd;stroke:#000000;stroke-width:2.0px;stroke-linecap:butt;stroke-linejoin:miter;stroke-opacity:1\"/>\n",
       "<path class=\"atom-0\" d=\"M 362.3 174.3 Q 362.3 167.5, 365.7 163.7 Q 369.1 159.9, 375.3 159.9 Q 381.6 159.9, 385.0 163.7 Q 388.3 167.5, 388.3 174.3 Q 388.3 181.2, 384.9 185.1 Q 381.5 189.0, 375.3 189.0 Q 369.1 189.0, 365.7 185.1 Q 362.3 181.2, 362.3 174.3 M 375.3 185.8 Q 379.7 185.8, 382.0 182.9 Q 384.3 180.0, 384.3 174.3 Q 384.3 168.7, 382.0 165.9 Q 379.7 163.1, 375.3 163.1 Q 371.0 163.1, 368.7 165.9 Q 366.3 168.7, 366.3 174.3 Q 366.3 180.0, 368.7 182.9 Q 371.0 185.8, 375.3 185.8 \" fill=\"#FF0000\"/>\n",
       "<path class=\"atom-3\" d=\"M 111.7 125.9 Q 111.7 119.1, 115.0 115.3 Q 118.4 111.5, 124.7 111.5 Q 130.9 111.5, 134.3 115.3 Q 137.7 119.1, 137.7 125.9 Q 137.7 132.7, 134.3 136.7 Q 130.9 140.5, 124.7 140.5 Q 118.4 140.5, 115.0 136.7 Q 111.7 132.8, 111.7 125.9 M 124.7 137.3 Q 129.0 137.3, 131.3 134.5 Q 133.7 131.5, 133.7 125.9 Q 133.7 120.3, 131.3 117.5 Q 129.0 114.7, 124.7 114.7 Q 120.3 114.7, 118.0 117.5 Q 115.7 120.3, 115.7 125.9 Q 115.7 131.6, 118.0 134.5 Q 120.3 137.3, 124.7 137.3 \" fill=\"#FF0000\"/>\n",
       "<path class=\"atom-4\" d=\"M 447.9 111.9 L 451.7 111.9 L 451.7 123.9 L 466.2 123.9 L 466.2 111.9 L 470.0 111.9 L 470.0 140.2 L 466.2 140.2 L 466.2 127.1 L 451.7 127.1 L 451.7 140.2 L 447.9 140.2 L 447.9 111.9 \" fill=\"#000000\"/>\n",
       "<path class=\"atom-5\" d=\"M 232.5 28.1 L 236.4 28.1 L 236.4 40.2 L 250.9 40.2 L 250.9 28.1 L 254.7 28.1 L 254.7 56.5 L 250.9 56.5 L 250.9 43.4 L 236.4 43.4 L 236.4 56.5 L 232.5 56.5 L 232.5 28.1 \" fill=\"#000000\"/>\n",
       "<path class=\"atom-6\" d=\"M 329.0 28.2 L 332.9 28.2 L 332.9 40.3 L 347.4 40.3 L 347.4 28.2 L 351.2 28.2 L 351.2 56.5 L 347.4 56.5 L 347.4 43.5 L 332.9 43.5 L 332.9 56.5 L 329.0 56.5 L 329.0 28.2 \" fill=\"#000000\"/>\n",
       "<path class=\"atom-7\" d=\"M 245.3 243.5 L 249.1 243.5 L 249.1 255.6 L 263.6 255.6 L 263.6 243.5 L 267.5 243.5 L 267.5 271.9 L 263.6 271.9 L 263.6 258.8 L 249.1 258.8 L 249.1 271.9 L 245.3 271.9 L 245.3 243.5 \" fill=\"#000000\"/>\n",
       "<path class=\"atom-8\" d=\"M 148.8 243.5 L 152.6 243.5 L 152.6 255.5 L 167.1 255.5 L 167.1 243.5 L 171.0 243.5 L 171.0 271.8 L 167.1 271.8 L 167.1 258.7 L 152.6 258.7 L 152.6 271.8 L 148.8 271.8 L 148.8 243.5 \" fill=\"#000000\"/>\n",
       "<path class=\"atom-9\" d=\"M 30.0 159.8 L 33.8 159.8 L 33.8 171.8 L 48.3 171.8 L 48.3 159.8 L 52.1 159.8 L 52.1 188.1 L 48.3 188.1 L 48.3 175.0 L 33.8 175.0 L 33.8 188.1 L 30.0 188.1 L 30.0 159.8 \" fill=\"#000000\"/>\n",
       "</svg>"
      ],
      "text/plain": [
       "<IPython.core.display.SVG object>"
      ]
     },
     "execution_count": 19,
     "metadata": {},
     "output_type": "execute_result"
    }
   ],
   "source": [
    "eg = Molecule.from_smiles(EG_smiles)\n",
    "eg.generate_conformers(n_conformers=1)\n",
    "NAGLToolkitWrapper().assign_partial_charges(eg, 'openff-gnn-am1bcc-0.1.0-rc.3.pt')\n",
    "eg.visualize()"
   ]
  },
  {
   "cell_type": "code",
   "execution_count": 20,
   "id": "faf11a77-a845-40d8-acca-63796a335626",
   "metadata": {},
   "outputs": [
    {
     "data": {
      "image/svg+xml": [
       "<svg xmlns=\"http://www.w3.org/2000/svg\" xmlns:rdkit=\"http://www.rdkit.org/xml\" xmlns:xlink=\"http://www.w3.org/1999/xlink\" version=\"1.1\" baseProfile=\"full\" xml:space=\"preserve\" width=\"500px\" height=\"300px\" viewBox=\"0 0 500 300\">\n",
       "<!-- END OF HEADER -->\n",
       "<rect style=\"opacity:1.0;fill:#FFFFFF;stroke:none\" width=\"500.0\" height=\"300.0\" x=\"0.0\" y=\"0.0\"> </rect>\n",
       "<path class=\"bond-0 atom-0 atom-1\" d=\"M 277.7,228.7 L 267.1,214.1\" style=\"fill:none;fill-rule:evenodd;stroke:#000000;stroke-width:2.0px;stroke-linecap:butt;stroke-linejoin:miter;stroke-opacity:1\"/>\n",
       "<path class=\"bond-0 atom-0 atom-1\" d=\"M 267.1,214.1 L 256.5,199.6\" style=\"fill:none;fill-rule:evenodd;stroke:#0000FF;stroke-width:2.0px;stroke-linecap:butt;stroke-linejoin:miter;stroke-opacity:1\"/>\n",
       "<path class=\"bond-1 atom-1 atom-2\" d=\"M 239.2,194.8 L 221.3,207.8\" style=\"fill:none;fill-rule:evenodd;stroke:#0000FF;stroke-width:2.0px;stroke-linecap:butt;stroke-linejoin:miter;stroke-opacity:1\"/>\n",
       "<path class=\"bond-1 atom-1 atom-2\" d=\"M 221.3,207.8 L 203.4,220.9\" style=\"fill:none;fill-rule:evenodd;stroke:#000000;stroke-width:2.0px;stroke-linecap:butt;stroke-linejoin:miter;stroke-opacity:1\"/>\n",
       "<path class=\"bond-2 atom-1 atom-3\" d=\"M 240.2,176.8 L 231.3,164.3\" style=\"fill:none;fill-rule:evenodd;stroke:#0000FF;stroke-width:2.0px;stroke-linecap:butt;stroke-linejoin:miter;stroke-opacity:1\"/>\n",
       "<path class=\"bond-2 atom-1 atom-3\" d=\"M 231.3,164.3 L 222.5,151.8\" style=\"fill:none;fill-rule:evenodd;stroke:#000000;stroke-width:2.0px;stroke-linecap:butt;stroke-linejoin:miter;stroke-opacity:1\"/>\n",
       "<path class=\"bond-3 atom-1 atom-4\" d=\"M 263.2,176.7 L 279.5,164.2\" style=\"fill:none;fill-rule:evenodd;stroke:#0000FF;stroke-width:2.0px;stroke-linecap:butt;stroke-linejoin:miter;stroke-opacity:1\"/>\n",
       "<path class=\"bond-3 atom-1 atom-4\" d=\"M 279.5,164.2 L 295.7,151.8\" style=\"fill:none;fill-rule:evenodd;stroke:#000000;stroke-width:2.0px;stroke-linecap:butt;stroke-linejoin:miter;stroke-opacity:1\"/>\n",
       "<path class=\"bond-4 atom-4 atom-5\" d=\"M 295.7,151.8 L 295.9,95.2\" style=\"fill:none;fill-rule:evenodd;stroke:#000000;stroke-width:2.0px;stroke-linecap:butt;stroke-linejoin:miter;stroke-opacity:1\"/>\n",
       "<path class=\"bond-5 atom-5 atom-6\" d=\"M 295.9,95.2 L 310.8,86.5\" style=\"fill:none;fill-rule:evenodd;stroke:#000000;stroke-width:2.0px;stroke-linecap:butt;stroke-linejoin:miter;stroke-opacity:1\"/>\n",
       "<path class=\"bond-5 atom-5 atom-6\" d=\"M 310.8,86.5 L 325.8,77.8\" style=\"fill:none;fill-rule:evenodd;stroke:#FF0000;stroke-width:2.0px;stroke-linecap:butt;stroke-linejoin:miter;stroke-opacity:1\"/>\n",
       "<path class=\"bond-6 atom-0 atom-7\" d=\"M 277.7,228.7 L 251.9,248.5\" style=\"fill:none;fill-rule:evenodd;stroke:#000000;stroke-width:2.0px;stroke-linecap:butt;stroke-linejoin:miter;stroke-opacity:1\"/>\n",
       "<path class=\"bond-7 atom-0 atom-8\" d=\"M 277.7,228.7 L 281.1,263.8\" style=\"fill:none;fill-rule:evenodd;stroke:#000000;stroke-width:2.0px;stroke-linecap:butt;stroke-linejoin:miter;stroke-opacity:1\"/>\n",
       "<path class=\"bond-8 atom-0 atom-9\" d=\"M 277.7,228.7 L 314.0,226.2\" style=\"fill:none;fill-rule:evenodd;stroke:#000000;stroke-width:2.0px;stroke-linecap:butt;stroke-linejoin:miter;stroke-opacity:1\"/>\n",
       "<path class=\"bond-9 atom-2 atom-10\" d=\"M 203.4,220.9 L 184.6,198.8\" style=\"fill:none;fill-rule:evenodd;stroke:#000000;stroke-width:2.0px;stroke-linecap:butt;stroke-linejoin:miter;stroke-opacity:1\"/>\n",
       "<path class=\"bond-10 atom-2 atom-11\" d=\"M 203.4,220.9 L 166.6,225.0\" style=\"fill:none;fill-rule:evenodd;stroke:#000000;stroke-width:2.0px;stroke-linecap:butt;stroke-linejoin:miter;stroke-opacity:1\"/>\n",
       "<path class=\"bond-11 atom-2 atom-12\" d=\"M 203.4,220.9 L 205.4,255.0\" style=\"fill:none;fill-rule:evenodd;stroke:#000000;stroke-width:2.0px;stroke-linecap:butt;stroke-linejoin:miter;stroke-opacity:1\"/>\n",
       "<path class=\"bond-12 atom-3 atom-13\" d=\"M 222.5,151.8 L 251.4,135.7\" style=\"fill:none;fill-rule:evenodd;stroke:#000000;stroke-width:2.0px;stroke-linecap:butt;stroke-linejoin:miter;stroke-opacity:1\"/>\n",
       "<path class=\"bond-13 atom-3 atom-14\" d=\"M 222.5,151.8 L 221.2,122.3\" style=\"fill:none;fill-rule:evenodd;stroke:#000000;stroke-width:2.0px;stroke-linecap:butt;stroke-linejoin:miter;stroke-opacity:1\"/>\n",
       "<path class=\"bond-14 atom-3 atom-15\" d=\"M 222.5,151.8 L 188.7,151.3\" style=\"fill:none;fill-rule:evenodd;stroke:#000000;stroke-width:2.0px;stroke-linecap:butt;stroke-linejoin:miter;stroke-opacity:1\"/>\n",
       "<path class=\"bond-15 atom-4 atom-16\" d=\"M 295.7,151.8 L 315.0,177.0\" style=\"fill:none;fill-rule:evenodd;stroke:#000000;stroke-width:2.0px;stroke-linecap:butt;stroke-linejoin:miter;stroke-opacity:1\"/>\n",
       "<path class=\"bond-16 atom-4 atom-17\" d=\"M 295.7,151.8 L 333.4,149.3\" style=\"fill:none;fill-rule:evenodd;stroke:#000000;stroke-width:2.0px;stroke-linecap:butt;stroke-linejoin:miter;stroke-opacity:1\"/>\n",
       "<path class=\"bond-17 atom-5 atom-18\" d=\"M 295.9,95.2 L 262.3,93.4\" style=\"fill:none;fill-rule:evenodd;stroke:#000000;stroke-width:2.0px;stroke-linecap:butt;stroke-linejoin:miter;stroke-opacity:1\"/>\n",
       "<path class=\"bond-18 atom-5 atom-19\" d=\"M 295.9,95.2 L 280.0,66.1\" style=\"fill:none;fill-rule:evenodd;stroke:#000000;stroke-width:2.0px;stroke-linecap:butt;stroke-linejoin:miter;stroke-opacity:1\"/>\n",
       "<path class=\"bond-19 atom-6 atom-20\" d=\"M 336.3,60.2 L 336.2,48.2\" style=\"fill:none;fill-rule:evenodd;stroke:#FF0000;stroke-width:2.0px;stroke-linecap:butt;stroke-linejoin:miter;stroke-opacity:1\"/>\n",
       "<path class=\"bond-19 atom-6 atom-20\" d=\"M 336.2,48.2 L 336.0,36.2\" style=\"fill:none;fill-rule:evenodd;stroke:#000000;stroke-width:2.0px;stroke-linecap:butt;stroke-linejoin:miter;stroke-opacity:1\"/>\n",
       "<path class=\"atom-1\" d=\"M 243.8 178.3 L 250.3 188.8 Q 250.9 189.8, 251.9 191.7 Q 253.0 193.5, 253.0 193.6 L 253.0 178.3 L 255.6 178.3 L 255.6 198.0 L 252.9 198.0 L 246.0 186.6 Q 245.2 185.3, 244.4 183.8 Q 243.5 182.2, 243.3 181.8 L 243.3 198.0 L 240.7 198.0 L 240.7 178.3 L 243.8 178.3 \" fill=\"#0000FF\"/>\n",
       "<path class=\"atom-1\" d=\"M 259.3 181.9 L 262.8 181.9 L 262.8 178.2 L 264.4 178.2 L 264.4 181.9 L 267.9 181.9 L 267.9 183.2 L 264.4 183.2 L 264.4 186.9 L 262.8 186.9 L 262.8 183.2 L 259.3 183.2 L 259.3 181.9 \" fill=\"#0000FF\"/>\n",
       "<path class=\"atom-6\" d=\"M 327.3 71.7 Q 327.3 67.0, 329.7 64.3 Q 332.0 61.7, 336.4 61.7 Q 340.7 61.7, 343.1 64.3 Q 345.4 67.0, 345.4 71.7 Q 345.4 76.5, 343.0 79.2 Q 340.7 81.9, 336.4 81.9 Q 332.0 81.9, 329.7 79.2 Q 327.3 76.5, 327.3 71.7 M 336.4 79.7 Q 339.4 79.7, 341.0 77.7 Q 342.6 75.7, 342.6 71.7 Q 342.6 67.8, 341.0 65.9 Q 339.4 63.9, 336.4 63.9 Q 333.4 63.9, 331.7 65.9 Q 330.1 67.8, 330.1 71.7 Q 330.1 75.7, 331.7 77.7 Q 333.4 79.7, 336.4 79.7 \" fill=\"#FF0000\"/>\n",
       "<path class=\"atom-7\" d=\"M 234.9 245.8 L 237.6 245.8 L 237.6 254.2 L 247.7 254.2 L 247.7 245.8 L 250.3 245.8 L 250.3 265.5 L 247.7 265.5 L 247.7 256.4 L 237.6 256.4 L 237.6 265.5 L 234.9 265.5 L 234.9 245.8 \" fill=\"#000000\"/>\n",
       "<path class=\"atom-8\" d=\"M 274.5 265.3 L 277.2 265.3 L 277.2 273.7 L 287.2 273.7 L 287.2 265.3 L 289.9 265.3 L 289.9 285.0 L 287.2 285.0 L 287.2 275.9 L 277.2 275.9 L 277.2 285.0 L 274.5 285.0 L 274.5 265.3 \" fill=\"#000000\"/>\n",
       "<path class=\"atom-9\" d=\"M 315.5 215.7 L 318.2 215.7 L 318.2 224.0 L 328.2 224.0 L 328.2 215.7 L 330.9 215.7 L 330.9 235.3 L 328.2 235.3 L 328.2 226.3 L 318.2 226.3 L 318.2 235.3 L 315.5 235.3 L 315.5 215.7 \" fill=\"#000000\"/>\n",
       "<path class=\"atom-10\" d=\"M 167.6 178.1 L 170.3 178.1 L 170.3 186.5 L 180.3 186.5 L 180.3 178.1 L 183.0 178.1 L 183.0 197.8 L 180.3 197.8 L 180.3 188.7 L 170.3 188.7 L 170.3 197.8 L 167.6 197.8 L 167.6 178.1 \" fill=\"#000000\"/>\n",
       "<path class=\"atom-11\" d=\"M 149.7 216.2 L 152.3 216.2 L 152.3 224.6 L 162.4 224.6 L 162.4 216.2 L 165.1 216.2 L 165.1 235.9 L 162.4 235.9 L 162.4 226.8 L 152.3 226.8 L 152.3 235.9 L 149.7 235.9 L 149.7 216.2 \" fill=\"#000000\"/>\n",
       "<path class=\"atom-12\" d=\"M 198.4 256.6 L 201.1 256.6 L 201.1 265.0 L 211.1 265.0 L 211.1 256.6 L 213.8 256.6 L 213.8 276.3 L 211.1 276.3 L 211.1 267.2 L 201.1 267.2 L 201.1 276.3 L 198.4 276.3 L 198.4 256.6 \" fill=\"#000000\"/>\n",
       "<path class=\"atom-13\" d=\"M 253.0 120.7 L 255.6 120.7 L 255.6 129.0 L 265.7 129.0 L 265.7 120.7 L 268.4 120.7 L 268.4 140.3 L 265.7 140.3 L 265.7 131.2 L 255.6 131.2 L 255.6 140.3 L 253.0 140.3 L 253.0 120.7 \" fill=\"#000000\"/>\n",
       "<path class=\"atom-14\" d=\"M 213.0 101.1 L 215.7 101.1 L 215.7 109.5 L 225.7 109.5 L 225.7 101.1 L 228.4 101.1 L 228.4 120.8 L 225.7 120.8 L 225.7 111.7 L 215.7 111.7 L 215.7 120.8 L 213.0 120.8 L 213.0 101.1 \" fill=\"#000000\"/>\n",
       "<path class=\"atom-15\" d=\"M 171.7 141.3 L 174.4 141.3 L 174.4 149.7 L 184.4 149.7 L 184.4 141.3 L 187.1 141.3 L 187.1 161.0 L 184.4 161.0 L 184.4 151.9 L 174.4 151.9 L 174.4 161.0 L 171.7 161.0 L 171.7 141.3 \" fill=\"#000000\"/>\n",
       "<path class=\"atom-16\" d=\"M 316.0 178.5 L 318.7 178.5 L 318.7 186.9 L 328.8 186.9 L 328.8 178.5 L 331.4 178.5 L 331.4 198.2 L 328.8 198.2 L 328.8 189.1 L 318.7 189.1 L 318.7 198.2 L 316.0 198.2 L 316.0 178.5 \" fill=\"#000000\"/>\n",
       "<path class=\"atom-17\" d=\"M 334.9 138.8 L 337.6 138.8 L 337.6 147.2 L 347.7 147.2 L 347.7 138.8 L 350.3 138.8 L 350.3 158.5 L 347.7 158.5 L 347.7 149.4 L 337.6 149.4 L 337.6 158.5 L 334.9 158.5 L 334.9 138.8 \" fill=\"#000000\"/>\n",
       "<path class=\"atom-18\" d=\"M 245.4 83.1 L 248.0 83.1 L 248.0 91.5 L 258.1 91.5 L 258.1 83.1 L 260.7 83.1 L 260.7 102.8 L 258.1 102.8 L 258.1 93.7 L 248.0 93.7 L 248.0 102.8 L 245.4 102.8 L 245.4 83.1 \" fill=\"#000000\"/>\n",
       "<path class=\"atom-19\" d=\"M 266.0 44.9 L 268.7 44.9 L 268.7 53.2 L 278.8 53.2 L 278.8 44.9 L 281.4 44.9 L 281.4 64.6 L 278.8 64.6 L 278.8 55.5 L 268.7 55.5 L 268.7 64.6 L 266.0 64.6 L 266.0 44.9 \" fill=\"#000000\"/>\n",
       "<path class=\"atom-20\" d=\"M 328.2 15.0 L 330.9 15.0 L 330.9 23.4 L 341.0 23.4 L 341.0 15.0 L 343.6 15.0 L 343.6 34.7 L 341.0 34.7 L 341.0 25.6 L 330.9 25.6 L 330.9 34.7 L 328.2 34.7 L 328.2 15.0 \" fill=\"#000000\"/>\n",
       "</svg>"
      ],
      "text/plain": [
       "<IPython.core.display.SVG object>"
      ]
     },
     "execution_count": 20,
     "metadata": {},
     "output_type": "execute_result"
    }
   ],
   "source": [
    "choline = Molecule.from_smiles(choline_smiles)\n",
    "choline.generate_conformers(n_conformers=1)\n",
    "NAGLToolkitWrapper().assign_partial_charges(choline, 'openff-gnn-am1bcc-0.1.0-rc.3.pt')\n",
    "choline.visualize()"
   ]
  },
  {
   "cell_type": "code",
   "execution_count": 21,
   "id": "67e5c725-468c-4f3e-bcf2-1c7aa49cf609",
   "metadata": {},
   "outputs": [],
   "source": [
    "import openff.units\n",
    "cl = Molecule.from_smiles(CL_smiles)\n",
    "cl.generate_conformers(n_conformers=1)\n",
    "# kludge, there's probably a better way to do this.\n",
    "cl.partial_charges = np.asarray([-1]) * openff.units.unit.elementary_charge"
   ]
  },
  {
   "cell_type": "code",
   "execution_count": 22,
   "id": "9bd23d2f-0334-48a0-8b1a-222717baef77",
   "metadata": {},
   "outputs": [
    {
     "name": "stdout",
     "output_type": "stream",
     "text": [
      "working on ratio 12(250:500)\n",
      "working on ratio 13(200:600)\n",
      "working on ratio 14(175:700)\n",
      "working on ratio 15(150:750)\n",
      "working on ratio 16(125:750)\n"
     ]
    }
   ],
   "source": [
    "for n1,n2,r in zip(n_ccl,n_eg,ratios):\n",
    "    if r==0:\n",
    "        break\n",
    "    print(f\"working on ratio {r}({n1}:{n2})\")\n",
    "    \n",
    "    packed_mixture_topology = pack_box(\n",
    "        molecules=[choline,cl,eg],\n",
    "        number_of_copies=[n1,n1,n2],\n",
    "        solute=None,\n",
    "        tolerance=1.0*unit.angstrom,\n",
    "        box_vectors=cubic_box,\n",
    "    )\n",
    "    \n",
    "    interchange = Interchange.from_smirnoff(\n",
    "        force_field=ForceField(\"openff-2.2.0.offxml\"),charge_from_molecules=[choline,cl,eg],\n",
    "        topology=packed_mixture_topology, box=cubic_box\n",
    "    )\n",
    "\n",
    "    interchange.minimize()\n",
    "    interchange.to_gro(f'des{r:d}.gro')\n",
    "    interchange.to_top(f'des{r:d}.top')\n",
    "    interchange.to_lammps(f'des{r:d}.lmp')"
   ]
  },
  {
   "cell_type": "code",
   "execution_count": 23,
   "id": "4395362d-ce89-4fd9-84a4-3e5ae16eb63c",
   "metadata": {},
   "outputs": [
    {
     "name": "stdout",
     "output_type": "stream",
     "text": [
      "working on eg_pure (0:1000)\n"
     ]
    }
   ],
   "source": [
    "print(f\"working on eg_pure ({0}:{1000})\")\n",
    "    \n",
    "packed_mixture_topology = pack_box(\n",
    "    molecules=[eg],\n",
    "    number_of_copies=[n_eg[-1]],\n",
    "    solute=None,\n",
    "    tolerance=1.0*unit.angstrom,\n",
    "    box_vectors=cubic_box,\n",
    ")\n",
    "    \n",
    "interchange = Interchange.from_smirnoff(\n",
    "    force_field=ForceField(\"openff-2.2.0.offxml\"),charge_from_molecules=[eg],\n",
    "    topology=packed_mixture_topology, box=cubic_box\n",
    ")\n",
    "\n",
    "interchange.minimize()\n",
    "interchange.to_gro(f'despure_eg.gro')\n",
    "interchange.to_top(f'despure_eg.top')\n",
    "interchange.to_lammps(f'despure_eg.lmp')"
   ]
  },
  {
   "cell_type": "code",
   "execution_count": 36,
   "id": "ecd3ca68-54f1-4227-858e-42a36fd0adae",
   "metadata": {},
   "outputs": [
    {
     "name": "stdout",
     "output_type": "stream",
     "text": [
      "Help on method to_lammps in module openff.interchange.components.interchange:\n",
      "\n",
      "to_lammps(file_path: pathlib.Path | str, writer='internal') method of openff.interchange.components.interchange.Interchange instance\n",
      "    Export this Interchange to a LAMMPS data file.\n",
      "\n"
     ]
    }
   ],
   "source": [
    "help(interchange.to_lammps)"
   ]
  },
  {
   "cell_type": "code",
   "execution_count": null,
   "id": "4b14319b-b88a-456a-aa84-cdc773c50993",
   "metadata": {},
   "outputs": [],
   "source": []
  }
 ],
 "metadata": {
  "kernelspec": {
   "display_name": "Python 3 (ipykernel)",
   "language": "python",
   "name": "python3"
  },
  "language_info": {
   "codemirror_mode": {
    "name": "ipython",
    "version": 3
   },
   "file_extension": ".py",
   "mimetype": "text/x-python",
   "name": "python",
   "nbconvert_exporter": "python",
   "pygments_lexer": "ipython3",
   "version": "3.12.5"
  }
 },
 "nbformat": 4,
 "nbformat_minor": 5
}
