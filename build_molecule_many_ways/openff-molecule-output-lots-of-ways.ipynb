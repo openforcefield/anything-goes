{
 "cells": [
  {
   "cell_type": "markdown",
   "metadata": {},
   "source": [
    "## Using OpenForce toolkit to parameterize molecules"
   ]
  },
  {
   "cell_type": "code",
   "execution_count": 69,
   "metadata": {},
   "outputs": [],
   "source": [
    "from openff.toolkit import Molecule, Topology, ForceField\n",
    "from openff.interchange import Interchange\n",
    "from openff.units import unit, Quantity\n",
    "from openff.toolkit.utils.toolkits import NAGLToolkitWrapper\n",
    "import numpy as np"
   ]
  },
  {
   "cell_type": "markdown",
   "metadata": {},
   "source": [
    "Define a molecule via SMILES 1D representation"
   ]
  },
  {
   "cell_type": "code",
   "execution_count": 70,
   "metadata": {},
   "outputs": [
    {
     "data": {
      "image/svg+xml": [
       "<svg xmlns=\"http://www.w3.org/2000/svg\" xmlns:rdkit=\"http://www.rdkit.org/xml\" xmlns:xlink=\"http://www.w3.org/1999/xlink\" version=\"1.1\" baseProfile=\"full\" xml:space=\"preserve\" width=\"500px\" height=\"300px\" viewBox=\"0 0 500 300\">\n",
       "<!-- END OF HEADER -->\n",
       "<rect style=\"opacity:1.0;fill:#FFFFFF;stroke:none\" width=\"500.0\" height=\"300.0\" x=\"0.0\" y=\"0.0\"> </rect>\n",
       "<path class=\"bond-0 atom-0 atom-1\" d=\"M 192.0,183.6 L 249.9,217.5\" style=\"fill:none;fill-rule:evenodd;stroke:#000000;stroke-width:2.0px;stroke-linecap:butt;stroke-linejoin:miter;stroke-opacity:1\"/>\n",
       "<path class=\"bond-1 atom-1 atom-2\" d=\"M 249.9,217.5 L 308.0,184.0\" style=\"fill:none;fill-rule:evenodd;stroke:#000000;stroke-width:2.0px;stroke-linecap:butt;stroke-linejoin:miter;stroke-opacity:1\"/>\n",
       "<path class=\"bond-2 atom-2 atom-3\" d=\"M 308.0,184.0 L 308.3,116.9\" style=\"fill:none;fill-rule:evenodd;stroke:#000000;stroke-width:2.0px;stroke-linecap:butt;stroke-linejoin:miter;stroke-opacity:1\"/>\n",
       "<path class=\"bond-3 atom-3 atom-4\" d=\"M 308.3,116.9 L 250.5,83.3\" style=\"fill:none;fill-rule:evenodd;stroke:#000000;stroke-width:2.0px;stroke-linecap:butt;stroke-linejoin:miter;stroke-opacity:1\"/>\n",
       "<path class=\"bond-4 atom-4 atom-5\" d=\"M 250.5,83.3 L 192.2,116.5\" style=\"fill:none;fill-rule:evenodd;stroke:#000000;stroke-width:2.0px;stroke-linecap:butt;stroke-linejoin:miter;stroke-opacity:1\"/>\n",
       "<path class=\"bond-5 atom-5 atom-0\" d=\"M 192.2,116.5 L 192.0,183.6\" style=\"fill:none;fill-rule:evenodd;stroke:#000000;stroke-width:2.0px;stroke-linecap:butt;stroke-linejoin:miter;stroke-opacity:1\"/>\n",
       "<path class=\"bond-6 atom-0 atom-6\" d=\"M 192.0,183.6 L 172.3,227.7\" style=\"fill:none;fill-rule:evenodd;stroke:#000000;stroke-width:2.0px;stroke-linecap:butt;stroke-linejoin:miter;stroke-opacity:1\"/>\n",
       "<path class=\"bond-7 atom-0 atom-7\" d=\"M 192.0,183.6 L 139.0,175.5\" style=\"fill:none;fill-rule:evenodd;stroke:#000000;stroke-width:2.0px;stroke-linecap:butt;stroke-linejoin:miter;stroke-opacity:1\"/>\n",
       "<path class=\"bond-8 atom-1 atom-8\" d=\"M 249.9,217.5 L 277.0,254.1\" style=\"fill:none;fill-rule:evenodd;stroke:#000000;stroke-width:2.0px;stroke-linecap:butt;stroke-linejoin:miter;stroke-opacity:1\"/>\n",
       "<path class=\"bond-9 atom-1 atom-9\" d=\"M 249.9,217.5 L 223.2,254.5\" style=\"fill:none;fill-rule:evenodd;stroke:#000000;stroke-width:2.0px;stroke-linecap:butt;stroke-linejoin:miter;stroke-opacity:1\"/>\n",
       "<path class=\"bond-10 atom-2 atom-10\" d=\"M 308.0,184.0 L 361.0,176.0\" style=\"fill:none;fill-rule:evenodd;stroke:#000000;stroke-width:2.0px;stroke-linecap:butt;stroke-linejoin:miter;stroke-opacity:1\"/>\n",
       "<path class=\"bond-11 atom-2 atom-11\" d=\"M 308.0,184.0 L 328.2,227.6\" style=\"fill:none;fill-rule:evenodd;stroke:#000000;stroke-width:2.0px;stroke-linecap:butt;stroke-linejoin:miter;stroke-opacity:1\"/>\n",
       "<path class=\"bond-12 atom-3 atom-12\" d=\"M 308.3,116.9 L 327.4,72.4\" style=\"fill:none;fill-rule:evenodd;stroke:#000000;stroke-width:2.0px;stroke-linecap:butt;stroke-linejoin:miter;stroke-opacity:1\"/>\n",
       "<path class=\"bond-13 atom-3 atom-13\" d=\"M 308.3,116.9 L 347.3,120.9\" style=\"fill:none;fill-rule:evenodd;stroke:#000000;stroke-width:2.0px;stroke-linecap:butt;stroke-linejoin:miter;stroke-opacity:1\"/>\n",
       "<path class=\"bond-14 atom-4 atom-14\" d=\"M 250.5,83.3 L 230.7,56.2\" style=\"fill:none;fill-rule:evenodd;stroke:#000000;stroke-width:2.0px;stroke-linecap:butt;stroke-linejoin:miter;stroke-opacity:1\"/>\n",
       "<path class=\"bond-15 atom-4 atom-15\" d=\"M 250.5,83.3 L 276.7,45.5\" style=\"fill:none;fill-rule:evenodd;stroke:#000000;stroke-width:2.0px;stroke-linecap:butt;stroke-linejoin:miter;stroke-opacity:1\"/>\n",
       "<path class=\"bond-16 atom-5 atom-16\" d=\"M 192.2,116.5 L 152.2,120.3\" style=\"fill:none;fill-rule:evenodd;stroke:#000000;stroke-width:2.0px;stroke-linecap:butt;stroke-linejoin:miter;stroke-opacity:1\"/>\n",
       "<path class=\"bond-17 atom-5 atom-17\" d=\"M 192.2,116.5 L 173.7,70.8\" style=\"fill:none;fill-rule:evenodd;stroke:#000000;stroke-width:2.0px;stroke-linecap:butt;stroke-linejoin:miter;stroke-opacity:1\"/>\n",
       "<path class=\"atom-6\" d=\"M 153.9 229.8 L 157.8 229.8 L 157.8 241.9 L 172.2 241.9 L 172.2 229.8 L 176.1 229.8 L 176.1 258.2 L 172.2 258.2 L 172.2 245.1 L 157.8 245.1 L 157.8 258.2 L 153.9 258.2 L 153.9 229.8 \" fill=\"#000000\"/>\n",
       "<path class=\"atom-7\" d=\"M 114.7 159.3 L 118.5 159.3 L 118.5 171.4 L 133.0 171.4 L 133.0 159.3 L 136.8 159.3 L 136.8 187.6 L 133.0 187.6 L 133.0 174.6 L 118.5 174.6 L 118.5 187.6 L 114.7 187.6 L 114.7 159.3 \" fill=\"#000000\"/>\n",
       "<path class=\"atom-8\" d=\"M 278.0 256.2 L 281.8 256.2 L 281.8 268.3 L 296.3 268.3 L 296.3 256.2 L 300.1 256.2 L 300.1 284.5 L 296.3 284.5 L 296.3 271.5 L 281.8 271.5 L 281.8 284.5 L 278.0 284.5 L 278.0 256.2 \" fill=\"#000000\"/>\n",
       "<path class=\"atom-9\" d=\"M 200.4 256.6 L 204.2 256.6 L 204.2 268.7 L 218.7 268.7 L 218.7 256.6 L 222.5 256.6 L 222.5 284.9 L 218.7 284.9 L 218.7 271.9 L 204.2 271.9 L 204.2 284.9 L 200.4 284.9 L 200.4 256.6 \" fill=\"#000000\"/>\n",
       "<path class=\"atom-10\" d=\"M 363.2 159.9 L 367.0 159.9 L 367.0 171.9 L 381.5 171.9 L 381.5 159.9 L 385.3 159.9 L 385.3 188.2 L 381.5 188.2 L 381.5 175.1 L 367.0 175.1 L 367.0 188.2 L 363.2 188.2 L 363.2 159.9 \" fill=\"#000000\"/>\n",
       "<path class=\"atom-11\" d=\"M 324.6 229.7 L 328.5 229.7 L 328.5 241.7 L 342.9 241.7 L 342.9 229.7 L 346.8 229.7 L 346.8 258.0 L 342.9 258.0 L 342.9 244.9 L 328.5 244.9 L 328.5 258.0 L 324.6 258.0 L 324.6 229.7 \" fill=\"#000000\"/>\n",
       "<path class=\"atom-12\" d=\"M 323.2 42.0 L 327.1 42.0 L 327.1 54.0 L 341.6 54.0 L 341.6 42.0 L 345.4 42.0 L 345.4 70.3 L 341.6 70.3 L 341.6 57.2 L 327.1 57.2 L 327.1 70.3 L 323.2 70.3 L 323.2 42.0 \" fill=\"#000000\"/>\n",
       "<path class=\"atom-13\" d=\"M 349.4 108.0 L 353.3 108.0 L 353.3 120.1 L 367.7 120.1 L 367.7 108.0 L 371.6 108.0 L 371.6 136.4 L 367.7 136.4 L 367.7 123.3 L 353.3 123.3 L 353.3 136.4 L 349.4 136.4 L 349.4 108.0 \" fill=\"#000000\"/>\n",
       "<path class=\"atom-14\" d=\"M 207.8 25.8 L 211.7 25.8 L 211.7 37.8 L 226.1 37.8 L 226.1 25.8 L 230.0 25.8 L 230.0 54.1 L 226.1 54.1 L 226.1 41.0 L 211.7 41.0 L 211.7 54.1 L 207.8 54.1 L 207.8 25.8 \" fill=\"#000000\"/>\n",
       "<path class=\"atom-15\" d=\"M 276.9 15.1 L 280.8 15.1 L 280.8 27.1 L 295.2 27.1 L 295.2 15.1 L 299.1 15.1 L 299.1 43.4 L 295.2 43.4 L 295.2 30.3 L 280.8 30.3 L 280.8 43.4 L 276.9 43.4 L 276.9 15.1 \" fill=\"#000000\"/>\n",
       "<path class=\"atom-16\" d=\"M 128.0 107.4 L 131.8 107.4 L 131.8 119.4 L 146.3 119.4 L 146.3 107.4 L 150.1 107.4 L 150.1 135.7 L 146.3 135.7 L 146.3 122.6 L 131.8 122.6 L 131.8 135.7 L 128.0 135.7 L 128.0 107.4 \" fill=\"#000000\"/>\n",
       "<path class=\"atom-17\" d=\"M 156.0 40.4 L 159.9 40.4 L 159.9 52.4 L 174.3 52.4 L 174.3 40.4 L 178.2 40.4 L 178.2 68.7 L 174.3 68.7 L 174.3 55.6 L 159.9 55.6 L 159.9 68.7 L 156.0 68.7 L 156.0 40.4 \" fill=\"#000000\"/>\n",
       "</svg>"
      ],
      "text/plain": [
       "<IPython.core.display.SVG object>"
      ]
     },
     "execution_count": 70,
     "metadata": {},
     "output_type": "execute_result"
    }
   ],
   "source": [
    "mol_smiles = \"C1CCCCC1\" # cyclohexane\n",
    "\n",
    "monomer = Molecule.from_smiles(mol_smiles) \n",
    "monomer.visualize()"
   ]
  },
  {
   "cell_type": "code",
   "execution_count": 71,
   "metadata": {},
   "outputs": [],
   "source": [
    "# assign a force field\n",
    "sage = ForceField(\"openff-2.2.0.offxml\")\n",
    "# big box\n",
    "cubic_box = unit.Quantity(50 * np.eye(3), unit.angstrom)"
   ]
  },
  {
   "cell_type": "code",
   "execution_count": 72,
   "metadata": {},
   "outputs": [],
   "source": [
    "# use RDkit to generate a conformer\n",
    "monomer.generate_conformers(n_conformers=1)\n",
    "\n",
    "# create the internal representation\n",
    "topology = Topology.from_molecules(monomer)\n",
    "\n",
    "# create the interchange object. Note- is parameterizing with AM1-BCC\n",
    "solute_interchange = Interchange.from_smirnoff(topology=[monomer], \n",
    "                                                   force_field=sage, box = cubic_box)\n",
    "\n",
    "# approximately minimize energy with OpenMM\n",
    "solute_interchange.minimize()"
   ]
  },
  {
   "cell_type": "code",
   "execution_count": 94,
   "metadata": {},
   "outputs": [],
   "source": [
    "# lammps files\n",
    "solute_interchange.to_lammps('monomer.lmp')\n",
    "\n",
    "# gromacs files\n",
    "solute_interchange.to_gro('monomer.gro')\n",
    "solute_interchange.to_top('monomer.top')\n",
    "\n",
    "# amber files\n",
    "solute_interchange.to_prmtop('monomer.prmtop') \n",
    "solute_interchange.to_inpcrd(\"monomer.inpcrd\")"
   ]
  },
  {
   "cell_type": "markdown",
   "metadata": {},
   "source": [
    "### Version that packs a box with the designated molecule."
   ]
  },
  {
   "cell_type": "code",
   "execution_count": 74,
   "metadata": {},
   "outputs": [],
   "source": [
    "from openff.interchange.components._packmol import pack_box"
   ]
  },
  {
   "cell_type": "code",
   "execution_count": 75,
   "metadata": {},
   "outputs": [],
   "source": [
    "n_solute = 200\n",
    "#Define the box\n",
    "# this box may be too big, will need to be equilibrated\n",
    "cubic_box = unit.Quantity(35 * np.eye(3), unit.angstrom)\n",
    "\n",
    "monomer.generate_conformers(n_conformers=1) \n",
    "# above generates a single conformation, could potentially make a more complicated version\n",
    "# with multiple configurations?\n",
    "\n",
    "packed_topology = pack_box(\n",
    "        molecules=[monomer],\n",
    "        number_of_copies=[n_solute],\n",
    "        solute=None,\n",
    "        tolerance=1.0*unit.angstrom,\n",
    "        box_vectors=cubic_box,\n",
    "    )"
   ]
  },
  {
   "cell_type": "code",
   "execution_count": 76,
   "metadata": {},
   "outputs": [],
   "source": [
    "packed_interchange = Interchange.from_smirnoff(\n",
    "            force_field=ForceField(\"openff-2.2.0.offxml\"),\n",
    "            topology=packed_topology, box=cubic_box)"
   ]
  },
  {
   "cell_type": "code",
   "execution_count": 77,
   "metadata": {},
   "outputs": [],
   "source": [
    "# Minimize with OpenMM\n",
    "packed_interchange.minimize()"
   ]
  },
  {
   "cell_type": "code",
   "execution_count": 78,
   "metadata": {},
   "outputs": [],
   "source": [
    "# create lammps files\n",
    "packed_interchange.to_lammps('monomer_packed.lmp')\n",
    "\n",
    "# create gromacs files\n",
    "packed_interchange.to_gro('monomer_packed.gro')\n",
    "packed_interchange.to_top('monomer_packed.top')\n",
    "\n",
    "# create amber files\n",
    "packed_interchange.to_prmtop('monomer_packed.prmtop') \n",
    "packed_interchange.to_inpcrd(\"monomer_packed.inpcrd\")"
   ]
  },
  {
   "cell_type": "code",
   "execution_count": null,
   "metadata": {},
   "outputs": [],
   "source": []
  },
  {
   "cell_type": "code",
   "execution_count": null,
   "metadata": {},
   "outputs": [],
   "source": []
  },
  {
   "cell_type": "markdown",
   "metadata": {},
   "source": [
    "### Solvating the molecule in water"
   ]
  },
  {
   "cell_type": "code",
   "execution_count": 79,
   "metadata": {},
   "outputs": [],
   "source": [
    "# Construct a water molecule\n",
    "water = Molecule.from_smiles(\"O\")\n",
    "water.generate_conformers(n_conformers=1)"
   ]
  },
  {
   "cell_type": "code",
   "execution_count": 80,
   "metadata": {},
   "outputs": [],
   "source": [
    "# Pack the box with an arbitrary number of water around the solute.\n",
    "\n",
    "cubic_box = unit.Quantity(30 * np.eye(3), unit.angstrom)\n",
    "n_water = 900\n",
    "\n",
    "from openff.interchange.components._packmol import pack_box\n",
    "packed_topology = pack_box(\n",
    "    molecules=[water],\n",
    "    number_of_copies=[n_water],\n",
    "    solute=Topology.from_molecules(monomer),\n",
    "    tolerance=0.5*unit.angstrom,\n",
    "    box_vectors=cubic_box,\n",
    ")"
   ]
  },
  {
   "cell_type": "code",
   "execution_count": 81,
   "metadata": {},
   "outputs": [],
   "source": [
    "solvated_interchange = Interchange.from_smirnoff(\n",
    "    force_field=ForceField(\"openff-2.2.0.offxml\",\"opc3.offxml\"),\n",
    "    topology=packed_topology,\n",
    "    box=cubic_box\n",
    ")"
   ]
  },
  {
   "cell_type": "code",
   "execution_count": 82,
   "metadata": {},
   "outputs": [],
   "source": [
    "# approximately minimize energy with OpenMM\n",
    "solute_interchange.minimize()"
   ]
  },
  {
   "cell_type": "code",
   "execution_count": 83,
   "metadata": {},
   "outputs": [],
   "source": [
    "# lammps files\n",
    "solvated_interchange.to_lammps('solvated_molecule.lmp')"
   ]
  },
  {
   "cell_type": "code",
   "execution_count": 84,
   "metadata": {},
   "outputs": [],
   "source": [
    "# gromacs files\n",
    "solvated_interchange.to_gro('solvated_molecule.gro')\n",
    "solvated_interchange.to_top('solvated_molecule.top')"
   ]
  },
  {
   "cell_type": "code",
   "execution_count": 85,
   "metadata": {},
   "outputs": [],
   "source": [
    "# for kicks, amber files\n",
    "solvated_interchange.to_prmtop('solvated_molecule.prmtop') \n",
    "solvated_interchange.to_inpcrd(\"solvated_molecule.inpcrd\")"
   ]
  },
  {
   "cell_type": "markdown",
   "metadata": {},
   "source": [
    "### Creating a mixture"
   ]
  },
  {
   "cell_type": "code",
   "execution_count": 86,
   "metadata": {},
   "outputs": [
    {
     "data": {
      "image/svg+xml": [
       "<svg xmlns=\"http://www.w3.org/2000/svg\" xmlns:rdkit=\"http://www.rdkit.org/xml\" xmlns:xlink=\"http://www.w3.org/1999/xlink\" version=\"1.1\" baseProfile=\"full\" xml:space=\"preserve\" width=\"500px\" height=\"300px\" viewBox=\"0 0 500 300\">\n",
       "<!-- END OF HEADER -->\n",
       "<rect style=\"opacity:1.0;fill:#FFFFFF;stroke:none\" width=\"500.0\" height=\"300.0\" x=\"0.0\" y=\"0.0\"> </rect>\n",
       "<path class=\"bond-0 atom-0 atom-1\" d=\"M 379.5,94.0 L 378.2,168.2\" style=\"fill:none;fill-rule:evenodd;stroke:#000000;stroke-width:2.0px;stroke-linecap:butt;stroke-linejoin:miter;stroke-opacity:1\"/>\n",
       "<path class=\"bond-1 atom-1 atom-2\" d=\"M 378.2,168.2 L 313.6,205.3\" style=\"fill:none;fill-rule:evenodd;stroke:#000000;stroke-width:2.0px;stroke-linecap:butt;stroke-linejoin:miter;stroke-opacity:1\"/>\n",
       "<path class=\"bond-2 atom-2 atom-3\" d=\"M 313.6,205.3 L 248.2,168.4\" style=\"fill:none;fill-rule:evenodd;stroke:#000000;stroke-width:2.0px;stroke-linecap:butt;stroke-linejoin:miter;stroke-opacity:1\"/>\n",
       "<path class=\"bond-3 atom-3 atom-4\" d=\"M 248.2,168.4 L 183.6,204.9\" style=\"fill:none;fill-rule:evenodd;stroke:#000000;stroke-width:2.0px;stroke-linecap:butt;stroke-linejoin:miter;stroke-opacity:1\"/>\n",
       "<path class=\"bond-4 atom-4 atom-5\" d=\"M 183.6,204.9 L 120.5,167.3\" style=\"fill:none;fill-rule:evenodd;stroke:#000000;stroke-width:2.0px;stroke-linecap:butt;stroke-linejoin:miter;stroke-opacity:1\"/>\n",
       "<path class=\"bond-5 atom-0 atom-6\" d=\"M 379.5,94.0 L 439.7,94.9\" style=\"fill:none;fill-rule:evenodd;stroke:#000000;stroke-width:2.0px;stroke-linecap:butt;stroke-linejoin:miter;stroke-opacity:1\"/>\n",
       "<path class=\"bond-6 atom-0 atom-7\" d=\"M 379.5,94.0 L 407.5,47.3\" style=\"fill:none;fill-rule:evenodd;stroke:#000000;stroke-width:2.0px;stroke-linecap:butt;stroke-linejoin:miter;stroke-opacity:1\"/>\n",
       "<path class=\"bond-7 atom-0 atom-8\" d=\"M 379.5,94.0 L 330.7,64.4\" style=\"fill:none;fill-rule:evenodd;stroke:#000000;stroke-width:2.0px;stroke-linecap:butt;stroke-linejoin:miter;stroke-opacity:1\"/>\n",
       "<path class=\"bond-8 atom-1 atom-9\" d=\"M 378.2,168.2 L 405.2,215.9\" style=\"fill:none;fill-rule:evenodd;stroke:#000000;stroke-width:2.0px;stroke-linecap:butt;stroke-linejoin:miter;stroke-opacity:1\"/>\n",
       "<path class=\"bond-9 atom-1 atom-10\" d=\"M 378.2,168.2 L 438.4,169.1\" style=\"fill:none;fill-rule:evenodd;stroke:#000000;stroke-width:2.0px;stroke-linecap:butt;stroke-linejoin:miter;stroke-opacity:1\"/>\n",
       "<path class=\"bond-10 atom-2 atom-11\" d=\"M 313.6,205.3 L 287.3,252.7\" style=\"fill:none;fill-rule:evenodd;stroke:#000000;stroke-width:2.0px;stroke-linecap:butt;stroke-linejoin:miter;stroke-opacity:1\"/>\n",
       "<path class=\"bond-11 atom-2 atom-12\" d=\"M 313.6,205.3 L 341.2,252.4\" style=\"fill:none;fill-rule:evenodd;stroke:#000000;stroke-width:2.0px;stroke-linecap:butt;stroke-linejoin:miter;stroke-opacity:1\"/>\n",
       "<path class=\"bond-12 atom-3 atom-13\" d=\"M 248.2,168.4 L 274.6,121.6\" style=\"fill:none;fill-rule:evenodd;stroke:#000000;stroke-width:2.0px;stroke-linecap:butt;stroke-linejoin:miter;stroke-opacity:1\"/>\n",
       "<path class=\"bond-13 atom-3 atom-14\" d=\"M 248.2,168.4 L 220.9,121.0\" style=\"fill:none;fill-rule:evenodd;stroke:#000000;stroke-width:2.0px;stroke-linecap:butt;stroke-linejoin:miter;stroke-opacity:1\"/>\n",
       "<path class=\"bond-14 atom-4 atom-15\" d=\"M 183.6,204.9 L 209.7,252.4\" style=\"fill:none;fill-rule:evenodd;stroke:#000000;stroke-width:2.0px;stroke-linecap:butt;stroke-linejoin:miter;stroke-opacity:1\"/>\n",
       "<path class=\"bond-15 atom-4 atom-16\" d=\"M 183.6,204.9 L 155.6,251.5\" style=\"fill:none;fill-rule:evenodd;stroke:#000000;stroke-width:2.0px;stroke-linecap:butt;stroke-linejoin:miter;stroke-opacity:1\"/>\n",
       "<path class=\"bond-16 atom-5 atom-17\" d=\"M 120.5,167.3 L 92.7,214.1\" style=\"fill:none;fill-rule:evenodd;stroke:#000000;stroke-width:2.0px;stroke-linecap:butt;stroke-linejoin:miter;stroke-opacity:1\"/>\n",
       "<path class=\"bond-17 atom-5 atom-18\" d=\"M 120.5,167.3 L 60.3,166.5\" style=\"fill:none;fill-rule:evenodd;stroke:#000000;stroke-width:2.0px;stroke-linecap:butt;stroke-linejoin:miter;stroke-opacity:1\"/>\n",
       "<path class=\"bond-18 atom-5 atom-19\" d=\"M 120.5,167.3 L 121.3,110.0\" style=\"fill:none;fill-rule:evenodd;stroke:#000000;stroke-width:2.0px;stroke-linecap:butt;stroke-linejoin:miter;stroke-opacity:1\"/>\n",
       "<path class=\"atom-6\" d=\"M 442.1 80.9 L 445.9 80.9 L 445.9 93.0 L 460.4 93.0 L 460.4 80.9 L 464.3 80.9 L 464.3 109.2 L 460.4 109.2 L 460.4 96.2 L 445.9 96.2 L 445.9 109.2 L 442.1 109.2 L 442.1 80.9 \" fill=\"#000000\"/>\n",
       "<path class=\"atom-7\" d=\"M 406.3 16.5 L 410.2 16.5 L 410.2 28.6 L 424.7 28.6 L 424.7 16.5 L 428.5 16.5 L 428.5 44.8 L 424.7 44.8 L 424.7 31.8 L 410.2 31.8 L 410.2 44.8 L 406.3 44.8 L 406.3 16.5 \" fill=\"#000000\"/>\n",
       "<path class=\"atom-8\" d=\"M 306.1 42.0 L 309.9 42.0 L 309.9 54.0 L 324.4 54.0 L 324.4 42.0 L 328.2 42.0 L 328.2 70.3 L 324.4 70.3 L 324.4 57.2 L 309.9 57.2 L 309.9 70.3 L 306.1 70.3 L 306.1 42.0 \" fill=\"#000000\"/>\n",
       "<path class=\"atom-9\" d=\"M 403.5 218.4 L 407.3 218.4 L 407.3 230.4 L 421.8 230.4 L 421.8 218.4 L 425.6 218.4 L 425.6 246.7 L 421.8 246.7 L 421.8 233.6 L 407.3 233.6 L 407.3 246.7 L 403.5 246.7 L 403.5 218.4 \" fill=\"#000000\"/>\n",
       "<path class=\"atom-10\" d=\"M 440.8 155.1 L 444.7 155.1 L 444.7 167.2 L 459.2 167.2 L 459.2 155.1 L 463.0 155.1 L 463.0 183.4 L 459.2 183.4 L 459.2 170.4 L 444.7 170.4 L 444.7 183.4 L 440.8 183.4 L 440.8 155.1 \" fill=\"#000000\"/>\n",
       "<path class=\"atom-11\" d=\"M 267.0 255.2 L 270.8 255.2 L 270.8 267.2 L 285.3 267.2 L 285.3 255.2 L 289.1 255.2 L 289.1 283.5 L 285.3 283.5 L 285.3 270.4 L 270.8 270.4 L 270.8 283.5 L 267.0 283.5 L 267.0 255.2 \" fill=\"#000000\"/>\n",
       "<path class=\"atom-12\" d=\"M 339.9 254.9 L 343.7 254.9 L 343.7 266.9 L 358.2 266.9 L 358.2 254.9 L 362.0 254.9 L 362.0 283.2 L 358.2 283.2 L 358.2 270.1 L 343.7 270.1 L 343.7 283.2 L 339.9 283.2 L 339.9 254.9 \" fill=\"#000000\"/>\n",
       "<path class=\"atom-13\" d=\"M 272.9 90.8 L 276.8 90.8 L 276.8 102.9 L 291.2 102.9 L 291.2 90.8 L 295.1 90.8 L 295.1 119.2 L 291.2 119.2 L 291.2 106.1 L 276.8 106.1 L 276.8 119.2 L 272.9 119.2 L 272.9 90.8 \" fill=\"#000000\"/>\n",
       "<path class=\"atom-14\" d=\"M 200.3 90.3 L 204.1 90.3 L 204.1 102.3 L 218.6 102.3 L 218.6 90.3 L 222.4 90.3 L 222.4 118.6 L 218.6 118.6 L 218.6 105.5 L 204.1 105.5 L 204.1 118.6 L 200.3 118.6 L 200.3 90.3 \" fill=\"#000000\"/>\n",
       "<path class=\"atom-15\" d=\"M 207.8 254.9 L 211.6 254.9 L 211.6 266.9 L 226.1 266.9 L 226.1 254.9 L 230.0 254.9 L 230.0 283.2 L 226.1 283.2 L 226.1 270.1 L 211.6 270.1 L 211.6 283.2 L 207.8 283.2 L 207.8 254.9 \" fill=\"#000000\"/>\n",
       "<path class=\"atom-16\" d=\"M 134.6 254.0 L 138.4 254.0 L 138.4 266.0 L 152.9 266.0 L 152.9 254.0 L 156.8 254.0 L 156.8 282.3 L 152.9 282.3 L 152.9 269.2 L 138.4 269.2 L 138.4 282.3 L 134.6 282.3 L 134.6 254.0 \" fill=\"#000000\"/>\n",
       "<path class=\"atom-17\" d=\"M 71.8 216.5 L 75.6 216.5 L 75.6 228.6 L 90.1 228.6 L 90.1 216.5 L 93.9 216.5 L 93.9 244.8 L 90.1 244.8 L 90.1 231.8 L 75.6 231.8 L 75.6 244.8 L 71.8 244.8 L 71.8 216.5 \" fill=\"#000000\"/>\n",
       "<path class=\"atom-18\" d=\"M 35.7 152.1 L 39.6 152.1 L 39.6 164.2 L 54.1 164.2 L 54.1 152.1 L 57.9 152.1 L 57.9 180.5 L 54.1 180.5 L 54.1 167.4 L 39.6 167.4 L 39.6 180.5 L 35.7 180.5 L 35.7 152.1 \" fill=\"#000000\"/>\n",
       "<path class=\"atom-19\" d=\"M 110.5 79.3 L 114.4 79.3 L 114.4 91.3 L 128.8 91.3 L 128.8 79.3 L 132.7 79.3 L 132.7 107.6 L 128.8 107.6 L 128.8 94.5 L 114.4 94.5 L 114.4 107.6 L 110.5 107.6 L 110.5 79.3 \" fill=\"#000000\"/>\n",
       "</svg>"
      ],
      "text/plain": [
       "<IPython.core.display.SVG object>"
      ]
     },
     "execution_count": 86,
     "metadata": {},
     "output_type": "execute_result"
    }
   ],
   "source": [
    "monomer2 = Molecule.from_smiles(\"CCCCCC\")\n",
    "monomer2.generate_conformers(n_conformers=1)\n",
    "monomer2.visualize()\n",
    "# use RDkit to generate a conformer\n"
   ]
  },
  {
   "cell_type": "code",
   "execution_count": null,
   "metadata": {},
   "outputs": [],
   "source": []
  },
  {
   "cell_type": "code",
   "execution_count": 87,
   "metadata": {},
   "outputs": [
    {
     "data": {
      "image/svg+xml": [
       "<svg xmlns=\"http://www.w3.org/2000/svg\" xmlns:rdkit=\"http://www.rdkit.org/xml\" xmlns:xlink=\"http://www.w3.org/1999/xlink\" version=\"1.1\" baseProfile=\"full\" xml:space=\"preserve\" width=\"500px\" height=\"300px\" viewBox=\"0 0 500 300\">\n",
       "<!-- END OF HEADER -->\n",
       "<rect style=\"opacity:1.0;fill:#FFFFFF;stroke:none\" width=\"500.0\" height=\"300.0\" x=\"0.0\" y=\"0.0\"> </rect>\n",
       "<path class=\"bond-0 atom-0 atom-1\" d=\"M 314.5,83.7 L 266.1,112.3\" style=\"fill:none;fill-rule:evenodd;stroke:#000000;stroke-width:2.0px;stroke-linecap:butt;stroke-linejoin:miter;stroke-opacity:1\"/>\n",
       "<path class=\"bond-0 atom-0 atom-1\" d=\"M 314.6,93.6 L 274.7,117.1\" style=\"fill:none;fill-rule:evenodd;stroke:#000000;stroke-width:2.0px;stroke-linecap:butt;stroke-linejoin:miter;stroke-opacity:1\"/>\n",
       "<path class=\"bond-1 atom-1 atom-2\" d=\"M 266.1,112.3 L 267.5,168.0\" style=\"fill:none;fill-rule:evenodd;stroke:#000000;stroke-width:2.0px;stroke-linecap:butt;stroke-linejoin:miter;stroke-opacity:1\"/>\n",
       "<path class=\"bond-2 atom-2 atom-3\" d=\"M 267.5,168.0 L 300.3,216.2\" style=\"fill:none;fill-rule:evenodd;stroke:#000000;stroke-width:2.0px;stroke-linecap:butt;stroke-linejoin:miter;stroke-opacity:1\"/>\n",
       "<path class=\"bond-3 atom-3 atom-4\" d=\"M 300.3,216.2 L 323.5,215.5\" style=\"fill:none;fill-rule:evenodd;stroke:#000000;stroke-width:2.0px;stroke-linecap:butt;stroke-linejoin:miter;stroke-opacity:1\"/>\n",
       "<path class=\"bond-3 atom-3 atom-4\" d=\"M 323.5,215.5 L 346.7,214.8\" style=\"fill:none;fill-rule:evenodd;stroke:#CCCC00;stroke-width:2.0px;stroke-linecap:butt;stroke-linejoin:miter;stroke-opacity:1\"/>\n",
       "<path class=\"bond-4 atom-2 atom-5\" d=\"M 267.5,168.0 L 215.0,198.5\" style=\"fill:none;fill-rule:evenodd;stroke:#000000;stroke-width:2.0px;stroke-linecap:butt;stroke-linejoin:miter;stroke-opacity:1\"/>\n",
       "<path class=\"bond-5 atom-5 atom-6\" d=\"M 215.0,198.5 L 166.0,170.0\" style=\"fill:none;fill-rule:evenodd;stroke:#000000;stroke-width:2.0px;stroke-linecap:butt;stroke-linejoin:miter;stroke-opacity:1\"/>\n",
       "<path class=\"bond-5 atom-5 atom-6\" d=\"M 215.0,188.7 L 174.5,165.2\" style=\"fill:none;fill-rule:evenodd;stroke:#000000;stroke-width:2.0px;stroke-linecap:butt;stroke-linejoin:miter;stroke-opacity:1\"/>\n",
       "<path class=\"bond-6 atom-0 atom-7\" d=\"M 314.5,83.7 L 352.6,105.6\" style=\"fill:none;fill-rule:evenodd;stroke:#000000;stroke-width:2.0px;stroke-linecap:butt;stroke-linejoin:miter;stroke-opacity:1\"/>\n",
       "<path class=\"bond-7 atom-0 atom-8\" d=\"M 314.5,83.7 L 314.2,41.1\" style=\"fill:none;fill-rule:evenodd;stroke:#000000;stroke-width:2.0px;stroke-linecap:butt;stroke-linejoin:miter;stroke-opacity:1\"/>\n",
       "<path class=\"bond-8 atom-1 atom-9\" d=\"M 266.1,112.3 L 227.6,91.1\" style=\"fill:none;fill-rule:evenodd;stroke:#000000;stroke-width:2.0px;stroke-linecap:butt;stroke-linejoin:miter;stroke-opacity:1\"/>\n",
       "<path class=\"bond-9 atom-2 atom-10\" d=\"M 267.5,168.0 L 313.1,165.8\" style=\"fill:none;fill-rule:evenodd;stroke:#000000;stroke-width:2.0px;stroke-linecap:butt;stroke-linejoin:miter;stroke-opacity:1\"/>\n",
       "<path class=\"bond-10 atom-3 atom-11\" d=\"M 300.3,216.2 L 270.4,237.0\" style=\"fill:none;fill-rule:evenodd;stroke:#000000;stroke-width:2.0px;stroke-linecap:butt;stroke-linejoin:miter;stroke-opacity:1\"/>\n",
       "<path class=\"bond-11 atom-3 atom-12\" d=\"M 300.3,216.2 L 301.9,258.9\" style=\"fill:none;fill-rule:evenodd;stroke:#000000;stroke-width:2.0px;stroke-linecap:butt;stroke-linejoin:miter;stroke-opacity:1\"/>\n",
       "<path class=\"bond-12 atom-4 atom-13\" d=\"M 364.0,200.5 L 369.8,189.9\" style=\"fill:none;fill-rule:evenodd;stroke:#CCCC00;stroke-width:2.0px;stroke-linecap:butt;stroke-linejoin:miter;stroke-opacity:1\"/>\n",
       "<path class=\"bond-12 atom-4 atom-13\" d=\"M 369.8,189.9 L 375.6,179.3\" style=\"fill:none;fill-rule:evenodd;stroke:#000000;stroke-width:2.0px;stroke-linecap:butt;stroke-linejoin:miter;stroke-opacity:1\"/>\n",
       "<path class=\"bond-13 atom-5 atom-14\" d=\"M 215.0,198.5 L 213.7,241.5\" style=\"fill:none;fill-rule:evenodd;stroke:#000000;stroke-width:2.0px;stroke-linecap:butt;stroke-linejoin:miter;stroke-opacity:1\"/>\n",
       "<path class=\"bond-14 atom-6 atom-15\" d=\"M 166.0,170.0 L 165.9,127.2\" style=\"fill:none;fill-rule:evenodd;stroke:#000000;stroke-width:2.0px;stroke-linecap:butt;stroke-linejoin:miter;stroke-opacity:1\"/>\n",
       "<path class=\"bond-15 atom-6 atom-16\" d=\"M 166.0,170.0 L 128.0,192.1\" style=\"fill:none;fill-rule:evenodd;stroke:#000000;stroke-width:2.0px;stroke-linecap:butt;stroke-linejoin:miter;stroke-opacity:1\"/>\n",
       "<path class=\"atom-4\" d=\"M 349.5 222.8 Q 349.8 222.9, 350.9 223.3 Q 352.1 223.8, 353.3 224.1 Q 354.5 224.4, 355.8 224.4 Q 358.1 224.4, 359.4 223.3 Q 360.7 222.2, 360.7 220.2 Q 360.7 218.9, 360.0 218.1 Q 359.4 217.3, 358.4 216.8 Q 357.3 216.4, 355.6 215.9 Q 353.5 215.2, 352.2 214.6 Q 350.9 214.0, 350.0 212.7 Q 349.1 211.4, 349.1 209.2 Q 349.1 206.2, 351.2 204.3 Q 353.3 202.4, 357.3 202.4 Q 360.2 202.4, 363.3 203.7 L 362.5 206.4 Q 359.6 205.2, 357.5 205.2 Q 355.1 205.2, 353.8 206.2 Q 352.5 207.1, 352.5 208.8 Q 352.5 210.1, 353.2 210.9 Q 353.9 211.7, 354.8 212.1 Q 355.8 212.5, 357.5 213.1 Q 359.6 213.7, 360.9 214.4 Q 362.2 215.1, 363.2 216.5 Q 364.1 217.9, 364.1 220.2 Q 364.1 223.6, 361.9 225.4 Q 359.6 227.2, 355.9 227.2 Q 353.8 227.2, 352.1 226.7 Q 350.5 226.2, 348.6 225.5 L 349.5 222.8 \" fill=\"#CCCC00\"/>\n",
       "<path class=\"atom-7\" d=\"M 354.4 100.0 L 357.7 100.0 L 357.7 110.3 L 370.1 110.3 L 370.1 100.0 L 373.3 100.0 L 373.3 124.2 L 370.1 124.2 L 370.1 113.0 L 357.7 113.0 L 357.7 124.2 L 354.4 124.2 L 354.4 100.0 \" fill=\"#000000\"/>\n",
       "<path class=\"atom-8\" d=\"M 304.6 15.0 L 307.9 15.0 L 307.9 25.3 L 320.2 25.3 L 320.2 15.0 L 323.5 15.0 L 323.5 39.2 L 320.2 39.2 L 320.2 28.0 L 307.9 28.0 L 307.9 39.2 L 304.6 39.2 L 304.6 15.0 \" fill=\"#000000\"/>\n",
       "<path class=\"atom-9\" d=\"M 206.9 72.7 L 210.1 72.7 L 210.1 83.0 L 222.5 83.0 L 222.5 72.7 L 225.8 72.7 L 225.8 96.9 L 222.5 96.9 L 222.5 85.8 L 210.1 85.8 L 210.1 96.9 L 206.9 96.9 L 206.9 72.7 \" fill=\"#000000\"/>\n",
       "<path class=\"atom-10\" d=\"M 315.0 153.1 L 318.2 153.1 L 318.2 163.4 L 330.6 163.4 L 330.6 153.1 L 333.9 153.1 L 333.9 177.3 L 330.6 177.3 L 330.6 166.1 L 318.2 166.1 L 318.2 177.3 L 315.0 177.3 L 315.0 153.1 \" fill=\"#000000\"/>\n",
       "<path class=\"atom-11\" d=\"M 249.6 232.7 L 252.9 232.7 L 252.9 243.0 L 265.2 243.0 L 265.2 232.7 L 268.5 232.7 L 268.5 256.9 L 265.2 256.9 L 265.2 245.8 L 252.9 245.8 L 252.9 256.9 L 249.6 256.9 L 249.6 232.7 \" fill=\"#000000\"/>\n",
       "<path class=\"atom-12\" d=\"M 293.0 260.8 L 296.2 260.8 L 296.2 271.1 L 308.6 271.1 L 308.6 260.8 L 311.9 260.8 L 311.9 285.0 L 308.6 285.0 L 308.6 273.8 L 296.2 273.8 L 296.2 285.0 L 293.0 285.0 L 293.0 260.8 \" fill=\"#000000\"/>\n",
       "<path class=\"atom-13\" d=\"M 373.8 153.3 L 377.1 153.3 L 377.1 163.6 L 389.5 163.6 L 389.5 153.3 L 392.7 153.3 L 392.7 177.5 L 389.5 177.5 L 389.5 166.3 L 377.1 166.3 L 377.1 177.5 L 373.8 177.5 L 373.8 153.3 \" fill=\"#000000\"/>\n",
       "<path class=\"atom-14\" d=\"M 203.8 243.4 L 207.1 243.4 L 207.1 253.7 L 219.4 253.7 L 219.4 243.4 L 222.7 243.4 L 222.7 267.6 L 219.4 267.6 L 219.4 256.4 L 207.1 256.4 L 207.1 267.6 L 203.8 267.6 L 203.8 243.4 \" fill=\"#000000\"/>\n",
       "<path class=\"atom-15\" d=\"M 156.5 101.1 L 159.7 101.1 L 159.7 111.4 L 172.1 111.4 L 172.1 101.1 L 175.4 101.1 L 175.4 125.3 L 172.1 125.3 L 172.1 114.1 L 159.7 114.1 L 159.7 125.3 L 156.5 125.3 L 156.5 101.1 \" fill=\"#000000\"/>\n",
       "<path class=\"atom-16\" d=\"M 107.3 186.6 L 110.5 186.6 L 110.5 196.9 L 122.9 196.9 L 122.9 186.6 L 126.2 186.6 L 126.2 210.8 L 122.9 210.8 L 122.9 199.6 L 110.5 199.6 L 110.5 210.8 L 107.3 210.8 L 107.3 186.6 \" fill=\"#000000\"/>\n",
       "</svg>"
      ],
      "text/plain": [
       "<IPython.core.display.SVG object>"
      ]
     },
     "execution_count": 87,
     "metadata": {},
     "output_type": "execute_result"
    }
   ],
   "source": [
    "monomer3 = Molecule.from_smiles(\"C=CC(CS)C=C\")\n",
    "monomer3.generate_conformers(n_conformers=1)\n",
    "monomer3.visualize()"
   ]
  },
  {
   "cell_type": "code",
   "execution_count": 88,
   "metadata": {},
   "outputs": [],
   "source": [
    "# Pack the box with all three solutes\n",
    "\n",
    "# box is probably too big\n",
    "cubic_box = unit.Quantity(40 * np.eye(3), unit.angstrom)\n",
    "n_monomer = 100\n",
    "n_monomer2 = 100\n",
    "n_monomer3 = 100\n",
    "\n",
    "from openff.interchange.components._packmol import pack_box\n",
    "packed_mixture_topology = pack_box(\n",
    "    molecules=[monomer,monomer2,monomer3],\n",
    "    number_of_copies=[n_monomer,n_monomer2,n_monomer3],\n",
    "    solute=None,\n",
    "    tolerance=1.0*unit.angstrom,\n",
    "    box_vectors=cubic_box,\n",
    ")"
   ]
  },
  {
   "cell_type": "code",
   "execution_count": 89,
   "metadata": {},
   "outputs": [],
   "source": [
    "mixture_interchange = Interchange.from_smirnoff(\n",
    "    force_field=ForceField(\"openff-2.2.0.offxml\",\"opc3.offxml\"),\n",
    "    topology=packed_mixture_topology,\n",
    "    box=cubic_box\n",
    ")"
   ]
  },
  {
   "cell_type": "code",
   "execution_count": 90,
   "metadata": {},
   "outputs": [],
   "source": [
    "# approximately minimize energy with OpenMM\n",
    "mixture_interchange.minimize()"
   ]
  },
  {
   "cell_type": "code",
   "execution_count": 91,
   "metadata": {},
   "outputs": [],
   "source": [
    "# lammps files\n",
    "mixture_interchange.to_lammps('mixture.lmp')"
   ]
  },
  {
   "cell_type": "code",
   "execution_count": 92,
   "metadata": {},
   "outputs": [],
   "source": [
    "# gromacs files\n",
    "mixture_interchange.to_gro('mixture.gro')\n",
    "solvated_interchange.to_top('mixture.top')"
   ]
  },
  {
   "cell_type": "code",
   "execution_count": 93,
   "metadata": {},
   "outputs": [],
   "source": [
    "# for kicks, amber files\n",
    "mixture_interchange.to_prmtop('mixture.prmtop') \n",
    "mixture_interchange.to_inpcrd(\"mixture.inpcrd\")"
   ]
  },
  {
   "cell_type": "code",
   "execution_count": null,
   "metadata": {},
   "outputs": [],
   "source": []
  },
  {
   "cell_type": "code",
   "execution_count": null,
   "metadata": {},
   "outputs": [],
   "source": []
  },
  {
   "cell_type": "code",
   "execution_count": null,
   "metadata": {},
   "outputs": [],
   "source": []
  }
 ],
 "metadata": {
  "kernelspec": {
   "display_name": "Python 3 (ipykernel)",
   "language": "python",
   "name": "python3"
  },
  "language_info": {
   "codemirror_mode": {
    "name": "ipython",
    "version": 3
   },
   "file_extension": ".py",
   "mimetype": "text/x-python",
   "name": "python",
   "nbconvert_exporter": "python",
   "pygments_lexer": "ipython3",
   "version": "3.12.5"
  }
 },
 "nbformat": 4,
 "nbformat_minor": 4
}
