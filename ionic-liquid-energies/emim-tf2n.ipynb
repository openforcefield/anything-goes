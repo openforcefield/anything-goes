{
 "cells": [
  {
   "cell_type": "markdown",
   "id": "0b2812cf-5178-4c93-b525-c0eb55dd3b94",
   "metadata": {},
   "source": [
    "# Minimizing an ionic liquid pair in vacuum and comparing energy evaluations across engines\n",
    "\n",
    "In this example, we will\n",
    "1. Naively prepare a single ionic liquid cation-anion pair in (pseudo-)vacuum\n",
    "2. Evaluate the energy of a structure using RDKit- or OEOmega-generated conformers using multiple engines\n",
    "3. Energy-minimize the structure using OpenMM\n",
    "4. Re-evaluate the energy with the same engines\n",
    "5. Visualize each molecule with assigned partial charges"
   ]
  },
  {
   "cell_type": "code",
   "execution_count": 1,
   "id": "7165ceb7-836e-4b70-997a-224ebe83bf09",
   "metadata": {},
   "outputs": [
    {
     "name": "stderr",
     "output_type": "stream",
     "text": [
      "DEPRECATION: --no-python-version-warning is deprecated. pip 25.1 will enforce this behaviour change. A possible replacement is to remove the flag as it's a no-op. Discussion can be found at https://github.com/pypa/pip/issues/13154\n"
     ]
    }
   ],
   "source": [
    "from openff.toolkit import Molecule, ForceField, Topology, Quantity\n",
    "from openff.interchange.drivers.all import get_summary_data"
   ]
  },
  {
   "cell_type": "markdown",
   "id": "6589450c-c737-4305-b435-27b63ff9955a",
   "metadata": {},
   "source": [
    "To keep things simple, let's use BMIM-Tf2N, one of the most-studied ionic liquids.\n",
    "\n",
    "The OpenFF toolkit works best when each molecule is loaded as a separate `Molecule` object in Python, so here we load the cation and anion separately before combining them into a single `Topology`. One could smoosh the two together into a single SMILES representation by simply concatenating with a `.`, but that can cause issues with some wrapped and downstream functionality.\n",
    "\n",
    "For each ion, we'll load the molecule from a SMILES string and generate some conformers, just to get a sensible 3-D structure for a starting point. If working with `Molecule`s is new, a good place to start is the [cookbook](https://docs.openforcefield.org/projects/toolkit/en/stable/users/molecule_cookbook.html) provided in the OpenFF Toolkit docs. This also enables the default IPython/Jupyter visualzation to emit the 3-D structure using `NGLview` as a backend."
   ]
  },
  {
   "cell_type": "code",
   "execution_count": 2,
   "id": "e2539307-1308-4df2-b1fa-ab8e34855150",
   "metadata": {},
   "outputs": [
    {
     "data": {
      "application/vnd.jupyter.widget-view+json": {
       "model_id": "8f01608a97dc466eb16b2df3085281f1",
       "version_major": 2,
       "version_minor": 0
      },
      "text/plain": []
     },
     "metadata": {},
     "output_type": "display_data"
    },
    {
     "data": {
      "application/vnd.jupyter.widget-view+json": {
       "model_id": "25122302884a4c9aa9291e637d0a5c98",
       "version_major": 2,
       "version_minor": 0
      },
      "text/plain": [
       "NGLWidget(max_frame=1)"
      ]
     },
     "metadata": {},
     "output_type": "display_data"
    }
   ],
   "source": [
    "bmim = Molecule.from_smiles(\"CCCCN1C=C[N+](=C1)C\")\n",
    "bmim.generate_conformers()\n",
    "bmim"
   ]
  },
  {
   "cell_type": "code",
   "execution_count": 3,
   "id": "4b609c41-e9e5-45fe-9cb6-3fee54c88987",
   "metadata": {},
   "outputs": [
    {
     "data": {
      "application/vnd.jupyter.widget-view+json": {
       "model_id": "9f71e96ea3704b2bb9948694ccf721c7",
       "version_major": 2,
       "version_minor": 0
      },
      "text/plain": [
       "NGLWidget(max_frame=1)"
      ]
     },
     "metadata": {},
     "output_type": "display_data"
    }
   ],
   "source": [
    "tf2n = Molecule.from_smiles(\"C(F)(F)(F)S(=O)(=O)[N-]S(=O)(=O)C(F)(F)F\")\n",
    "tf2n.generate_conformers()\n",
    "tf2n"
   ]
  },
  {
   "cell_type": "markdown",
   "id": "b45fa659-d64b-4249-9ed4-140ae4a2ced2",
   "metadata": {},
   "source": [
    "When we combine these `Molecule`s into a single `Topology`, we get keep the rich chemical representation of the constituent molecules. However, since each of our conformers were generated separately for each ion, they overlap. We can see this in the visualization `Topology.visualize()` - this isn't going to run sensibly in an MD engine."
   ]
  },
  {
   "cell_type": "code",
   "execution_count": 4,
   "id": "b861dee9-fdb6-46e4-86a0-113034a46fa2",
   "metadata": {
    "scrolled": true
   },
   "outputs": [
    {
     "data": {
      "application/vnd.jupyter.widget-view+json": {
       "model_id": "803564605adb4ce487b259b8e7c31682",
       "version_major": 2,
       "version_minor": 0
      },
      "text/plain": [
       "NGLWidget()"
      ]
     },
     "metadata": {},
     "output_type": "display_data"
    }
   ],
   "source": [
    "topology = Topology.from_molecules([bmim, tf2n])\n",
    "topology.visualize()"
   ]
  },
  {
   "cell_type": "markdown",
   "id": "e16de007-5e22-4129-ac6d-f08a67ed850e",
   "metadata": {},
   "source": [
    "The quickest way to fix this is to simply move one of the conformers of a molecule by a small distance in space. Under the hood, `Topology.from_molecules` uses the _first_ conformer of each molecule's `Molecule.conformers` list, so we only need to modify the first one. The distance we move them is somewhat arbitrary, the values here seem to pass an eye check.\n",
    "\n",
    "After modifying the first Tf2N conformer's positions, we can re-make the topology and visualize it to check that it looks more realistic. (It looks fine on my machine now, anyway!)"
   ]
  },
  {
   "cell_type": "code",
   "execution_count": 5,
   "id": "0590186c-ad1c-46a4-8b9e-85ea87fcf65c",
   "metadata": {},
   "outputs": [
    {
     "data": {
      "application/vnd.jupyter.widget-view+json": {
       "model_id": "29082bc7ca4f42a7a63f5c541eb52100",
       "version_major": 2,
       "version_minor": 0
      },
      "text/plain": [
       "NGLWidget()"
      ]
     },
     "metadata": {},
     "output_type": "display_data"
    }
   ],
   "source": [
    "tf2n.conformers[0] += Quantity([0, 0, 4], \"angstroms\")\n",
    "\n",
    "topology = Topology.from_molecules([bmim, tf2n])\n",
    "topology.visualize()"
   ]
  },
  {
   "cell_type": "markdown",
   "id": "4c5cf7b6-efa7-4f38-ad78-8e7e52cf86d1",
   "metadata": {},
   "source": [
    "Now let's see how a force field works with this ionic liquid! We'll take the most recent release in OpenFF's Sage force field line off the shelf and make an `Interchange` object out of it and the topology we just assembled.\n",
    "\n",
    "One small quirk here is that we set the box vectors to be somewhat arbitrarily large; this is to trick simulation engines which do not properly support vacuum simulations to still do something like vacuum. It's not a perfect approximation, but setting the box vectors to more than twice the cutoff - Sage uses 9 Angstroms - makes things act mostly like they would in vacuum."
   ]
  },
  {
   "cell_type": "code",
   "execution_count": 6,
   "id": "f6b3953c-b492-4f58-8f50-6ff8d8deb3a1",
   "metadata": {},
   "outputs": [],
   "source": [
    "sage = ForceField(\"openff_unconstrained-2.2.1.offxml\")\n",
    "topology.box_vectors = Quantity([5, 5, 5], \"nanometer\")\n",
    "\n",
    "interchange = sage.create_interchange(topology)"
   ]
  },
  {
   "cell_type": "markdown",
   "id": "530063f3-bae7-4dd6-a3be-c4f3c3e9d049",
   "metadata": {},
   "source": [
    "We are now working with an [`Interchange` object](https://docs.openforcefield.org/projects/interchange/en/stable/) - think of this like the result of applying a force field to a chemical topology, which it is!\n",
    "\n",
    "We can do a lot of things with this, but for starters let's visualize it with `Interchange.visualize`. This should look approximately identical to the topology visualization we did before, just with some box vectors added in."
   ]
  },
  {
   "cell_type": "code",
   "execution_count": 7,
   "id": "4cf40d54-29d7-43f7-bf1f-d0a7644c1071",
   "metadata": {},
   "outputs": [
    {
     "data": {
      "application/vnd.jupyter.widget-view+json": {
       "model_id": "9ed010dd7b7b4fc4b16964b47e7c98e9",
       "version_major": 2,
       "version_minor": 0
      },
      "text/plain": [
       "NGLWidget()"
      ]
     },
     "metadata": {},
     "output_type": "display_data"
    }
   ],
   "source": [
    "interchange.visualize()"
   ]
  },
  {
   "cell_type": "markdown",
   "id": "f3650e73-360b-4181-ba1f-86ce6c259fce",
   "metadata": {},
   "source": [
    "One of Interchange's features is a set of functions which evaluate single-point energies with different simulation engines. By default, this iterates through OpenMM, Amber, GROMACS, and LAMMPS and skips over each one that's not installed. For each, it runs a 0-step \"simulation\" and reports back the potential energy split into different components. This is useful for validating Interchange's interface to each engine. There are separate functions for doing this in each engine, but we'll use a function `get_summary_data` which wraps _those_ functions and simply returns a dataframe of summary statistics."
   ]
  },
  {
   "cell_type": "code",
   "execution_count": 8,
   "id": "a0a2b612-253a-4465-845f-4a0b49e79061",
   "metadata": {},
   "outputs": [
    {
     "name": "stderr",
     "output_type": "stream",
     "text": [
      "/Users/mattthompson/micromamba/envs/il/lib/python3.12/site-packages/openff/interchange/components/mdconfig.py:401: SwitchingFunctionNotImplementedWarning: A switching distance 8.0 angstrom was specified by the force field, but Amber does not implement a switching function. Using a hard cut-off instead. Non-bonded interactions will be affected.\n",
      "  warnings.warn(\n"
     ]
    },
    {
     "data": {
      "text/html": [
       "<div>\n",
       "<style scoped>\n",
       "    .dataframe tbody tr th:only-of-type {\n",
       "        vertical-align: middle;\n",
       "    }\n",
       "\n",
       "    .dataframe tbody tr th {\n",
       "        vertical-align: top;\n",
       "    }\n",
       "\n",
       "    .dataframe thead th {\n",
       "        text-align: right;\n",
       "    }\n",
       "</style>\n",
       "<table border=\"1\" class=\"dataframe\">\n",
       "  <thead>\n",
       "    <tr style=\"text-align: right;\">\n",
       "      <th></th>\n",
       "      <th>Bond</th>\n",
       "      <th>Angle</th>\n",
       "      <th>Torsion</th>\n",
       "      <th>Electrostatics</th>\n",
       "      <th>vdW</th>\n",
       "      <th>RBTorsion</th>\n",
       "    </tr>\n",
       "  </thead>\n",
       "  <tbody>\n",
       "    <tr>\n",
       "      <th>OpenMM</th>\n",
       "      <td>18.966434</td>\n",
       "      <td>133.100572</td>\n",
       "      <td>29.927331</td>\n",
       "      <td>345.184421</td>\n",
       "      <td>11983.901659</td>\n",
       "      <td>NaN</td>\n",
       "    </tr>\n",
       "    <tr>\n",
       "      <th>Amber</th>\n",
       "      <td>18.966490</td>\n",
       "      <td>133.100571</td>\n",
       "      <td>29.927315</td>\n",
       "      <td>345.194644</td>\n",
       "      <td>11983.898572</td>\n",
       "      <td>NaN</td>\n",
       "    </tr>\n",
       "    <tr>\n",
       "      <th>GROMACS</th>\n",
       "      <td>18.966679</td>\n",
       "      <td>133.100449</td>\n",
       "      <td>29.927341</td>\n",
       "      <td>345.034981</td>\n",
       "      <td>11983.866796</td>\n",
       "      <td>0.0</td>\n",
       "    </tr>\n",
       "  </tbody>\n",
       "</table>\n",
       "</div>"
      ],
      "text/plain": [
       "              Bond       Angle    Torsion  Electrostatics           vdW  \\\n",
       "OpenMM   18.966434  133.100572  29.927331      345.184421  11983.901659   \n",
       "Amber    18.966490  133.100571  29.927315      345.194644  11983.898572   \n",
       "GROMACS  18.966679  133.100449  29.927341      345.034981  11983.866796   \n",
       "\n",
       "         RBTorsion  \n",
       "OpenMM         NaN  \n",
       "Amber          NaN  \n",
       "GROMACS        0.0  "
      ]
     },
     "execution_count": 8,
     "metadata": {},
     "output_type": "execute_result"
    }
   ],
   "source": [
    "summary = get_summary_data(interchange)\n",
    "summary"
   ]
  },
  {
   "cell_type": "markdown",
   "id": "af0e9ba3-23c0-4c6d-831f-065c0da50570",
   "metadata": {},
   "source": [
    "As a spot-check, it looks like the engines agree to something like 1e-4 kJ/mol for each component, which is a good sign.\n",
    "\n",
    "The result is simply a `pandas.DataFrame` object, so we can look at summary statistics with `.describe()`:"
   ]
  },
  {
   "cell_type": "code",
   "execution_count": 9,
   "id": "2cf2b50d-38b5-4324-8656-1b538b7cf360",
   "metadata": {},
   "outputs": [
    {
     "data": {
      "text/html": [
       "<div>\n",
       "<style scoped>\n",
       "    .dataframe tbody tr th:only-of-type {\n",
       "        vertical-align: middle;\n",
       "    }\n",
       "\n",
       "    .dataframe tbody tr th {\n",
       "        vertical-align: top;\n",
       "    }\n",
       "\n",
       "    .dataframe thead th {\n",
       "        text-align: right;\n",
       "    }\n",
       "</style>\n",
       "<table border=\"1\" class=\"dataframe\">\n",
       "  <thead>\n",
       "    <tr style=\"text-align: right;\">\n",
       "      <th></th>\n",
       "      <th>Bond</th>\n",
       "      <th>Angle</th>\n",
       "      <th>Torsion</th>\n",
       "      <th>Electrostatics</th>\n",
       "      <th>vdW</th>\n",
       "      <th>RBTorsion</th>\n",
       "    </tr>\n",
       "  </thead>\n",
       "  <tbody>\n",
       "    <tr>\n",
       "      <th>count</th>\n",
       "      <td>3.000000</td>\n",
       "      <td>3.000000</td>\n",
       "      <td>3.000000</td>\n",
       "      <td>3.000000</td>\n",
       "      <td>3.000000</td>\n",
       "      <td>1.0</td>\n",
       "    </tr>\n",
       "    <tr>\n",
       "      <th>mean</th>\n",
       "      <td>18.966534</td>\n",
       "      <td>133.100531</td>\n",
       "      <td>29.927329</td>\n",
       "      <td>345.138015</td>\n",
       "      <td>11983.889009</td>\n",
       "      <td>0.0</td>\n",
       "    </tr>\n",
       "    <tr>\n",
       "      <th>std</th>\n",
       "      <td>0.000128</td>\n",
       "      <td>0.000071</td>\n",
       "      <td>0.000013</td>\n",
       "      <td>0.089377</td>\n",
       "      <td>0.019299</td>\n",
       "      <td>NaN</td>\n",
       "    </tr>\n",
       "    <tr>\n",
       "      <th>min</th>\n",
       "      <td>18.966434</td>\n",
       "      <td>133.100449</td>\n",
       "      <td>29.927315</td>\n",
       "      <td>345.034981</td>\n",
       "      <td>11983.866796</td>\n",
       "      <td>0.0</td>\n",
       "    </tr>\n",
       "    <tr>\n",
       "      <th>25%</th>\n",
       "      <td>18.966462</td>\n",
       "      <td>133.100510</td>\n",
       "      <td>29.927323</td>\n",
       "      <td>345.109701</td>\n",
       "      <td>11983.882684</td>\n",
       "      <td>0.0</td>\n",
       "    </tr>\n",
       "    <tr>\n",
       "      <th>50%</th>\n",
       "      <td>18.966490</td>\n",
       "      <td>133.100571</td>\n",
       "      <td>29.927331</td>\n",
       "      <td>345.184421</td>\n",
       "      <td>11983.898572</td>\n",
       "      <td>0.0</td>\n",
       "    </tr>\n",
       "    <tr>\n",
       "      <th>75%</th>\n",
       "      <td>18.966585</td>\n",
       "      <td>133.100572</td>\n",
       "      <td>29.927336</td>\n",
       "      <td>345.189533</td>\n",
       "      <td>11983.900116</td>\n",
       "      <td>0.0</td>\n",
       "    </tr>\n",
       "    <tr>\n",
       "      <th>max</th>\n",
       "      <td>18.966679</td>\n",
       "      <td>133.100572</td>\n",
       "      <td>29.927341</td>\n",
       "      <td>345.194644</td>\n",
       "      <td>11983.901659</td>\n",
       "      <td>0.0</td>\n",
       "    </tr>\n",
       "  </tbody>\n",
       "</table>\n",
       "</div>"
      ],
      "text/plain": [
       "            Bond       Angle    Torsion  Electrostatics           vdW  \\\n",
       "count   3.000000    3.000000   3.000000        3.000000      3.000000   \n",
       "mean   18.966534  133.100531  29.927329      345.138015  11983.889009   \n",
       "std     0.000128    0.000071   0.000013        0.089377      0.019299   \n",
       "min    18.966434  133.100449  29.927315      345.034981  11983.866796   \n",
       "25%    18.966462  133.100510  29.927323      345.109701  11983.882684   \n",
       "50%    18.966490  133.100571  29.927331      345.184421  11983.898572   \n",
       "75%    18.966585  133.100572  29.927336      345.189533  11983.900116   \n",
       "max    18.966679  133.100572  29.927341      345.194644  11983.901659   \n",
       "\n",
       "       RBTorsion  \n",
       "count        1.0  \n",
       "mean         0.0  \n",
       "std          NaN  \n",
       "min          0.0  \n",
       "25%          0.0  \n",
       "50%          0.0  \n",
       "75%          0.0  \n",
       "max          0.0  "
      ]
     },
     "execution_count": 9,
     "metadata": {},
     "output_type": "execute_result"
    }
   ],
   "source": [
    "summary.describe()"
   ]
  },
  {
   "cell_type": "markdown",
   "id": "a0d9ea49-906b-4bd8-a66b-00da1df19336",
   "metadata": {},
   "source": [
    "Another feature of Interchange is a high-level method `Interchange.minimize` which wraps simulation engine(s) to run energy minimization. Right now, this is only implemented with an OpenMM backend."
   ]
  },
  {
   "cell_type": "code",
   "execution_count": 10,
   "id": "33ef611d-f0d5-4ccc-8f28-d95600fc42b4",
   "metadata": {},
   "outputs": [],
   "source": [
    "interchange.minimize()"
   ]
  },
  {
   "cell_type": "markdown",
   "id": "db8efa36-6d70-400e-b9b2-001b8e2d0568",
   "metadata": {},
   "source": [
    "This method takes the resulting positions and modifies the `Interchange.positions` attribute in-place. In other words, the positions should now evaluate to a lower potential energy. But do they? Let's see:"
   ]
  },
  {
   "cell_type": "code",
   "execution_count": 11,
   "id": "8da2e6b7-fa69-43c2-b949-ac44808b7637",
   "metadata": {},
   "outputs": [
    {
     "name": "stderr",
     "output_type": "stream",
     "text": [
      "/Users/mattthompson/micromamba/envs/il/lib/python3.12/site-packages/openff/interchange/components/mdconfig.py:401: SwitchingFunctionNotImplementedWarning: A switching distance 8.0 angstrom was specified by the force field, but Amber does not implement a switching function. Using a hard cut-off instead. Non-bonded interactions will be affected.\n",
      "  warnings.warn(\n"
     ]
    },
    {
     "data": {
      "text/html": [
       "<div>\n",
       "<style scoped>\n",
       "    .dataframe tbody tr th:only-of-type {\n",
       "        vertical-align: middle;\n",
       "    }\n",
       "\n",
       "    .dataframe tbody tr th {\n",
       "        vertical-align: top;\n",
       "    }\n",
       "\n",
       "    .dataframe thead th {\n",
       "        text-align: right;\n",
       "    }\n",
       "</style>\n",
       "<table border=\"1\" class=\"dataframe\">\n",
       "  <thead>\n",
       "    <tr style=\"text-align: right;\">\n",
       "      <th></th>\n",
       "      <th>Bond</th>\n",
       "      <th>Angle</th>\n",
       "      <th>Torsion</th>\n",
       "      <th>Electrostatics</th>\n",
       "      <th>vdW</th>\n",
       "      <th>RBTorsion</th>\n",
       "    </tr>\n",
       "  </thead>\n",
       "  <tbody>\n",
       "    <tr>\n",
       "      <th>count</th>\n",
       "      <td>3.000000</td>\n",
       "      <td>3.000000</td>\n",
       "      <td>3.000000</td>\n",
       "      <td>3.000000</td>\n",
       "      <td>3.000000</td>\n",
       "      <td>1.0</td>\n",
       "    </tr>\n",
       "    <tr>\n",
       "      <th>mean</th>\n",
       "      <td>28.342500</td>\n",
       "      <td>57.025698</td>\n",
       "      <td>27.933771</td>\n",
       "      <td>150.083090</td>\n",
       "      <td>-13.861405</td>\n",
       "      <td>0.0</td>\n",
       "    </tr>\n",
       "    <tr>\n",
       "      <th>std</th>\n",
       "      <td>0.000118</td>\n",
       "      <td>0.000144</td>\n",
       "      <td>0.000115</td>\n",
       "      <td>0.036284</td>\n",
       "      <td>0.016403</td>\n",
       "      <td>NaN</td>\n",
       "    </tr>\n",
       "    <tr>\n",
       "      <th>min</th>\n",
       "      <td>28.342416</td>\n",
       "      <td>57.025543</td>\n",
       "      <td>27.933639</td>\n",
       "      <td>150.042633</td>\n",
       "      <td>-13.880002</td>\n",
       "      <td>0.0</td>\n",
       "    </tr>\n",
       "    <tr>\n",
       "      <th>25%</th>\n",
       "      <td>28.342432</td>\n",
       "      <td>57.025633</td>\n",
       "      <td>27.933738</td>\n",
       "      <td>150.068260</td>\n",
       "      <td>-13.867611</td>\n",
       "      <td>0.0</td>\n",
       "    </tr>\n",
       "    <tr>\n",
       "      <th>50%</th>\n",
       "      <td>28.342448</td>\n",
       "      <td>57.025723</td>\n",
       "      <td>27.933837</td>\n",
       "      <td>150.093887</td>\n",
       "      <td>-13.855221</td>\n",
       "      <td>0.0</td>\n",
       "    </tr>\n",
       "    <tr>\n",
       "      <th>75%</th>\n",
       "      <td>28.342541</td>\n",
       "      <td>57.025775</td>\n",
       "      <td>27.933838</td>\n",
       "      <td>150.103319</td>\n",
       "      <td>-13.852107</td>\n",
       "      <td>0.0</td>\n",
       "    </tr>\n",
       "    <tr>\n",
       "      <th>max</th>\n",
       "      <td>28.342634</td>\n",
       "      <td>57.025828</td>\n",
       "      <td>27.933838</td>\n",
       "      <td>150.112750</td>\n",
       "      <td>-13.848993</td>\n",
       "      <td>0.0</td>\n",
       "    </tr>\n",
       "  </tbody>\n",
       "</table>\n",
       "</div>"
      ],
      "text/plain": [
       "            Bond      Angle    Torsion  Electrostatics        vdW  RBTorsion\n",
       "count   3.000000   3.000000   3.000000        3.000000   3.000000        1.0\n",
       "mean   28.342500  57.025698  27.933771      150.083090 -13.861405        0.0\n",
       "std     0.000118   0.000144   0.000115        0.036284   0.016403        NaN\n",
       "min    28.342416  57.025543  27.933639      150.042633 -13.880002        0.0\n",
       "25%    28.342432  57.025633  27.933738      150.068260 -13.867611        0.0\n",
       "50%    28.342448  57.025723  27.933837      150.093887 -13.855221        0.0\n",
       "75%    28.342541  57.025775  27.933838      150.103319 -13.852107        0.0\n",
       "max    28.342634  57.025828  27.933838      150.112750 -13.848993        0.0"
      ]
     },
     "execution_count": 11,
     "metadata": {},
     "output_type": "execute_result"
    }
   ],
   "source": [
    "get_summary_data(interchange).describe()"
   ]
  },
  {
   "cell_type": "markdown",
   "id": "70691b4e-3d72-4aae-b5ba-ab3aa57c059f",
   "metadata": {},
   "source": [
    "On my machine, the valence terms didn't change much (bond energies actually _increased_) but the non-bonded interactions descreased significatnly. In particular, the clashing intermolecular interactions were resolved and now we don't have vdW interactions dominating everything else by several orders of magnitude. Now, electrostatics dominate, at least numerically. This isn't a huge surprise - we already know that Coulombic interactions drive ionic liquid interactions more than similar neutral molecules, and there may have been some other bad energetics with the original conformers (which weren't generated with a force field in mind). We can go back to `Interchange.visualize` to look more closely at the result, and we see an intuitive result: the ring in BMIM+ (where the positive charge is distributed) likes to associate with the middle section of Tf2N- (where the negative charge is distributed) much more than with the alkyl tail or CF3 groups."
   ]
  },
  {
   "cell_type": "code",
   "execution_count": 12,
   "id": "c6ab361c-d18a-403b-a1fe-e4565e0d1ced",
   "metadata": {},
   "outputs": [
    {
     "data": {
      "application/vnd.jupyter.widget-view+json": {
       "model_id": "1d2a2779f19d4f2890a30f8e3c9f86a1",
       "version_major": 2,
       "version_minor": 0
      },
      "text/plain": [
       "NGLWidget()"
      ]
     },
     "metadata": {},
     "output_type": "display_data"
    }
   ],
   "source": [
    "interchange.visualize()"
   ]
  },
  {
   "cell_type": "markdown",
   "id": "dd2da2d6-3cbf-45c6-bfe5-9fd737297fb2",
   "metadata": {},
   "source": [
    "# Appendix: Visualizing assigned charges\n",
    "\n",
    "Sage had no ionic liquids in its training data, nor is its charge model (AM1-BCC) particularly suited to describing ionic liquids. If one takes for granted that the charge model is particularly important, the first step of a deep-dive might be to look at the partial charges assigned to each atom in each molecule. For the lazy among us, it's convenient to wrap this into a function."
   ]
  },
  {
   "cell_type": "code",
   "execution_count": 13,
   "id": "01f372f7-889c-4ab8-87d7-1fd15a9cc235",
   "metadata": {},
   "outputs": [],
   "source": [
    "from IPython.display import SVG\n",
    "import rdkit.Chem\n",
    "\n",
    "def draw_with_partial_charges(molecule: Molecule) -> SVG:\n",
    "    \"\"\"\n",
    "    Adapted from one of several iterations written by Josh Mitchell, mostly recently in a pre-release version of OpenFF Pablo:\n",
    "    https://github.com/openforcefield/openff-pablo/blob/f08589e025104ac0e6a2184477f948a6c2de0886/openff/pablo/_utils.py#L276\n",
    "    \"\"\"\n",
    "    rdmol = rdkit.Chem.rdchem.Mol(molecule.to_rdkit())\n",
    "\n",
    "    rdkit.Chem.rdmolops.Kekulize(rdmol, clearAromaticFlags=True)\n",
    "    rdkit.Chem.rdDepictor.Compute2DCoords(rdmol)\n",
    "\n",
    "    for index in range(molecule.n_atoms):\n",
    "        rdatom = rdmol.GetAtomWithIdx(index)\n",
    "        rdatom.SetProp(\n",
    "            \"atomNote\",\n",
    "            str(\n",
    "                round(\n",
    "                    molecule.partial_charges[index].m,\n",
    "                    2,\n",
    "                )\n",
    "            ),\n",
    "        )\n",
    "\n",
    "    drawer = rdkit.Chem.Draw.MolDraw2DSVG(500, 500)\n",
    "    \n",
    "    draw_options = drawer.drawOptions()\n",
    "    draw_options.useDefaultAtomPalette()\n",
    "    \n",
    "    drawer.DrawMolecule(\n",
    "        rdmol,\n",
    "    )\n",
    "\n",
    "    drawer.FinishDrawing()\n",
    "\n",
    "    return SVG(drawer.GetDrawingText())"
   ]
  },
  {
   "cell_type": "code",
   "execution_count": 14,
   "id": "f2bf1d54-2fce-4657-abf3-64b7173f83b6",
   "metadata": {},
   "outputs": [
    {
     "data": {
      "image/svg+xml": [
       "<svg xmlns=\"http://www.w3.org/2000/svg\" xmlns:rdkit=\"http://www.rdkit.org/xml\" xmlns:xlink=\"http://www.w3.org/1999/xlink\" version=\"1.1\" baseProfile=\"full\" xml:space=\"preserve\" width=\"500px\" height=\"500px\" viewBox=\"0 0 500 500\">\n",
       "<!-- END OF HEADER -->\n",
       "<rect style=\"opacity:1.0;fill:#FFFFFF;stroke:none\" width=\"500.0\" height=\"500.0\" x=\"0.0\" y=\"0.0\"> </rect>\n",
       "<path class=\"bond-0 atom-0 atom-1\" d=\"M 94.4,271.5 L 144.4,266.3\" style=\"fill:none;fill-rule:evenodd;stroke:#000000;stroke-width:2.0px;stroke-linecap:butt;stroke-linejoin:miter;stroke-opacity:1\"/>\n",
       "<path class=\"bond-1 atom-1 atom-2\" d=\"M 144.4,266.3 L 194.3,261.2\" style=\"fill:none;fill-rule:evenodd;stroke:#000000;stroke-width:2.0px;stroke-linecap:butt;stroke-linejoin:miter;stroke-opacity:1\"/>\n",
       "<path class=\"bond-2 atom-2 atom-3\" d=\"M 194.3,261.2 L 244.2,256.0\" style=\"fill:none;fill-rule:evenodd;stroke:#000000;stroke-width:2.0px;stroke-linecap:butt;stroke-linejoin:miter;stroke-opacity:1\"/>\n",
       "<path class=\"bond-3 atom-3 atom-4\" d=\"M 244.2,256.0 L 265.7,253.8\" style=\"fill:none;fill-rule:evenodd;stroke:#000000;stroke-width:2.0px;stroke-linecap:butt;stroke-linejoin:miter;stroke-opacity:1\"/>\n",
       "<path class=\"bond-3 atom-3 atom-4\" d=\"M 265.7,253.8 L 287.1,251.6\" style=\"fill:none;fill-rule:evenodd;stroke:#0000FF;stroke-width:2.0px;stroke-linecap:butt;stroke-linejoin:miter;stroke-opacity:1\"/>\n",
       "<path class=\"bond-4 atom-4 atom-8\" d=\"M 301.2,258.7 L 314.4,273.5\" style=\"fill:none;fill-rule:evenodd;stroke:#0000FF;stroke-width:2.0px;stroke-linecap:butt;stroke-linejoin:miter;stroke-opacity:1\"/>\n",
       "<path class=\"bond-4 atom-4 atom-8\" d=\"M 314.4,273.5 L 327.7,288.2\" style=\"fill:none;fill-rule:evenodd;stroke:#000000;stroke-width:2.0px;stroke-linecap:butt;stroke-linejoin:miter;stroke-opacity:1\"/>\n",
       "<path class=\"bond-5 atom-4 atom-5\" d=\"M 299.2,242.1 L 309.3,224.8\" style=\"fill:none;fill-rule:evenodd;stroke:#0000FF;stroke-width:2.0px;stroke-linecap:butt;stroke-linejoin:miter;stroke-opacity:1\"/>\n",
       "<path class=\"bond-5 atom-4 atom-5\" d=\"M 309.3,224.8 L 319.3,207.4\" style=\"fill:none;fill-rule:evenodd;stroke:#000000;stroke-width:2.0px;stroke-linecap:butt;stroke-linejoin:miter;stroke-opacity:1\"/>\n",
       "<path class=\"bond-6 atom-5 atom-6\" d=\"M 319.3,207.4 L 368.4,218.0\" style=\"fill:none;fill-rule:evenodd;stroke:#000000;stroke-width:2.0px;stroke-linecap:butt;stroke-linejoin:miter;stroke-opacity:1\"/>\n",
       "<path class=\"bond-6 atom-5 atom-6\" d=\"M 323.1,216.0 L 361.5,224.2\" style=\"fill:none;fill-rule:evenodd;stroke:#000000;stroke-width:2.0px;stroke-linecap:butt;stroke-linejoin:miter;stroke-opacity:1\"/>\n",
       "<path class=\"bond-7 atom-6 atom-7\" d=\"M 368.4,218.0 L 370.5,238.6\" style=\"fill:none;fill-rule:evenodd;stroke:#000000;stroke-width:2.0px;stroke-linecap:butt;stroke-linejoin:miter;stroke-opacity:1\"/>\n",
       "<path class=\"bond-7 atom-6 atom-7\" d=\"M 370.5,238.6 L 372.7,259.1\" style=\"fill:none;fill-rule:evenodd;stroke:#0000FF;stroke-width:2.0px;stroke-linecap:butt;stroke-linejoin:miter;stroke-opacity:1\"/>\n",
       "<path class=\"bond-8 atom-7 atom-8\" d=\"M 366.5,271.0 L 347.1,279.6\" style=\"fill:none;fill-rule:evenodd;stroke:#0000FF;stroke-width:2.0px;stroke-linecap:butt;stroke-linejoin:miter;stroke-opacity:1\"/>\n",
       "<path class=\"bond-8 atom-7 atom-8\" d=\"M 347.1,279.6 L 327.7,288.2\" style=\"fill:none;fill-rule:evenodd;stroke:#000000;stroke-width:2.0px;stroke-linecap:butt;stroke-linejoin:miter;stroke-opacity:1\"/>\n",
       "<path class=\"bond-8 atom-7 atom-8\" d=\"M 363.5,264.1 L 346.5,271.6\" style=\"fill:none;fill-rule:evenodd;stroke:#0000FF;stroke-width:2.0px;stroke-linecap:butt;stroke-linejoin:miter;stroke-opacity:1\"/>\n",
       "<path class=\"bond-8 atom-7 atom-8\" d=\"M 346.5,271.6 L 329.6,279.1\" style=\"fill:none;fill-rule:evenodd;stroke:#000000;stroke-width:2.0px;stroke-linecap:butt;stroke-linejoin:miter;stroke-opacity:1\"/>\n",
       "<path class=\"bond-9 atom-7 atom-9\" d=\"M 380.6,272.0 L 398.8,282.5\" style=\"fill:none;fill-rule:evenodd;stroke:#0000FF;stroke-width:2.0px;stroke-linecap:butt;stroke-linejoin:miter;stroke-opacity:1\"/>\n",
       "<path class=\"bond-9 atom-7 atom-9\" d=\"M 398.8,282.5 L 417.0,293.1\" style=\"fill:none;fill-rule:evenodd;stroke:#000000;stroke-width:2.0px;stroke-linecap:butt;stroke-linejoin:miter;stroke-opacity:1\"/>\n",
       "<path class=\"bond-10 atom-0 atom-10\" d=\"M 94.4,271.5 L 51.7,275.9\" style=\"fill:none;fill-rule:evenodd;stroke:#000000;stroke-width:2.0px;stroke-linecap:butt;stroke-linejoin:miter;stroke-opacity:1\"/>\n",
       "<path class=\"bond-11 atom-0 atom-11\" d=\"M 94.4,271.5 L 98.7,312.6\" style=\"fill:none;fill-rule:evenodd;stroke:#000000;stroke-width:2.0px;stroke-linecap:butt;stroke-linejoin:miter;stroke-opacity:1\"/>\n",
       "<path class=\"bond-12 atom-0 atom-12\" d=\"M 94.4,271.5 L 90.2,230.3\" style=\"fill:none;fill-rule:evenodd;stroke:#000000;stroke-width:2.0px;stroke-linecap:butt;stroke-linejoin:miter;stroke-opacity:1\"/>\n",
       "<path class=\"bond-13 atom-1 atom-13\" d=\"M 144.4,266.3 L 148.6,307.5\" style=\"fill:none;fill-rule:evenodd;stroke:#000000;stroke-width:2.0px;stroke-linecap:butt;stroke-linejoin:miter;stroke-opacity:1\"/>\n",
       "<path class=\"bond-14 atom-1 atom-14\" d=\"M 144.4,266.3 L 140.1,225.2\" style=\"fill:none;fill-rule:evenodd;stroke:#000000;stroke-width:2.0px;stroke-linecap:butt;stroke-linejoin:miter;stroke-opacity:1\"/>\n",
       "<path class=\"bond-15 atom-2 atom-15\" d=\"M 194.3,261.2 L 190.0,220.0\" style=\"fill:none;fill-rule:evenodd;stroke:#000000;stroke-width:2.0px;stroke-linecap:butt;stroke-linejoin:miter;stroke-opacity:1\"/>\n",
       "<path class=\"bond-16 atom-2 atom-16\" d=\"M 194.3,261.2 L 198.5,302.3\" style=\"fill:none;fill-rule:evenodd;stroke:#000000;stroke-width:2.0px;stroke-linecap:butt;stroke-linejoin:miter;stroke-opacity:1\"/>\n",
       "<path class=\"bond-17 atom-3 atom-17\" d=\"M 244.2,256.0 L 248.5,297.2\" style=\"fill:none;fill-rule:evenodd;stroke:#000000;stroke-width:2.0px;stroke-linecap:butt;stroke-linejoin:miter;stroke-opacity:1\"/>\n",
       "<path class=\"bond-18 atom-3 atom-18\" d=\"M 244.2,256.0 L 240.0,214.9\" style=\"fill:none;fill-rule:evenodd;stroke:#000000;stroke-width:2.0px;stroke-linecap:butt;stroke-linejoin:miter;stroke-opacity:1\"/>\n",
       "<path class=\"bond-19 atom-5 atom-19\" d=\"M 319.3,207.4 L 302.9,170.3\" style=\"fill:none;fill-rule:evenodd;stroke:#000000;stroke-width:2.0px;stroke-linecap:butt;stroke-linejoin:miter;stroke-opacity:1\"/>\n",
       "<path class=\"bond-20 atom-6 atom-20\" d=\"M 368.4,218.0 L 398.6,190.9\" style=\"fill:none;fill-rule:evenodd;stroke:#000000;stroke-width:2.0px;stroke-linecap:butt;stroke-linejoin:miter;stroke-opacity:1\"/>\n",
       "<path class=\"bond-21 atom-8 atom-21\" d=\"M 327.7,288.2 L 319.0,328.5\" style=\"fill:none;fill-rule:evenodd;stroke:#000000;stroke-width:2.0px;stroke-linecap:butt;stroke-linejoin:miter;stroke-opacity:1\"/>\n",
       "<path class=\"bond-22 atom-9 atom-22\" d=\"M 417.0,293.1 L 453.2,314.1\" style=\"fill:none;fill-rule:evenodd;stroke:#000000;stroke-width:2.0px;stroke-linecap:butt;stroke-linejoin:miter;stroke-opacity:1\"/>\n",
       "<path class=\"bond-23 atom-9 atom-23\" d=\"M 417.0,293.1 L 396.9,327.7\" style=\"fill:none;fill-rule:evenodd;stroke:#000000;stroke-width:2.0px;stroke-linecap:butt;stroke-linejoin:miter;stroke-opacity:1\"/>\n",
       "<path class=\"bond-24 atom-9 atom-24\" d=\"M 417.0,293.1 L 437.1,258.4\" style=\"fill:none;fill-rule:evenodd;stroke:#000000;stroke-width:2.0px;stroke-linecap:butt;stroke-linejoin:miter;stroke-opacity:1\"/>\n",
       "<path class=\"atom-4\" d=\"M 291.0 243.8 L 295.7 251.3 Q 296.1 252.0, 296.9 253.4 Q 297.6 254.7, 297.7 254.8 L 297.7 243.8 L 299.5 243.8 L 299.5 258.0 L 297.6 258.0 L 292.6 249.7 Q 292.0 248.8, 291.4 247.7 Q 290.8 246.6, 290.6 246.2 L 290.6 258.0 L 288.8 258.0 L 288.8 243.8 L 291.0 243.8 \" fill=\"#0000FF\"/>\n",
       "<path class=\"atom-7\" d=\"M 370.4 260.8 L 375.1 268.3 Q 375.5 269.1, 376.3 270.4 Q 377.0 271.8, 377.1 271.8 L 377.1 260.8 L 379.0 260.8 L 379.0 275.0 L 377.0 275.0 L 372.0 266.8 Q 371.4 265.8, 370.8 264.7 Q 370.2 263.6, 370.0 263.3 L 370.0 275.0 L 368.2 275.0 L 368.2 260.8 L 370.4 260.8 \" fill=\"#0000FF\"/>\n",
       "<path class=\"atom-7\" d=\"M 381.6 263.4 L 384.1 263.4 L 384.1 260.7 L 385.2 260.7 L 385.2 263.4 L 387.8 263.4 L 387.8 264.3 L 385.2 264.3 L 385.2 267.0 L 384.1 267.0 L 384.1 264.3 L 381.6 264.3 L 381.6 263.4 \" fill=\"#0000FF\"/>\n",
       "<path class=\"atom-10\" d=\"M 38.9 269.5 L 40.9 269.5 L 40.9 275.6 L 48.1 275.6 L 48.1 269.5 L 50.1 269.5 L 50.1 283.7 L 48.1 283.7 L 48.1 277.2 L 40.9 277.2 L 40.9 283.7 L 38.9 283.7 L 38.9 269.5 \" fill=\"#000000\"/>\n",
       "<path class=\"atom-11\" d=\"M 94.0 314.3 L 96.0 314.3 L 96.0 320.3 L 103.2 320.3 L 103.2 314.3 L 105.1 314.3 L 105.1 328.5 L 103.2 328.5 L 103.2 322.0 L 96.0 322.0 L 96.0 328.5 L 94.0 328.5 L 94.0 314.3 \" fill=\"#000000\"/>\n",
       "<path class=\"atom-12\" d=\"M 83.7 214.4 L 85.6 214.4 L 85.6 220.5 L 92.9 220.5 L 92.9 214.4 L 94.8 214.4 L 94.8 228.7 L 92.9 228.7 L 92.9 222.1 L 85.6 222.1 L 85.6 228.7 L 83.7 228.7 L 83.7 214.4 \" fill=\"#000000\"/>\n",
       "<path class=\"atom-13\" d=\"M 144.0 309.2 L 145.9 309.2 L 145.9 315.2 L 153.2 315.2 L 153.2 309.2 L 155.1 309.2 L 155.1 323.4 L 153.2 323.4 L 153.2 316.8 L 145.9 316.8 L 145.9 323.4 L 144.0 323.4 L 144.0 309.2 \" fill=\"#000000\"/>\n",
       "<path class=\"atom-14\" d=\"M 133.6 209.3 L 135.6 209.3 L 135.6 215.3 L 142.8 215.3 L 142.8 209.3 L 144.8 209.3 L 144.8 223.5 L 142.8 223.5 L 142.8 216.9 L 135.6 216.9 L 135.6 223.5 L 133.6 223.5 L 133.6 209.3 \" fill=\"#000000\"/>\n",
       "<path class=\"atom-15\" d=\"M 183.6 204.1 L 185.5 204.1 L 185.5 210.2 L 192.8 210.2 L 192.8 204.1 L 194.7 204.1 L 194.7 218.4 L 192.8 218.4 L 192.8 211.8 L 185.5 211.8 L 185.5 218.4 L 183.6 218.4 L 183.6 204.1 \" fill=\"#000000\"/>\n",
       "<path class=\"atom-16\" d=\"M 193.9 304.0 L 195.8 304.0 L 195.8 310.0 L 203.1 310.0 L 203.1 304.0 L 205.0 304.0 L 205.0 318.2 L 203.1 318.2 L 203.1 311.6 L 195.8 311.6 L 195.8 318.2 L 193.9 318.2 L 193.9 304.0 \" fill=\"#000000\"/>\n",
       "<path class=\"atom-17\" d=\"M 243.8 298.8 L 245.7 298.8 L 245.7 304.9 L 253.0 304.9 L 253.0 298.8 L 254.9 298.8 L 254.9 313.1 L 253.0 313.1 L 253.0 306.5 L 245.7 306.5 L 245.7 313.1 L 243.8 313.1 L 243.8 298.8 \" fill=\"#000000\"/>\n",
       "<path class=\"atom-18\" d=\"M 233.5 199.0 L 235.4 199.0 L 235.4 205.0 L 242.7 205.0 L 242.7 199.0 L 244.6 199.0 L 244.6 213.2 L 242.7 213.2 L 242.7 206.6 L 235.4 206.6 L 235.4 213.2 L 233.5 213.2 L 233.5 199.0 \" fill=\"#000000\"/>\n",
       "<path class=\"atom-19\" d=\"M 293.4 154.4 L 295.4 154.4 L 295.4 160.5 L 302.6 160.5 L 302.6 154.4 L 304.6 154.4 L 304.6 168.7 L 302.6 168.7 L 302.6 162.1 L 295.4 162.1 L 295.4 168.7 L 293.4 168.7 L 293.4 154.4 \" fill=\"#000000\"/>\n",
       "<path class=\"atom-20\" d=\"M 400.2 177.3 L 402.1 177.3 L 402.1 183.4 L 409.4 183.4 L 409.4 177.3 L 411.3 177.3 L 411.3 191.6 L 409.4 191.6 L 409.4 185.0 L 402.1 185.0 L 402.1 191.6 L 400.2 191.6 L 400.2 177.3 \" fill=\"#000000\"/>\n",
       "<path class=\"atom-21\" d=\"M 311.6 330.2 L 313.5 330.2 L 313.5 336.2 L 320.8 336.2 L 320.8 330.2 L 322.7 330.2 L 322.7 344.4 L 320.8 344.4 L 320.8 337.9 L 313.5 337.9 L 313.5 344.4 L 311.6 344.4 L 311.6 330.2 \" fill=\"#000000\"/>\n",
       "<path class=\"atom-22\" d=\"M 454.9 311.1 L 456.8 311.1 L 456.8 317.2 L 464.0 317.2 L 464.0 311.1 L 466.0 311.1 L 466.0 325.4 L 464.0 325.4 L 464.0 318.8 L 456.8 318.8 L 456.8 325.4 L 454.9 325.4 L 454.9 311.1 \" fill=\"#000000\"/>\n",
       "<path class=\"atom-23\" d=\"M 386.2 329.4 L 388.2 329.4 L 388.2 335.4 L 395.4 335.4 L 395.4 329.4 L 397.4 329.4 L 397.4 343.6 L 395.4 343.6 L 395.4 337.0 L 388.2 337.0 L 388.2 343.6 L 386.2 343.6 L 386.2 329.4 \" fill=\"#000000\"/>\n",
       "<path class=\"atom-24\" d=\"M 436.6 242.5 L 438.5 242.5 L 438.5 248.6 L 445.8 248.6 L 445.8 242.5 L 447.7 242.5 L 447.7 256.8 L 445.8 256.8 L 445.8 250.2 L 438.5 250.2 L 438.5 256.8 L 436.6 256.8 L 436.6 242.5 \" fill=\"#000000\"/>\n",
       "<path class=\"note\" d=\"M 98.9 282.0 L 102.6 282.0 L 102.6 282.8 L 98.9 282.8 L 98.9 282.0 \" fill=\"#000000\"/>\n",
       "<path class=\"note\" d=\"M 106.0 285.7 Q 104.7 285.7, 104.1 284.7 Q 103.4 283.8, 103.4 282.1 Q 103.4 280.3, 104.1 279.4 Q 104.7 278.4, 106.0 278.4 Q 107.3 278.4, 108.0 279.4 Q 108.6 280.3, 108.6 282.1 Q 108.6 283.8, 108.0 284.7 Q 107.3 285.7, 106.0 285.7 M 106.0 284.9 Q 106.8 284.9, 107.2 284.2 Q 107.6 283.5, 107.6 282.1 Q 107.6 280.7, 107.2 280.0 Q 106.8 279.2, 106.0 279.2 Q 105.3 279.2, 104.9 280.0 Q 104.4 280.7, 104.4 282.1 Q 104.4 283.5, 104.9 284.2 Q 105.3 284.9, 106.0 284.9 \" fill=\"#000000\"/>\n",
       "<path class=\"note\" d=\"M 109.6 284.6 L 110.6 284.6 L 110.6 285.6 L 109.6 285.6 L 109.6 284.6 \" fill=\"#000000\"/>\n",
       "<path class=\"note\" d=\"M 112.0 284.8 L 113.6 284.8 L 113.6 279.5 L 111.9 280.0 L 111.7 279.5 L 113.8 278.5 L 114.5 278.6 L 114.5 284.8 L 115.9 284.8 L 115.9 285.6 L 112.0 285.6 L 112.0 284.8 \" fill=\"#000000\"/>\n",
       "<path class=\"note\" d=\"M 107.5 262.3 L 111.2 262.3 L 111.2 263.1 L 107.5 263.1 L 107.5 262.3 \" fill=\"#000000\"/>\n",
       "<path class=\"note\" d=\"M 114.7 266.0 Q 113.4 266.0, 112.7 265.1 Q 112.1 264.1, 112.1 262.4 Q 112.1 260.7, 112.7 259.7 Q 113.4 258.8, 114.7 258.8 Q 116.0 258.8, 116.6 259.7 Q 117.3 260.7, 117.3 262.4 Q 117.3 264.1, 116.6 265.1 Q 116.0 266.0, 114.7 266.0 M 114.7 265.2 Q 115.5 265.2, 115.9 264.5 Q 116.3 263.8, 116.3 262.4 Q 116.3 261.0, 115.9 260.3 Q 115.5 259.6, 114.7 259.6 Q 113.9 259.6, 113.5 260.3 Q 113.1 261.0, 113.1 262.4 Q 113.1 263.8, 113.5 264.5 Q 113.9 265.2, 114.7 265.2 \" fill=\"#000000\"/>\n",
       "<path class=\"note\" d=\"M 118.3 264.9 L 119.3 264.9 L 119.3 266.0 L 118.3 266.0 L 118.3 264.9 \" fill=\"#000000\"/>\n",
       "<path class=\"note\" d=\"M 123.0 266.0 Q 121.7 266.0, 121.0 265.1 Q 120.4 264.1, 120.4 262.4 Q 120.4 260.7, 121.0 259.7 Q 121.7 258.8, 123.0 258.8 Q 124.3 258.8, 125.0 259.7 Q 125.6 260.7, 125.6 262.4 Q 125.6 264.1, 124.9 265.1 Q 124.3 266.0, 123.0 266.0 M 123.0 265.2 Q 123.8 265.2, 124.2 264.5 Q 124.6 263.8, 124.6 262.4 Q 124.6 261.0, 124.2 260.3 Q 123.8 259.6, 123.0 259.6 Q 122.2 259.6, 121.8 260.3 Q 121.4 261.0, 121.4 262.4 Q 121.4 263.8, 121.8 264.5 Q 122.2 265.2, 123.0 265.2 \" fill=\"#000000\"/>\n",
       "<path class=\"note\" d=\"M 130.3 262.2 Q 130.9 262.5, 131.3 262.9 Q 131.7 263.3, 131.7 264.0 Q 131.7 264.6, 131.4 265.1 Q 131.0 265.5, 130.5 265.8 Q 129.9 266.1, 129.2 266.1 Q 128.0 266.1, 127.3 265.5 Q 126.7 265.0, 126.7 264.0 Q 126.7 263.4, 127.0 263.0 Q 127.3 262.5, 127.9 262.2 Q 127.4 262.0, 127.2 261.6 Q 126.9 261.2, 126.9 260.6 Q 126.9 259.7, 127.5 259.3 Q 128.1 258.8, 129.2 258.8 Q 130.2 258.8, 130.8 259.3 Q 131.4 259.7, 131.4 260.6 Q 131.4 261.1, 131.1 261.5 Q 130.8 261.9, 130.3 262.2 M 129.2 259.5 Q 128.6 259.5, 128.2 259.8 Q 127.9 260.1, 127.9 260.6 Q 127.9 261.0, 128.1 261.2 Q 128.4 261.4, 128.7 261.6 Q 129.0 261.7, 129.6 261.9 Q 130.0 261.6, 130.2 261.3 Q 130.4 261.0, 130.4 260.6 Q 130.4 260.1, 130.1 259.8 Q 129.8 259.5, 129.2 259.5 M 129.2 265.3 Q 129.9 265.3, 130.3 264.9 Q 130.7 264.6, 130.7 264.0 Q 130.7 263.6, 130.5 263.4 Q 130.2 263.1, 129.9 263.0 Q 129.6 262.8, 129.0 262.7 L 128.6 262.5 Q 128.1 262.8, 127.9 263.2 Q 127.7 263.5, 127.7 264.0 Q 127.7 264.6, 128.1 264.9 Q 128.5 265.3, 129.2 265.3 \" fill=\"#000000\"/>\n",
       "<path class=\"note\" d=\"M 172.8 250.6 L 176.5 250.6 L 176.5 251.4 L 172.8 251.4 L 172.8 250.6 \" fill=\"#000000\"/>\n",
       "<path class=\"note\" d=\"M 179.9 254.3 Q 178.6 254.3, 178.0 253.3 Q 177.3 252.4, 177.3 250.7 Q 177.3 248.9, 178.0 248.0 Q 178.6 247.0, 179.9 247.0 Q 181.2 247.0, 181.9 248.0 Q 182.5 248.9, 182.5 250.7 Q 182.5 252.4, 181.9 253.3 Q 181.2 254.3, 179.9 254.3 M 179.9 253.5 Q 180.7 253.5, 181.1 252.8 Q 181.5 252.1, 181.5 250.7 Q 181.5 249.3, 181.1 248.5 Q 180.7 247.8, 179.9 247.8 Q 179.2 247.8, 178.7 248.5 Q 178.3 249.3, 178.3 250.7 Q 178.3 252.1, 178.7 252.8 Q 179.2 253.5, 179.9 253.5 \" fill=\"#000000\"/>\n",
       "<path class=\"note\" d=\"M 183.5 253.2 L 184.5 253.2 L 184.5 254.2 L 183.5 254.2 L 183.5 253.2 \" fill=\"#000000\"/>\n",
       "<path class=\"note\" d=\"M 185.9 253.4 L 187.5 253.4 L 187.5 248.1 L 185.8 248.6 L 185.5 248.0 L 187.7 247.1 L 188.4 247.2 L 188.4 253.4 L 189.8 253.4 L 189.8 254.2 L 185.9 254.2 L 185.9 253.4 \" fill=\"#000000\"/>\n",
       "<path class=\"note\" d=\"M 226.6 272.7 Q 225.3 272.7, 224.6 271.7 Q 224.0 270.8, 224.0 269.0 Q 224.0 267.3, 224.6 266.4 Q 225.3 265.4, 226.6 265.4 Q 227.9 265.4, 228.5 266.4 Q 229.2 267.3, 229.2 269.0 Q 229.2 270.8, 228.5 271.7 Q 227.9 272.7, 226.6 272.7 M 226.6 271.9 Q 227.4 271.9, 227.8 271.2 Q 228.2 270.4, 228.2 269.0 Q 228.2 267.6, 227.8 266.9 Q 227.4 266.2, 226.6 266.2 Q 225.8 266.2, 225.4 266.9 Q 225.0 267.6, 225.0 269.0 Q 225.0 270.4, 225.4 271.2 Q 225.8 271.9, 226.6 271.9 \" fill=\"#000000\"/>\n",
       "<path class=\"note\" d=\"M 230.2 271.6 L 231.2 271.6 L 231.2 272.6 L 230.2 272.6 L 230.2 271.6 \" fill=\"#000000\"/>\n",
       "<path class=\"note\" d=\"M 234.9 272.7 Q 233.6 272.7, 232.9 271.7 Q 232.3 270.8, 232.3 269.0 Q 232.3 267.3, 232.9 266.4 Q 233.6 265.4, 234.9 265.4 Q 236.2 265.4, 236.9 266.4 Q 237.5 267.3, 237.5 269.0 Q 237.5 270.8, 236.9 271.7 Q 236.2 272.7, 234.9 272.7 M 234.9 271.9 Q 235.7 271.9, 236.1 271.2 Q 236.5 270.4, 236.5 269.0 Q 236.5 267.6, 236.1 266.9 Q 235.7 266.2, 234.9 266.2 Q 234.1 266.2, 233.7 266.9 Q 233.3 267.6, 233.3 269.0 Q 233.3 270.4, 233.7 271.2 Q 234.1 271.9, 234.9 271.9 \" fill=\"#000000\"/>\n",
       "<path class=\"note\" d=\"M 238.6 266.8 Q 238.8 266.2, 239.5 265.8 Q 240.1 265.4, 241.0 265.4 Q 242.0 265.4, 242.6 266.0 Q 243.2 266.6, 243.2 267.6 Q 243.2 268.7, 242.4 269.6 Q 241.7 270.6, 240.1 271.8 L 243.4 271.8 L 243.4 272.6 L 238.6 272.6 L 238.6 271.9 Q 239.9 271.0, 240.7 270.3 Q 241.5 269.6, 241.8 268.9 Q 242.2 268.3, 242.2 267.7 Q 242.2 267.0, 241.9 266.6 Q 241.5 266.2, 241.0 266.2 Q 240.4 266.2, 240.0 266.4 Q 239.6 266.7, 239.3 267.2 L 238.6 266.8 \" fill=\"#000000\"/>\n",
       "<path class=\"note\" d=\"M 276.2 266.5 L 279.8 266.5 L 279.8 267.3 L 276.2 267.3 L 276.2 266.5 \" fill=\"#000000\"/>\n",
       "<path class=\"note\" d=\"M 283.3 270.1 Q 282.0 270.1, 281.4 269.2 Q 280.7 268.2, 280.7 266.5 Q 280.7 264.8, 281.4 263.8 Q 282.0 262.9, 283.3 262.9 Q 284.7 262.9, 285.3 263.8 Q 285.9 264.8, 285.9 266.5 Q 285.9 268.2, 285.3 269.2 Q 284.7 270.1, 283.3 270.1 M 283.3 269.3 Q 284.1 269.3, 284.5 268.6 Q 284.9 267.9, 284.9 266.5 Q 284.9 265.1, 284.5 264.4 Q 284.1 263.7, 283.3 263.7 Q 282.6 263.7, 282.2 264.4 Q 281.8 265.1, 281.8 266.5 Q 281.8 267.9, 282.2 268.6 Q 282.6 269.3, 283.3 269.3 \" fill=\"#000000\"/>\n",
       "<path class=\"note\" d=\"M 287.0 269.1 L 288.0 269.1 L 288.0 270.1 L 287.0 270.1 L 287.0 269.1 \" fill=\"#000000\"/>\n",
       "<path class=\"note\" d=\"M 291.7 270.1 Q 290.3 270.1, 289.7 269.2 Q 289.1 268.2, 289.1 266.5 Q 289.1 264.8, 289.7 263.8 Q 290.3 262.9, 291.7 262.9 Q 293.0 262.9, 293.6 263.8 Q 294.3 264.8, 294.3 266.5 Q 294.3 268.2, 293.6 269.2 Q 293.0 270.1, 291.7 270.1 M 291.7 269.3 Q 292.4 269.3, 292.8 268.6 Q 293.2 267.9, 293.2 266.5 Q 293.2 265.1, 292.8 264.4 Q 292.4 263.7, 291.7 263.7 Q 290.9 263.7, 290.5 264.4 Q 290.1 265.1, 290.1 266.5 Q 290.1 267.9, 290.5 268.6 Q 290.9 269.3, 291.7 269.3 \" fill=\"#000000\"/>\n",
       "<path class=\"note\" d=\"M 295.3 264.3 Q 295.6 263.6, 296.2 263.3 Q 296.8 262.9, 297.7 262.9 Q 298.8 262.9, 299.4 263.5 Q 300.0 264.0, 300.0 265.1 Q 300.0 266.1, 299.2 267.1 Q 298.4 268.1, 296.8 269.3 L 300.1 269.3 L 300.1 270.1 L 295.3 270.1 L 295.3 269.4 Q 296.6 268.5, 297.4 267.8 Q 298.2 267.0, 298.6 266.4 Q 299.0 265.8, 299.0 265.1 Q 299.0 264.4, 298.6 264.1 Q 298.3 263.7, 297.7 263.7 Q 297.1 263.7, 296.7 263.9 Q 296.4 264.1, 296.1 264.7 L 295.3 264.3 \" fill=\"#000000\"/>\n",
       "<path class=\"note\" d=\"M 291.6 205.7 L 295.3 205.7 L 295.3 206.5 L 291.6 206.5 L 291.6 205.7 \" fill=\"#000000\"/>\n",
       "<path class=\"note\" d=\"M 298.8 209.3 Q 297.5 209.3, 296.8 208.4 Q 296.2 207.4, 296.2 205.7 Q 296.2 204.0, 296.8 203.0 Q 297.5 202.1, 298.8 202.1 Q 300.1 202.1, 300.7 203.0 Q 301.4 204.0, 301.4 205.7 Q 301.4 207.4, 300.7 208.4 Q 300.1 209.3, 298.8 209.3 M 298.8 208.5 Q 299.5 208.5, 300.0 207.8 Q 300.4 207.1, 300.4 205.7 Q 300.4 204.3, 300.0 203.6 Q 299.5 202.9, 298.8 202.9 Q 298.0 202.9, 297.6 203.6 Q 297.2 204.3, 297.2 205.7 Q 297.2 207.1, 297.6 207.8 Q 298.0 208.5, 298.8 208.5 \" fill=\"#000000\"/>\n",
       "<path class=\"note\" d=\"M 302.4 208.3 L 303.4 208.3 L 303.4 209.3 L 302.4 209.3 L 302.4 208.3 \" fill=\"#000000\"/>\n",
       "<path class=\"note\" d=\"M 304.8 208.5 L 306.4 208.5 L 306.4 203.1 L 304.6 203.7 L 304.4 203.1 L 306.6 202.1 L 307.3 202.2 L 307.3 208.5 L 308.7 208.5 L 308.7 209.3 L 304.8 209.3 L 304.8 208.5 \" fill=\"#000000\"/>\n",
       "<path class=\"note\" d=\"M 309.9 208.5 L 311.4 208.5 L 311.4 203.1 L 309.7 203.7 L 309.5 203.1 L 311.7 202.1 L 312.4 202.2 L 312.4 208.5 L 313.8 208.5 L 313.8 209.3 L 309.9 209.3 L 309.9 208.5 \" fill=\"#000000\"/>\n",
       "<path class=\"note\" d=\"M 344.6 229.1 L 348.3 229.1 L 348.3 229.9 L 344.6 229.9 L 344.6 229.1 \" fill=\"#000000\"/>\n",
       "<path class=\"note\" d=\"M 351.8 232.8 Q 350.5 232.8, 349.8 231.9 Q 349.2 230.9, 349.2 229.2 Q 349.2 227.5, 349.8 226.5 Q 350.5 225.5, 351.8 225.5 Q 353.1 225.5, 353.7 226.5 Q 354.4 227.5, 354.4 229.2 Q 354.4 230.9, 353.7 231.9 Q 353.1 232.8, 351.8 232.8 M 351.8 232.0 Q 352.5 232.0, 353.0 231.3 Q 353.4 230.6, 353.4 229.2 Q 353.4 227.8, 353.0 227.1 Q 352.5 226.4, 351.8 226.4 Q 351.0 226.4, 350.6 227.1 Q 350.2 227.8, 350.2 229.2 Q 350.2 230.6, 350.6 231.3 Q 351.0 232.0, 351.8 232.0 \" fill=\"#000000\"/>\n",
       "<path class=\"note\" d=\"M 355.4 231.7 L 356.4 231.7 L 356.4 232.7 L 355.4 232.7 L 355.4 231.7 \" fill=\"#000000\"/>\n",
       "<path class=\"note\" d=\"M 357.8 231.9 L 359.4 231.9 L 359.4 226.6 L 357.7 227.2 L 357.4 226.6 L 359.6 225.6 L 360.3 225.7 L 360.3 231.9 L 361.7 231.9 L 361.7 232.7 L 357.8 232.7 L 357.8 231.9 \" fill=\"#000000\"/>\n",
       "<path class=\"note\" d=\"M 362.5 227.0 Q 362.8 226.3, 363.4 225.9 Q 364.0 225.5, 364.9 225.5 Q 366.0 225.5, 366.6 226.1 Q 367.2 226.7, 367.2 227.7 Q 367.2 228.8, 366.4 229.8 Q 365.6 230.8, 364.0 231.9 L 367.3 231.9 L 367.3 232.7 L 362.5 232.7 L 362.5 232.1 Q 363.8 231.1, 364.6 230.4 Q 365.4 229.7, 365.8 229.1 Q 366.2 228.4, 366.2 227.8 Q 366.2 227.1, 365.8 226.7 Q 365.5 226.4, 364.9 226.4 Q 364.3 226.4, 364.0 226.6 Q 363.6 226.8, 363.3 227.3 L 362.5 227.0 \" fill=\"#000000\"/>\n",
       "<path class=\"note\" d=\"M 361.6 284.6 L 365.3 284.6 L 365.3 285.4 L 361.6 285.4 L 361.6 284.6 \" fill=\"#000000\"/>\n",
       "<path class=\"note\" d=\"M 368.8 288.3 Q 367.4 288.3, 366.8 287.3 Q 366.2 286.4, 366.2 284.7 Q 366.2 282.9, 366.8 282.0 Q 367.4 281.0, 368.8 281.0 Q 370.1 281.0, 370.7 282.0 Q 371.4 282.9, 371.4 284.7 Q 371.4 286.4, 370.7 287.3 Q 370.1 288.3, 368.8 288.3 M 368.8 287.5 Q 369.5 287.5, 369.9 286.8 Q 370.4 286.1, 370.4 284.7 Q 370.4 283.3, 369.9 282.6 Q 369.5 281.8, 368.8 281.8 Q 368.0 281.8, 367.6 282.6 Q 367.2 283.3, 367.2 284.7 Q 367.2 286.1, 367.6 286.8 Q 368.0 287.5, 368.8 287.5 \" fill=\"#000000\"/>\n",
       "<path class=\"note\" d=\"M 372.4 287.2 L 373.4 287.2 L 373.4 288.2 L 372.4 288.2 L 372.4 287.2 \" fill=\"#000000\"/>\n",
       "<path class=\"note\" d=\"M 377.1 288.3 Q 375.8 288.3, 375.1 287.3 Q 374.5 286.4, 374.5 284.7 Q 374.5 282.9, 375.1 282.0 Q 375.7 281.0, 377.1 281.0 Q 378.4 281.0, 379.0 282.0 Q 379.7 282.9, 379.7 284.7 Q 379.7 286.4, 379.0 287.3 Q 378.4 288.3, 377.1 288.3 M 377.1 287.5 Q 377.8 287.5, 378.2 286.8 Q 378.7 286.1, 378.7 284.7 Q 378.7 283.3, 378.2 282.6 Q 377.8 281.8, 377.1 281.8 Q 376.3 281.8, 375.9 282.6 Q 375.5 283.3, 375.5 284.7 Q 375.5 286.1, 375.9 286.8 Q 376.3 287.5, 377.1 287.5 \" fill=\"#000000\"/>\n",
       "<path class=\"note\" d=\"M 380.7 282.5 Q 381.0 281.8, 381.6 281.4 Q 382.2 281.0, 383.1 281.0 Q 384.2 281.0, 384.8 281.6 Q 385.4 282.2, 385.4 283.2 Q 385.4 284.3, 384.6 285.3 Q 383.8 286.3, 382.2 287.4 L 385.5 287.4 L 385.5 288.2 L 380.7 288.2 L 380.7 287.6 Q 382.0 286.6, 382.8 285.9 Q 383.6 285.2, 384.0 284.6 Q 384.4 283.9, 384.4 283.3 Q 384.4 282.6, 384.0 282.2 Q 383.7 281.8, 383.1 281.8 Q 382.5 281.8, 382.1 282.1 Q 381.8 282.3, 381.5 282.8 L 380.7 282.5 \" fill=\"#000000\"/>\n",
       "<path class=\"note\" d=\"M 331.7 291.7 L 335.4 291.7 L 335.4 292.5 L 331.7 292.5 L 331.7 291.7 \" fill=\"#000000\"/>\n",
       "<path class=\"note\" d=\"M 338.9 295.4 Q 337.6 295.4, 336.9 294.5 Q 336.3 293.5, 336.3 291.8 Q 336.3 290.1, 336.9 289.1 Q 337.6 288.1, 338.9 288.1 Q 340.2 288.1, 340.9 289.1 Q 341.5 290.1, 341.5 291.8 Q 341.5 293.5, 340.8 294.5 Q 340.2 295.4, 338.9 295.4 M 338.9 294.6 Q 339.7 294.6, 340.1 293.9 Q 340.5 293.2, 340.5 291.8 Q 340.5 290.4, 340.1 289.7 Q 339.7 288.9, 338.9 288.9 Q 338.1 288.9, 337.7 289.7 Q 337.3 290.4, 337.3 291.8 Q 337.3 293.2, 337.7 293.9 Q 338.1 294.6, 338.9 294.6 \" fill=\"#000000\"/>\n",
       "<path class=\"note\" d=\"M 342.6 294.3 L 343.6 294.3 L 343.6 295.3 L 342.6 295.3 L 342.6 294.3 \" fill=\"#000000\"/>\n",
       "<path class=\"note\" d=\"M 347.2 295.4 Q 345.9 295.4, 345.3 294.5 Q 344.6 293.5, 344.6 291.8 Q 344.6 290.1, 345.3 289.1 Q 345.9 288.1, 347.2 288.1 Q 348.5 288.1, 349.2 289.1 Q 349.8 290.1, 349.8 291.8 Q 349.8 293.5, 349.2 294.5 Q 348.5 295.4, 347.2 295.4 M 347.2 294.6 Q 348.0 294.6, 348.4 293.9 Q 348.8 293.2, 348.8 291.8 Q 348.8 290.4, 348.4 289.7 Q 348.0 288.9, 347.2 288.9 Q 346.5 288.9, 346.0 289.7 Q 345.6 290.4, 345.6 291.8 Q 345.6 293.2, 346.0 293.9 Q 346.5 294.6, 347.2 294.6 \" fill=\"#000000\"/>\n",
       "<path class=\"note\" d=\"M 355.5 292.9 L 356.4 292.9 L 356.4 293.7 L 355.5 293.7 L 355.5 295.3 L 354.6 295.3 L 354.6 293.7 L 350.9 293.7 L 350.9 293.1 L 354.0 288.2 L 355.5 288.2 L 355.5 292.9 M 352.1 292.9 L 354.6 292.9 L 354.6 288.9 L 352.1 292.9 \" fill=\"#000000\"/>\n",
       "<path class=\"note\" d=\"M 391.8 297.4 L 395.5 297.4 L 395.5 298.2 L 391.8 298.2 L 391.8 297.4 \" fill=\"#000000\"/>\n",
       "<path class=\"note\" d=\"M 399.0 301.1 Q 397.7 301.1, 397.0 300.1 Q 396.4 299.1, 396.4 297.4 Q 396.4 295.7, 397.0 294.7 Q 397.7 293.8, 399.0 293.8 Q 400.3 293.8, 400.9 294.7 Q 401.6 295.7, 401.6 297.4 Q 401.6 299.1, 400.9 300.1 Q 400.3 301.1, 399.0 301.1 M 399.0 300.2 Q 399.7 300.2, 400.2 299.5 Q 400.6 298.8, 400.6 297.4 Q 400.6 296.0, 400.2 295.3 Q 399.7 294.6, 399.0 294.6 Q 398.2 294.6, 397.8 295.3 Q 397.4 296.0, 397.4 297.4 Q 397.4 298.8, 397.8 299.5 Q 398.2 300.2, 399.0 300.2 \" fill=\"#000000\"/>\n",
       "<path class=\"note\" d=\"M 402.6 300.0 L 403.6 300.0 L 403.6 301.0 L 402.6 301.0 L 402.6 300.0 \" fill=\"#000000\"/>\n",
       "<path class=\"note\" d=\"M 407.2 301.1 Q 405.9 301.1, 405.3 300.1 Q 404.6 299.1, 404.6 297.4 Q 404.6 295.7, 405.3 294.7 Q 405.9 293.8, 407.2 293.8 Q 408.5 293.8, 409.2 294.7 Q 409.8 295.7, 409.8 297.4 Q 409.8 299.1, 409.2 300.1 Q 408.5 301.1, 407.2 301.1 M 407.2 300.2 Q 408.0 300.2, 408.4 299.5 Q 408.8 298.8, 408.8 297.4 Q 408.8 296.0, 408.4 295.3 Q 408.0 294.6, 407.2 294.6 Q 406.5 294.6, 406.0 295.3 Q 405.6 296.0, 405.6 297.4 Q 405.6 298.8, 406.0 299.5 Q 406.5 300.2, 407.2 300.2 \" fill=\"#000000\"/>\n",
       "<path class=\"note\" d=\"M 27.6 266.8 Q 26.3 266.8, 25.6 265.8 Q 25.0 264.8, 25.0 263.1 Q 25.0 261.4, 25.6 260.4 Q 26.3 259.5, 27.6 259.5 Q 28.9 259.5, 29.6 260.4 Q 30.2 261.4, 30.2 263.1 Q 30.2 264.8, 29.5 265.8 Q 28.9 266.8, 27.6 266.8 M 27.6 266.0 Q 28.4 266.0, 28.8 265.2 Q 29.2 264.5, 29.2 263.1 Q 29.2 261.7, 28.8 261.0 Q 28.4 260.3, 27.6 260.3 Q 26.8 260.3, 26.4 261.0 Q 26.0 261.7, 26.0 263.1 Q 26.0 264.5, 26.4 265.2 Q 26.8 266.0, 27.6 266.0 \" fill=\"#000000\"/>\n",
       "<path class=\"note\" d=\"M 31.3 265.7 L 32.3 265.7 L 32.3 266.7 L 31.3 266.7 L 31.3 265.7 \" fill=\"#000000\"/>\n",
       "<path class=\"note\" d=\"M 35.9 266.8 Q 34.6 266.8, 34.0 265.8 Q 33.3 264.8, 33.3 263.1 Q 33.3 261.4, 34.0 260.4 Q 34.6 259.5, 35.9 259.5 Q 37.2 259.5, 37.9 260.4 Q 38.5 261.4, 38.5 263.1 Q 38.5 264.8, 37.9 265.8 Q 37.2 266.8, 35.9 266.8 M 35.9 266.0 Q 36.7 266.0, 37.1 265.2 Q 37.5 264.5, 37.5 263.1 Q 37.5 261.7, 37.1 261.0 Q 36.7 260.3, 35.9 260.3 Q 35.2 260.3, 34.7 261.0 Q 34.3 261.7, 34.3 263.1 Q 34.3 264.5, 34.7 265.2 Q 35.2 266.0, 35.9 266.0 \" fill=\"#000000\"/>\n",
       "<path class=\"note\" d=\"M 42.2 262.2 Q 42.8 262.2, 43.3 262.5 Q 43.8 262.8, 44.1 263.3 Q 44.4 263.8, 44.4 264.4 Q 44.4 265.2, 44.0 265.7 Q 43.7 266.2, 43.1 266.5 Q 42.5 266.8, 41.8 266.8 Q 41.2 266.8, 40.6 266.5 Q 40.0 266.3, 39.6 265.8 L 40.2 265.2 Q 40.5 265.6, 41.0 265.8 Q 41.4 265.9, 41.9 265.9 Q 42.5 265.9, 42.9 265.6 Q 43.4 265.2, 43.4 264.4 Q 43.4 263.7, 42.9 263.3 Q 42.5 263.0, 41.8 263.0 Q 41.2 263.0, 40.5 263.3 L 39.9 263.0 L 40.3 259.6 L 43.9 259.6 L 43.8 260.4 L 41.1 260.4 L 40.9 262.5 Q 41.5 262.2, 42.2 262.2 \" fill=\"#000000\"/>\n",
       "<path class=\"note\" d=\"M 94.2 341.7 Q 92.9 341.7, 92.3 340.8 Q 91.6 339.8, 91.6 338.1 Q 91.6 336.4, 92.3 335.4 Q 92.9 334.5, 94.2 334.5 Q 95.5 334.5, 96.2 335.4 Q 96.8 336.4, 96.8 338.1 Q 96.8 339.8, 96.2 340.8 Q 95.5 341.7, 94.2 341.7 M 94.2 340.9 Q 95.0 340.9, 95.4 340.2 Q 95.8 339.5, 95.8 338.1 Q 95.8 336.7, 95.4 336.0 Q 95.0 335.3, 94.2 335.3 Q 93.4 335.3, 93.0 336.0 Q 92.6 336.7, 92.6 338.1 Q 92.6 339.5, 93.0 340.2 Q 93.4 340.9, 94.2 340.9 \" fill=\"#000000\"/>\n",
       "<path class=\"note\" d=\"M 97.9 340.6 L 98.9 340.6 L 98.9 341.7 L 97.9 341.7 L 97.9 340.6 \" fill=\"#000000\"/>\n",
       "<path class=\"note\" d=\"M 102.5 341.7 Q 101.2 341.7, 100.6 340.8 Q 99.9 339.8, 99.9 338.1 Q 99.9 336.4, 100.6 335.4 Q 101.2 334.5, 102.5 334.5 Q 103.8 334.5, 104.5 335.4 Q 105.1 336.4, 105.1 338.1 Q 105.1 339.8, 104.5 340.8 Q 103.8 341.7, 102.5 341.7 M 102.5 340.9 Q 103.3 340.9, 103.7 340.2 Q 104.1 339.5, 104.1 338.1 Q 104.1 336.7, 103.7 336.0 Q 103.3 335.3, 102.5 335.3 Q 101.8 335.3, 101.3 336.0 Q 100.9 336.7, 100.9 338.1 Q 100.9 339.5, 101.3 340.2 Q 101.8 340.9, 102.5 340.9 \" fill=\"#000000\"/>\n",
       "<path class=\"note\" d=\"M 108.8 337.2 Q 109.4 337.2, 109.9 337.5 Q 110.4 337.7, 110.7 338.2 Q 111.0 338.7, 111.0 339.4 Q 111.0 340.1, 110.6 340.7 Q 110.3 341.2, 109.7 341.5 Q 109.1 341.7, 108.5 341.7 Q 107.8 341.7, 107.2 341.5 Q 106.6 341.2, 106.2 340.8 L 106.8 340.2 Q 107.1 340.5, 107.6 340.7 Q 108.0 340.9, 108.5 340.9 Q 109.1 340.9, 109.6 340.5 Q 110.0 340.1, 110.0 339.4 Q 110.0 338.7, 109.6 338.3 Q 109.1 338.0, 108.4 338.0 Q 107.8 338.0, 107.1 338.2 L 106.6 338.0 L 106.9 334.5 L 110.6 334.5 L 110.5 335.3 L 107.7 335.3 L 107.5 337.5 Q 108.1 337.2, 108.8 337.2 \" fill=\"#000000\"/>\n",
       "<path class=\"note\" d=\"M 80.5 208.6 Q 79.2 208.6, 78.5 207.6 Q 77.9 206.7, 77.9 204.9 Q 77.9 203.2, 78.5 202.3 Q 79.2 201.3, 80.5 201.3 Q 81.8 201.3, 82.4 202.3 Q 83.1 203.2, 83.1 204.9 Q 83.1 206.7, 82.4 207.6 Q 81.8 208.6, 80.5 208.6 M 80.5 207.8 Q 81.2 207.8, 81.7 207.1 Q 82.1 206.3, 82.1 204.9 Q 82.1 203.5, 81.7 202.8 Q 81.2 202.1, 80.5 202.1 Q 79.7 202.1, 79.3 202.8 Q 78.9 203.5, 78.9 204.9 Q 78.9 206.3, 79.3 207.1 Q 79.7 207.8, 80.5 207.8 \" fill=\"#000000\"/>\n",
       "<path class=\"note\" d=\"M 84.1 207.5 L 85.1 207.5 L 85.1 208.5 L 84.1 208.5 L 84.1 207.5 \" fill=\"#000000\"/>\n",
       "<path class=\"note\" d=\"M 88.8 208.6 Q 87.5 208.6, 86.8 207.6 Q 86.2 206.7, 86.2 204.9 Q 86.2 203.2, 86.8 202.3 Q 87.5 201.3, 88.8 201.3 Q 90.1 201.3, 90.7 202.3 Q 91.4 203.2, 91.4 204.9 Q 91.4 206.7, 90.7 207.6 Q 90.1 208.6, 88.8 208.6 M 88.8 207.8 Q 89.6 207.8, 90.0 207.1 Q 90.4 206.3, 90.4 204.9 Q 90.4 203.5, 90.0 202.8 Q 89.6 202.1, 88.8 202.1 Q 88.0 202.1, 87.6 202.8 Q 87.2 203.5, 87.2 204.9 Q 87.2 206.3, 87.6 207.1 Q 88.0 207.8, 88.8 207.8 \" fill=\"#000000\"/>\n",
       "<path class=\"note\" d=\"M 95.0 204.1 Q 95.6 204.1, 96.2 204.3 Q 96.7 204.6, 97.0 205.1 Q 97.3 205.6, 97.3 206.3 Q 97.3 207.0, 96.9 207.5 Q 96.5 208.0, 96.0 208.3 Q 95.4 208.6, 94.7 208.6 Q 94.1 208.6, 93.5 208.3 Q 92.9 208.1, 92.4 207.6 L 93.0 207.0 Q 93.4 207.4, 93.8 207.6 Q 94.3 207.8, 94.7 207.8 Q 95.4 207.8, 95.8 207.4 Q 96.3 207.0, 96.3 206.3 Q 96.3 205.5, 95.8 205.2 Q 95.4 204.8, 94.7 204.8 Q 94.1 204.8, 93.4 205.1 L 92.8 204.8 L 93.2 201.4 L 96.8 201.4 L 96.7 202.2 L 94.0 202.2 L 93.8 204.3 Q 94.4 204.1, 95.0 204.1 \" fill=\"#000000\"/>\n",
       "<path class=\"note\" d=\"M 144.1 336.6 Q 142.8 336.6, 142.2 335.6 Q 141.5 334.6, 141.5 332.9 Q 141.5 331.2, 142.2 330.3 Q 142.8 329.3, 144.1 329.3 Q 145.5 329.3, 146.1 330.3 Q 146.7 331.2, 146.7 332.9 Q 146.7 334.6, 146.1 335.6 Q 145.4 336.6, 144.1 336.6 M 144.1 335.8 Q 144.9 335.8, 145.3 335.1 Q 145.7 334.3, 145.7 332.9 Q 145.7 331.5, 145.3 330.8 Q 144.9 330.1, 144.1 330.1 Q 143.4 330.1, 143.0 330.8 Q 142.5 331.5, 142.5 332.9 Q 142.5 334.3, 143.0 335.1 Q 143.4 335.8, 144.1 335.8 \" fill=\"#000000\"/>\n",
       "<path class=\"note\" d=\"M 147.8 335.5 L 148.8 335.5 L 148.8 336.5 L 147.8 336.5 L 147.8 335.5 \" fill=\"#000000\"/>\n",
       "<path class=\"note\" d=\"M 152.5 336.6 Q 151.2 336.6, 150.5 335.6 Q 149.9 334.6, 149.9 332.9 Q 149.9 331.2, 150.5 330.3 Q 151.1 329.3, 152.5 329.3 Q 153.8 329.3, 154.4 330.3 Q 155.1 331.2, 155.1 332.9 Q 155.1 334.6, 154.4 335.6 Q 153.8 336.6, 152.5 336.6 M 152.5 335.8 Q 153.2 335.8, 153.6 335.1 Q 154.1 334.3, 154.1 332.9 Q 154.1 331.5, 153.6 330.8 Q 153.2 330.1, 152.5 330.1 Q 151.7 330.1, 151.3 330.8 Q 150.9 331.5, 150.9 332.9 Q 150.9 334.3, 151.3 335.1 Q 151.7 335.8, 152.5 335.8 \" fill=\"#000000\"/>\n",
       "<path class=\"note\" d=\"M 158.7 332.0 Q 159.3 332.0, 159.8 332.3 Q 160.3 332.6, 160.6 333.1 Q 160.9 333.6, 160.9 334.2 Q 160.9 335.0, 160.6 335.5 Q 160.2 336.0, 159.6 336.3 Q 159.1 336.6, 158.4 336.6 Q 157.7 336.6, 157.1 336.3 Q 156.5 336.1, 156.1 335.6 L 156.7 335.0 Q 157.1 335.4, 157.5 335.6 Q 158.0 335.8, 158.4 335.8 Q 159.1 335.8, 159.5 335.4 Q 159.9 335.0, 159.9 334.3 Q 159.9 333.5, 159.5 333.2 Q 159.1 332.8, 158.4 332.8 Q 157.7 332.8, 157.0 333.1 L 156.5 332.8 L 156.8 329.4 L 160.5 329.4 L 160.4 330.2 L 157.7 330.2 L 157.4 332.3 Q 158.1 332.0, 158.7 332.0 \" fill=\"#000000\"/>\n",
       "<path class=\"note\" d=\"M 130.4 203.4 Q 129.1 203.4, 128.4 202.5 Q 127.8 201.5, 127.8 199.8 Q 127.8 198.1, 128.4 197.1 Q 129.1 196.2, 130.4 196.2 Q 131.7 196.2, 132.4 197.1 Q 133.0 198.1, 133.0 199.8 Q 133.0 201.5, 132.3 202.5 Q 131.7 203.4, 130.4 203.4 M 130.4 202.6 Q 131.2 202.6, 131.6 201.9 Q 132.0 201.2, 132.0 199.8 Q 132.0 198.4, 131.6 197.7 Q 131.2 197.0, 130.4 197.0 Q 129.6 197.0, 129.2 197.7 Q 128.8 198.4, 128.8 199.8 Q 128.8 201.2, 129.2 201.9 Q 129.6 202.6, 130.4 202.6 \" fill=\"#000000\"/>\n",
       "<path class=\"note\" d=\"M 134.1 202.3 L 135.1 202.3 L 135.1 203.3 L 134.1 203.3 L 134.1 202.3 \" fill=\"#000000\"/>\n",
       "<path class=\"note\" d=\"M 138.7 203.4 Q 137.4 203.4, 136.8 202.5 Q 136.1 201.5, 136.1 199.8 Q 136.1 198.1, 136.8 197.1 Q 137.4 196.2, 138.7 196.2 Q 140.0 196.2, 140.7 197.1 Q 141.3 198.1, 141.3 199.8 Q 141.3 201.5, 140.7 202.5 Q 140.0 203.4, 138.7 203.4 M 138.7 202.6 Q 139.5 202.6, 139.9 201.9 Q 140.3 201.2, 140.3 199.8 Q 140.3 198.4, 139.9 197.7 Q 139.5 197.0, 138.7 197.0 Q 138.0 197.0, 137.5 197.7 Q 137.1 198.4, 137.1 199.8 Q 137.1 201.2, 137.5 201.9 Q 138.0 202.6, 138.7 202.6 \" fill=\"#000000\"/>\n",
       "<path class=\"note\" d=\"M 145.0 198.9 Q 145.6 198.9, 146.1 199.2 Q 146.6 199.4, 146.9 199.9 Q 147.2 200.4, 147.2 201.1 Q 147.2 201.8, 146.8 202.4 Q 146.5 202.9, 145.9 203.2 Q 145.3 203.4, 144.6 203.4 Q 144.0 203.4, 143.4 203.2 Q 142.8 202.9, 142.4 202.5 L 143.0 201.9 Q 143.3 202.2, 143.8 202.4 Q 144.2 202.6, 144.7 202.6 Q 145.3 202.6, 145.7 202.2 Q 146.2 201.8, 146.2 201.1 Q 146.2 200.4, 145.7 200.0 Q 145.3 199.7, 144.6 199.7 Q 144.0 199.7, 143.3 199.9 L 142.7 199.7 L 143.1 196.2 L 146.7 196.2 L 146.6 197.0 L 143.9 197.0 L 143.7 199.2 Q 144.3 198.9, 145.0 198.9 \" fill=\"#000000\"/>\n",
       "<path class=\"note\" d=\"M 180.3 198.3 Q 179.0 198.3, 178.3 197.3 Q 177.7 196.3, 177.7 194.6 Q 177.7 192.9, 178.3 192.0 Q 178.9 191.0, 180.3 191.0 Q 181.6 191.0, 182.2 192.0 Q 182.9 192.9, 182.9 194.6 Q 182.9 196.3, 182.2 197.3 Q 181.6 198.3, 180.3 198.3 M 180.3 197.5 Q 181.0 197.5, 181.4 196.8 Q 181.9 196.0, 181.9 194.6 Q 181.9 193.2, 181.4 192.5 Q 181.0 191.8, 180.3 191.8 Q 179.5 191.8, 179.1 192.5 Q 178.7 193.2, 178.7 194.6 Q 178.7 196.0, 179.1 196.8 Q 179.5 197.5, 180.3 197.5 \" fill=\"#000000\"/>\n",
       "<path class=\"note\" d=\"M 183.9 197.2 L 184.9 197.2 L 184.9 198.2 L 183.9 198.2 L 183.9 197.2 \" fill=\"#000000\"/>\n",
       "<path class=\"note\" d=\"M 188.6 198.3 Q 187.3 198.3, 186.6 197.3 Q 186.0 196.3, 186.0 194.6 Q 186.0 192.9, 186.6 192.0 Q 187.3 191.0, 188.6 191.0 Q 189.9 191.0, 190.5 192.0 Q 191.2 192.9, 191.2 194.6 Q 191.2 196.3, 190.5 197.3 Q 189.9 198.3, 188.6 198.3 M 188.6 197.5 Q 189.4 197.5, 189.8 196.8 Q 190.2 196.0, 190.2 194.6 Q 190.2 193.2, 189.8 192.5 Q 189.4 191.8, 188.6 191.8 Q 187.8 191.8, 187.4 192.5 Q 187.0 193.2, 187.0 194.6 Q 187.0 196.0, 187.4 196.8 Q 187.8 197.5, 188.6 197.5 \" fill=\"#000000\"/>\n",
       "<path class=\"note\" d=\"M 195.0 193.8 Q 195.7 193.8, 196.1 194.0 Q 196.6 194.3, 196.9 194.8 Q 197.2 195.3, 197.2 195.9 Q 197.2 196.6, 196.9 197.1 Q 196.6 197.7, 196.0 198.0 Q 195.5 198.3, 194.8 198.3 Q 193.5 198.3, 192.9 197.4 Q 192.3 196.6, 192.3 194.9 Q 192.3 193.0, 193.0 192.0 Q 193.8 191.0, 195.3 191.0 Q 195.8 191.0, 196.2 191.1 Q 196.5 191.2, 196.9 191.4 L 196.5 192.1 Q 196.0 191.8, 195.4 191.8 Q 194.3 191.8, 193.8 192.5 Q 193.3 193.1, 193.3 194.4 Q 193.6 194.1, 194.1 193.9 Q 194.5 193.8, 195.0 193.8 M 194.8 197.5 Q 195.2 197.5, 195.5 197.3 Q 195.8 197.1, 196.0 196.7 Q 196.2 196.3, 196.2 195.9 Q 196.2 195.3, 195.8 194.9 Q 195.5 194.6, 194.9 194.6 Q 194.4 194.6, 194.0 194.7 Q 193.6 194.9, 193.3 195.2 Q 193.3 196.4, 193.7 196.9 Q 194.0 197.5, 194.8 197.5 \" fill=\"#000000\"/>\n",
       "<path class=\"note\" d=\"M 194.0 331.4 Q 192.7 331.4, 192.1 330.5 Q 191.4 329.5, 191.4 327.8 Q 191.4 326.1, 192.1 325.1 Q 192.7 324.2, 194.0 324.2 Q 195.3 324.2, 196.0 325.1 Q 196.6 326.1, 196.6 327.8 Q 196.6 329.5, 196.0 330.5 Q 195.3 331.4, 194.0 331.4 M 194.0 330.6 Q 194.8 330.6, 195.2 329.9 Q 195.6 329.2, 195.6 327.8 Q 195.6 326.4, 195.2 325.7 Q 194.8 325.0, 194.0 325.0 Q 193.2 325.0, 192.8 325.7 Q 192.4 326.4, 192.4 327.8 Q 192.4 329.2, 192.8 329.9 Q 193.2 330.6, 194.0 330.6 \" fill=\"#000000\"/>\n",
       "<path class=\"note\" d=\"M 197.7 330.3 L 198.7 330.3 L 198.7 331.3 L 197.7 331.3 L 197.7 330.3 \" fill=\"#000000\"/>\n",
       "<path class=\"note\" d=\"M 202.3 331.4 Q 201.0 331.4, 200.4 330.5 Q 199.7 329.5, 199.7 327.8 Q 199.7 326.1, 200.4 325.1 Q 201.0 324.2, 202.3 324.2 Q 203.6 324.2, 204.3 325.1 Q 204.9 326.1, 204.9 327.8 Q 204.9 329.5, 204.3 330.5 Q 203.6 331.4, 202.3 331.4 M 202.3 330.6 Q 203.1 330.6, 203.5 329.9 Q 203.9 329.2, 203.9 327.8 Q 203.9 326.4, 203.5 325.7 Q 203.1 325.0, 202.3 325.0 Q 201.6 325.0, 201.1 325.7 Q 200.7 326.4, 200.7 327.8 Q 200.7 329.2, 201.1 329.9 Q 201.6 330.6, 202.3 330.6 \" fill=\"#000000\"/>\n",
       "<path class=\"note\" d=\"M 208.8 326.9 Q 209.4 326.9, 209.9 327.2 Q 210.4 327.4, 210.7 327.9 Q 210.9 328.4, 210.9 329.1 Q 210.9 329.7, 210.6 330.3 Q 210.3 330.8, 209.8 331.1 Q 209.2 331.4, 208.5 331.4 Q 207.3 331.4, 206.6 330.6 Q 206.0 329.7, 206.0 328.0 Q 206.0 326.1, 206.8 325.1 Q 207.6 324.2, 209.1 324.2 Q 209.5 324.2, 209.9 324.3 Q 210.3 324.4, 210.6 324.6 L 210.3 325.2 Q 209.7 325.0, 209.1 325.0 Q 208.1 325.0, 207.6 325.6 Q 207.1 326.3, 207.0 327.6 Q 207.4 327.3, 207.8 327.1 Q 208.3 326.9, 208.8 326.9 M 208.5 330.6 Q 208.9 330.6, 209.2 330.4 Q 209.6 330.2, 209.7 329.8 Q 209.9 329.5, 209.9 329.1 Q 209.9 328.4, 209.6 328.1 Q 209.2 327.7, 208.6 327.7 Q 208.2 327.7, 207.7 327.9 Q 207.3 328.1, 207.0 328.4 Q 207.0 329.5, 207.4 330.1 Q 207.8 330.6, 208.5 330.6 \" fill=\"#000000\"/>\n",
       "<path class=\"note\" d=\"M 243.9 326.3 Q 242.6 326.3, 242.0 325.3 Q 241.3 324.3, 241.3 322.6 Q 241.3 320.9, 242.0 320.0 Q 242.6 319.0, 243.9 319.0 Q 245.3 319.0, 245.9 320.0 Q 246.5 320.9, 246.5 322.6 Q 246.5 324.3, 245.9 325.3 Q 245.2 326.3, 243.9 326.3 M 243.9 325.5 Q 244.7 325.5, 245.1 324.8 Q 245.5 324.0, 245.5 322.6 Q 245.5 321.2, 245.1 320.5 Q 244.7 319.8, 243.9 319.8 Q 243.2 319.8, 242.8 320.5 Q 242.3 321.2, 242.3 322.6 Q 242.3 324.0, 242.8 324.8 Q 243.2 325.5, 243.9 325.5 \" fill=\"#000000\"/>\n",
       "<path class=\"note\" d=\"M 247.6 325.2 L 248.6 325.2 L 248.6 326.2 L 247.6 326.2 L 247.6 325.2 \" fill=\"#000000\"/>\n",
       "<path class=\"note\" d=\"M 252.3 326.3 Q 251.0 326.3, 250.3 325.3 Q 249.7 324.3, 249.7 322.6 Q 249.7 320.9, 250.3 320.0 Q 250.9 319.0, 252.3 319.0 Q 253.6 319.0, 254.2 320.0 Q 254.9 320.9, 254.9 322.6 Q 254.9 324.3, 254.2 325.3 Q 253.6 326.3, 252.3 326.3 M 252.3 325.5 Q 253.0 325.5, 253.4 324.8 Q 253.9 324.0, 253.9 322.6 Q 253.9 321.2, 253.4 320.5 Q 253.0 319.8, 252.3 319.8 Q 251.5 319.8, 251.1 320.5 Q 250.7 321.2, 250.7 322.6 Q 250.7 324.0, 251.1 324.8 Q 251.5 325.5, 252.3 325.5 \" fill=\"#000000\"/>\n",
       "<path class=\"note\" d=\"M 258.3 319.0 Q 259.6 319.0, 260.2 319.9 Q 260.9 320.7, 260.9 322.4 Q 260.9 324.3, 260.1 325.3 Q 259.3 326.3, 257.8 326.3 Q 257.3 326.3, 256.9 326.2 Q 256.6 326.1, 256.2 325.9 L 256.6 325.2 Q 257.1 325.5, 257.8 325.5 Q 258.8 325.5, 259.3 324.8 Q 259.8 324.2, 259.8 322.8 Q 259.5 323.2, 259.0 323.3 Q 258.6 323.5, 258.1 323.5 Q 257.5 323.5, 257.0 323.2 Q 256.5 323.0, 256.2 322.5 Q 255.9 322.0, 255.9 321.4 Q 255.9 320.7, 256.2 320.1 Q 256.5 319.6, 257.1 319.3 Q 257.6 319.0, 258.3 319.0 M 256.9 321.4 Q 256.9 322.0, 257.3 322.4 Q 257.6 322.7, 258.3 322.7 Q 258.7 322.7, 259.1 322.5 Q 259.5 322.4, 259.8 322.1 Q 259.8 320.9, 259.4 320.4 Q 259.1 319.8, 258.3 319.8 Q 257.9 319.8, 257.6 320.0 Q 257.3 320.2, 257.1 320.6 Q 256.9 320.9, 256.9 321.4 \" fill=\"#000000\"/>\n",
       "<path class=\"note\" d=\"M 230.2 193.1 Q 228.9 193.1, 228.2 192.2 Q 227.6 191.2, 227.6 189.5 Q 227.6 187.8, 228.2 186.8 Q 228.9 185.9, 230.2 185.9 Q 231.5 185.9, 232.2 186.8 Q 232.8 187.8, 232.8 189.5 Q 232.8 191.2, 232.1 192.2 Q 231.5 193.1, 230.2 193.1 M 230.2 192.3 Q 231.0 192.3, 231.4 191.6 Q 231.8 190.9, 231.8 189.5 Q 231.8 188.1, 231.4 187.4 Q 231.0 186.7, 230.2 186.7 Q 229.4 186.7, 229.0 187.4 Q 228.6 188.1, 228.6 189.5 Q 228.6 190.9, 229.0 191.6 Q 229.4 192.3, 230.2 192.3 \" fill=\"#000000\"/>\n",
       "<path class=\"note\" d=\"M 233.9 192.0 L 234.9 192.0 L 234.9 193.0 L 233.9 193.0 L 233.9 192.0 \" fill=\"#000000\"/>\n",
       "<path class=\"note\" d=\"M 238.5 193.1 Q 237.2 193.1, 236.6 192.2 Q 235.9 191.2, 235.9 189.5 Q 235.9 187.8, 236.6 186.8 Q 237.2 185.9, 238.5 185.9 Q 239.8 185.9, 240.5 186.8 Q 241.1 187.8, 241.1 189.5 Q 241.1 191.2, 240.5 192.2 Q 239.8 193.1, 238.5 193.1 M 238.5 192.3 Q 239.3 192.3, 239.7 191.6 Q 240.1 190.9, 240.1 189.5 Q 240.1 188.1, 239.7 187.4 Q 239.3 186.7, 238.5 186.7 Q 237.8 186.7, 237.3 187.4 Q 236.9 188.1, 236.9 189.5 Q 236.9 190.9, 237.3 191.6 Q 237.8 192.3, 238.5 192.3 \" fill=\"#000000\"/>\n",
       "<path class=\"note\" d=\"M 244.6 185.9 Q 245.8 185.9, 246.5 186.7 Q 247.1 187.6, 247.1 189.3 Q 247.1 191.2, 246.3 192.1 Q 245.5 193.1, 244.0 193.1 Q 243.6 193.1, 243.2 193.0 Q 242.8 192.9, 242.5 192.7 L 242.9 192.0 Q 243.4 192.3, 244.0 192.3 Q 245.0 192.3, 245.5 191.7 Q 246.0 191.0, 246.1 189.7 Q 245.7 190.0, 245.3 190.2 Q 244.8 190.4, 244.3 190.4 Q 243.7 190.4, 243.2 190.1 Q 242.7 189.8, 242.5 189.3 Q 242.2 188.8, 242.2 188.2 Q 242.2 187.5, 242.5 187.0 Q 242.8 186.5, 243.3 186.2 Q 243.9 185.9, 244.6 185.9 M 243.2 188.2 Q 243.2 188.8, 243.5 189.2 Q 243.9 189.6, 244.5 189.6 Q 244.9 189.6, 245.4 189.4 Q 245.8 189.2, 246.1 188.9 Q 246.1 187.7, 245.7 187.2 Q 245.3 186.7, 244.6 186.7 Q 244.2 186.7, 243.9 186.9 Q 243.5 187.1, 243.4 187.4 Q 243.2 187.8, 243.2 188.2 \" fill=\"#000000\"/>\n",
       "<path class=\"note\" d=\"M 285.4 149.9 Q 284.1 149.9, 283.4 149.0 Q 282.8 148.0, 282.8 146.3 Q 282.8 144.6, 283.4 143.6 Q 284.1 142.7, 285.4 142.7 Q 286.7 142.7, 287.4 143.6 Q 288.0 144.6, 288.0 146.3 Q 288.0 148.0, 287.3 149.0 Q 286.7 149.9, 285.4 149.9 M 285.4 149.1 Q 286.2 149.1, 286.6 148.4 Q 287.0 147.7, 287.0 146.3 Q 287.0 144.9, 286.6 144.2 Q 286.2 143.5, 285.4 143.5 Q 284.6 143.5, 284.2 144.2 Q 283.8 144.9, 283.8 146.3 Q 283.8 147.7, 284.2 148.4 Q 284.6 149.1, 285.4 149.1 \" fill=\"#000000\"/>\n",
       "<path class=\"note\" d=\"M 289.0 148.8 L 290.0 148.8 L 290.0 149.8 L 289.0 149.8 L 289.0 148.8 \" fill=\"#000000\"/>\n",
       "<path class=\"note\" d=\"M 291.1 144.1 Q 291.4 143.4, 292.0 143.0 Q 292.6 142.7, 293.5 142.7 Q 294.6 142.7, 295.2 143.2 Q 295.8 143.8, 295.8 144.9 Q 295.8 145.9, 295.0 146.9 Q 294.2 147.9, 292.6 149.0 L 295.9 149.0 L 295.9 149.8 L 291.1 149.8 L 291.1 149.2 Q 292.4 148.2, 293.2 147.5 Q 294.0 146.8, 294.4 146.2 Q 294.8 145.6, 294.8 144.9 Q 294.8 144.2, 294.4 143.8 Q 294.1 143.5, 293.5 143.5 Q 292.9 143.5, 292.5 143.7 Q 292.1 143.9, 291.9 144.4 L 291.1 144.1 \" fill=\"#000000\"/>\n",
       "<path class=\"note\" d=\"M 300.3 146.1 Q 301.0 146.3, 301.3 146.8 Q 301.7 147.2, 301.7 147.9 Q 301.7 148.5, 301.4 149.0 Q 301.1 149.4, 300.5 149.7 Q 299.9 149.9, 299.2 149.9 Q 298.5 149.9, 297.9 149.7 Q 297.3 149.4, 296.9 148.9 L 297.4 148.3 Q 297.9 148.8, 298.3 149.0 Q 298.6 149.1, 299.2 149.1 Q 299.9 149.1, 300.3 148.8 Q 300.7 148.4, 300.7 147.9 Q 300.7 147.2, 300.2 146.8 Q 299.8 146.5, 299.0 146.5 L 298.5 146.5 L 298.5 145.8 L 298.9 145.8 Q 299.7 145.8, 300.1 145.4 Q 300.5 145.1, 300.5 144.5 Q 300.5 144.0, 300.2 143.7 Q 299.8 143.5, 299.2 143.5 Q 298.6 143.5, 298.3 143.7 Q 297.9 143.9, 297.6 144.4 L 296.9 144.0 Q 297.2 143.4, 297.8 143.1 Q 298.4 142.7, 299.2 142.7 Q 300.3 142.7, 300.9 143.1 Q 301.5 143.6, 301.5 144.5 Q 301.5 145.0, 301.2 145.5 Q 300.9 145.9, 300.3 146.1 \" fill=\"#000000\"/>\n",
       "<path class=\"note\" d=\"M 402.4 204.5 Q 401.1 204.5, 400.4 203.5 Q 399.8 202.6, 399.8 200.9 Q 399.8 199.1, 400.4 198.2 Q 401.1 197.2, 402.4 197.2 Q 403.7 197.2, 404.4 198.2 Q 405.0 199.1, 405.0 200.9 Q 405.0 202.6, 404.3 203.5 Q 403.7 204.5, 402.4 204.5 M 402.4 203.7 Q 403.2 203.7, 403.6 203.0 Q 404.0 202.3, 404.0 200.9 Q 404.0 199.5, 403.6 198.7 Q 403.2 198.0, 402.4 198.0 Q 401.6 198.0, 401.2 198.7 Q 400.8 199.5, 400.8 200.9 Q 400.8 202.3, 401.2 203.0 Q 401.6 203.7, 402.4 203.7 \" fill=\"#000000\"/>\n",
       "<path class=\"note\" d=\"M 406.0 203.4 L 407.0 203.4 L 407.0 204.4 L 406.0 204.4 L 406.0 203.4 \" fill=\"#000000\"/>\n",
       "<path class=\"note\" d=\"M 408.1 198.7 Q 408.4 198.0, 409.0 197.6 Q 409.6 197.2, 410.5 197.2 Q 411.6 197.2, 412.2 197.8 Q 412.8 198.4, 412.8 199.4 Q 412.8 200.5, 412.0 201.5 Q 411.2 202.5, 409.6 203.6 L 412.9 203.6 L 412.9 204.4 L 408.1 204.4 L 408.1 203.7 Q 409.4 202.8, 410.2 202.1 Q 411.0 201.4, 411.4 200.8 Q 411.8 200.1, 411.8 199.5 Q 411.8 198.8, 411.4 198.4 Q 411.1 198.0, 410.5 198.0 Q 409.9 198.0, 409.5 198.3 Q 409.1 198.5, 408.9 199.0 L 408.1 198.7 \" fill=\"#000000\"/>\n",
       "<path class=\"note\" d=\"M 417.3 200.7 Q 418.0 200.9, 418.3 201.3 Q 418.7 201.8, 418.7 202.5 Q 418.7 203.1, 418.4 203.5 Q 418.1 204.0, 417.5 204.3 Q 416.9 204.5, 416.2 204.5 Q 415.5 204.5, 414.9 204.3 Q 414.3 204.0, 413.9 203.4 L 414.4 202.9 Q 414.9 203.3, 415.3 203.5 Q 415.6 203.7, 416.2 203.7 Q 416.9 203.7, 417.3 203.4 Q 417.7 203.0, 417.7 202.5 Q 417.7 201.7, 417.2 201.4 Q 416.8 201.1, 416.0 201.1 L 415.5 201.1 L 415.5 200.4 L 415.9 200.4 Q 416.7 200.4, 417.1 200.0 Q 417.5 199.7, 417.5 199.0 Q 417.5 198.6, 417.2 198.3 Q 416.8 198.0, 416.2 198.0 Q 415.6 198.0, 415.3 198.2 Q 414.9 198.5, 414.6 199.0 L 413.9 198.6 Q 414.2 198.0, 414.8 197.6 Q 415.4 197.2, 416.2 197.2 Q 417.3 197.2, 417.9 197.7 Q 418.5 198.2, 418.5 199.0 Q 418.5 199.6, 418.2 200.0 Q 417.9 200.4, 417.3 200.7 \" fill=\"#000000\"/>\n",
       "<path class=\"note\" d=\"M 306.8 357.3 Q 305.5 357.3, 304.8 356.4 Q 304.2 355.4, 304.2 353.7 Q 304.2 352.0, 304.8 351.0 Q 305.5 350.1, 306.8 350.1 Q 308.1 350.1, 308.7 351.0 Q 309.4 352.0, 309.4 353.7 Q 309.4 355.4, 308.7 356.4 Q 308.1 357.3, 306.8 357.3 M 306.8 356.5 Q 307.6 356.5, 308.0 355.8 Q 308.4 355.1, 308.4 353.7 Q 308.4 352.3, 308.0 351.6 Q 307.6 350.9, 306.8 350.9 Q 306.0 350.9, 305.6 351.6 Q 305.2 352.3, 305.2 353.7 Q 305.2 355.1, 305.6 355.8 Q 306.0 356.5, 306.8 356.5 \" fill=\"#000000\"/>\n",
       "<path class=\"note\" d=\"M 310.4 356.3 L 311.4 356.3 L 311.4 357.3 L 310.4 357.3 L 310.4 356.3 \" fill=\"#000000\"/>\n",
       "<path class=\"note\" d=\"M 312.5 351.5 Q 312.8 350.8, 313.4 350.5 Q 314.0 350.1, 314.9 350.1 Q 316.0 350.1, 316.6 350.7 Q 317.2 351.2, 317.2 352.3 Q 317.2 353.3, 316.4 354.3 Q 315.6 355.3, 314.0 356.5 L 317.3 356.5 L 317.3 357.3 L 312.5 357.3 L 312.5 356.6 Q 313.8 355.6, 314.6 354.9 Q 315.4 354.2, 315.8 353.6 Q 316.2 353.0, 316.2 352.3 Q 316.2 351.6, 315.8 351.3 Q 315.5 350.9, 314.9 350.9 Q 314.3 350.9, 313.9 351.1 Q 313.5 351.3, 313.3 351.9 L 312.5 351.5 \" fill=\"#000000\"/>\n",
       "<path class=\"note\" d=\"M 320.9 352.8 Q 321.5 352.8, 322.0 353.1 Q 322.5 353.3, 322.8 353.9 Q 323.1 354.3, 323.1 355.0 Q 323.1 355.7, 322.7 356.3 Q 322.4 356.8, 321.8 357.1 Q 321.2 357.3, 320.5 357.3 Q 319.9 357.3, 319.3 357.1 Q 318.7 356.9, 318.3 356.4 L 318.9 355.8 Q 319.2 356.1, 319.7 356.3 Q 320.1 356.5, 320.6 356.5 Q 321.2 356.5, 321.6 356.1 Q 322.1 355.7, 322.1 355.0 Q 322.1 354.3, 321.6 353.9 Q 321.2 353.6, 320.5 353.6 Q 319.9 353.6, 319.2 353.8 L 318.6 353.6 L 319.0 350.2 L 322.6 350.2 L 322.5 351.0 L 319.8 351.0 L 319.6 353.1 Q 320.2 352.8, 320.9 352.8 \" fill=\"#000000\"/>\n",
       "<path class=\"note\" d=\"M 465.1 336.4 Q 463.8 336.4, 463.1 335.5 Q 462.5 334.5, 462.5 332.8 Q 462.5 331.1, 463.1 330.1 Q 463.8 329.2, 465.1 329.2 Q 466.4 329.2, 467.1 330.1 Q 467.7 331.1, 467.7 332.8 Q 467.7 334.5, 467.1 335.5 Q 466.4 336.4, 465.1 336.4 M 465.1 335.6 Q 465.9 335.6, 466.3 334.9 Q 466.7 334.2, 466.7 332.8 Q 466.7 331.4, 466.3 330.7 Q 465.9 330.0, 465.1 330.0 Q 464.3 330.0, 463.9 330.7 Q 463.5 331.4, 463.5 332.8 Q 463.5 334.2, 463.9 334.9 Q 464.3 335.6, 465.1 335.6 \" fill=\"#000000\"/>\n",
       "<path class=\"note\" d=\"M 468.7 335.4 L 469.7 335.4 L 469.7 336.4 L 468.7 336.4 L 468.7 335.4 \" fill=\"#000000\"/>\n",
       "<path class=\"note\" d=\"M 471.1 335.6 L 472.7 335.6 L 472.7 330.2 L 470.9 330.8 L 470.7 330.2 L 472.9 329.2 L 473.6 329.3 L 473.6 335.6 L 475.0 335.6 L 475.0 336.4 L 471.1 336.4 L 471.1 335.6 \" fill=\"#000000\"/>\n",
       "<path class=\"note\" d=\"M 379.8 354.7 Q 378.5 354.7, 377.8 353.7 Q 377.2 352.7, 377.2 351.0 Q 377.2 349.3, 377.8 348.3 Q 378.5 347.4, 379.8 347.4 Q 381.1 347.4, 381.7 348.3 Q 382.4 349.3, 382.4 351.0 Q 382.4 352.7, 381.7 353.7 Q 381.1 354.7, 379.8 354.7 M 379.8 353.8 Q 380.5 353.8, 381.0 353.1 Q 381.4 352.4, 381.4 351.0 Q 381.4 349.6, 381.0 348.9 Q 380.5 348.2, 379.8 348.2 Q 379.0 348.2, 378.6 348.9 Q 378.2 349.6, 378.2 351.0 Q 378.2 352.4, 378.6 353.1 Q 379.0 353.8, 379.8 353.8 \" fill=\"#000000\"/>\n",
       "<path class=\"note\" d=\"M 383.4 353.6 L 384.4 353.6 L 384.4 354.6 L 383.4 354.6 L 383.4 353.6 \" fill=\"#000000\"/>\n",
       "<path class=\"note\" d=\"M 385.8 353.8 L 387.3 353.8 L 387.3 348.5 L 385.6 349.0 L 385.4 348.4 L 387.6 347.4 L 388.3 347.5 L 388.3 353.8 L 389.7 353.8 L 389.7 354.6 L 385.8 354.6 L 385.8 353.8 \" fill=\"#000000\"/>\n",
       "<path class=\"note\" d=\"M 446.9 238.9 Q 445.6 238.9, 445.0 237.9 Q 444.3 236.9, 444.3 235.2 Q 444.3 233.5, 445.0 232.5 Q 445.6 231.6, 446.9 231.6 Q 448.2 231.6, 448.9 232.5 Q 449.5 233.5, 449.5 235.2 Q 449.5 236.9, 448.9 237.9 Q 448.2 238.9, 446.9 238.9 M 446.9 238.1 Q 447.7 238.1, 448.1 237.3 Q 448.5 236.6, 448.5 235.2 Q 448.5 233.8, 448.1 233.1 Q 447.7 232.4, 446.9 232.4 Q 446.2 232.4, 445.7 233.1 Q 445.3 233.8, 445.3 235.2 Q 445.3 236.6, 445.7 237.3 Q 446.2 238.1, 446.9 238.1 \" fill=\"#000000\"/>\n",
       "<path class=\"note\" d=\"M 450.5 237.8 L 451.5 237.8 L 451.5 238.8 L 450.5 238.8 L 450.5 237.8 \" fill=\"#000000\"/>\n",
       "<path class=\"note\" d=\"M 452.9 238.0 L 454.5 238.0 L 454.5 232.7 L 452.8 233.2 L 452.5 232.6 L 454.7 231.6 L 455.4 231.7 L 455.4 238.0 L 456.8 238.0 L 456.8 238.8 L 452.9 238.8 L 452.9 238.0 \" fill=\"#000000\"/>\n",
       "</svg>"
      ],
      "text/plain": [
       "<IPython.core.display.SVG object>"
      ]
     },
     "execution_count": 14,
     "metadata": {},
     "output_type": "execute_result"
    }
   ],
   "source": [
    "bmim.assign_partial_charges(partial_charge_method=\"am1bcc\")\n",
    "\n",
    "draw_with_partial_charges(bmim)"
   ]
  },
  {
   "cell_type": "code",
   "execution_count": 15,
   "id": "7bfe4909-52cc-426a-8fcb-46c4ae5d849c",
   "metadata": {},
   "outputs": [
    {
     "data": {
      "image/svg+xml": [
       "<svg xmlns=\"http://www.w3.org/2000/svg\" xmlns:rdkit=\"http://www.rdkit.org/xml\" xmlns:xlink=\"http://www.w3.org/1999/xlink\" version=\"1.1\" baseProfile=\"full\" xml:space=\"preserve\" width=\"500px\" height=\"500px\" viewBox=\"0 0 500 500\">\n",
       "<!-- END OF HEADER -->\n",
       "<rect style=\"opacity:1.0;fill:#FFFFFF;stroke:none\" width=\"500.0\" height=\"500.0\" x=\"0.0\" y=\"0.0\"> </rect>\n",
       "<path class=\"bond-0 atom-0 atom-1\" d=\"M 380.0,268.7 L 365.0,294.7\" style=\"fill:none;fill-rule:evenodd;stroke:#000000;stroke-width:2.0px;stroke-linecap:butt;stroke-linejoin:miter;stroke-opacity:1\"/>\n",
       "<path class=\"bond-0 atom-0 atom-1\" d=\"M 365.0,294.7 L 350.1,320.6\" style=\"fill:none;fill-rule:evenodd;stroke:#33CCCC;stroke-width:2.0px;stroke-linecap:butt;stroke-linejoin:miter;stroke-opacity:1\"/>\n",
       "<path class=\"bond-1 atom-0 atom-2\" d=\"M 380.0,268.7 L 395.0,242.8\" style=\"fill:none;fill-rule:evenodd;stroke:#000000;stroke-width:2.0px;stroke-linecap:butt;stroke-linejoin:miter;stroke-opacity:1\"/>\n",
       "<path class=\"bond-1 atom-0 atom-2\" d=\"M 395.0,242.8 L 410.0,216.8\" style=\"fill:none;fill-rule:evenodd;stroke:#33CCCC;stroke-width:2.0px;stroke-linecap:butt;stroke-linejoin:miter;stroke-opacity:1\"/>\n",
       "<path class=\"bond-2 atom-0 atom-3\" d=\"M 380.0,268.7 L 408.1,284.9\" style=\"fill:none;fill-rule:evenodd;stroke:#000000;stroke-width:2.0px;stroke-linecap:butt;stroke-linejoin:miter;stroke-opacity:1\"/>\n",
       "<path class=\"bond-2 atom-0 atom-3\" d=\"M 408.1,284.9 L 436.2,301.2\" style=\"fill:none;fill-rule:evenodd;stroke:#33CCCC;stroke-width:2.0px;stroke-linecap:butt;stroke-linejoin:miter;stroke-opacity:1\"/>\n",
       "<path class=\"bond-3 atom-0 atom-4\" d=\"M 380.0,268.7 L 352.2,252.6\" style=\"fill:none;fill-rule:evenodd;stroke:#000000;stroke-width:2.0px;stroke-linecap:butt;stroke-linejoin:miter;stroke-opacity:1\"/>\n",
       "<path class=\"bond-3 atom-0 atom-4\" d=\"M 352.2,252.6 L 324.3,236.5\" style=\"fill:none;fill-rule:evenodd;stroke:#CCCC00;stroke-width:2.0px;stroke-linecap:butt;stroke-linejoin:miter;stroke-opacity:1\"/>\n",
       "<path class=\"bond-4 atom-4 atom-5\" d=\"M 327.4,220.9 L 338.5,201.7\" style=\"fill:none;fill-rule:evenodd;stroke:#CCCC00;stroke-width:2.0px;stroke-linecap:butt;stroke-linejoin:miter;stroke-opacity:1\"/>\n",
       "<path class=\"bond-4 atom-4 atom-5\" d=\"M 338.5,201.7 L 349.6,182.5\" style=\"fill:none;fill-rule:evenodd;stroke:#FF0000;stroke-width:2.0px;stroke-linecap:butt;stroke-linejoin:miter;stroke-opacity:1\"/>\n",
       "<path class=\"bond-4 atom-4 atom-5\" d=\"M 317.7,215.3 L 328.8,196.1\" style=\"fill:none;fill-rule:evenodd;stroke:#CCCC00;stroke-width:2.0px;stroke-linecap:butt;stroke-linejoin:miter;stroke-opacity:1\"/>\n",
       "<path class=\"bond-4 atom-4 atom-5\" d=\"M 328.8,196.1 L 339.8,176.9\" style=\"fill:none;fill-rule:evenodd;stroke:#FF0000;stroke-width:2.0px;stroke-linecap:butt;stroke-linejoin:miter;stroke-opacity:1\"/>\n",
       "<path class=\"bond-5 atom-4 atom-6\" d=\"M 302.3,242.0 L 291.2,261.1\" style=\"fill:none;fill-rule:evenodd;stroke:#CCCC00;stroke-width:2.0px;stroke-linecap:butt;stroke-linejoin:miter;stroke-opacity:1\"/>\n",
       "<path class=\"bond-5 atom-4 atom-6\" d=\"M 291.2,261.1 L 280.2,280.1\" style=\"fill:none;fill-rule:evenodd;stroke:#FF0000;stroke-width:2.0px;stroke-linecap:butt;stroke-linejoin:miter;stroke-opacity:1\"/>\n",
       "<path class=\"bond-5 atom-4 atom-6\" d=\"M 312.0,247.6 L 301.0,266.7\" style=\"fill:none;fill-rule:evenodd;stroke:#CCCC00;stroke-width:2.0px;stroke-linecap:butt;stroke-linejoin:miter;stroke-opacity:1\"/>\n",
       "<path class=\"bond-5 atom-4 atom-6\" d=\"M 301.0,266.7 L 290.0,285.8\" style=\"fill:none;fill-rule:evenodd;stroke:#FF0000;stroke-width:2.0px;stroke-linecap:butt;stroke-linejoin:miter;stroke-opacity:1\"/>\n",
       "<path class=\"bond-6 atom-4 atom-7\" d=\"M 305.7,225.8 L 283.1,212.8\" style=\"fill:none;fill-rule:evenodd;stroke:#CCCC00;stroke-width:2.0px;stroke-linecap:butt;stroke-linejoin:miter;stroke-opacity:1\"/>\n",
       "<path class=\"bond-6 atom-4 atom-7\" d=\"M 283.1,212.8 L 260.5,199.7\" style=\"fill:none;fill-rule:evenodd;stroke:#0000FF;stroke-width:2.0px;stroke-linecap:butt;stroke-linejoin:miter;stroke-opacity:1\"/>\n",
       "<path class=\"bond-7 atom-7 atom-8\" d=\"M 239.5,199.7 L 216.9,212.8\" style=\"fill:none;fill-rule:evenodd;stroke:#0000FF;stroke-width:2.0px;stroke-linecap:butt;stroke-linejoin:miter;stroke-opacity:1\"/>\n",
       "<path class=\"bond-7 atom-7 atom-8\" d=\"M 216.9,212.8 L 194.3,225.8\" style=\"fill:none;fill-rule:evenodd;stroke:#CCCC00;stroke-width:2.0px;stroke-linecap:butt;stroke-linejoin:miter;stroke-opacity:1\"/>\n",
       "<path class=\"bond-8 atom-8 atom-9\" d=\"M 188.0,247.6 L 199.0,266.7\" style=\"fill:none;fill-rule:evenodd;stroke:#CCCC00;stroke-width:2.0px;stroke-linecap:butt;stroke-linejoin:miter;stroke-opacity:1\"/>\n",
       "<path class=\"bond-8 atom-8 atom-9\" d=\"M 199.0,266.7 L 210.0,285.8\" style=\"fill:none;fill-rule:evenodd;stroke:#FF0000;stroke-width:2.0px;stroke-linecap:butt;stroke-linejoin:miter;stroke-opacity:1\"/>\n",
       "<path class=\"bond-8 atom-8 atom-9\" d=\"M 197.7,242.0 L 208.8,261.1\" style=\"fill:none;fill-rule:evenodd;stroke:#CCCC00;stroke-width:2.0px;stroke-linecap:butt;stroke-linejoin:miter;stroke-opacity:1\"/>\n",
       "<path class=\"bond-8 atom-8 atom-9\" d=\"M 208.8,261.1 L 219.8,280.1\" style=\"fill:none;fill-rule:evenodd;stroke:#FF0000;stroke-width:2.0px;stroke-linecap:butt;stroke-linejoin:miter;stroke-opacity:1\"/>\n",
       "<path class=\"bond-9 atom-8 atom-10\" d=\"M 182.3,215.3 L 171.2,196.1\" style=\"fill:none;fill-rule:evenodd;stroke:#CCCC00;stroke-width:2.0px;stroke-linecap:butt;stroke-linejoin:miter;stroke-opacity:1\"/>\n",
       "<path class=\"bond-9 atom-8 atom-10\" d=\"M 171.2,196.1 L 160.2,176.9\" style=\"fill:none;fill-rule:evenodd;stroke:#FF0000;stroke-width:2.0px;stroke-linecap:butt;stroke-linejoin:miter;stroke-opacity:1\"/>\n",
       "<path class=\"bond-9 atom-8 atom-10\" d=\"M 172.6,220.9 L 161.5,201.7\" style=\"fill:none;fill-rule:evenodd;stroke:#CCCC00;stroke-width:2.0px;stroke-linecap:butt;stroke-linejoin:miter;stroke-opacity:1\"/>\n",
       "<path class=\"bond-9 atom-8 atom-10\" d=\"M 161.5,201.7 L 150.4,182.5\" style=\"fill:none;fill-rule:evenodd;stroke:#FF0000;stroke-width:2.0px;stroke-linecap:butt;stroke-linejoin:miter;stroke-opacity:1\"/>\n",
       "<path class=\"bond-10 atom-8 atom-11\" d=\"M 175.7,236.5 L 147.8,252.6\" style=\"fill:none;fill-rule:evenodd;stroke:#CCCC00;stroke-width:2.0px;stroke-linecap:butt;stroke-linejoin:miter;stroke-opacity:1\"/>\n",
       "<path class=\"bond-10 atom-8 atom-11\" d=\"M 147.8,252.6 L 120.0,268.7\" style=\"fill:none;fill-rule:evenodd;stroke:#000000;stroke-width:2.0px;stroke-linecap:butt;stroke-linejoin:miter;stroke-opacity:1\"/>\n",
       "<path class=\"bond-11 atom-11 atom-12\" d=\"M 120.0,268.7 L 135.0,294.7\" style=\"fill:none;fill-rule:evenodd;stroke:#000000;stroke-width:2.0px;stroke-linecap:butt;stroke-linejoin:miter;stroke-opacity:1\"/>\n",
       "<path class=\"bond-11 atom-11 atom-12\" d=\"M 135.0,294.7 L 149.9,320.6\" style=\"fill:none;fill-rule:evenodd;stroke:#33CCCC;stroke-width:2.0px;stroke-linecap:butt;stroke-linejoin:miter;stroke-opacity:1\"/>\n",
       "<path class=\"bond-12 atom-11 atom-13\" d=\"M 120.0,268.7 L 105.0,242.8\" style=\"fill:none;fill-rule:evenodd;stroke:#000000;stroke-width:2.0px;stroke-linecap:butt;stroke-linejoin:miter;stroke-opacity:1\"/>\n",
       "<path class=\"bond-12 atom-11 atom-13\" d=\"M 105.0,242.8 L 90.0,216.8\" style=\"fill:none;fill-rule:evenodd;stroke:#33CCCC;stroke-width:2.0px;stroke-linecap:butt;stroke-linejoin:miter;stroke-opacity:1\"/>\n",
       "<path class=\"bond-13 atom-11 atom-14\" d=\"M 120.0,268.7 L 91.9,284.9\" style=\"fill:none;fill-rule:evenodd;stroke:#000000;stroke-width:2.0px;stroke-linecap:butt;stroke-linejoin:miter;stroke-opacity:1\"/>\n",
       "<path class=\"bond-13 atom-11 atom-14\" d=\"M 91.9,284.9 L 63.8,301.2\" style=\"fill:none;fill-rule:evenodd;stroke:#33CCCC;stroke-width:2.0px;stroke-linecap:butt;stroke-linejoin:miter;stroke-opacity:1\"/>\n",
       "<path class=\"atom-1\" d=\"M 336.2 323.1 L 348.8 323.1 L 348.8 325.5 L 339.0 325.5 L 339.0 332.0 L 347.7 332.0 L 347.7 334.4 L 339.0 334.4 L 339.0 344.3 L 336.2 344.3 L 336.2 323.1 \" fill=\"#33CCCC\"/>\n",
       "<path class=\"atom-2\" d=\"M 411.2 193.1 L 423.9 193.1 L 423.9 195.5 L 414.1 195.5 L 414.1 202.0 L 422.8 202.0 L 422.8 204.4 L 414.1 204.4 L 414.1 214.3 L 411.2 214.3 L 411.2 193.1 \" fill=\"#33CCCC\"/>\n",
       "<path class=\"atom-3\" d=\"M 438.7 295.6 L 451.3 295.6 L 451.3 298.0 L 441.6 298.0 L 441.6 304.5 L 450.3 304.5 L 450.3 307.0 L 441.6 307.0 L 441.6 316.9 L 438.7 316.9 L 438.7 295.6 \" fill=\"#33CCCC\"/>\n",
       "<path class=\"atom-4\" d=\"M 309.0 238.5 Q 309.2 238.6, 310.2 239.0 Q 311.2 239.4, 312.3 239.7 Q 313.4 239.9, 314.5 239.9 Q 316.5 239.9, 317.7 239.0 Q 318.9 238.0, 318.9 236.2 Q 318.9 235.1, 318.3 234.4 Q 317.7 233.6, 316.8 233.2 Q 315.9 232.9, 314.4 232.4 Q 312.5 231.8, 311.3 231.3 Q 310.2 230.8, 309.4 229.6 Q 308.6 228.5, 308.6 226.5 Q 308.6 223.9, 310.4 222.2 Q 312.3 220.6, 315.9 220.6 Q 318.3 220.6, 321.1 221.7 L 320.4 224.1 Q 317.9 223.0, 316.0 223.0 Q 313.9 223.0, 312.8 223.9 Q 311.6 224.7, 311.6 226.2 Q 311.6 227.3, 312.2 228.0 Q 312.8 228.7, 313.7 229.1 Q 314.5 229.5, 316.0 229.9 Q 317.9 230.5, 319.0 231.1 Q 320.2 231.7, 321.0 233.0 Q 321.8 234.2, 321.8 236.2 Q 321.8 239.2, 319.8 240.8 Q 317.9 242.3, 314.6 242.3 Q 312.7 242.3, 311.3 241.9 Q 309.9 241.5, 308.2 240.8 L 309.0 238.5 \" fill=\"#CCCC00\"/>\n",
       "<path class=\"atom-5\" d=\"M 342.8 166.2 Q 342.8 161.1, 345.3 158.3 Q 347.8 155.4, 352.5 155.4 Q 357.3 155.4, 359.8 158.3 Q 362.3 161.1, 362.3 166.2 Q 362.3 171.4, 359.7 174.3 Q 357.2 177.2, 352.5 177.2 Q 347.9 177.2, 345.3 174.3 Q 342.8 171.4, 342.8 166.2 M 352.5 174.8 Q 355.8 174.8, 357.5 172.7 Q 359.3 170.5, 359.3 166.2 Q 359.3 162.1, 357.5 160.0 Q 355.8 157.8, 352.5 157.8 Q 349.3 157.8, 347.5 159.9 Q 345.8 162.0, 345.8 166.2 Q 345.8 170.5, 347.5 172.7 Q 349.3 174.8, 352.5 174.8 \" fill=\"#FF0000\"/>\n",
       "<path class=\"atom-6\" d=\"M 267.7 296.2 Q 267.7 291.1, 270.2 288.3 Q 272.8 285.4, 277.5 285.4 Q 282.2 285.4, 284.7 288.3 Q 287.2 291.1, 287.2 296.2 Q 287.2 301.4, 284.7 304.3 Q 282.1 307.3, 277.5 307.3 Q 272.8 307.3, 270.2 304.3 Q 267.7 301.4, 267.7 296.2 M 277.5 304.9 Q 280.7 304.9, 282.5 302.7 Q 284.2 300.5, 284.2 296.2 Q 284.2 292.1, 282.5 290.0 Q 280.7 287.8, 277.5 287.8 Q 274.2 287.8, 272.5 289.9 Q 270.7 292.0, 270.7 296.2 Q 270.7 300.5, 272.5 302.7 Q 274.2 304.9, 277.5 304.9 \" fill=\"#FF0000\"/>\n",
       "<path class=\"atom-7\" d=\"M 245.3 183.0 L 252.3 194.3 Q 253.0 195.4, 254.1 197.4 Q 255.2 199.4, 255.2 199.5 L 255.2 183.0 L 258.1 183.0 L 258.1 204.3 L 255.1 204.3 L 247.7 192.0 Q 246.8 190.5, 245.9 188.9 Q 245.0 187.2, 244.7 186.7 L 244.7 204.3 L 241.9 204.3 L 241.9 183.0 L 245.3 183.0 \" fill=\"#0000FF\"/>\n",
       "<path class=\"atom-7\" d=\"M 261.9 186.5 L 269.2 186.5 L 269.2 188.1 L 261.9 188.1 L 261.9 186.5 \" fill=\"#0000FF\"/>\n",
       "<path class=\"atom-8\" d=\"M 179.0 238.5 Q 179.2 238.6, 180.2 239.0 Q 181.2 239.4, 182.3 239.7 Q 183.4 239.9, 184.5 239.9 Q 186.5 239.9, 187.7 239.0 Q 188.8 238.0, 188.8 236.2 Q 188.8 235.1, 188.2 234.4 Q 187.7 233.6, 186.8 233.2 Q 185.9 232.9, 184.4 232.4 Q 182.5 231.8, 181.3 231.3 Q 180.2 230.8, 179.4 229.6 Q 178.6 228.5, 178.6 226.5 Q 178.6 223.9, 180.4 222.2 Q 182.3 220.6, 185.9 220.6 Q 188.3 220.6, 191.1 221.7 L 190.4 224.1 Q 187.9 223.0, 186.0 223.0 Q 183.9 223.0, 182.7 223.9 Q 181.6 224.7, 181.6 226.2 Q 181.6 227.3, 182.2 228.0 Q 182.8 228.7, 183.6 229.1 Q 184.5 229.5, 186.0 229.9 Q 187.9 230.5, 189.0 231.1 Q 190.2 231.7, 191.0 233.0 Q 191.8 234.2, 191.8 236.2 Q 191.8 239.2, 189.8 240.8 Q 187.9 242.3, 184.6 242.3 Q 182.7 242.3, 181.3 241.9 Q 179.9 241.5, 178.2 240.8 L 179.0 238.5 \" fill=\"#CCCC00\"/>\n",
       "<path class=\"atom-9\" d=\"M 212.8 296.2 Q 212.8 291.1, 215.3 288.3 Q 217.8 285.4, 222.5 285.4 Q 227.2 285.4, 229.8 288.3 Q 232.3 291.1, 232.3 296.2 Q 232.3 301.4, 229.7 304.3 Q 227.2 307.3, 222.5 307.3 Q 217.8 307.3, 215.3 304.3 Q 212.8 301.4, 212.8 296.2 M 222.5 304.9 Q 225.8 304.9, 227.5 302.7 Q 229.3 300.5, 229.3 296.2 Q 229.3 292.1, 227.5 290.0 Q 225.8 287.8, 222.5 287.8 Q 219.3 287.8, 217.5 289.9 Q 215.8 292.0, 215.8 296.2 Q 215.8 300.5, 217.5 302.7 Q 219.3 304.9, 222.5 304.9 \" fill=\"#FF0000\"/>\n",
       "<path class=\"atom-10\" d=\"M 137.7 166.2 Q 137.7 161.1, 140.2 158.3 Q 142.7 155.4, 147.5 155.4 Q 152.2 155.4, 154.7 158.3 Q 157.2 161.1, 157.2 166.2 Q 157.2 171.4, 154.7 174.3 Q 152.1 177.2, 147.5 177.2 Q 142.8 177.2, 140.2 174.3 Q 137.7 171.4, 137.7 166.2 M 147.5 174.8 Q 150.7 174.8, 152.4 172.7 Q 154.2 170.5, 154.2 166.2 Q 154.2 162.1, 152.4 160.0 Q 150.7 157.8, 147.5 157.8 Q 144.2 157.8, 142.4 159.9 Q 140.7 162.0, 140.7 166.2 Q 140.7 170.5, 142.4 172.7 Q 144.2 174.8, 147.5 174.8 \" fill=\"#FF0000\"/>\n",
       "<path class=\"atom-12\" d=\"M 151.2 323.1 L 163.8 323.1 L 163.8 325.5 L 154.0 325.5 L 154.0 332.0 L 162.8 332.0 L 162.8 334.4 L 154.0 334.4 L 154.0 344.3 L 151.2 344.3 L 151.2 323.1 \" fill=\"#33CCCC\"/>\n",
       "<path class=\"atom-13\" d=\"M 76.1 193.1 L 88.8 193.1 L 88.8 195.5 L 79.0 195.5 L 79.0 202.0 L 87.7 202.0 L 87.7 204.4 L 79.0 204.4 L 79.0 214.3 L 76.1 214.3 L 76.1 193.1 \" fill=\"#33CCCC\"/>\n",
       "<path class=\"atom-14\" d=\"M 48.7 295.6 L 61.3 295.6 L 61.3 298.0 L 51.5 298.0 L 51.5 304.5 L 60.2 304.5 L 60.2 307.0 L 51.5 307.0 L 51.5 316.9 L 48.7 316.9 L 48.7 295.6 \" fill=\"#33CCCC\"/>\n",
       "<path class=\"note\" d=\"M 376.3 298.4 Q 374.4 298.4, 373.4 296.9 Q 372.4 295.5, 372.4 292.9 Q 372.4 290.4, 373.4 288.9 Q 374.4 287.5, 376.3 287.5 Q 378.3 287.5, 379.3 288.9 Q 380.2 290.4, 380.2 292.9 Q 380.2 295.5, 379.2 296.9 Q 378.3 298.4, 376.3 298.4 M 376.3 297.2 Q 377.5 297.2, 378.1 296.1 Q 378.7 295.0, 378.7 292.9 Q 378.7 290.8, 378.1 289.8 Q 377.5 288.7, 376.3 288.7 Q 375.2 288.7, 374.6 289.8 Q 373.9 290.8, 373.9 292.9 Q 373.9 295.0, 374.6 296.1 Q 375.2 297.2, 376.3 297.2 \" fill=\"#000000\"/>\n",
       "<path class=\"note\" d=\"M 381.8 296.7 L 383.3 296.7 L 383.3 298.2 L 381.8 298.2 L 381.8 296.7 \" fill=\"#000000\"/>\n",
       "<path class=\"note\" d=\"M 388.7 291.6 Q 389.6 291.6, 390.4 292.0 Q 391.2 292.4, 391.6 293.1 Q 392.0 293.9, 392.0 294.9 Q 392.0 296.0, 391.5 296.8 Q 391.0 297.6, 390.1 298.0 Q 389.2 298.4, 388.2 298.4 Q 387.3 298.4, 386.4 298.0 Q 385.5 297.6, 384.9 297.0 L 385.8 296.0 Q 386.2 296.6, 386.9 296.9 Q 387.6 297.2, 388.3 297.2 Q 389.2 297.2, 389.9 296.6 Q 390.5 296.0, 390.5 294.9 Q 390.5 293.8, 389.9 293.3 Q 389.2 292.7, 388.2 292.7 Q 387.3 292.7, 386.2 293.1 L 385.4 292.7 L 385.9 287.6 L 391.4 287.6 L 391.2 288.8 L 387.1 288.8 L 386.8 292.0 Q 387.8 291.6, 388.7 291.6 \" fill=\"#000000\"/>\n",
       "<path class=\"note\" d=\"M 397.2 291.6 Q 398.1 291.6, 398.9 292.0 Q 399.7 292.4, 400.1 293.1 Q 400.5 293.9, 400.5 294.9 Q 400.5 296.0, 400.0 296.8 Q 399.5 297.6, 398.6 298.0 Q 397.7 298.4, 396.7 298.4 Q 395.8 298.4, 394.9 298.0 Q 394.0 297.6, 393.4 297.0 L 394.3 296.0 Q 394.8 296.6, 395.4 296.9 Q 396.1 297.2, 396.8 297.2 Q 397.7 297.2, 398.4 296.6 Q 399.0 296.0, 399.0 294.9 Q 399.0 293.8, 398.4 293.3 Q 397.7 292.7, 396.7 292.7 Q 395.8 292.7, 394.7 293.1 L 393.9 292.7 L 394.4 287.6 L 399.9 287.6 L 399.7 288.8 L 395.7 288.8 L 395.3 292.0 Q 396.3 291.6, 397.2 291.6 \" fill=\"#000000\"/>\n",
       "<path class=\"note\" d=\"M 312.5 355.4 L 318.0 355.4 L 318.0 356.6 L 312.5 356.6 L 312.5 355.4 \" fill=\"#000000\"/>\n",
       "<path class=\"note\" d=\"M 323.2 360.9 Q 321.3 360.9, 320.3 359.4 Q 319.3 358.0, 319.3 355.4 Q 319.3 352.9, 320.3 351.4 Q 321.3 350.0, 323.2 350.0 Q 325.2 350.0, 326.2 351.4 Q 327.1 352.9, 327.1 355.4 Q 327.1 358.0, 326.2 359.4 Q 325.2 360.9, 323.2 360.9 M 323.2 359.7 Q 324.4 359.7, 325.0 358.6 Q 325.6 357.5, 325.6 355.4 Q 325.6 353.3, 325.0 352.3 Q 324.4 351.2, 323.2 351.2 Q 322.1 351.2, 321.5 352.3 Q 320.9 353.3, 320.9 355.4 Q 320.9 357.5, 321.5 358.6 Q 322.1 359.7, 323.2 359.7 \" fill=\"#000000\"/>\n",
       "<path class=\"note\" d=\"M 328.7 359.3 L 330.2 359.3 L 330.2 360.8 L 328.7 360.8 L 328.7 359.3 \" fill=\"#000000\"/>\n",
       "<path class=\"note\" d=\"M 331.8 352.1 Q 332.2 351.1, 333.1 350.6 Q 334.0 350.0, 335.3 350.0 Q 336.9 350.0, 337.8 350.9 Q 338.7 351.8, 338.7 353.3 Q 338.7 354.9, 337.5 356.3 Q 336.4 357.8, 334.0 359.6 L 338.9 359.6 L 338.9 360.8 L 331.7 360.8 L 331.7 359.8 Q 333.7 358.3, 334.9 357.3 Q 336.1 356.2, 336.6 355.3 Q 337.2 354.3, 337.2 353.4 Q 337.2 352.4, 336.7 351.8 Q 336.2 351.2, 335.3 351.2 Q 334.5 351.2, 333.9 351.6 Q 333.3 351.9, 332.9 352.7 L 331.8 352.1 \" fill=\"#000000\"/>\n",
       "<path class=\"note\" d=\"M 346.0 351.3 L 340.4 351.3 L 340.4 350.1 L 347.4 350.1 L 347.4 351.2 L 343.1 360.8 L 341.7 360.8 L 346.0 351.3 \" fill=\"#000000\"/>\n",
       "<path class=\"note\" d=\"M 412.6 182.0 L 418.1 182.0 L 418.1 183.2 L 412.6 183.2 L 412.6 182.0 \" fill=\"#000000\"/>\n",
       "<path class=\"note\" d=\"M 423.3 187.5 Q 421.4 187.5, 420.4 186.1 Q 419.4 184.6, 419.4 182.1 Q 419.4 179.5, 420.4 178.1 Q 421.4 176.7, 423.3 176.7 Q 425.3 176.7, 426.3 178.1 Q 427.2 179.5, 427.2 182.1 Q 427.2 184.6, 426.2 186.1 Q 425.3 187.5, 423.3 187.5 M 423.3 186.3 Q 424.5 186.3, 425.1 185.3 Q 425.7 184.2, 425.7 182.1 Q 425.7 180.0, 425.1 178.9 Q 424.5 177.9, 423.3 177.9 Q 422.2 177.9, 421.6 178.9 Q 420.9 180.0, 420.9 182.1 Q 420.9 184.2, 421.6 185.3 Q 422.2 186.3, 423.3 186.3 \" fill=\"#000000\"/>\n",
       "<path class=\"note\" d=\"M 428.8 185.9 L 430.3 185.9 L 430.3 187.4 L 428.8 187.4 L 428.8 185.9 \" fill=\"#000000\"/>\n",
       "<path class=\"note\" d=\"M 431.9 178.8 Q 432.2 177.8, 433.2 177.2 Q 434.1 176.7, 435.4 176.7 Q 437.0 176.7, 437.9 177.5 Q 438.8 178.4, 438.8 179.9 Q 438.8 181.5, 437.6 183.0 Q 436.5 184.5, 434.1 186.2 L 439.0 186.2 L 439.0 187.4 L 431.8 187.4 L 431.8 186.4 Q 433.8 185.0, 435.0 183.9 Q 436.2 182.9, 436.7 181.9 Q 437.3 181.0, 437.3 180.0 Q 437.3 179.0, 436.8 178.4 Q 436.3 177.9, 435.4 177.9 Q 434.5 177.9, 434.0 178.2 Q 433.4 178.5, 433.0 179.3 L 431.9 178.8 \" fill=\"#000000\"/>\n",
       "<path class=\"note\" d=\"M 446.0 178.0 L 440.5 178.0 L 440.5 176.8 L 447.5 176.8 L 447.5 177.8 L 443.2 187.4 L 441.8 187.4 L 446.0 178.0 \" fill=\"#000000\"/>\n",
       "<path class=\"note\" d=\"M 440.1 327.9 L 445.6 327.9 L 445.6 329.1 L 440.1 329.1 L 440.1 327.9 \" fill=\"#000000\"/>\n",
       "<path class=\"note\" d=\"M 450.8 333.4 Q 448.8 333.4, 447.9 332.0 Q 446.9 330.5, 446.9 328.0 Q 446.9 325.4, 447.9 324.0 Q 448.8 322.5, 450.8 322.5 Q 452.8 322.5, 453.7 324.0 Q 454.7 325.4, 454.7 328.0 Q 454.7 330.5, 453.7 332.0 Q 452.8 333.4, 450.8 333.4 M 450.8 332.2 Q 452.0 332.2, 452.6 331.1 Q 453.2 330.1, 453.2 328.0 Q 453.2 325.9, 452.6 324.8 Q 452.0 323.7, 450.8 323.7 Q 449.7 323.7, 449.0 324.8 Q 448.4 325.9, 448.4 328.0 Q 448.4 330.1, 449.0 331.1 Q 449.7 332.2, 450.8 332.2 \" fill=\"#000000\"/>\n",
       "<path class=\"note\" d=\"M 456.2 331.8 L 457.7 331.8 L 457.7 333.3 L 456.2 333.3 L 456.2 331.8 \" fill=\"#000000\"/>\n",
       "<path class=\"note\" d=\"M 459.3 324.7 Q 459.7 323.7, 460.7 323.1 Q 461.6 322.5, 462.9 322.5 Q 464.5 322.5, 465.4 323.4 Q 466.3 324.3, 466.3 325.8 Q 466.3 327.4, 465.1 328.9 Q 464.0 330.3, 461.6 332.1 L 466.5 332.1 L 466.5 333.3 L 459.3 333.3 L 459.3 332.3 Q 461.3 330.9, 462.5 329.8 Q 463.6 328.8, 464.2 327.8 Q 464.8 326.9, 464.8 325.9 Q 464.8 324.9, 464.3 324.3 Q 463.8 323.7, 462.9 323.7 Q 462.0 323.7, 461.4 324.1 Q 460.9 324.4, 460.5 325.2 L 459.3 324.7 \" fill=\"#000000\"/>\n",
       "<path class=\"note\" d=\"M 473.5 323.9 L 467.9 323.9 L 467.9 322.7 L 475.0 322.7 L 475.0 323.7 L 470.7 333.3 L 469.3 333.3 L 473.5 323.9 \" fill=\"#000000\"/>\n",
       "<path class=\"note\" d=\"M 338.6 225.6 L 340.9 225.6 L 340.9 217.7 L 338.3 218.5 L 338.0 217.6 L 341.2 216.1 L 342.3 216.3 L 342.3 225.6 L 344.4 225.6 L 344.4 226.8 L 338.6 226.8 L 338.6 225.6 \" fill=\"#000000\"/>\n",
       "<path class=\"note\" d=\"M 345.6 225.3 L 347.1 225.3 L 347.1 226.8 L 345.6 226.8 L 345.6 225.3 \" fill=\"#000000\"/>\n",
       "<path class=\"note\" d=\"M 352.8 220.2 Q 353.7 220.2, 354.4 220.6 Q 355.2 221.0, 355.6 221.7 Q 356.0 222.5, 356.0 223.4 Q 356.0 224.4, 355.5 225.3 Q 355.1 226.1, 354.3 226.5 Q 353.5 227.0, 352.4 227.0 Q 350.5 227.0, 349.6 225.7 Q 348.6 224.4, 348.6 221.8 Q 348.6 219.0, 349.8 217.6 Q 351.0 216.1, 353.2 216.1 Q 353.9 216.1, 354.5 216.2 Q 355.0 216.4, 355.6 216.7 L 355.0 217.7 Q 354.2 217.3, 353.3 217.3 Q 351.8 217.3, 351.0 218.3 Q 350.2 219.2, 350.1 221.2 Q 350.7 220.7, 351.4 220.5 Q 352.0 220.2, 352.8 220.2 M 352.4 225.7 Q 353.0 225.7, 353.5 225.4 Q 354.0 225.1, 354.2 224.6 Q 354.5 224.1, 354.5 223.4 Q 354.5 222.5, 354.0 221.9 Q 353.4 221.4, 352.5 221.4 Q 351.9 221.4, 351.2 221.7 Q 350.6 221.9, 350.1 222.4 Q 350.2 224.1, 350.8 224.9 Q 351.3 225.7, 352.4 225.7 \" fill=\"#000000\"/>\n",
       "<path class=\"note\" d=\"M 357.4 218.2 Q 357.8 217.2, 358.7 216.7 Q 359.7 216.1, 361.0 216.1 Q 362.6 216.1, 363.5 217.0 Q 364.4 217.8, 364.4 219.4 Q 364.4 220.9, 363.2 222.4 Q 362.0 223.9, 359.6 225.6 L 364.5 225.6 L 364.5 226.8 L 357.4 226.8 L 357.4 225.8 Q 359.4 224.4, 360.5 223.4 Q 361.7 222.3, 362.3 221.4 Q 362.9 220.4, 362.9 219.4 Q 362.9 218.4, 362.3 217.9 Q 361.8 217.3, 361.0 217.3 Q 360.1 217.3, 359.5 217.6 Q 359.0 218.0, 358.6 218.7 L 357.4 218.2 \" fill=\"#000000\"/>\n",
       "<path class=\"note\" d=\"M 347.3 144.5 L 352.9 144.5 L 352.9 145.7 L 347.3 145.7 L 347.3 144.5 \" fill=\"#000000\"/>\n",
       "<path class=\"note\" d=\"M 358.1 150.0 Q 356.1 150.0, 355.2 148.5 Q 354.2 147.1, 354.2 144.5 Q 354.2 142.0, 355.2 140.5 Q 356.1 139.1, 358.1 139.1 Q 360.0 139.1, 361.0 140.5 Q 362.0 142.0, 362.0 144.5 Q 362.0 147.1, 361.0 148.5 Q 360.0 150.0, 358.1 150.0 M 358.1 148.8 Q 359.2 148.8, 359.9 147.7 Q 360.5 146.6, 360.5 144.5 Q 360.5 142.5, 359.9 141.4 Q 359.2 140.3, 358.1 140.3 Q 356.9 140.3, 356.3 141.4 Q 355.7 142.5, 355.7 144.5 Q 355.7 146.6, 356.3 147.7 Q 356.9 148.8, 358.1 148.8 \" fill=\"#000000\"/>\n",
       "<path class=\"note\" d=\"M 363.5 148.4 L 365.0 148.4 L 365.0 149.9 L 363.5 149.9 L 363.5 148.4 \" fill=\"#000000\"/>\n",
       "<path class=\"note\" d=\"M 370.8 143.2 Q 371.7 143.2, 372.4 143.6 Q 373.2 144.0, 373.6 144.8 Q 374.0 145.5, 374.0 146.4 Q 374.0 147.5, 373.5 148.3 Q 373.1 149.1, 372.2 149.5 Q 371.4 150.0, 370.4 150.0 Q 368.5 150.0, 367.5 148.7 Q 366.6 147.4, 366.6 144.9 Q 366.6 142.0, 367.8 140.6 Q 369.0 139.1, 371.2 139.1 Q 371.9 139.1, 372.4 139.3 Q 373.0 139.4, 373.6 139.7 L 373.0 140.7 Q 372.2 140.3, 371.2 140.3 Q 369.7 140.3, 369.0 141.3 Q 368.2 142.3, 368.1 144.3 Q 368.7 143.8, 369.3 143.5 Q 370.0 143.2, 370.8 143.2 M 370.4 148.8 Q 371.0 148.8, 371.5 148.5 Q 371.9 148.2, 372.2 147.6 Q 372.5 147.1, 372.5 146.5 Q 372.5 145.5, 371.9 145.0 Q 371.4 144.4, 370.5 144.4 Q 369.8 144.4, 369.2 144.7 Q 368.6 145.0, 368.1 145.4 Q 368.2 147.2, 368.7 148.0 Q 369.3 148.8, 370.4 148.8 \" fill=\"#000000\"/>\n",
       "<path class=\"note\" d=\"M 379.5 143.2 Q 380.5 143.2, 381.2 143.6 Q 382.0 144.0, 382.4 144.8 Q 382.8 145.5, 382.8 146.4 Q 382.8 147.5, 382.3 148.3 Q 381.8 149.1, 381.0 149.5 Q 380.2 150.0, 379.2 150.0 Q 377.3 150.0, 376.3 148.7 Q 375.4 147.4, 375.4 144.9 Q 375.4 142.0, 376.6 140.6 Q 377.7 139.1, 380.0 139.1 Q 380.7 139.1, 381.2 139.3 Q 381.8 139.4, 382.3 139.7 L 381.8 140.7 Q 381.0 140.3, 380.0 140.3 Q 378.5 140.3, 377.8 141.3 Q 377.0 142.3, 376.9 144.3 Q 377.4 143.8, 378.1 143.5 Q 378.8 143.2, 379.5 143.2 M 379.2 148.8 Q 379.8 148.8, 380.2 148.5 Q 380.7 148.2, 381.0 147.6 Q 381.3 147.1, 381.3 146.5 Q 381.3 145.5, 380.7 145.0 Q 380.2 144.4, 379.3 144.4 Q 378.6 144.4, 378.0 144.7 Q 377.4 145.0, 376.9 145.4 Q 377.0 147.2, 377.5 148.0 Q 378.1 148.8, 379.2 148.8 \" fill=\"#000000\"/>\n",
       "<path class=\"note\" d=\"M 247.3 317.8 L 252.8 317.8 L 252.8 319.0 L 247.3 319.0 L 247.3 317.8 \" fill=\"#000000\"/>\n",
       "<path class=\"note\" d=\"M 258.0 323.3 Q 256.0 323.3, 255.1 321.9 Q 254.1 320.5, 254.1 317.9 Q 254.1 315.3, 255.1 313.9 Q 256.0 312.5, 258.0 312.5 Q 260.0 312.5, 260.9 313.9 Q 261.9 315.3, 261.9 317.9 Q 261.9 320.5, 260.9 321.9 Q 259.9 323.3, 258.0 323.3 M 258.0 322.1 Q 259.1 322.1, 259.8 321.1 Q 260.4 320.0, 260.4 317.9 Q 260.4 315.8, 259.8 314.7 Q 259.1 313.7, 258.0 313.7 Q 256.9 313.7, 256.2 314.7 Q 255.6 315.8, 255.6 317.9 Q 255.6 320.0, 256.2 321.1 Q 256.9 322.1, 258.0 322.1 \" fill=\"#000000\"/>\n",
       "<path class=\"note\" d=\"M 263.4 321.7 L 264.9 321.7 L 264.9 323.2 L 263.4 323.2 L 263.4 321.7 \" fill=\"#000000\"/>\n",
       "<path class=\"note\" d=\"M 270.7 316.6 Q 271.6 316.6, 272.3 317.0 Q 273.1 317.4, 273.5 318.1 Q 273.9 318.9, 273.9 319.8 Q 273.9 320.8, 273.4 321.6 Q 273.0 322.4, 272.2 322.9 Q 271.4 323.3, 270.3 323.3 Q 268.4 323.3, 267.5 322.1 Q 266.5 320.8, 266.5 318.2 Q 266.5 315.4, 267.7 313.9 Q 268.9 312.5, 271.1 312.5 Q 271.8 312.5, 272.4 312.6 Q 272.9 312.8, 273.5 313.1 L 272.9 314.1 Q 272.1 313.7, 271.2 313.7 Q 269.7 313.7, 268.9 314.7 Q 268.1 315.6, 268.0 317.6 Q 268.6 317.1, 269.2 316.9 Q 269.9 316.6, 270.7 316.6 M 270.3 322.1 Q 270.9 322.1, 271.4 321.8 Q 271.8 321.5, 272.1 321.0 Q 272.4 320.5, 272.4 319.8 Q 272.4 318.9, 271.9 318.3 Q 271.3 317.8, 270.4 317.8 Q 269.8 317.8, 269.1 318.1 Q 268.5 318.3, 268.0 318.8 Q 268.1 320.5, 268.6 321.3 Q 269.2 322.1, 270.3 322.1 \" fill=\"#000000\"/>\n",
       "<path class=\"note\" d=\"M 279.5 316.6 Q 280.4 316.6, 281.1 317.0 Q 281.9 317.4, 282.3 318.1 Q 282.7 318.9, 282.7 319.8 Q 282.7 320.8, 282.2 321.6 Q 281.8 322.4, 280.9 322.9 Q 280.1 323.3, 279.1 323.3 Q 277.2 323.3, 276.2 322.1 Q 275.3 320.8, 275.3 318.2 Q 275.3 315.4, 276.5 313.9 Q 277.7 312.5, 279.9 312.5 Q 280.6 312.5, 281.1 312.6 Q 281.7 312.8, 282.3 313.1 L 281.7 314.1 Q 280.9 313.7, 279.9 313.7 Q 278.4 313.7, 277.7 314.7 Q 276.9 315.6, 276.8 317.6 Q 277.4 317.1, 278.0 316.9 Q 278.7 316.6, 279.5 316.6 M 279.1 322.1 Q 279.7 322.1, 280.2 321.8 Q 280.6 321.5, 280.9 321.0 Q 281.2 320.5, 281.2 319.8 Q 281.2 318.9, 280.6 318.3 Q 280.1 317.8, 279.2 317.8 Q 278.5 317.8, 277.9 318.1 Q 277.3 318.3, 276.8 318.8 Q 276.9 320.5, 277.4 321.3 Q 278.0 322.1, 279.1 322.1 \" fill=\"#000000\"/>\n",
       "<path class=\"note\" d=\"M 232.9 168.6 L 238.4 168.6 L 238.4 169.8 L 232.9 169.8 L 232.9 168.6 \" fill=\"#000000\"/>\n",
       "<path class=\"note\" d=\"M 240.3 172.8 L 242.7 172.8 L 242.7 164.9 L 240.1 165.6 L 239.7 164.8 L 243.0 163.3 L 244.1 163.5 L 244.1 172.8 L 246.1 172.8 L 246.1 174.0 L 240.3 174.0 L 240.3 172.8 \" fill=\"#000000\"/>\n",
       "<path class=\"note\" d=\"M 247.4 172.5 L 248.9 172.5 L 248.9 174.0 L 247.4 174.0 L 247.4 172.5 \" fill=\"#000000\"/>\n",
       "<path class=\"note\" d=\"M 254.3 174.1 Q 252.3 174.1, 251.4 172.7 Q 250.4 171.2, 250.4 168.7 Q 250.4 166.1, 251.4 164.7 Q 252.3 163.2, 254.3 163.2 Q 256.3 163.2, 257.2 164.7 Q 258.2 166.1, 258.2 168.7 Q 258.2 171.2, 257.2 172.7 Q 256.2 174.1, 254.3 174.1 M 254.3 172.9 Q 255.4 172.9, 256.1 171.8 Q 256.7 170.8, 256.7 168.7 Q 256.7 166.6, 256.1 165.5 Q 255.4 164.4, 254.3 164.4 Q 253.1 164.4, 252.5 165.5 Q 251.9 166.6, 251.9 168.7 Q 251.9 170.8, 252.5 171.8 Q 253.1 172.9, 254.3 172.9 \" fill=\"#000000\"/>\n",
       "<path class=\"note\" d=\"M 263.3 163.2 Q 265.2 163.2, 266.1 164.5 Q 267.1 165.8, 267.1 168.4 Q 267.1 171.2, 265.9 172.7 Q 264.7 174.1, 262.5 174.1 Q 261.8 174.1, 261.2 174.0 Q 260.7 173.8, 260.1 173.5 L 260.7 172.5 Q 261.5 172.9, 262.5 172.9 Q 264.0 172.9, 264.7 172.0 Q 265.5 171.0, 265.6 169.0 Q 265.0 169.5, 264.3 169.7 Q 263.7 170.0, 262.9 170.0 Q 262.0 170.0, 261.3 169.6 Q 260.5 169.2, 260.1 168.5 Q 259.7 167.7, 259.7 166.8 Q 259.7 165.8, 260.2 165.0 Q 260.6 164.1, 261.4 163.7 Q 262.3 163.2, 263.3 163.2 M 261.2 166.8 Q 261.2 167.7, 261.7 168.3 Q 262.3 168.8, 263.2 168.8 Q 263.9 168.8, 264.5 168.5 Q 265.1 168.3, 265.6 167.8 Q 265.5 166.1, 265.0 165.3 Q 264.4 164.5, 263.3 164.5 Q 262.7 164.5, 262.2 164.8 Q 261.8 165.1, 261.5 165.6 Q 261.2 166.1, 261.2 166.8 \" fill=\"#000000\"/>\n",
       "<path class=\"note\" d=\"M 208.6 245.1 L 210.9 245.1 L 210.9 237.1 L 208.3 237.9 L 208.0 237.0 L 211.2 235.6 L 212.3 235.8 L 212.3 245.1 L 214.4 245.1 L 214.4 246.3 L 208.6 246.3 L 208.6 245.1 \" fill=\"#000000\"/>\n",
       "<path class=\"note\" d=\"M 215.6 244.8 L 217.1 244.8 L 217.1 246.3 L 215.6 246.3 L 215.6 244.8 \" fill=\"#000000\"/>\n",
       "<path class=\"note\" d=\"M 222.8 239.6 Q 223.7 239.6, 224.4 240.0 Q 225.2 240.4, 225.6 241.2 Q 226.0 241.9, 226.0 242.8 Q 226.0 243.9, 225.5 244.7 Q 225.1 245.5, 224.3 245.9 Q 223.4 246.4, 222.4 246.4 Q 220.5 246.4, 219.6 245.1 Q 218.6 243.8, 218.6 241.3 Q 218.6 238.4, 219.8 237.0 Q 221.0 235.5, 223.2 235.5 Q 223.9 235.5, 224.4 235.7 Q 225.0 235.8, 225.6 236.1 L 225.0 237.1 Q 224.2 236.7, 223.2 236.7 Q 221.7 236.7, 221.0 237.7 Q 220.2 238.7, 220.1 240.6 Q 220.7 240.2, 221.3 239.9 Q 222.0 239.6, 222.8 239.6 M 222.4 245.2 Q 223.0 245.2, 223.5 244.9 Q 223.9 244.6, 224.2 244.0 Q 224.5 243.5, 224.5 242.9 Q 224.5 241.9, 224.0 241.4 Q 223.4 240.8, 222.5 240.8 Q 221.8 240.8, 221.2 241.1 Q 220.6 241.4, 220.1 241.8 Q 220.2 243.6, 220.7 244.4 Q 221.3 245.2, 222.4 245.2 \" fill=\"#000000\"/>\n",
       "<path class=\"note\" d=\"M 227.4 237.6 Q 227.8 236.6, 228.7 236.1 Q 229.6 235.5, 230.9 235.5 Q 232.5 235.5, 233.4 236.4 Q 234.3 237.3, 234.3 238.8 Q 234.3 240.4, 233.2 241.8 Q 232.0 243.3, 229.6 245.1 L 234.5 245.1 L 234.5 246.3 L 227.4 246.3 L 227.4 245.3 Q 229.3 243.8, 230.5 242.8 Q 231.7 241.7, 232.3 240.8 Q 232.8 239.9, 232.8 238.9 Q 232.8 237.9, 232.3 237.3 Q 231.8 236.7, 230.9 236.7 Q 230.1 236.7, 229.5 237.1 Q 228.9 237.4, 228.5 238.2 L 227.4 237.6 \" fill=\"#000000\"/>\n",
       "<path class=\"note\" d=\"M 204.8 321.2 L 210.3 321.2 L 210.3 322.4 L 204.8 322.4 L 204.8 321.2 \" fill=\"#000000\"/>\n",
       "<path class=\"note\" d=\"M 215.6 326.7 Q 213.6 326.7, 212.6 325.3 Q 211.7 323.8, 211.7 321.2 Q 211.7 318.7, 212.6 317.3 Q 213.6 315.8, 215.6 315.8 Q 217.5 315.8, 218.5 317.3 Q 219.4 318.7, 219.4 321.2 Q 219.4 323.8, 218.5 325.3 Q 217.5 326.7, 215.6 326.7 M 215.6 325.5 Q 216.7 325.5, 217.3 324.4 Q 217.9 323.4, 217.9 321.2 Q 217.9 319.2, 217.3 318.1 Q 216.7 317.0, 215.6 317.0 Q 214.4 317.0, 213.8 318.1 Q 213.2 319.2, 213.2 321.2 Q 213.2 323.4, 213.8 324.4 Q 214.4 325.5, 215.6 325.5 \" fill=\"#000000\"/>\n",
       "<path class=\"note\" d=\"M 221.0 325.1 L 222.5 325.1 L 222.5 326.6 L 221.0 326.6 L 221.0 325.1 \" fill=\"#000000\"/>\n",
       "<path class=\"note\" d=\"M 228.2 319.9 Q 229.2 319.9, 229.9 320.3 Q 230.6 320.8, 231.0 321.5 Q 231.4 322.2, 231.4 323.2 Q 231.4 324.2, 231.0 325.0 Q 230.5 325.8, 229.7 326.2 Q 228.9 326.7, 227.9 326.7 Q 226.0 326.7, 225.0 325.4 Q 224.1 324.1, 224.1 321.6 Q 224.1 318.8, 225.2 317.3 Q 226.4 315.8, 228.7 315.8 Q 229.4 315.8, 229.9 316.0 Q 230.5 316.1, 231.0 316.4 L 230.4 317.5 Q 229.7 317.0, 228.7 317.0 Q 227.2 317.0, 226.4 318.0 Q 225.7 319.0, 225.6 321.0 Q 226.1 320.5, 226.8 320.2 Q 227.5 319.9, 228.2 319.9 M 227.9 325.5 Q 228.5 325.5, 228.9 325.2 Q 229.4 324.9, 229.7 324.3 Q 229.9 323.8, 229.9 323.2 Q 229.9 322.2, 229.4 321.7 Q 228.9 321.1, 228.0 321.1 Q 227.3 321.1, 226.7 321.4 Q 226.0 321.7, 225.6 322.1 Q 225.7 323.9, 226.2 324.7 Q 226.8 325.5, 227.9 325.5 \" fill=\"#000000\"/>\n",
       "<path class=\"note\" d=\"M 237.0 319.9 Q 238.0 319.9, 238.7 320.3 Q 239.4 320.8, 239.8 321.5 Q 240.2 322.2, 240.2 323.2 Q 240.2 324.2, 239.8 325.0 Q 239.3 325.8, 238.5 326.2 Q 237.7 326.7, 236.7 326.7 Q 234.8 326.7, 233.8 325.4 Q 232.9 324.1, 232.9 321.6 Q 232.9 318.8, 234.0 317.3 Q 235.2 315.8, 237.5 315.8 Q 238.1 315.8, 238.7 316.0 Q 239.3 316.1, 239.8 316.4 L 239.2 317.5 Q 238.4 317.0, 237.5 317.0 Q 236.0 317.0, 235.2 318.0 Q 234.5 319.0, 234.4 321.0 Q 234.9 320.5, 235.6 320.2 Q 236.3 319.9, 237.0 319.9 M 236.7 325.5 Q 237.2 325.5, 237.7 325.2 Q 238.2 324.9, 238.5 324.3 Q 238.7 323.8, 238.7 323.2 Q 238.7 322.2, 238.2 321.7 Q 237.7 321.1, 236.8 321.1 Q 236.1 321.1, 235.5 321.4 Q 234.8 321.7, 234.4 322.1 Q 234.4 323.9, 235.0 324.7 Q 235.6 325.5, 236.7 325.5 \" fill=\"#000000\"/>\n",
       "<path class=\"note\" d=\"M 117.2 144.5 L 122.7 144.5 L 122.7 145.7 L 117.2 145.7 L 117.2 144.5 \" fill=\"#000000\"/>\n",
       "<path class=\"note\" d=\"M 128.0 150.0 Q 126.0 150.0, 125.0 148.5 Q 124.1 147.1, 124.1 144.5 Q 124.1 142.0, 125.0 140.5 Q 126.0 139.1, 128.0 139.1 Q 129.9 139.1, 130.9 140.5 Q 131.9 142.0, 131.9 144.5 Q 131.9 147.1, 130.9 148.5 Q 129.9 150.0, 128.0 150.0 M 128.0 148.8 Q 129.1 148.8, 129.7 147.7 Q 130.4 146.6, 130.4 144.5 Q 130.4 142.5, 129.7 141.4 Q 129.1 140.3, 128.0 140.3 Q 126.8 140.3, 126.2 141.4 Q 125.6 142.5, 125.6 144.5 Q 125.6 146.6, 126.2 147.7 Q 126.8 148.8, 128.0 148.8 \" fill=\"#000000\"/>\n",
       "<path class=\"note\" d=\"M 133.4 148.4 L 134.9 148.4 L 134.9 149.9 L 133.4 149.9 L 133.4 148.4 \" fill=\"#000000\"/>\n",
       "<path class=\"note\" d=\"M 140.7 143.2 Q 141.6 143.2, 142.3 143.6 Q 143.1 144.0, 143.5 144.8 Q 143.9 145.5, 143.9 146.4 Q 143.9 147.5, 143.4 148.3 Q 143.0 149.1, 142.1 149.5 Q 141.3 150.0, 140.3 150.0 Q 138.4 150.0, 137.4 148.7 Q 136.5 147.4, 136.5 144.9 Q 136.5 142.0, 137.7 140.6 Q 138.9 139.1, 141.1 139.1 Q 141.8 139.1, 142.3 139.3 Q 142.9 139.4, 143.5 139.7 L 142.9 140.7 Q 142.1 140.3, 141.1 140.3 Q 139.6 140.3, 138.9 141.3 Q 138.1 142.3, 138.0 144.3 Q 138.6 143.8, 139.2 143.5 Q 139.9 143.2, 140.7 143.2 M 140.3 148.8 Q 140.9 148.8, 141.3 148.5 Q 141.8 148.2, 142.1 147.6 Q 142.4 147.1, 142.4 146.5 Q 142.4 145.5, 141.8 145.0 Q 141.3 144.4, 140.4 144.4 Q 139.7 144.4, 139.1 144.7 Q 138.5 145.0, 138.0 145.4 Q 138.1 147.2, 138.6 148.0 Q 139.2 148.8, 140.3 148.8 \" fill=\"#000000\"/>\n",
       "<path class=\"note\" d=\"M 149.4 143.2 Q 150.4 143.2, 151.1 143.6 Q 151.8 144.0, 152.3 144.8 Q 152.7 145.5, 152.7 146.4 Q 152.7 147.5, 152.2 148.3 Q 151.7 149.1, 150.9 149.5 Q 150.1 150.0, 149.1 150.0 Q 147.2 150.0, 146.2 148.7 Q 145.3 147.4, 145.3 144.9 Q 145.3 142.0, 146.5 140.6 Q 147.6 139.1, 149.9 139.1 Q 150.6 139.1, 151.1 139.3 Q 151.7 139.4, 152.2 139.7 L 151.7 140.7 Q 150.9 140.3, 149.9 140.3 Q 148.4 140.3, 147.7 141.3 Q 146.9 142.3, 146.8 144.3 Q 147.3 143.8, 148.0 143.5 Q 148.7 143.2, 149.4 143.2 M 149.1 148.8 Q 149.7 148.8, 150.1 148.5 Q 150.6 148.2, 150.9 147.6 Q 151.2 147.1, 151.2 146.5 Q 151.2 145.5, 150.6 145.0 Q 150.1 144.4, 149.2 144.4 Q 148.5 144.4, 147.9 144.7 Q 147.3 145.0, 146.8 145.4 Q 146.9 147.2, 147.4 148.0 Q 148.0 148.8, 149.1 148.8 \" fill=\"#000000\"/>\n",
       "<path class=\"note\" d=\"M 134.0 280.7 Q 132.0 280.7, 131.1 279.2 Q 130.1 277.8, 130.1 275.2 Q 130.1 272.7, 131.1 271.2 Q 132.0 269.8, 134.0 269.8 Q 136.0 269.8, 136.9 271.2 Q 137.9 272.7, 137.9 275.2 Q 137.9 277.8, 136.9 279.2 Q 135.9 280.7, 134.0 280.7 M 134.0 279.5 Q 135.1 279.5, 135.8 278.4 Q 136.4 277.3, 136.4 275.2 Q 136.4 273.1, 135.8 272.1 Q 135.1 271.0, 134.0 271.0 Q 132.8 271.0, 132.2 272.1 Q 131.6 273.1, 131.6 275.2 Q 131.6 277.3, 132.2 278.4 Q 132.8 279.5, 134.0 279.5 \" fill=\"#000000\"/>\n",
       "<path class=\"note\" d=\"M 139.4 279.1 L 140.9 279.1 L 140.9 280.6 L 139.4 280.6 L 139.4 279.1 \" fill=\"#000000\"/>\n",
       "<path class=\"note\" d=\"M 146.4 273.9 Q 147.3 273.9, 148.1 274.3 Q 148.8 274.7, 149.3 275.5 Q 149.7 276.2, 149.7 277.2 Q 149.7 278.3, 149.2 279.1 Q 148.6 279.9, 147.8 280.3 Q 146.9 280.7, 145.9 280.7 Q 144.9 280.7, 144.0 280.3 Q 143.1 280.0, 142.5 279.3 L 143.4 278.3 Q 143.9 278.9, 144.6 279.2 Q 145.3 279.5, 145.9 279.5 Q 146.9 279.5, 147.5 278.9 Q 148.2 278.3, 148.2 277.2 Q 148.2 276.1, 147.5 275.6 Q 146.9 275.0, 145.9 275.0 Q 144.9 275.0, 143.9 275.4 L 143.1 275.0 L 143.6 269.9 L 149.0 269.9 L 148.9 271.1 L 144.8 271.1 L 144.5 274.3 Q 145.4 273.9, 146.4 273.9 \" fill=\"#000000\"/>\n",
       "<path class=\"note\" d=\"M 154.9 273.9 Q 155.8 273.9, 156.6 274.3 Q 157.3 274.7, 157.8 275.5 Q 158.2 276.2, 158.2 277.2 Q 158.2 278.3, 157.7 279.1 Q 157.1 279.9, 156.3 280.3 Q 155.4 280.7, 154.4 280.7 Q 153.4 280.7, 152.5 280.3 Q 151.6 280.0, 151.0 279.3 L 151.9 278.3 Q 152.4 278.9, 153.1 279.2 Q 153.8 279.5, 154.5 279.5 Q 155.4 279.5, 156.0 278.9 Q 156.7 278.3, 156.7 277.2 Q 156.7 276.1, 156.0 275.6 Q 155.4 275.0, 154.4 275.0 Q 153.4 275.0, 152.4 275.4 L 151.6 275.0 L 152.1 269.9 L 157.5 269.9 L 157.4 271.1 L 153.3 271.1 L 153.0 274.3 Q 153.9 273.9, 154.9 273.9 \" fill=\"#000000\"/>\n",
       "<path class=\"note\" d=\"M 152.6 355.4 L 158.1 355.4 L 158.1 356.6 L 152.6 356.6 L 152.6 355.4 \" fill=\"#000000\"/>\n",
       "<path class=\"note\" d=\"M 163.3 360.9 Q 161.3 360.9, 160.4 359.4 Q 159.4 358.0, 159.4 355.4 Q 159.4 352.9, 160.4 351.4 Q 161.3 350.0, 163.3 350.0 Q 165.3 350.0, 166.2 351.4 Q 167.2 352.9, 167.2 355.4 Q 167.2 358.0, 166.2 359.4 Q 165.2 360.9, 163.3 360.9 M 163.3 359.7 Q 164.4 359.7, 165.1 358.6 Q 165.7 357.5, 165.7 355.4 Q 165.7 353.3, 165.1 352.3 Q 164.4 351.2, 163.3 351.2 Q 162.2 351.2, 161.5 352.3 Q 160.9 353.3, 160.9 355.4 Q 160.9 357.5, 161.5 358.6 Q 162.2 359.7, 163.3 359.7 \" fill=\"#000000\"/>\n",
       "<path class=\"note\" d=\"M 168.7 359.3 L 170.2 359.3 L 170.2 360.8 L 168.7 360.8 L 168.7 359.3 \" fill=\"#000000\"/>\n",
       "<path class=\"note\" d=\"M 171.8 352.1 Q 172.2 351.1, 173.1 350.6 Q 174.1 350.0, 175.4 350.0 Q 177.0 350.0, 177.9 350.9 Q 178.8 351.8, 178.8 353.3 Q 178.8 354.9, 177.6 356.3 Q 176.4 357.8, 174.0 359.6 L 179.0 359.6 L 179.0 360.8 L 171.8 360.8 L 171.8 359.8 Q 173.8 358.3, 174.9 357.3 Q 176.1 356.2, 176.7 355.3 Q 177.3 354.3, 177.3 353.4 Q 177.3 352.4, 176.8 351.8 Q 176.3 351.2, 175.4 351.2 Q 174.5 351.2, 173.9 351.6 Q 173.4 351.9, 173.0 352.7 L 171.8 352.1 \" fill=\"#000000\"/>\n",
       "<path class=\"note\" d=\"M 186.0 351.3 L 180.4 351.3 L 180.4 350.1 L 187.5 350.1 L 187.5 351.2 L 183.2 360.8 L 181.8 360.8 L 186.0 351.3 \" fill=\"#000000\"/>\n",
       "<path class=\"note\" d=\"M 52.5 182.0 L 58.0 182.0 L 58.0 183.2 L 52.5 183.2 L 52.5 182.0 \" fill=\"#000000\"/>\n",
       "<path class=\"note\" d=\"M 63.2 187.5 Q 61.3 187.5, 60.3 186.1 Q 59.3 184.6, 59.3 182.1 Q 59.3 179.5, 60.3 178.1 Q 61.2 176.7, 63.2 176.7 Q 65.2 176.7, 66.1 178.1 Q 67.1 179.5, 67.1 182.1 Q 67.1 184.6, 66.1 186.1 Q 65.2 187.5, 63.2 187.5 M 63.2 186.3 Q 64.4 186.3, 65.0 185.3 Q 65.6 184.2, 65.6 182.1 Q 65.6 180.0, 65.0 178.9 Q 64.4 177.9, 63.2 177.9 Q 62.1 177.9, 61.4 178.9 Q 60.8 180.0, 60.8 182.1 Q 60.8 184.2, 61.4 185.3 Q 62.1 186.3, 63.2 186.3 \" fill=\"#000000\"/>\n",
       "<path class=\"note\" d=\"M 68.6 185.9 L 70.2 185.9 L 70.2 187.4 L 68.6 187.4 L 68.6 185.9 \" fill=\"#000000\"/>\n",
       "<path class=\"note\" d=\"M 71.7 178.8 Q 72.1 177.8, 73.1 177.2 Q 74.0 176.7, 75.3 176.7 Q 76.9 176.7, 77.8 177.5 Q 78.7 178.4, 78.7 179.9 Q 78.7 181.5, 77.5 183.0 Q 76.4 184.5, 74.0 186.2 L 78.9 186.2 L 78.9 187.4 L 71.7 187.4 L 71.7 186.4 Q 73.7 185.0, 74.9 183.9 Q 76.0 182.9, 76.6 181.9 Q 77.2 181.0, 77.2 180.0 Q 77.2 179.0, 76.7 178.4 Q 76.2 177.9, 75.3 177.9 Q 74.4 177.9, 73.9 178.2 Q 73.3 178.5, 72.9 179.3 L 71.7 178.8 \" fill=\"#000000\"/>\n",
       "<path class=\"note\" d=\"M 85.9 178.0 L 80.3 178.0 L 80.3 176.8 L 87.4 176.8 L 87.4 177.8 L 83.1 187.4 L 81.7 187.4 L 85.9 178.0 \" fill=\"#000000\"/>\n",
       "<path class=\"note\" d=\"M 25.0 284.6 L 30.5 284.6 L 30.5 285.8 L 25.0 285.8 L 25.0 284.6 \" fill=\"#000000\"/>\n",
       "<path class=\"note\" d=\"M 35.7 290.1 Q 33.8 290.1, 32.8 288.6 Q 31.8 287.2, 31.8 284.6 Q 31.8 282.0, 32.8 280.6 Q 33.8 279.2, 35.7 279.2 Q 37.7 279.2, 38.7 280.6 Q 39.6 282.0, 39.6 284.6 Q 39.6 287.2, 38.6 288.6 Q 37.7 290.1, 35.7 290.1 M 35.7 288.9 Q 36.9 288.9, 37.5 287.8 Q 38.1 286.7, 38.1 284.6 Q 38.1 282.5, 37.5 281.5 Q 36.9 280.4, 35.7 280.4 Q 34.6 280.4, 34.0 281.5 Q 33.3 282.5, 33.3 284.6 Q 33.3 286.7, 34.0 287.8 Q 34.6 288.9, 35.7 288.9 \" fill=\"#000000\"/>\n",
       "<path class=\"note\" d=\"M 41.2 288.4 L 42.7 288.4 L 42.7 289.9 L 41.2 289.9 L 41.2 288.4 \" fill=\"#000000\"/>\n",
       "<path class=\"note\" d=\"M 44.3 281.3 Q 44.7 280.3, 45.6 279.8 Q 46.5 279.2, 47.8 279.2 Q 49.4 279.2, 50.3 280.1 Q 51.2 280.9, 51.2 282.5 Q 51.2 284.1, 50.0 285.5 Q 48.9 287.0, 46.5 288.7 L 51.4 288.7 L 51.4 289.9 L 44.2 289.9 L 44.2 288.9 Q 46.2 287.5, 47.4 286.5 Q 48.6 285.4, 49.1 284.5 Q 49.7 283.5, 49.7 282.6 Q 49.7 281.5, 49.2 281.0 Q 48.7 280.4, 47.8 280.4 Q 46.9 280.4, 46.4 280.7 Q 45.8 281.1, 45.4 281.9 L 44.3 281.3 \" fill=\"#000000\"/>\n",
       "<path class=\"note\" d=\"M 58.4 280.5 L 52.9 280.5 L 52.9 279.3 L 59.9 279.3 L 59.9 280.4 L 55.6 289.9 L 54.2 289.9 L 58.4 280.5 \" fill=\"#000000\"/>\n",
       "</svg>"
      ],
      "text/plain": [
       "<IPython.core.display.SVG object>"
      ]
     },
     "execution_count": 15,
     "metadata": {},
     "output_type": "execute_result"
    }
   ],
   "source": [
    "tf2n.assign_partial_charges(partial_charge_method=\"am1bcc\")\n",
    "\n",
    "draw_with_partial_charges(tf2n)"
   ]
  }
 ],
 "metadata": {
  "kernelspec": {
   "display_name": "Python 3 (ipykernel)",
   "language": "python",
   "name": "python3"
  },
  "language_info": {
   "codemirror_mode": {
    "name": "ipython",
    "version": 3
   },
   "file_extension": ".py",
   "mimetype": "text/x-python",
   "name": "python",
   "nbconvert_exporter": "python",
   "pygments_lexer": "ipython3",
   "version": "3.12.9"
  }
 },
 "nbformat": 4,
 "nbformat_minor": 5
}
