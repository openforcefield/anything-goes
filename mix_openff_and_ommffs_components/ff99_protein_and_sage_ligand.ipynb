{
 "cells": [
  {
   "cell_type": "code",
   "execution_count": 1,
   "id": "07efed7f-108b-4141-9ab2-c807a2641898",
   "metadata": {
    "execution": {
     "iopub.execute_input": "2025-06-18T14:16:26.659448Z",
     "iopub.status.busy": "2025-06-18T14:16:26.658910Z",
     "iopub.status.idle": "2025-06-18T14:16:28.467814Z",
     "shell.execute_reply": "2025-06-18T14:16:28.466789Z",
     "shell.execute_reply.started": "2025-06-18T14:16:26.659403Z"
    }
   },
   "outputs": [
    {
     "data": {
      "text/plain": [
       "('lig_23.sdf', <http.client.HTTPMessage at 0x108bce3d0>)"
      ]
     },
     "execution_count": 1,
     "metadata": {},
     "output_type": "execute_result"
    }
   ],
   "source": [
    "import urllib\n",
    "url = (\n",
    "    \"https://raw.githubusercontent.com/openforcefield/protein-ligand-benchmark/\"\n",
    "    \"8c94c0dcc892dfd77992567294b1ff31c62e8695/plbenchmark/sample_data/2020-08-26_mcl1_sample/\"\n",
    ")\n",
    "\n",
    "urllib.request.urlretrieve(url + \"01_protein/crd/protein.pdb\", \"protein.pdb\")\n",
    "urllib.request.urlretrieve(url + \"02_ligands/lig_23/crd/lig_23.sdf\", \"lig_23.sdf\")"
   ]
  },
  {
   "cell_type": "code",
   "execution_count": 5,
   "id": "570c58a6-a119-44fd-a349-608c0cfa77d2",
   "metadata": {
    "execution": {
     "iopub.execute_input": "2025-06-18T14:18:00.970196Z",
     "iopub.status.busy": "2025-06-18T14:18:00.965586Z",
     "iopub.status.idle": "2025-06-18T14:18:03.193323Z",
     "shell.execute_reply": "2025-06-18T14:18:03.192950Z",
     "shell.execute_reply.started": "2025-06-18T14:18:00.970033Z"
    }
   },
   "outputs": [
    {
     "name": "stdout",
     "output_type": "stream",
     "text": [
      "Loading...\n",
      "Adding hydrogens...\n",
      "Adding solvent...\n"
     ]
    }
   ],
   "source": [
    "import openmm.app\n",
    "import openmm\n",
    "import openmm.unit\n",
    "\n",
    "print('Loading...')\n",
    "pdb = openmm.app.PDBFile('protein.pdb')\n",
    "forcefield = openmm.app.ForceField('amber99sb.xml', 'tip3p.xml')\n",
    "modeller = openmm.app.Modeller(pdb.topology, pdb.positions)\n",
    "print('Adding hydrogens...')\n",
    "modeller.addHydrogens(forcefield)\n",
    "print('Adding solvent...')\n",
    "modeller.addSolvent(forcefield, model='tip3p', padding=1*openmm.unit.nanometer)\n",
    "#print('Minimizing...')\n",
    "system = forcefield.createSystem(\n",
    "        modeller.topology, \n",
    "        nonbondedMethod=openmm.app.PME,\n",
    "        nonbondedCutoff=9.0 * openmm.unit.angstrom,\n",
    "        switchDistance=8.0 * openmm.unit.angstrom,\n",
    "        constraints=openmm.app.HBonds\n",
    "    )"
   ]
  },
  {
   "cell_type": "code",
   "execution_count": 6,
   "id": "ebf68fb8-0eaf-43cb-9316-6a379a7d74a7",
   "metadata": {
    "execution": {
     "iopub.execute_input": "2025-06-18T14:18:32.571866Z",
     "iopub.status.busy": "2025-06-18T14:18:32.565614Z",
     "iopub.status.idle": "2025-06-18T14:18:54.646258Z",
     "shell.execute_reply": "2025-06-18T14:18:54.645417Z",
     "shell.execute_reply.started": "2025-06-18T14:18:32.571814Z"
    }
   },
   "outputs": [],
   "source": [
    "from openff.toolkit import Molecule, ForceField\n",
    "from openff.interchange import Interchange\n",
    "ligand = Molecule.from_file(\"lig_23.sdf\")\n",
    "sage = ForceField(\"openff-2.2.1.offxml\")\n",
    "ligand_interchange = sage.create_interchange(ligand.to_topology())"
   ]
  },
  {
   "cell_type": "code",
   "execution_count": 7,
   "id": "ffab1bfc-08b5-4e1f-b1a7-6ad3c3e3a576",
   "metadata": {
    "execution": {
     "iopub.execute_input": "2025-06-18T14:18:56.920027Z",
     "iopub.status.busy": "2025-06-18T14:18:56.915577Z",
     "iopub.status.idle": "2025-06-18T14:19:08.609413Z",
     "shell.execute_reply": "2025-06-18T14:19:08.608691Z",
     "shell.execute_reply.started": "2025-06-18T14:18:56.919894Z"
    }
   },
   "outputs": [],
   "source": [
    "protein_interchange = Interchange.from_openmm(\n",
    "    system=system, \n",
    "    topology=modeller.topology,\n",
    "    positions=modeller.getPositions(),\n",
    "    box_vectors=modeller.topology.getPeriodicBoxVectors(),\n",
    "    )\n",
    "# Ensure the non-bonded settings match the `Interchange` created with Sage\n",
    "protein_interchange['vdW'].cutoff = ligand_interchange['vdW'].cutoff\n",
    "protein_interchange['vdW'].switch_width = ligand_interchange['vdW'].switch_width\n",
    "protein_interchange['Electrostatics'].cutoff = ligand_interchange['Electrostatics'].cutoff"
   ]
  },
  {
   "cell_type": "code",
   "execution_count": 8,
   "id": "802c0320-4ed9-40e5-b5c3-5fcd565dd856",
   "metadata": {
    "execution": {
     "iopub.execute_input": "2025-06-18T14:19:10.381492Z",
     "iopub.status.busy": "2025-06-18T14:19:10.380246Z",
     "iopub.status.idle": "2025-06-18T14:19:18.938909Z",
     "shell.execute_reply": "2025-06-18T14:19:18.937885Z",
     "shell.execute_reply.started": "2025-06-18T14:19:10.381426Z"
    }
   },
   "outputs": [
    {
     "name": "stderr",
     "output_type": "stream",
     "text": [
      "/Users/jeffreywagner/micromamba/envs/demo2/lib/python3.11/site-packages/openff/interchange/operations/_combine.py:77: InterchangeCombinationWarning: Interchange object combination is complex and likely to produce strange results outside of a limited set of use cases it has been tested in. Any workflow using this method is not guaranteed to be suitable for production or stable between versions. Use with extreme caution and thoroughly validate results!\n",
      "  warnings.warn(\n",
      "/Users/jeffreywagner/micromamba/envs/demo2/lib/python3.11/site-packages/openff/interchange/operations/_combine.py:57: InterchangeCombinationWarning: Found electrostatics 1-4 scaling factors of 5/6 with slightly different rounding (0.833333 and 0.8333333333). This likely stems from OpenFF using more digits in rounding 1/1.2. The value of 0.8333333333 will be used, which may or may not introduce small errors. \n",
      "  warnings.warn(\n"
     ]
    }
   ],
   "source": [
    "complex_interchange = ligand_interchange.combine(protein_interchange)"
   ]
  },
  {
   "cell_type": "code",
   "execution_count": 10,
   "id": "3973da90-719f-4e9d-ae29-c0585014ab25",
   "metadata": {
    "execution": {
     "iopub.execute_input": "2025-06-18T14:19:45.423971Z",
     "iopub.status.busy": "2025-06-18T14:19:45.422171Z",
     "iopub.status.idle": "2025-06-18T14:19:50.195240Z",
     "shell.execute_reply": "2025-06-18T14:19:50.194730Z",
     "shell.execute_reply.started": "2025-06-18T14:19:45.423918Z"
    }
   },
   "outputs": [],
   "source": [
    "integrator = openmm.LangevinIntegrator(\n",
    "    300 * openmm.unit.kelvin,\n",
    "    1 / openmm.unit.picosecond,\n",
    "    0.002 * openmm.unit.picoseconds,\n",
    ")\n",
    "\n",
    "# Under the hood, this creates *OpenMM* `System` and `Topology` objects, then combines them together\n",
    "simulation = complex_interchange.to_openmm_simulation(integrator=integrator)"
   ]
  },
  {
   "cell_type": "code",
   "execution_count": 13,
   "id": "31435f55-9651-4d2f-8971-8b82c3c09f4e",
   "metadata": {
    "execution": {
     "iopub.execute_input": "2025-06-18T14:20:06.299391Z",
     "iopub.status.busy": "2025-06-18T14:20:06.297005Z",
     "iopub.status.idle": "2025-06-18T14:20:06.313981Z",
     "shell.execute_reply": "2025-06-18T14:20:06.313476Z",
     "shell.execute_reply.started": "2025-06-18T14:20:06.299302Z"
    }
   },
   "outputs": [],
   "source": [
    "dcd_reporter = openmm.app.DCDReporter(file=\"trajectory.dcd\", reportInterval=100)\n",
    "simulation.reporters.append(dcd_reporter)"
   ]
  },
  {
   "cell_type": "code",
   "execution_count": 14,
   "id": "e5d09b57-aa52-426a-8125-551dba379cb0",
   "metadata": {
    "execution": {
     "iopub.execute_input": "2025-06-18T14:20:13.316106Z",
     "iopub.status.busy": "2025-06-18T14:20:13.314904Z",
     "iopub.status.idle": "2025-06-18T14:22:45.166574Z",
     "shell.execute_reply": "2025-06-18T14:22:45.163766Z",
     "shell.execute_reply.started": "2025-06-18T14:20:13.316069Z"
    }
   },
   "outputs": [],
   "source": [
    "# This will take a minute since we carelessly \n",
    "# added water without the ligand present\n",
    "simulation.minimizeEnergy()"
   ]
  },
  {
   "cell_type": "code",
   "execution_count": 15,
   "id": "ee39c28c-d767-4fc3-87c0-fbe3f2ca859e",
   "metadata": {
    "execution": {
     "iopub.execute_input": "2025-06-18T14:22:45.176986Z",
     "iopub.status.busy": "2025-06-18T14:22:45.174045Z",
     "iopub.status.idle": "2025-06-18T14:23:16.724370Z",
     "shell.execute_reply": "2025-06-18T14:23:16.720416Z",
     "shell.execute_reply.started": "2025-06-18T14:22:45.176945Z"
    }
   },
   "outputs": [],
   "source": [
    "simulation.context.setVelocitiesToTemperature(300 * openmm.unit.kelvin)\n",
    "simulation.runForClockTime(.5 * openmm.unit.minute)"
   ]
  },
  {
   "cell_type": "code",
   "execution_count": 16,
   "id": "3016ddf6-676a-4a8b-b25a-0cc04d30edae",
   "metadata": {
    "execution": {
     "iopub.execute_input": "2025-06-18T14:24:00.672988Z",
     "iopub.status.busy": "2025-06-18T14:24:00.670419Z",
     "iopub.status.idle": "2025-06-18T14:24:04.080990Z",
     "shell.execute_reply": "2025-06-18T14:24:04.077923Z",
     "shell.execute_reply.started": "2025-06-18T14:24:00.672937Z"
    }
   },
   "outputs": [
    {
     "data": {
      "application/vnd.jupyter.widget-view+json": {
       "model_id": "02a28b4dcd474f05b7f6c42bc057c103",
       "version_major": 2,
       "version_minor": 0
      },
      "text/plain": []
     },
     "metadata": {},
     "output_type": "display_data"
    },
    {
     "data": {
      "application/vnd.jupyter.widget-view+json": {
       "model_id": "8439d17bbf744a5ca8476977d63df306",
       "version_major": 2,
       "version_minor": 0
      },
      "text/plain": [
       "NGLWidget(max_frame=17)"
      ]
     },
     "metadata": {},
     "output_type": "display_data"
    }
   ],
   "source": [
    "import mdtraj\n",
    "import nglview\n",
    "trajectory: mdtraj.Trajectory = mdtraj.load(\n",
    "    \"trajectory.dcd\", top=mdtraj.Topology.from_openmm(complex_interchange.to_openmm_topology())\n",
    ")\n",
    "\n",
    "view = nglview.show_mdtraj(trajectory)#.image_molecules())\n",
    "view.add_representation(\"line\", selection=\"protein or water\")\n",
    "\n",
    "view"
   ]
  },
  {
   "cell_type": "code",
   "execution_count": null,
   "id": "f3a49499-c353-4f40-8e3f-ea3d8b40d4d5",
   "metadata": {},
   "outputs": [],
   "source": []
  }
 ],
 "metadata": {
  "kernelspec": {
   "display_name": "Python 3 (ipykernel)",
   "language": "python",
   "name": "python3"
  },
  "language_info": {
   "codemirror_mode": {
    "name": "ipython",
    "version": 3
   },
   "file_extension": ".py",
   "mimetype": "text/x-python",
   "name": "python",
   "nbconvert_exporter": "python",
   "pygments_lexer": "ipython3",
   "version": "3.11.13"
  }
 },
 "nbformat": 4,
 "nbformat_minor": 5
}
