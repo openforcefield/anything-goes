{
 "cells": [
  {
   "cell_type": "code",
   "execution_count": 1,
   "id": "65a5fa9e-3887-4fd9-94dc-e74a24e97623",
   "metadata": {
    "execution": {
     "iopub.execute_input": "2025-08-15T19:13:38.140900Z",
     "iopub.status.busy": "2025-08-15T19:13:38.139621Z",
     "iopub.status.idle": "2025-08-15T19:13:40.881784Z",
     "shell.execute_reply": "2025-08-15T19:13:40.879521Z",
     "shell.execute_reply.started": "2025-08-15T19:13:38.140853Z"
    }
   },
   "outputs": [],
   "source": [
    "import openmm\n",
    "from ipywidgets import Image\n",
    "from openff.interchange.components._packmol import (\n",
    "    RHOMBIC_DODECAHEDRON,\n",
    "    solvate_topology,\n",
    ")\n",
    "from openff.toolkit import ForceField, Molecule, Topology\n",
    "from openff.units import Quantity\n",
    "from rdkit.Chem import Draw\n",
    "from rdkit.Chem.rdChemReactions import ReactionFromSmarts"
   ]
  },
  {
   "cell_type": "code",
   "execution_count": 2,
   "id": "2e3c186a-0f9a-4936-bf31-65c2c5df553c",
   "metadata": {
    "execution": {
     "iopub.execute_input": "2025-08-15T19:13:40.887977Z",
     "iopub.status.busy": "2025-08-15T19:13:40.886955Z",
     "iopub.status.idle": "2025-08-15T19:13:40.902312Z",
     "shell.execute_reply": "2025-08-15T19:13:40.901255Z",
     "shell.execute_reply.started": "2025-08-15T19:13:40.887922Z"
    }
   },
   "outputs": [],
   "source": [
    "with open('system.pdb') as of:\n",
    "    with open('system_edited.pdb','w') as ofw:\n",
    "        for line in of.readlines():\n",
    "            to_write = line.strip()\n",
    "            #to_write = to_write.replace(\"TH4\", \"THR\").\n",
    "            #    replace(\"LY6\", \"LYS\").\n",
    "            #    replace(\"SE9\", \"SER\").\n",
    "            #    replace(\"A10\", \"ASP\").\n",
    "            #    replace(\"G12\", \"GLU\").\n",
    "            #    replace(\"G13\", \"GLU\") \n",
    "            if \"ATOM\" in to_write:\n",
    "                #if \"A10\" in to_write:\n",
    "                #    to_write = to_write.replace(\"HB3\", \"HB1\")\n",
    "                if \"G12\" in to_write:\n",
    "                    if \"OE2\" in to_write:\n",
    "                        to_write = to_write.replace(\"OE2\", \"OE1\")\n",
    "                #if \"LY6\" in to_write:\n",
    "                #    if \"HZ\" in to_write:\n",
    "                #        to_write = to_write.replace(\"HZ\", \"HZ1\")\n",
    "\n",
    "                to_write += ' '*10 + line.split()[2][0]\n",
    "            if to_write == \"TER\":\n",
    "                #to_write = 'TER\\n' \n",
    "                # Example \"CONECT 2617 2592\"\n",
    "                #TH4 OG1 to A10 CG\n",
    "                to_write += 'CONECT   43  142'\n",
    "                to_write += '\\nCONECT  142   43'\n",
    "                #LY6 NZ to G13 CD\n",
    "                to_write += '\\nCONECT   86  194'\n",
    "                to_write += '\\nCONECT  194   86'\n",
    "                # SE9 OG to G12 CD\n",
    "                to_write += '\\nCONECT  132  180'\n",
    "                to_write += '\\nCONECT  180  132'\n",
    "                \n",
    "                \n",
    "            to_write += '\\n'\n",
    "            ofw.write(to_write)"
   ]
  },
  {
   "cell_type": "code",
   "execution_count": 3,
   "id": "0af03e7d-5687-47bc-98d6-2e0e80aa1fd1",
   "metadata": {
    "execution": {
     "iopub.execute_input": "2025-08-15T19:13:40.904652Z",
     "iopub.status.busy": "2025-08-15T19:13:40.904217Z",
     "iopub.status.idle": "2025-08-15T19:13:43.824355Z",
     "shell.execute_reply": "2025-08-15T19:13:43.822611Z",
     "shell.execute_reply.started": "2025-08-15T19:13:40.904611Z"
    }
   },
   "outputs": [],
   "source": [
    "from openff.pablo import CCD_RESIDUE_DEFINITION_CACHE, topology_from_pdb\n",
    "from openff.pablo.residue import BondDefinition\n",
    "\n",
    "custom_residue_database = CCD_RESIDUE_DEFINITION_CACHE.with_(\n",
    "    {\n",
    "        \"TH4\": [\n",
    "            resdef.replace(\n",
    "                residue_name=\"TH4\",\n",
    "                crosslink=BondDefinition.with_defaults(atom1=\"OG1\", atom2=\"CG\"),\n",
    "                atoms=[\n",
    "                    atom.replace(leaving=True) if atom.name == \"HG1\" else atom\n",
    "                    for atom in resdef.atoms\n",
    "                ],\n",
    "                description=resdef.description + \" w/ crosslink\",\n",
    "            )\n",
    "            for resdef in CCD_RESIDUE_DEFINITION_CACHE[\"THR\"]\n",
    "            if resdef.description == \"THREONINE\"\n",
    "        ],\n",
    "        \"A10\": [\n",
    "            resdef.replace(\n",
    "                residue_name=\"A10\",\n",
    "                crosslink=BondDefinition.with_defaults(atom1=\"CG\", atom2=\"OG1\"),\n",
    "                atoms=[\n",
    "                    (\n",
    "                        atom.replace(leaving=True)\n",
    "                        if atom.name in {\"OD2\", \"HD2\"}\n",
    "                        else atom\n",
    "                    )\n",
    "                    for atom in resdef.atoms\n",
    "                ],\n",
    "                description=resdef.description + \" w/ crosslink\",\n",
    "            )\n",
    "            for resdef in CCD_RESIDUE_DEFINITION_CACHE[\"ASP\"]\n",
    "            if resdef.description == \"ASPARTIC ACID\"\n",
    "        ],\n",
    "        \"LY6\": [\n",
    "            resdef.replace(\n",
    "                residue_name=\"LY6\",\n",
    "                crosslink=BondDefinition.with_defaults(atom1=\"NZ\", atom2=\"CD\"),\n",
    "                atoms=[\n",
    "                    (\n",
    "                        atom.replace(leaving=True)\n",
    "                        if atom.name in {\"HZ2\", \"HZ3\"}\n",
    "                        else (\n",
    "                            atom.replace(synonyms=(*atom.synonyms, \"HZ\"))\n",
    "                            if atom.name == \"HZ1\"\n",
    "                            else atom\n",
    "                        )\n",
    "                    )\n",
    "                    for atom in resdef.atoms\n",
    "                ],\n",
    "                description=resdef.description + \" w/ crosslink\",\n",
    "            )\n",
    "            for resdef in CCD_RESIDUE_DEFINITION_CACHE[\"LYS\"]\n",
    "            if resdef.description == \"LYSINE -HZ3\"\n",
    "        ],\n",
    "        \"G13\": [\n",
    "            resdef.replace(\n",
    "                residue_name=\"G13\",\n",
    "                crosslink=BondDefinition.with_defaults(atom1=\"CD\", atom2=\"NZ\"),\n",
    "                atoms=[\n",
    "                    atom.replace(leaving=True)\n",
    "                    if atom.name in (\"OE2\", \"HE2\")\n",
    "                    else atom\n",
    "                    for atom in resdef.atoms\n",
    "                ],\n",
    "                description=resdef.description + \" w/ crosslink\",\n",
    "            )\n",
    "            for resdef in CCD_RESIDUE_DEFINITION_CACHE[\"GLU\"]\n",
    "            if resdef.description == \"GLUTAMIC ACID\"\n",
    "        ],\n",
    "        \"SE9\": [\n",
    "            resdef.replace(\n",
    "                residue_name=\"SE9\",\n",
    "                crosslink=BondDefinition.with_defaults(atom1=\"OG\", atom2=\"CD\"),\n",
    "                atoms=[\n",
    "                    atom.replace(leaving=True) if atom.name == \"HG\" else atom\n",
    "                    for atom in resdef.atoms\n",
    "                ],\n",
    "                description=resdef.description + \" w/ crosslink\",\n",
    "            )\n",
    "            for resdef in CCD_RESIDUE_DEFINITION_CACHE[\"SER\"]\n",
    "            if resdef.description == \"SERINE\"\n",
    "        ],\n",
    "        \"G12\": [\n",
    "            resdef.replace(\n",
    "                residue_name=\"G12\",\n",
    "                crosslink=BondDefinition.with_defaults(atom1=\"CD\", atom2=\"OG\"),\n",
    "                atoms=[\n",
    "                    atom.replace(leaving=True)\n",
    "                    if atom.name in (\"OE2\", \"HE2\")\n",
    "                    else atom\n",
    "                    for atom in resdef.atoms\n",
    "                ],\n",
    "                description=resdef.description + \" w/ crosslink\",\n",
    "            )\n",
    "            for resdef in CCD_RESIDUE_DEFINITION_CACHE[\"GLU\"]\n",
    "            if resdef.description == \"GLUTAMIC ACID\"\n",
    "        ],\n",
    "    },\n",
    ")\n",
    "\n",
    "top = topology_from_pdb(\n",
    "    \"system_edited.pdb\",\n",
    "    residue_database=custom_residue_database,\n",
    ")\n"
   ]
  },
  {
   "cell_type": "code",
   "execution_count": 4,
   "id": "0de6979e-8463-4c4a-a964-3c8d7658b22b",
   "metadata": {
    "execution": {
     "iopub.execute_input": "2025-08-15T19:13:43.851697Z",
     "iopub.status.busy": "2025-08-15T19:13:43.849756Z",
     "iopub.status.idle": "2025-08-15T19:13:44.646038Z",
     "shell.execute_reply": "2025-08-15T19:13:44.642325Z",
     "shell.execute_reply.started": "2025-08-15T19:13:43.851641Z"
    }
   },
   "outputs": [
    {
     "data": {
      "application/vnd.jupyter.widget-view+json": {
       "model_id": "ed832f91d79c41d28fbc688275c30394",
       "version_major": 2,
       "version_minor": 0
      },
      "text/plain": []
     },
     "metadata": {},
     "output_type": "display_data"
    },
    {
     "name": "stderr",
     "output_type": "stream",
     "text": [
      "/Users/jeffreywagner/micromamba/envs/temp/lib/python3.11/site-packages/nglview/__init__.py:12: UserWarning: pkg_resources is deprecated as an API. See https://setuptools.pypa.io/en/latest/pkg_resources.html. The pkg_resources package is slated for removal as early as 2025-11-30. Refrain from using this package or pin to Setuptools<81.\n",
      "  import pkg_resources\n"
     ]
    },
    {
     "data": {
      "application/vnd.jupyter.widget-view+json": {
       "model_id": "ce1175727cf04c8aa925d1636d40ad54",
       "version_major": 2,
       "version_minor": 0
      },
      "text/plain": [
       "NGLWidget()"
      ]
     },
     "metadata": {},
     "output_type": "display_data"
    }
   ],
   "source": [
    "top.molecule(0)"
   ]
  },
  {
   "cell_type": "code",
   "execution_count": 5,
   "id": "7ff07614-cead-4344-81d6-0a72ce48e8bc",
   "metadata": {
    "execution": {
     "iopub.execute_input": "2025-08-15T19:13:44.648832Z",
     "iopub.status.busy": "2025-08-15T19:13:44.648358Z",
     "iopub.status.idle": "2025-08-15T19:14:12.888525Z",
     "shell.execute_reply": "2025-08-15T19:14:12.887125Z",
     "shell.execute_reply.started": "2025-08-15T19:13:44.648798Z"
    }
   },
   "outputs": [],
   "source": [
    "top = solvate_topology(\n",
    "    top,\n",
    "    nacl_conc=Quantity(0.1, \"mol/L\"),\n",
    "    padding=Quantity(1.2, \"nm\"),\n",
    "    box_shape=RHOMBIC_DODECAHEDRON,\n",
    ")"
   ]
  },
  {
   "cell_type": "code",
   "execution_count": 6,
   "id": "5ada99a7-d450-4099-8e30-64135336aabb",
   "metadata": {
    "execution": {
     "iopub.execute_input": "2025-08-15T19:14:12.893038Z",
     "iopub.status.busy": "2025-08-15T19:14:12.892489Z",
     "iopub.status.idle": "2025-08-15T19:14:14.973164Z",
     "shell.execute_reply": "2025-08-15T19:14:14.970305Z",
     "shell.execute_reply.started": "2025-08-15T19:14:12.893001Z"
    }
   },
   "outputs": [
    {
     "data": {
      "application/vnd.jupyter.widget-view+json": {
       "model_id": "30218c5f3f234f84a3241717866a08ff",
       "version_major": 2,
       "version_minor": 0
      },
      "text/plain": [
       "NGLWidget()"
      ]
     },
     "metadata": {},
     "output_type": "display_data"
    }
   ],
   "source": [
    "top.visualize()"
   ]
  },
  {
   "cell_type": "code",
   "execution_count": 7,
   "id": "3cb56304-528d-4d6f-b777-81702b5d7a33",
   "metadata": {
    "execution": {
     "iopub.execute_input": "2025-08-15T19:14:14.978863Z",
     "iopub.status.busy": "2025-08-15T19:14:14.978298Z",
     "iopub.status.idle": "2025-08-15T19:16:21.221499Z",
     "shell.execute_reply": "2025-08-15T19:16:21.218218Z",
     "shell.execute_reply.started": "2025-08-15T19:14:14.978780Z"
    }
   },
   "outputs": [
    {
     "name": "stdout",
     "output_type": "stream",
     "text": [
      "adding dummy charges to force field ...\n",
      "making Interchange ...\n",
      "replacing dummy charges with NAGL charges ... \n",
      "assigning graph charges to C78H104N19O21 ...\n"
     ]
    },
    {
     "name": "stderr",
     "output_type": "stream",
     "text": [
      "[12:16:18] WARNING: Proton(s) added/removed\n",
      "\n"
     ]
    },
    {
     "name": "stdout",
     "output_type": "stream",
     "text": [
      "continuing with dummy charge replacement ...\n"
     ]
    }
   ],
   "source": [
    "from ptm_prototype import parametrize_with_nagl\n",
    "from openff.toolkit import ForceField\n",
    "\n",
    "sage_ff14sb = ForceField(\"openff-2.2.1.offxml\", \"ff14sb_off_impropers_0.0.4.offxml\")\n",
    "\n",
    "\n",
    "interchange = parametrize_with_nagl(force_field=sage_ff14sb, topology=top)"
   ]
  },
  {
   "cell_type": "code",
   "execution_count": 8,
   "id": "7d4e0b0d-0bb7-4157-b22d-a5b0b7b44683",
   "metadata": {
    "execution": {
     "iopub.execute_input": "2025-08-15T19:16:44.971464Z",
     "iopub.status.busy": "2025-08-15T19:16:44.969034Z",
     "iopub.status.idle": "2025-08-15T19:16:44.996481Z",
     "shell.execute_reply": "2025-08-15T19:16:44.994044Z",
     "shell.execute_reply.started": "2025-08-15T19:16:44.971339Z"
    }
   },
   "outputs": [
    {
     "name": "stdout",
     "output_type": "stream",
     "text": [
      "id='[H:6][C:5]([C:20]=[O:21])([C:7]([H:8])([C:9]([H:10])([H:11])[H:12])[C:13]([H:14])([H:15])[C:16]([H:17])([H:18])[H:19])[N+:1]([H:2])([H:3])[H:4]' mult=0 associated_handler='LibraryCharges' bond_order=None virtual_site_type=None cosmetic_attributes={}\n",
      "id='inserted_graph_charges' mult=196 associated_handler='molecules_with_preset_charges' bond_order=None virtual_site_type=None cosmetic_attributes={}\n"
     ]
    }
   ],
   "source": [
    "print([*interchange['Electrostatics'].key_map.values()][0])\n",
    "print([*interchange['Electrostatics'].key_map.values()][-1])"
   ]
  },
  {
   "cell_type": "code",
   "execution_count": 9,
   "id": "2a5df379-ebf4-4a8b-8799-8650522c3b9d",
   "metadata": {
    "execution": {
     "iopub.execute_input": "2025-08-15T19:16:45.597552Z",
     "iopub.status.busy": "2025-08-15T19:16:45.596919Z",
     "iopub.status.idle": "2025-08-15T19:17:04.163290Z",
     "shell.execute_reply": "2025-08-15T19:17:04.159071Z",
     "shell.execute_reply.started": "2025-08-15T19:16:45.597497Z"
    }
   },
   "outputs": [
    {
     "name": "stdout",
     "output_type": "stream",
     "text": [
      "making OpenMM simulation ...\n",
      "total system charge is 7.993605777301127e-15\n",
      "serializing OpenMM system ...\n"
     ]
    }
   ],
   "source": [
    "from ptm_prototype import get_openmm_total_charge\n",
    "\n",
    "temperature = 300 * openmm.unit.kelvin\n",
    "pressure = 1 * openmm.unit.bar\n",
    "\n",
    "timestep = 2 * openmm.unit.femtosecond\n",
    "friction_coeff = 1 / openmm.unit.picosecond\n",
    "barostat_frequency = 25\n",
    "\n",
    "print(\"making OpenMM simulation ...\")\n",
    "simulation = interchange.to_openmm_simulation(\n",
    "    integrator=openmm.LangevinMiddleIntegrator(\n",
    "        temperature,\n",
    "        friction_coeff,\n",
    "        timestep,\n",
    "    ),\n",
    "    additional_forces=[\n",
    "        openmm.MonteCarloBarostat(\n",
    "            pressure,\n",
    "            temperature,\n",
    "            barostat_frequency,\n",
    "        ),\n",
    "    ],\n",
    ")\n",
    "\n",
    "dcd_reporter = openmm.app.DCDReporter(\"trajectory.dcd\", 100)\n",
    "simulation.reporters.append(dcd_reporter)\n",
    "\n",
    "print(f\"total system charge is {get_openmm_total_charge(simulation.system)}\")\n",
    "\n",
    "print(\"serializing OpenMM system ...\")\n",
    "with open(\"system.xml\", \"w\") as f:\n",
    "    f.write(openmm.XmlSerializer.serialize(simulation.system))"
   ]
  },
  {
   "cell_type": "code",
   "execution_count": 10,
   "id": "faf10226-30d2-474f-9ffc-e17e7f140dbb",
   "metadata": {
    "execution": {
     "iopub.execute_input": "2025-08-15T19:17:04.176741Z",
     "iopub.status.busy": "2025-08-15T19:17:04.176217Z",
     "iopub.status.idle": "2025-08-15T19:18:04.423430Z",
     "shell.execute_reply": "2025-08-15T19:18:04.421773Z",
     "shell.execute_reply.started": "2025-08-15T19:17:04.176702Z"
    }
   },
   "outputs": [],
   "source": [
    "simulation.context.computeVirtualSites()\n",
    "simulation.minimizeEnergy()\n",
    "simulation.context.setVelocitiesToTemperature(simulation.integrator.getTemperature())"
   ]
  },
  {
   "cell_type": "code",
   "execution_count": 11,
   "id": "11c5dd4b-a51d-4e28-a6d8-71473e1c56d1",
   "metadata": {
    "execution": {
     "iopub.execute_input": "2025-08-15T19:18:04.426533Z",
     "iopub.status.busy": "2025-08-15T19:18:04.426106Z",
     "iopub.status.idle": "2025-08-15T19:18:19.515902Z",
     "shell.execute_reply": "2025-08-15T19:18:19.510649Z",
     "shell.execute_reply.started": "2025-08-15T19:18:04.426504Z"
    }
   },
   "outputs": [],
   "source": [
    "simulation.runForClockTime(.25 * openmm.unit.minute)"
   ]
  },
  {
   "cell_type": "code",
   "execution_count": 12,
   "id": "17cb9344-7dad-4604-aeb4-a3153a5de43d",
   "metadata": {
    "execution": {
     "iopub.execute_input": "2025-08-15T19:18:19.543686Z",
     "iopub.status.busy": "2025-08-15T19:18:19.542848Z",
     "iopub.status.idle": "2025-08-15T19:18:24.640119Z",
     "shell.execute_reply": "2025-08-15T19:18:24.638357Z",
     "shell.execute_reply.started": "2025-08-15T19:18:19.543593Z"
    }
   },
   "outputs": [
    {
     "data": {
      "application/vnd.jupyter.widget-view+json": {
       "model_id": "bb21d03e12e941838e1f4afede5336e5",
       "version_major": 2,
       "version_minor": 0
      },
      "text/plain": [
       "NGLWidget(max_frame=30)"
      ]
     },
     "metadata": {},
     "output_type": "display_data"
    }
   ],
   "source": [
    "from ptm_prototype import nglview_show_openmm\n",
    "\n",
    "w = nglview_show_openmm(simulation.topology, \"trajectory.dcd\")\n",
    "w.add_licorice(\"not UNK\", radius=0.3)\n",
    "#w.center(\"not water\")\n",
    "w"
   ]
  },
  {
   "cell_type": "code",
   "execution_count": null,
   "id": "d3398532-fde6-4b97-841f-2255ee2628ae",
   "metadata": {},
   "outputs": [],
   "source": []
  },
  {
   "cell_type": "markdown",
   "id": "2857100c-f572-4b6d-b512-733478ac2d03",
   "metadata": {},
   "source": [
    "### Modify esters to be thioesters"
   ]
  },
  {
   "cell_type": "code",
   "execution_count": 15,
   "id": "4d5ec1d8-0ea8-4d80-a174-c7df5ddf0d21",
   "metadata": {
    "execution": {
     "iopub.execute_input": "2025-08-15T19:40:31.923635Z",
     "iopub.status.busy": "2025-08-15T19:40:31.921889Z",
     "iopub.status.idle": "2025-08-15T19:40:32.559042Z",
     "shell.execute_reply": "2025-08-15T19:40:32.558533Z",
     "shell.execute_reply.started": "2025-08-15T19:40:31.923569Z"
    }
   },
   "outputs": [
    {
     "data": {
      "image/svg+xml": [
       "<svg xmlns=\"http://www.w3.org/2000/svg\" xmlns:rdkit=\"http://www.rdkit.org/xml\" xmlns:xlink=\"http://www.w3.org/1999/xlink\" version=\"1.1\" baseProfile=\"full\" xml:space=\"preserve\" width=\"500px\" height=\"300px\" viewBox=\"0 0 500 300\">\n",
       "<!-- END OF HEADER -->\n",
       "<rect style=\"opacity:1.0;fill:#FFFFFF;stroke:none\" width=\"500.0\" height=\"300.0\" x=\"0.0\" y=\"0.0\"> </rect>\n",
       "<path class=\"bond-0 atom-0 atom-4\" d=\"M 184.6,149.6 L 189.2,150.1\" style=\"fill:none;fill-rule:evenodd;stroke:#0000FF;stroke-width:2.0px;stroke-linecap:butt;stroke-linejoin:miter;stroke-opacity:1\"/>\n",
       "<path class=\"bond-0 atom-0 atom-4\" d=\"M 189.2,150.1 L 193.8,150.6\" style=\"fill:none;fill-rule:evenodd;stroke:#000000;stroke-width:2.0px;stroke-linecap:butt;stroke-linejoin:miter;stroke-opacity:1\"/>\n",
       "<path class=\"bond-1 atom-0 atom-1\" d=\"M 184.7,147.2 L 184.8,147.1\" style=\"fill:none;fill-rule:evenodd;stroke:#0000FF;stroke-width:2.0px;stroke-linecap:butt;stroke-linejoin:miter;stroke-opacity:1\"/>\n",
       "<path class=\"bond-1 atom-0 atom-1\" d=\"M 184.8,147.1 L 184.8,147.1\" style=\"fill:none;fill-rule:evenodd;stroke:#000000;stroke-width:2.0px;stroke-linecap:butt;stroke-linejoin:miter;stroke-opacity:1\"/>\n",
       "<path class=\"bond-2 atom-0 atom-2\" d=\"M 183.8,146.9 L 183.8,146.9\" style=\"fill:none;fill-rule:evenodd;stroke:#0000FF;stroke-width:2.0px;stroke-linecap:butt;stroke-linejoin:miter;stroke-opacity:1\"/>\n",
       "<path class=\"bond-2 atom-0 atom-2\" d=\"M 183.8,146.9 L 183.9,146.8\" style=\"fill:none;fill-rule:evenodd;stroke:#000000;stroke-width:2.0px;stroke-linecap:butt;stroke-linejoin:miter;stroke-opacity:1\"/>\n",
       "<path class=\"bond-3 atom-4 atom-19\" d=\"M 193.8,150.6 L 199.3,149.3\" style=\"fill:none;fill-rule:evenodd;stroke:#000000;stroke-width:2.0px;stroke-linecap:butt;stroke-linejoin:miter;stroke-opacity:1\"/>\n",
       "<path class=\"bond-4 atom-4 atom-6\" d=\"M 193.8,150.6 L 187.2,160.3\" style=\"fill:none;fill-rule:evenodd;stroke:#000000;stroke-width:2.0px;stroke-linecap:butt;stroke-linejoin:miter;stroke-opacity:1\"/>\n",
       "<path class=\"bond-5 atom-4 atom-5\" d=\"M 193.8,150.6 L 190.9,139.6 L 192.4,139.3 Z\" style=\"fill:#000000;fill-rule:evenodd;fill-opacity:1;stroke:#000000;stroke-width:0.5px;stroke-linecap:butt;stroke-linejoin:miter;stroke-miterlimit:10;stroke-opacity:1;\"/>\n",
       "<path class=\"bond-6 atom-19 atom-20\" d=\"M 200.0,150.1 L 200.6,146.2\" style=\"fill:none;fill-rule:evenodd;stroke:#000000;stroke-width:2.0px;stroke-linecap:butt;stroke-linejoin:miter;stroke-opacity:1\"/>\n",
       "<path class=\"bond-6 atom-19 atom-20\" d=\"M 200.6,146.2 L 201.2,142.4\" style=\"fill:none;fill-rule:evenodd;stroke:#FF0000;stroke-width:2.0px;stroke-linecap:butt;stroke-linejoin:miter;stroke-opacity:1\"/>\n",
       "<path class=\"bond-6 atom-19 atom-20\" d=\"M 198.6,149.5 L 199.1,146.0\" style=\"fill:none;fill-rule:evenodd;stroke:#000000;stroke-width:2.0px;stroke-linecap:butt;stroke-linejoin:miter;stroke-opacity:1\"/>\n",
       "<path class=\"bond-6 atom-19 atom-20\" d=\"M 199.1,146.0 L 199.8,142.2\" style=\"fill:none;fill-rule:evenodd;stroke:#FF0000;stroke-width:2.0px;stroke-linecap:butt;stroke-linejoin:miter;stroke-opacity:1\"/>\n",
       "<path class=\"bond-7 atom-6 atom-12\" d=\"M 187.2,160.3 L 173.8,154.3\" style=\"fill:none;fill-rule:evenodd;stroke:#000000;stroke-width:2.0px;stroke-linecap:butt;stroke-linejoin:miter;stroke-opacity:1\"/>\n",
       "<path class=\"bond-8 atom-6 atom-8\" d=\"M 187.2,160.3 L 183.2,168.8\" style=\"fill:none;fill-rule:evenodd;stroke:#000000;stroke-width:2.0px;stroke-linecap:butt;stroke-linejoin:miter;stroke-opacity:1\"/>\n",
       "<path class=\"bond-9 atom-6 atom-7\" d=\"M 189.0,161.0 L 188.8,161.4\" style=\"fill:none;fill-rule:evenodd;stroke:#000000;stroke-width:1.0px;stroke-linecap:butt;stroke-linejoin:miter;stroke-opacity:1\"/>\n",
       "<path class=\"bond-9 atom-6 atom-7\" d=\"M 190.8,161.7 L 190.4,162.6\" style=\"fill:none;fill-rule:evenodd;stroke:#000000;stroke-width:1.0px;stroke-linecap:butt;stroke-linejoin:miter;stroke-opacity:1\"/>\n",
       "<path class=\"bond-9 atom-6 atom-7\" d=\"M 192.7,162.4 L 192.0,163.7\" style=\"fill:none;fill-rule:evenodd;stroke:#000000;stroke-width:1.0px;stroke-linecap:butt;stroke-linejoin:miter;stroke-opacity:1\"/>\n",
       "<path class=\"bond-10 atom-12 atom-15\" d=\"M 173.8,154.3 L 174.7,141.9\" style=\"fill:none;fill-rule:evenodd;stroke:#000000;stroke-width:2.0px;stroke-linecap:butt;stroke-linejoin:miter;stroke-opacity:1\"/>\n",
       "<path class=\"bond-11 atom-12 atom-13\" d=\"M 173.8,154.3 L 171.9,160.0\" style=\"fill:none;fill-rule:evenodd;stroke:#000000;stroke-width:2.0px;stroke-linecap:butt;stroke-linejoin:miter;stroke-opacity:1\"/>\n",
       "<path class=\"bond-12 atom-12 atom-14\" d=\"M 173.8,154.3 L 167.2,155.3\" style=\"fill:none;fill-rule:evenodd;stroke:#000000;stroke-width:2.0px;stroke-linecap:butt;stroke-linejoin:miter;stroke-opacity:1\"/>\n",
       "<path class=\"bond-13 atom-8 atom-9\" d=\"M 183.2,168.8 L 189.9,171.8\" style=\"fill:none;fill-rule:evenodd;stroke:#000000;stroke-width:2.0px;stroke-linecap:butt;stroke-linejoin:miter;stroke-opacity:1\"/>\n",
       "<path class=\"bond-14 atom-8 atom-10\" d=\"M 183.2,168.8 L 183.9,175.9\" style=\"fill:none;fill-rule:evenodd;stroke:#000000;stroke-width:2.0px;stroke-linecap:butt;stroke-linejoin:miter;stroke-opacity:1\"/>\n",
       "<path class=\"bond-15 atom-8 atom-11\" d=\"M 183.2,168.8 L 175.7,169.6\" style=\"fill:none;fill-rule:evenodd;stroke:#000000;stroke-width:2.0px;stroke-linecap:butt;stroke-linejoin:miter;stroke-opacity:1\"/>\n",
       "<path class=\"bond-16 atom-15 atom-16\" d=\"M 174.7,141.9 L 183.5,140.9\" style=\"fill:none;fill-rule:evenodd;stroke:#000000;stroke-width:2.0px;stroke-linecap:butt;stroke-linejoin:miter;stroke-opacity:1\"/>\n",
       "<path class=\"bond-17 atom-15 atom-17\" d=\"M 174.7,141.9 L 177.3,136.2\" style=\"fill:none;fill-rule:evenodd;stroke:#000000;stroke-width:2.0px;stroke-linecap:butt;stroke-linejoin:miter;stroke-opacity:1\"/>\n",
       "<path class=\"bond-18 atom-15 atom-18\" d=\"M 174.7,141.9 L 169.2,139.9\" style=\"fill:none;fill-rule:evenodd;stroke:#000000;stroke-width:2.0px;stroke-linecap:butt;stroke-linejoin:miter;stroke-opacity:1\"/>\n",
       "<path class=\"bond-19 atom-0 atom-3\" d=\"M 180.7,149.5 L 180.2,149.5\" style=\"fill:none;fill-rule:evenodd;stroke:#0000FF;stroke-width:2.0px;stroke-linecap:butt;stroke-linejoin:miter;stroke-opacity:1\"/>\n",
       "<path class=\"bond-19 atom-0 atom-3\" d=\"M 180.2,149.5 L 179.7,149.6\" style=\"fill:none;fill-rule:evenodd;stroke:#000000;stroke-width:2.0px;stroke-linecap:butt;stroke-linejoin:miter;stroke-opacity:1\"/>\n",
       "<path class=\"bond-20 atom-21 atom-23\" d=\"M 207.7,156.4 L 211.5,155.9\" style=\"fill:none;fill-rule:evenodd;stroke:#0000FF;stroke-width:2.0px;stroke-linecap:butt;stroke-linejoin:miter;stroke-opacity:1\"/>\n",
       "<path class=\"bond-20 atom-21 atom-23\" d=\"M 211.5,155.9 L 215.4,155.5\" style=\"fill:none;fill-rule:evenodd;stroke:#000000;stroke-width:2.0px;stroke-linecap:butt;stroke-linejoin:miter;stroke-opacity:1\"/>\n",
       "<path class=\"bond-21 atom-21 atom-22\" d=\"M 204.8,159.0 L 204.0,161.0\" style=\"fill:none;fill-rule:evenodd;stroke:#0000FF;stroke-width:2.0px;stroke-linecap:butt;stroke-linejoin:miter;stroke-opacity:1\"/>\n",
       "<path class=\"bond-21 atom-21 atom-22\" d=\"M 204.0,161.0 L 203.2,163.1\" style=\"fill:none;fill-rule:evenodd;stroke:#000000;stroke-width:2.0px;stroke-linecap:butt;stroke-linejoin:miter;stroke-opacity:1\"/>\n",
       "<path class=\"bond-22 atom-23 atom-30\" d=\"M 215.4,155.5 L 220.0,162.7\" style=\"fill:none;fill-rule:evenodd;stroke:#000000;stroke-width:2.0px;stroke-linecap:butt;stroke-linejoin:miter;stroke-opacity:1\"/>\n",
       "<path class=\"bond-23 atom-23 atom-25\" d=\"M 215.4,155.5 L 215.1,146.0\" style=\"fill:none;fill-rule:evenodd;stroke:#000000;stroke-width:2.0px;stroke-linecap:butt;stroke-linejoin:miter;stroke-opacity:1\"/>\n",
       "<path class=\"bond-24 atom-23 atom-24\" d=\"M 217.1,154.1 L 217.4,154.5\" style=\"fill:none;fill-rule:evenodd;stroke:#000000;stroke-width:1.0px;stroke-linecap:butt;stroke-linejoin:miter;stroke-opacity:1\"/>\n",
       "<path class=\"bond-24 atom-23 atom-24\" d=\"M 218.9,152.7 L 219.5,153.5\" style=\"fill:none;fill-rule:evenodd;stroke:#000000;stroke-width:1.0px;stroke-linecap:butt;stroke-linejoin:miter;stroke-opacity:1\"/>\n",
       "<path class=\"bond-24 atom-23 atom-24\" d=\"M 220.7,151.2 L 221.5,152.5\" style=\"fill:none;fill-rule:evenodd;stroke:#000000;stroke-width:1.0px;stroke-linecap:butt;stroke-linejoin:miter;stroke-opacity:1\"/>\n",
       "<path class=\"bond-25 atom-30 atom-31\" d=\"M 219.5,162.0 L 217.9,165.4\" style=\"fill:none;fill-rule:evenodd;stroke:#000000;stroke-width:2.0px;stroke-linecap:butt;stroke-linejoin:miter;stroke-opacity:1\"/>\n",
       "<path class=\"bond-25 atom-30 atom-31\" d=\"M 217.9,165.4 L 216.3,168.8\" style=\"fill:none;fill-rule:evenodd;stroke:#FF0000;stroke-width:2.0px;stroke-linecap:butt;stroke-linejoin:miter;stroke-opacity:1\"/>\n",
       "<path class=\"bond-25 atom-30 atom-31\" d=\"M 220.9,162.6 L 219.3,166.0\" style=\"fill:none;fill-rule:evenodd;stroke:#000000;stroke-width:2.0px;stroke-linecap:butt;stroke-linejoin:miter;stroke-opacity:1\"/>\n",
       "<path class=\"bond-25 atom-30 atom-31\" d=\"M 219.3,166.0 L 217.6,169.4\" style=\"fill:none;fill-rule:evenodd;stroke:#FF0000;stroke-width:2.0px;stroke-linecap:butt;stroke-linejoin:miter;stroke-opacity:1\"/>\n",
       "<path class=\"bond-26 atom-25 atom-28\" d=\"M 215.1,146.0 L 217.8,144.0\" style=\"fill:none;fill-rule:evenodd;stroke:#000000;stroke-width:2.0px;stroke-linecap:butt;stroke-linejoin:miter;stroke-opacity:1\"/>\n",
       "<path class=\"bond-26 atom-25 atom-28\" d=\"M 217.8,144.0 L 220.6,142.1\" style=\"fill:none;fill-rule:evenodd;stroke:#FF0000;stroke-width:2.0px;stroke-linecap:butt;stroke-linejoin:miter;stroke-opacity:1\"/>\n",
       "<path class=\"bond-27 atom-25 atom-26\" d=\"M 215.1,146.0 L 209.5,146.7\" style=\"fill:none;fill-rule:evenodd;stroke:#000000;stroke-width:2.0px;stroke-linecap:butt;stroke-linejoin:miter;stroke-opacity:1\"/>\n",
       "<path class=\"bond-28 atom-25 atom-27\" d=\"M 215.1,146.0 L 211.1,140.7\" style=\"fill:none;fill-rule:evenodd;stroke:#000000;stroke-width:2.0px;stroke-linecap:butt;stroke-linejoin:miter;stroke-opacity:1\"/>\n",
       "<path class=\"bond-29 atom-28 atom-29\" d=\"M 222.6,137.9 L 222.3,135.6\" style=\"fill:none;fill-rule:evenodd;stroke:#FF0000;stroke-width:2.0px;stroke-linecap:butt;stroke-linejoin:miter;stroke-opacity:1\"/>\n",
       "<path class=\"bond-29 atom-28 atom-29\" d=\"M 222.3,135.6 L 222.0,133.2\" style=\"fill:none;fill-rule:evenodd;stroke:#000000;stroke-width:2.0px;stroke-linecap:butt;stroke-linejoin:miter;stroke-opacity:1\"/>\n",
       "<path class=\"bond-30 atom-19 atom-21\" d=\"M 199.3,149.3 L 201.6,151.9\" style=\"fill:none;fill-rule:evenodd;stroke:#000000;stroke-width:2.0px;stroke-linecap:butt;stroke-linejoin:miter;stroke-opacity:1\"/>\n",
       "<path class=\"bond-30 atom-19 atom-21\" d=\"M 201.6,151.9 L 203.8,154.4\" style=\"fill:none;fill-rule:evenodd;stroke:#0000FF;stroke-width:2.0px;stroke-linecap:butt;stroke-linejoin:miter;stroke-opacity:1\"/>\n",
       "<path class=\"bond-31 atom-32 atom-34\" d=\"M 230.9,163.9 L 232.6,165.9\" style=\"fill:none;fill-rule:evenodd;stroke:#0000FF;stroke-width:2.0px;stroke-linecap:butt;stroke-linejoin:miter;stroke-opacity:1\"/>\n",
       "<path class=\"bond-31 atom-32 atom-34\" d=\"M 232.6,165.9 L 234.2,167.8\" style=\"fill:none;fill-rule:evenodd;stroke:#000000;stroke-width:2.0px;stroke-linecap:butt;stroke-linejoin:miter;stroke-opacity:1\"/>\n",
       "<path class=\"bond-32 atom-32 atom-33\" d=\"M 230.0,159.1 L 230.8,157.3\" style=\"fill:none;fill-rule:evenodd;stroke:#0000FF;stroke-width:2.0px;stroke-linecap:butt;stroke-linejoin:miter;stroke-opacity:1\"/>\n",
       "<path class=\"bond-32 atom-32 atom-33\" d=\"M 230.8,157.3 L 231.6,155.5\" style=\"fill:none;fill-rule:evenodd;stroke:#000000;stroke-width:2.0px;stroke-linecap:butt;stroke-linejoin:miter;stroke-opacity:1\"/>\n",
       "<path class=\"bond-33 atom-34 atom-43\" d=\"M 234.2,167.8 L 235.0,177.0\" style=\"fill:none;fill-rule:evenodd;stroke:#000000;stroke-width:2.0px;stroke-linecap:butt;stroke-linejoin:miter;stroke-opacity:1\"/>\n",
       "<path class=\"bond-34 atom-34 atom-36\" d=\"M 234.2,167.8 L 243.5,160.9\" style=\"fill:none;fill-rule:evenodd;stroke:#000000;stroke-width:2.0px;stroke-linecap:butt;stroke-linejoin:miter;stroke-opacity:1\"/>\n",
       "<path class=\"bond-35 atom-34 atom-35\" d=\"M 232.0,168.6 L 231.9,168.1\" style=\"fill:none;fill-rule:evenodd;stroke:#000000;stroke-width:1.0px;stroke-linecap:butt;stroke-linejoin:miter;stroke-opacity:1\"/>\n",
       "<path class=\"bond-35 atom-34 atom-35\" d=\"M 229.8,169.3 L 229.6,168.3\" style=\"fill:none;fill-rule:evenodd;stroke:#000000;stroke-width:1.0px;stroke-linecap:butt;stroke-linejoin:miter;stroke-opacity:1\"/>\n",
       "<path class=\"bond-35 atom-34 atom-35\" d=\"M 227.6,170.0 L 227.3,168.6\" style=\"fill:none;fill-rule:evenodd;stroke:#000000;stroke-width:1.0px;stroke-linecap:butt;stroke-linejoin:miter;stroke-opacity:1\"/>\n",
       "<path class=\"bond-36 atom-43 atom-44\" d=\"M 234.9,176.2 L 231.9,177.6\" style=\"fill:none;fill-rule:evenodd;stroke:#000000;stroke-width:2.0px;stroke-linecap:butt;stroke-linejoin:miter;stroke-opacity:1\"/>\n",
       "<path class=\"bond-36 atom-43 atom-44\" d=\"M 231.9,177.6 L 228.9,179.0\" style=\"fill:none;fill-rule:evenodd;stroke:#FF0000;stroke-width:2.0px;stroke-linecap:butt;stroke-linejoin:miter;stroke-opacity:1\"/>\n",
       "<path class=\"bond-36 atom-43 atom-44\" d=\"M 235.6,177.5 L 232.5,179.0\" style=\"fill:none;fill-rule:evenodd;stroke:#000000;stroke-width:2.0px;stroke-linecap:butt;stroke-linejoin:miter;stroke-opacity:1\"/>\n",
       "<path class=\"bond-36 atom-43 atom-44\" d=\"M 232.5,179.0 L 229.5,180.4\" style=\"fill:none;fill-rule:evenodd;stroke:#FF0000;stroke-width:2.0px;stroke-linecap:butt;stroke-linejoin:miter;stroke-opacity:1\"/>\n",
       "<path class=\"bond-37 atom-36 atom-42\" d=\"M 243.5,160.9 L 249.3,138.3\" style=\"fill:none;fill-rule:evenodd;stroke:#000000;stroke-width:2.0px;stroke-linecap:butt;stroke-linejoin:miter;stroke-opacity:1\"/>\n",
       "<path class=\"bond-37 atom-36 atom-42\" d=\"M 249.3,138.3 L 255.1,115.7\" style=\"fill:none;fill-rule:evenodd;stroke:#FF0000;stroke-width:2.0px;stroke-linecap:butt;stroke-linejoin:miter;stroke-opacity:1\"/>\n",
       "<path class=\"bond-38 atom-36 atom-38\" d=\"M 243.5,160.9 L 248.0,173.8\" style=\"fill:none;fill-rule:evenodd;stroke:#000000;stroke-width:2.0px;stroke-linecap:butt;stroke-linejoin:miter;stroke-opacity:1\"/>\n",
       "<path class=\"bond-39 atom-36 atom-37\" d=\"M 243.5,160.9 L 245.1,159.7 L 245.5,161.1 Z\" style=\"fill:#000000;fill-rule:evenodd;fill-opacity:1;stroke:#000000;stroke-width:0.5px;stroke-linecap:butt;stroke-linejoin:miter;stroke-miterlimit:10;stroke-opacity:1;\"/>\n",
       "<path class=\"bond-40 atom-38 atom-39\" d=\"M 248.0,173.8 L 253.7,170.3\" style=\"fill:none;fill-rule:evenodd;stroke:#000000;stroke-width:2.0px;stroke-linecap:butt;stroke-linejoin:miter;stroke-opacity:1\"/>\n",
       "<path class=\"bond-41 atom-38 atom-40\" d=\"M 248.0,173.8 L 252.6,175.6\" style=\"fill:none;fill-rule:evenodd;stroke:#000000;stroke-width:2.0px;stroke-linecap:butt;stroke-linejoin:miter;stroke-opacity:1\"/>\n",
       "<path class=\"bond-42 atom-38 atom-41\" d=\"M 248.0,173.8 L 245.8,174.7\" style=\"fill:none;fill-rule:evenodd;stroke:#000000;stroke-width:2.0px;stroke-linecap:butt;stroke-linejoin:miter;stroke-opacity:1\"/>\n",
       "<path class=\"bond-43 atom-30 atom-32\" d=\"M 220.0,162.7 L 223.5,162.3\" style=\"fill:none;fill-rule:evenodd;stroke:#000000;stroke-width:2.0px;stroke-linecap:butt;stroke-linejoin:miter;stroke-opacity:1\"/>\n",
       "<path class=\"bond-43 atom-30 atom-32\" d=\"M 223.5,162.3 L 227.1,161.8\" style=\"fill:none;fill-rule:evenodd;stroke:#0000FF;stroke-width:2.0px;stroke-linecap:butt;stroke-linejoin:miter;stroke-opacity:1\"/>\n",
       "<path class=\"bond-44 atom-45 atom-47\" d=\"M 242.6,187.4 L 241.0,190.5\" style=\"fill:none;fill-rule:evenodd;stroke:#0000FF;stroke-width:2.0px;stroke-linecap:butt;stroke-linejoin:miter;stroke-opacity:1\"/>\n",
       "<path class=\"bond-44 atom-45 atom-47\" d=\"M 241.0,190.5 L 239.4,193.6\" style=\"fill:none;fill-rule:evenodd;stroke:#000000;stroke-width:2.0px;stroke-linecap:butt;stroke-linejoin:miter;stroke-opacity:1\"/>\n",
       "<path class=\"bond-45 atom-45 atom-46\" d=\"M 245.8,184.7 L 248.4,184.4\" style=\"fill:none;fill-rule:evenodd;stroke:#0000FF;stroke-width:2.0px;stroke-linecap:butt;stroke-linejoin:miter;stroke-opacity:1\"/>\n",
       "<path class=\"bond-45 atom-45 atom-46\" d=\"M 248.4,184.4 L 251.1,184.2\" style=\"fill:none;fill-rule:evenodd;stroke:#000000;stroke-width:2.0px;stroke-linecap:butt;stroke-linejoin:miter;stroke-opacity:1\"/>\n",
       "<path class=\"bond-46 atom-47 atom-67\" d=\"M 239.4,193.6 L 249.3,198.8\" style=\"fill:none;fill-rule:evenodd;stroke:#000000;stroke-width:2.0px;stroke-linecap:butt;stroke-linejoin:miter;stroke-opacity:1\"/>\n",
       "<path class=\"bond-47 atom-47 atom-49\" d=\"M 239.4,193.6 L 232.1,193.8\" style=\"fill:none;fill-rule:evenodd;stroke:#000000;stroke-width:2.0px;stroke-linecap:butt;stroke-linejoin:miter;stroke-opacity:1\"/>\n",
       "<path class=\"bond-48 atom-47 atom-48\" d=\"M 239.4,193.6 L 238.4,197.7 L 237.1,197.2 Z\" style=\"fill:#000000;fill-rule:evenodd;fill-opacity:1;stroke:#000000;stroke-width:0.5px;stroke-linecap:butt;stroke-linejoin:miter;stroke-miterlimit:10;stroke-opacity:1;\"/>\n",
       "<path class=\"bond-49 atom-67 atom-68\" d=\"M 249.3,199.7 L 253.1,197.6\" style=\"fill:none;fill-rule:evenodd;stroke:#000000;stroke-width:2.0px;stroke-linecap:butt;stroke-linejoin:miter;stroke-opacity:1\"/>\n",
       "<path class=\"bond-49 atom-67 atom-68\" d=\"M 253.1,197.6 L 256.8,195.5\" style=\"fill:none;fill-rule:evenodd;stroke:#FF0000;stroke-width:2.0px;stroke-linecap:butt;stroke-linejoin:miter;stroke-opacity:1\"/>\n",
       "<path class=\"bond-49 atom-67 atom-68\" d=\"M 248.5,198.4 L 252.3,196.3\" style=\"fill:none;fill-rule:evenodd;stroke:#000000;stroke-width:2.0px;stroke-linecap:butt;stroke-linejoin:miter;stroke-opacity:1\"/>\n",
       "<path class=\"bond-49 atom-67 atom-68\" d=\"M 252.3,196.3 L 256.1,194.2\" style=\"fill:none;fill-rule:evenodd;stroke:#FF0000;stroke-width:2.0px;stroke-linecap:butt;stroke-linejoin:miter;stroke-opacity:1\"/>\n",
       "<path class=\"bond-50 atom-49 atom-52\" d=\"M 232.1,193.8 L 225.9,201.6\" style=\"fill:none;fill-rule:evenodd;stroke:#000000;stroke-width:2.0px;stroke-linecap:butt;stroke-linejoin:miter;stroke-opacity:1\"/>\n",
       "<path class=\"bond-51 atom-49 atom-50\" d=\"M 232.1,193.8 L 233.9,188.6\" style=\"fill:none;fill-rule:evenodd;stroke:#000000;stroke-width:2.0px;stroke-linecap:butt;stroke-linejoin:miter;stroke-opacity:1\"/>\n",
       "<path class=\"bond-52 atom-49 atom-51\" d=\"M 232.1,193.8 L 228.0,190.2\" style=\"fill:none;fill-rule:evenodd;stroke:#000000;stroke-width:2.0px;stroke-linecap:butt;stroke-linejoin:miter;stroke-opacity:1\"/>\n",
       "<path class=\"bond-53 atom-52 atom-55\" d=\"M 225.9,201.6 L 229.2,212.2\" style=\"fill:none;fill-rule:evenodd;stroke:#000000;stroke-width:2.0px;stroke-linecap:butt;stroke-linejoin:miter;stroke-opacity:1\"/>\n",
       "<path class=\"bond-54 atom-52 atom-53\" d=\"M 225.9,201.6 L 221.0,196.7\" style=\"fill:none;fill-rule:evenodd;stroke:#000000;stroke-width:2.0px;stroke-linecap:butt;stroke-linejoin:miter;stroke-opacity:1\"/>\n",
       "<path class=\"bond-55 atom-52 atom-54\" d=\"M 225.9,201.6 L 218.7,203.4\" style=\"fill:none;fill-rule:evenodd;stroke:#000000;stroke-width:2.0px;stroke-linecap:butt;stroke-linejoin:miter;stroke-opacity:1\"/>\n",
       "<path class=\"bond-56 atom-55 atom-58\" d=\"M 229.2,212.2 L 227.2,214.2\" style=\"fill:none;fill-rule:evenodd;stroke:#000000;stroke-width:2.0px;stroke-linecap:butt;stroke-linejoin:miter;stroke-opacity:1\"/>\n",
       "<path class=\"bond-56 atom-55 atom-58\" d=\"M 227.2,214.2 L 225.2,216.2\" style=\"fill:none;fill-rule:evenodd;stroke:#0000FF;stroke-width:2.0px;stroke-linecap:butt;stroke-linejoin:miter;stroke-opacity:1\"/>\n",
       "<path class=\"bond-57 atom-55 atom-56\" d=\"M 229.2,212.2 L 239.5,206.5\" style=\"fill:none;fill-rule:evenodd;stroke:#000000;stroke-width:2.0px;stroke-linecap:butt;stroke-linejoin:miter;stroke-opacity:1\"/>\n",
       "<path class=\"bond-58 atom-55 atom-57\" d=\"M 229.2,212.2 L 231.1,212.9\" style=\"fill:none;fill-rule:evenodd;stroke:#000000;stroke-width:2.0px;stroke-linecap:butt;stroke-linejoin:miter;stroke-opacity:1\"/>\n",
       "<path class=\"bond-59 atom-58 atom-60\" d=\"M 223.8,220.6 L 224.5,223.4\" style=\"fill:none;fill-rule:evenodd;stroke:#0000FF;stroke-width:2.0px;stroke-linecap:butt;stroke-linejoin:miter;stroke-opacity:1\"/>\n",
       "<path class=\"bond-59 atom-58 atom-60\" d=\"M 224.5,223.4 L 225.2,226.1\" style=\"fill:none;fill-rule:evenodd;stroke:#000000;stroke-width:2.0px;stroke-linecap:butt;stroke-linejoin:miter;stroke-opacity:1\"/>\n",
       "<path class=\"bond-60 atom-58 atom-59\" d=\"M 221.3,217.5 L 218.5,216.6\" style=\"fill:none;fill-rule:evenodd;stroke:#0000FF;stroke-width:2.0px;stroke-linecap:butt;stroke-linejoin:miter;stroke-opacity:1\"/>\n",
       "<path class=\"bond-60 atom-58 atom-59\" d=\"M 218.5,216.6 L 215.8,215.6\" style=\"fill:none;fill-rule:evenodd;stroke:#000000;stroke-width:2.0px;stroke-linecap:butt;stroke-linejoin:miter;stroke-opacity:1\"/>\n",
       "<path class=\"bond-61 atom-60 atom-61\" d=\"M 225.2,226.1 L 222.8,228.3\" style=\"fill:none;fill-rule:evenodd;stroke:#000000;stroke-width:2.0px;stroke-linecap:butt;stroke-linejoin:miter;stroke-opacity:1\"/>\n",
       "<path class=\"bond-61 atom-60 atom-61\" d=\"M 222.8,228.3 L 220.4,230.5\" style=\"fill:none;fill-rule:evenodd;stroke:#0000FF;stroke-width:2.0px;stroke-linecap:butt;stroke-linejoin:miter;stroke-opacity:1\"/>\n",
       "<path class=\"bond-62 atom-60 atom-64\" d=\"M 225.2,226.1 L 228.7,227.1\" style=\"fill:none;fill-rule:evenodd;stroke:#000000;stroke-width:2.0px;stroke-linecap:butt;stroke-linejoin:miter;stroke-opacity:1\"/>\n",
       "<path class=\"bond-62 atom-60 atom-64\" d=\"M 228.7,227.1 L 232.1,228.0\" style=\"fill:none;fill-rule:evenodd;stroke:#0000FF;stroke-width:2.0px;stroke-linecap:butt;stroke-linejoin:miter;stroke-opacity:1\"/>\n",
       "<path class=\"bond-62 atom-60 atom-64\" d=\"M 226.4,224.9 L 229.5,225.8\" style=\"fill:none;fill-rule:evenodd;stroke:#000000;stroke-width:2.0px;stroke-linecap:butt;stroke-linejoin:miter;stroke-opacity:1\"/>\n",
       "<path class=\"bond-62 atom-60 atom-64\" d=\"M 229.5,225.8 L 232.5,226.6\" style=\"fill:none;fill-rule:evenodd;stroke:#0000FF;stroke-width:2.0px;stroke-linecap:butt;stroke-linejoin:miter;stroke-opacity:1\"/>\n",
       "<path class=\"bond-63 atom-61 atom-62\" d=\"M 219.1,234.7 L 219.6,236.8\" style=\"fill:none;fill-rule:evenodd;stroke:#0000FF;stroke-width:2.0px;stroke-linecap:butt;stroke-linejoin:miter;stroke-opacity:1\"/>\n",
       "<path class=\"bond-63 atom-61 atom-62\" d=\"M 219.6,236.8 L 220.2,238.9\" style=\"fill:none;fill-rule:evenodd;stroke:#000000;stroke-width:2.0px;stroke-linecap:butt;stroke-linejoin:miter;stroke-opacity:1\"/>\n",
       "<path class=\"bond-64 atom-61 atom-63\" d=\"M 216.6,231.7 L 213.9,230.9\" style=\"fill:none;fill-rule:evenodd;stroke:#0000FF;stroke-width:2.0px;stroke-linecap:butt;stroke-linejoin:miter;stroke-opacity:1\"/>\n",
       "<path class=\"bond-64 atom-61 atom-63\" d=\"M 213.9,230.9 L 211.2,230.1\" style=\"fill:none;fill-rule:evenodd;stroke:#000000;stroke-width:2.0px;stroke-linecap:butt;stroke-linejoin:miter;stroke-opacity:1\"/>\n",
       "<path class=\"bond-65 atom-64 atom-65\" d=\"M 234.8,231.0 L 235.3,233.0\" style=\"fill:none;fill-rule:evenodd;stroke:#0000FF;stroke-width:2.0px;stroke-linecap:butt;stroke-linejoin:miter;stroke-opacity:1\"/>\n",
       "<path class=\"bond-65 atom-64 atom-65\" d=\"M 235.3,233.0 L 235.9,235.0\" style=\"fill:none;fill-rule:evenodd;stroke:#000000;stroke-width:2.0px;stroke-linecap:butt;stroke-linejoin:miter;stroke-opacity:1\"/>\n",
       "<path class=\"bond-66 atom-64 atom-66\" d=\"M 236.5,226.1 L 237.5,225.1\" style=\"fill:none;fill-rule:evenodd;stroke:#0000FF;stroke-width:2.0px;stroke-linecap:butt;stroke-linejoin:miter;stroke-opacity:1\"/>\n",
       "<path class=\"bond-66 atom-64 atom-66\" d=\"M 237.5,225.1 L 238.4,224.2\" style=\"fill:none;fill-rule:evenodd;stroke:#000000;stroke-width:2.0px;stroke-linecap:butt;stroke-linejoin:miter;stroke-opacity:1\"/>\n",
       "<path class=\"bond-67 atom-43 atom-45\" d=\"M 235.0,177.0 L 238.4,180.1\" style=\"fill:none;fill-rule:evenodd;stroke:#000000;stroke-width:2.0px;stroke-linecap:butt;stroke-linejoin:miter;stroke-opacity:1\"/>\n",
       "<path class=\"bond-67 atom-43 atom-45\" d=\"M 238.4,180.1 L 241.9,183.2\" style=\"fill:none;fill-rule:evenodd;stroke:#0000FF;stroke-width:2.0px;stroke-linecap:butt;stroke-linejoin:miter;stroke-opacity:1\"/>\n",
       "<path class=\"bond-68 atom-69 atom-71\" d=\"M 251.4,208.5 L 254.5,209.9\" style=\"fill:none;fill-rule:evenodd;stroke:#0000FF;stroke-width:2.0px;stroke-linecap:butt;stroke-linejoin:miter;stroke-opacity:1\"/>\n",
       "<path class=\"bond-68 atom-69 atom-71\" d=\"M 254.5,209.9 L 257.7,211.4\" style=\"fill:none;fill-rule:evenodd;stroke:#000000;stroke-width:2.0px;stroke-linecap:butt;stroke-linejoin:miter;stroke-opacity:1\"/>\n",
       "<path class=\"bond-69 atom-69 atom-70\" d=\"M 247.5,209.1 L 245.1,211.0\" style=\"fill:none;fill-rule:evenodd;stroke:#0000FF;stroke-width:2.0px;stroke-linecap:butt;stroke-linejoin:miter;stroke-opacity:1\"/>\n",
       "<path class=\"bond-69 atom-69 atom-70\" d=\"M 245.1,211.0 L 242.7,212.9\" style=\"fill:none;fill-rule:evenodd;stroke:#000000;stroke-width:2.0px;stroke-linecap:butt;stroke-linejoin:miter;stroke-opacity:1\"/>\n",
       "<path class=\"bond-70 atom-71 atom-87\" d=\"M 257.7,211.4 L 264.2,208.5\" style=\"fill:none;fill-rule:evenodd;stroke:#000000;stroke-width:2.0px;stroke-linecap:butt;stroke-linejoin:miter;stroke-opacity:1\"/>\n",
       "<path class=\"bond-71 atom-71 atom-73\" d=\"M 257.7,211.4 L 254.0,220.2\" style=\"fill:none;fill-rule:evenodd;stroke:#000000;stroke-width:2.0px;stroke-linecap:butt;stroke-linejoin:miter;stroke-opacity:1\"/>\n",
       "<path class=\"bond-72 atom-71 atom-72\" d=\"M 257.7,211.4 L 259.6,212.8 L 258.3,213.6 Z\" style=\"fill:#000000;fill-rule:evenodd;fill-opacity:1;stroke:#000000;stroke-width:0.5px;stroke-linecap:butt;stroke-linejoin:miter;stroke-miterlimit:10;stroke-opacity:1;\"/>\n",
       "<path class=\"bond-73 atom-87 atom-88\" d=\"M 263.5,208.8 L 265.8,211.1\" style=\"fill:none;fill-rule:evenodd;stroke:#000000;stroke-width:2.0px;stroke-linecap:butt;stroke-linejoin:miter;stroke-opacity:1\"/>\n",
       "<path class=\"bond-73 atom-87 atom-88\" d=\"M 265.8,211.1 L 268.2,213.4\" style=\"fill:none;fill-rule:evenodd;stroke:#FF0000;stroke-width:2.0px;stroke-linecap:butt;stroke-linejoin:miter;stroke-opacity:1\"/>\n",
       "<path class=\"bond-73 atom-87 atom-88\" d=\"M 264.4,207.7 L 266.8,210.0\" style=\"fill:none;fill-rule:evenodd;stroke:#000000;stroke-width:2.0px;stroke-linecap:butt;stroke-linejoin:miter;stroke-opacity:1\"/>\n",
       "<path class=\"bond-73 atom-87 atom-88\" d=\"M 266.8,210.0 L 269.2,212.3\" style=\"fill:none;fill-rule:evenodd;stroke:#FF0000;stroke-width:2.0px;stroke-linecap:butt;stroke-linejoin:miter;stroke-opacity:1\"/>\n",
       "<path class=\"bond-74 atom-73 atom-76\" d=\"M 254.0,220.2 L 256.4,232.4\" style=\"fill:none;fill-rule:evenodd;stroke:#000000;stroke-width:2.0px;stroke-linecap:butt;stroke-linejoin:miter;stroke-opacity:1\"/>\n",
       "<path class=\"bond-75 atom-73 atom-74\" d=\"M 254.0,220.2 L 250.0,218.2\" style=\"fill:none;fill-rule:evenodd;stroke:#000000;stroke-width:2.0px;stroke-linecap:butt;stroke-linejoin:miter;stroke-opacity:1\"/>\n",
       "<path class=\"bond-76 atom-73 atom-75\" d=\"M 254.0,220.2 L 248.2,225.4\" style=\"fill:none;fill-rule:evenodd;stroke:#000000;stroke-width:2.0px;stroke-linecap:butt;stroke-linejoin:miter;stroke-opacity:1\"/>\n",
       "<path class=\"bond-77 atom-76 atom-79\" d=\"M 256.4,232.4 L 264.9,236.0\" style=\"fill:none;fill-rule:evenodd;stroke:#000000;stroke-width:2.0px;stroke-linecap:butt;stroke-linejoin:miter;stroke-opacity:1\"/>\n",
       "<path class=\"bond-78 atom-76 atom-77\" d=\"M 256.4,232.4 L 248.4,234.5\" style=\"fill:none;fill-rule:evenodd;stroke:#000000;stroke-width:2.0px;stroke-linecap:butt;stroke-linejoin:miter;stroke-opacity:1\"/>\n",
       "<path class=\"bond-79 atom-76 atom-78\" d=\"M 256.4,232.4 L 253.8,239.2\" style=\"fill:none;fill-rule:evenodd;stroke:#000000;stroke-width:2.0px;stroke-linecap:butt;stroke-linejoin:miter;stroke-opacity:1\"/>\n",
       "<path class=\"bond-80 atom-79 atom-82\" d=\"M 264.9,236.0 L 272.7,228.4\" style=\"fill:none;fill-rule:evenodd;stroke:#000000;stroke-width:2.0px;stroke-linecap:butt;stroke-linejoin:miter;stroke-opacity:1\"/>\n",
       "<path class=\"bond-81 atom-79 atom-80\" d=\"M 264.9,236.0 L 262.4,242.3\" style=\"fill:none;fill-rule:evenodd;stroke:#000000;stroke-width:2.0px;stroke-linecap:butt;stroke-linejoin:miter;stroke-opacity:1\"/>\n",
       "<path class=\"bond-82 atom-79 atom-81\" d=\"M 264.9,236.0 L 268.2,240.0\" style=\"fill:none;fill-rule:evenodd;stroke:#000000;stroke-width:2.0px;stroke-linecap:butt;stroke-linejoin:miter;stroke-opacity:1\"/>\n",
       "<path class=\"bond-83 atom-82 atom-85\" d=\"M 272.7,228.4 L 276.1,228.3\" style=\"fill:none;fill-rule:evenodd;stroke:#000000;stroke-width:2.0px;stroke-linecap:butt;stroke-linejoin:miter;stroke-opacity:1\"/>\n",
       "<path class=\"bond-83 atom-82 atom-85\" d=\"M 276.1,228.3 L 279.6,228.3\" style=\"fill:none;fill-rule:evenodd;stroke:#0000FF;stroke-width:2.0px;stroke-linecap:butt;stroke-linejoin:miter;stroke-opacity:1\"/>\n",
       "<path class=\"bond-84 atom-82 atom-83\" d=\"M 272.7,228.4 L 272.3,223.3\" style=\"fill:none;fill-rule:evenodd;stroke:#000000;stroke-width:2.0px;stroke-linecap:butt;stroke-linejoin:miter;stroke-opacity:1\"/>\n",
       "<path class=\"bond-85 atom-82 atom-84\" d=\"M 272.7,228.4 L 263.8,224.5\" style=\"fill:none;fill-rule:evenodd;stroke:#000000;stroke-width:2.0px;stroke-linecap:butt;stroke-linejoin:miter;stroke-opacity:1\"/>\n",
       "<path class=\"bond-86 atom-85 atom-86\" d=\"M 282.7,230.7 L 283.3,232.1\" style=\"fill:none;fill-rule:evenodd;stroke:#0000FF;stroke-width:2.0px;stroke-linecap:butt;stroke-linejoin:miter;stroke-opacity:1\"/>\n",
       "<path class=\"bond-86 atom-85 atom-86\" d=\"M 283.3,232.1 L 283.9,233.4\" style=\"fill:none;fill-rule:evenodd;stroke:#000000;stroke-width:2.0px;stroke-linecap:butt;stroke-linejoin:miter;stroke-opacity:1\"/>\n",
       "<path class=\"bond-87 atom-67 atom-69\" d=\"M 249.3,198.8 L 249.4,202.0\" style=\"fill:none;fill-rule:evenodd;stroke:#000000;stroke-width:2.0px;stroke-linecap:butt;stroke-linejoin:miter;stroke-opacity:1\"/>\n",
       "<path class=\"bond-87 atom-67 atom-69\" d=\"M 249.4,202.0 L 249.4,205.1\" style=\"fill:none;fill-rule:evenodd;stroke:#0000FF;stroke-width:2.0px;stroke-linecap:butt;stroke-linejoin:miter;stroke-opacity:1\"/>\n",
       "<path class=\"bond-88 atom-89 atom-91\" d=\"M 269.0,197.5 L 271.6,197.0\" style=\"fill:none;fill-rule:evenodd;stroke:#0000FF;stroke-width:2.0px;stroke-linecap:butt;stroke-linejoin:miter;stroke-opacity:1\"/>\n",
       "<path class=\"bond-88 atom-89 atom-91\" d=\"M 271.6,197.0 L 274.2,196.5\" style=\"fill:none;fill-rule:evenodd;stroke:#000000;stroke-width:2.0px;stroke-linecap:butt;stroke-linejoin:miter;stroke-opacity:1\"/>\n",
       "<path class=\"bond-89 atom-89 atom-90\" d=\"M 265.1,198.9 L 264.4,199.3\" style=\"fill:none;fill-rule:evenodd;stroke:#0000FF;stroke-width:2.0px;stroke-linecap:butt;stroke-linejoin:miter;stroke-opacity:1\"/>\n",
       "<path class=\"bond-89 atom-89 atom-90\" d=\"M 264.4,199.3 L 263.7,199.7\" style=\"fill:none;fill-rule:evenodd;stroke:#000000;stroke-width:2.0px;stroke-linecap:butt;stroke-linejoin:miter;stroke-opacity:1\"/>\n",
       "<path class=\"bond-90 atom-91 atom-108\" d=\"M 274.2,196.5 L 274.5,187.2\" style=\"fill:none;fill-rule:evenodd;stroke:#000000;stroke-width:2.0px;stroke-linecap:butt;stroke-linejoin:miter;stroke-opacity:1\"/>\n",
       "<path class=\"bond-91 atom-91 atom-93\" d=\"M 274.2,196.5 L 279.9,207.8\" style=\"fill:none;fill-rule:evenodd;stroke:#000000;stroke-width:2.0px;stroke-linecap:butt;stroke-linejoin:miter;stroke-opacity:1\"/>\n",
       "<path class=\"bond-92 atom-91 atom-92\" d=\"M 274.2,196.5 L 280.6,197.3 L 280.3,198.7 Z\" style=\"fill:#000000;fill-rule:evenodd;fill-opacity:1;stroke:#000000;stroke-width:0.5px;stroke-linecap:butt;stroke-linejoin:miter;stroke-miterlimit:10;stroke-opacity:1;\"/>\n",
       "<path class=\"bond-93 atom-108 atom-109\" d=\"M 275.2,186.7 L 271.7,185.1\" style=\"fill:none;fill-rule:evenodd;stroke:#000000;stroke-width:2.0px;stroke-linecap:butt;stroke-linejoin:miter;stroke-opacity:1\"/>\n",
       "<path class=\"bond-93 atom-108 atom-109\" d=\"M 271.7,185.1 L 268.2,183.5\" style=\"fill:none;fill-rule:evenodd;stroke:#FF0000;stroke-width:2.0px;stroke-linecap:butt;stroke-linejoin:miter;stroke-opacity:1\"/>\n",
       "<path class=\"bond-93 atom-108 atom-109\" d=\"M 274.4,188.0 L 271.1,186.5\" style=\"fill:none;fill-rule:evenodd;stroke:#000000;stroke-width:2.0px;stroke-linecap:butt;stroke-linejoin:miter;stroke-opacity:1\"/>\n",
       "<path class=\"bond-93 atom-108 atom-109\" d=\"M 271.1,186.5 L 267.6,184.9\" style=\"fill:none;fill-rule:evenodd;stroke:#FF0000;stroke-width:2.0px;stroke-linecap:butt;stroke-linejoin:miter;stroke-opacity:1\"/>\n",
       "<path class=\"bond-94 atom-93 atom-96\" d=\"M 279.9,207.8 L 288.4,202.5\" style=\"fill:none;fill-rule:evenodd;stroke:#000000;stroke-width:2.0px;stroke-linecap:butt;stroke-linejoin:miter;stroke-opacity:1\"/>\n",
       "<path class=\"bond-95 atom-93 atom-94\" d=\"M 279.9,207.8 L 274.2,206.3\" style=\"fill:none;fill-rule:evenodd;stroke:#000000;stroke-width:2.0px;stroke-linecap:butt;stroke-linejoin:miter;stroke-opacity:1\"/>\n",
       "<path class=\"bond-96 atom-93 atom-95\" d=\"M 279.9,207.8 L 279.0,210.9\" style=\"fill:none;fill-rule:evenodd;stroke:#000000;stroke-width:2.0px;stroke-linecap:butt;stroke-linejoin:miter;stroke-opacity:1\"/>\n",
       "<path class=\"bond-97 atom-96 atom-97\" d=\"M 288.4,202.5 L 291.0,194.4\" style=\"fill:none;fill-rule:evenodd;stroke:#000000;stroke-width:2.0px;stroke-linecap:butt;stroke-linejoin:miter;stroke-opacity:1\"/>\n",
       "<path class=\"bond-97 atom-96 atom-97\" d=\"M 290.1,202.1 L 292.2,195.7\" style=\"fill:none;fill-rule:evenodd;stroke:#000000;stroke-width:2.0px;stroke-linecap:butt;stroke-linejoin:miter;stroke-opacity:1\"/>\n",
       "<path class=\"bond-98 atom-96 atom-106\" d=\"M 288.4,202.5 L 294.0,208.3\" style=\"fill:none;fill-rule:evenodd;stroke:#000000;stroke-width:2.0px;stroke-linecap:butt;stroke-linejoin:miter;stroke-opacity:1\"/>\n",
       "<path class=\"bond-99 atom-97 atom-99\" d=\"M 291.0,194.4 L 300.8,192.1\" style=\"fill:none;fill-rule:evenodd;stroke:#000000;stroke-width:2.0px;stroke-linecap:butt;stroke-linejoin:miter;stroke-opacity:1\"/>\n",
       "<path class=\"bond-100 atom-97 atom-98\" d=\"M 291.0,194.4 L 284.9,191.9\" style=\"fill:none;fill-rule:evenodd;stroke:#000000;stroke-width:2.0px;stroke-linecap:butt;stroke-linejoin:miter;stroke-opacity:1\"/>\n",
       "<path class=\"bond-101 atom-106 atom-104\" d=\"M 294.0,208.3 L 304.1,205.9\" style=\"fill:none;fill-rule:evenodd;stroke:#000000;stroke-width:2.0px;stroke-linecap:butt;stroke-linejoin:miter;stroke-opacity:1\"/>\n",
       "<path class=\"bond-101 atom-106 atom-104\" d=\"M 294.5,206.7 L 302.9,204.7\" style=\"fill:none;fill-rule:evenodd;stroke:#000000;stroke-width:2.0px;stroke-linecap:butt;stroke-linejoin:miter;stroke-opacity:1\"/>\n",
       "<path class=\"bond-102 atom-106 atom-107\" d=\"M 294.0,208.3 L 294.7,208.5\" style=\"fill:none;fill-rule:evenodd;stroke:#000000;stroke-width:2.0px;stroke-linecap:butt;stroke-linejoin:miter;stroke-opacity:1\"/>\n",
       "<path class=\"bond-103 atom-99 atom-101\" d=\"M 300.8,192.1 L 306.4,198.0\" style=\"fill:none;fill-rule:evenodd;stroke:#000000;stroke-width:2.0px;stroke-linecap:butt;stroke-linejoin:miter;stroke-opacity:1\"/>\n",
       "<path class=\"bond-103 atom-99 atom-101\" d=\"M 300.3,193.8 L 304.7,198.4\" style=\"fill:none;fill-rule:evenodd;stroke:#000000;stroke-width:2.0px;stroke-linecap:butt;stroke-linejoin:miter;stroke-opacity:1\"/>\n",
       "<path class=\"bond-104 atom-99 atom-100\" d=\"M 300.8,192.1 L 303.4,186.3\" style=\"fill:none;fill-rule:evenodd;stroke:#000000;stroke-width:2.0px;stroke-linecap:butt;stroke-linejoin:miter;stroke-opacity:1\"/>\n",
       "<path class=\"bond-105 atom-104 atom-101\" d=\"M 304.1,205.9 L 306.4,198.0\" style=\"fill:none;fill-rule:evenodd;stroke:#000000;stroke-width:2.0px;stroke-linecap:butt;stroke-linejoin:miter;stroke-opacity:1\"/>\n",
       "<path class=\"bond-106 atom-104 atom-105\" d=\"M 304.1,205.9 L 303.7,206.2\" style=\"fill:none;fill-rule:evenodd;stroke:#000000;stroke-width:2.0px;stroke-linecap:butt;stroke-linejoin:miter;stroke-opacity:1\"/>\n",
       "<path class=\"bond-107 atom-101 atom-102\" d=\"M 306.4,198.0 L 311.8,197.0\" style=\"fill:none;fill-rule:evenodd;stroke:#000000;stroke-width:2.0px;stroke-linecap:butt;stroke-linejoin:miter;stroke-opacity:1\"/>\n",
       "<path class=\"bond-107 atom-101 atom-102\" d=\"M 311.8,197.0 L 317.2,196.0\" style=\"fill:none;fill-rule:evenodd;stroke:#FF0000;stroke-width:2.0px;stroke-linecap:butt;stroke-linejoin:miter;stroke-opacity:1\"/>\n",
       "<path class=\"bond-108 atom-102 atom-103\" d=\"M 321.3,198.1 L 322.3,199.3\" style=\"fill:none;fill-rule:evenodd;stroke:#FF0000;stroke-width:2.0px;stroke-linecap:butt;stroke-linejoin:miter;stroke-opacity:1\"/>\n",
       "<path class=\"bond-108 atom-102 atom-103\" d=\"M 322.3,199.3 L 323.2,200.5\" style=\"fill:none;fill-rule:evenodd;stroke:#000000;stroke-width:2.0px;stroke-linecap:butt;stroke-linejoin:miter;stroke-opacity:1\"/>\n",
       "<path class=\"bond-109 atom-87 atom-89\" d=\"M 264.2,208.5 L 265.3,204.4\" style=\"fill:none;fill-rule:evenodd;stroke:#000000;stroke-width:2.0px;stroke-linecap:butt;stroke-linejoin:miter;stroke-opacity:1\"/>\n",
       "<path class=\"bond-109 atom-87 atom-89\" d=\"M 265.3,204.4 L 266.4,200.4\" style=\"fill:none;fill-rule:evenodd;stroke:#0000FF;stroke-width:2.0px;stroke-linecap:butt;stroke-linejoin:miter;stroke-opacity:1\"/>\n",
       "<path class=\"bond-110 atom-110 atom-120\" d=\"M 283.8,178.8 L 284.3,175.5\" style=\"fill:none;fill-rule:evenodd;stroke:#0000FF;stroke-width:2.0px;stroke-linecap:butt;stroke-linejoin:miter;stroke-opacity:1\"/>\n",
       "<path class=\"bond-110 atom-110 atom-120\" d=\"M 284.3,175.5 L 284.7,172.3\" style=\"fill:none;fill-rule:evenodd;stroke:#000000;stroke-width:2.0px;stroke-linecap:butt;stroke-linejoin:miter;stroke-opacity:1\"/>\n",
       "<path class=\"bond-111 atom-110 atom-111\" d=\"M 285.4,182.1 L 288.5,183.6\" style=\"fill:none;fill-rule:evenodd;stroke:#0000FF;stroke-width:2.0px;stroke-linecap:butt;stroke-linejoin:miter;stroke-opacity:1\"/>\n",
       "<path class=\"bond-111 atom-110 atom-111\" d=\"M 288.5,183.6 L 291.7,185.0\" style=\"fill:none;fill-rule:evenodd;stroke:#000000;stroke-width:2.0px;stroke-linecap:butt;stroke-linejoin:miter;stroke-opacity:1\"/>\n",
       "<path class=\"bond-112 atom-120 atom-122\" d=\"M 284.7,172.3 L 277.2,173.8\" style=\"fill:none;fill-rule:evenodd;stroke:#000000;stroke-width:2.0px;stroke-linecap:butt;stroke-linejoin:miter;stroke-opacity:1\"/>\n",
       "<path class=\"bond-113 atom-120 atom-117\" d=\"M 284.7,172.3 L 293.6,170.9\" style=\"fill:none;fill-rule:evenodd;stroke:#000000;stroke-width:2.0px;stroke-linecap:butt;stroke-linejoin:miter;stroke-opacity:1\"/>\n",
       "<path class=\"bond-114 atom-120 atom-121\" d=\"M 284.7,172.3 L 284.1,167.1 L 285.6,167.1 Z\" style=\"fill:#000000;fill-rule:evenodd;fill-opacity:1;stroke:#000000;stroke-width:0.5px;stroke-linecap:butt;stroke-linejoin:miter;stroke-miterlimit:10;stroke-opacity:1;\"/>\n",
       "<path class=\"bond-115 atom-122 atom-123\" d=\"M 276.7,173.2 L 275.8,174.4\" style=\"fill:none;fill-rule:evenodd;stroke:#000000;stroke-width:2.0px;stroke-linecap:butt;stroke-linejoin:miter;stroke-opacity:1\"/>\n",
       "<path class=\"bond-115 atom-122 atom-123\" d=\"M 275.8,174.4 L 275.0,175.6\" style=\"fill:none;fill-rule:evenodd;stroke:#FF0000;stroke-width:2.0px;stroke-linecap:butt;stroke-linejoin:miter;stroke-opacity:1\"/>\n",
       "<path class=\"bond-115 atom-122 atom-123\" d=\"M 278.2,173.6 L 277.0,175.3\" style=\"fill:none;fill-rule:evenodd;stroke:#000000;stroke-width:2.0px;stroke-linecap:butt;stroke-linejoin:miter;stroke-opacity:1\"/>\n",
       "<path class=\"bond-115 atom-122 atom-123\" d=\"M 277.0,175.3 L 276.2,176.4\" style=\"fill:none;fill-rule:evenodd;stroke:#FF0000;stroke-width:2.0px;stroke-linecap:butt;stroke-linejoin:miter;stroke-opacity:1\"/>\n",
       "<path class=\"bond-116 atom-117 atom-114\" d=\"M 293.6,170.9 L 297.6,179.2\" style=\"fill:none;fill-rule:evenodd;stroke:#000000;stroke-width:2.0px;stroke-linecap:butt;stroke-linejoin:miter;stroke-opacity:1\"/>\n",
       "<path class=\"bond-117 atom-117 atom-118\" d=\"M 293.6,170.9 L 298.0,169.9\" style=\"fill:none;fill-rule:evenodd;stroke:#000000;stroke-width:2.0px;stroke-linecap:butt;stroke-linejoin:miter;stroke-opacity:1\"/>\n",
       "<path class=\"bond-118 atom-117 atom-119\" d=\"M 293.6,170.9 L 292.7,164.3\" style=\"fill:none;fill-rule:evenodd;stroke:#000000;stroke-width:2.0px;stroke-linecap:butt;stroke-linejoin:miter;stroke-opacity:1\"/>\n",
       "<path class=\"bond-119 atom-114 atom-111\" d=\"M 297.6,179.2 L 291.7,185.0\" style=\"fill:none;fill-rule:evenodd;stroke:#000000;stroke-width:2.0px;stroke-linecap:butt;stroke-linejoin:miter;stroke-opacity:1\"/>\n",
       "<path class=\"bond-120 atom-114 atom-115\" d=\"M 297.6,179.2 L 297.7,179.8\" style=\"fill:none;fill-rule:evenodd;stroke:#000000;stroke-width:2.0px;stroke-linecap:butt;stroke-linejoin:miter;stroke-opacity:1\"/>\n",
       "<path class=\"bond-121 atom-114 atom-116\" d=\"M 297.6,179.2 L 298.4,178.6\" style=\"fill:none;fill-rule:evenodd;stroke:#000000;stroke-width:2.0px;stroke-linecap:butt;stroke-linejoin:miter;stroke-opacity:1\"/>\n",
       "<path class=\"bond-122 atom-111 atom-112\" d=\"M 291.7,185.0 L 289.9,186.9\" style=\"fill:none;fill-rule:evenodd;stroke:#000000;stroke-width:2.0px;stroke-linecap:butt;stroke-linejoin:miter;stroke-opacity:1\"/>\n",
       "<path class=\"bond-123 atom-111 atom-113\" d=\"M 291.7,185.0 L 291.9,185.2\" style=\"fill:none;fill-rule:evenodd;stroke:#000000;stroke-width:2.0px;stroke-linecap:butt;stroke-linejoin:miter;stroke-opacity:1\"/>\n",
       "<path class=\"bond-124 atom-108 atom-110\" d=\"M 274.5,187.2 L 278.0,184.9\" style=\"fill:none;fill-rule:evenodd;stroke:#000000;stroke-width:2.0px;stroke-linecap:butt;stroke-linejoin:miter;stroke-opacity:1\"/>\n",
       "<path class=\"bond-124 atom-108 atom-110\" d=\"M 278.0,184.9 L 281.5,182.5\" style=\"fill:none;fill-rule:evenodd;stroke:#0000FF;stroke-width:2.0px;stroke-linecap:butt;stroke-linejoin:miter;stroke-opacity:1\"/>\n",
       "<path class=\"bond-125 atom-124 atom-126\" d=\"M 270.5,167.2 L 267.8,166.1\" style=\"fill:none;fill-rule:evenodd;stroke:#0000FF;stroke-width:2.0px;stroke-linecap:butt;stroke-linejoin:miter;stroke-opacity:1\"/>\n",
       "<path class=\"bond-125 atom-124 atom-126\" d=\"M 267.8,166.1 L 265.1,165.0\" style=\"fill:none;fill-rule:evenodd;stroke:#000000;stroke-width:2.0px;stroke-linecap:butt;stroke-linejoin:miter;stroke-opacity:1\"/>\n",
       "<path class=\"bond-126 atom-124 atom-125\" d=\"M 274.4,167.0 L 275.1,166.6\" style=\"fill:none;fill-rule:evenodd;stroke:#0000FF;stroke-width:2.0px;stroke-linecap:butt;stroke-linejoin:miter;stroke-opacity:1\"/>\n",
       "<path class=\"bond-126 atom-124 atom-125\" d=\"M 275.1,166.6 L 275.9,166.3\" style=\"fill:none;fill-rule:evenodd;stroke:#000000;stroke-width:2.0px;stroke-linecap:butt;stroke-linejoin:miter;stroke-opacity:1\"/>\n",
       "<path class=\"bond-127 atom-126 atom-132\" d=\"M 265.1,165.0 L 266.2,154.1\" style=\"fill:none;fill-rule:evenodd;stroke:#000000;stroke-width:2.0px;stroke-linecap:butt;stroke-linejoin:miter;stroke-opacity:1\"/>\n",
       "<path class=\"bond-128 atom-126 atom-128\" d=\"M 265.1,165.0 L 256.6,161.2\" style=\"fill:none;fill-rule:evenodd;stroke:#000000;stroke-width:2.0px;stroke-linecap:butt;stroke-linejoin:miter;stroke-opacity:1\"/>\n",
       "<path class=\"bond-129 atom-126 atom-127\" d=\"M 264.7,167.0 L 264.2,166.9\" style=\"fill:none;fill-rule:evenodd;stroke:#000000;stroke-width:1.0px;stroke-linecap:butt;stroke-linejoin:miter;stroke-opacity:1\"/>\n",
       "<path class=\"bond-129 atom-126 atom-127\" d=\"M 264.3,169.0 L 263.3,168.7\" style=\"fill:none;fill-rule:evenodd;stroke:#000000;stroke-width:1.0px;stroke-linecap:butt;stroke-linejoin:miter;stroke-opacity:1\"/>\n",
       "<path class=\"bond-129 atom-126 atom-127\" d=\"M 263.9,171.0 L 262.4,170.6\" style=\"fill:none;fill-rule:evenodd;stroke:#000000;stroke-width:1.0px;stroke-linecap:butt;stroke-linejoin:miter;stroke-opacity:1\"/>\n",
       "<path class=\"bond-130 atom-132 atom-133\" d=\"M 266.2,154.9 L 269.5,154.3\" style=\"fill:none;fill-rule:evenodd;stroke:#000000;stroke-width:2.0px;stroke-linecap:butt;stroke-linejoin:miter;stroke-opacity:1\"/>\n",
       "<path class=\"bond-130 atom-132 atom-133\" d=\"M 269.5,154.3 L 272.8,153.7\" style=\"fill:none;fill-rule:evenodd;stroke:#FF0000;stroke-width:2.0px;stroke-linecap:butt;stroke-linejoin:miter;stroke-opacity:1\"/>\n",
       "<path class=\"bond-130 atom-132 atom-133\" d=\"M 265.3,153.5 L 269.2,152.8\" style=\"fill:none;fill-rule:evenodd;stroke:#000000;stroke-width:2.0px;stroke-linecap:butt;stroke-linejoin:miter;stroke-opacity:1\"/>\n",
       "<path class=\"bond-130 atom-132 atom-133\" d=\"M 269.2,152.8 L 272.5,152.2\" style=\"fill:none;fill-rule:evenodd;stroke:#FF0000;stroke-width:2.0px;stroke-linecap:butt;stroke-linejoin:miter;stroke-opacity:1\"/>\n",
       "<path class=\"bond-131 atom-128 atom-131\" d=\"M 256.6,161.2 L 266.7,160.3\" style=\"fill:none;fill-rule:evenodd;stroke:#000000;stroke-width:2.0px;stroke-linecap:butt;stroke-linejoin:miter;stroke-opacity:1\"/>\n",
       "<path class=\"bond-131 atom-128 atom-131\" d=\"M 266.7,160.3 L 276.8,159.5\" style=\"fill:none;fill-rule:evenodd;stroke:#FF0000;stroke-width:2.0px;stroke-linecap:butt;stroke-linejoin:miter;stroke-opacity:1\"/>\n",
       "<path class=\"bond-132 atom-128 atom-129\" d=\"M 256.6,161.2 L 255.7,159.9\" style=\"fill:none;fill-rule:evenodd;stroke:#000000;stroke-width:2.0px;stroke-linecap:butt;stroke-linejoin:miter;stroke-opacity:1\"/>\n",
       "<path class=\"bond-133 atom-128 atom-130\" d=\"M 256.6,161.2 L 253.4,163.3\" style=\"fill:none;fill-rule:evenodd;stroke:#000000;stroke-width:2.0px;stroke-linecap:butt;stroke-linejoin:miter;stroke-opacity:1\"/>\n",
       "<path class=\"bond-134 atom-122 atom-124\" d=\"M 277.2,173.8 L 275.8,172.1\" style=\"fill:none;fill-rule:evenodd;stroke:#000000;stroke-width:2.0px;stroke-linecap:butt;stroke-linejoin:miter;stroke-opacity:1\"/>\n",
       "<path class=\"bond-134 atom-122 atom-124\" d=\"M 275.8,172.1 L 274.4,170.3\" style=\"fill:none;fill-rule:evenodd;stroke:#0000FF;stroke-width:2.0px;stroke-linecap:butt;stroke-linejoin:miter;stroke-opacity:1\"/>\n",
       "<path class=\"bond-135 atom-134 atom-136\" d=\"M 254.9,144.2 L 255.2,142.4\" style=\"fill:none;fill-rule:evenodd;stroke:#0000FF;stroke-width:2.0px;stroke-linecap:butt;stroke-linejoin:miter;stroke-opacity:1\"/>\n",
       "<path class=\"bond-135 atom-134 atom-136\" d=\"M 255.2,142.4 L 255.5,140.6\" style=\"fill:none;fill-rule:evenodd;stroke:#000000;stroke-width:2.0px;stroke-linecap:butt;stroke-linejoin:miter;stroke-opacity:1\"/>\n",
       "<path class=\"bond-136 atom-134 atom-135\" d=\"M 253.1,149.1 L 252.9,149.4\" style=\"fill:none;fill-rule:evenodd;stroke:#0000FF;stroke-width:2.0px;stroke-linecap:butt;stroke-linejoin:miter;stroke-opacity:1\"/>\n",
       "<path class=\"bond-136 atom-134 atom-135\" d=\"M 252.9,149.4 L 252.7,149.8\" style=\"fill:none;fill-rule:evenodd;stroke:#000000;stroke-width:2.0px;stroke-linecap:butt;stroke-linejoin:miter;stroke-opacity:1\"/>\n",
       "<path class=\"bond-137 atom-136 atom-143\" d=\"M 255.5,140.6 L 245.1,132.8\" style=\"fill:none;fill-rule:evenodd;stroke:#000000;stroke-width:2.0px;stroke-linecap:butt;stroke-linejoin:miter;stroke-opacity:1\"/>\n",
       "<path class=\"bond-138 atom-136 atom-138\" d=\"M 255.5,140.6 L 257.8,130.7\" style=\"fill:none;fill-rule:evenodd;stroke:#000000;stroke-width:2.0px;stroke-linecap:butt;stroke-linejoin:miter;stroke-opacity:1\"/>\n",
       "<path class=\"bond-139 atom-136 atom-137\" d=\"M 255.5,140.6 L 265.7,139.5 L 265.7,140.9 Z\" style=\"fill:#000000;fill-rule:evenodd;fill-opacity:1;stroke:#000000;stroke-width:0.5px;stroke-linecap:butt;stroke-linejoin:miter;stroke-miterlimit:10;stroke-opacity:1;\"/>\n",
       "<path class=\"bond-140 atom-143 atom-144\" d=\"M 245.2,131.9 L 242.1,133.5\" style=\"fill:none;fill-rule:evenodd;stroke:#000000;stroke-width:2.0px;stroke-linecap:butt;stroke-linejoin:miter;stroke-opacity:1\"/>\n",
       "<path class=\"bond-140 atom-143 atom-144\" d=\"M 242.1,133.5 L 238.9,135.0\" style=\"fill:none;fill-rule:evenodd;stroke:#FF0000;stroke-width:2.0px;stroke-linecap:butt;stroke-linejoin:miter;stroke-opacity:1\"/>\n",
       "<path class=\"bond-140 atom-143 atom-144\" d=\"M 245.8,133.3 L 242.7,134.8\" style=\"fill:none;fill-rule:evenodd;stroke:#000000;stroke-width:2.0px;stroke-linecap:butt;stroke-linejoin:miter;stroke-opacity:1\"/>\n",
       "<path class=\"bond-140 atom-143 atom-144\" d=\"M 242.7,134.8 L 239.6,136.4\" style=\"fill:none;fill-rule:evenodd;stroke:#FF0000;stroke-width:2.0px;stroke-linecap:butt;stroke-linejoin:miter;stroke-opacity:1\"/>\n",
       "<path class=\"bond-141 atom-138 atom-141\" d=\"M 257.8,130.7 L 254.3,126.2\" style=\"fill:none;fill-rule:evenodd;stroke:#000000;stroke-width:2.0px;stroke-linecap:butt;stroke-linejoin:miter;stroke-opacity:1\"/>\n",
       "<path class=\"bond-142 atom-138 atom-139\" d=\"M 257.8,130.7 L 258.6,131.3\" style=\"fill:none;fill-rule:evenodd;stroke:#000000;stroke-width:2.0px;stroke-linecap:butt;stroke-linejoin:miter;stroke-opacity:1\"/>\n",
       "<path class=\"bond-143 atom-138 atom-140\" d=\"M 257.8,130.7 L 259.3,130.0\" style=\"fill:none;fill-rule:evenodd;stroke:#000000;stroke-width:2.0px;stroke-linecap:butt;stroke-linejoin:miter;stroke-opacity:1\"/>\n",
       "<path class=\"bond-144 atom-141 atom-142\" d=\"M 254.5,124.7 L 254.1,123.8\" style=\"fill:none;fill-rule:evenodd;stroke:#000000;stroke-width:2.0px;stroke-linecap:butt;stroke-linejoin:miter;stroke-opacity:1\"/>\n",
       "<path class=\"bond-144 atom-141 atom-142\" d=\"M 254.1,123.8 L 253.7,122.9\" style=\"fill:none;fill-rule:evenodd;stroke:#FF0000;stroke-width:2.0px;stroke-linecap:butt;stroke-linejoin:miter;stroke-opacity:1\"/>\n",
       "<path class=\"bond-144 atom-141 atom-142\" d=\"M 254.9,129.4 L 252.7,124.4\" style=\"fill:none;fill-rule:evenodd;stroke:#000000;stroke-width:2.0px;stroke-linecap:butt;stroke-linejoin:miter;stroke-opacity:1\"/>\n",
       "<path class=\"bond-144 atom-141 atom-142\" d=\"M 252.7,124.4 L 252.4,123.5\" style=\"fill:none;fill-rule:evenodd;stroke:#FF0000;stroke-width:2.0px;stroke-linecap:butt;stroke-linejoin:miter;stroke-opacity:1\"/>\n",
       "<path class=\"bond-145 atom-132 atom-134\" d=\"M 266.2,154.1 L 261.4,151.0\" style=\"fill:none;fill-rule:evenodd;stroke:#000000;stroke-width:2.0px;stroke-linecap:butt;stroke-linejoin:miter;stroke-opacity:1\"/>\n",
       "<path class=\"bond-145 atom-132 atom-134\" d=\"M 261.4,151.0 L 256.5,147.9\" style=\"fill:none;fill-rule:evenodd;stroke:#0000FF;stroke-width:2.0px;stroke-linecap:butt;stroke-linejoin:miter;stroke-opacity:1\"/>\n",
       "<path class=\"bond-146 atom-141 atom-42\" d=\"M 254.3,126.2 L 254.9,120.9\" style=\"fill:none;fill-rule:evenodd;stroke:#000000;stroke-width:2.0px;stroke-linecap:butt;stroke-linejoin:miter;stroke-opacity:1\"/>\n",
       "<path class=\"bond-146 atom-141 atom-42\" d=\"M 254.9,120.9 L 255.5,115.7\" style=\"fill:none;fill-rule:evenodd;stroke:#FF0000;stroke-width:2.0px;stroke-linecap:butt;stroke-linejoin:miter;stroke-opacity:1\"/>\n",
       "<path class=\"bond-147 atom-145 atom-147\" d=\"M 247.8,124.4 L 254.6,122.9\" style=\"fill:none;fill-rule:evenodd;stroke:#0000FF;stroke-width:2.0px;stroke-linecap:butt;stroke-linejoin:miter;stroke-opacity:1\"/>\n",
       "<path class=\"bond-147 atom-145 atom-147\" d=\"M 254.6,122.9 L 261.4,121.4\" style=\"fill:none;fill-rule:evenodd;stroke:#000000;stroke-width:2.0px;stroke-linecap:butt;stroke-linejoin:miter;stroke-opacity:1\"/>\n",
       "<path class=\"bond-148 atom-145 atom-146\" d=\"M 243.9,123.9 L 242.6,123.2\" style=\"fill:none;fill-rule:evenodd;stroke:#0000FF;stroke-width:2.0px;stroke-linecap:butt;stroke-linejoin:miter;stroke-opacity:1\"/>\n",
       "<path class=\"bond-148 atom-145 atom-146\" d=\"M 242.6,123.2 L 241.2,122.6\" style=\"fill:none;fill-rule:evenodd;stroke:#000000;stroke-width:2.0px;stroke-linecap:butt;stroke-linejoin:miter;stroke-opacity:1\"/>\n",
       "<path class=\"bond-149 atom-147 atom-167\" d=\"M 261.4,121.4 L 269.4,126.0\" style=\"fill:none;fill-rule:evenodd;stroke:#000000;stroke-width:2.0px;stroke-linecap:butt;stroke-linejoin:miter;stroke-opacity:1\"/>\n",
       "<path class=\"bond-150 atom-147 atom-149\" d=\"M 261.4,121.4 L 265.6,111.4\" style=\"fill:none;fill-rule:evenodd;stroke:#000000;stroke-width:2.0px;stroke-linecap:butt;stroke-linejoin:miter;stroke-opacity:1\"/>\n",
       "<path class=\"bond-151 atom-147 atom-148\" d=\"M 261.1,121.2 L 261.6,121.2\" style=\"fill:none;fill-rule:evenodd;stroke:#000000;stroke-width:1.0px;stroke-linecap:butt;stroke-linejoin:miter;stroke-opacity:1\"/>\n",
       "<path class=\"bond-151 atom-147 atom-148\" d=\"M 260.9,121.0 L 261.9,121.0\" style=\"fill:none;fill-rule:evenodd;stroke:#000000;stroke-width:1.0px;stroke-linecap:butt;stroke-linejoin:miter;stroke-opacity:1\"/>\n",
       "<path class=\"bond-151 atom-147 atom-148\" d=\"M 260.6,120.8 L 262.1,120.8\" style=\"fill:none;fill-rule:evenodd;stroke:#000000;stroke-width:1.0px;stroke-linecap:butt;stroke-linejoin:miter;stroke-opacity:1\"/>\n",
       "<path class=\"bond-152 atom-167 atom-168\" d=\"M 268.7,125.6 L 268.3,128.0\" style=\"fill:none;fill-rule:evenodd;stroke:#000000;stroke-width:2.0px;stroke-linecap:butt;stroke-linejoin:miter;stroke-opacity:1\"/>\n",
       "<path class=\"bond-152 atom-167 atom-168\" d=\"M 268.3,128.0 L 267.8,130.4\" style=\"fill:none;fill-rule:evenodd;stroke:#FF0000;stroke-width:2.0px;stroke-linecap:butt;stroke-linejoin:miter;stroke-opacity:1\"/>\n",
       "<path class=\"bond-152 atom-167 atom-168\" d=\"M 270.3,125.6 L 269.7,128.3\" style=\"fill:none;fill-rule:evenodd;stroke:#000000;stroke-width:2.0px;stroke-linecap:butt;stroke-linejoin:miter;stroke-opacity:1\"/>\n",
       "<path class=\"bond-152 atom-167 atom-168\" d=\"M 269.7,128.3 L 269.3,130.7\" style=\"fill:none;fill-rule:evenodd;stroke:#FF0000;stroke-width:2.0px;stroke-linecap:butt;stroke-linejoin:miter;stroke-opacity:1\"/>\n",
       "<path class=\"bond-153 atom-149 atom-152\" d=\"M 265.6,111.4 L 263.0,103.2\" style=\"fill:none;fill-rule:evenodd;stroke:#000000;stroke-width:2.0px;stroke-linecap:butt;stroke-linejoin:miter;stroke-opacity:1\"/>\n",
       "<path class=\"bond-154 atom-149 atom-150\" d=\"M 265.6,111.4 L 268.0,115.0\" style=\"fill:none;fill-rule:evenodd;stroke:#000000;stroke-width:2.0px;stroke-linecap:butt;stroke-linejoin:miter;stroke-opacity:1\"/>\n",
       "<path class=\"bond-155 atom-149 atom-151\" d=\"M 265.6,111.4 L 270.1,109.9\" style=\"fill:none;fill-rule:evenodd;stroke:#000000;stroke-width:2.0px;stroke-linecap:butt;stroke-linejoin:miter;stroke-opacity:1\"/>\n",
       "<path class=\"bond-156 atom-152 atom-153\" d=\"M 263.0,103.2 L 268.7,95.5\" style=\"fill:none;fill-rule:evenodd;stroke:#000000;stroke-width:2.0px;stroke-linecap:butt;stroke-linejoin:miter;stroke-opacity:1\"/>\n",
       "<path class=\"bond-156 atom-152 atom-153\" d=\"M 262.4,101.5 L 266.9,95.5\" style=\"fill:none;fill-rule:evenodd;stroke:#000000;stroke-width:2.0px;stroke-linecap:butt;stroke-linejoin:miter;stroke-opacity:1\"/>\n",
       "<path class=\"bond-157 atom-152 atom-166\" d=\"M 263.0,103.2 L 253.9,100.2\" style=\"fill:none;fill-rule:evenodd;stroke:#000000;stroke-width:2.0px;stroke-linecap:butt;stroke-linejoin:miter;stroke-opacity:1\"/>\n",
       "<path class=\"bond-158 atom-153 atom-155\" d=\"M 268.7,95.5 L 266.8,92.8\" style=\"fill:none;fill-rule:evenodd;stroke:#000000;stroke-width:2.0px;stroke-linecap:butt;stroke-linejoin:miter;stroke-opacity:1\"/>\n",
       "<path class=\"bond-158 atom-153 atom-155\" d=\"M 266.8,92.8 L 264.9,90.1\" style=\"fill:none;fill-rule:evenodd;stroke:#0000FF;stroke-width:2.0px;stroke-linecap:butt;stroke-linejoin:miter;stroke-opacity:1\"/>\n",
       "<path class=\"bond-159 atom-153 atom-154\" d=\"M 268.7,95.5 L 276.3,95.6\" style=\"fill:none;fill-rule:evenodd;stroke:#000000;stroke-width:2.0px;stroke-linecap:butt;stroke-linejoin:miter;stroke-opacity:1\"/>\n",
       "<path class=\"bond-160 atom-166 atom-157\" d=\"M 253.9,100.2 L 253.9,90.6\" style=\"fill:none;fill-rule:evenodd;stroke:#000000;stroke-width:2.0px;stroke-linecap:butt;stroke-linejoin:miter;stroke-opacity:1\"/>\n",
       "<path class=\"bond-160 atom-166 atom-157\" d=\"M 252.4,99.4 L 252.4,91.4\" style=\"fill:none;fill-rule:evenodd;stroke:#000000;stroke-width:2.0px;stroke-linecap:butt;stroke-linejoin:miter;stroke-opacity:1\"/>\n",
       "<path class=\"bond-161 atom-166 atom-164\" d=\"M 253.9,100.2 L 245.5,105.0\" style=\"fill:none;fill-rule:evenodd;stroke:#000000;stroke-width:2.0px;stroke-linecap:butt;stroke-linejoin:miter;stroke-opacity:1\"/>\n",
       "<path class=\"bond-162 atom-155 atom-157\" d=\"M 261.1,88.3 L 257.5,89.4\" style=\"fill:none;fill-rule:evenodd;stroke:#0000FF;stroke-width:2.0px;stroke-linecap:butt;stroke-linejoin:miter;stroke-opacity:1\"/>\n",
       "<path class=\"bond-162 atom-155 atom-157\" d=\"M 257.5,89.4 L 253.9,90.6\" style=\"fill:none;fill-rule:evenodd;stroke:#000000;stroke-width:2.0px;stroke-linecap:butt;stroke-linejoin:miter;stroke-opacity:1\"/>\n",
       "<path class=\"bond-163 atom-155 atom-156\" d=\"M 263.9,85.2 L 264.6,83.1\" style=\"fill:none;fill-rule:evenodd;stroke:#0000FF;stroke-width:2.0px;stroke-linecap:butt;stroke-linejoin:miter;stroke-opacity:1\"/>\n",
       "<path class=\"bond-163 atom-155 atom-156\" d=\"M 264.6,83.1 L 265.3,81.0\" style=\"fill:none;fill-rule:evenodd;stroke:#000000;stroke-width:2.0px;stroke-linecap:butt;stroke-linejoin:miter;stroke-opacity:1\"/>\n",
       "<path class=\"bond-164 atom-157 atom-158\" d=\"M 253.9,90.6 L 245.6,85.8\" style=\"fill:none;fill-rule:evenodd;stroke:#000000;stroke-width:2.0px;stroke-linecap:butt;stroke-linejoin:miter;stroke-opacity:1\"/>\n",
       "<path class=\"bond-165 atom-164 atom-162\" d=\"M 245.5,105.0 L 237.3,100.2\" style=\"fill:none;fill-rule:evenodd;stroke:#000000;stroke-width:2.0px;stroke-linecap:butt;stroke-linejoin:miter;stroke-opacity:1\"/>\n",
       "<path class=\"bond-165 atom-164 atom-162\" d=\"M 245.6,103.3 L 238.8,99.3\" style=\"fill:none;fill-rule:evenodd;stroke:#000000;stroke-width:2.0px;stroke-linecap:butt;stroke-linejoin:miter;stroke-opacity:1\"/>\n",
       "<path class=\"bond-166 atom-164 atom-165\" d=\"M 245.5,105.0 L 245.5,112.2\" style=\"fill:none;fill-rule:evenodd;stroke:#000000;stroke-width:2.0px;stroke-linecap:butt;stroke-linejoin:miter;stroke-opacity:1\"/>\n",
       "<path class=\"bond-167 atom-158 atom-160\" d=\"M 245.6,85.8 L 237.3,90.5\" style=\"fill:none;fill-rule:evenodd;stroke:#000000;stroke-width:2.0px;stroke-linecap:butt;stroke-linejoin:miter;stroke-opacity:1\"/>\n",
       "<path class=\"bond-167 atom-158 atom-160\" d=\"M 245.6,87.5 L 238.8,91.4\" style=\"fill:none;fill-rule:evenodd;stroke:#000000;stroke-width:2.0px;stroke-linecap:butt;stroke-linejoin:miter;stroke-opacity:1\"/>\n",
       "<path class=\"bond-168 atom-158 atom-159\" d=\"M 245.6,85.8 L 245.6,78.6\" style=\"fill:none;fill-rule:evenodd;stroke:#000000;stroke-width:2.0px;stroke-linecap:butt;stroke-linejoin:miter;stroke-opacity:1\"/>\n",
       "<path class=\"bond-169 atom-162 atom-160\" d=\"M 237.3,100.2 L 237.3,90.5\" style=\"fill:none;fill-rule:evenodd;stroke:#000000;stroke-width:2.0px;stroke-linecap:butt;stroke-linejoin:miter;stroke-opacity:1\"/>\n",
       "<path class=\"bond-170 atom-162 atom-163\" d=\"M 237.3,100.2 L 230.9,103.8\" style=\"fill:none;fill-rule:evenodd;stroke:#000000;stroke-width:2.0px;stroke-linecap:butt;stroke-linejoin:miter;stroke-opacity:1\"/>\n",
       "<path class=\"bond-171 atom-160 atom-161\" d=\"M 237.3,90.5 L 230.9,86.9\" style=\"fill:none;fill-rule:evenodd;stroke:#000000;stroke-width:2.0px;stroke-linecap:butt;stroke-linejoin:miter;stroke-opacity:1\"/>\n",
       "<path class=\"bond-172 atom-143 atom-145\" d=\"M 245.1,132.8 L 245.4,130.0\" style=\"fill:none;fill-rule:evenodd;stroke:#000000;stroke-width:2.0px;stroke-linecap:butt;stroke-linejoin:miter;stroke-opacity:1\"/>\n",
       "<path class=\"bond-172 atom-143 atom-145\" d=\"M 245.4,130.0 L 245.7,127.3\" style=\"fill:none;fill-rule:evenodd;stroke:#0000FF;stroke-width:2.0px;stroke-linecap:butt;stroke-linejoin:miter;stroke-opacity:1\"/>\n",
       "<path class=\"bond-173 atom-169 atom-171\" d=\"M 280.1,122.7 L 281.4,123.4\" style=\"fill:none;fill-rule:evenodd;stroke:#0000FF;stroke-width:2.0px;stroke-linecap:butt;stroke-linejoin:miter;stroke-opacity:1\"/>\n",
       "<path class=\"bond-173 atom-169 atom-171\" d=\"M 281.4,123.4 L 282.8,124.2\" style=\"fill:none;fill-rule:evenodd;stroke:#000000;stroke-width:2.0px;stroke-linecap:butt;stroke-linejoin:miter;stroke-opacity:1\"/>\n",
       "<path class=\"bond-174 atom-169 atom-170\" d=\"M 278.3,119.0 L 278.4,117.4\" style=\"fill:none;fill-rule:evenodd;stroke:#0000FF;stroke-width:2.0px;stroke-linecap:butt;stroke-linejoin:miter;stroke-opacity:1\"/>\n",
       "<path class=\"bond-174 atom-169 atom-170\" d=\"M 278.4,117.4 L 278.5,115.8\" style=\"fill:none;fill-rule:evenodd;stroke:#000000;stroke-width:2.0px;stroke-linecap:butt;stroke-linejoin:miter;stroke-opacity:1\"/>\n",
       "<path class=\"bond-175 atom-171 atom-181\" d=\"M 282.8,124.2 L 294.7,122.9\" style=\"fill:none;fill-rule:evenodd;stroke:#000000;stroke-width:2.0px;stroke-linecap:butt;stroke-linejoin:miter;stroke-opacity:1\"/>\n",
       "<path class=\"bond-176 atom-171 atom-173\" d=\"M 282.8,124.2 L 284.8,132.7\" style=\"fill:none;fill-rule:evenodd;stroke:#000000;stroke-width:2.0px;stroke-linecap:butt;stroke-linejoin:miter;stroke-opacity:1\"/>\n",
       "<path class=\"bond-177 atom-171 atom-172\" d=\"M 282.8,124.2 L 280.4,128.2 L 279.3,127.2 Z\" style=\"fill:#000000;fill-rule:evenodd;fill-opacity:1;stroke:#000000;stroke-width:0.5px;stroke-linecap:butt;stroke-linejoin:miter;stroke-miterlimit:10;stroke-opacity:1;\"/>\n",
       "<path class=\"bond-178 atom-181 atom-182\" d=\"M 294.0,123.0 L 294.8,128.3\" style=\"fill:none;fill-rule:evenodd;stroke:#000000;stroke-width:2.0px;stroke-linecap:butt;stroke-linejoin:miter;stroke-opacity:1\"/>\n",
       "<path class=\"bond-178 atom-181 atom-182\" d=\"M 294.8,128.3 L 295.7,133.6\" style=\"fill:none;fill-rule:evenodd;stroke:#FF0000;stroke-width:2.0px;stroke-linecap:butt;stroke-linejoin:miter;stroke-opacity:1\"/>\n",
       "<path class=\"bond-178 atom-181 atom-182\" d=\"M 295.3,122.1 L 296.3,128.1\" style=\"fill:none;fill-rule:evenodd;stroke:#000000;stroke-width:2.0px;stroke-linecap:butt;stroke-linejoin:miter;stroke-opacity:1\"/>\n",
       "<path class=\"bond-178 atom-181 atom-182\" d=\"M 296.3,128.1 L 297.2,133.4\" style=\"fill:none;fill-rule:evenodd;stroke:#FF0000;stroke-width:2.0px;stroke-linecap:butt;stroke-linejoin:miter;stroke-opacity:1\"/>\n",
       "<path class=\"bond-179 atom-173 atom-176\" d=\"M 284.8,132.7 L 280.0,141.7\" style=\"fill:none;fill-rule:evenodd;stroke:#000000;stroke-width:2.0px;stroke-linecap:butt;stroke-linejoin:miter;stroke-opacity:1\"/>\n",
       "<path class=\"bond-180 atom-173 atom-174\" d=\"M 284.8,132.7 L 289.7,139.2\" style=\"fill:none;fill-rule:evenodd;stroke:#000000;stroke-width:2.0px;stroke-linecap:butt;stroke-linejoin:miter;stroke-opacity:1\"/>\n",
       "<path class=\"bond-181 atom-173 atom-175\" d=\"M 284.8,132.7 L 289.4,131.3\" style=\"fill:none;fill-rule:evenodd;stroke:#000000;stroke-width:2.0px;stroke-linecap:butt;stroke-linejoin:miter;stroke-opacity:1\"/>\n",
       "<path class=\"bond-182 atom-176 atom-179\" d=\"M 280.0,141.7 L 285.4,150.9\" style=\"fill:none;fill-rule:evenodd;stroke:#000000;stroke-width:2.0px;stroke-linecap:butt;stroke-linejoin:miter;stroke-opacity:1\"/>\n",
       "<path class=\"bond-183 atom-176 atom-177\" d=\"M 280.0,141.7 L 277.3,139.4\" style=\"fill:none;fill-rule:evenodd;stroke:#000000;stroke-width:2.0px;stroke-linecap:butt;stroke-linejoin:miter;stroke-opacity:1\"/>\n",
       "<path class=\"bond-184 atom-176 atom-178\" d=\"M 280.0,141.7 L 273.6,145.1\" style=\"fill:none;fill-rule:evenodd;stroke:#000000;stroke-width:2.0px;stroke-linecap:butt;stroke-linejoin:miter;stroke-opacity:1\"/>\n",
       "<path class=\"bond-185 atom-179 atom-180\" d=\"M 284.8,151.6 L 288.6,151.7\" style=\"fill:none;fill-rule:evenodd;stroke:#000000;stroke-width:2.0px;stroke-linecap:butt;stroke-linejoin:miter;stroke-opacity:1\"/>\n",
       "<path class=\"bond-185 atom-179 atom-180\" d=\"M 288.6,151.7 L 292.3,151.7\" style=\"fill:none;fill-rule:evenodd;stroke:#FF0000;stroke-width:2.0px;stroke-linecap:butt;stroke-linejoin:miter;stroke-opacity:1\"/>\n",
       "<path class=\"bond-185 atom-179 atom-180\" d=\"M 284.9,150.1 L 288.6,150.2\" style=\"fill:none;fill-rule:evenodd;stroke:#000000;stroke-width:2.0px;stroke-linecap:butt;stroke-linejoin:miter;stroke-opacity:1\"/>\n",
       "<path class=\"bond-185 atom-179 atom-180\" d=\"M 288.6,150.2 L 292.3,150.2\" style=\"fill:none;fill-rule:evenodd;stroke:#FF0000;stroke-width:2.0px;stroke-linecap:butt;stroke-linejoin:miter;stroke-opacity:1\"/>\n",
       "<path class=\"bond-186 atom-167 atom-169\" d=\"M 269.4,126.0 L 272.8,124.3\" style=\"fill:none;fill-rule:evenodd;stroke:#000000;stroke-width:2.0px;stroke-linecap:butt;stroke-linejoin:miter;stroke-opacity:1\"/>\n",
       "<path class=\"bond-186 atom-167 atom-169\" d=\"M 272.8,124.3 L 276.2,122.5\" style=\"fill:none;fill-rule:evenodd;stroke:#0000FF;stroke-width:2.0px;stroke-linecap:butt;stroke-linejoin:miter;stroke-opacity:1\"/>\n",
       "<path class=\"bond-187 atom-179 atom-131\" d=\"M 285.4,150.9 L 283.2,153.8\" style=\"fill:none;fill-rule:evenodd;stroke:#000000;stroke-width:2.0px;stroke-linecap:butt;stroke-linejoin:miter;stroke-opacity:1\"/>\n",
       "<path class=\"bond-187 atom-179 atom-131\" d=\"M 283.2,153.8 L 280.9,156.8\" style=\"fill:none;fill-rule:evenodd;stroke:#FF0000;stroke-width:2.0px;stroke-linecap:butt;stroke-linejoin:miter;stroke-opacity:1\"/>\n",
       "<path class=\"bond-188 atom-183 atom-185\" d=\"M 300.5,118.4 L 307.8,168.4\" style=\"fill:none;fill-rule:evenodd;stroke:#0000FF;stroke-width:2.0px;stroke-linecap:butt;stroke-linejoin:miter;stroke-opacity:1\"/>\n",
       "<path class=\"bond-188 atom-183 atom-185\" d=\"M 307.8,168.4 L 315.1,218.4\" style=\"fill:none;fill-rule:evenodd;stroke:#000000;stroke-width:2.0px;stroke-linecap:butt;stroke-linejoin:miter;stroke-opacity:1\"/>\n",
       "<path class=\"bond-189 atom-183 atom-184\" d=\"M 300.4,113.4 L 305.1,66.5\" style=\"fill:none;fill-rule:evenodd;stroke:#0000FF;stroke-width:2.0px;stroke-linecap:butt;stroke-linejoin:miter;stroke-opacity:1\"/>\n",
       "<path class=\"bond-189 atom-183 atom-184\" d=\"M 305.1,66.5 L 309.8,19.5\" style=\"fill:none;fill-rule:evenodd;stroke:#000000;stroke-width:2.0px;stroke-linecap:butt;stroke-linejoin:miter;stroke-opacity:1\"/>\n",
       "<path class=\"bond-190 atom-185 atom-195\" d=\"M 315.1,218.4 L 312.2,229.7\" style=\"fill:none;fill-rule:evenodd;stroke:#000000;stroke-width:2.0px;stroke-linecap:butt;stroke-linejoin:miter;stroke-opacity:1\"/>\n",
       "<path class=\"bond-191 atom-185 atom-187\" d=\"M 315.1,218.4 L 304.0,219.9\" style=\"fill:none;fill-rule:evenodd;stroke:#000000;stroke-width:2.0px;stroke-linecap:butt;stroke-linejoin:miter;stroke-opacity:1\"/>\n",
       "<path class=\"bond-192 atom-185 atom-186\" d=\"M 315.1,218.4 L 321.0,216.5 L 321.3,218.0 Z\" style=\"fill:#000000;fill-rule:evenodd;fill-opacity:1;stroke:#000000;stroke-width:0.5px;stroke-linecap:butt;stroke-linejoin:miter;stroke-miterlimit:10;stroke-opacity:1;\"/>\n",
       "<path class=\"bond-193 atom-195 atom-196\" d=\"M 312.5,228.6 L 309.1,231.1\" style=\"fill:none;fill-rule:evenodd;stroke:#000000;stroke-width:2.0px;stroke-linecap:butt;stroke-linejoin:miter;stroke-opacity:1\"/>\n",
       "<path class=\"bond-193 atom-195 atom-196\" d=\"M 309.1,231.1 L 305.7,233.7\" style=\"fill:none;fill-rule:evenodd;stroke:#FF0000;stroke-width:2.0px;stroke-linecap:butt;stroke-linejoin:miter;stroke-opacity:1\"/>\n",
       "<path class=\"bond-193 atom-195 atom-196\" d=\"M 312.8,230.2 L 310.0,232.3\" style=\"fill:none;fill-rule:evenodd;stroke:#000000;stroke-width:2.0px;stroke-linecap:butt;stroke-linejoin:miter;stroke-opacity:1\"/>\n",
       "<path class=\"bond-193 atom-195 atom-196\" d=\"M 310.0,232.3 L 306.7,234.9\" style=\"fill:none;fill-rule:evenodd;stroke:#FF0000;stroke-width:2.0px;stroke-linecap:butt;stroke-linejoin:miter;stroke-opacity:1\"/>\n",
       "<path class=\"bond-194 atom-187 atom-190\" d=\"M 304.0,219.9 L 297.8,222.8\" style=\"fill:none;fill-rule:evenodd;stroke:#000000;stroke-width:2.0px;stroke-linecap:butt;stroke-linejoin:miter;stroke-opacity:1\"/>\n",
       "<path class=\"bond-195 atom-187 atom-188\" d=\"M 304.0,219.9 L 306.7,213.7\" style=\"fill:none;fill-rule:evenodd;stroke:#000000;stroke-width:2.0px;stroke-linecap:butt;stroke-linejoin:miter;stroke-opacity:1\"/>\n",
       "<path class=\"bond-196 atom-187 atom-189\" d=\"M 304.0,219.9 L 294.8,215.9\" style=\"fill:none;fill-rule:evenodd;stroke:#000000;stroke-width:2.0px;stroke-linecap:butt;stroke-linejoin:miter;stroke-opacity:1\"/>\n",
       "<path class=\"bond-197 atom-190 atom-193\" d=\"M 297.8,222.8 L 285.7,220.9\" style=\"fill:none;fill-rule:evenodd;stroke:#000000;stroke-width:2.0px;stroke-linecap:butt;stroke-linejoin:miter;stroke-opacity:1\"/>\n",
       "<path class=\"bond-198 atom-190 atom-191\" d=\"M 297.8,222.8 L 293.3,228.8\" style=\"fill:none;fill-rule:evenodd;stroke:#000000;stroke-width:2.0px;stroke-linecap:butt;stroke-linejoin:miter;stroke-opacity:1\"/>\n",
       "<path class=\"bond-199 atom-190 atom-192\" d=\"M 297.8,222.8 L 299.5,224.7\" style=\"fill:none;fill-rule:evenodd;stroke:#000000;stroke-width:2.0px;stroke-linecap:butt;stroke-linejoin:miter;stroke-opacity:1\"/>\n",
       "<path class=\"bond-200 atom-193 atom-194\" d=\"M 286.4,221.0 L 286.4,219.2\" style=\"fill:none;fill-rule:evenodd;stroke:#000000;stroke-width:2.0px;stroke-linecap:butt;stroke-linejoin:miter;stroke-opacity:1\"/>\n",
       "<path class=\"bond-200 atom-193 atom-194\" d=\"M 286.4,219.2 L 286.4,217.4\" style=\"fill:none;fill-rule:evenodd;stroke:#FF0000;stroke-width:2.0px;stroke-linecap:butt;stroke-linejoin:miter;stroke-opacity:1\"/>\n",
       "<path class=\"bond-200 atom-193 atom-194\" d=\"M 285.0,222.2 L 284.9,219.2\" style=\"fill:none;fill-rule:evenodd;stroke:#000000;stroke-width:2.0px;stroke-linecap:butt;stroke-linejoin:miter;stroke-opacity:1\"/>\n",
       "<path class=\"bond-200 atom-193 atom-194\" d=\"M 284.9,219.2 L 284.9,217.4\" style=\"fill:none;fill-rule:evenodd;stroke:#FF0000;stroke-width:2.0px;stroke-linecap:butt;stroke-linejoin:miter;stroke-opacity:1\"/>\n",
       "<path class=\"bond-201 atom-181 atom-183\" d=\"M 294.7,122.9 L 296.5,120.6\" style=\"fill:none;fill-rule:evenodd;stroke:#000000;stroke-width:2.0px;stroke-linecap:butt;stroke-linejoin:miter;stroke-opacity:1\"/>\n",
       "<path class=\"bond-201 atom-181 atom-183\" d=\"M 296.5,120.6 L 298.2,118.4\" style=\"fill:none;fill-rule:evenodd;stroke:#0000FF;stroke-width:2.0px;stroke-linecap:butt;stroke-linejoin:miter;stroke-opacity:1\"/>\n",
       "<path class=\"bond-202 atom-193 atom-85\" d=\"M 285.7,220.9 L 284.3,223.3\" style=\"fill:none;fill-rule:evenodd;stroke:#000000;stroke-width:2.0px;stroke-linecap:butt;stroke-linejoin:miter;stroke-opacity:1\"/>\n",
       "<path class=\"bond-202 atom-193 atom-85\" d=\"M 284.3,223.3 L 282.9,225.8\" style=\"fill:none;fill-rule:evenodd;stroke:#0000FF;stroke-width:2.0px;stroke-linecap:butt;stroke-linejoin:miter;stroke-opacity:1\"/>\n",
       "<path class=\"bond-203 atom-197 atom-199\" d=\"M 318.7,237.1 L 318.2,240.6\" style=\"fill:none;fill-rule:evenodd;stroke:#0000FF;stroke-width:2.0px;stroke-linecap:butt;stroke-linejoin:miter;stroke-opacity:1\"/>\n",
       "<path class=\"bond-203 atom-197 atom-199\" d=\"M 318.2,240.6 L 317.7,244.1\" style=\"fill:none;fill-rule:evenodd;stroke:#000000;stroke-width:2.0px;stroke-linecap:butt;stroke-linejoin:miter;stroke-opacity:1\"/>\n",
       "<path class=\"bond-204 atom-197 atom-198\" d=\"M 321.1,233.8 L 323.5,232.7\" style=\"fill:none;fill-rule:evenodd;stroke:#0000FF;stroke-width:2.0px;stroke-linecap:butt;stroke-linejoin:miter;stroke-opacity:1\"/>\n",
       "<path class=\"bond-204 atom-197 atom-198\" d=\"M 323.5,232.7 L 325.9,231.6\" style=\"fill:none;fill-rule:evenodd;stroke:#000000;stroke-width:2.0px;stroke-linecap:butt;stroke-linejoin:miter;stroke-opacity:1\"/>\n",
       "<path class=\"bond-205 atom-199 atom-219\" d=\"M 317.7,244.1 L 325.7,250.2\" style=\"fill:none;fill-rule:evenodd;stroke:#000000;stroke-width:2.0px;stroke-linecap:butt;stroke-linejoin:miter;stroke-opacity:1\"/>\n",
       "<path class=\"bond-206 atom-199 atom-201\" d=\"M 317.7,244.1 L 310.6,251.3\" style=\"fill:none;fill-rule:evenodd;stroke:#000000;stroke-width:2.0px;stroke-linecap:butt;stroke-linejoin:miter;stroke-opacity:1\"/>\n",
       "<path class=\"bond-207 atom-199 atom-200\" d=\"M 317.7,244.1 L 310.4,243.6 L 310.6,242.1 Z\" style=\"fill:#000000;fill-rule:evenodd;fill-opacity:1;stroke:#000000;stroke-width:0.5px;stroke-linecap:butt;stroke-linejoin:miter;stroke-miterlimit:10;stroke-opacity:1;\"/>\n",
       "<path class=\"bond-208 atom-219 atom-220\" d=\"M 325.7,251.1 L 329.1,249.5\" style=\"fill:none;fill-rule:evenodd;stroke:#000000;stroke-width:2.0px;stroke-linecap:butt;stroke-linejoin:miter;stroke-opacity:1\"/>\n",
       "<path class=\"bond-208 atom-219 atom-220\" d=\"M 329.1,249.5 L 332.6,248.0\" style=\"fill:none;fill-rule:evenodd;stroke:#FF0000;stroke-width:2.0px;stroke-linecap:butt;stroke-linejoin:miter;stroke-opacity:1\"/>\n",
       "<path class=\"bond-208 atom-219 atom-220\" d=\"M 325.1,249.7 L 328.5,248.1\" style=\"fill:none;fill-rule:evenodd;stroke:#000000;stroke-width:2.0px;stroke-linecap:butt;stroke-linejoin:miter;stroke-opacity:1\"/>\n",
       "<path class=\"bond-208 atom-219 atom-220\" d=\"M 328.5,248.1 L 332.0,246.6\" style=\"fill:none;fill-rule:evenodd;stroke:#FF0000;stroke-width:2.0px;stroke-linecap:butt;stroke-linejoin:miter;stroke-opacity:1\"/>\n",
       "<path class=\"bond-209 atom-219 atom-221\" d=\"M 325.7,250.2 L 325.5,253.7\" style=\"fill:none;fill-rule:evenodd;stroke:#000000;stroke-width:2.0px;stroke-linecap:butt;stroke-linejoin:miter;stroke-opacity:1\"/>\n",
       "<path class=\"bond-209 atom-219 atom-221\" d=\"M 325.5,253.7 L 325.2,257.3\" style=\"fill:none;fill-rule:evenodd;stroke:#FF0000;stroke-width:2.0px;stroke-linecap:butt;stroke-linejoin:miter;stroke-opacity:1\"/>\n",
       "<path class=\"bond-210 atom-201 atom-204\" d=\"M 310.6,251.3 L 299.5,249.2\" style=\"fill:none;fill-rule:evenodd;stroke:#000000;stroke-width:2.0px;stroke-linecap:butt;stroke-linejoin:miter;stroke-opacity:1\"/>\n",
       "<path class=\"bond-211 atom-201 atom-202\" d=\"M 310.6,251.3 L 315.4,256.3\" style=\"fill:none;fill-rule:evenodd;stroke:#000000;stroke-width:2.0px;stroke-linecap:butt;stroke-linejoin:miter;stroke-opacity:1\"/>\n",
       "<path class=\"bond-212 atom-201 atom-203\" d=\"M 310.6,251.3 L 308.9,258.7\" style=\"fill:none;fill-rule:evenodd;stroke:#000000;stroke-width:2.0px;stroke-linecap:butt;stroke-linejoin:miter;stroke-opacity:1\"/>\n",
       "<path class=\"bond-213 atom-204 atom-205\" d=\"M 299.5,249.2 L 293.3,241.6\" style=\"fill:none;fill-rule:evenodd;stroke:#000000;stroke-width:2.0px;stroke-linecap:butt;stroke-linejoin:miter;stroke-opacity:1\"/>\n",
       "<path class=\"bond-213 atom-204 atom-205\" d=\"M 297.7,249.3 L 292.8,243.4\" style=\"fill:none;fill-rule:evenodd;stroke:#000000;stroke-width:2.0px;stroke-linecap:butt;stroke-linejoin:miter;stroke-opacity:1\"/>\n",
       "<path class=\"bond-214 atom-204 atom-218\" d=\"M 299.5,249.2 L 294.2,257.4\" style=\"fill:none;fill-rule:evenodd;stroke:#000000;stroke-width:2.0px;stroke-linecap:butt;stroke-linejoin:miter;stroke-opacity:1\"/>\n",
       "<path class=\"bond-215 atom-205 atom-207\" d=\"M 293.3,241.6 L 289.8,243.0\" style=\"fill:none;fill-rule:evenodd;stroke:#000000;stroke-width:2.0px;stroke-linecap:butt;stroke-linejoin:miter;stroke-opacity:1\"/>\n",
       "<path class=\"bond-215 atom-205 atom-207\" d=\"M 289.8,243.0 L 286.4,244.3\" style=\"fill:none;fill-rule:evenodd;stroke:#0000FF;stroke-width:2.0px;stroke-linecap:butt;stroke-linejoin:miter;stroke-opacity:1\"/>\n",
       "<path class=\"bond-216 atom-205 atom-206\" d=\"M 293.3,241.6 L 297.3,236.1\" style=\"fill:none;fill-rule:evenodd;stroke:#000000;stroke-width:2.0px;stroke-linecap:butt;stroke-linejoin:miter;stroke-opacity:1\"/>\n",
       "<path class=\"bond-217 atom-218 atom-209\" d=\"M 294.2,257.4 L 285.0,254.8\" style=\"fill:none;fill-rule:evenodd;stroke:#000000;stroke-width:2.0px;stroke-linecap:butt;stroke-linejoin:miter;stroke-opacity:1\"/>\n",
       "<path class=\"bond-217 atom-218 atom-209\" d=\"M 293.0,258.6 L 285.4,256.5\" style=\"fill:none;fill-rule:evenodd;stroke:#000000;stroke-width:2.0px;stroke-linecap:butt;stroke-linejoin:miter;stroke-opacity:1\"/>\n",
       "<path class=\"bond-218 atom-218 atom-216\" d=\"M 294.2,257.4 L 296.7,266.8\" style=\"fill:none;fill-rule:evenodd;stroke:#000000;stroke-width:2.0px;stroke-linecap:butt;stroke-linejoin:miter;stroke-opacity:1\"/>\n",
       "<path class=\"bond-219 atom-207 atom-209\" d=\"M 284.6,247.5 L 284.8,251.2\" style=\"fill:none;fill-rule:evenodd;stroke:#0000FF;stroke-width:2.0px;stroke-linecap:butt;stroke-linejoin:miter;stroke-opacity:1\"/>\n",
       "<path class=\"bond-219 atom-207 atom-209\" d=\"M 284.8,251.2 L 285.0,254.8\" style=\"fill:none;fill-rule:evenodd;stroke:#000000;stroke-width:2.0px;stroke-linecap:butt;stroke-linejoin:miter;stroke-opacity:1\"/>\n",
       "<path class=\"bond-220 atom-207 atom-208\" d=\"M 282.5,243.6 L 280.9,242.5\" style=\"fill:none;fill-rule:evenodd;stroke:#0000FF;stroke-width:2.0px;stroke-linecap:butt;stroke-linejoin:miter;stroke-opacity:1\"/>\n",
       "<path class=\"bond-220 atom-207 atom-208\" d=\"M 280.9,242.5 L 279.4,241.3\" style=\"fill:none;fill-rule:evenodd;stroke:#000000;stroke-width:2.0px;stroke-linecap:butt;stroke-linejoin:miter;stroke-opacity:1\"/>\n",
       "<path class=\"bond-221 atom-209 atom-210\" d=\"M 285.0,254.8 L 278.1,261.6\" style=\"fill:none;fill-rule:evenodd;stroke:#000000;stroke-width:2.0px;stroke-linecap:butt;stroke-linejoin:miter;stroke-opacity:1\"/>\n",
       "<path class=\"bond-222 atom-216 atom-214\" d=\"M 296.7,266.8 L 289.7,273.5\" style=\"fill:none;fill-rule:evenodd;stroke:#000000;stroke-width:2.0px;stroke-linecap:butt;stroke-linejoin:miter;stroke-opacity:1\"/>\n",
       "<path class=\"bond-222 atom-216 atom-214\" d=\"M 295.0,266.3 L 289.3,271.9\" style=\"fill:none;fill-rule:evenodd;stroke:#000000;stroke-width:2.0px;stroke-linecap:butt;stroke-linejoin:miter;stroke-opacity:1\"/>\n",
       "<path class=\"bond-223 atom-216 atom-217\" d=\"M 296.7,266.8 L 303.9,269.1\" style=\"fill:none;fill-rule:evenodd;stroke:#000000;stroke-width:2.0px;stroke-linecap:butt;stroke-linejoin:miter;stroke-opacity:1\"/>\n",
       "<path class=\"bond-224 atom-210 atom-212\" d=\"M 278.1,261.6 L 280.5,270.9\" style=\"fill:none;fill-rule:evenodd;stroke:#000000;stroke-width:2.0px;stroke-linecap:butt;stroke-linejoin:miter;stroke-opacity:1\"/>\n",
       "<path class=\"bond-224 atom-210 atom-212\" d=\"M 279.8,262.1 L 281.7,269.7\" style=\"fill:none;fill-rule:evenodd;stroke:#000000;stroke-width:2.0px;stroke-linecap:butt;stroke-linejoin:miter;stroke-opacity:1\"/>\n",
       "<path class=\"bond-225 atom-210 atom-211\" d=\"M 278.1,261.6 L 271.0,259.2\" style=\"fill:none;fill-rule:evenodd;stroke:#000000;stroke-width:2.0px;stroke-linecap:butt;stroke-linejoin:miter;stroke-opacity:1\"/>\n",
       "<path class=\"bond-226 atom-214 atom-212\" d=\"M 289.7,273.5 L 280.5,270.9\" style=\"fill:none;fill-rule:evenodd;stroke:#000000;stroke-width:2.0px;stroke-linecap:butt;stroke-linejoin:miter;stroke-opacity:1\"/>\n",
       "<path class=\"bond-227 atom-214 atom-215\" d=\"M 289.7,273.5 L 291.2,280.5\" style=\"fill:none;fill-rule:evenodd;stroke:#000000;stroke-width:2.0px;stroke-linecap:butt;stroke-linejoin:miter;stroke-opacity:1\"/>\n",
       "<path class=\"bond-228 atom-212 atom-213\" d=\"M 280.5,270.9 L 275.3,275.5\" style=\"fill:none;fill-rule:evenodd;stroke:#000000;stroke-width:2.0px;stroke-linecap:butt;stroke-linejoin:miter;stroke-opacity:1\"/>\n",
       "<path class=\"bond-229 atom-195 atom-197\" d=\"M 312.2,229.7 L 314.7,231.5\" style=\"fill:none;fill-rule:evenodd;stroke:#000000;stroke-width:2.0px;stroke-linecap:butt;stroke-linejoin:miter;stroke-opacity:1\"/>\n",
       "<path class=\"bond-229 atom-195 atom-197\" d=\"M 314.7,231.5 L 317.2,233.3\" style=\"fill:none;fill-rule:evenodd;stroke:#0000FF;stroke-width:2.0px;stroke-linecap:butt;stroke-linejoin:miter;stroke-opacity:1\"/>\n",
       "<path d=\"M 199.1,149.4 L 199.3,149.3 L 199.5,149.5\" style=\"fill:none;stroke:#000000;stroke-width:2.0px;stroke-linecap:butt;stroke-linejoin:miter;stroke-miterlimit:10;stroke-opacity:1;\"/>\n",
       "<path d=\"M 219.8,162.4 L 220.0,162.7 L 220.2,162.7\" style=\"fill:none;stroke:#000000;stroke-width:2.0px;stroke-linecap:butt;stroke-linejoin:miter;stroke-miterlimit:10;stroke-opacity:1;\"/>\n",
       "<path d=\"M 234.9,176.5 L 235.0,177.0 L 235.1,177.1\" style=\"fill:none;stroke:#000000;stroke-width:2.0px;stroke-linecap:butt;stroke-linejoin:miter;stroke-miterlimit:10;stroke-opacity:1;\"/>\n",
       "<path d=\"M 248.8,198.5 L 249.3,198.8 L 249.3,199.0\" style=\"fill:none;stroke:#000000;stroke-width:2.0px;stroke-linecap:butt;stroke-linejoin:miter;stroke-miterlimit:10;stroke-opacity:1;\"/>\n",
       "<path d=\"M 263.9,208.7 L 264.2,208.5 L 264.3,208.3\" style=\"fill:none;stroke:#000000;stroke-width:2.0px;stroke-linecap:butt;stroke-linejoin:miter;stroke-miterlimit:10;stroke-opacity:1;\"/>\n",
       "<path d=\"M 274.5,187.7 L 274.5,187.2 L 274.6,187.1\" style=\"fill:none;stroke:#000000;stroke-width:2.0px;stroke-linecap:butt;stroke-linejoin:miter;stroke-miterlimit:10;stroke-opacity:1;\"/>\n",
       "<path d=\"M 277.5,173.7 L 277.2,173.8 L 277.1,173.7\" style=\"fill:none;stroke:#000000;stroke-width:2.0px;stroke-linecap:butt;stroke-linejoin:miter;stroke-miterlimit:10;stroke-opacity:1;\"/>\n",
       "<path d=\"M 266.2,154.6 L 266.2,154.1 L 266.0,153.9\" style=\"fill:none;stroke:#000000;stroke-width:2.0px;stroke-linecap:butt;stroke-linejoin:miter;stroke-miterlimit:10;stroke-opacity:1;\"/>\n",
       "<path d=\"M 254.5,126.4 L 254.3,126.2 L 254.4,125.9\" style=\"fill:none;stroke:#000000;stroke-width:2.0px;stroke-linecap:butt;stroke-linejoin:miter;stroke-miterlimit:10;stroke-opacity:1;\"/>\n",
       "<path d=\"M 245.7,133.2 L 245.1,132.8 L 245.2,132.7\" style=\"fill:none;stroke:#000000;stroke-width:2.0px;stroke-linecap:butt;stroke-linejoin:miter;stroke-miterlimit:10;stroke-opacity:1;\"/>\n",
       "<path d=\"M 269.0,125.8 L 269.4,126.0 L 269.6,126.0\" style=\"fill:none;stroke:#000000;stroke-width:2.0px;stroke-linecap:butt;stroke-linejoin:miter;stroke-miterlimit:10;stroke-opacity:1;\"/>\n",
       "<path d=\"M 285.1,150.4 L 285.4,150.9 L 285.3,151.0\" style=\"fill:none;stroke:#000000;stroke-width:2.0px;stroke-linecap:butt;stroke-linejoin:miter;stroke-miterlimit:10;stroke-opacity:1;\"/>\n",
       "<path d=\"M 294.1,123.0 L 294.7,122.9 L 294.8,122.8\" style=\"fill:none;stroke:#000000;stroke-width:2.0px;stroke-linecap:butt;stroke-linejoin:miter;stroke-miterlimit:10;stroke-opacity:1;\"/>\n",
       "<path d=\"M 286.3,221.0 L 285.7,220.9 L 285.6,221.0\" style=\"fill:none;stroke:#000000;stroke-width:2.0px;stroke-linecap:butt;stroke-linejoin:miter;stroke-miterlimit:10;stroke-opacity:1;\"/>\n",
       "<path d=\"M 312.3,229.2 L 312.2,229.7 L 312.3,229.8\" style=\"fill:none;stroke:#000000;stroke-width:2.0px;stroke-linecap:butt;stroke-linejoin:miter;stroke-miterlimit:10;stroke-opacity:1;\"/>\n",
       "<path d=\"M 325.3,249.9 L 325.7,250.2 L 325.7,250.4\" style=\"fill:none;stroke:#000000;stroke-width:2.0px;stroke-linecap:butt;stroke-linejoin:miter;stroke-miterlimit:10;stroke-opacity:1;\"/>\n",
       "<path class=\"atom-0\" d=\"M 181.7 147.2 L 183.1 149.5 Q 183.2 149.7, 183.4 150.1 Q 183.7 150.5, 183.7 150.5 L 183.7 147.2 L 184.2 147.2 L 184.2 151.5 L 183.7 151.5 L 182.2 149.0 Q 182.0 148.7, 181.8 148.4 Q 181.6 148.1, 181.6 148.0 L 181.6 151.5 L 181.0 151.5 L 181.0 147.2 L 181.7 147.2 \" fill=\"#0000FF\"/>\n",
       "<path class=\"atom-0\" d=\"M 185.0 148.0 L 185.8 148.0 L 185.8 147.2 L 186.1 147.2 L 186.1 148.0 L 186.9 148.0 L 186.9 148.3 L 186.1 148.3 L 186.1 149.1 L 185.8 149.1 L 185.8 148.3 L 185.0 148.3 L 185.0 148.0 \" fill=\"#0000FF\"/>\n",
       "<path class=\"atom-1\" d=\"M 183.2 144.9 L 183.8 144.9 L 183.8 146.7 L 185.9 146.7 L 185.9 144.9 L 186.5 144.9 L 186.5 149.2 L 185.9 149.2 L 185.9 147.2 L 183.8 147.2 L 183.8 149.2 L 183.2 149.2 L 183.2 144.9 \" fill=\"#000000\"/>\n",
       "<path class=\"atom-2\" d=\"M 182.2 144.7 L 182.8 144.7 L 182.8 146.5 L 184.9 146.5 L 184.9 144.7 L 185.5 144.7 L 185.5 148.9 L 184.9 148.9 L 184.9 147.0 L 182.8 147.0 L 182.8 148.9 L 182.2 148.9 L 182.2 144.7 \" fill=\"#000000\"/>\n",
       "<path class=\"atom-3\" d=\"M 178.0 147.4 L 178.6 147.4 L 178.6 149.2 L 180.8 149.2 L 180.8 147.4 L 181.3 147.4 L 181.3 151.7 L 180.8 151.7 L 180.8 149.7 L 178.6 149.7 L 178.6 151.7 L 178.0 151.7 L 178.0 147.4 \" fill=\"#000000\"/>\n",
       "<path class=\"atom-5\" d=\"M 189.5 134.6 L 190.0 134.6 L 190.0 136.4 L 192.2 136.4 L 192.2 134.6 L 192.8 134.6 L 192.8 138.8 L 192.2 138.8 L 192.2 136.8 L 190.0 136.8 L 190.0 138.8 L 189.5 138.8 L 189.5 134.6 \" fill=\"#000000\"/>\n",
       "<path class=\"atom-7\" d=\"M 193.0 162.2 L 193.6 162.2 L 193.6 164.0 L 195.7 164.0 L 195.7 162.2 L 196.3 162.2 L 196.3 166.4 L 195.7 166.4 L 195.7 164.5 L 193.6 164.5 L 193.6 166.4 L 193.0 166.4 L 193.0 162.2 \" fill=\"#000000\"/>\n",
       "<path class=\"atom-9\" d=\"M 190.2 170.6 L 190.8 170.6 L 190.8 172.4 L 193.0 172.4 L 193.0 170.6 L 193.6 170.6 L 193.6 174.8 L 193.0 174.8 L 193.0 172.9 L 190.8 172.9 L 190.8 174.8 L 190.2 174.8 L 190.2 170.6 \" fill=\"#000000\"/>\n",
       "<path class=\"atom-10\" d=\"M 182.5 176.2 L 183.1 176.2 L 183.1 178.0 L 185.3 178.0 L 185.3 176.2 L 185.8 176.2 L 185.8 180.4 L 185.3 180.4 L 185.3 178.5 L 183.1 178.5 L 183.1 180.4 L 182.5 180.4 L 182.5 176.2 \" fill=\"#000000\"/>\n",
       "<path class=\"atom-11\" d=\"M 172.0 167.7 L 172.6 167.7 L 172.6 169.5 L 174.8 169.5 L 174.8 167.7 L 175.4 167.7 L 175.4 171.9 L 174.8 171.9 L 174.8 170.0 L 172.6 170.0 L 172.6 171.9 L 172.0 171.9 L 172.0 167.7 \" fill=\"#000000\"/>\n",
       "<path class=\"atom-13\" d=\"M 169.4 160.4 L 170.0 160.4 L 170.0 162.2 L 172.1 162.2 L 172.1 160.4 L 172.7 160.4 L 172.7 164.6 L 172.1 164.6 L 172.1 162.7 L 170.0 162.7 L 170.0 164.6 L 169.4 164.6 L 169.4 160.4 \" fill=\"#000000\"/>\n",
       "<path class=\"atom-14\" d=\"M 163.5 153.5 L 164.1 153.5 L 164.1 155.3 L 166.2 155.3 L 166.2 153.5 L 166.8 153.5 L 166.8 157.7 L 166.2 157.7 L 166.2 155.8 L 164.1 155.8 L 164.1 157.7 L 163.5 157.7 L 163.5 153.5 \" fill=\"#000000\"/>\n",
       "<path class=\"atom-16\" d=\"M 183.9 138.6 L 184.4 138.6 L 184.4 140.4 L 186.6 140.4 L 186.6 138.6 L 187.2 138.6 L 187.2 142.8 L 186.6 142.8 L 186.6 140.9 L 184.4 140.9 L 184.4 142.8 L 183.9 142.8 L 183.9 138.6 \" fill=\"#000000\"/>\n",
       "<path class=\"atom-17\" d=\"M 176.7 131.6 L 177.3 131.6 L 177.3 133.4 L 179.5 133.4 L 179.5 131.6 L 180.1 131.6 L 180.1 135.8 L 179.5 135.8 L 179.5 133.9 L 177.3 133.9 L 177.3 135.8 L 176.7 135.8 L 176.7 131.6 \" fill=\"#000000\"/>\n",
       "<path class=\"atom-18\" d=\"M 165.5 137.1 L 166.1 137.1 L 166.1 138.9 L 168.2 138.9 L 168.2 137.1 L 168.8 137.1 L 168.8 141.3 L 168.2 141.3 L 168.2 139.4 L 166.1 139.4 L 166.1 141.3 L 165.5 141.3 L 165.5 137.1 \" fill=\"#000000\"/>\n",
       "<path class=\"atom-20\" d=\"M 199.0 139.8 Q 199.0 138.7, 199.5 138.2 Q 200.0 137.6, 200.9 137.6 Q 201.9 137.6, 202.4 138.2 Q 202.9 138.7, 202.9 139.8 Q 202.9 140.8, 202.4 141.4 Q 201.8 142.0, 200.9 142.0 Q 200.0 142.0, 199.5 141.4 Q 199.0 140.8, 199.0 139.8 M 200.9 141.5 Q 201.6 141.5, 201.9 141.0 Q 202.3 140.6, 202.3 139.8 Q 202.3 138.9, 201.9 138.5 Q 201.6 138.1, 200.9 138.1 Q 200.3 138.1, 199.9 138.5 Q 199.6 138.9, 199.6 139.8 Q 199.6 140.6, 199.9 141.0 Q 200.3 141.5, 200.9 141.5 \" fill=\"#FF0000\"/>\n",
       "<path class=\"atom-21\" d=\"M 204.8 154.4 L 206.2 156.7 Q 206.3 156.9, 206.5 157.3 Q 206.8 157.7, 206.8 157.7 L 206.8 154.4 L 207.3 154.4 L 207.3 158.7 L 206.7 158.7 L 205.3 156.2 Q 205.1 155.9, 204.9 155.6 Q 204.7 155.3, 204.7 155.2 L 204.7 158.7 L 204.1 158.7 L 204.1 154.4 L 204.8 154.4 \" fill=\"#0000FF\"/>\n",
       "<path class=\"atom-22\" d=\"M 200.6 163.4 L 201.2 163.4 L 201.2 165.2 L 203.4 165.2 L 203.4 163.4 L 203.9 163.4 L 203.9 167.6 L 203.4 167.6 L 203.4 165.7 L 201.2 165.7 L 201.2 167.6 L 200.6 167.6 L 200.6 163.4 \" fill=\"#000000\"/>\n",
       "<path class=\"atom-24\" d=\"M 221.8 148.3 L 222.4 148.3 L 222.4 150.1 L 224.5 150.1 L 224.5 148.3 L 225.1 148.3 L 225.1 152.6 L 224.5 152.6 L 224.5 150.6 L 222.4 150.6 L 222.4 152.6 L 221.8 152.6 L 221.8 148.3 \" fill=\"#000000\"/>\n",
       "<path class=\"atom-26\" d=\"M 205.8 144.8 L 206.4 144.8 L 206.4 146.6 L 208.6 146.6 L 208.6 144.8 L 209.2 144.8 L 209.2 149.1 L 208.6 149.1 L 208.6 147.1 L 206.4 147.1 L 206.4 149.1 L 205.8 149.1 L 205.8 144.8 \" fill=\"#000000\"/>\n",
       "<path class=\"atom-27\" d=\"M 207.6 136.2 L 208.2 136.2 L 208.2 138.0 L 210.4 138.0 L 210.4 136.2 L 211.0 136.2 L 211.0 140.4 L 210.4 140.4 L 210.4 138.4 L 208.2 138.4 L 208.2 140.4 L 207.6 140.4 L 207.6 136.2 \" fill=\"#000000\"/>\n",
       "<path class=\"atom-28\" d=\"M 220.9 140.4 Q 220.9 139.4, 221.4 138.8 Q 221.9 138.3, 222.9 138.3 Q 223.8 138.3, 224.3 138.8 Q 224.8 139.4, 224.8 140.4 Q 224.8 141.5, 224.3 142.0 Q 223.8 142.6, 222.9 142.6 Q 221.9 142.6, 221.4 142.0 Q 220.9 141.5, 220.9 140.4 M 222.9 142.1 Q 223.5 142.1, 223.9 141.7 Q 224.2 141.3, 224.2 140.4 Q 224.2 139.6, 223.9 139.2 Q 223.5 138.7, 222.9 138.7 Q 222.2 138.7, 221.9 139.2 Q 221.5 139.6, 221.5 140.4 Q 221.5 141.3, 221.9 141.7 Q 222.2 142.1, 222.9 142.1 \" fill=\"#FF0000\"/>\n",
       "<path class=\"atom-29\" d=\"M 220.0 128.6 L 220.6 128.6 L 220.6 130.4 L 222.8 130.4 L 222.8 128.6 L 223.3 128.6 L 223.3 132.9 L 222.8 132.9 L 222.8 130.9 L 220.6 130.9 L 220.6 132.9 L 220.0 132.9 L 220.0 128.6 \" fill=\"#000000\"/>\n",
       "<path class=\"atom-31\" d=\"M 213.8 171.6 Q 213.8 170.6, 214.3 170.0 Q 214.8 169.4, 215.7 169.4 Q 216.7 169.4, 217.2 170.0 Q 217.7 170.6, 217.7 171.6 Q 217.7 172.6, 217.2 173.2 Q 216.7 173.8, 215.7 173.8 Q 214.8 173.8, 214.3 173.2 Q 213.8 172.6, 213.8 171.6 M 215.7 173.3 Q 216.4 173.3, 216.7 172.9 Q 217.1 172.4, 217.1 171.6 Q 217.1 170.7, 216.7 170.3 Q 216.4 169.9, 215.7 169.9 Q 215.1 169.9, 214.7 170.3 Q 214.4 170.7, 214.4 171.6 Q 214.4 172.4, 214.7 172.9 Q 215.1 173.3, 215.7 173.3 \" fill=\"#FF0000\"/>\n",
       "<path class=\"atom-32\" d=\"M 228.1 159.4 L 229.5 161.7 Q 229.6 161.9, 229.8 162.3 Q 230.0 162.7, 230.0 162.7 L 230.0 159.4 L 230.6 159.4 L 230.6 163.7 L 230.0 163.7 L 228.5 161.2 Q 228.4 160.9, 228.2 160.6 Q 228.0 160.3, 227.9 160.2 L 227.9 163.7 L 227.4 163.7 L 227.4 159.4 L 228.1 159.4 \" fill=\"#0000FF\"/>\n",
       "<path class=\"atom-33\" d=\"M 231.0 150.9 L 231.5 150.9 L 231.5 152.7 L 233.7 152.7 L 233.7 150.9 L 234.3 150.9 L 234.3 155.2 L 233.7 155.2 L 233.7 153.2 L 231.5 153.2 L 231.5 155.2 L 231.0 155.2 L 231.0 150.9 \" fill=\"#000000\"/>\n",
       "<path class=\"atom-35\" d=\"M 223.5 167.7 L 224.1 167.7 L 224.1 169.5 L 226.2 169.5 L 226.2 167.7 L 226.8 167.7 L 226.8 172.0 L 226.2 172.0 L 226.2 170.0 L 224.1 170.0 L 224.1 172.0 L 223.5 172.0 L 223.5 167.7 \" fill=\"#000000\"/>\n",
       "<path class=\"atom-37\" d=\"M 246.0 157.6 L 246.5 157.6 L 246.5 159.4 L 248.7 159.4 L 248.7 157.6 L 249.3 157.6 L 249.3 161.9 L 248.7 161.9 L 248.7 159.9 L 246.5 159.9 L 246.5 161.9 L 246.0 161.9 L 246.0 157.6 \" fill=\"#000000\"/>\n",
       "<path class=\"atom-39\" d=\"M 254.1 166.9 L 254.6 166.9 L 254.6 168.7 L 256.8 168.7 L 256.8 166.9 L 257.4 166.9 L 257.4 171.2 L 256.8 171.2 L 256.8 169.2 L 254.6 169.2 L 254.6 171.2 L 254.1 171.2 L 254.1 166.9 \" fill=\"#000000\"/>\n",
       "<path class=\"atom-40\" d=\"M 253.0 174.3 L 253.5 174.3 L 253.5 176.1 L 255.7 176.1 L 255.7 174.3 L 256.3 174.3 L 256.3 178.5 L 255.7 178.5 L 255.7 176.6 L 253.5 176.6 L 253.5 178.5 L 253.0 178.5 L 253.0 174.3 \" fill=\"#000000\"/>\n",
       "<path class=\"atom-41\" d=\"M 242.1 173.3 L 242.7 173.3 L 242.7 175.2 L 244.9 175.2 L 244.9 173.3 L 245.4 173.3 L 245.4 177.6 L 244.9 177.6 L 244.9 175.6 L 242.7 175.6 L 242.7 177.6 L 242.1 177.6 L 242.1 173.3 \" fill=\"#000000\"/>\n",
       "<path class=\"atom-42\" d=\"M 253.8 113.1 Q 253.8 112.1, 254.3 111.5 Q 254.8 111.0, 255.7 111.0 Q 256.7 111.0, 257.2 111.5 Q 257.7 112.1, 257.7 113.1 Q 257.7 114.2, 257.2 114.7 Q 256.7 115.3, 255.7 115.3 Q 254.8 115.3, 254.3 114.7 Q 253.8 114.2, 253.8 113.1 M 255.7 114.8 Q 256.4 114.8, 256.7 114.4 Q 257.1 114.0, 257.1 113.1 Q 257.1 112.3, 256.7 111.9 Q 256.4 111.4, 255.7 111.4 Q 255.1 111.4, 254.7 111.9 Q 254.4 112.3, 254.4 113.1 Q 254.4 114.0, 254.7 114.4 Q 255.1 114.8, 255.7 114.8 \" fill=\"#FF0000\"/>\n",
       "<path class=\"atom-44\" d=\"M 225.0 180.8 Q 225.0 179.8, 225.5 179.2 Q 226.0 178.6, 226.9 178.6 Q 227.8 178.6, 228.4 179.2 Q 228.9 179.8, 228.9 180.8 Q 228.9 181.8, 228.3 182.4 Q 227.8 183.0, 226.9 183.0 Q 226.0 183.0, 225.5 182.4 Q 225.0 181.8, 225.0 180.8 M 226.9 182.5 Q 227.6 182.5, 227.9 182.1 Q 228.3 181.6, 228.3 180.8 Q 228.3 180.0, 227.9 179.5 Q 227.6 179.1, 226.9 179.1 Q 226.3 179.1, 225.9 179.5 Q 225.6 179.9, 225.6 180.8 Q 225.6 181.6, 225.9 182.1 Q 226.3 182.5, 226.9 182.5 \" fill=\"#FF0000\"/>\n",
       "<path class=\"atom-45\" d=\"M 242.9 182.8 L 244.3 185.1 Q 244.4 185.3, 244.7 185.7 Q 244.9 186.1, 244.9 186.1 L 244.9 182.8 L 245.5 182.8 L 245.5 187.1 L 244.9 187.1 L 243.4 184.6 Q 243.2 184.3, 243.0 184.0 Q 242.8 183.6, 242.8 183.5 L 242.8 187.1 L 242.2 187.1 L 242.2 182.8 L 242.9 182.8 \" fill=\"#0000FF\"/>\n",
       "<path class=\"atom-46\" d=\"M 251.4 181.8 L 252.0 181.8 L 252.0 183.6 L 254.1 183.6 L 254.1 181.8 L 254.7 181.8 L 254.7 186.1 L 254.1 186.1 L 254.1 184.1 L 252.0 184.1 L 252.0 186.1 L 251.4 186.1 L 251.4 181.8 \" fill=\"#000000\"/>\n",
       "<path class=\"atom-48\" d=\"M 234.9 198.1 L 235.5 198.1 L 235.5 199.9 L 237.7 199.9 L 237.7 198.1 L 238.3 198.1 L 238.3 202.4 L 237.7 202.4 L 237.7 200.4 L 235.5 200.4 L 235.5 202.4 L 234.9 202.4 L 234.9 198.1 \" fill=\"#000000\"/>\n",
       "<path class=\"atom-50\" d=\"M 233.1 184.1 L 233.7 184.1 L 233.7 185.9 L 235.9 185.9 L 235.9 184.1 L 236.4 184.1 L 236.4 188.3 L 235.9 188.3 L 235.9 186.3 L 233.7 186.3 L 233.7 188.3 L 233.1 188.3 L 233.1 184.1 \" fill=\"#000000\"/>\n",
       "<path class=\"atom-51\" d=\"M 224.4 186.3 L 224.9 186.3 L 224.9 188.1 L 227.1 188.1 L 227.1 186.3 L 227.7 186.3 L 227.7 190.6 L 227.1 190.6 L 227.1 188.6 L 224.9 188.6 L 224.9 190.6 L 224.4 190.6 L 224.4 186.3 \" fill=\"#000000\"/>\n",
       "<path class=\"atom-53\" d=\"M 217.3 192.6 L 217.9 192.6 L 217.9 194.4 L 220.1 194.4 L 220.1 192.6 L 220.7 192.6 L 220.7 196.9 L 220.1 196.9 L 220.1 194.9 L 217.9 194.9 L 217.9 196.9 L 217.3 196.9 L 217.3 192.6 \" fill=\"#000000\"/>\n",
       "<path class=\"atom-54\" d=\"M 215.1 201.7 L 215.6 201.7 L 215.6 203.5 L 217.8 203.5 L 217.8 201.7 L 218.4 201.7 L 218.4 206.0 L 217.8 206.0 L 217.8 204.0 L 215.6 204.0 L 215.6 206.0 L 215.1 206.0 L 215.1 201.7 \" fill=\"#000000\"/>\n",
       "<path class=\"atom-56\" d=\"M 239.8 203.3 L 240.4 203.3 L 240.4 205.1 L 242.5 205.1 L 242.5 203.3 L 243.1 203.3 L 243.1 207.5 L 242.5 207.5 L 242.5 205.6 L 240.4 205.6 L 240.4 207.5 L 239.8 207.5 L 239.8 203.3 \" fill=\"#000000\"/>\n",
       "<path class=\"atom-57\" d=\"M 231.4 211.4 L 232.0 211.4 L 232.0 213.2 L 234.2 213.2 L 234.2 211.4 L 234.8 211.4 L 234.8 215.7 L 234.2 215.7 L 234.2 213.7 L 232.0 213.7 L 232.0 215.7 L 231.4 215.7 L 231.4 211.4 \" fill=\"#000000\"/>\n",
       "<path class=\"atom-58\" d=\"M 222.3 216.0 L 223.7 218.2 Q 223.8 218.5, 224.1 218.9 Q 224.3 219.3, 224.3 219.3 L 224.3 216.0 L 224.9 216.0 L 224.9 220.2 L 224.3 220.2 L 222.8 217.8 Q 222.6 217.5, 222.4 217.2 Q 222.2 216.8, 222.2 216.7 L 222.2 220.2 L 221.6 220.2 L 221.6 216.0 L 222.3 216.0 \" fill=\"#0000FF\"/>\n",
       "<path class=\"atom-59\" d=\"M 212.1 212.9 L 212.7 212.9 L 212.7 214.7 L 214.9 214.7 L 214.9 212.9 L 215.4 212.9 L 215.4 217.1 L 214.9 217.1 L 214.9 215.1 L 212.7 215.1 L 212.7 217.1 L 212.1 217.1 L 212.1 212.9 \" fill=\"#000000\"/>\n",
       "<path class=\"atom-61\" d=\"M 217.6 230.2 L 219.0 232.4 Q 219.1 232.6, 219.3 233.0 Q 219.5 233.4, 219.6 233.5 L 219.6 230.2 L 220.1 230.2 L 220.1 234.4 L 219.5 234.4 L 218.0 232.0 Q 217.9 231.7, 217.7 231.3 Q 217.5 231.0, 217.4 230.9 L 217.4 234.4 L 216.9 234.4 L 216.9 230.2 L 217.6 230.2 \" fill=\"#0000FF\"/>\n",
       "<path class=\"atom-62\" d=\"M 219.1 239.3 L 219.7 239.3 L 219.7 241.1 L 221.9 241.1 L 221.9 239.3 L 222.5 239.3 L 222.5 243.5 L 221.9 243.5 L 221.9 241.6 L 219.7 241.6 L 219.7 243.5 L 219.1 243.5 L 219.1 239.3 \" fill=\"#000000\"/>\n",
       "<path class=\"atom-63\" d=\"M 207.6 227.3 L 208.1 227.3 L 208.1 229.1 L 210.3 229.1 L 210.3 227.3 L 210.9 227.3 L 210.9 231.6 L 210.3 231.6 L 210.3 229.6 L 208.1 229.6 L 208.1 231.6 L 207.6 231.6 L 207.6 227.3 \" fill=\"#000000\"/>\n",
       "<path class=\"atom-64\" d=\"M 233.1 226.4 L 234.5 228.7 Q 234.7 228.9, 234.9 229.3 Q 235.1 229.7, 235.1 229.7 L 235.1 226.4 L 235.7 226.4 L 235.7 230.7 L 235.1 230.7 L 233.6 228.2 Q 233.4 227.9, 233.3 227.6 Q 233.1 227.3, 233.0 227.2 L 233.0 230.7 L 232.5 230.7 L 232.5 226.4 L 233.1 226.4 \" fill=\"#0000FF\"/>\n",
       "<path class=\"atom-64\" d=\"M 236.5 227.2 L 237.2 227.2 L 237.2 226.4 L 237.6 226.4 L 237.6 227.2 L 238.3 227.2 L 238.3 227.5 L 237.6 227.5 L 237.6 228.3 L 237.2 228.3 L 237.2 227.5 L 236.5 227.5 L 236.5 227.2 \" fill=\"#0000FF\"/>\n",
       "<path class=\"atom-65\" d=\"M 234.9 235.3 L 235.5 235.3 L 235.5 237.1 L 237.7 237.1 L 237.7 235.3 L 238.2 235.3 L 238.2 239.5 L 237.7 239.5 L 237.7 237.6 L 235.5 237.6 L 235.5 239.5 L 234.9 239.5 L 234.9 235.3 \" fill=\"#000000\"/>\n",
       "<path class=\"atom-66\" d=\"M 238.7 220.0 L 239.3 220.0 L 239.3 221.8 L 241.5 221.8 L 241.5 220.0 L 242.1 220.0 L 242.1 224.3 L 241.5 224.3 L 241.5 222.3 L 239.3 222.3 L 239.3 224.3 L 238.7 224.3 L 238.7 220.0 \" fill=\"#000000\"/>\n",
       "<path class=\"atom-68\" d=\"M 256.8 193.6 Q 256.8 192.6, 257.3 192.0 Q 257.8 191.4, 258.7 191.4 Q 259.7 191.4, 260.2 192.0 Q 260.7 192.6, 260.7 193.6 Q 260.7 194.6, 260.2 195.2 Q 259.7 195.8, 258.7 195.8 Q 257.8 195.8, 257.3 195.2 Q 256.8 194.6, 256.8 193.6 M 258.7 195.3 Q 259.4 195.3, 259.7 194.9 Q 260.1 194.4, 260.1 193.6 Q 260.1 192.7, 259.7 192.3 Q 259.4 191.9, 258.7 191.9 Q 258.1 191.9, 257.7 192.3 Q 257.4 192.7, 257.4 193.6 Q 257.4 194.4, 257.7 194.9 Q 258.1 195.3, 258.7 195.3 \" fill=\"#FF0000\"/>\n",
       "<path class=\"atom-69\" d=\"M 248.5 205.4 L 249.9 207.7 Q 250.0 207.9, 250.2 208.3 Q 250.4 208.7, 250.5 208.7 L 250.5 205.4 L 251.0 205.4 L 251.0 209.7 L 250.4 209.7 L 248.9 207.2 Q 248.8 206.9, 248.6 206.6 Q 248.4 206.3, 248.4 206.2 L 248.4 209.7 L 247.8 209.7 L 247.8 205.4 L 248.5 205.4 \" fill=\"#0000FF\"/>\n",
       "<path class=\"atom-70\" d=\"M 239.1 212.4 L 239.6 212.4 L 239.6 214.2 L 241.8 214.2 L 241.8 212.4 L 242.4 212.4 L 242.4 216.6 L 241.8 216.6 L 241.8 214.6 L 239.6 214.6 L 239.6 216.6 L 239.1 216.6 L 239.1 212.4 \" fill=\"#000000\"/>\n",
       "<path class=\"atom-72\" d=\"M 259.1 213.9 L 259.7 213.9 L 259.7 215.7 L 261.9 215.7 L 261.9 213.9 L 262.4 213.9 L 262.4 218.1 L 261.9 218.1 L 261.9 216.2 L 259.7 216.2 L 259.7 218.1 L 259.1 218.1 L 259.1 213.9 \" fill=\"#000000\"/>\n",
       "<path class=\"atom-74\" d=\"M 246.3 215.0 L 246.9 215.0 L 246.9 216.8 L 249.0 216.8 L 249.0 215.0 L 249.6 215.0 L 249.6 219.3 L 249.0 219.3 L 249.0 217.3 L 246.9 217.3 L 246.9 219.3 L 246.3 219.3 L 246.3 215.0 \" fill=\"#000000\"/>\n",
       "<path class=\"atom-75\" d=\"M 244.5 225.0 L 245.1 225.0 L 245.1 226.8 L 247.3 226.8 L 247.3 225.0 L 247.9 225.0 L 247.9 229.3 L 247.3 229.3 L 247.3 227.3 L 245.1 227.3 L 245.1 229.3 L 244.5 229.3 L 244.5 225.0 \" fill=\"#000000\"/>\n",
       "<path class=\"atom-77\" d=\"M 244.7 232.9 L 245.3 232.9 L 245.3 234.7 L 247.5 234.7 L 247.5 232.9 L 248.1 232.9 L 248.1 237.2 L 247.5 237.2 L 247.5 235.2 L 245.3 235.2 L 245.3 237.2 L 244.7 237.2 L 244.7 232.9 \" fill=\"#000000\"/>\n",
       "<path class=\"atom-78\" d=\"M 251.1 239.5 L 251.7 239.5 L 251.7 241.3 L 253.9 241.3 L 253.9 239.5 L 254.5 239.5 L 254.5 243.7 L 253.9 243.7 L 253.9 241.8 L 251.7 241.8 L 251.7 243.7 L 251.1 243.7 L 251.1 239.5 \" fill=\"#000000\"/>\n",
       "<path class=\"atom-80\" d=\"M 259.7 242.7 L 260.3 242.7 L 260.3 244.5 L 262.5 244.5 L 262.5 242.7 L 263.1 242.7 L 263.1 246.9 L 262.5 246.9 L 262.5 244.9 L 260.3 244.9 L 260.3 246.9 L 259.7 246.9 L 259.7 242.7 \" fill=\"#000000\"/>\n",
       "<path class=\"atom-81\" d=\"M 268.5 240.2 L 269.1 240.2 L 269.1 242.1 L 271.3 242.1 L 271.3 240.2 L 271.8 240.2 L 271.8 244.5 L 271.3 244.5 L 271.3 242.5 L 269.1 242.5 L 269.1 244.5 L 268.5 244.5 L 268.5 240.2 \" fill=\"#000000\"/>\n",
       "<path class=\"atom-83\" d=\"M 270.4 218.7 L 271.0 218.7 L 271.0 220.5 L 273.2 220.5 L 273.2 218.7 L 273.8 218.7 L 273.8 223.0 L 273.2 223.0 L 273.2 221.0 L 271.0 221.0 L 271.0 223.0 L 270.4 223.0 L 270.4 218.7 \" fill=\"#000000\"/>\n",
       "<path class=\"atom-84\" d=\"M 260.1 221.5 L 260.7 221.5 L 260.7 223.3 L 262.9 223.3 L 262.9 221.5 L 263.4 221.5 L 263.4 225.8 L 262.9 225.8 L 262.9 223.8 L 260.7 223.8 L 260.7 225.8 L 260.1 225.8 L 260.1 221.5 \" fill=\"#000000\"/>\n",
       "<path class=\"atom-85\" d=\"M 280.6 226.1 L 282.0 228.4 Q 282.1 228.6, 282.3 229.0 Q 282.6 229.4, 282.6 229.4 L 282.6 226.1 L 283.1 226.1 L 283.1 230.4 L 282.6 230.4 L 281.1 227.9 Q 280.9 227.6, 280.7 227.3 Q 280.5 227.0, 280.5 226.9 L 280.5 230.4 L 279.9 230.4 L 279.9 226.1 L 280.6 226.1 \" fill=\"#0000FF\"/>\n",
       "<path class=\"atom-86\" d=\"M 283.4 233.8 L 284.0 233.8 L 284.0 235.6 L 286.2 235.6 L 286.2 233.8 L 286.8 233.8 L 286.8 238.0 L 286.2 238.0 L 286.2 236.0 L 284.0 236.0 L 284.0 238.0 L 283.4 238.0 L 283.4 233.8 \" fill=\"#000000\"/>\n",
       "<path class=\"atom-88\" d=\"M 269.0 215.1 Q 269.0 214.1, 269.5 213.5 Q 270.0 212.9, 271.0 212.9 Q 271.9 212.9, 272.4 213.5 Q 272.9 214.1, 272.9 215.1 Q 272.9 216.1, 272.4 216.7 Q 271.9 217.3, 271.0 217.3 Q 270.0 217.3, 269.5 216.7 Q 269.0 216.1, 269.0 215.1 M 271.0 216.8 Q 271.6 216.8, 272.0 216.4 Q 272.3 215.9, 272.3 215.1 Q 272.3 214.2, 272.0 213.8 Q 271.6 213.4, 271.0 213.4 Q 270.3 213.4, 270.0 213.8 Q 269.6 214.2, 269.6 215.1 Q 269.6 215.9, 270.0 216.4 Q 270.3 216.8, 271.0 216.8 \" fill=\"#FF0000\"/>\n",
       "<path class=\"atom-89\" d=\"M 266.1 195.8 L 267.5 198.0 Q 267.6 198.3, 267.9 198.7 Q 268.1 199.1, 268.1 199.1 L 268.1 195.8 L 268.7 195.8 L 268.7 200.0 L 268.1 200.0 L 266.6 197.6 Q 266.4 197.3, 266.2 197.0 Q 266.1 196.6, 266.0 196.5 L 266.0 200.0 L 265.4 200.0 L 265.4 195.8 L 266.1 195.8 \" fill=\"#0000FF\"/>\n",
       "<path class=\"atom-90\" d=\"M 262.0 197.6 L 262.6 197.6 L 262.6 199.4 L 264.8 199.4 L 264.8 197.6 L 265.4 197.6 L 265.4 201.8 L 264.8 201.8 L 264.8 199.8 L 262.6 199.8 L 262.6 201.8 L 262.0 201.8 L 262.0 197.6 \" fill=\"#000000\"/>\n",
       "<path class=\"atom-92\" d=\"M 281.1 196.4 L 281.7 196.4 L 281.7 198.2 L 283.9 198.2 L 283.9 196.4 L 284.5 196.4 L 284.5 200.7 L 283.9 200.7 L 283.9 198.7 L 281.7 198.7 L 281.7 200.7 L 281.1 200.7 L 281.1 196.4 \" fill=\"#000000\"/>\n",
       "<path class=\"atom-94\" d=\"M 270.5 203.7 L 271.1 203.7 L 271.1 205.5 L 273.2 205.5 L 273.2 203.7 L 273.8 203.7 L 273.8 208.0 L 273.2 208.0 L 273.2 206.0 L 271.1 206.0 L 271.1 208.0 L 270.5 208.0 L 270.5 203.7 \" fill=\"#000000\"/>\n",
       "<path class=\"atom-95\" d=\"M 276.6 211.2 L 277.2 211.2 L 277.2 213.0 L 279.3 213.0 L 279.3 211.2 L 279.9 211.2 L 279.9 215.5 L 279.3 215.5 L 279.3 213.5 L 277.2 213.5 L 277.2 215.5 L 276.6 215.5 L 276.6 211.2 \" fill=\"#000000\"/>\n",
       "<path class=\"atom-98\" d=\"M 281.2 188.9 L 281.8 188.9 L 281.8 190.7 L 284.0 190.7 L 284.0 188.9 L 284.6 188.9 L 284.6 193.1 L 284.0 193.1 L 284.0 191.2 L 281.8 191.2 L 281.8 193.1 L 281.2 193.1 L 281.2 188.9 \" fill=\"#000000\"/>\n",
       "<path class=\"atom-100\" d=\"M 302.8 181.8 L 303.4 181.8 L 303.4 183.6 L 305.6 183.6 L 305.6 181.8 L 306.1 181.8 L 306.1 186.0 L 305.6 186.0 L 305.6 184.0 L 303.4 184.0 L 303.4 186.0 L 302.8 186.0 L 302.8 181.8 \" fill=\"#000000\"/>\n",
       "<path class=\"atom-102\" d=\"M 317.5 195.5 Q 317.5 194.5, 318.0 194.0 Q 318.5 193.4, 319.5 193.4 Q 320.4 193.4, 320.9 194.0 Q 321.4 194.5, 321.4 195.5 Q 321.4 196.6, 320.9 197.2 Q 320.4 197.8, 319.5 197.8 Q 318.5 197.8, 318.0 197.2 Q 317.5 196.6, 317.5 195.5 M 319.5 197.3 Q 320.1 197.3, 320.4 196.8 Q 320.8 196.4, 320.8 195.5 Q 320.8 194.7, 320.4 194.3 Q 320.1 193.9, 319.5 193.9 Q 318.8 193.9, 318.5 194.3 Q 318.1 194.7, 318.1 195.5 Q 318.1 196.4, 318.5 196.8 Q 318.8 197.3, 319.5 197.3 \" fill=\"#FF0000\"/>\n",
       "<path class=\"atom-103\" d=\"M 323.3 200.9 L 323.9 200.9 L 323.9 202.7 L 326.1 202.7 L 326.1 200.9 L 326.7 200.9 L 326.7 205.1 L 326.1 205.1 L 326.1 203.2 L 323.9 203.2 L 323.9 205.1 L 323.3 205.1 L 323.3 200.9 \" fill=\"#000000\"/>\n",
       "<path class=\"atom-105\" d=\"M 300.1 205.4 L 300.7 205.4 L 300.7 207.2 L 302.8 207.2 L 302.8 205.4 L 303.4 205.4 L 303.4 209.7 L 302.8 209.7 L 302.8 207.7 L 300.7 207.7 L 300.7 209.7 L 300.1 209.7 L 300.1 205.4 \" fill=\"#000000\"/>\n",
       "<path class=\"atom-107\" d=\"M 295.0 206.9 L 295.6 206.9 L 295.6 208.7 L 297.8 208.7 L 297.8 206.9 L 298.4 206.9 L 298.4 211.1 L 297.8 211.1 L 297.8 209.2 L 295.6 209.2 L 295.6 211.1 L 295.0 211.1 L 295.0 206.9 \" fill=\"#000000\"/>\n",
       "<path class=\"atom-109\" d=\"M 263.7 183.2 Q 263.7 182.2, 264.2 181.6 Q 264.7 181.0, 265.6 181.0 Q 266.6 181.0, 267.1 181.6 Q 267.6 182.2, 267.6 183.2 Q 267.6 184.2, 267.1 184.8 Q 266.6 185.4, 265.6 185.4 Q 264.7 185.4, 264.2 184.8 Q 263.7 184.2, 263.7 183.2 M 265.6 184.9 Q 266.3 184.9, 266.6 184.5 Q 267.0 184.1, 267.0 183.2 Q 267.0 182.4, 266.6 181.9 Q 266.3 181.5, 265.6 181.5 Q 265.0 181.5, 264.6 181.9 Q 264.3 182.4, 264.3 183.2 Q 264.3 184.1, 264.6 184.5 Q 265.0 184.9, 265.6 184.9 \" fill=\"#FF0000\"/>\n",
       "<path class=\"atom-110\" d=\"M 282.5 179.1 L 283.9 181.4 Q 284.0 181.6, 284.3 182.0 Q 284.5 182.4, 284.5 182.4 L 284.5 179.1 L 285.0 179.1 L 285.0 183.4 L 284.5 183.4 L 283.0 180.9 Q 282.8 180.6, 282.6 180.3 Q 282.4 180.0, 282.4 179.9 L 282.4 183.4 L 281.8 183.4 L 281.8 179.1 L 282.5 179.1 \" fill=\"#0000FF\"/>\n",
       "<path class=\"atom-112\" d=\"M 288.2 184.8 L 288.8 184.8 L 288.8 186.6 L 291.0 186.6 L 291.0 184.8 L 291.5 184.8 L 291.5 189.1 L 291.0 189.1 L 291.0 187.1 L 288.8 187.1 L 288.8 189.1 L 288.2 189.1 L 288.2 184.8 \" fill=\"#000000\"/>\n",
       "<path class=\"atom-113\" d=\"M 291.6 185.5 L 292.2 185.5 L 292.2 187.3 L 294.4 187.3 L 294.4 185.5 L 295.0 185.5 L 295.0 189.8 L 294.4 189.8 L 294.4 187.8 L 292.2 187.8 L 292.2 189.8 L 291.6 189.8 L 291.6 185.5 \" fill=\"#000000\"/>\n",
       "<path class=\"atom-115\" d=\"M 296.6 180.2 L 297.2 180.2 L 297.2 182.0 L 299.3 182.0 L 299.3 180.2 L 299.9 180.2 L 299.9 184.4 L 299.3 184.4 L 299.3 182.4 L 297.2 182.4 L 297.2 184.4 L 296.6 184.4 L 296.6 180.2 \" fill=\"#000000\"/>\n",
       "<path class=\"atom-116\" d=\"M 298.8 175.2 L 299.3 175.2 L 299.3 177.0 L 301.5 177.0 L 301.5 175.2 L 302.1 175.2 L 302.1 179.4 L 301.5 179.4 L 301.5 177.5 L 299.3 177.5 L 299.3 179.4 L 298.8 179.4 L 298.8 175.2 \" fill=\"#000000\"/>\n",
       "<path class=\"atom-118\" d=\"M 298.4 167.4 L 299.0 167.4 L 299.0 169.2 L 301.1 169.2 L 301.1 167.4 L 301.7 167.4 L 301.7 171.6 L 301.1 171.6 L 301.1 169.7 L 299.0 169.7 L 299.0 171.6 L 298.4 171.6 L 298.4 167.4 \" fill=\"#000000\"/>\n",
       "<path class=\"atom-119\" d=\"M 290.7 159.7 L 291.2 159.7 L 291.2 161.5 L 293.4 161.5 L 293.4 159.7 L 294.0 159.7 L 294.0 164.0 L 293.4 164.0 L 293.4 162.0 L 291.2 162.0 L 291.2 164.0 L 290.7 164.0 L 290.7 159.7 \" fill=\"#000000\"/>\n",
       "<path class=\"atom-121\" d=\"M 283.2 162.2 L 283.8 162.2 L 283.8 164.0 L 286.0 164.0 L 286.0 162.2 L 286.6 162.2 L 286.6 166.4 L 286.0 166.4 L 286.0 164.5 L 283.8 164.5 L 283.8 166.4 L 283.2 166.4 L 283.2 162.2 \" fill=\"#000000\"/>\n",
       "<path class=\"atom-123\" d=\"M 271.8 178.5 Q 271.8 177.5, 272.3 176.9 Q 272.8 176.3, 273.8 176.3 Q 274.7 176.3, 275.2 176.9 Q 275.7 177.5, 275.7 178.5 Q 275.7 179.5, 275.2 180.1 Q 274.7 180.7, 273.8 180.7 Q 272.8 180.7, 272.3 180.1 Q 271.8 179.5, 271.8 178.5 M 273.8 180.2 Q 274.4 180.2, 274.8 179.8 Q 275.1 179.3, 275.1 178.5 Q 275.1 177.7, 274.8 177.2 Q 274.4 176.8, 273.8 176.8 Q 273.1 176.8, 272.8 177.2 Q 272.4 177.6, 272.4 178.5 Q 272.4 179.3, 272.8 179.8 Q 273.1 180.2, 273.8 180.2 \" fill=\"#FF0000\"/>\n",
       "<path class=\"atom-124\" d=\"M 271.5 165.8 L 272.9 168.1 Q 273.0 168.3, 273.2 168.7 Q 273.5 169.1, 273.5 169.1 L 273.5 165.8 L 274.0 165.8 L 274.0 170.1 L 273.5 170.1 L 272.0 167.6 Q 271.8 167.3, 271.6 167.0 Q 271.4 166.6, 271.4 166.5 L 271.4 170.1 L 270.8 170.1 L 270.8 165.8 L 271.5 165.8 \" fill=\"#0000FF\"/>\n",
       "<path class=\"atom-125\" d=\"M 274.2 164.1 L 274.8 164.1 L 274.8 166.0 L 276.9 166.0 L 276.9 164.1 L 277.5 164.1 L 277.5 168.4 L 276.9 168.4 L 276.9 166.4 L 274.8 166.4 L 274.8 168.4 L 274.2 168.4 L 274.2 164.1 \" fill=\"#000000\"/>\n",
       "<path class=\"atom-127\" d=\"M 260.5 171.5 L 261.1 171.5 L 261.1 173.3 L 263.3 173.3 L 263.3 171.5 L 263.9 171.5 L 263.9 175.7 L 263.3 175.7 L 263.3 173.7 L 261.1 173.7 L 261.1 175.7 L 260.5 175.7 L 260.5 171.5 \" fill=\"#000000\"/>\n",
       "<path class=\"atom-129\" d=\"M 252.3 155.3 L 252.9 155.3 L 252.9 157.1 L 255.0 157.1 L 255.0 155.3 L 255.6 155.3 L 255.6 159.5 L 255.0 159.5 L 255.0 157.6 L 252.9 157.6 L 252.9 159.5 L 252.3 159.5 L 252.3 155.3 \" fill=\"#000000\"/>\n",
       "<path class=\"atom-130\" d=\"M 249.7 162.5 L 250.3 162.5 L 250.3 164.3 L 252.5 164.3 L 252.5 162.5 L 253.1 162.5 L 253.1 166.7 L 252.5 166.7 L 252.5 164.8 L 250.3 164.8 L 250.3 166.7 L 249.7 166.7 L 249.7 162.5 \" fill=\"#000000\"/>\n",
       "<path class=\"atom-131\" d=\"M 277.1 159.3 Q 277.1 158.3, 277.6 157.7 Q 278.1 157.1, 279.1 157.1 Q 280.0 157.1, 280.5 157.7 Q 281.0 158.3, 281.0 159.3 Q 281.0 160.3, 280.5 160.9 Q 280.0 161.5, 279.1 161.5 Q 278.1 161.5, 277.6 160.9 Q 277.1 160.3, 277.1 159.3 M 279.1 161.0 Q 279.7 161.0, 280.1 160.6 Q 280.4 160.1, 280.4 159.3 Q 280.4 158.5, 280.1 158.0 Q 279.7 157.6, 279.1 157.6 Q 278.4 157.6, 278.1 158.0 Q 277.7 158.4, 277.7 159.3 Q 277.7 160.1, 278.1 160.6 Q 278.4 161.0, 279.1 161.0 \" fill=\"#FF0000\"/>\n",
       "<path class=\"atom-133\" d=\"M 273.0 152.5 Q 273.0 151.5, 273.5 150.9 Q 274.0 150.3, 274.9 150.3 Q 275.9 150.3, 276.4 150.9 Q 276.9 151.5, 276.9 152.5 Q 276.9 153.5, 276.4 154.1 Q 275.9 154.7, 274.9 154.7 Q 274.0 154.7, 273.5 154.1 Q 273.0 153.5, 273.0 152.5 M 274.9 154.2 Q 275.6 154.2, 275.9 153.8 Q 276.3 153.4, 276.3 152.5 Q 276.3 151.7, 275.9 151.3 Q 275.6 150.8, 274.9 150.8 Q 274.3 150.8, 273.9 151.2 Q 273.6 151.7, 273.6 152.5 Q 273.6 153.4, 273.9 153.8 Q 274.3 154.2, 274.9 154.2 \" fill=\"#FF0000\"/>\n",
       "<path class=\"atom-134\" d=\"M 253.6 144.5 L 255.0 146.7 Q 255.1 147.0, 255.3 147.4 Q 255.6 147.8, 255.6 147.8 L 255.6 144.5 L 256.1 144.5 L 256.1 148.7 L 255.5 148.7 L 254.1 146.3 Q 253.9 146.0, 253.7 145.7 Q 253.5 145.3, 253.5 145.2 L 253.5 148.7 L 252.9 148.7 L 252.9 144.5 L 253.6 144.5 \" fill=\"#0000FF\"/>\n",
       "<path class=\"atom-135\" d=\"M 249.5 150.1 L 250.1 150.1 L 250.1 151.9 L 252.3 151.9 L 252.3 150.1 L 252.9 150.1 L 252.9 154.3 L 252.3 154.3 L 252.3 152.4 L 250.1 152.4 L 250.1 154.3 L 249.5 154.3 L 249.5 150.1 \" fill=\"#000000\"/>\n",
       "<path class=\"atom-137\" d=\"M 266.4 138.0 L 266.9 138.0 L 266.9 139.8 L 269.1 139.8 L 269.1 138.0 L 269.7 138.0 L 269.7 142.2 L 269.1 142.2 L 269.1 140.3 L 266.9 140.3 L 266.9 142.2 L 266.4 142.2 L 266.4 138.0 \" fill=\"#000000\"/>\n",
       "<path class=\"atom-139\" d=\"M 258.9 130.8 L 259.5 130.8 L 259.5 132.7 L 261.6 132.7 L 261.6 130.8 L 262.2 130.8 L 262.2 135.1 L 261.6 135.1 L 261.6 133.1 L 259.5 133.1 L 259.5 135.1 L 258.9 135.1 L 258.9 130.8 \" fill=\"#000000\"/>\n",
       "<path class=\"atom-140\" d=\"M 259.7 127.0 L 260.2 127.0 L 260.2 128.8 L 262.4 128.8 L 262.4 127.0 L 263.0 127.0 L 263.0 131.2 L 262.4 131.2 L 262.4 129.2 L 260.2 129.2 L 260.2 131.2 L 259.7 131.2 L 259.7 127.0 \" fill=\"#000000\"/>\n",
       "<path class=\"atom-142\" d=\"M 250.0 120.7 Q 250.0 119.6, 250.5 119.1 Q 251.0 118.5, 251.9 118.5 Q 252.9 118.5, 253.4 119.1 Q 253.9 119.6, 253.9 120.7 Q 253.9 121.7, 253.4 122.3 Q 252.9 122.9, 251.9 122.9 Q 251.0 122.9, 250.5 122.3 Q 250.0 121.7, 250.0 120.7 M 251.9 122.4 Q 252.6 122.4, 252.9 122.0 Q 253.3 121.5, 253.3 120.7 Q 253.3 119.8, 252.9 119.4 Q 252.6 119.0, 251.9 119.0 Q 251.3 119.0, 250.9 119.4 Q 250.6 119.8, 250.6 120.7 Q 250.6 121.5, 250.9 122.0 Q 251.3 122.4, 251.9 122.4 \" fill=\"#FF0000\"/>\n",
       "<path class=\"atom-144\" d=\"M 235.0 136.8 Q 235.0 135.8, 235.5 135.2 Q 236.0 134.7, 237.0 134.7 Q 237.9 134.7, 238.4 135.2 Q 238.9 135.8, 238.9 136.8 Q 238.9 137.8, 238.4 138.4 Q 237.9 139.0, 237.0 139.0 Q 236.0 139.0, 235.5 138.4 Q 235.0 137.9, 235.0 136.8 M 237.0 138.5 Q 237.6 138.5, 238.0 138.1 Q 238.3 137.7, 238.3 136.8 Q 238.3 136.0, 238.0 135.6 Q 237.6 135.1, 237.0 135.1 Q 236.3 135.1, 236.0 135.6 Q 235.6 136.0, 235.6 136.8 Q 235.6 137.7, 236.0 138.1 Q 236.3 138.5, 237.0 138.5 \" fill=\"#FF0000\"/>\n",
       "<path class=\"atom-145\" d=\"M 244.9 122.7 L 246.3 124.9 Q 246.5 125.1, 246.7 125.6 Q 246.9 126.0, 246.9 126.0 L 246.9 122.7 L 247.5 122.7 L 247.5 126.9 L 246.9 126.9 L 245.4 124.5 Q 245.2 124.2, 245.1 123.8 Q 244.9 123.5, 244.8 123.4 L 244.8 126.9 L 244.3 126.9 L 244.3 122.7 L 244.9 122.7 \" fill=\"#0000FF\"/>\n",
       "<path class=\"atom-146\" d=\"M 237.6 119.5 L 238.1 119.5 L 238.1 121.3 L 240.3 121.3 L 240.3 119.5 L 240.9 119.5 L 240.9 123.7 L 240.3 123.7 L 240.3 121.8 L 238.1 121.8 L 238.1 123.7 L 237.6 123.7 L 237.6 119.5 \" fill=\"#000000\"/>\n",
       "<path class=\"atom-148\" d=\"M 259.7 115.9 L 260.3 115.9 L 260.3 117.7 L 262.4 117.7 L 262.4 115.9 L 263.0 115.9 L 263.0 120.1 L 262.4 120.1 L 262.4 118.2 L 260.3 118.2 L 260.3 120.1 L 259.7 120.1 L 259.7 115.9 \" fill=\"#000000\"/>\n",
       "<path class=\"atom-150\" d=\"M 268.0 115.3 L 268.6 115.3 L 268.6 117.1 L 270.8 117.1 L 270.8 115.3 L 271.3 115.3 L 271.3 119.5 L 270.8 119.5 L 270.8 117.6 L 268.6 117.6 L 268.6 119.5 L 268.0 119.5 L 268.0 115.3 \" fill=\"#000000\"/>\n",
       "<path class=\"atom-151\" d=\"M 270.5 107.1 L 271.0 107.1 L 271.0 108.9 L 273.2 108.9 L 273.2 107.1 L 273.8 107.1 L 273.8 111.3 L 273.2 111.3 L 273.2 109.4 L 271.0 109.4 L 271.0 111.3 L 270.5 111.3 L 270.5 107.1 \" fill=\"#000000\"/>\n",
       "<path class=\"atom-154\" d=\"M 276.7 93.5 L 277.2 93.5 L 277.2 95.3 L 279.4 95.3 L 279.4 93.5 L 280.0 93.5 L 280.0 97.7 L 279.4 97.7 L 279.4 95.8 L 277.2 95.8 L 277.2 97.7 L 276.7 97.7 L 276.7 93.5 \" fill=\"#000000\"/>\n",
       "<path class=\"atom-155\" d=\"M 262.2 85.6 L 263.5 87.8 Q 263.7 88.0, 263.9 88.4 Q 264.1 88.8, 264.1 88.9 L 264.1 85.6 L 264.7 85.6 L 264.7 89.8 L 264.1 89.8 L 262.6 87.4 Q 262.5 87.1, 262.3 86.7 Q 262.1 86.4, 262.0 86.3 L 262.0 89.8 L 261.5 89.8 L 261.5 85.6 L 262.2 85.6 \" fill=\"#0000FF\"/>\n",
       "<path class=\"atom-156\" d=\"M 264.5 76.4 L 265.1 76.4 L 265.1 78.2 L 267.2 78.2 L 267.2 76.4 L 267.8 76.4 L 267.8 80.7 L 267.2 80.7 L 267.2 78.7 L 265.1 78.7 L 265.1 80.7 L 264.5 80.7 L 264.5 76.4 \" fill=\"#000000\"/>\n",
       "<path class=\"atom-159\" d=\"M 244.0 74.0 L 244.6 74.0 L 244.6 75.8 L 246.7 75.8 L 246.7 74.0 L 247.3 74.0 L 247.3 78.2 L 246.7 78.2 L 246.7 76.3 L 244.6 76.3 L 244.6 78.2 L 244.0 78.2 L 244.0 74.0 \" fill=\"#000000\"/>\n",
       "<path class=\"atom-161\" d=\"M 227.3 83.6 L 227.9 83.6 L 227.9 85.4 L 230.0 85.4 L 230.0 83.6 L 230.6 83.6 L 230.6 87.8 L 230.0 87.8 L 230.0 85.9 L 227.9 85.9 L 227.9 87.8 L 227.3 87.8 L 227.3 83.6 \" fill=\"#000000\"/>\n",
       "<path class=\"atom-163\" d=\"M 227.2 102.8 L 227.8 102.8 L 227.8 104.6 L 230.0 104.6 L 230.0 102.8 L 230.5 102.8 L 230.5 107.1 L 230.0 107.1 L 230.0 105.1 L 227.8 105.1 L 227.8 107.1 L 227.2 107.1 L 227.2 102.8 \" fill=\"#000000\"/>\n",
       "<path class=\"atom-165\" d=\"M 243.8 112.5 L 244.4 112.5 L 244.4 114.3 L 246.6 114.3 L 246.6 112.5 L 247.2 112.5 L 247.2 116.7 L 246.6 116.7 L 246.6 114.8 L 244.4 114.8 L 244.4 116.7 L 243.8 116.7 L 243.8 112.5 \" fill=\"#000000\"/>\n",
       "<path class=\"atom-168\" d=\"M 266.1 133.0 Q 266.1 132.0, 266.6 131.4 Q 267.1 130.9, 268.0 130.9 Q 269.0 130.9, 269.5 131.4 Q 270.0 132.0, 270.0 133.0 Q 270.0 134.1, 269.5 134.6 Q 268.9 135.2, 268.0 135.2 Q 267.1 135.2, 266.6 134.6 Q 266.1 134.1, 266.1 133.0 M 268.0 134.8 Q 268.7 134.8, 269.0 134.3 Q 269.4 133.9, 269.4 133.0 Q 269.4 132.2, 269.0 131.8 Q 268.7 131.3, 268.0 131.3 Q 267.4 131.3, 267.0 131.8 Q 266.7 132.2, 266.7 133.0 Q 266.7 133.9, 267.0 134.3 Q 267.4 134.8, 268.0 134.8 \" fill=\"#FF0000\"/>\n",
       "<path class=\"atom-169\" d=\"M 277.2 119.4 L 278.6 121.6 Q 278.8 121.8, 279.0 122.2 Q 279.2 122.6, 279.2 122.7 L 279.2 119.4 L 279.8 119.4 L 279.8 123.6 L 279.2 123.6 L 277.7 121.2 Q 277.5 120.9, 277.4 120.5 Q 277.2 120.2, 277.1 120.1 L 277.1 123.6 L 276.6 123.6 L 276.6 119.4 L 277.2 119.4 \" fill=\"#0000FF\"/>\n",
       "<path class=\"atom-170\" d=\"M 277.0 111.2 L 277.5 111.2 L 277.5 113.0 L 279.7 113.0 L 279.7 111.2 L 280.3 111.2 L 280.3 115.4 L 279.7 115.4 L 279.7 113.5 L 277.5 113.5 L 277.5 115.4 L 277.0 115.4 L 277.0 111.2 \" fill=\"#000000\"/>\n",
       "<path class=\"atom-172\" d=\"M 275.9 128.3 L 276.4 128.3 L 276.4 130.1 L 278.6 130.1 L 278.6 128.3 L 279.2 128.3 L 279.2 132.5 L 278.6 132.5 L 278.6 130.6 L 276.4 130.6 L 276.4 132.5 L 275.9 132.5 L 275.9 128.3 \" fill=\"#000000\"/>\n",
       "<path class=\"atom-174\" d=\"M 289.9 139.5 L 290.4 139.5 L 290.4 141.3 L 292.6 141.3 L 292.6 139.5 L 293.2 139.5 L 293.2 143.7 L 292.6 143.7 L 292.6 141.8 L 290.4 141.8 L 290.4 143.7 L 289.9 143.7 L 289.9 139.5 \" fill=\"#000000\"/>\n",
       "<path class=\"atom-175\" d=\"M 289.7 128.6 L 290.3 128.6 L 290.3 130.4 L 292.5 130.4 L 292.5 128.6 L 293.0 128.6 L 293.0 132.8 L 292.5 132.8 L 292.5 130.9 L 290.3 130.9 L 290.3 132.8 L 289.7 132.8 L 289.7 128.6 \" fill=\"#000000\"/>\n",
       "<path class=\"atom-177\" d=\"M 273.6 135.6 L 274.2 135.6 L 274.2 137.4 L 276.4 137.4 L 276.4 135.6 L 276.9 135.6 L 276.9 139.8 L 276.4 139.8 L 276.4 137.9 L 274.2 137.9 L 274.2 139.8 L 273.6 139.8 L 273.6 135.6 \" fill=\"#000000\"/>\n",
       "<path class=\"atom-178\" d=\"M 269.9 144.0 L 270.5 144.0 L 270.5 145.8 L 272.7 145.8 L 272.7 144.0 L 273.2 144.0 L 273.2 148.2 L 272.7 148.2 L 272.7 146.3 L 270.5 146.3 L 270.5 148.2 L 269.9 148.2 L 269.9 144.0 \" fill=\"#000000\"/>\n",
       "<path class=\"atom-180\" d=\"M 292.7 151.0 Q 292.7 150.0, 293.2 149.4 Q 293.7 148.9, 294.6 148.9 Q 295.6 148.9, 296.1 149.4 Q 296.6 150.0, 296.6 151.0 Q 296.6 152.1, 296.1 152.7 Q 295.5 153.2, 294.6 153.2 Q 293.7 153.2, 293.2 152.7 Q 292.7 152.1, 292.7 151.0 M 294.6 152.8 Q 295.3 152.8, 295.6 152.3 Q 296.0 151.9, 296.0 151.0 Q 296.0 150.2, 295.6 149.8 Q 295.3 149.4, 294.6 149.4 Q 294.0 149.4, 293.6 149.8 Q 293.3 150.2, 293.3 151.0 Q 293.3 151.9, 293.6 152.3 Q 294.0 152.8, 294.6 152.8 \" fill=\"#FF0000\"/>\n",
       "<path class=\"atom-182\" d=\"M 294.9 136.0 Q 294.9 135.0, 295.4 134.4 Q 295.9 133.9, 296.8 133.9 Q 297.8 133.9, 298.3 134.4 Q 298.8 135.0, 298.8 136.0 Q 298.8 137.0, 298.3 137.6 Q 297.8 138.2, 296.8 138.2 Q 295.9 138.2, 295.4 137.6 Q 294.9 137.1, 294.9 136.0 M 296.8 137.7 Q 297.5 137.7, 297.8 137.3 Q 298.2 136.9, 298.2 136.0 Q 298.2 135.2, 297.8 134.8 Q 297.5 134.3, 296.8 134.3 Q 296.2 134.3, 295.8 134.8 Q 295.5 135.2, 295.5 136.0 Q 295.5 136.9, 295.8 137.3 Q 296.2 137.7, 296.8 137.7 \" fill=\"#FF0000\"/>\n",
       "<path class=\"atom-183\" d=\"M 299.2 113.8 L 300.6 116.0 Q 300.7 116.2, 301.0 116.6 Q 301.2 117.0, 301.2 117.1 L 301.2 113.8 L 301.8 113.8 L 301.8 118.0 L 301.2 118.0 L 299.7 115.6 Q 299.5 115.3, 299.3 114.9 Q 299.1 114.6, 299.1 114.5 L 299.1 118.0 L 298.5 118.0 L 298.5 113.8 L 299.2 113.8 \" fill=\"#0000FF\"/>\n",
       "<path class=\"atom-184\" d=\"M 308.4 14.9 L 309.0 14.9 L 309.0 16.7 L 311.1 16.7 L 311.1 14.9 L 311.7 14.9 L 311.7 19.2 L 311.1 19.2 L 311.1 17.2 L 309.0 17.2 L 309.0 19.2 L 308.4 19.2 L 308.4 14.9 \" fill=\"#000000\"/>\n",
       "<path class=\"atom-186\" d=\"M 321.8 214.7 L 322.4 214.7 L 322.4 216.5 L 324.6 216.5 L 324.6 214.7 L 325.1 214.7 L 325.1 218.9 L 324.6 218.9 L 324.6 217.0 L 322.4 217.0 L 322.4 218.9 L 321.8 218.9 L 321.8 214.7 \" fill=\"#000000\"/>\n",
       "<path class=\"atom-188\" d=\"M 306.1 209.1 L 306.7 209.1 L 306.7 211.0 L 308.9 211.0 L 308.9 209.1 L 309.4 209.1 L 309.4 213.4 L 308.9 213.4 L 308.9 211.4 L 306.7 211.4 L 306.7 213.4 L 306.1 213.4 L 306.1 209.1 \" fill=\"#000000\"/>\n",
       "<path class=\"atom-189\" d=\"M 291.1 213.0 L 291.7 213.0 L 291.7 214.8 L 293.9 214.8 L 293.9 213.0 L 294.4 213.0 L 294.4 217.2 L 293.9 217.2 L 293.9 215.2 L 291.7 215.2 L 291.7 217.2 L 291.1 217.2 L 291.1 213.0 \" fill=\"#000000\"/>\n",
       "<path class=\"atom-191\" d=\"M 289.8 229.1 L 290.3 229.1 L 290.3 230.9 L 292.5 230.9 L 292.5 229.1 L 293.1 229.1 L 293.1 233.4 L 292.5 233.4 L 292.5 231.4 L 290.3 231.4 L 290.3 233.4 L 289.8 233.4 L 289.8 229.1 \" fill=\"#000000\"/>\n",
       "<path class=\"atom-192\" d=\"M 299.8 224.8 L 300.4 224.8 L 300.4 226.6 L 302.6 226.6 L 302.6 224.8 L 303.1 224.8 L 303.1 229.1 L 302.6 229.1 L 302.6 227.1 L 300.4 227.1 L 300.4 229.1 L 299.8 229.1 L 299.8 224.8 \" fill=\"#000000\"/>\n",
       "<path class=\"atom-194\" d=\"M 283.7 214.8 Q 283.7 213.8, 284.2 213.2 Q 284.7 212.7, 285.6 212.7 Q 286.5 212.7, 287.0 213.2 Q 287.6 213.8, 287.6 214.8 Q 287.6 215.9, 287.0 216.5 Q 286.5 217.0, 285.6 217.0 Q 284.7 217.0, 284.2 216.5 Q 283.7 215.9, 283.7 214.8 M 285.6 216.6 Q 286.3 216.6, 286.6 216.1 Q 287.0 215.7, 287.0 214.8 Q 287.0 214.0, 286.6 213.6 Q 286.3 213.2, 285.6 213.2 Q 285.0 213.2, 284.6 213.6 Q 284.3 214.0, 284.3 214.8 Q 284.3 215.7, 284.6 216.1 Q 285.0 216.6, 285.6 216.6 \" fill=\"#FF0000\"/>\n",
       "<path class=\"atom-196\" d=\"M 302.0 236.0 Q 302.0 235.0, 302.5 234.5 Q 303.0 233.9, 303.9 233.9 Q 304.9 233.9, 305.4 234.5 Q 305.9 235.0, 305.9 236.0 Q 305.9 237.1, 305.4 237.7 Q 304.9 238.3, 303.9 238.3 Q 303.0 238.3, 302.5 237.7 Q 302.0 237.1, 302.0 236.0 M 303.9 237.8 Q 304.6 237.8, 304.9 237.3 Q 305.3 236.9, 305.3 236.0 Q 305.3 235.2, 304.9 234.8 Q 304.6 234.4, 303.9 234.4 Q 303.3 234.4, 302.9 234.8 Q 302.6 235.2, 302.6 236.0 Q 302.6 236.9, 302.9 237.3 Q 303.3 237.8, 303.9 237.8 \" fill=\"#FF0000\"/>\n",
       "<path class=\"atom-197\" d=\"M 318.2 232.5 L 319.6 234.8 Q 319.7 235.0, 319.9 235.4 Q 320.1 235.8, 320.2 235.8 L 320.2 232.5 L 320.7 232.5 L 320.7 236.8 L 320.1 236.8 L 318.6 234.3 Q 318.5 234.0, 318.3 233.7 Q 318.1 233.4, 318.1 233.3 L 318.1 236.8 L 317.5 236.8 L 317.5 232.5 L 318.2 232.5 \" fill=\"#0000FF\"/>\n",
       "<path class=\"atom-198\" d=\"M 326.2 228.6 L 326.8 228.6 L 326.8 230.4 L 329.0 230.4 L 329.0 228.6 L 329.5 228.6 L 329.5 232.8 L 329.0 232.8 L 329.0 230.8 L 326.8 230.8 L 326.8 232.8 L 326.2 232.8 L 326.2 228.6 \" fill=\"#000000\"/>\n",
       "<path class=\"atom-200\" d=\"M 306.5 240.3 L 307.1 240.3 L 307.1 242.2 L 309.3 242.2 L 309.3 240.3 L 309.8 240.3 L 309.8 244.6 L 309.3 244.6 L 309.3 242.6 L 307.1 242.6 L 307.1 244.6 L 306.5 244.6 L 306.5 240.3 \" fill=\"#000000\"/>\n",
       "<path class=\"atom-202\" d=\"M 315.7 256.2 L 316.3 256.2 L 316.3 258.0 L 318.5 258.0 L 318.5 256.2 L 319.0 256.2 L 319.0 260.5 L 318.5 260.5 L 318.5 258.5 L 316.3 258.5 L 316.3 260.5 L 315.7 260.5 L 315.7 256.2 \" fill=\"#000000\"/>\n",
       "<path class=\"atom-203\" d=\"M 306.7 259.1 L 307.3 259.1 L 307.3 260.9 L 309.4 260.9 L 309.4 259.1 L 310.0 259.1 L 310.0 263.3 L 309.4 263.3 L 309.4 261.4 L 307.3 261.4 L 307.3 263.3 L 306.7 263.3 L 306.7 259.1 \" fill=\"#000000\"/>\n",
       "<path class=\"atom-206\" d=\"M 297.4 231.6 L 298.0 231.6 L 298.0 233.4 L 300.1 233.4 L 300.1 231.6 L 300.7 231.6 L 300.7 235.8 L 300.1 235.8 L 300.1 233.8 L 298.0 233.8 L 298.0 235.8 L 297.4 235.8 L 297.4 231.6 \" fill=\"#000000\"/>\n",
       "<path class=\"atom-207\" d=\"M 283.5 243.0 L 284.9 245.2 Q 285.0 245.4, 285.2 245.8 Q 285.5 246.2, 285.5 246.3 L 285.5 243.0 L 286.0 243.0 L 286.0 247.2 L 285.4 247.2 L 284.0 244.7 Q 283.8 244.5, 283.6 244.1 Q 283.4 243.8, 283.4 243.7 L 283.4 247.2 L 282.8 247.2 L 282.8 243.0 L 283.5 243.0 \" fill=\"#0000FF\"/>\n",
       "<path class=\"atom-208\" d=\"M 275.8 237.7 L 276.3 237.7 L 276.3 239.5 L 278.5 239.5 L 278.5 237.7 L 279.1 237.7 L 279.1 242.0 L 278.5 242.0 L 278.5 240.0 L 276.3 240.0 L 276.3 242.0 L 275.8 242.0 L 275.8 237.7 \" fill=\"#000000\"/>\n",
       "<path class=\"atom-211\" d=\"M 267.3 256.5 L 267.9 256.5 L 267.9 258.3 L 270.1 258.3 L 270.1 256.5 L 270.7 256.5 L 270.7 260.7 L 270.1 260.7 L 270.1 258.7 L 267.9 258.7 L 267.9 260.7 L 267.3 260.7 L 267.3 256.5 \" fill=\"#000000\"/>\n",
       "<path class=\"atom-213\" d=\"M 271.6 275.2 L 272.2 275.2 L 272.2 277.0 L 274.4 277.0 L 274.4 275.2 L 275.0 275.2 L 275.0 279.4 L 274.4 279.4 L 274.4 277.5 L 272.2 277.5 L 272.2 279.4 L 271.6 279.4 L 271.6 275.2 \" fill=\"#000000\"/>\n",
       "<path class=\"atom-215\" d=\"M 290.1 280.8 L 290.6 280.8 L 290.6 282.6 L 292.8 282.6 L 292.8 280.8 L 293.4 280.8 L 293.4 285.1 L 292.8 285.1 L 292.8 283.1 L 290.6 283.1 L 290.6 285.1 L 290.1 285.1 L 290.1 280.8 \" fill=\"#000000\"/>\n",
       "<path class=\"atom-217\" d=\"M 304.2 267.7 L 304.8 267.7 L 304.8 269.5 L 306.9 269.5 L 306.9 267.7 L 307.5 267.7 L 307.5 271.9 L 306.9 271.9 L 306.9 270.0 L 304.8 270.0 L 304.8 271.9 L 304.2 271.9 L 304.2 267.7 \" fill=\"#000000\"/>\n",
       "<path class=\"atom-220\" d=\"M 332.6 246.3 Q 332.6 245.2, 333.1 244.7 Q 333.6 244.1, 334.6 244.1 Q 335.5 244.1, 336.0 244.7 Q 336.5 245.2, 336.5 246.3 Q 336.5 247.3, 336.0 247.9 Q 335.5 248.5, 334.6 248.5 Q 333.6 248.5, 333.1 247.9 Q 332.6 247.3, 332.6 246.3 M 334.6 248.0 Q 335.2 248.0, 335.5 247.5 Q 335.9 247.1, 335.9 246.3 Q 335.9 245.4, 335.5 245.0 Q 335.2 244.6, 334.6 244.6 Q 333.9 244.6, 333.5 245.0 Q 333.2 245.4, 333.2 246.3 Q 333.2 247.1, 333.5 247.5 Q 333.9 248.0, 334.6 248.0 \" fill=\"#FF0000\"/>\n",
       "<path class=\"atom-221\" d=\"M 323.0 259.7 Q 323.0 258.7, 323.5 258.2 Q 324.1 257.6, 325.0 257.6 Q 325.9 257.6, 326.4 258.2 Q 326.9 258.7, 326.9 259.7 Q 326.9 260.8, 326.4 261.4 Q 325.9 261.9, 325.0 261.9 Q 324.1 261.9, 323.5 261.4 Q 323.0 260.8, 323.0 259.7 M 325.0 261.5 Q 325.6 261.5, 326.0 261.0 Q 326.3 260.6, 326.3 259.7 Q 326.3 258.9, 326.0 258.5 Q 325.6 258.1, 325.0 258.1 Q 324.3 258.1, 324.0 258.5 Q 323.6 258.9, 323.6 259.7 Q 323.6 260.6, 324.0 261.0 Q 324.3 261.5, 325.0 261.5 \" fill=\"#FF0000\"/>\n",
       "<path class=\"atom-221\" d=\"M 327.5 258.3 L 329.0 258.3 L 329.0 258.6 L 327.5 258.6 L 327.5 258.3 \" fill=\"#FF0000\"/>\n",
       "<path class=\"atom-0\" d=\"M 181.7,148.4 L 181.7,150.3 L 183.6,150.3 L 183.6,148.4 L 181.7,148.4\" style=\"fill:none;stroke:#FF0000;stroke-width:2.0px;stroke-linecap:butt;stroke-linejoin:miter;stroke-miterlimit:10;stroke-opacity:1;\"/>\n",
       "<path class=\"atom-104\" d=\"M 303.2,205.0 L 303.2,206.9 L 305.1,206.9 L 305.1,205.0 L 303.2,205.0\" style=\"fill:none;stroke:#FF0000;stroke-width:2.0px;stroke-linecap:butt;stroke-linejoin:miter;stroke-miterlimit:10;stroke-opacity:1;\"/>\n",
       "<path class=\"atom-106\" d=\"M 293.0,207.3 L 293.0,209.3 L 295.0,209.3 L 295.0,207.3 L 293.0,207.3\" style=\"fill:none;stroke:#FF0000;stroke-width:2.0px;stroke-linecap:butt;stroke-linejoin:miter;stroke-miterlimit:10;stroke-opacity:1;\"/>\n",
       "<path class=\"atom-111\" d=\"M 290.8,184.0 L 290.8,185.9 L 292.7,185.9 L 292.7,184.0 L 290.8,184.0\" style=\"fill:none;stroke:#FF0000;stroke-width:2.0px;stroke-linecap:butt;stroke-linejoin:miter;stroke-miterlimit:10;stroke-opacity:1;\"/>\n",
       "</svg>"
      ],
      "text/plain": [
       "<IPython.core.display.SVG object>"
      ]
     },
     "execution_count": 15,
     "metadata": {},
     "output_type": "execute_result"
    }
   ],
   "source": [
    "top.molecule(0).visualize(backend='rdkit')"
   ]
  },
  {
   "cell_type": "code",
   "execution_count": 16,
   "id": "578dacd8-24b6-46ca-92f3-46dd9efdd895",
   "metadata": {
    "execution": {
     "iopub.execute_input": "2025-08-15T19:41:17.765431Z",
     "iopub.status.busy": "2025-08-15T19:41:17.756963Z",
     "iopub.status.idle": "2025-08-15T19:41:17.845790Z",
     "shell.execute_reply": "2025-08-15T19:41:17.843966Z",
     "shell.execute_reply.started": "2025-08-15T19:41:17.765346Z"
    }
   },
   "outputs": [
    {
     "data": {
      "image/png": "[encoded data removed]",
      "text/html": [
       "<table><tr><td colspan=\"2\" style=\"text-align: center;\"><image src=\"data:image/png;base64,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\"></td></tr>\n",
       "<tr><th style=\"text-align: right\">pdb_idx_to_mol_atom_idx</th><td style=\"text-align: left\">{0: 0, 1: 1, 2: 2, 3: 3, 4: 4, 5: 5, 6: 6, 7: 7, 8: 8, 9: 9, 10: 10, 11: 11, 12: 12, 13: 13, 14: 14, 15: 15, 16: 16, 17: 17, 18: 18, 19: 19, 20: 20, 21: 21, 22: 22, 23: 23, 24: 24, 25: 25, 26: 26, 27: 27, 28: 28, 29: 29, 30: 30, 31: 31, 32: 32, 33: 33, 34: 34, 35: 35, 36: 36, 37: 37, 38: 38, 39: 39, 40: 40, 41: 41, 42: 42, 43: 43, 44: 44, 45: 45, 46: 46, 47: 47, 48: 48, 49: 49, 50: 50, 51: 51, 52: 52, 53: 53, 54: 54, 55: 55, 56: 56, 57: 57, 58: 58, 59: 59, 60: 60, 61: 61, 62: 62, 63: 63, 64: 64, 65: 65, 66: 66, 67: 67, 68: 68, 69: 69, 70: 70, 71: 71, 72: 72, 73: 73, 74: 74, 75: 75, 76: 76, 77: 77, 78: 78, 79: 79, 80: 80, 81: 81, 82: 82, 83: 83, 84: 84, 85: 85, 86: 86, 87: 87, 88: 88, 89: 89, 90: 90, 91: 91, 92: 92, 93: 93, 94: 94, 95: 95, 96: 96, 97: 97, 98: 98, 99: 99, 100: 100, 101: 101, 102: 102, 103: 103, 104: 104, 105: 105, 106: 106, 107: 107, 108: 108, 109: 109, 110: 110, 111: 111, 112: 112, 113: 113, 114: 114, 115: 115, 116: 116, 117: 117, 118: 118, 119: 119, 120: 120, 121: 121, 122: 122, 123: 123, 124: 124, 125: 125, 126: 126, 127: 127, 128: 128, 129: 129, 130: 130, 131: 131, 132: 132, 133: 133, 134: 134, 135: 135, 136: 136, 137: 137, 138: 138, 139: 139, 140: 140, 141: 141, 142: 142, 143: 143, 144: 144, 145: 145, 146: 146, 147: 147, 148: 148, 149: 149, 150: 150, 151: 151, 152: 152, 153: 153, 154: 154, 155: 155, 156: 156, 157: 157, 158: 158, 159: 159, 160: 160, 161: 161, 162: 162, 163: 163, 164: 164, 165: 165, 166: 166, 167: 167, 168: 168, 169: 169, 170: 170, 171: 171, 172: 172, 173: 173, 174: 174, 175: 175, 176: 176, 177: 177, 178: 178, 179: 179, 180: 180, 181: 181, 182: 182, 183: 183, 184: 184, 185: 185, 186: 186, 187: 187, 188: 188, 189: 189, 190: 190, 191: 191, 192: 192, 193: 193, 194: 194, 195: 195, 196: 196, 197: 197, 198: 198, 199: 199, 200: 200, 201: 201, 202: 202, 203: 203, 204: 204, 205: 205, 206: 206, 207: 207, 208: 208, 209: 209, 210: 210, 211: 211, 212: 212, 213: 213, 214: 214, 215: 215, 216: 216, 217: 217, 218: 218, 219: 219, 220: 220, 221: 221}</td></tr></table>"
      ],
      "text/plain": [
       "<rdkit.Chem.rdchem.Mol at 0x3158d8950>"
      ]
     },
     "execution_count": 16,
     "metadata": {},
     "output_type": "execute_result"
    }
   ],
   "source": [
    "rdmol = top.molecule(0).to_rdkit()\n",
    "rdmol"
   ]
  },
  {
   "cell_type": "code",
   "execution_count": 18,
   "id": "80a8450d-5fcf-4ac1-9359-06fcd6e3839d",
   "metadata": {
    "execution": {
     "iopub.execute_input": "2025-08-15T19:45:09.796200Z",
     "iopub.status.busy": "2025-08-15T19:45:09.794767Z",
     "iopub.status.idle": "2025-08-15T19:45:09.827186Z",
     "shell.execute_reply": "2025-08-15T19:45:09.826565Z",
     "shell.execute_reply.started": "2025-08-15T19:45:09.796149Z"
    }
   },
   "outputs": [],
   "source": [
    "from rdkit.Chem import AllChem\n",
    "rxn_1 = AllChem.ReactionFromSmarts('[#6:1][#8:2][#6:3](=[#8:4])[#6:5]>>[#6:1][#16:2][#6:3](=[#8:4])[#6:5]')"
   ]
  },
  {
   "cell_type": "code",
   "execution_count": 21,
   "id": "584d258d-6a76-48a5-ad6d-fe1f2646066b",
   "metadata": {
    "execution": {
     "iopub.execute_input": "2025-08-15T19:45:55.804982Z",
     "iopub.status.busy": "2025-08-15T19:45:55.803561Z",
     "iopub.status.idle": "2025-08-15T19:45:55.818810Z",
     "shell.execute_reply": "2025-08-15T19:45:55.818030Z",
     "shell.execute_reply.started": "2025-08-15T19:45:55.804914Z"
    }
   },
   "outputs": [],
   "source": [
    "prods = rxn_1.RunReactants((rdmol, ))"
   ]
  },
  {
   "cell_type": "code",
   "execution_count": 27,
   "id": "12ec82ec-ccd1-49ad-8190-524aa0d7c55b",
   "metadata": {
    "execution": {
     "iopub.execute_input": "2025-08-15T19:49:35.441946Z",
     "iopub.status.busy": "2025-08-15T19:49:35.440770Z",
     "iopub.status.idle": "2025-08-15T19:49:35.473396Z",
     "shell.execute_reply": "2025-08-15T19:49:35.472936Z",
     "shell.execute_reply.started": "2025-08-15T19:49:35.441899Z"
    }
   },
   "outputs": [],
   "source": [
    "import rdkit\n",
    "prod = prods[1][0]\n",
    "rdkit.Chem.SanitizeMol(prod, rdkit.Chem.SANITIZE_ALL)\n",
    "rdkit.Chem.AssignStereochemistryFrom3D(prod)\n",
    "rdkit.Chem.Kekulize(prod, clearAromaticFlags=True)\n",
    "rdkit.Chem.SetAromaticity(prod, rdkit.Chem.AromaticityModel.AROMATICITY_MDL)\n",
    "mod_mol = Molecule.from_rdkit(prod)"
   ]
  },
  {
   "cell_type": "code",
   "execution_count": 28,
   "id": "e491e735-a029-4f41-8fa5-13f8cfb54b79",
   "metadata": {
    "execution": {
     "iopub.execute_input": "2025-08-15T19:49:44.776071Z",
     "iopub.status.busy": "2025-08-15T19:49:44.772350Z",
     "iopub.status.idle": "2025-08-15T19:49:47.827497Z",
     "shell.execute_reply": "2025-08-15T19:49:47.827026Z",
     "shell.execute_reply.started": "2025-08-15T19:49:44.775996Z"
    }
   },
   "outputs": [],
   "source": [
    "top = solvate_topology(\n",
    "    mod_mol.to_topology(),\n",
    "    nacl_conc=Quantity(0.1, \"mol/L\"),\n",
    "    padding=Quantity(1.2, \"nm\"),\n",
    "    box_shape=RHOMBIC_DODECAHEDRON,\n",
    ")"
   ]
  },
  {
   "cell_type": "code",
   "execution_count": 29,
   "id": "18f6a1e6-4125-48c3-aabb-3f7ccd1a2c3f",
   "metadata": {
    "execution": {
     "iopub.execute_input": "2025-08-15T19:50:28.157751Z",
     "iopub.status.busy": "2025-08-15T19:50:28.153778Z",
     "iopub.status.idle": "2025-08-15T19:50:38.082566Z",
     "shell.execute_reply": "2025-08-15T19:50:38.081854Z",
     "shell.execute_reply.started": "2025-08-15T19:50:28.157676Z"
    }
   },
   "outputs": [
    {
     "name": "stdout",
     "output_type": "stream",
     "text": [
      "adding dummy charges to force field ...\n",
      "making Interchange ...\n",
      "replacing dummy charges with NAGL charges ... \n",
      "assigning graph charges to C78H104N19O20S ...\n"
     ]
    },
    {
     "name": "stderr",
     "output_type": "stream",
     "text": [
      "[12:50:37] WARNING: Proton(s) added/removed\n",
      "\n"
     ]
    },
    {
     "name": "stdout",
     "output_type": "stream",
     "text": [
      "continuing with dummy charge replacement ...\n"
     ]
    }
   ],
   "source": [
    "from ptm_prototype import parametrize_with_nagl\n",
    "from openff.toolkit import ForceField\n",
    "\n",
    "sage_ff14sb = ForceField(\"openff-2.2.1.offxml\", \"ff14sb_off_impropers_0.0.4.offxml\")\n",
    "\n",
    "\n",
    "interchange = parametrize_with_nagl(force_field=sage_ff14sb, topology=top)"
   ]
  },
  {
   "cell_type": "code",
   "execution_count": 30,
   "id": "e7f1d59c-e803-4c19-9928-e6efc005c467",
   "metadata": {
    "execution": {
     "iopub.execute_input": "2025-08-15T19:51:17.039042Z",
     "iopub.status.busy": "2025-08-15T19:51:17.037945Z",
     "iopub.status.idle": "2025-08-15T19:51:19.969414Z",
     "shell.execute_reply": "2025-08-15T19:51:19.968720Z",
     "shell.execute_reply.started": "2025-08-15T19:51:17.038997Z"
    }
   },
   "outputs": [
    {
     "name": "stdout",
     "output_type": "stream",
     "text": [
      "making OpenMM simulation ...\n",
      "total system charge is -1.097556712181813e-09\n",
      "serializing OpenMM system ...\n"
     ]
    }
   ],
   "source": [
    "from ptm_prototype import get_openmm_total_charge\n",
    "\n",
    "temperature = 300 * openmm.unit.kelvin\n",
    "pressure = 1 * openmm.unit.bar\n",
    "\n",
    "timestep = 2 * openmm.unit.femtosecond\n",
    "friction_coeff = 1 / openmm.unit.picosecond\n",
    "barostat_frequency = 25\n",
    "\n",
    "print(\"making OpenMM simulation ...\")\n",
    "simulation = interchange.to_openmm_simulation(\n",
    "    integrator=openmm.LangevinMiddleIntegrator(\n",
    "        temperature,\n",
    "        friction_coeff,\n",
    "        timestep,\n",
    "    ),\n",
    "    additional_forces=[\n",
    "        openmm.MonteCarloBarostat(\n",
    "            pressure,\n",
    "            temperature,\n",
    "            barostat_frequency,\n",
    "        ),\n",
    "    ],\n",
    ")\n",
    "\n",
    "dcd_reporter = openmm.app.DCDReporter(\"trajectory.dcd\", 100)\n",
    "simulation.reporters.append(dcd_reporter)\n",
    "\n",
    "print(f\"total system charge is {get_openmm_total_charge(simulation.system)}\")\n",
    "\n",
    "print(\"serializing OpenMM system ...\")\n",
    "with open(\"system.xml\", \"w\") as f:\n",
    "    f.write(openmm.XmlSerializer.serialize(simulation.system))"
   ]
  },
  {
   "cell_type": "code",
   "execution_count": null,
   "id": "18c14432-694c-41dc-bc91-2b40992e1e78",
   "metadata": {},
   "outputs": [],
   "source": []
  },
  {
   "cell_type": "code",
   "execution_count": 31,
   "id": "6ca58381-23cd-4514-b9c0-57c3dfba497e",
   "metadata": {
    "execution": {
     "iopub.execute_input": "2025-08-15T19:51:19.971805Z",
     "iopub.status.busy": "2025-08-15T19:51:19.971170Z",
     "iopub.status.idle": "2025-08-15T19:52:16.899254Z",
     "shell.execute_reply": "2025-08-15T19:52:16.898397Z",
     "shell.execute_reply.started": "2025-08-15T19:51:19.971763Z"
    }
   },
   "outputs": [],
   "source": [
    "simulation.context.computeVirtualSites()\n",
    "simulation.minimizeEnergy()\n",
    "simulation.context.setVelocitiesToTemperature(simulation.integrator.getTemperature())"
   ]
  },
  {
   "cell_type": "code",
   "execution_count": 32,
   "id": "2b6c6cd5-4988-41f0-b170-6b3d2b92c389",
   "metadata": {
    "execution": {
     "iopub.execute_input": "2025-08-15T19:52:16.901478Z",
     "iopub.status.busy": "2025-08-15T19:52:16.900242Z",
     "iopub.status.idle": "2025-08-15T19:52:31.932962Z",
     "shell.execute_reply": "2025-08-15T19:52:31.930679Z",
     "shell.execute_reply.started": "2025-08-15T19:52:16.901459Z"
    }
   },
   "outputs": [],
   "source": [
    "simulation.runForClockTime(.25 * openmm.unit.minute)"
   ]
  },
  {
   "cell_type": "code",
   "execution_count": 33,
   "id": "7ec29c63-d2ca-4c4c-ba84-fc24d57dd172",
   "metadata": {
    "execution": {
     "iopub.execute_input": "2025-08-15T19:52:31.954231Z",
     "iopub.status.busy": "2025-08-15T19:52:31.953624Z",
     "iopub.status.idle": "2025-08-15T19:52:32.170570Z",
     "shell.execute_reply": "2025-08-15T19:52:32.169918Z",
     "shell.execute_reply.started": "2025-08-15T19:52:31.954194Z"
    }
   },
   "outputs": [
    {
     "data": {
      "application/vnd.jupyter.widget-view+json": {
       "model_id": "dabed17d02694ab7a6f7108c372059cc",
       "version_major": 2,
       "version_minor": 0
      },
      "text/plain": [
       "NGLWidget(max_frame=70)"
      ]
     },
     "metadata": {},
     "output_type": "display_data"
    }
   ],
   "source": [
    "from ptm_prototype import nglview_show_openmm\n",
    "\n",
    "w = nglview_show_openmm(simulation.topology, \"trajectory.dcd\")\n",
    "w.add_licorice(\"not UNK\", radius=0.3)\n",
    "#w.center(\"not water\")\n",
    "w"
   ]
  },
  {
   "cell_type": "code",
   "execution_count": null,
   "id": "27a31c54-21da-401f-97c7-afab72d31f19",
   "metadata": {},
   "outputs": [],
   "source": []
  },
  {
   "cell_type": "code",
   "execution_count": null,
   "id": "2a76eb44-bec8-4161-b313-6f7525d06fa2",
   "metadata": {},
   "outputs": [],
   "source": []
  },
  {
   "cell_type": "code",
   "execution_count": null,
   "id": "3a7bd520-899d-454d-92c1-03c03c9d4c58",
   "metadata": {},
   "outputs": [],
   "source": []
  },
  {
   "cell_type": "code",
   "execution_count": null,
   "id": "7ccbbb90-08ae-44ea-a76e-aa19c633984a",
   "metadata": {},
   "outputs": [],
   "source": []
  },
  {
   "cell_type": "code",
   "execution_count": null,
   "id": "a533bba0-eb1c-417a-bdca-34e23e8391a5",
   "metadata": {},
   "outputs": [],
   "source": []
  },
  {
   "cell_type": "code",
   "execution_count": null,
   "id": "6ea8f6c7-4133-4a3c-b7aa-3d1f398cca70",
   "metadata": {},
   "outputs": [],
   "source": []
  },
  {
   "cell_type": "markdown",
   "id": "7ed1c34d-dcb2-438f-80c7-c9490f4e4ae6",
   "metadata": {},
   "source": [
    "### For debugging PDB loading/template matching"
   ]
  },
  {
   "cell_type": "code",
   "execution_count": 29,
   "id": "f7996a8d-1b4b-418e-8265-1bab1129dadc",
   "metadata": {
    "execution": {
     "iopub.execute_input": "2025-08-15T18:35:15.600954Z",
     "iopub.status.busy": "2025-08-15T18:35:15.600337Z",
     "iopub.status.idle": "2025-08-15T18:35:15.609853Z",
     "shell.execute_reply": "2025-08-15T18:35:15.608812Z",
     "shell.execute_reply.started": "2025-08-15T18:35:15.600923Z"
    }
   },
   "outputs": [],
   "source": [
    "from ptm_prototype import react\n",
    "from ptm_prototype import draw_molecule\n",
    "\n",
    "\n",
    "def draw_mol_with_atom_names(mol_to_draw):\n",
    "    return draw_molecule(\n",
    "        mol_to_draw,\n",
    "        width=700,\n",
    "        height=600,\n",
    "        atom_notes={\n",
    "            i: (\n",
    "                f\"{i}:{'|'.join([atom.name, *atom.metadata.get('synonyms', '').split()])}\"\n",
    "                + f\"{'^' if bool(atom.metadata.get('leaving_atom')) else ''}\"\n",
    "            )\n",
    "            for i, atom in enumerate(mol_to_draw.atoms)\n",
    "        },\n",
    "    )"
   ]
  },
  {
   "cell_type": "code",
   "execution_count": 32,
   "id": "15308279-ac37-45c8-88c6-bf28399d3127",
   "metadata": {
    "execution": {
     "iopub.execute_input": "2025-08-15T18:35:53.592774Z",
     "iopub.status.busy": "2025-08-15T18:35:53.591368Z",
     "iopub.status.idle": "2025-08-15T18:35:53.638814Z",
     "shell.execute_reply": "2025-08-15T18:35:53.638127Z",
     "shell.execute_reply.started": "2025-08-15T18:35:53.592678Z"
    }
   },
   "outputs": [
    {
     "name": "stdout",
     "output_type": "stream",
     "text": [
      "LYSINE -H2 -HZ3\n"
     ]
    },
    {
     "data": {
      "image/svg+xml": [
       "<svg xmlns=\"http://www.w3.org/2000/svg\" xmlns:rdkit=\"http://www.rdkit.org/xml\" xmlns:xlink=\"http://www.w3.org/1999/xlink\" version=\"1.1\" baseProfile=\"full\" xml:space=\"preserve\" width=\"700px\" height=\"600px\" viewBox=\"0 0 700 600\">\n",
       "<!-- END OF HEADER -->\n",
       "<rect style=\"opacity:1.0;fill:#FFFFFF;stroke:none\" width=\"700.0\" height=\"600.0\" x=\"0.0\" y=\"0.0\"> </rect>\n",
       "<path class=\"bond-0 atom-0 atom-1\" d=\"M 346.9,385.0 L 361.2,370.7\" style=\"fill:none;fill-rule:evenodd;stroke:#0000FF;stroke-width:2.0px;stroke-linecap:butt;stroke-linejoin:miter;stroke-opacity:1\"/>\n",
       "<path class=\"bond-0 atom-0 atom-1\" d=\"M 361.2,370.7 L 375.6,356.3\" style=\"fill:none;fill-rule:evenodd;stroke:#000000;stroke-width:2.0px;stroke-linecap:butt;stroke-linejoin:miter;stroke-opacity:1\"/>\n",
       "<path class=\"bond-1 atom-0 atom-10\" d=\"M 325.1,392.9 L 309.0,388.5\" style=\"fill:none;fill-rule:evenodd;stroke:#0000FF;stroke-width:2.0px;stroke-linecap:butt;stroke-linejoin:miter;stroke-opacity:1\"/>\n",
       "<path class=\"bond-1 atom-0 atom-10\" d=\"M 309.0,388.5 L 292.9,384.1\" style=\"fill:none;fill-rule:evenodd;stroke:#000000;stroke-width:2.0px;stroke-linecap:butt;stroke-linejoin:miter;stroke-opacity:1\"/>\n",
       "<path class=\"bond-2 atom-1 atom-2\" d=\"M 375.6,356.3 L 415.1,395.6\" style=\"fill:none;fill-rule:evenodd;stroke:#000000;stroke-width:2.0px;stroke-linecap:butt;stroke-linejoin:miter;stroke-opacity:1\"/>\n",
       "<path class=\"bond-3 atom-1 atom-4\" d=\"M 375.6,356.3 L 390.2,301.5\" style=\"fill:none;fill-rule:evenodd;stroke:#000000;stroke-width:2.0px;stroke-linecap:butt;stroke-linejoin:miter;stroke-opacity:1\"/>\n",
       "<path class=\"bond-4 atom-1 atom-11\" d=\"M 372.1,355.8 L 372.2,355.1\" style=\"fill:none;fill-rule:evenodd;stroke:#000000;stroke-width:1.0px;stroke-linecap:butt;stroke-linejoin:miter;stroke-opacity:1\"/>\n",
       "<path class=\"bond-4 atom-1 atom-11\" d=\"M 368.6,355.3 L 368.9,353.9\" style=\"fill:none;fill-rule:evenodd;stroke:#000000;stroke-width:1.0px;stroke-linecap:butt;stroke-linejoin:miter;stroke-opacity:1\"/>\n",
       "<path class=\"bond-4 atom-1 atom-11\" d=\"M 365.1,354.7 L 365.6,352.7\" style=\"fill:none;fill-rule:evenodd;stroke:#000000;stroke-width:1.0px;stroke-linecap:butt;stroke-linejoin:miter;stroke-opacity:1\"/>\n",
       "<path class=\"bond-4 atom-1 atom-11\" d=\"M 361.6,354.2 L 362.3,351.5\" style=\"fill:none;fill-rule:evenodd;stroke:#000000;stroke-width:1.0px;stroke-linecap:butt;stroke-linejoin:miter;stroke-opacity:1\"/>\n",
       "<path class=\"bond-4 atom-1 atom-11\" d=\"M 358.2,353.7 L 359.0,350.3\" style=\"fill:none;fill-rule:evenodd;stroke:#000000;stroke-width:1.0px;stroke-linecap:butt;stroke-linejoin:miter;stroke-opacity:1\"/>\n",
       "<path class=\"bond-4 atom-1 atom-11\" d=\"M 354.7,353.2 L 355.7,349.1\" style=\"fill:none;fill-rule:evenodd;stroke:#000000;stroke-width:1.0px;stroke-linecap:butt;stroke-linejoin:miter;stroke-opacity:1\"/>\n",
       "<path class=\"bond-4 atom-1 atom-11\" d=\"M 351.2,352.7 L 352.4,347.9\" style=\"fill:none;fill-rule:evenodd;stroke:#000000;stroke-width:1.0px;stroke-linecap:butt;stroke-linejoin:miter;stroke-opacity:1\"/>\n",
       "<path class=\"bond-4 atom-1 atom-11\" d=\"M 347.7,352.1 L 349.1,346.7\" style=\"fill:none;fill-rule:evenodd;stroke:#000000;stroke-width:1.0px;stroke-linecap:butt;stroke-linejoin:miter;stroke-opacity:1\"/>\n",
       "<path class=\"bond-4 atom-1 atom-11\" d=\"M 344.2,351.6 L 345.8,345.5\" style=\"fill:none;fill-rule:evenodd;stroke:#000000;stroke-width:1.0px;stroke-linecap:butt;stroke-linejoin:miter;stroke-opacity:1\"/>\n",
       "<path class=\"bond-4 atom-1 atom-11\" d=\"M 340.8,351.1 L 342.5,344.3\" style=\"fill:none;fill-rule:evenodd;stroke:#000000;stroke-width:1.0px;stroke-linecap:butt;stroke-linejoin:miter;stroke-opacity:1\"/>\n",
       "<path class=\"bond-4 atom-1 atom-11\" d=\"M 337.3,350.6 L 339.2,343.1\" style=\"fill:none;fill-rule:evenodd;stroke:#000000;stroke-width:1.0px;stroke-linecap:butt;stroke-linejoin:miter;stroke-opacity:1\"/>\n",
       "<path class=\"bond-4 atom-1 atom-11\" d=\"M 333.8,350.0 L 335.9,341.9\" style=\"fill:none;fill-rule:evenodd;stroke:#000000;stroke-width:1.0px;stroke-linecap:butt;stroke-linejoin:miter;stroke-opacity:1\"/>\n",
       "<path class=\"bond-5 atom-2 atom-3\" d=\"M 413.9,400.3 L 435.8,394.4\" style=\"fill:none;fill-rule:evenodd;stroke:#000000;stroke-width:2.0px;stroke-linecap:butt;stroke-linejoin:miter;stroke-opacity:1\"/>\n",
       "<path class=\"bond-5 atom-2 atom-3\" d=\"M 435.8,394.4 L 457.6,388.4\" style=\"fill:none;fill-rule:evenodd;stroke:#FF0000;stroke-width:2.0px;stroke-linecap:butt;stroke-linejoin:miter;stroke-opacity:1\"/>\n",
       "<path class=\"bond-5 atom-2 atom-3\" d=\"M 411.7,392.2 L 433.5,386.2\" style=\"fill:none;fill-rule:evenodd;stroke:#000000;stroke-width:2.0px;stroke-linecap:butt;stroke-linejoin:miter;stroke-opacity:1\"/>\n",
       "<path class=\"bond-5 atom-2 atom-3\" d=\"M 433.5,386.2 L 455.4,380.3\" style=\"fill:none;fill-rule:evenodd;stroke:#FF0000;stroke-width:2.0px;stroke-linecap:butt;stroke-linejoin:miter;stroke-opacity:1\"/>\n",
       "<path class=\"bond-6 atom-2 atom-9\" d=\"M 415.1,395.6 L 409.8,415.7\" style=\"fill:none;fill-rule:evenodd;stroke:#000000;stroke-width:2.0px;stroke-linecap:butt;stroke-linejoin:miter;stroke-opacity:1\"/>\n",
       "<path class=\"bond-6 atom-2 atom-9\" d=\"M 409.8,415.7 L 404.4,435.8\" style=\"fill:none;fill-rule:evenodd;stroke:#FF0000;stroke-width:2.0px;stroke-linecap:butt;stroke-linejoin:miter;stroke-opacity:1\"/>\n",
       "<path class=\"bond-7 atom-4 atom-5\" d=\"M 390.2,301.5 L 350.1,260.5\" style=\"fill:none;fill-rule:evenodd;stroke:#000000;stroke-width:2.0px;stroke-linecap:butt;stroke-linejoin:miter;stroke-opacity:1\"/>\n",
       "<path class=\"bond-8 atom-4 atom-12\" d=\"M 390.2,301.5 L 419.1,273.5\" style=\"fill:none;fill-rule:evenodd;stroke:#000000;stroke-width:2.0px;stroke-linecap:butt;stroke-linejoin:miter;stroke-opacity:1\"/>\n",
       "<path class=\"bond-9 atom-4 atom-13\" d=\"M 390.2,301.5 L 433.2,313.3\" style=\"fill:none;fill-rule:evenodd;stroke:#000000;stroke-width:2.0px;stroke-linecap:butt;stroke-linejoin:miter;stroke-opacity:1\"/>\n",
       "<path class=\"bond-10 atom-5 atom-6\" d=\"M 350.1,260.5 L 364.5,205.4\" style=\"fill:none;fill-rule:evenodd;stroke:#000000;stroke-width:2.0px;stroke-linecap:butt;stroke-linejoin:miter;stroke-opacity:1\"/>\n",
       "<path class=\"bond-11 atom-5 atom-14\" d=\"M 350.1,260.5 L 321.4,288.2\" style=\"fill:none;fill-rule:evenodd;stroke:#000000;stroke-width:2.0px;stroke-linecap:butt;stroke-linejoin:miter;stroke-opacity:1\"/>\n",
       "<path class=\"bond-12 atom-5 atom-15\" d=\"M 350.1,260.5 L 307.9,249.3\" style=\"fill:none;fill-rule:evenodd;stroke:#000000;stroke-width:2.0px;stroke-linecap:butt;stroke-linejoin:miter;stroke-opacity:1\"/>\n",
       "<path class=\"bond-13 atom-6 atom-7\" d=\"M 364.5,205.4 L 324.5,165.1\" style=\"fill:none;fill-rule:evenodd;stroke:#000000;stroke-width:2.0px;stroke-linecap:butt;stroke-linejoin:miter;stroke-opacity:1\"/>\n",
       "<path class=\"bond-14 atom-6 atom-16\" d=\"M 364.5,205.4 L 407.4,216.3\" style=\"fill:none;fill-rule:evenodd;stroke:#000000;stroke-width:2.0px;stroke-linecap:butt;stroke-linejoin:miter;stroke-opacity:1\"/>\n",
       "<path class=\"bond-15 atom-6 atom-17\" d=\"M 364.5,205.4 L 392.9,176.8\" style=\"fill:none;fill-rule:evenodd;stroke:#000000;stroke-width:2.0px;stroke-linecap:butt;stroke-linejoin:miter;stroke-opacity:1\"/>\n",
       "<path class=\"bond-16 atom-7 atom-8\" d=\"M 324.5,165.1 L 302.5,170.6\" style=\"fill:none;fill-rule:evenodd;stroke:#000000;stroke-width:2.0px;stroke-linecap:butt;stroke-linejoin:miter;stroke-opacity:1\"/>\n",
       "<path class=\"bond-16 atom-7 atom-8\" d=\"M 302.5,170.6 L 280.5,176.0\" style=\"fill:none;fill-rule:evenodd;stroke:#0000FF;stroke-width:2.0px;stroke-linecap:butt;stroke-linejoin:miter;stroke-opacity:1\"/>\n",
       "<path class=\"bond-17 atom-7 atom-18\" d=\"M 324.5,165.1 L 353.4,136.8\" style=\"fill:none;fill-rule:evenodd;stroke:#000000;stroke-width:2.0px;stroke-linecap:butt;stroke-linejoin:miter;stroke-opacity:1\"/>\n",
       "<path class=\"bond-18 atom-7 atom-19\" d=\"M 324.5,165.1 L 314.2,124.5\" style=\"fill:none;fill-rule:evenodd;stroke:#000000;stroke-width:2.0px;stroke-linecap:butt;stroke-linejoin:miter;stroke-opacity:1\"/>\n",
       "<path class=\"bond-19 atom-8 atom-20\" d=\"M 265.6,192.5 L 261.8,205.4\" style=\"fill:none;fill-rule:evenodd;stroke:#0000FF;stroke-width:2.0px;stroke-linecap:butt;stroke-linejoin:miter;stroke-opacity:1\"/>\n",
       "<path class=\"bond-19 atom-8 atom-20\" d=\"M 261.8,205.4 L 258.1,218.2\" style=\"fill:none;fill-rule:evenodd;stroke:#000000;stroke-width:2.0px;stroke-linecap:butt;stroke-linejoin:miter;stroke-opacity:1\"/>\n",
       "<path class=\"bond-20 atom-8 atom-21\" d=\"M 258.7,167.4 L 250.3,158.7\" style=\"fill:none;fill-rule:evenodd;stroke:#0000FF;stroke-width:2.0px;stroke-linecap:butt;stroke-linejoin:miter;stroke-opacity:1\"/>\n",
       "<path class=\"bond-20 atom-8 atom-21\" d=\"M 250.3,158.7 L 241.9,150.0\" style=\"fill:none;fill-rule:evenodd;stroke:#000000;stroke-width:2.0px;stroke-linecap:butt;stroke-linejoin:miter;stroke-opacity:1\"/>\n",
       "<path class=\"bond-21 atom-9 atom-22\" d=\"M 413.5,462.5 L 421.4,470.3\" style=\"fill:none;fill-rule:evenodd;stroke:#FF0000;stroke-width:2.0px;stroke-linecap:butt;stroke-linejoin:miter;stroke-opacity:1\"/>\n",
       "<path class=\"bond-21 atom-9 atom-22\" d=\"M 421.4,470.3 L 429.3,478.1\" style=\"fill:none;fill-rule:evenodd;stroke:#000000;stroke-width:2.0px;stroke-linecap:butt;stroke-linejoin:miter;stroke-opacity:1\"/>\n",
       "<path d=\"M 413.2,393.6 L 415.1,395.6 L 414.9,396.6\" style=\"fill:none;stroke:#000000;stroke-width:2.0px;stroke-linecap:butt;stroke-linejoin:miter;stroke-miterlimit:10;stroke-opacity:1;\"/>\n",
       "<path class=\"atom-0\" d=\"M 330.7 384.0 L 338.5 396.6 Q 339.3 397.9, 340.5 400.1 Q 341.8 402.4, 341.9 402.5 L 341.9 384.0 L 345.0 384.0 L 345.0 407.9 L 341.8 407.9 L 333.4 394.0 Q 332.4 392.4, 331.3 390.6 Q 330.3 388.7, 330.0 388.1 L 330.0 407.9 L 326.9 407.9 L 326.9 384.0 L 330.7 384.0 \" fill=\"#0000FF\"/>\n",
       "<path class=\"atom-0\" d=\"M 349.4 387.9 L 357.5 387.9 L 357.5 389.7 L 349.4 389.7 L 349.4 387.9 \" fill=\"#0000FF\"/>\n",
       "<path class=\"atom-3\" d=\"M 458.4 380.9 Q 458.4 375.2, 461.2 372.0 Q 464.0 368.8, 469.3 368.8 Q 474.6 368.8, 477.5 372.0 Q 480.3 375.2, 480.3 380.9 Q 480.3 386.7, 477.4 390.0 Q 474.6 393.3, 469.3 393.3 Q 464.1 393.3, 461.2 390.0 Q 458.4 386.8, 458.4 380.9 M 469.3 390.6 Q 473.0 390.6, 474.9 388.2 Q 476.9 385.7, 476.9 380.9 Q 476.9 376.2, 474.9 373.9 Q 473.0 371.5, 469.3 371.5 Q 465.7 371.5, 463.7 373.9 Q 461.7 376.2, 461.7 380.9 Q 461.7 385.8, 463.7 388.2 Q 465.7 390.6, 469.3 390.6 \" fill=\"#FF0000\"/>\n",
       "<path class=\"atom-8\" d=\"M 264.3 166.8 L 272.2 179.5 Q 272.9 180.7, 274.2 183.0 Q 275.4 185.2, 275.5 185.4 L 275.5 166.8 L 278.7 166.8 L 278.7 190.7 L 275.4 190.7 L 267.0 176.9 Q 266.0 175.2, 265.0 173.4 Q 264.0 171.5, 263.7 171.0 L 263.7 190.7 L 260.6 190.7 L 260.6 166.8 L 264.3 166.8 \" fill=\"#0000FF\"/>\n",
       "<path class=\"atom-9\" d=\"M 389.8 449.8 Q 389.8 444.1, 392.6 440.9 Q 395.4 437.7, 400.7 437.7 Q 406.0 437.7, 408.9 440.9 Q 411.7 444.1, 411.7 449.8 Q 411.7 455.6, 408.8 458.9 Q 406.0 462.2, 400.7 462.2 Q 395.5 462.2, 392.6 458.9 Q 389.8 455.6, 389.8 449.8 M 400.7 459.5 Q 404.4 459.5, 406.3 457.1 Q 408.3 454.6, 408.3 449.8 Q 408.3 445.1, 406.3 442.8 Q 404.4 440.4, 400.7 440.4 Q 397.1 440.4, 395.1 442.7 Q 393.1 445.1, 393.1 449.8 Q 393.1 454.6, 395.1 457.1 Q 397.1 459.5, 400.7 459.5 \" fill=\"#FF0000\"/>\n",
       "<path class=\"atom-10\" d=\"M 272.4 369.1 L 275.6 369.1 L 275.6 379.3 L 287.8 379.3 L 287.8 369.1 L 291.0 369.1 L 291.0 393.0 L 287.8 393.0 L 287.8 382.0 L 275.6 382.0 L 275.6 393.0 L 272.4 393.0 L 272.4 369.1 \" fill=\"#000000\"/>\n",
       "<path class=\"atom-11\" d=\"M 312.5 330.7 L 315.7 330.7 L 315.7 340.9 L 327.9 340.9 L 327.9 330.7 L 331.1 330.7 L 331.1 354.6 L 327.9 354.6 L 327.9 343.6 L 315.7 343.6 L 315.7 354.6 L 312.5 354.6 L 312.5 330.7 \" fill=\"#000000\"/>\n",
       "<path class=\"atom-12\" d=\"M 421.0 250.8 L 424.2 250.8 L 424.2 260.9 L 436.4 260.9 L 436.4 250.8 L 439.6 250.8 L 439.6 274.6 L 436.4 274.6 L 436.4 263.6 L 424.2 263.6 L 424.2 274.6 L 421.0 274.6 L 421.0 250.8 \" fill=\"#000000\"/>\n",
       "<path class=\"atom-13\" d=\"M 435.0 304.5 L 438.3 304.5 L 438.3 314.6 L 450.5 314.6 L 450.5 304.5 L 453.7 304.5 L 453.7 328.4 L 450.5 328.4 L 450.5 317.3 L 438.3 317.3 L 438.3 328.4 L 435.0 328.4 L 435.0 304.5 \" fill=\"#000000\"/>\n",
       "<path class=\"atom-14\" d=\"M 300.9 287.1 L 304.1 287.1 L 304.1 297.2 L 316.3 297.2 L 316.3 287.1 L 319.6 287.1 L 319.6 311.0 L 316.3 311.0 L 316.3 299.9 L 304.1 299.9 L 304.1 311.0 L 300.9 311.0 L 300.9 287.1 \" fill=\"#000000\"/>\n",
       "<path class=\"atom-15\" d=\"M 287.4 234.4 L 290.6 234.4 L 290.6 244.5 L 302.8 244.5 L 302.8 234.4 L 306.1 234.4 L 306.1 258.2 L 302.8 258.2 L 302.8 247.2 L 290.6 247.2 L 290.6 258.2 L 287.4 258.2 L 287.4 234.4 \" fill=\"#000000\"/>\n",
       "<path class=\"atom-16\" d=\"M 409.3 207.2 L 412.5 207.2 L 412.5 217.3 L 424.7 217.3 L 424.7 207.2 L 428.0 207.2 L 428.0 231.1 L 424.7 231.1 L 424.7 220.0 L 412.5 220.0 L 412.5 231.1 L 409.3 231.1 L 409.3 207.2 \" fill=\"#000000\"/>\n",
       "<path class=\"atom-17\" d=\"M 394.7 153.5 L 398.0 153.5 L 398.0 163.7 L 410.2 163.7 L 410.2 153.5 L 413.4 153.5 L 413.4 177.4 L 410.2 177.4 L 410.2 166.4 L 398.0 166.4 L 398.0 177.4 L 394.7 177.4 L 394.7 153.5 \" fill=\"#000000\"/>\n",
       "<path class=\"atom-18\" d=\"M 355.2 113.8 L 358.4 113.8 L 358.4 124.0 L 370.7 124.0 L 370.7 113.8 L 373.9 113.8 L 373.9 137.7 L 370.7 137.7 L 370.7 126.7 L 358.4 126.7 L 358.4 137.7 L 355.2 137.7 L 355.2 113.8 \" fill=\"#000000\"/>\n",
       "<path class=\"atom-19\" d=\"M 301.3 98.8 L 304.6 98.8 L 304.6 109.0 L 316.8 109.0 L 316.8 98.8 L 320.0 98.8 L 320.0 122.7 L 316.8 122.7 L 316.8 111.7 L 304.6 111.7 L 304.6 122.7 L 301.3 122.7 L 301.3 98.8 \" fill=\"#000000\"/>\n",
       "<path class=\"atom-20\" d=\"M 244.7 220.1 L 247.9 220.1 L 247.9 230.2 L 260.1 230.2 L 260.1 220.1 L 263.4 220.1 L 263.4 244.0 L 260.1 244.0 L 260.1 232.9 L 247.9 232.9 L 247.9 244.0 L 244.7 244.0 L 244.7 220.1 \" fill=\"#000000\"/>\n",
       "<path class=\"atom-21\" d=\"M 221.3 126.5 L 224.6 126.5 L 224.6 136.6 L 236.8 136.6 L 236.8 126.5 L 240.0 126.5 L 240.0 150.3 L 236.8 150.3 L 236.8 139.3 L 224.6 139.3 L 224.6 150.3 L 221.3 150.3 L 221.3 126.5 \" fill=\"#000000\"/>\n",
       "<path class=\"atom-22\" d=\"M 431.2 477.3 L 434.4 477.3 L 434.4 487.5 L 446.6 487.5 L 446.6 477.3 L 449.9 477.3 L 449.9 501.2 L 446.6 501.2 L 446.6 490.2 L 434.4 490.2 L 434.4 501.2 L 431.2 501.2 L 431.2 477.3 \" fill=\"#000000\"/>\n",
       "<path class=\"note\" d=\"M 336.0 429.2 Q 333.8 429.2, 332.7 427.6 Q 331.6 426.0, 331.6 423.1 Q 331.6 420.2, 332.7 418.6 Q 333.8 417.0, 336.0 417.0 Q 338.2 417.0, 339.3 418.6 Q 340.4 420.2, 340.4 423.1 Q 340.4 426.0, 339.3 427.6 Q 338.2 429.2, 336.0 429.2 M 336.0 427.9 Q 337.3 427.9, 338.0 426.7 Q 338.7 425.5, 338.7 423.1 Q 338.7 420.8, 338.0 419.6 Q 337.3 418.4, 336.0 418.4 Q 334.7 418.4, 334.0 419.6 Q 333.3 420.8, 333.3 423.1 Q 333.3 425.5, 334.0 426.7 Q 334.7 427.9, 336.0 427.9 \" fill=\"#000000\"/>\n",
       "<path class=\"note\" d=\"M 342.1 427.1 L 343.8 427.1 L 343.8 428.8 L 342.1 428.8 L 342.1 427.1 M 342.1 421.3 L 343.8 421.3 L 343.8 423.0 L 342.1 423.0 L 342.1 421.3 \" fill=\"#000000\"/>\n",
       "<path class=\"note\" d=\"M 347.6 417.2 L 351.5 423.5 Q 351.9 424.1, 352.5 425.3 Q 353.1 426.4, 353.2 426.4 L 353.2 417.2 L 354.7 417.2 L 354.7 429.1 L 353.1 429.1 L 348.9 422.2 Q 348.4 421.4, 347.9 420.5 Q 347.4 419.5, 347.2 419.3 L 347.2 429.1 L 345.7 429.1 L 345.7 417.2 L 347.6 417.2 \" fill=\"#000000\"/>\n",
       "<path class=\"note\" d=\"M 387.7 360.9 L 390.3 360.9 L 390.3 352.0 L 387.4 352.9 L 387.0 351.9 L 390.7 350.3 L 391.9 350.5 L 391.9 360.9 L 394.2 360.9 L 394.2 362.3 L 387.7 362.3 L 387.7 360.9 \" fill=\"#000000\"/>\n",
       "<path class=\"note\" d=\"M 395.7 360.3 L 397.3 360.3 L 397.3 362.0 L 395.7 362.0 L 395.7 360.3 M 395.7 354.5 L 397.3 354.5 L 397.3 356.2 L 395.7 356.2 L 395.7 354.5 \" fill=\"#000000\"/>\n",
       "<path class=\"note\" d=\"M 399.3 356.3 Q 399.3 353.3, 400.7 351.8 Q 402.1 350.2, 404.7 350.2 Q 407.2 350.2, 408.5 352.0 L 407.4 352.9 Q 406.4 351.6, 404.7 351.6 Q 402.9 351.6, 402.0 352.8 Q 401.0 354.0, 401.0 356.3 Q 401.0 358.7, 402.0 359.9 Q 403.0 361.1, 404.9 361.1 Q 406.2 361.1, 407.8 360.3 L 408.3 361.6 Q 407.6 362.0, 406.7 362.2 Q 405.7 362.4, 404.7 362.4 Q 402.1 362.4, 400.7 360.9 Q 399.3 359.3, 399.3 356.3 \" fill=\"#000000\"/>\n",
       "<path class=\"note\" d=\"M 418.7 362.3 L 417.5 358.8 L 412.7 358.8 L 411.5 362.3 L 409.9 362.3 L 414.0 350.4 L 416.0 350.4 L 420.3 362.3 L 418.7 362.3 M 413.2 357.4 L 417.0 357.4 L 415.0 352.0 L 413.2 357.4 \" fill=\"#000000\"/>\n",
       "<path class=\"note\" d=\"M 423.9 411.8 Q 424.3 410.6, 425.4 410.0 Q 426.4 409.4, 427.8 409.4 Q 429.7 409.4, 430.7 410.4 Q 431.7 411.3, 431.7 413.1 Q 431.7 414.8, 430.4 416.5 Q 429.1 418.1, 426.4 420.1 L 431.9 420.1 L 431.9 421.4 L 423.8 421.4 L 423.8 420.3 Q 426.1 418.7, 427.4 417.6 Q 428.7 416.4, 429.3 415.3 Q 430.0 414.2, 430.0 413.2 Q 430.0 412.0, 429.4 411.4 Q 428.8 410.7, 427.8 410.7 Q 426.9 410.7, 426.2 411.1 Q 425.6 411.5, 425.2 412.4 L 423.9 411.8 \" fill=\"#000000\"/>\n",
       "<path class=\"note\" d=\"M 433.5 419.5 L 435.2 419.5 L 435.2 421.2 L 433.5 421.2 L 433.5 419.5 M 433.5 413.7 L 435.2 413.7 L 435.2 415.4 L 433.5 415.4 L 433.5 413.7 \" fill=\"#000000\"/>\n",
       "<path class=\"note\" d=\"M 437.1 415.5 Q 437.1 412.5, 438.5 410.9 Q 439.9 409.4, 442.5 409.4 Q 445.0 409.4, 446.3 411.1 L 445.2 412.0 Q 444.2 410.8, 442.5 410.8 Q 440.7 410.8, 439.8 412.0 Q 438.8 413.2, 438.8 415.5 Q 438.8 417.8, 439.8 419.0 Q 440.8 420.2, 442.7 420.2 Q 444.0 420.2, 445.6 419.5 L 446.0 420.7 Q 445.4 421.1, 444.5 421.4 Q 443.5 421.6, 442.5 421.6 Q 439.9 421.6, 438.5 420.0 Q 437.1 418.4, 437.1 415.5 \" fill=\"#000000\"/>\n",
       "<path class=\"note\" d=\"M 470.3 407.7 Q 471.4 408.1, 472.0 408.8 Q 472.6 409.6, 472.6 410.7 Q 472.6 411.8, 472.1 412.5 Q 471.6 413.3, 470.6 413.8 Q 469.7 414.2, 468.5 414.2 Q 467.2 414.2, 466.3 413.7 Q 465.3 413.3, 464.6 412.4 L 465.5 411.4 Q 466.3 412.2, 466.9 412.5 Q 467.5 412.8, 468.5 412.8 Q 469.6 412.8, 470.2 412.3 Q 470.9 411.7, 470.9 410.7 Q 470.9 409.5, 470.2 409.0 Q 469.5 408.4, 468.1 408.4 L 467.2 408.4 L 467.2 407.2 L 468.0 407.2 Q 469.3 407.2, 469.9 406.6 Q 470.6 406.1, 470.6 405.0 Q 470.6 404.2, 470.1 403.8 Q 469.5 403.3, 468.5 403.3 Q 467.5 403.3, 466.9 403.6 Q 466.3 404.0, 465.8 404.9 L 464.7 404.3 Q 465.1 403.3, 466.1 402.6 Q 467.1 401.9, 468.5 401.9 Q 470.3 401.9, 471.3 402.8 Q 472.3 403.6, 472.3 405.0 Q 472.3 406.0, 471.8 406.6 Q 471.3 407.3, 470.3 407.7 \" fill=\"#000000\"/>\n",
       "<path class=\"note\" d=\"M 474.3 412.0 L 475.9 412.0 L 475.9 413.7 L 474.3 413.7 L 474.3 412.0 M 474.3 406.2 L 475.9 406.2 L 475.9 407.9 L 474.3 407.9 L 474.3 406.2 \" fill=\"#000000\"/>\n",
       "<path class=\"note\" d=\"M 477.9 408.0 Q 477.9 405.1, 479.3 403.5 Q 480.7 401.9, 483.4 401.9 Q 486.0 401.9, 487.4 403.5 Q 488.9 405.1, 488.9 408.0 Q 488.9 410.9, 487.4 412.6 Q 486.0 414.2, 483.4 414.2 Q 480.8 414.2, 479.3 412.6 Q 477.9 410.9, 477.9 408.0 M 483.4 412.9 Q 485.2 412.9, 486.2 411.6 Q 487.2 410.4, 487.2 408.0 Q 487.2 405.7, 486.2 404.5 Q 485.2 403.3, 483.4 403.3 Q 481.6 403.3, 480.6 404.5 Q 479.6 405.7, 479.6 408.0 Q 479.6 410.4, 480.6 411.6 Q 481.6 412.9, 483.4 412.9 \" fill=\"#000000\"/>\n",
       "<path class=\"note\" d=\"M 354.2 310.6 L 355.7 310.6 L 355.7 311.9 L 354.2 311.9 L 354.2 314.7 L 352.7 314.7 L 352.7 311.9 L 346.5 311.9 L 346.5 310.9 L 351.7 302.7 L 354.2 302.7 L 354.2 310.6 M 348.4 310.6 L 352.7 310.6 L 352.7 303.8 L 348.4 310.6 \" fill=\"#000000\"/>\n",
       "<path class=\"note\" d=\"M 357.2 312.7 L 358.9 312.7 L 358.9 314.4 L 357.2 314.4 L 357.2 312.7 M 357.2 306.9 L 358.9 306.9 L 358.9 308.6 L 357.2 308.6 L 357.2 306.9 \" fill=\"#000000\"/>\n",
       "<path class=\"note\" d=\"M 360.9 308.7 Q 360.9 305.7, 362.2 304.2 Q 363.6 302.6, 366.3 302.6 Q 368.8 302.6, 370.1 304.3 L 369.0 305.2 Q 368.0 304.0, 366.3 304.0 Q 364.5 304.0, 363.5 305.2 Q 362.6 306.4, 362.6 308.7 Q 362.6 311.0, 363.6 312.3 Q 364.6 313.5, 366.5 313.5 Q 367.8 313.5, 369.3 312.7 L 369.8 313.9 Q 369.2 314.3, 368.2 314.6 Q 367.3 314.8, 366.2 314.8 Q 363.6 314.8, 362.2 313.2 Q 360.9 311.6, 360.9 308.7 \" fill=\"#000000\"/>\n",
       "<path class=\"note\" d=\"M 377.2 308.4 Q 378.4 308.7, 379.0 309.4 Q 379.6 310.1, 379.6 311.1 Q 379.6 312.8, 378.5 313.7 Q 377.4 314.7, 375.5 314.7 L 371.4 314.7 L 371.4 302.7 L 375.0 302.7 Q 377.0 302.7, 378.0 303.6 Q 379.1 304.4, 379.1 305.9 Q 379.1 307.7, 377.2 308.4 M 373.0 304.1 L 373.0 307.8 L 375.0 307.8 Q 376.1 307.8, 376.8 307.3 Q 377.4 306.9, 377.4 305.9 Q 377.4 304.1, 375.0 304.1 L 373.0 304.1 M 375.5 313.3 Q 376.6 313.3, 377.2 312.8 Q 377.9 312.2, 377.9 311.1 Q 377.9 310.2, 377.2 309.7 Q 376.5 309.2, 375.2 309.2 L 373.0 309.2 L 373.0 313.3 L 375.5 313.3 \" fill=\"#000000\"/>\n",
       "<path class=\"note\" d=\"M 364.9 251.9 Q 365.9 251.9, 366.8 252.3 Q 367.7 252.8, 368.1 253.6 Q 368.6 254.4, 368.6 255.6 Q 368.6 256.8, 368.0 257.7 Q 367.4 258.6, 366.5 259.0 Q 365.5 259.5, 364.4 259.5 Q 363.3 259.5, 362.3 259.1 Q 361.2 258.7, 360.6 257.9 L 361.6 256.8 Q 362.1 257.5, 362.9 257.8 Q 363.6 258.1, 364.4 258.1 Q 365.5 258.1, 366.2 257.5 Q 366.9 256.8, 366.9 255.6 Q 366.9 254.3, 366.2 253.7 Q 365.5 253.1, 364.3 253.1 Q 363.3 253.1, 362.1 253.6 L 361.2 253.2 L 361.8 247.4 L 367.9 247.4 L 367.7 248.8 L 363.1 248.8 L 362.8 252.3 Q 363.8 251.9, 364.9 251.9 \" fill=\"#000000\"/>\n",
       "<path class=\"note\" d=\"M 370.2 257.4 L 371.8 257.4 L 371.8 259.1 L 370.2 259.1 L 370.2 257.4 M 370.2 251.6 L 371.8 251.6 L 371.8 253.3 L 370.2 253.3 L 370.2 251.6 \" fill=\"#000000\"/>\n",
       "<path class=\"note\" d=\"M 373.8 253.4 Q 373.8 250.4, 375.2 248.8 Q 376.6 247.3, 379.2 247.3 Q 381.7 247.3, 383.0 249.0 L 381.9 249.9 Q 380.9 248.7, 379.2 248.7 Q 377.4 248.7, 376.5 249.9 Q 375.5 251.1, 375.5 253.4 Q 375.5 255.7, 376.5 256.9 Q 377.5 258.1, 379.4 258.1 Q 380.7 258.1, 382.3 257.4 L 382.8 258.6 Q 382.1 259.0, 381.2 259.3 Q 380.2 259.5, 379.2 259.5 Q 376.6 259.5, 375.2 257.9 Q 373.8 256.3, 373.8 253.4 \" fill=\"#000000\"/>\n",
       "<path class=\"note\" d=\"M 394.0 253.5 L 394.0 258.5 Q 392.3 259.5, 389.8 259.5 Q 387.2 259.5, 385.8 257.9 Q 384.4 256.3, 384.4 253.4 Q 384.4 250.4, 385.8 248.8 Q 387.2 247.3, 389.8 247.3 Q 391.2 247.3, 392.2 247.7 Q 393.2 248.1, 394.0 249.0 L 392.9 249.9 Q 391.7 248.6, 389.8 248.6 Q 388.0 248.6, 387.1 249.8 Q 386.1 251.0, 386.1 253.4 Q 386.1 255.7, 387.1 256.9 Q 388.1 258.1, 390.0 258.1 Q 391.3 258.1, 392.4 257.7 L 392.4 253.5 L 394.0 253.5 \" fill=\"#000000\"/>\n",
       "<path class=\"note\" d=\"M 325.3 211.3 Q 326.4 211.3, 327.2 211.7 Q 328.0 212.2, 328.5 213.0 Q 328.9 213.8, 328.9 214.9 Q 328.9 216.1, 328.4 217.0 Q 327.9 217.9, 327.0 218.4 Q 326.1 218.9, 324.9 218.9 Q 322.8 218.9, 321.7 217.4 Q 320.6 216.0, 320.6 213.1 Q 320.6 209.9, 322.0 208.3 Q 323.3 206.7, 325.8 206.7 Q 326.6 206.7, 327.2 206.8 Q 327.8 207.0, 328.4 207.4 L 327.8 208.5 Q 326.9 208.0, 325.9 208.0 Q 324.2 208.0, 323.3 209.1 Q 322.4 210.2, 322.3 212.4 Q 323.0 211.9, 323.7 211.6 Q 324.5 211.3, 325.3 211.3 M 324.9 217.5 Q 325.6 217.5, 326.1 217.1 Q 326.6 216.8, 326.9 216.2 Q 327.2 215.6, 327.2 214.9 Q 327.2 213.8, 326.6 213.2 Q 326.1 212.6, 325.0 212.6 Q 324.3 212.6, 323.6 212.9 Q 322.8 213.2, 322.3 213.7 Q 322.4 215.7, 323.0 216.6 Q 323.7 217.5, 324.9 217.5 \" fill=\"#000000\"/>\n",
       "<path class=\"note\" d=\"M 330.6 216.8 L 332.2 216.8 L 332.2 218.4 L 330.6 218.4 L 330.6 216.8 M 330.6 211.0 L 332.2 211.0 L 332.2 212.6 L 330.6 212.6 L 330.6 211.0 \" fill=\"#000000\"/>\n",
       "<path class=\"note\" d=\"M 334.2 212.7 Q 334.2 209.8, 335.6 208.2 Q 337.0 206.7, 339.7 206.7 Q 342.1 206.7, 343.4 208.4 L 342.3 209.3 Q 341.4 208.0, 339.7 208.0 Q 337.8 208.0, 336.9 209.3 Q 335.9 210.5, 335.9 212.7 Q 335.9 215.1, 336.9 216.3 Q 337.9 217.5, 339.8 217.5 Q 341.2 217.5, 342.7 216.7 L 343.2 218.0 Q 342.5 218.4, 341.6 218.6 Q 340.6 218.9, 339.6 218.9 Q 337.0 218.9, 335.6 217.3 Q 334.2 215.7, 334.2 212.7 \" fill=\"#000000\"/>\n",
       "<path class=\"note\" d=\"M 348.7 206.8 Q 351.3 206.8, 352.7 208.4 Q 354.2 209.9, 354.2 212.7 Q 354.2 215.6, 352.7 217.1 Q 351.3 218.7, 348.7 218.7 L 344.8 218.7 L 344.8 206.8 L 348.7 206.8 M 348.7 217.4 Q 350.5 217.4, 351.5 216.2 Q 352.5 215.1, 352.5 212.7 Q 352.5 210.4, 351.5 209.3 Q 350.5 208.1, 348.7 208.1 L 346.4 208.1 L 346.4 217.4 L 348.7 217.4 \" fill=\"#000000\"/>\n",
       "<path class=\"note\" d=\"M 308.0 187.7 L 301.7 187.7 L 301.7 186.3 L 309.6 186.3 L 309.6 187.5 L 304.8 198.2 L 303.2 198.2 L 308.0 187.7 \" fill=\"#000000\"/>\n",
       "<path class=\"note\" d=\"M 310.8 196.3 L 312.4 196.3 L 312.4 198.0 L 310.8 198.0 L 310.8 196.3 M 310.8 190.5 L 312.4 190.5 L 312.4 192.2 L 310.8 192.2 L 310.8 190.5 \" fill=\"#000000\"/>\n",
       "<path class=\"note\" d=\"M 314.4 192.3 Q 314.4 189.3, 315.7 187.7 Q 317.1 186.2, 319.8 186.2 Q 322.3 186.2, 323.6 187.9 L 322.5 188.8 Q 321.5 187.6, 319.8 187.6 Q 318.0 187.6, 317.0 188.8 Q 316.1 190.0, 316.1 192.3 Q 316.1 194.6, 317.1 195.8 Q 318.1 197.0, 320.0 197.0 Q 321.3 197.0, 322.8 196.3 L 323.3 197.5 Q 322.7 197.9, 321.7 198.2 Q 320.8 198.4, 319.7 198.4 Q 317.1 198.4, 315.7 196.8 Q 314.4 195.2, 314.4 192.3 \" fill=\"#000000\"/>\n",
       "<path class=\"note\" d=\"M 324.9 186.3 L 332.0 186.3 L 332.0 187.7 L 326.5 187.7 L 326.5 191.3 L 331.4 191.3 L 331.4 192.7 L 326.5 192.7 L 326.5 196.8 L 332.2 196.8 L 332.2 198.2 L 324.9 198.2 L 324.9 186.3 \" fill=\"#000000\"/>\n",
       "<path class=\"note\" d=\"M 267.0 151.5 Q 268.1 151.9, 268.8 152.7 Q 269.4 153.3, 269.4 154.5 Q 269.4 155.5, 268.9 156.3 Q 268.3 157.1, 267.4 157.5 Q 266.5 158.0, 265.2 158.0 Q 263.2 158.0, 262.1 157.1 Q 261.0 156.1, 261.0 154.5 Q 261.0 153.5, 261.5 152.8 Q 262.0 152.1, 263.0 151.5 Q 262.2 151.1, 261.8 150.4 Q 261.4 149.8, 261.4 148.8 Q 261.4 147.4, 262.4 146.6 Q 263.4 145.7, 265.2 145.7 Q 266.9 145.7, 267.9 146.6 Q 268.9 147.4, 268.9 148.8 Q 268.9 149.7, 268.5 150.3 Q 268.0 151.0, 267.0 151.5 M 265.2 147.0 Q 264.2 147.0, 263.6 147.5 Q 263.1 147.9, 263.1 148.8 Q 263.1 149.4, 263.4 149.8 Q 263.8 150.2, 264.3 150.5 Q 264.9 150.7, 265.9 151.1 Q 266.6 150.5, 266.9 150.0 Q 267.3 149.5, 267.3 148.8 Q 267.3 147.9, 266.7 147.5 Q 266.2 147.0, 265.2 147.0 M 265.2 156.7 Q 266.3 156.7, 267.0 156.1 Q 267.7 155.5, 267.7 154.5 Q 267.7 153.9, 267.3 153.5 Q 267.0 153.1, 266.4 152.8 Q 265.9 152.6, 265.0 152.3 L 264.2 152.0 Q 263.4 152.5, 263.0 153.1 Q 262.6 153.7, 262.6 154.5 Q 262.6 155.5, 263.3 156.1 Q 264.1 156.7, 265.2 156.7 \" fill=\"#000000\"/>\n",
       "<path class=\"note\" d=\"M 271.1 155.8 L 272.8 155.8 L 272.8 157.5 L 271.1 157.5 L 271.1 155.8 M 271.1 150.0 L 272.8 150.0 L 272.8 151.7 L 271.1 151.7 L 271.1 150.0 \" fill=\"#000000\"/>\n",
       "<path class=\"note\" d=\"M 276.6 145.9 L 280.6 152.2 Q 280.9 152.8, 281.6 153.9 Q 282.2 155.1, 282.2 155.1 L 282.2 145.9 L 283.8 145.9 L 283.8 157.8 L 282.2 157.8 L 278.0 150.9 Q 277.5 150.1, 277.0 149.1 Q 276.5 148.2, 276.3 147.9 L 276.3 157.8 L 274.8 157.8 L 274.8 145.9 L 276.6 145.9 \" fill=\"#000000\"/>\n",
       "<path class=\"note\" d=\"M 285.9 156.5 L 291.9 147.2 L 286.1 147.2 L 286.1 145.9 L 293.9 145.9 L 293.9 147.1 L 287.9 156.4 L 293.8 156.4 L 293.8 157.8 L 285.9 157.8 L 285.9 156.5 \" fill=\"#000000\"/>\n",
       "<path class=\"note\" d=\"M 365.8 484.4 Q 367.9 484.4, 369.0 485.9 Q 370.1 487.3, 370.1 490.2 Q 370.1 493.4, 368.8 495.0 Q 367.4 496.6, 364.9 496.6 Q 364.1 496.6, 363.5 496.5 Q 362.9 496.3, 362.3 496.0 L 362.9 494.8 Q 363.8 495.3, 364.9 495.3 Q 366.6 495.3, 367.4 494.2 Q 368.3 493.1, 368.4 490.9 Q 367.8 491.4, 367.0 491.7 Q 366.2 492.0, 365.4 492.0 Q 364.4 492.0, 363.5 491.6 Q 362.7 491.1, 362.3 490.3 Q 361.8 489.5, 361.8 488.4 Q 361.8 487.3, 362.3 486.4 Q 362.8 485.5, 363.7 484.9 Q 364.7 484.4, 365.8 484.4 M 363.5 488.4 Q 363.5 489.5, 364.1 490.1 Q 364.7 490.7, 365.7 490.7 Q 366.4 490.7, 367.1 490.4 Q 367.9 490.1, 368.4 489.6 Q 368.3 487.6, 367.7 486.7 Q 367.1 485.8, 365.8 485.8 Q 365.2 485.8, 364.6 486.2 Q 364.1 486.5, 363.8 487.1 Q 363.5 487.7, 363.5 488.4 \" fill=\"#000000\"/>\n",
       "<path class=\"note\" d=\"M 372.0 494.5 L 373.7 494.5 L 373.7 496.2 L 372.0 496.2 L 372.0 494.5 M 372.0 488.7 L 373.7 488.7 L 373.7 490.4 L 372.0 490.4 L 372.0 488.7 \" fill=\"#000000\"/>\n",
       "<path class=\"note\" d=\"M 375.8 490.5 Q 375.8 487.6, 377.2 486.0 Q 378.6 484.4, 381.3 484.4 Q 383.9 484.4, 385.4 486.0 Q 386.8 487.6, 386.8 490.5 Q 386.8 493.4, 385.3 495.1 Q 383.9 496.7, 381.3 496.7 Q 378.7 496.7, 377.2 495.1 Q 375.8 493.4, 375.8 490.5 M 381.3 495.3 Q 383.1 495.3, 384.1 494.1 Q 385.1 492.9, 385.1 490.5 Q 385.1 488.2, 384.1 487.0 Q 383.1 485.8, 381.3 485.8 Q 379.5 485.8, 378.5 487.0 Q 377.5 488.2, 377.5 490.5 Q 377.5 492.9, 378.5 494.1 Q 379.5 495.3, 381.3 495.3 \" fill=\"#000000\"/>\n",
       "<path class=\"note\" d=\"M 399.2 496.5 L 397.3 496.5 L 393.8 491.6 L 390.3 496.5 L 388.4 496.5 L 392.9 490.3 L 388.8 484.6 L 390.6 484.6 L 393.9 489.1 L 397.1 484.6 L 398.9 484.6 L 394.8 490.4 L 399.2 496.5 \" fill=\"#000000\"/>\n",
       "<path class=\"note\" d=\"M 403.8 485.9 L 400.1 485.9 L 400.1 484.6 L 408.9 484.6 L 408.9 485.9 L 405.4 485.9 L 405.4 496.5 L 403.8 496.5 L 403.8 485.9 \" fill=\"#000000\"/>\n",
       "<path class=\"note\" d=\"M 414.3 484.6 L 418.1 490.4 L 416.6 490.4 L 413.9 485.9 L 411.1 490.4 L 409.7 490.4 L 413.4 484.6 L 414.3 484.6 \" fill=\"#000000\"/>\n",
       "<path class=\"note\" d=\"M 247.2 359.1 L 249.8 359.1 L 249.8 350.1 L 246.9 351.0 L 246.5 350.0 L 250.2 348.4 L 251.4 348.6 L 251.4 359.1 L 253.7 359.1 L 253.7 360.4 L 247.2 360.4 L 247.2 359.1 \" fill=\"#000000\"/>\n",
       "<path class=\"note\" d=\"M 259.4 360.5 Q 257.2 360.5, 256.1 358.9 Q 255.1 357.3, 255.1 354.4 Q 255.1 351.5, 256.1 349.9 Q 257.2 348.3, 259.4 348.3 Q 261.6 348.3, 262.7 349.9 Q 263.8 351.5, 263.8 354.4 Q 263.8 357.3, 262.7 358.9 Q 261.6 360.5, 259.4 360.5 M 259.4 359.2 Q 260.7 359.2, 261.4 358.0 Q 262.1 356.8, 262.1 354.4 Q 262.1 352.1, 261.4 350.9 Q 260.7 349.7, 259.4 349.7 Q 258.1 349.7, 257.4 350.9 Q 256.7 352.1, 256.7 354.4 Q 256.7 356.8, 257.4 358.0 Q 258.1 359.2, 259.4 359.2 \" fill=\"#000000\"/>\n",
       "<path class=\"note\" d=\"M 265.5 358.4 L 267.2 358.4 L 267.2 360.1 L 265.5 360.1 L 265.5 358.4 M 265.5 352.6 L 267.2 352.6 L 267.2 354.3 L 265.5 354.3 L 265.5 352.6 \" fill=\"#000000\"/>\n",
       "<path class=\"note\" d=\"M 269.1 348.5 L 270.7 348.5 L 270.7 353.5 L 276.8 353.5 L 276.8 348.5 L 278.5 348.5 L 278.5 360.4 L 276.8 360.4 L 276.8 354.9 L 270.7 354.9 L 270.7 360.4 L 269.1 360.4 L 269.1 348.5 \" fill=\"#000000\"/>\n",
       "<path class=\"note\" d=\"M 280.5 347.4 L 282.0 347.4 L 282.0 363.7 L 280.5 363.7 L 280.5 347.4 \" fill=\"#000000\"/>\n",
       "<path class=\"note\" d=\"M 284.0 348.5 L 285.6 348.5 L 285.6 353.5 L 291.7 353.5 L 291.7 348.5 L 293.4 348.5 L 293.4 360.4 L 291.7 360.4 L 291.7 354.9 L 285.6 354.9 L 285.6 360.4 L 284.0 360.4 L 284.0 348.5 \" fill=\"#000000\"/>\n",
       "<path class=\"note\" d=\"M 296.1 359.1 L 298.7 359.1 L 298.7 350.1 L 295.8 351.0 L 295.4 350.0 L 299.1 348.4 L 300.3 348.6 L 300.3 359.1 L 302.6 359.1 L 302.6 360.4 L 296.1 360.4 L 296.1 359.1 \" fill=\"#000000\"/>\n",
       "<path class=\"note\" d=\"M 308.7 374.3 L 311.3 374.3 L 311.3 365.4 L 308.4 366.3 L 308.0 365.3 L 311.7 363.7 L 312.9 363.9 L 312.9 374.3 L 315.2 374.3 L 315.2 375.7 L 308.7 375.7 L 308.7 374.3 \" fill=\"#000000\"/>\n",
       "<path class=\"note\" d=\"M 317.3 374.3 L 319.9 374.3 L 319.9 365.4 L 317.0 366.3 L 316.7 365.3 L 320.3 363.7 L 321.5 363.9 L 321.5 374.3 L 323.9 374.3 L 323.9 375.7 L 317.3 375.7 L 317.3 374.3 \" fill=\"#000000\"/>\n",
       "<path class=\"note\" d=\"M 325.3 373.7 L 327.0 373.7 L 327.0 375.4 L 325.3 375.4 L 325.3 373.7 M 325.3 367.9 L 327.0 367.9 L 327.0 369.6 L 325.3 369.6 L 325.3 367.9 \" fill=\"#000000\"/>\n",
       "<path class=\"note\" d=\"M 328.9 363.8 L 330.6 363.8 L 330.6 368.8 L 336.7 368.8 L 336.7 363.8 L 338.3 363.8 L 338.3 375.7 L 336.7 375.7 L 336.7 370.2 L 330.6 370.2 L 330.6 375.7 L 328.9 375.7 L 328.9 363.8 \" fill=\"#000000\"/>\n",
       "<path class=\"note\" d=\"M 349.2 375.7 L 348.0 372.2 L 343.3 372.2 L 342.1 375.7 L 340.4 375.7 L 344.5 363.8 L 346.5 363.8 L 350.8 375.7 L 349.2 375.7 M 343.7 370.8 L 347.5 370.8 L 345.6 365.4 L 343.7 370.8 \" fill=\"#000000\"/>\n",
       "<path class=\"note\" d=\"M 418.0 298.2 L 420.7 298.2 L 420.7 289.2 L 417.8 290.1 L 417.4 289.1 L 421.1 287.5 L 422.2 287.7 L 422.2 298.2 L 424.6 298.2 L 424.6 299.5 L 418.0 299.5 L 418.0 298.2 \" fill=\"#000000\"/>\n",
       "<path class=\"note\" d=\"M 426.0 289.8 Q 426.5 288.7, 427.5 288.1 Q 428.5 287.4, 430.0 287.4 Q 431.8 287.4, 432.8 288.4 Q 433.8 289.4, 433.8 291.1 Q 433.8 292.9, 432.5 294.6 Q 431.2 296.2, 428.5 298.2 L 434.0 298.2 L 434.0 299.5 L 426.0 299.5 L 426.0 298.4 Q 428.2 296.8, 429.5 295.6 Q 430.9 294.4, 431.5 293.4 Q 432.1 292.3, 432.1 291.2 Q 432.1 290.1, 431.6 289.4 Q 431.0 288.8, 430.0 288.8 Q 429.0 288.8, 428.4 289.2 Q 427.8 289.6, 427.3 290.4 L 426.0 289.8 \" fill=\"#000000\"/>\n",
       "<path class=\"note\" d=\"M 435.7 297.5 L 437.4 297.5 L 437.4 299.2 L 435.7 299.2 L 435.7 297.5 M 435.7 291.7 L 437.4 291.7 L 437.4 293.4 L 435.7 293.4 L 435.7 291.7 \" fill=\"#000000\"/>\n",
       "<path class=\"note\" d=\"M 439.4 287.6 L 441.0 287.6 L 441.0 292.7 L 447.1 292.7 L 447.1 287.6 L 448.7 287.6 L 448.7 299.5 L 447.1 299.5 L 447.1 294.0 L 441.0 294.0 L 441.0 299.5 L 439.4 299.5 L 439.4 287.6 \" fill=\"#000000\"/>\n",
       "<path class=\"note\" d=\"M 456.6 293.2 Q 457.8 293.6, 458.3 294.3 Q 458.9 295.0, 458.9 296.0 Q 458.9 297.6, 457.9 298.6 Q 456.8 299.5, 454.8 299.5 L 450.8 299.5 L 450.8 287.6 L 454.3 287.6 Q 456.4 287.6, 457.4 288.4 Q 458.4 289.2, 458.4 290.7 Q 458.4 292.6, 456.6 293.2 M 452.4 288.9 L 452.4 292.7 L 454.3 292.7 Q 455.5 292.7, 456.1 292.2 Q 456.8 291.7, 456.8 290.7 Q 456.8 288.9, 454.3 288.9 L 452.4 288.9 M 454.8 298.2 Q 456.0 298.2, 456.6 297.6 Q 457.2 297.1, 457.2 296.0 Q 457.2 295.0, 456.5 294.5 Q 455.9 294.0, 454.6 294.0 L 452.4 294.0 L 452.4 298.2 L 454.8 298.2 \" fill=\"#000000\"/>\n",
       "<path class=\"note\" d=\"M 460.4 289.8 Q 460.9 288.7, 461.9 288.1 Q 462.9 287.4, 464.4 287.4 Q 466.2 287.4, 467.2 288.4 Q 468.2 289.4, 468.2 291.1 Q 468.2 292.9, 466.9 294.6 Q 465.6 296.2, 462.9 298.2 L 468.4 298.2 L 468.4 299.5 L 460.4 299.5 L 460.4 298.4 Q 462.6 296.8, 463.9 295.6 Q 465.3 294.4, 465.9 293.4 Q 466.5 292.3, 466.5 291.2 Q 466.5 290.1, 466.0 289.4 Q 465.4 288.8, 464.4 288.8 Q 463.4 288.8, 462.8 289.2 Q 462.2 289.6, 461.7 290.4 L 460.4 289.8 \" fill=\"#000000\"/>\n",
       "<path class=\"note\" d=\"M 470.1 286.5 L 471.5 286.5 L 471.5 302.8 L 470.1 302.8 L 470.1 286.5 \" fill=\"#000000\"/>\n",
       "<path class=\"note\" d=\"M 474.3 298.2 L 476.9 298.2 L 476.9 289.2 L 474.0 290.1 L 473.7 289.1 L 477.3 287.5 L 478.5 287.7 L 478.5 298.2 L 480.9 298.2 L 480.9 299.5 L 474.3 299.5 L 474.3 298.2 \" fill=\"#000000\"/>\n",
       "<path class=\"note\" d=\"M 482.3 287.6 L 483.9 287.6 L 483.9 292.7 L 490.0 292.7 L 490.0 287.6 L 491.6 287.6 L 491.6 299.5 L 490.0 299.5 L 490.0 294.0 L 483.9 294.0 L 483.9 299.5 L 482.3 299.5 L 482.3 287.6 \" fill=\"#000000\"/>\n",
       "<path class=\"note\" d=\"M 499.5 293.2 Q 500.7 293.6, 501.2 294.3 Q 501.8 295.0, 501.8 296.0 Q 501.8 297.6, 500.8 298.6 Q 499.7 299.5, 497.7 299.5 L 493.7 299.5 L 493.7 287.6 L 497.2 287.6 Q 499.3 287.6, 500.3 288.4 Q 501.3 289.2, 501.3 290.7 Q 501.3 292.6, 499.5 293.2 M 495.3 288.9 L 495.3 292.7 L 497.2 292.7 Q 498.4 292.7, 499.0 292.2 Q 499.6 291.7, 499.6 290.7 Q 499.6 288.9, 497.2 288.9 L 495.3 288.9 M 497.7 298.2 Q 498.9 298.2, 499.5 297.6 Q 500.1 297.1, 500.1 296.0 Q 500.1 295.0, 499.4 294.5 Q 498.8 294.0, 497.5 294.0 L 495.3 294.0 L 495.3 298.2 L 497.7 298.2 \" fill=\"#000000\"/>\n",
       "<path class=\"note\" d=\"M 431.8 351.6 L 434.4 351.6 L 434.4 342.7 L 431.5 343.6 L 431.2 342.6 L 434.8 341.0 L 436.0 341.2 L 436.0 351.6 L 438.4 351.6 L 438.4 353.0 L 431.8 353.0 L 431.8 351.6 \" fill=\"#000000\"/>\n",
       "<path class=\"note\" d=\"M 445.5 346.7 Q 446.7 347.0, 447.2 347.8 Q 447.8 348.5, 447.8 349.7 Q 447.8 350.7, 447.3 351.5 Q 446.8 352.3, 445.8 352.7 Q 444.9 353.1, 443.7 353.1 Q 442.4 353.1, 441.5 352.7 Q 440.5 352.2, 439.8 351.3 L 440.7 350.4 Q 441.5 351.2, 442.1 351.5 Q 442.7 351.8, 443.7 351.8 Q 444.8 351.8, 445.4 351.2 Q 446.1 350.6, 446.1 349.7 Q 446.1 348.5, 445.4 347.9 Q 444.7 347.4, 443.3 347.4 L 442.4 347.4 L 442.4 346.2 L 443.2 346.2 Q 444.5 346.1, 445.2 345.6 Q 445.8 345.0, 445.8 343.9 Q 445.8 343.2, 445.3 342.7 Q 444.7 342.2, 443.7 342.2 Q 442.7 342.2, 442.1 342.6 Q 441.5 343.0, 441.0 343.8 L 439.9 343.2 Q 440.3 342.2, 441.3 341.6 Q 442.3 340.9, 443.7 340.9 Q 445.5 340.9, 446.5 341.7 Q 447.5 342.5, 447.5 343.9 Q 447.5 344.9, 447.0 345.6 Q 446.5 346.3, 445.5 346.7 \" fill=\"#000000\"/>\n",
       "<path class=\"note\" d=\"M 449.5 351.0 L 451.2 351.0 L 451.2 352.7 L 449.5 352.7 L 449.5 351.0 M 449.5 345.2 L 451.2 345.2 L 451.2 346.9 L 449.5 346.9 L 449.5 345.2 \" fill=\"#000000\"/>\n",
       "<path class=\"note\" d=\"M 453.1 341.0 L 454.7 341.0 L 454.7 346.1 L 460.8 346.1 L 460.8 341.0 L 462.5 341.0 L 462.5 353.0 L 460.8 353.0 L 460.8 347.5 L 454.7 347.5 L 454.7 353.0 L 453.1 353.0 L 453.1 341.0 \" fill=\"#000000\"/>\n",
       "<path class=\"note\" d=\"M 470.4 346.7 Q 471.5 347.0, 472.1 347.7 Q 472.7 348.4, 472.7 349.4 Q 472.7 351.1, 471.6 352.0 Q 470.6 353.0, 468.6 353.0 L 464.6 353.0 L 464.6 341.0 L 468.1 341.0 Q 470.1 341.0, 471.2 341.9 Q 472.2 342.7, 472.2 344.2 Q 472.2 346.0, 470.4 346.7 M 466.2 342.4 L 466.2 346.1 L 468.1 346.1 Q 469.3 346.1, 469.9 345.7 Q 470.5 345.2, 470.5 344.2 Q 470.5 342.4, 468.1 342.4 L 466.2 342.4 M 468.6 351.6 Q 469.8 351.6, 470.4 351.1 Q 471.0 350.5, 471.0 349.4 Q 471.0 348.5, 470.3 348.0 Q 469.6 347.5, 468.3 347.5 L 466.2 347.5 L 466.2 351.6 L 468.6 351.6 \" fill=\"#000000\"/>\n",
       "<path class=\"note\" d=\"M 479.9 346.7 Q 481.1 347.0, 481.6 347.8 Q 482.2 348.5, 482.2 349.7 Q 482.2 350.7, 481.7 351.5 Q 481.2 352.3, 480.2 352.7 Q 479.3 353.1, 478.1 353.1 Q 476.8 353.1, 475.9 352.7 Q 474.9 352.2, 474.2 351.3 L 475.1 350.4 Q 475.9 351.2, 476.5 351.5 Q 477.1 351.8, 478.1 351.8 Q 479.2 351.8, 479.8 351.2 Q 480.5 350.6, 480.5 349.7 Q 480.5 348.5, 479.8 347.9 Q 479.1 347.4, 477.7 347.4 L 476.8 347.4 L 476.8 346.2 L 477.6 346.2 Q 478.9 346.1, 479.6 345.6 Q 480.2 345.0, 480.2 343.9 Q 480.2 343.2, 479.7 342.7 Q 479.1 342.2, 478.1 342.2 Q 477.1 342.2, 476.5 342.6 Q 475.9 343.0, 475.4 343.8 L 474.3 343.2 Q 474.7 342.2, 475.7 341.6 Q 476.7 340.9, 478.1 340.9 Q 479.9 340.9, 480.9 341.7 Q 481.9 342.5, 481.9 343.9 Q 481.9 344.9, 481.4 345.6 Q 480.9 346.3, 479.9 346.7 \" fill=\"#000000\"/>\n",
       "<path class=\"note\" d=\"M 483.9 339.9 L 485.3 339.9 L 485.3 356.2 L 483.9 356.2 L 483.9 339.9 \" fill=\"#000000\"/>\n",
       "<path class=\"note\" d=\"M 487.4 343.3 Q 487.9 342.2, 488.9 341.5 Q 490.0 340.9, 491.4 340.9 Q 493.2 340.9, 494.2 341.9 Q 495.3 342.9, 495.3 344.6 Q 495.3 346.4, 493.9 348.0 Q 492.6 349.7, 489.9 351.6 L 495.5 351.6 L 495.5 353.0 L 487.4 353.0 L 487.4 351.8 Q 489.6 350.3, 491.0 349.1 Q 492.3 347.9, 492.9 346.8 Q 493.6 345.8, 493.6 344.7 Q 493.6 343.5, 493.0 342.9 Q 492.4 342.2, 491.4 342.2 Q 490.5 342.2, 489.8 342.6 Q 489.2 343.0, 488.7 343.9 L 487.4 343.3 \" fill=\"#000000\"/>\n",
       "<path class=\"note\" d=\"M 497.2 341.0 L 498.8 341.0 L 498.8 346.1 L 504.9 346.1 L 504.9 341.0 L 506.5 341.0 L 506.5 353.0 L 504.9 353.0 L 504.9 347.5 L 498.8 347.5 L 498.8 353.0 L 497.2 353.0 L 497.2 341.0 \" fill=\"#000000\"/>\n",
       "<path class=\"note\" d=\"M 514.4 346.7 Q 515.6 347.0, 516.1 347.7 Q 516.7 348.4, 516.7 349.4 Q 516.7 351.1, 515.7 352.0 Q 514.6 353.0, 512.6 353.0 L 508.6 353.0 L 508.6 341.0 L 512.1 341.0 Q 514.2 341.0, 515.2 341.9 Q 516.2 342.7, 516.2 344.2 Q 516.2 346.0, 514.4 346.7 M 510.2 342.4 L 510.2 346.1 L 512.1 346.1 Q 513.3 346.1, 513.9 345.7 Q 514.6 345.2, 514.6 344.2 Q 514.6 342.4, 512.1 342.4 L 510.2 342.4 M 512.6 351.6 Q 513.8 351.6, 514.4 351.1 Q 515.0 350.5, 515.0 349.4 Q 515.0 348.5, 514.4 348.0 Q 513.7 347.5, 512.4 347.5 L 510.2 347.5 L 510.2 351.6 L 512.6 351.6 \" fill=\"#000000\"/>\n",
       "<path class=\"note\" d=\"M 259.5 276.9 L 262.1 276.9 L 262.1 268.0 L 259.2 268.9 L 258.8 267.9 L 262.5 266.3 L 263.7 266.5 L 263.7 276.9 L 266.0 276.9 L 266.0 278.3 L 259.5 278.3 L 259.5 276.9 \" fill=\"#000000\"/>\n",
       "<path class=\"note\" d=\"M 275.2 274.2 L 276.7 274.2 L 276.7 275.5 L 275.2 275.5 L 275.2 278.3 L 273.6 278.3 L 273.6 275.5 L 267.5 275.5 L 267.5 274.5 L 272.7 266.3 L 275.2 266.3 L 275.2 274.2 M 269.4 274.2 L 273.6 274.2 L 273.6 267.4 L 269.4 274.2 \" fill=\"#000000\"/>\n",
       "<path class=\"note\" d=\"M 278.2 276.3 L 279.9 276.3 L 279.9 278.0 L 278.2 278.0 L 278.2 276.3 M 278.2 270.5 L 279.9 270.5 L 279.9 272.2 L 278.2 272.2 L 278.2 270.5 \" fill=\"#000000\"/>\n",
       "<path class=\"note\" d=\"M 281.9 266.3 L 283.5 266.3 L 283.5 271.4 L 289.6 271.4 L 289.6 266.3 L 291.2 266.3 L 291.2 278.3 L 289.6 278.3 L 289.6 272.8 L 283.5 272.8 L 283.5 278.3 L 281.9 278.3 L 281.9 266.3 \" fill=\"#000000\"/>\n",
       "<path class=\"note\" d=\"M 303.0 272.4 L 303.0 277.5 Q 301.3 278.4, 298.8 278.4 Q 296.2 278.4, 294.8 276.8 Q 293.4 275.3, 293.4 272.3 Q 293.4 269.3, 294.8 267.8 Q 296.2 266.2, 298.8 266.2 Q 300.2 266.2, 301.2 266.6 Q 302.2 267.1, 302.9 267.9 L 301.8 268.9 Q 300.7 267.6, 298.8 267.6 Q 297.0 267.6, 296.0 268.8 Q 295.1 270.0, 295.1 272.3 Q 295.1 274.7, 296.1 275.9 Q 297.1 277.1, 299.0 277.1 Q 300.2 277.1, 301.4 276.7 L 301.4 272.4 L 303.0 272.4 \" fill=\"#000000\"/>\n",
       "<path class=\"note\" d=\"M 305.0 268.6 Q 305.4 267.5, 306.5 266.8 Q 307.5 266.2, 309.0 266.2 Q 310.8 266.2, 311.8 267.2 Q 312.8 268.2, 312.8 269.9 Q 312.8 271.7, 311.5 273.3 Q 310.2 275.0, 307.5 276.9 L 313.0 276.9 L 313.0 278.3 L 305.0 278.3 L 305.0 277.1 Q 307.2 275.6, 308.5 274.4 Q 309.8 273.2, 310.5 272.1 Q 311.1 271.1, 311.1 270.0 Q 311.1 268.8, 310.5 268.2 Q 310.0 267.6, 309.0 267.6 Q 308.0 267.6, 307.4 267.9 Q 306.7 268.3, 306.3 269.2 L 305.0 268.6 \" fill=\"#000000\"/>\n",
       "<path class=\"note\" d=\"M 314.7 265.2 L 316.2 265.2 L 316.2 281.5 L 314.7 281.5 L 314.7 265.2 \" fill=\"#000000\"/>\n",
       "<path class=\"note\" d=\"M 319.0 276.9 L 321.6 276.9 L 321.6 268.0 L 318.7 268.9 L 318.3 267.9 L 322.0 266.3 L 323.2 266.5 L 323.2 276.9 L 325.5 276.9 L 325.5 278.3 L 319.0 278.3 L 319.0 276.9 \" fill=\"#000000\"/>\n",
       "<path class=\"note\" d=\"M 327.0 266.3 L 328.6 266.3 L 328.6 271.4 L 334.7 271.4 L 334.7 266.3 L 336.3 266.3 L 336.3 278.3 L 334.7 278.3 L 334.7 272.8 L 328.6 272.8 L 328.6 278.3 L 327.0 278.3 L 327.0 266.3 \" fill=\"#000000\"/>\n",
       "<path class=\"note\" d=\"M 348.0 272.4 L 348.0 277.5 Q 346.3 278.4, 343.8 278.4 Q 341.2 278.4, 339.8 276.8 Q 338.5 275.3, 338.5 272.3 Q 338.5 269.3, 339.8 267.8 Q 341.2 266.2, 343.9 266.2 Q 345.3 266.2, 346.3 266.6 Q 347.3 267.1, 348.0 267.9 L 346.9 268.9 Q 345.8 267.6, 343.9 267.6 Q 342.1 267.6, 341.1 268.8 Q 340.2 270.0, 340.2 272.3 Q 340.2 274.7, 341.2 275.9 Q 342.1 277.1, 344.1 277.1 Q 345.3 277.1, 346.4 276.7 L 346.4 272.4 L 348.0 272.4 \" fill=\"#000000\"/>\n",
       "<path class=\"note\" d=\"M 260.0 224.3 L 262.6 224.3 L 262.6 215.4 L 259.7 216.3 L 259.4 215.3 L 263.0 213.7 L 264.2 213.9 L 264.2 224.3 L 266.6 224.3 L 266.6 225.7 L 260.0 225.7 L 260.0 224.3 \" fill=\"#000000\"/>\n",
       "<path class=\"note\" d=\"M 272.3 218.2 Q 273.4 218.2, 274.2 218.7 Q 275.1 219.1, 275.6 219.9 Q 276.1 220.8, 276.1 221.9 Q 276.1 223.1, 275.5 224.0 Q 274.9 224.9, 273.9 225.3 Q 272.9 225.8, 271.8 225.8 Q 270.7 225.8, 269.7 225.4 Q 268.7 225.0, 268.0 224.2 L 269.0 223.2 Q 269.6 223.8, 270.3 224.1 Q 271.1 224.4, 271.8 224.4 Q 272.9 224.4, 273.6 223.8 Q 274.4 223.1, 274.4 221.9 Q 274.4 220.7, 273.6 220.1 Q 272.9 219.5, 271.7 219.5 Q 270.7 219.5, 269.5 219.9 L 268.6 219.5 L 269.2 213.7 L 275.3 213.7 L 275.2 215.1 L 270.6 215.1 L 270.2 218.6 Q 271.3 218.2, 272.3 218.2 \" fill=\"#000000\"/>\n",
       "<path class=\"note\" d=\"M 277.6 223.7 L 279.3 223.7 L 279.3 225.4 L 277.6 225.4 L 277.6 223.7 M 277.6 217.9 L 279.3 217.9 L 279.3 219.6 L 277.6 219.6 L 277.6 217.9 \" fill=\"#000000\"/>\n",
       "<path class=\"note\" d=\"M 281.3 213.7 L 282.9 213.7 L 282.9 218.8 L 289.0 218.8 L 289.0 213.7 L 290.6 213.7 L 290.6 225.7 L 289.0 225.7 L 289.0 220.2 L 282.9 220.2 L 282.9 225.7 L 281.3 225.7 L 281.3 213.7 \" fill=\"#000000\"/>\n",
       "<path class=\"note\" d=\"M 302.4 219.8 L 302.4 224.9 Q 300.7 225.8, 298.1 225.8 Q 295.5 225.8, 294.1 224.2 Q 292.8 222.7, 292.8 219.7 Q 292.8 216.7, 294.1 215.2 Q 295.5 213.6, 298.2 213.6 Q 299.6 213.6, 300.6 214.0 Q 301.6 214.5, 302.3 215.3 L 301.2 216.2 Q 300.1 214.9, 298.2 214.9 Q 296.4 214.9, 295.4 216.2 Q 294.5 217.4, 294.5 219.7 Q 294.5 222.0, 295.5 223.3 Q 296.5 224.5, 298.4 224.5 Q 299.6 224.5, 300.7 224.1 L 300.7 219.8 L 302.4 219.8 \" fill=\"#000000\"/>\n",
       "<path class=\"note\" d=\"M 310.1 219.4 Q 311.2 219.7, 311.8 220.5 Q 312.4 221.2, 312.4 222.4 Q 312.4 223.4, 311.9 224.2 Q 311.4 225.0, 310.4 225.4 Q 309.5 225.8, 308.3 225.8 Q 307.0 225.8, 306.0 225.4 Q 305.1 224.9, 304.3 224.0 L 305.3 223.1 Q 306.0 223.9, 306.7 224.2 Q 307.3 224.5, 308.3 224.5 Q 309.4 224.5, 310.0 223.9 Q 310.7 223.3, 310.7 222.4 Q 310.7 221.2, 310.0 220.6 Q 309.3 220.1, 307.9 220.1 L 307.0 220.1 L 307.0 218.9 L 307.8 218.9 Q 309.0 218.8, 309.7 218.3 Q 310.4 217.7, 310.4 216.6 Q 310.4 215.9, 309.9 215.4 Q 309.3 214.9, 308.3 214.9 Q 307.3 214.9, 306.7 215.3 Q 306.1 215.7, 305.6 216.5 L 304.4 215.9 Q 304.9 214.9, 305.9 214.3 Q 306.9 213.6, 308.3 213.6 Q 310.1 213.6, 311.1 214.4 Q 312.1 215.3, 312.1 216.6 Q 312.1 217.6, 311.6 218.3 Q 311.1 219.0, 310.1 219.4 \" fill=\"#000000\"/>\n",
       "<path class=\"note\" d=\"M 314.1 212.6 L 315.5 212.6 L 315.5 228.9 L 314.1 228.9 L 314.1 212.6 \" fill=\"#000000\"/>\n",
       "<path class=\"note\" d=\"M 317.7 216.0 Q 318.1 214.9, 319.2 214.2 Q 320.2 213.6, 321.7 213.6 Q 323.5 213.6, 324.5 214.6 Q 325.5 215.6, 325.5 217.3 Q 325.5 219.1, 324.2 220.7 Q 322.9 222.4, 320.2 224.3 L 325.7 224.3 L 325.7 225.7 L 317.7 225.7 L 317.7 224.5 Q 319.9 223.0, 321.2 221.8 Q 322.5 220.6, 323.2 219.5 Q 323.8 218.5, 323.8 217.4 Q 323.8 216.2, 323.2 215.6 Q 322.7 214.9, 321.7 214.9 Q 320.7 214.9, 320.1 215.3 Q 319.4 215.7, 319.0 216.6 L 317.7 216.0 \" fill=\"#000000\"/>\n",
       "<path class=\"note\" d=\"M 327.4 213.7 L 329.1 213.7 L 329.1 218.8 L 335.2 218.8 L 335.2 213.7 L 336.8 213.7 L 336.8 225.7 L 335.2 225.7 L 335.2 220.2 L 329.1 220.2 L 329.1 225.7 L 327.4 225.7 L 327.4 213.7 \" fill=\"#000000\"/>\n",
       "<path class=\"note\" d=\"M 348.5 219.8 L 348.5 224.9 Q 346.8 225.8, 344.3 225.8 Q 341.7 225.8, 340.3 224.2 Q 338.9 222.7, 338.9 219.7 Q 338.9 216.7, 340.3 215.2 Q 341.7 213.6, 344.4 213.6 Q 345.7 213.6, 346.8 214.0 Q 347.8 214.5, 348.5 215.3 L 347.4 216.2 Q 346.3 214.9, 344.4 214.9 Q 342.6 214.9, 341.6 216.2 Q 340.7 217.4, 340.7 219.7 Q 340.7 222.0, 341.6 223.3 Q 342.6 224.5, 344.5 224.5 Q 345.8 224.5, 346.9 224.1 L 346.9 219.8 L 348.5 219.8 \" fill=\"#000000\"/>\n",
       "<path class=\"note\" d=\"M 405.1 194.1 L 407.7 194.1 L 407.7 185.2 L 404.8 186.1 L 404.4 185.1 L 408.1 183.5 L 409.3 183.7 L 409.3 194.1 L 411.6 194.1 L 411.6 195.5 L 405.1 195.5 L 405.1 194.1 \" fill=\"#000000\"/>\n",
       "<path class=\"note\" d=\"M 417.7 188.0 Q 418.8 188.0, 419.6 188.5 Q 420.4 188.9, 420.9 189.8 Q 421.3 190.6, 421.3 191.6 Q 421.3 192.8, 420.8 193.7 Q 420.3 194.6, 419.4 195.1 Q 418.5 195.6, 417.3 195.6 Q 415.2 195.6, 414.1 194.2 Q 413.0 192.7, 413.0 189.9 Q 413.0 186.7, 414.4 185.1 Q 415.7 183.4, 418.2 183.4 Q 419.0 183.4, 419.6 183.6 Q 420.2 183.7, 420.8 184.1 L 420.2 185.2 Q 419.3 184.8, 418.3 184.8 Q 416.6 184.8, 415.7 185.8 Q 414.8 186.9, 414.7 189.2 Q 415.4 188.6, 416.1 188.3 Q 416.9 188.0, 417.7 188.0 M 417.3 194.2 Q 418.0 194.2, 418.5 193.9 Q 419.0 193.6, 419.3 193.0 Q 419.6 192.4, 419.6 191.6 Q 419.6 190.6, 419.0 190.0 Q 418.5 189.4, 417.4 189.4 Q 416.7 189.4, 416.0 189.7 Q 415.3 190.0, 414.7 190.5 Q 414.8 192.4, 415.4 193.3 Q 416.1 194.2, 417.3 194.2 \" fill=\"#000000\"/>\n",
       "<path class=\"note\" d=\"M 423.0 193.5 L 424.6 193.5 L 424.6 195.2 L 423.0 195.2 L 423.0 193.5 M 423.0 187.7 L 424.6 187.7 L 424.6 189.4 L 423.0 189.4 L 423.0 187.7 \" fill=\"#000000\"/>\n",
       "<path class=\"note\" d=\"M 426.6 183.5 L 428.2 183.5 L 428.2 188.6 L 434.3 188.6 L 434.3 183.5 L 436.0 183.5 L 436.0 195.5 L 434.3 195.5 L 434.3 190.0 L 428.2 190.0 L 428.2 195.5 L 426.6 195.5 L 426.6 183.5 \" fill=\"#000000\"/>\n",
       "<path class=\"note\" d=\"M 442.0 183.5 Q 444.6 183.5, 446.0 185.1 Q 447.4 186.7, 447.4 189.5 Q 447.4 192.3, 446.0 193.9 Q 444.6 195.5, 442.0 195.5 L 438.1 195.5 L 438.1 183.5 L 442.0 183.5 M 442.0 194.1 Q 443.8 194.1, 444.8 193.0 Q 445.8 191.8, 445.8 189.5 Q 445.8 187.2, 444.8 186.0 Q 443.8 184.9, 442.0 184.9 L 439.7 184.9 L 439.7 194.1 L 442.0 194.1 \" fill=\"#000000\"/>\n",
       "<path class=\"note\" d=\"M 449.0 185.8 Q 449.4 184.7, 450.4 184.0 Q 451.5 183.4, 452.9 183.4 Q 454.7 183.4, 455.7 184.4 Q 456.8 185.4, 456.8 187.1 Q 456.8 188.9, 455.4 190.5 Q 454.1 192.2, 451.4 194.1 L 457.0 194.1 L 457.0 195.5 L 448.9 195.5 L 448.9 194.3 Q 451.1 192.8, 452.5 191.6 Q 453.8 190.4, 454.4 189.3 Q 455.1 188.3, 455.1 187.2 Q 455.1 186.0, 454.5 185.4 Q 453.9 184.8, 452.9 184.8 Q 452.0 184.8, 451.3 185.1 Q 450.7 185.5, 450.2 186.4 L 449.0 185.8 \" fill=\"#000000\"/>\n",
       "<path class=\"note\" d=\"M 458.7 182.4 L 460.1 182.4 L 460.1 198.7 L 458.7 198.7 L 458.7 182.4 \" fill=\"#000000\"/>\n",
       "<path class=\"note\" d=\"M 462.9 194.1 L 465.5 194.1 L 465.5 185.2 L 462.6 186.1 L 462.2 185.1 L 465.9 183.5 L 467.1 183.7 L 467.1 194.1 L 469.4 194.1 L 469.4 195.5 L 462.9 195.5 L 462.9 194.1 \" fill=\"#000000\"/>\n",
       "<path class=\"note\" d=\"M 470.9 183.5 L 472.5 183.5 L 472.5 188.6 L 478.6 188.6 L 478.6 183.5 L 480.2 183.5 L 480.2 195.5 L 478.6 195.5 L 478.6 190.0 L 472.5 190.0 L 472.5 195.5 L 470.9 195.5 L 470.9 183.5 \" fill=\"#000000\"/>\n",
       "<path class=\"note\" d=\"M 486.2 183.5 Q 488.9 183.5, 490.3 185.1 Q 491.7 186.7, 491.7 189.5 Q 491.7 192.3, 490.3 193.9 Q 488.8 195.5, 486.2 195.5 L 482.4 195.5 L 482.4 183.5 L 486.2 183.5 M 486.2 194.1 Q 488.0 194.1, 489.0 193.0 Q 490.0 191.8, 490.0 189.5 Q 490.0 187.2, 489.0 186.0 Q 488.0 184.9, 486.2 184.9 L 484.0 184.9 L 484.0 194.1 L 486.2 194.1 \" fill=\"#000000\"/>\n",
       "<path class=\"note\" d=\"M 390.6 140.7 L 393.2 140.7 L 393.2 131.8 L 390.3 132.7 L 389.9 131.7 L 393.6 130.1 L 394.8 130.3 L 394.8 140.7 L 397.1 140.7 L 397.1 142.1 L 390.6 142.1 L 390.6 140.7 \" fill=\"#000000\"/>\n",
       "<path class=\"note\" d=\"M 404.8 131.5 L 398.5 131.5 L 398.5 130.1 L 406.5 130.1 L 406.5 131.3 L 401.7 142.1 L 400.0 142.1 L 404.8 131.5 \" fill=\"#000000\"/>\n",
       "<path class=\"note\" d=\"M 407.7 140.1 L 409.4 140.1 L 409.4 141.8 L 407.7 141.8 L 407.7 140.1 M 407.7 134.3 L 409.4 134.3 L 409.4 136.0 L 407.7 136.0 L 407.7 134.3 \" fill=\"#000000\"/>\n",
       "<path class=\"note\" d=\"M 411.3 130.1 L 413.0 130.1 L 413.0 135.2 L 419.1 135.2 L 419.1 130.1 L 420.7 130.1 L 420.7 142.1 L 419.1 142.1 L 419.1 136.5 L 413.0 136.5 L 413.0 142.1 L 411.3 142.1 L 411.3 130.1 \" fill=\"#000000\"/>\n",
       "<path class=\"note\" d=\"M 426.7 130.1 Q 429.3 130.1, 430.8 131.7 Q 432.2 133.2, 432.2 136.1 Q 432.2 138.9, 430.7 140.5 Q 429.3 142.1, 426.7 142.1 L 422.8 142.1 L 422.8 130.1 L 426.7 130.1 M 426.7 140.7 Q 428.5 140.7, 429.5 139.5 Q 430.5 138.4, 430.5 136.1 Q 430.5 133.7, 429.5 132.6 Q 428.5 131.5, 426.7 131.5 L 424.5 131.5 L 424.5 140.7 L 426.7 140.7 \" fill=\"#000000\"/>\n",
       "<path class=\"note\" d=\"M 439.4 135.8 Q 440.5 136.1, 441.1 136.9 Q 441.7 137.6, 441.7 138.8 Q 441.7 139.8, 441.2 140.6 Q 440.7 141.4, 439.7 141.8 Q 438.8 142.2, 437.6 142.2 Q 436.3 142.2, 435.4 141.8 Q 434.4 141.3, 433.7 140.4 L 434.6 139.4 Q 435.4 140.3, 436.0 140.6 Q 436.6 140.9, 437.6 140.9 Q 438.7 140.9, 439.3 140.3 Q 440.0 139.7, 440.0 138.8 Q 440.0 137.6, 439.3 137.0 Q 438.6 136.5, 437.2 136.5 L 436.3 136.5 L 436.3 135.2 L 437.1 135.2 Q 438.4 135.2, 439.0 134.7 Q 439.7 134.1, 439.7 133.0 Q 439.7 132.3, 439.2 131.8 Q 438.6 131.3, 437.6 131.3 Q 436.6 131.3, 436.0 131.7 Q 435.4 132.0, 434.9 132.9 L 433.8 132.3 Q 434.2 131.3, 435.2 130.7 Q 436.2 130.0, 437.6 130.0 Q 439.4 130.0, 440.4 130.8 Q 441.4 131.6, 441.4 133.0 Q 441.4 134.0, 440.9 134.7 Q 440.4 135.4, 439.4 135.8 \" fill=\"#000000\"/>\n",
       "<path class=\"note\" d=\"M 443.4 129.0 L 444.8 129.0 L 444.8 145.3 L 443.4 145.3 L 443.4 129.0 \" fill=\"#000000\"/>\n",
       "<path class=\"note\" d=\"M 447.0 132.4 Q 447.4 131.3, 448.5 130.6 Q 449.5 130.0, 451.0 130.0 Q 452.8 130.0, 453.8 131.0 Q 454.8 131.9, 454.8 133.7 Q 454.8 135.4, 453.5 137.1 Q 452.2 138.8, 449.5 140.7 L 455.0 140.7 L 455.0 142.1 L 447.0 142.1 L 447.0 140.9 Q 449.2 139.3, 450.5 138.2 Q 451.8 137.0, 452.5 135.9 Q 453.1 134.9, 453.1 133.8 Q 453.1 132.6, 452.5 132.0 Q 452.0 131.3, 451.0 131.3 Q 450.0 131.3, 449.4 131.7 Q 448.7 132.1, 448.3 133.0 L 447.0 132.4 \" fill=\"#000000\"/>\n",
       "<path class=\"note\" d=\"M 456.7 130.1 L 458.3 130.1 L 458.3 135.2 L 464.4 135.2 L 464.4 130.1 L 466.1 130.1 L 466.1 142.1 L 464.4 142.1 L 464.4 136.5 L 458.3 136.5 L 458.3 142.1 L 456.7 142.1 L 456.7 130.1 \" fill=\"#000000\"/>\n",
       "<path class=\"note\" d=\"M 472.1 130.1 Q 474.7 130.1, 476.1 131.7 Q 477.6 133.2, 477.6 136.1 Q 477.6 138.9, 476.1 140.5 Q 474.7 142.1, 472.1 142.1 L 468.2 142.1 L 468.2 130.1 L 472.1 130.1 M 472.1 140.7 Q 473.9 140.7, 474.9 139.5 Q 475.9 138.4, 475.9 136.1 Q 475.9 133.7, 474.9 132.6 Q 473.9 131.5, 472.1 131.5 L 469.8 131.5 L 469.8 140.7 L 472.1 140.7 \" fill=\"#000000\"/>\n",
       "<path class=\"note\" d=\"M 331.1 103.9 L 333.7 103.9 L 333.7 94.9 L 330.9 95.8 L 330.5 94.8 L 334.1 93.2 L 335.3 93.4 L 335.3 103.9 L 337.7 103.9 L 337.7 105.2 L 331.1 105.2 L 331.1 103.9 \" fill=\"#000000\"/>\n",
       "<path class=\"note\" d=\"M 345.1 98.9 Q 346.2 99.4, 346.9 100.1 Q 347.5 100.8, 347.5 101.9 Q 347.5 102.9, 347.0 103.7 Q 346.4 104.5, 345.5 105.0 Q 344.6 105.4, 343.3 105.4 Q 341.3 105.4, 340.2 104.5 Q 339.1 103.5, 339.1 101.9 Q 339.1 101.0, 339.6 100.2 Q 340.1 99.5, 341.1 98.9 Q 340.3 98.5, 339.9 97.9 Q 339.5 97.2, 339.5 96.2 Q 339.5 94.8, 340.5 94.0 Q 341.5 93.1, 343.3 93.1 Q 345.0 93.1, 346.0 94.0 Q 347.0 94.8, 347.0 96.2 Q 347.0 97.1, 346.6 97.7 Q 346.1 98.4, 345.1 98.9 M 343.3 94.4 Q 342.3 94.4, 341.7 94.9 Q 341.2 95.3, 341.2 96.2 Q 341.2 96.8, 341.5 97.2 Q 341.9 97.6, 342.4 97.9 Q 343.0 98.1, 344.0 98.5 Q 344.7 98.0, 345.0 97.4 Q 345.4 96.9, 345.4 96.2 Q 345.4 95.3, 344.8 94.9 Q 344.3 94.4, 343.3 94.4 M 343.3 104.1 Q 344.4 104.1, 345.1 103.5 Q 345.8 102.9, 345.8 101.9 Q 345.8 101.3, 345.4 100.9 Q 345.1 100.5, 344.5 100.2 Q 344.0 100.0, 343.1 99.7 L 342.3 99.4 Q 341.5 99.9, 341.1 100.6 Q 340.7 101.1, 340.7 101.9 Q 340.7 102.9, 341.4 103.5 Q 342.2 104.1, 343.3 104.1 \" fill=\"#000000\"/>\n",
       "<path class=\"note\" d=\"M 349.2 103.2 L 350.9 103.2 L 350.9 104.9 L 349.2 104.9 L 349.2 103.2 M 349.2 97.4 L 350.9 97.4 L 350.9 99.1 L 349.2 99.1 L 349.2 97.4 \" fill=\"#000000\"/>\n",
       "<path class=\"note\" d=\"M 352.8 93.3 L 354.5 93.3 L 354.5 98.3 L 360.6 98.3 L 360.6 93.3 L 362.2 93.3 L 362.2 105.2 L 360.6 105.2 L 360.6 99.7 L 354.5 99.7 L 354.5 105.2 L 352.8 105.2 L 352.8 93.3 \" fill=\"#000000\"/>\n",
       "<path class=\"note\" d=\"M 364.3 93.3 L 371.4 93.3 L 371.4 94.6 L 365.9 94.6 L 365.9 98.3 L 370.8 98.3 L 370.8 99.6 L 365.9 99.6 L 365.9 103.8 L 371.6 103.8 L 371.6 105.2 L 364.3 105.2 L 364.3 93.3 \" fill=\"#000000\"/>\n",
       "<path class=\"note\" d=\"M 373.1 95.5 Q 373.5 94.4, 374.6 93.8 Q 375.6 93.1, 377.1 93.1 Q 378.9 93.1, 379.9 94.1 Q 380.9 95.1, 380.9 96.8 Q 380.9 98.6, 379.6 100.2 Q 378.3 101.9, 375.6 103.9 L 381.1 103.9 L 381.1 105.2 L 373.1 105.2 L 373.1 104.1 Q 375.3 102.5, 376.6 101.3 Q 377.9 100.1, 378.6 99.1 Q 379.2 98.0, 379.2 96.9 Q 379.2 95.8, 378.6 95.1 Q 378.1 94.5, 377.1 94.5 Q 376.1 94.5, 375.5 94.9 Q 374.8 95.3, 374.4 96.1 L 373.1 95.5 \" fill=\"#000000\"/>\n",
       "<path class=\"note\" d=\"M 382.8 92.2 L 384.2 92.2 L 384.2 108.5 L 382.8 108.5 L 382.8 92.2 \" fill=\"#000000\"/>\n",
       "<path class=\"note\" d=\"M 387.0 103.9 L 389.6 103.9 L 389.6 94.9 L 386.7 95.8 L 386.3 94.8 L 390.0 93.2 L 391.2 93.4 L 391.2 103.9 L 393.5 103.9 L 393.5 105.2 L 387.0 105.2 L 387.0 103.9 \" fill=\"#000000\"/>\n",
       "<path class=\"note\" d=\"M 394.9 93.3 L 396.5 93.3 L 396.5 98.3 L 402.6 98.3 L 402.6 93.3 L 404.2 93.3 L 404.2 105.2 L 402.6 105.2 L 402.6 99.7 L 396.5 99.7 L 396.5 105.2 L 394.9 105.2 L 394.9 93.3 \" fill=\"#000000\"/>\n",
       "<path class=\"note\" d=\"M 406.3 93.3 L 413.4 93.3 L 413.4 94.6 L 407.9 94.6 L 407.9 98.3 L 412.9 98.3 L 412.9 99.6 L 407.9 99.6 L 407.9 103.8 L 413.6 103.8 L 413.6 105.2 L 406.3 105.2 L 406.3 93.3 \" fill=\"#000000\"/>\n",
       "<path class=\"note\" d=\"M 258.8 75.1 L 261.4 75.1 L 261.4 66.2 L 258.6 67.0 L 258.2 66.0 L 261.8 64.4 L 263.0 64.6 L 263.0 75.1 L 265.4 75.1 L 265.4 76.4 L 258.8 76.4 L 258.8 75.1 \" fill=\"#000000\"/>\n",
       "<path class=\"note\" d=\"M 270.8 64.3 Q 272.9 64.3, 274.0 65.8 Q 275.0 67.2, 275.0 70.1 Q 275.0 73.3, 273.7 74.9 Q 272.4 76.6, 269.8 76.6 Q 269.1 76.6, 268.5 76.4 Q 267.8 76.2, 267.2 75.9 L 267.9 74.7 Q 268.8 75.2, 269.8 75.2 Q 271.5 75.2, 272.4 74.1 Q 273.2 73.0, 273.3 70.8 Q 272.7 71.3, 271.9 71.6 Q 271.2 71.9, 270.4 71.9 Q 269.3 71.9, 268.5 71.5 Q 267.7 71.0, 267.2 70.2 Q 266.8 69.4, 266.8 68.3 Q 266.8 67.2, 267.3 66.3 Q 267.8 65.4, 268.7 64.9 Q 269.6 64.3, 270.8 64.3 M 268.4 68.3 Q 268.4 69.4, 269.0 70.0 Q 269.6 70.6, 270.7 70.6 Q 271.4 70.6, 272.1 70.3 Q 272.8 70.0, 273.3 69.5 Q 273.3 67.5, 272.6 66.6 Q 272.0 65.7, 270.7 65.7 Q 270.1 65.7, 269.6 66.1 Q 269.0 66.4, 268.7 67.0 Q 268.4 67.6, 268.4 68.3 \" fill=\"#000000\"/>\n",
       "<path class=\"note\" d=\"M 276.9 74.4 L 278.5 74.4 L 278.5 76.1 L 276.9 76.1 L 276.9 74.4 M 276.9 68.6 L 278.5 68.6 L 278.5 70.3 L 276.9 70.3 L 276.9 68.6 \" fill=\"#000000\"/>\n",
       "<path class=\"note\" d=\"M 280.5 64.5 L 282.1 64.5 L 282.1 69.6 L 288.2 69.6 L 288.2 64.5 L 289.8 64.5 L 289.8 76.4 L 288.2 76.4 L 288.2 70.9 L 282.1 70.9 L 282.1 76.4 L 280.5 76.4 L 280.5 64.5 \" fill=\"#000000\"/>\n",
       "<path class=\"note\" d=\"M 291.9 64.5 L 299.0 64.5 L 299.0 65.8 L 293.5 65.8 L 293.5 69.5 L 298.5 69.5 L 298.5 70.9 L 293.5 70.9 L 293.5 75.0 L 299.2 75.0 L 299.2 76.4 L 291.9 76.4 L 291.9 64.5 \" fill=\"#000000\"/>\n",
       "<path class=\"note\" d=\"M 306.5 70.1 Q 307.6 70.5, 308.2 71.2 Q 308.8 72.0, 308.8 73.1 Q 308.8 74.2, 308.2 75.0 Q 307.7 75.7, 306.8 76.2 Q 305.9 76.6, 304.7 76.6 Q 303.4 76.6, 302.4 76.1 Q 301.5 75.7, 300.7 74.8 L 301.7 73.8 Q 302.4 74.6, 303.1 74.9 Q 303.7 75.2, 304.7 75.2 Q 305.8 75.2, 306.4 74.7 Q 307.1 74.1, 307.1 73.1 Q 307.1 71.9, 306.4 71.4 Q 305.7 70.8, 304.2 70.8 L 303.4 70.8 L 303.4 69.6 L 304.1 69.6 Q 305.4 69.6, 306.1 69.0 Q 306.8 68.5, 306.8 67.4 Q 306.8 66.6, 306.2 66.2 Q 305.7 65.7, 304.7 65.7 Q 303.7 65.7, 303.1 66.0 Q 302.5 66.4, 302.0 67.3 L 300.8 66.7 Q 301.2 65.7, 302.3 65.0 Q 303.3 64.3, 304.7 64.3 Q 306.4 64.3, 307.5 65.2 Q 308.5 66.0, 308.5 67.4 Q 308.5 68.4, 308.0 69.1 Q 307.5 69.7, 306.5 70.1 \" fill=\"#000000\"/>\n",
       "<path class=\"note\" d=\"M 310.4 63.4 L 311.8 63.4 L 311.8 79.7 L 310.4 79.7 L 310.4 63.4 \" fill=\"#000000\"/>\n",
       "<path class=\"note\" d=\"M 314.0 66.7 Q 314.4 65.6, 315.5 65.0 Q 316.5 64.3, 318.0 64.3 Q 319.8 64.3, 320.8 65.3 Q 321.8 66.3, 321.8 68.0 Q 321.8 69.8, 320.5 71.5 Q 319.2 73.1, 316.5 75.1 L 322.0 75.1 L 322.0 76.4 L 314.0 76.4 L 314.0 75.3 Q 316.2 73.7, 317.5 72.5 Q 318.8 71.3, 319.5 70.3 Q 320.1 69.2, 320.1 68.1 Q 320.1 67.0, 319.5 66.3 Q 319.0 65.7, 318.0 65.7 Q 317.0 65.7, 316.4 66.1 Q 315.7 66.5, 315.3 67.3 L 314.0 66.7 \" fill=\"#000000\"/>\n",
       "<path class=\"note\" d=\"M 323.7 64.5 L 325.3 64.5 L 325.3 69.6 L 331.4 69.6 L 331.4 64.5 L 333.0 64.5 L 333.0 76.4 L 331.4 76.4 L 331.4 70.9 L 325.3 70.9 L 325.3 76.4 L 323.7 76.4 L 323.7 64.5 \" fill=\"#000000\"/>\n",
       "<path class=\"note\" d=\"M 335.1 64.5 L 342.2 64.5 L 342.2 65.8 L 336.7 65.8 L 336.7 69.5 L 341.7 69.5 L 341.7 70.9 L 336.7 70.9 L 336.7 75.0 L 342.4 75.0 L 342.4 76.4 L 335.1 76.4 L 335.1 64.5 \" fill=\"#000000\"/>\n",
       "<path class=\"note\" d=\"M 219.4 201.9 Q 219.9 200.8, 220.9 200.1 Q 221.9 199.5, 223.4 199.5 Q 225.2 199.5, 226.2 200.5 Q 227.2 201.5, 227.2 203.2 Q 227.2 205.0, 225.9 206.6 Q 224.6 208.3, 221.9 210.2 L 227.4 210.2 L 227.4 211.6 L 219.4 211.6 L 219.4 210.4 Q 221.6 208.9, 222.9 207.7 Q 224.3 206.5, 224.9 205.4 Q 225.5 204.4, 225.5 203.3 Q 225.5 202.1, 225.0 201.5 Q 224.4 200.8, 223.4 200.8 Q 222.4 200.8, 221.8 201.2 Q 221.2 201.6, 220.7 202.5 L 219.4 201.9 \" fill=\"#000000\"/>\n",
       "<path class=\"note\" d=\"M 233.5 211.7 Q 231.3 211.7, 230.2 210.1 Q 229.1 208.5, 229.1 205.6 Q 229.1 202.7, 230.2 201.1 Q 231.3 199.5, 233.5 199.5 Q 235.7 199.5, 236.8 201.1 Q 237.9 202.7, 237.9 205.6 Q 237.9 208.5, 236.8 210.1 Q 235.7 211.7, 233.5 211.7 M 233.5 210.4 Q 234.8 210.4, 235.5 209.2 Q 236.2 207.9, 236.2 205.6 Q 236.2 203.2, 235.5 202.0 Q 234.8 200.8, 233.5 200.8 Q 232.2 200.8, 231.5 202.0 Q 230.8 203.2, 230.8 205.6 Q 230.8 207.9, 231.5 209.2 Q 232.2 210.4, 233.5 210.4 \" fill=\"#000000\"/>\n",
       "<path class=\"note\" d=\"M 239.7 209.6 L 241.3 209.6 L 241.3 211.3 L 239.7 211.3 L 239.7 209.6 M 239.7 203.8 L 241.3 203.8 L 241.3 205.5 L 239.7 205.5 L 239.7 203.8 \" fill=\"#000000\"/>\n",
       "<path class=\"note\" d=\"M 243.3 199.6 L 244.9 199.6 L 244.9 204.7 L 251.0 204.7 L 251.0 199.6 L 252.6 199.6 L 252.6 211.6 L 251.0 211.6 L 251.0 206.1 L 244.9 206.1 L 244.9 211.6 L 243.3 211.6 L 243.3 199.6 \" fill=\"#000000\"/>\n",
       "<path class=\"note\" d=\"M 254.8 210.3 L 260.8 201.0 L 255.0 201.0 L 255.0 199.6 L 262.8 199.6 L 262.8 200.8 L 256.7 210.2 L 262.7 210.2 L 262.7 211.6 L 254.8 211.6 L 254.8 210.3 \" fill=\"#000000\"/>\n",
       "<path class=\"note\" d=\"M 264.9 210.2 L 267.5 210.2 L 267.5 201.3 L 264.6 202.2 L 264.2 201.2 L 267.9 199.6 L 269.1 199.8 L 269.1 210.2 L 271.4 210.2 L 271.4 211.6 L 264.9 211.6 L 264.9 210.2 \" fill=\"#000000\"/>\n",
       "<path class=\"note\" d=\"M 272.8 198.5 L 274.2 198.5 L 274.2 214.8 L 272.8 214.8 L 272.8 198.5 \" fill=\"#000000\"/>\n",
       "<path class=\"note\" d=\"M 277.0 210.2 L 279.6 210.2 L 279.6 201.3 L 276.7 202.2 L 276.4 201.2 L 280.0 199.6 L 281.2 199.8 L 281.2 210.2 L 283.6 210.2 L 283.6 211.6 L 277.0 211.6 L 277.0 210.2 \" fill=\"#000000\"/>\n",
       "<path class=\"note\" d=\"M 284.9 199.6 L 286.6 199.6 L 286.6 204.7 L 292.7 204.7 L 292.7 199.6 L 294.3 199.6 L 294.3 211.6 L 292.7 211.6 L 292.7 206.1 L 286.6 206.1 L 286.6 211.6 L 284.9 211.6 L 284.9 199.6 \" fill=\"#000000\"/>\n",
       "<path class=\"note\" d=\"M 296.4 210.3 L 302.4 201.0 L 296.6 201.0 L 296.6 199.6 L 304.5 199.6 L 304.5 200.8 L 298.4 210.2 L 304.4 210.2 L 304.4 211.6 L 296.4 211.6 L 296.4 210.3 \" fill=\"#000000\"/>\n",
       "<path class=\"note\" d=\"M 181.2 108.0 Q 181.6 106.9, 182.7 106.2 Q 183.7 105.6, 185.2 105.6 Q 187.0 105.6, 188.0 106.6 Q 189.0 107.5, 189.0 109.3 Q 189.0 111.1, 187.7 112.7 Q 186.4 114.4, 183.7 116.3 L 189.2 116.3 L 189.2 117.7 L 181.2 117.7 L 181.2 116.5 Q 183.4 115.0, 184.7 113.8 Q 186.0 112.6, 186.7 111.5 Q 187.3 110.5, 187.3 109.4 Q 187.3 108.2, 186.7 107.6 Q 186.2 106.9, 185.2 106.9 Q 184.2 106.9, 183.6 107.3 Q 182.9 107.7, 182.5 108.6 L 181.2 108.0 \" fill=\"#000000\"/>\n",
       "<path class=\"note\" d=\"M 191.6 116.3 L 194.2 116.3 L 194.2 107.4 L 191.3 108.3 L 190.9 107.3 L 194.6 105.7 L 195.8 105.9 L 195.8 116.3 L 198.1 116.3 L 198.1 117.7 L 191.6 117.7 L 191.6 116.3 \" fill=\"#000000\"/>\n",
       "<path class=\"note\" d=\"M 199.5 115.7 L 201.2 115.7 L 201.2 117.4 L 199.5 117.4 L 199.5 115.7 M 199.5 109.9 L 201.2 109.9 L 201.2 111.6 L 199.5 111.6 L 199.5 109.9 \" fill=\"#000000\"/>\n",
       "<path class=\"note\" d=\"M 203.1 105.7 L 204.8 105.7 L 204.8 110.8 L 210.9 110.8 L 210.9 105.7 L 212.5 105.7 L 212.5 117.7 L 210.9 117.7 L 210.9 112.2 L 204.8 112.2 L 204.8 117.7 L 203.1 117.7 L 203.1 105.7 \" fill=\"#000000\"/>\n",
       "<path class=\"note\" d=\"M 214.6 116.4 L 220.6 107.1 L 214.8 107.1 L 214.8 105.7 L 222.6 105.7 L 222.6 106.9 L 216.6 116.3 L 222.6 116.3 L 222.6 117.7 L 214.6 117.7 L 214.6 116.4 \" fill=\"#000000\"/>\n",
       "<path class=\"note\" d=\"M 224.1 108.0 Q 224.5 106.9, 225.6 106.2 Q 226.6 105.6, 228.1 105.6 Q 229.9 105.6, 230.9 106.6 Q 231.9 107.5, 231.9 109.3 Q 231.9 111.1, 230.6 112.7 Q 229.3 114.4, 226.6 116.3 L 232.1 116.3 L 232.1 117.7 L 224.1 117.7 L 224.1 116.5 Q 226.3 115.0, 227.6 113.8 Q 228.9 112.6, 229.6 111.5 Q 230.2 110.5, 230.2 109.4 Q 230.2 108.2, 229.6 107.6 Q 229.1 106.9, 228.1 106.9 Q 227.1 106.9, 226.5 107.3 Q 225.8 107.7, 225.4 108.6 L 224.1 108.0 \" fill=\"#000000\"/>\n",
       "<path class=\"note\" d=\"M 233.8 104.6 L 235.2 104.6 L 235.2 120.9 L 233.8 120.9 L 233.8 104.6 \" fill=\"#000000\"/>\n",
       "<path class=\"note\" d=\"M 237.4 108.0 Q 237.8 106.9, 238.9 106.2 Q 239.9 105.6, 241.4 105.6 Q 243.2 105.6, 244.2 106.6 Q 245.2 107.5, 245.2 109.3 Q 245.2 111.1, 243.9 112.7 Q 242.6 114.4, 239.9 116.3 L 245.4 116.3 L 245.4 117.7 L 237.4 117.7 L 237.4 116.5 Q 239.6 115.0, 240.9 113.8 Q 242.2 112.6, 242.9 111.5 Q 243.5 110.5, 243.5 109.4 Q 243.5 108.2, 242.9 107.6 Q 242.4 106.9, 241.4 106.9 Q 240.4 106.9, 239.8 107.3 Q 239.1 107.7, 238.7 108.6 L 237.4 108.0 \" fill=\"#000000\"/>\n",
       "<path class=\"note\" d=\"M 247.1 105.7 L 248.7 105.7 L 248.7 110.8 L 254.8 110.8 L 254.8 105.7 L 256.4 105.7 L 256.4 117.7 L 254.8 117.7 L 254.8 112.2 L 248.7 112.2 L 248.7 117.7 L 247.1 117.7 L 247.1 105.7 \" fill=\"#000000\"/>\n",
       "<path class=\"note\" d=\"M 258.6 116.4 L 264.6 107.1 L 258.8 107.1 L 258.8 105.7 L 266.6 105.7 L 266.6 106.9 L 260.6 116.3 L 266.5 116.3 L 266.5 117.7 L 258.6 117.7 L 258.6 116.4 \" fill=\"#000000\"/>\n",
       "<path class=\"note\" d=\"M 415.7 512.7 Q 416.1 511.6, 417.1 511.0 Q 418.2 510.3, 419.6 510.3 Q 421.4 510.3, 422.5 511.3 Q 423.5 512.3, 423.5 514.0 Q 423.5 515.8, 422.1 517.5 Q 420.9 519.1, 418.2 521.1 L 423.7 521.1 L 423.7 522.4 L 415.6 522.4 L 415.6 521.3 Q 417.9 519.7, 419.2 518.5 Q 420.5 517.3, 421.1 516.3 Q 421.8 515.2, 421.8 514.1 Q 421.8 513.0, 421.2 512.3 Q 420.6 511.7, 419.6 511.7 Q 418.7 511.7, 418.0 512.1 Q 417.4 512.5, 416.9 513.3 L 415.7 512.7 \" fill=\"#000000\"/>\n",
       "<path class=\"note\" d=\"M 425.5 512.7 Q 425.9 511.6, 427.0 511.0 Q 428.0 510.3, 429.5 510.3 Q 431.3 510.3, 432.3 511.3 Q 433.3 512.3, 433.3 514.0 Q 433.3 515.8, 432.0 517.5 Q 430.7 519.1, 428.0 521.1 L 433.5 521.1 L 433.5 522.4 L 425.5 522.4 L 425.5 521.3 Q 427.7 519.7, 429.0 518.5 Q 430.3 517.3, 431.0 516.3 Q 431.6 515.2, 431.6 514.1 Q 431.6 513.0, 431.0 512.3 Q 430.5 511.7, 429.5 511.7 Q 428.5 511.7, 427.9 512.1 Q 427.2 512.5, 426.8 513.3 L 425.5 512.7 \" fill=\"#000000\"/>\n",
       "<path class=\"note\" d=\"M 435.3 520.4 L 437.0 520.4 L 437.0 522.1 L 435.3 522.1 L 435.3 520.4 M 435.3 514.6 L 437.0 514.6 L 437.0 516.3 L 435.3 516.3 L 435.3 514.6 \" fill=\"#000000\"/>\n",
       "<path class=\"note\" d=\"M 439.0 510.5 L 440.7 510.5 L 440.7 515.5 L 446.8 515.5 L 446.8 510.5 L 448.4 510.5 L 448.4 522.4 L 446.8 522.4 L 446.8 516.9 L 440.7 516.9 L 440.7 522.4 L 439.0 522.4 L 439.0 510.5 \" fill=\"#000000\"/>\n",
       "<path class=\"note\" d=\"M 461.4 522.4 L 459.5 522.4 L 456.0 517.5 L 452.4 522.4 L 450.6 522.4 L 455.0 516.2 L 450.9 510.5 L 452.8 510.5 L 456.0 515.0 L 459.3 510.5 L 461.1 510.5 L 457.0 516.3 L 461.4 522.4 \" fill=\"#000000\"/>\n",
       "<path class=\"note\" d=\"M 465.9 511.8 L 462.2 511.8 L 462.2 510.5 L 471.0 510.5 L 471.0 511.8 L 467.5 511.8 L 467.5 522.4 L 465.9 522.4 L 465.9 511.8 \" fill=\"#000000\"/>\n",
       "<path class=\"note\" d=\"M 476.4 510.5 L 480.2 516.3 L 478.7 516.3 L 476.0 511.8 L 473.2 516.3 L 471.8 516.3 L 475.5 510.5 L 476.4 510.5 \" fill=\"#000000\"/>\n",
       "</svg>"
      ],
      "text/plain": [
       "<IPython.core.display.SVG object>"
      ]
     },
     "execution_count": 32,
     "metadata": {},
     "output_type": "execute_result"
    }
   ],
   "source": [
    "mol = CCD_RESIDUE_DEFINITION_CACHE['LYS'][6].to_openff_molecule()\n",
    "print(mol.properties[\"description\"])\n",
    "draw_mol_with_atom_names(mol)"
   ]
  },
  {
   "cell_type": "code",
   "execution_count": 33,
   "id": "8fa60535-998b-4a91-b4e5-f245a02b17e7",
   "metadata": {
    "execution": {
     "iopub.execute_input": "2025-08-15T18:36:28.496734Z",
     "iopub.status.busy": "2025-08-15T18:36:28.495658Z",
     "iopub.status.idle": "2025-08-15T18:36:28.524925Z",
     "shell.execute_reply": "2025-08-15T18:36:28.524328Z",
     "shell.execute_reply.started": "2025-08-15T18:36:28.496687Z"
    }
   },
   "outputs": [
    {
     "name": "stdout",
     "output_type": "stream",
     "text": [
      "LYSINE\n",
      "LYSINE -HXT\n",
      "LYSINE -H2\n",
      "LYSINE -HXT -H2\n",
      "LYSINE -HZ3\n",
      "LYSINE -HXT -HZ3\n",
      "LYSINE -H2 -HZ3\n",
      "LYSINE -HXT -H2 -HZ3\n",
      "LYSINE +H3\n",
      "LYSINE -HXT +H3\n",
      "LYSINE -H2 +H3\n",
      "LYSINE -HXT -H2 +H3\n",
      "LYSINE -HZ3 +H3\n",
      "LYSINE -HXT -HZ3 +H3\n",
      "LYSINE -H2 -HZ3 +H3\n",
      "LYSINE -HXT -H2 -HZ3 +H3\n"
     ]
    }
   ],
   "source": [
    "for template in CCD_RESIDUE_DEFINITION_CACHE['LYS']:\n",
    "    print(template.to_openff_molecule().properties['description'])"
   ]
  },
  {
   "cell_type": "code",
   "execution_count": null,
   "id": "f344d88c-56c0-4c0c-818f-335972894304",
   "metadata": {},
   "outputs": [],
   "source": []
  }
 ],
 "metadata": {
  "kernelspec": {
   "display_name": "Python 3 (ipykernel)",
   "language": "python",
   "name": "python3"
  },
  "language_info": {
   "codemirror_mode": {
    "name": "ipython",
    "version": 3
   },
   "file_extension": ".py",
   "mimetype": "text/x-python",
   "name": "python",
   "nbconvert_exporter": "python",
   "pygments_lexer": "ipython3",
   "version": "3.11.13"
  }
 },
 "nbformat": 4,
 "nbformat_minor": 5
}
