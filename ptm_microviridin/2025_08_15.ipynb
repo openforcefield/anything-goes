{
 "cells": [
  {
   "cell_type": "code",
   "execution_count": 39,
   "id": "65a5fa9e-3887-4fd9-94dc-e74a24e97623",
   "metadata": {
    "execution": {
     "iopub.execute_input": "2025-08-15T18:39:58.578646Z",
     "iopub.status.busy": "2025-08-15T18:39:58.577272Z",
     "iopub.status.idle": "2025-08-15T18:39:58.604756Z",
     "shell.execute_reply": "2025-08-15T18:39:58.603486Z",
     "shell.execute_reply.started": "2025-08-15T18:39:58.578577Z"
    }
   },
   "outputs": [],
   "source": [
    "import openmm\n",
    "from ipywidgets import Image\n",
    "from openff.interchange.components._packmol import (\n",
    "    RHOMBIC_DODECAHEDRON,\n",
    "    solvate_topology,\n",
    ")\n",
    "from openff.toolkit import ForceField, Molecule, Topology\n",
    "from openff.units import Quantity\n",
    "from rdkit.Chem import Draw\n",
    "from rdkit.Chem.rdChemReactions import ReactionFromSmarts"
   ]
  },
  {
   "cell_type": "code",
   "execution_count": 34,
   "id": "2e3c186a-0f9a-4936-bf31-65c2c5df553c",
   "metadata": {
    "execution": {
     "iopub.execute_input": "2025-08-15T18:38:24.230075Z",
     "iopub.status.busy": "2025-08-15T18:38:24.228992Z",
     "iopub.status.idle": "2025-08-15T18:38:24.249600Z",
     "shell.execute_reply": "2025-08-15T18:38:24.248723Z",
     "shell.execute_reply.started": "2025-08-15T18:38:24.230024Z"
    }
   },
   "outputs": [],
   "source": [
    "with open('system.pdb') as of:\n",
    "    with open('system_edited.pdb','w') as ofw:\n",
    "        for line in of.readlines():\n",
    "            to_write = line.strip()\n",
    "            #to_write = to_write.replace(\"TH4\", \"THR\").\n",
    "            #    replace(\"LY6\", \"LYS\").\n",
    "            #    replace(\"SE9\", \"SER\").\n",
    "            #    replace(\"A10\", \"ASP\").\n",
    "            #    replace(\"G12\", \"GLU\").\n",
    "            #    replace(\"G13\", \"GLU\") \n",
    "            if \"ATOM\" in to_write:\n",
    "                #if \"A10\" in to_write:\n",
    "                #    to_write = to_write.replace(\"HB3\", \"HB1\")\n",
    "                if \"G12\" in to_write:\n",
    "                    if \"OE2\" in to_write:\n",
    "                        to_write = to_write.replace(\"OE2\", \"OE1\")\n",
    "                #if \"LY6\" in to_write:\n",
    "                #    if \"HZ\" in to_write:\n",
    "                #        to_write = to_write.replace(\"HZ\", \"HZ1\")\n",
    "\n",
    "                to_write += ' '*10 + line.split()[2][0]\n",
    "            if to_write == \"TER\":\n",
    "                #to_write = 'TER\\n' \n",
    "                # Example \"CONECT 2617 2592\"\n",
    "                #TH4 OG1 to A10 CG\n",
    "                to_write += 'CONECT   43  142'\n",
    "                to_write += '\\nCONECT  142   43'\n",
    "                #LY6 NZ to G13 CD\n",
    "                to_write += '\\nCONECT   86  194'\n",
    "                to_write += '\\nCONECT  194   86'\n",
    "                # SE9 OG to G12 CD\n",
    "                to_write += '\\nCONECT  132  180'\n",
    "                to_write += '\\nCONECT  180  132'\n",
    "                \n",
    "                \n",
    "            to_write += '\\n'\n",
    "            ofw.write(to_write)"
   ]
  },
  {
   "cell_type": "code",
   "execution_count": 35,
   "id": "0af03e7d-5687-47bc-98d6-2e0e80aa1fd1",
   "metadata": {
    "execution": {
     "iopub.execute_input": "2025-08-15T18:38:39.682573Z",
     "iopub.status.busy": "2025-08-15T18:38:39.681278Z",
     "iopub.status.idle": "2025-08-15T18:38:39.911452Z",
     "shell.execute_reply": "2025-08-15T18:38:39.911138Z",
     "shell.execute_reply.started": "2025-08-15T18:38:39.682471Z"
    }
   },
   "outputs": [],
   "source": [
    "from openff.pablo import CCD_RESIDUE_DEFINITION_CACHE, topology_from_pdb\n",
    "from openff.pablo.residue import BondDefinition\n",
    "\n",
    "custom_residue_database = CCD_RESIDUE_DEFINITION_CACHE.with_(\n",
    "    {\n",
    "        \"TH4\": [\n",
    "            resdef.replace(\n",
    "                residue_name=\"TH4\",\n",
    "                crosslink=BondDefinition.with_defaults(atom1=\"OG1\", atom2=\"CG\"),\n",
    "                atoms=[\n",
    "                    atom.replace(leaving=True) if atom.name == \"HG1\" else atom\n",
    "                    for atom in resdef.atoms\n",
    "                ],\n",
    "                description=resdef.description + \" w/ crosslink\",\n",
    "            )\n",
    "            for resdef in CCD_RESIDUE_DEFINITION_CACHE[\"THR\"]\n",
    "            if resdef.description == \"THREONINE\"\n",
    "        ],\n",
    "        \"A10\": [\n",
    "            resdef.replace(\n",
    "                residue_name=\"A10\",\n",
    "                crosslink=BondDefinition.with_defaults(atom1=\"CG\", atom2=\"OG1\"),\n",
    "                atoms=[\n",
    "                    (\n",
    "                        atom.replace(leaving=True)\n",
    "                        if atom.name in {\"OD2\", \"HD2\"}\n",
    "                        else atom\n",
    "                    )\n",
    "                    for atom in resdef.atoms\n",
    "                ],\n",
    "                description=resdef.description + \" w/ crosslink\",\n",
    "            )\n",
    "            for resdef in CCD_RESIDUE_DEFINITION_CACHE[\"ASP\"]\n",
    "            if resdef.description == \"ASPARTIC ACID\"\n",
    "        ],\n",
    "        \"LY6\": [\n",
    "            resdef.replace(\n",
    "                residue_name=\"LY6\",\n",
    "                crosslink=BondDefinition.with_defaults(atom1=\"NZ\", atom2=\"CD\"),\n",
    "                atoms=[\n",
    "                    (\n",
    "                        atom.replace(leaving=True)\n",
    "                        if atom.name in {\"HZ2\", \"HZ3\"}\n",
    "                        else (\n",
    "                            atom.replace(synonyms=(*atom.synonyms, \"HZ\"))\n",
    "                            if atom.name == \"HZ1\"\n",
    "                            else atom\n",
    "                        )\n",
    "                    )\n",
    "                    for atom in resdef.atoms\n",
    "                ],\n",
    "                description=resdef.description + \" w/ crosslink\",\n",
    "            )\n",
    "            for resdef in CCD_RESIDUE_DEFINITION_CACHE[\"LYS\"]\n",
    "            if resdef.description == \"LYSINE -HZ3\"\n",
    "        ],\n",
    "        \"G13\": [\n",
    "            resdef.replace(\n",
    "                residue_name=\"G13\",\n",
    "                crosslink=BondDefinition.with_defaults(atom1=\"CD\", atom2=\"NZ\"),\n",
    "                atoms=[\n",
    "                    atom.replace(leaving=True)\n",
    "                    if atom.name in (\"OE2\", \"HE2\")\n",
    "                    else atom\n",
    "                    for atom in resdef.atoms\n",
    "                ],\n",
    "                description=resdef.description + \" w/ crosslink\",\n",
    "            )\n",
    "            for resdef in CCD_RESIDUE_DEFINITION_CACHE[\"GLU\"]\n",
    "            if resdef.description == \"GLUTAMIC ACID\"\n",
    "        ],\n",
    "        \"SE9\": [\n",
    "            resdef.replace(\n",
    "                residue_name=\"SE9\",\n",
    "                crosslink=BondDefinition.with_defaults(atom1=\"OG\", atom2=\"CD\"),\n",
    "                atoms=[\n",
    "                    atom.replace(leaving=True) if atom.name == \"HG\" else atom\n",
    "                    for atom in resdef.atoms\n",
    "                ],\n",
    "                description=resdef.description + \" w/ crosslink\",\n",
    "            )\n",
    "            for resdef in CCD_RESIDUE_DEFINITION_CACHE[\"SER\"]\n",
    "            if resdef.description == \"SERINE\"\n",
    "        ],\n",
    "        \"G12\": [\n",
    "            resdef.replace(\n",
    "                residue_name=\"G12\",\n",
    "                crosslink=BondDefinition.with_defaults(atom1=\"CD\", atom2=\"OG\"),\n",
    "                atoms=[\n",
    "                    atom.replace(leaving=True)\n",
    "                    if atom.name in (\"OE2\", \"HE2\")\n",
    "                    else atom\n",
    "                    for atom in resdef.atoms\n",
    "                ],\n",
    "                description=resdef.description + \" w/ crosslink\",\n",
    "            )\n",
    "            for resdef in CCD_RESIDUE_DEFINITION_CACHE[\"GLU\"]\n",
    "            if resdef.description == \"GLUTAMIC ACID\"\n",
    "        ],\n",
    "    },\n",
    ")\n",
    "\n",
    "top = topology_from_pdb(\n",
    "    \"system_edited.pdb\",\n",
    "    residue_database=custom_residue_database,\n",
    ")\n"
   ]
  },
  {
   "cell_type": "code",
   "execution_count": 36,
   "id": "0de6979e-8463-4c4a-a964-3c8d7658b22b",
   "metadata": {
    "execution": {
     "iopub.execute_input": "2025-08-15T18:38:41.012733Z",
     "iopub.status.busy": "2025-08-15T18:38:41.011904Z",
     "iopub.status.idle": "2025-08-15T18:38:41.081221Z",
     "shell.execute_reply": "2025-08-15T18:38:41.079697Z",
     "shell.execute_reply.started": "2025-08-15T18:38:41.012701Z"
    }
   },
   "outputs": [
    {
     "data": {
      "application/vnd.jupyter.widget-view+json": {
       "model_id": "59fa1a704e83434fa67d7b28064514ad",
       "version_major": 2,
       "version_minor": 0
      },
      "text/plain": [
       "NGLWidget()"
      ]
     },
     "metadata": {},
     "output_type": "display_data"
    }
   ],
   "source": [
    "top.molecule(0)"
   ]
  },
  {
   "cell_type": "code",
   "execution_count": 41,
   "id": "7ff07614-cead-4344-81d6-0a72ce48e8bc",
   "metadata": {
    "execution": {
     "iopub.execute_input": "2025-08-15T18:40:58.915059Z",
     "iopub.status.busy": "2025-08-15T18:40:58.913741Z",
     "iopub.status.idle": "2025-08-15T18:41:00.689059Z",
     "shell.execute_reply": "2025-08-15T18:41:00.688438Z",
     "shell.execute_reply.started": "2025-08-15T18:40:58.914994Z"
    }
   },
   "outputs": [],
   "source": [
    "top = solvate_topology(\n",
    "    top,\n",
    "    nacl_conc=Quantity(0.1, \"mol/L\"),\n",
    "    padding=Quantity(1.2, \"nm\"),\n",
    "    box_shape=RHOMBIC_DODECAHEDRON,\n",
    ")"
   ]
  },
  {
   "cell_type": "code",
   "execution_count": 42,
   "id": "5ada99a7-d450-4099-8e30-64135336aabb",
   "metadata": {
    "execution": {
     "iopub.execute_input": "2025-08-15T18:41:06.712436Z",
     "iopub.status.busy": "2025-08-15T18:41:06.710857Z",
     "iopub.status.idle": "2025-08-15T18:41:07.846677Z",
     "shell.execute_reply": "2025-08-15T18:41:07.846249Z",
     "shell.execute_reply.started": "2025-08-15T18:41:06.712361Z"
    }
   },
   "outputs": [
    {
     "data": {
      "application/vnd.jupyter.widget-view+json": {
       "model_id": "3f897936ea1946ff8bc730fc01247e5a",
       "version_major": 2,
       "version_minor": 0
      },
      "text/plain": [
       "NGLWidget()"
      ]
     },
     "metadata": {},
     "output_type": "display_data"
    }
   ],
   "source": [
    "top.visualize()"
   ]
  },
  {
   "cell_type": "code",
   "execution_count": 43,
   "id": "3cb56304-528d-4d6f-b777-81702b5d7a33",
   "metadata": {
    "execution": {
     "iopub.execute_input": "2025-08-15T18:41:23.993340Z",
     "iopub.status.busy": "2025-08-15T18:41:23.992114Z",
     "iopub.status.idle": "2025-08-15T18:41:33.641522Z",
     "shell.execute_reply": "2025-08-15T18:41:33.639938Z",
     "shell.execute_reply.started": "2025-08-15T18:41:23.993290Z"
    }
   },
   "outputs": [
    {
     "name": "stdout",
     "output_type": "stream",
     "text": [
      "adding dummy charges to force field ...\n",
      "making Interchange ...\n",
      "replacing dummy charges with NAGL charges ... \n",
      "assigning graph charges to C78H104N19O21 ...\n"
     ]
    },
    {
     "name": "stderr",
     "output_type": "stream",
     "text": [
      "[11:41:33] WARNING: Proton(s) added/removed\n",
      "\n"
     ]
    },
    {
     "name": "stdout",
     "output_type": "stream",
     "text": [
      "continuing with dummy charge replacement ...\n"
     ]
    }
   ],
   "source": [
    "from ptm_prototype import parametrize_with_nagl\n",
    "from openff.toolkit import ForceField\n",
    "\n",
    "sage_ff14sb = ForceField(\"openff-2.2.1.offxml\", \"ff14sb_off_impropers_0.0.4.offxml\")\n",
    "\n",
    "\n",
    "interchange = parametrize_with_nagl(force_field=sage_ff14sb, topology=top)"
   ]
  },
  {
   "cell_type": "code",
   "execution_count": 61,
   "id": "7d4e0b0d-0bb7-4157-b22d-a5b0b7b44683",
   "metadata": {
    "execution": {
     "iopub.execute_input": "2025-08-15T19:03:19.867717Z",
     "iopub.status.busy": "2025-08-15T19:03:19.864687Z",
     "iopub.status.idle": "2025-08-15T19:03:19.886304Z",
     "shell.execute_reply": "2025-08-15T19:03:19.884302Z",
     "shell.execute_reply.started": "2025-08-15T19:03:19.867614Z"
    }
   },
   "outputs": [
    {
     "name": "stdout",
     "output_type": "stream",
     "text": [
      "id='[H:6][C:5]([C:20]=[O:21])([C:7]([H:8])([C:9]([H:10])([H:11])[H:12])[C:13]([H:14])([H:15])[C:16]([H:17])([H:18])[H:19])[N+:1]([H:2])([H:3])[H:4]' mult=0 associated_handler='LibraryCharges' bond_order=None virtual_site_type=None cosmetic_attributes={}\n",
      "id='inserted_graph_charges' mult=196 associated_handler='molecules_with_preset_charges' bond_order=None virtual_site_type=None cosmetic_attributes={}\n"
     ]
    }
   ],
   "source": [
    "print([*interchange['Electrostatics'].key_map.values()][0])\n",
    "print([*interchange['Electrostatics'].key_map.values()][-1])"
   ]
  },
  {
   "cell_type": "code",
   "execution_count": 44,
   "id": "2a5df379-ebf4-4a8b-8799-8650522c3b9d",
   "metadata": {
    "execution": {
     "iopub.execute_input": "2025-08-15T18:41:36.959435Z",
     "iopub.status.busy": "2025-08-15T18:41:36.958087Z",
     "iopub.status.idle": "2025-08-15T18:41:39.877377Z",
     "shell.execute_reply": "2025-08-15T18:41:39.875971Z",
     "shell.execute_reply.started": "2025-08-15T18:41:36.959381Z"
    }
   },
   "outputs": [
    {
     "name": "stdout",
     "output_type": "stream",
     "text": [
      "making OpenMM simulation ...\n",
      "total system charge is 7.993605777301127e-15\n",
      "serializing OpenMM system ...\n"
     ]
    }
   ],
   "source": [
    "from ptm_prototype import get_openmm_total_charge\n",
    "\n",
    "temperature = 300 * openmm.unit.kelvin\n",
    "pressure = 1 * openmm.unit.bar\n",
    "\n",
    "timestep = 2 * openmm.unit.femtosecond\n",
    "friction_coeff = 1 / openmm.unit.picosecond\n",
    "barostat_frequency = 25\n",
    "\n",
    "print(\"making OpenMM simulation ...\")\n",
    "simulation = interchange.to_openmm_simulation(\n",
    "    integrator=openmm.LangevinMiddleIntegrator(\n",
    "        temperature,\n",
    "        friction_coeff,\n",
    "        timestep,\n",
    "    ),\n",
    "    additional_forces=[\n",
    "        openmm.MonteCarloBarostat(\n",
    "            pressure,\n",
    "            temperature,\n",
    "            barostat_frequency,\n",
    "        ),\n",
    "    ],\n",
    ")\n",
    "\n",
    "dcd_reporter = openmm.app.DCDReporter(\"trajectory.dcd\", 100)\n",
    "simulation.reporters.append(dcd_reporter)\n",
    "\n",
    "print(f\"total system charge is {get_openmm_total_charge(simulation.system)}\")\n",
    "\n",
    "print(\"serializing OpenMM system ...\")\n",
    "with open(\"system.xml\", \"w\") as f:\n",
    "    f.write(openmm.XmlSerializer.serialize(simulation.system))"
   ]
  },
  {
   "cell_type": "code",
   "execution_count": 45,
   "id": "faf10226-30d2-474f-9ffc-e17e7f140dbb",
   "metadata": {
    "execution": {
     "iopub.execute_input": "2025-08-15T18:41:59.846145Z",
     "iopub.status.busy": "2025-08-15T18:41:59.844325Z",
     "iopub.status.idle": "2025-08-15T18:42:40.696509Z",
     "shell.execute_reply": "2025-08-15T18:42:40.692127Z",
     "shell.execute_reply.started": "2025-08-15T18:41:59.846047Z"
    }
   },
   "outputs": [],
   "source": [
    "simulation.context.computeVirtualSites()\n",
    "simulation.minimizeEnergy()\n",
    "simulation.context.setVelocitiesToTemperature(simulation.integrator.getTemperature())"
   ]
  },
  {
   "cell_type": "code",
   "execution_count": 46,
   "id": "11c5dd4b-a51d-4e28-a6d8-71473e1c56d1",
   "metadata": {
    "execution": {
     "iopub.execute_input": "2025-08-15T18:42:54.661854Z",
     "iopub.status.busy": "2025-08-15T18:42:54.656544Z",
     "iopub.status.idle": "2025-08-15T18:43:54.699575Z",
     "shell.execute_reply": "2025-08-15T18:43:54.696763Z",
     "shell.execute_reply.started": "2025-08-15T18:42:54.661763Z"
    }
   },
   "outputs": [],
   "source": [
    "simulation.runForClockTime(.25 * openmm.unit.minute)"
   ]
  },
  {
   "cell_type": "code",
   "execution_count": 50,
   "id": "17cb9344-7dad-4604-aeb4-a3153a5de43d",
   "metadata": {
    "execution": {
     "iopub.execute_input": "2025-08-15T18:45:53.604649Z",
     "iopub.status.busy": "2025-08-15T18:45:53.600200Z",
     "iopub.status.idle": "2025-08-15T18:45:54.158844Z",
     "shell.execute_reply": "2025-08-15T18:45:54.153501Z",
     "shell.execute_reply.started": "2025-08-15T18:45:53.604499Z"
    }
   },
   "outputs": [
    {
     "data": {
      "application/vnd.jupyter.widget-view+json": {
       "model_id": "28a9c255ec894c71ab33a1196c5a3a6a",
       "version_major": 2,
       "version_minor": 0
      },
      "text/plain": [
       "NGLWidget(max_frame=146)"
      ]
     },
     "metadata": {},
     "output_type": "display_data"
    }
   ],
   "source": [
    "from ptm_prototype import nglview_show_openmm\n",
    "\n",
    "w = nglview_show_openmm(simulation.topology, \"trajectory.dcd\")\n",
    "w.add_licorice(\"not UNK\", radius=0.3)\n",
    "#w.center(\"not water\")\n",
    "w"
   ]
  },
  {
   "cell_type": "code",
   "execution_count": null,
   "id": "d3398532-fde6-4b97-841f-2255ee2628ae",
   "metadata": {},
   "outputs": [],
   "source": []
  },
  {
   "cell_type": "code",
   "execution_count": null,
   "id": "4d5ec1d8-0ea8-4d80-a174-c7df5ddf0d21",
   "metadata": {},
   "outputs": [],
   "source": []
  },
  {
   "cell_type": "code",
   "execution_count": null,
   "id": "dc2b47bf-40b9-43cd-b89d-0452390d95ce",
   "metadata": {},
   "outputs": [],
   "source": []
  },
  {
   "cell_type": "code",
   "execution_count": 29,
   "id": "f7996a8d-1b4b-418e-8265-1bab1129dadc",
   "metadata": {
    "execution": {
     "iopub.execute_input": "2025-08-15T18:35:15.600954Z",
     "iopub.status.busy": "2025-08-15T18:35:15.600337Z",
     "iopub.status.idle": "2025-08-15T18:35:15.609853Z",
     "shell.execute_reply": "2025-08-15T18:35:15.608812Z",
     "shell.execute_reply.started": "2025-08-15T18:35:15.600923Z"
    }
   },
   "outputs": [],
   "source": [
    "from ptm_prototype import react\n",
    "from ptm_prototype import draw_molecule\n",
    "\n",
    "\n",
    "def draw_mol_with_atom_names(mol_to_draw):\n",
    "    return draw_molecule(\n",
    "        mol_to_draw,\n",
    "        width=700,\n",
    "        height=600,\n",
    "        atom_notes={\n",
    "            i: (\n",
    "                f\"{i}:{'|'.join([atom.name, *atom.metadata.get('synonyms', '').split()])}\"\n",
    "                + f\"{'^' if bool(atom.metadata.get('leaving_atom')) else ''}\"\n",
    "            )\n",
    "            for i, atom in enumerate(mol_to_draw.atoms)\n",
    "        },\n",
    "    )"
   ]
  },
  {
   "cell_type": "code",
   "execution_count": 32,
   "id": "15308279-ac37-45c8-88c6-bf28399d3127",
   "metadata": {
    "execution": {
     "iopub.execute_input": "2025-08-15T18:35:53.592774Z",
     "iopub.status.busy": "2025-08-15T18:35:53.591368Z",
     "iopub.status.idle": "2025-08-15T18:35:53.638814Z",
     "shell.execute_reply": "2025-08-15T18:35:53.638127Z",
     "shell.execute_reply.started": "2025-08-15T18:35:53.592678Z"
    }
   },
   "outputs": [
    {
     "name": "stdout",
     "output_type": "stream",
     "text": [
      "LYSINE -H2 -HZ3\n"
     ]
    },
    {
     "data": {
      "image/svg+xml": [
       "<svg xmlns=\"http://www.w3.org/2000/svg\" xmlns:rdkit=\"http://www.rdkit.org/xml\" xmlns:xlink=\"http://www.w3.org/1999/xlink\" version=\"1.1\" baseProfile=\"full\" xml:space=\"preserve\" width=\"700px\" height=\"600px\" viewBox=\"0 0 700 600\">\n",
       "<!-- END OF HEADER -->\n",
       "<rect style=\"opacity:1.0;fill:#FFFFFF;stroke:none\" width=\"700.0\" height=\"600.0\" x=\"0.0\" y=\"0.0\"> </rect>\n",
       "<path class=\"bond-0 atom-0 atom-1\" d=\"M 346.9,385.0 L 361.2,370.7\" style=\"fill:none;fill-rule:evenodd;stroke:#0000FF;stroke-width:2.0px;stroke-linecap:butt;stroke-linejoin:miter;stroke-opacity:1\"/>\n",
       "<path class=\"bond-0 atom-0 atom-1\" d=\"M 361.2,370.7 L 375.6,356.3\" style=\"fill:none;fill-rule:evenodd;stroke:#000000;stroke-width:2.0px;stroke-linecap:butt;stroke-linejoin:miter;stroke-opacity:1\"/>\n",
       "<path class=\"bond-1 atom-0 atom-10\" d=\"M 325.1,392.9 L 309.0,388.5\" style=\"fill:none;fill-rule:evenodd;stroke:#0000FF;stroke-width:2.0px;stroke-linecap:butt;stroke-linejoin:miter;stroke-opacity:1\"/>\n",
       "<path class=\"bond-1 atom-0 atom-10\" d=\"M 309.0,388.5 L 292.9,384.1\" style=\"fill:none;fill-rule:evenodd;stroke:#000000;stroke-width:2.0px;stroke-linecap:butt;stroke-linejoin:miter;stroke-opacity:1\"/>\n",
       "<path class=\"bond-2 atom-1 atom-2\" d=\"M 375.6,356.3 L 415.1,395.6\" style=\"fill:none;fill-rule:evenodd;stroke:#000000;stroke-width:2.0px;stroke-linecap:butt;stroke-linejoin:miter;stroke-opacity:1\"/>\n",
       "<path class=\"bond-3 atom-1 atom-4\" d=\"M 375.6,356.3 L 390.2,301.5\" style=\"fill:none;fill-rule:evenodd;stroke:#000000;stroke-width:2.0px;stroke-linecap:butt;stroke-linejoin:miter;stroke-opacity:1\"/>\n",
       "<path class=\"bond-4 atom-1 atom-11\" d=\"M 372.1,355.8 L 372.2,355.1\" style=\"fill:none;fill-rule:evenodd;stroke:#000000;stroke-width:1.0px;stroke-linecap:butt;stroke-linejoin:miter;stroke-opacity:1\"/>\n",
       "<path class=\"bond-4 atom-1 atom-11\" d=\"M 368.6,355.3 L 368.9,353.9\" style=\"fill:none;fill-rule:evenodd;stroke:#000000;stroke-width:1.0px;stroke-linecap:butt;stroke-linejoin:miter;stroke-opacity:1\"/>\n",
       "<path class=\"bond-4 atom-1 atom-11\" d=\"M 365.1,354.7 L 365.6,352.7\" style=\"fill:none;fill-rule:evenodd;stroke:#000000;stroke-width:1.0px;stroke-linecap:butt;stroke-linejoin:miter;stroke-opacity:1\"/>\n",
       "<path class=\"bond-4 atom-1 atom-11\" d=\"M 361.6,354.2 L 362.3,351.5\" style=\"fill:none;fill-rule:evenodd;stroke:#000000;stroke-width:1.0px;stroke-linecap:butt;stroke-linejoin:miter;stroke-opacity:1\"/>\n",
       "<path class=\"bond-4 atom-1 atom-11\" d=\"M 358.2,353.7 L 359.0,350.3\" style=\"fill:none;fill-rule:evenodd;stroke:#000000;stroke-width:1.0px;stroke-linecap:butt;stroke-linejoin:miter;stroke-opacity:1\"/>\n",
       "<path class=\"bond-4 atom-1 atom-11\" d=\"M 354.7,353.2 L 355.7,349.1\" style=\"fill:none;fill-rule:evenodd;stroke:#000000;stroke-width:1.0px;stroke-linecap:butt;stroke-linejoin:miter;stroke-opacity:1\"/>\n",
       "<path class=\"bond-4 atom-1 atom-11\" d=\"M 351.2,352.7 L 352.4,347.9\" style=\"fill:none;fill-rule:evenodd;stroke:#000000;stroke-width:1.0px;stroke-linecap:butt;stroke-linejoin:miter;stroke-opacity:1\"/>\n",
       "<path class=\"bond-4 atom-1 atom-11\" d=\"M 347.7,352.1 L 349.1,346.7\" style=\"fill:none;fill-rule:evenodd;stroke:#000000;stroke-width:1.0px;stroke-linecap:butt;stroke-linejoin:miter;stroke-opacity:1\"/>\n",
       "<path class=\"bond-4 atom-1 atom-11\" d=\"M 344.2,351.6 L 345.8,345.5\" style=\"fill:none;fill-rule:evenodd;stroke:#000000;stroke-width:1.0px;stroke-linecap:butt;stroke-linejoin:miter;stroke-opacity:1\"/>\n",
       "<path class=\"bond-4 atom-1 atom-11\" d=\"M 340.8,351.1 L 342.5,344.3\" style=\"fill:none;fill-rule:evenodd;stroke:#000000;stroke-width:1.0px;stroke-linecap:butt;stroke-linejoin:miter;stroke-opacity:1\"/>\n",
       "<path class=\"bond-4 atom-1 atom-11\" d=\"M 337.3,350.6 L 339.2,343.1\" style=\"fill:none;fill-rule:evenodd;stroke:#000000;stroke-width:1.0px;stroke-linecap:butt;stroke-linejoin:miter;stroke-opacity:1\"/>\n",
       "<path class=\"bond-4 atom-1 atom-11\" d=\"M 333.8,350.0 L 335.9,341.9\" style=\"fill:none;fill-rule:evenodd;stroke:#000000;stroke-width:1.0px;stroke-linecap:butt;stroke-linejoin:miter;stroke-opacity:1\"/>\n",
       "<path class=\"bond-5 atom-2 atom-3\" d=\"M 413.9,400.3 L 435.8,394.4\" style=\"fill:none;fill-rule:evenodd;stroke:#000000;stroke-width:2.0px;stroke-linecap:butt;stroke-linejoin:miter;stroke-opacity:1\"/>\n",
       "<path class=\"bond-5 atom-2 atom-3\" d=\"M 435.8,394.4 L 457.6,388.4\" style=\"fill:none;fill-rule:evenodd;stroke:#FF0000;stroke-width:2.0px;stroke-linecap:butt;stroke-linejoin:miter;stroke-opacity:1\"/>\n",
       "<path class=\"bond-5 atom-2 atom-3\" d=\"M 411.7,392.2 L 433.5,386.2\" style=\"fill:none;fill-rule:evenodd;stroke:#000000;stroke-width:2.0px;stroke-linecap:butt;stroke-linejoin:miter;stroke-opacity:1\"/>\n",
       "<path class=\"bond-5 atom-2 atom-3\" d=\"M 433.5,386.2 L 455.4,380.3\" style=\"fill:none;fill-rule:evenodd;stroke:#FF0000;stroke-width:2.0px;stroke-linecap:butt;stroke-linejoin:miter;stroke-opacity:1\"/>\n",
       "<path class=\"bond-6 atom-2 atom-9\" d=\"M 415.1,395.6 L 409.8,415.7\" style=\"fill:none;fill-rule:evenodd;stroke:#000000;stroke-width:2.0px;stroke-linecap:butt;stroke-linejoin:miter;stroke-opacity:1\"/>\n",
       "<path class=\"bond-6 atom-2 atom-9\" d=\"M 409.8,415.7 L 404.4,435.8\" style=\"fill:none;fill-rule:evenodd;stroke:#FF0000;stroke-width:2.0px;stroke-linecap:butt;stroke-linejoin:miter;stroke-opacity:1\"/>\n",
       "<path class=\"bond-7 atom-4 atom-5\" d=\"M 390.2,301.5 L 350.1,260.5\" style=\"fill:none;fill-rule:evenodd;stroke:#000000;stroke-width:2.0px;stroke-linecap:butt;stroke-linejoin:miter;stroke-opacity:1\"/>\n",
       "<path class=\"bond-8 atom-4 atom-12\" d=\"M 390.2,301.5 L 419.1,273.5\" style=\"fill:none;fill-rule:evenodd;stroke:#000000;stroke-width:2.0px;stroke-linecap:butt;stroke-linejoin:miter;stroke-opacity:1\"/>\n",
       "<path class=\"bond-9 atom-4 atom-13\" d=\"M 390.2,301.5 L 433.2,313.3\" style=\"fill:none;fill-rule:evenodd;stroke:#000000;stroke-width:2.0px;stroke-linecap:butt;stroke-linejoin:miter;stroke-opacity:1\"/>\n",
       "<path class=\"bond-10 atom-5 atom-6\" d=\"M 350.1,260.5 L 364.5,205.4\" style=\"fill:none;fill-rule:evenodd;stroke:#000000;stroke-width:2.0px;stroke-linecap:butt;stroke-linejoin:miter;stroke-opacity:1\"/>\n",
       "<path class=\"bond-11 atom-5 atom-14\" d=\"M 350.1,260.5 L 321.4,288.2\" style=\"fill:none;fill-rule:evenodd;stroke:#000000;stroke-width:2.0px;stroke-linecap:butt;stroke-linejoin:miter;stroke-opacity:1\"/>\n",
       "<path class=\"bond-12 atom-5 atom-15\" d=\"M 350.1,260.5 L 307.9,249.3\" style=\"fill:none;fill-rule:evenodd;stroke:#000000;stroke-width:2.0px;stroke-linecap:butt;stroke-linejoin:miter;stroke-opacity:1\"/>\n",
       "<path class=\"bond-13 atom-6 atom-7\" d=\"M 364.5,205.4 L 324.5,165.1\" style=\"fill:none;fill-rule:evenodd;stroke:#000000;stroke-width:2.0px;stroke-linecap:butt;stroke-linejoin:miter;stroke-opacity:1\"/>\n",
       "<path class=\"bond-14 atom-6 atom-16\" d=\"M 364.5,205.4 L 407.4,216.3\" style=\"fill:none;fill-rule:evenodd;stroke:#000000;stroke-width:2.0px;stroke-linecap:butt;stroke-linejoin:miter;stroke-opacity:1\"/>\n",
       "<path class=\"bond-15 atom-6 atom-17\" d=\"M 364.5,205.4 L 392.9,176.8\" style=\"fill:none;fill-rule:evenodd;stroke:#000000;stroke-width:2.0px;stroke-linecap:butt;stroke-linejoin:miter;stroke-opacity:1\"/>\n",
       "<path class=\"bond-16 atom-7 atom-8\" d=\"M 324.5,165.1 L 302.5,170.6\" style=\"fill:none;fill-rule:evenodd;stroke:#000000;stroke-width:2.0px;stroke-linecap:butt;stroke-linejoin:miter;stroke-opacity:1\"/>\n",
       "<path class=\"bond-16 atom-7 atom-8\" d=\"M 302.5,170.6 L 280.5,176.0\" style=\"fill:none;fill-rule:evenodd;stroke:#0000FF;stroke-width:2.0px;stroke-linecap:butt;stroke-linejoin:miter;stroke-opacity:1\"/>\n",
       "<path class=\"bond-17 atom-7 atom-18\" d=\"M 324.5,165.1 L 353.4,136.8\" style=\"fill:none;fill-rule:evenodd;stroke:#000000;stroke-width:2.0px;stroke-linecap:butt;stroke-linejoin:miter;stroke-opacity:1\"/>\n",
       "<path class=\"bond-18 atom-7 atom-19\" d=\"M 324.5,165.1 L 314.2,124.5\" style=\"fill:none;fill-rule:evenodd;stroke:#000000;stroke-width:2.0px;stroke-linecap:butt;stroke-linejoin:miter;stroke-opacity:1\"/>\n",
       "<path class=\"bond-19 atom-8 atom-20\" d=\"M 265.6,192.5 L 261.8,205.4\" style=\"fill:none;fill-rule:evenodd;stroke:#0000FF;stroke-width:2.0px;stroke-linecap:butt;stroke-linejoin:miter;stroke-opacity:1\"/>\n",
       "<path class=\"bond-19 atom-8 atom-20\" d=\"M 261.8,205.4 L 258.1,218.2\" style=\"fill:none;fill-rule:evenodd;stroke:#000000;stroke-width:2.0px;stroke-linecap:butt;stroke-linejoin:miter;stroke-opacity:1\"/>\n",
       "<path class=\"bond-20 atom-8 atom-21\" d=\"M 258.7,167.4 L 250.3,158.7\" style=\"fill:none;fill-rule:evenodd;stroke:#0000FF;stroke-width:2.0px;stroke-linecap:butt;stroke-linejoin:miter;stroke-opacity:1\"/>\n",
       "<path class=\"bond-20 atom-8 atom-21\" d=\"M 250.3,158.7 L 241.9,150.0\" style=\"fill:none;fill-rule:evenodd;stroke:#000000;stroke-width:2.0px;stroke-linecap:butt;stroke-linejoin:miter;stroke-opacity:1\"/>\n",
       "<path class=\"bond-21 atom-9 atom-22\" d=\"M 413.5,462.5 L 421.4,470.3\" style=\"fill:none;fill-rule:evenodd;stroke:#FF0000;stroke-width:2.0px;stroke-linecap:butt;stroke-linejoin:miter;stroke-opacity:1\"/>\n",
       "<path class=\"bond-21 atom-9 atom-22\" d=\"M 421.4,470.3 L 429.3,478.1\" style=\"fill:none;fill-rule:evenodd;stroke:#000000;stroke-width:2.0px;stroke-linecap:butt;stroke-linejoin:miter;stroke-opacity:1\"/>\n",
       "<path d=\"M 413.2,393.6 L 415.1,395.6 L 414.9,396.6\" style=\"fill:none;stroke:#000000;stroke-width:2.0px;stroke-linecap:butt;stroke-linejoin:miter;stroke-miterlimit:10;stroke-opacity:1;\"/>\n",
       "<path class=\"atom-0\" d=\"M 330.7 384.0 L 338.5 396.6 Q 339.3 397.9, 340.5 400.1 Q 341.8 402.4, 341.9 402.5 L 341.9 384.0 L 345.0 384.0 L 345.0 407.9 L 341.8 407.9 L 333.4 394.0 Q 332.4 392.4, 331.3 390.6 Q 330.3 388.7, 330.0 388.1 L 330.0 407.9 L 326.9 407.9 L 326.9 384.0 L 330.7 384.0 \" fill=\"#0000FF\"/>\n",
       "<path class=\"atom-0\" d=\"M 349.4 387.9 L 357.5 387.9 L 357.5 389.7 L 349.4 389.7 L 349.4 387.9 \" fill=\"#0000FF\"/>\n",
       "<path class=\"atom-3\" d=\"M 458.4 380.9 Q 458.4 375.2, 461.2 372.0 Q 464.0 368.8, 469.3 368.8 Q 474.6 368.8, 477.5 372.0 Q 480.3 375.2, 480.3 380.9 Q 480.3 386.7, 477.4 390.0 Q 474.6 393.3, 469.3 393.3 Q 464.1 393.3, 461.2 390.0 Q 458.4 386.8, 458.4 380.9 M 469.3 390.6 Q 473.0 390.6, 474.9 388.2 Q 476.9 385.7, 476.9 380.9 Q 476.9 376.2, 474.9 373.9 Q 473.0 371.5, 469.3 371.5 Q 465.7 371.5, 463.7 373.9 Q 461.7 376.2, 461.7 380.9 Q 461.7 385.8, 463.7 388.2 Q 465.7 390.6, 469.3 390.6 \" fill=\"#FF0000\"/>\n",
       "<path class=\"atom-8\" d=\"M 264.3 166.8 L 272.2 179.5 Q 272.9 180.7, 274.2 183.0 Q 275.4 185.2, 275.5 185.4 L 275.5 166.8 L 278.7 166.8 L 278.7 190.7 L 275.4 190.7 L 267.0 176.9 Q 266.0 175.2, 265.0 173.4 Q 264.0 171.5, 263.7 171.0 L 263.7 190.7 L 260.6 190.7 L 260.6 166.8 L 264.3 166.8 \" fill=\"#0000FF\"/>\n",
       "<path class=\"atom-9\" d=\"M 389.8 449.8 Q 389.8 444.1, 392.6 440.9 Q 395.4 437.7, 400.7 437.7 Q 406.0 437.7, 408.9 440.9 Q 411.7 444.1, 411.7 449.8 Q 411.7 455.6, 408.8 458.9 Q 406.0 462.2, 400.7 462.2 Q 395.5 462.2, 392.6 458.9 Q 389.8 455.6, 389.8 449.8 M 400.7 459.5 Q 404.4 459.5, 406.3 457.1 Q 408.3 454.6, 408.3 449.8 Q 408.3 445.1, 406.3 442.8 Q 404.4 440.4, 400.7 440.4 Q 397.1 440.4, 395.1 442.7 Q 393.1 445.1, 393.1 449.8 Q 393.1 454.6, 395.1 457.1 Q 397.1 459.5, 400.7 459.5 \" fill=\"#FF0000\"/>\n",
       "<path class=\"atom-10\" d=\"M 272.4 369.1 L 275.6 369.1 L 275.6 379.3 L 287.8 379.3 L 287.8 369.1 L 291.0 369.1 L 291.0 393.0 L 287.8 393.0 L 287.8 382.0 L 275.6 382.0 L 275.6 393.0 L 272.4 393.0 L 272.4 369.1 \" fill=\"#000000\"/>\n",
       "<path class=\"atom-11\" d=\"M 312.5 330.7 L 315.7 330.7 L 315.7 340.9 L 327.9 340.9 L 327.9 330.7 L 331.1 330.7 L 331.1 354.6 L 327.9 354.6 L 327.9 343.6 L 315.7 343.6 L 315.7 354.6 L 312.5 354.6 L 312.5 330.7 \" fill=\"#000000\"/>\n",
       "<path class=\"atom-12\" d=\"M 421.0 250.8 L 424.2 250.8 L 424.2 260.9 L 436.4 260.9 L 436.4 250.8 L 439.6 250.8 L 439.6 274.6 L 436.4 274.6 L 436.4 263.6 L 424.2 263.6 L 424.2 274.6 L 421.0 274.6 L 421.0 250.8 \" fill=\"#000000\"/>\n",
       "<path class=\"atom-13\" d=\"M 435.0 304.5 L 438.3 304.5 L 438.3 314.6 L 450.5 314.6 L 450.5 304.5 L 453.7 304.5 L 453.7 328.4 L 450.5 328.4 L 450.5 317.3 L 438.3 317.3 L 438.3 328.4 L 435.0 328.4 L 435.0 304.5 \" fill=\"#000000\"/>\n",
       "<path class=\"atom-14\" d=\"M 300.9 287.1 L 304.1 287.1 L 304.1 297.2 L 316.3 297.2 L 316.3 287.1 L 319.6 287.1 L 319.6 311.0 L 316.3 311.0 L 316.3 299.9 L 304.1 299.9 L 304.1 311.0 L 300.9 311.0 L 300.9 287.1 \" fill=\"#000000\"/>\n",
       "<path class=\"atom-15\" d=\"M 287.4 234.4 L 290.6 234.4 L 290.6 244.5 L 302.8 244.5 L 302.8 234.4 L 306.1 234.4 L 306.1 258.2 L 302.8 258.2 L 302.8 247.2 L 290.6 247.2 L 290.6 258.2 L 287.4 258.2 L 287.4 234.4 \" fill=\"#000000\"/>\n",
       "<path class=\"atom-16\" d=\"M 409.3 207.2 L 412.5 207.2 L 412.5 217.3 L 424.7 217.3 L 424.7 207.2 L 428.0 207.2 L 428.0 231.1 L 424.7 231.1 L 424.7 220.0 L 412.5 220.0 L 412.5 231.1 L 409.3 231.1 L 409.3 207.2 \" fill=\"#000000\"/>\n",
       "<path class=\"atom-17\" d=\"M 394.7 153.5 L 398.0 153.5 L 398.0 163.7 L 410.2 163.7 L 410.2 153.5 L 413.4 153.5 L 413.4 177.4 L 410.2 177.4 L 410.2 166.4 L 398.0 166.4 L 398.0 177.4 L 394.7 177.4 L 394.7 153.5 \" fill=\"#000000\"/>\n",
       "<path class=\"atom-18\" d=\"M 355.2 113.8 L 358.4 113.8 L 358.4 124.0 L 370.7 124.0 L 370.7 113.8 L 373.9 113.8 L 373.9 137.7 L 370.7 137.7 L 370.7 126.7 L 358.4 126.7 L 358.4 137.7 L 355.2 137.7 L 355.2 113.8 \" fill=\"#000000\"/>\n",
       "<path class=\"atom-19\" d=\"M 301.3 98.8 L 304.6 98.8 L 304.6 109.0 L 316.8 109.0 L 316.8 98.8 L 320.0 98.8 L 320.0 122.7 L 316.8 122.7 L 316.8 111.7 L 304.6 111.7 L 304.6 122.7 L 301.3 122.7 L 301.3 98.8 \" fill=\"#000000\"/>\n",
       "<path class=\"atom-20\" d=\"M 244.7 220.1 L 247.9 220.1 L 247.9 230.2 L 260.1 230.2 L 260.1 220.1 L 263.4 220.1 L 263.4 244.0 L 260.1 244.0 L 260.1 232.9 L 247.9 232.9 L 247.9 244.0 L 244.7 244.0 L 244.7 220.1 \" fill=\"#000000\"/>\n",
       "<path class=\"atom-21\" d=\"M 221.3 126.5 L 224.6 126.5 L 224.6 136.6 L 236.8 136.6 L 236.8 126.5 L 240.0 126.5 L 240.0 150.3 L 236.8 150.3 L 236.8 139.3 L 224.6 139.3 L 224.6 150.3 L 221.3 150.3 L 221.3 126.5 \" fill=\"#000000\"/>\n",
       "<path class=\"atom-22\" d=\"M 431.2 477.3 L 434.4 477.3 L 434.4 487.5 L 446.6 487.5 L 446.6 477.3 L 449.9 477.3 L 449.9 501.2 L 446.6 501.2 L 446.6 490.2 L 434.4 490.2 L 434.4 501.2 L 431.2 501.2 L 431.2 477.3 \" fill=\"#000000\"/>\n",
       "<path class=\"note\" d=\"M 336.0 429.2 Q 333.8 429.2, 332.7 427.6 Q 331.6 426.0, 331.6 423.1 Q 331.6 420.2, 332.7 418.6 Q 333.8 417.0, 336.0 417.0 Q 338.2 417.0, 339.3 418.6 Q 340.4 420.2, 340.4 423.1 Q 340.4 426.0, 339.3 427.6 Q 338.2 429.2, 336.0 429.2 M 336.0 427.9 Q 337.3 427.9, 338.0 426.7 Q 338.7 425.5, 338.7 423.1 Q 338.7 420.8, 338.0 419.6 Q 337.3 418.4, 336.0 418.4 Q 334.7 418.4, 334.0 419.6 Q 333.3 420.8, 333.3 423.1 Q 333.3 425.5, 334.0 426.7 Q 334.7 427.9, 336.0 427.9 \" fill=\"#000000\"/>\n",
       "<path class=\"note\" d=\"M 342.1 427.1 L 343.8 427.1 L 343.8 428.8 L 342.1 428.8 L 342.1 427.1 M 342.1 421.3 L 343.8 421.3 L 343.8 423.0 L 342.1 423.0 L 342.1 421.3 \" fill=\"#000000\"/>\n",
       "<path class=\"note\" d=\"M 347.6 417.2 L 351.5 423.5 Q 351.9 424.1, 352.5 425.3 Q 353.1 426.4, 353.2 426.4 L 353.2 417.2 L 354.7 417.2 L 354.7 429.1 L 353.1 429.1 L 348.9 422.2 Q 348.4 421.4, 347.9 420.5 Q 347.4 419.5, 347.2 419.3 L 347.2 429.1 L 345.7 429.1 L 345.7 417.2 L 347.6 417.2 \" fill=\"#000000\"/>\n",
       "<path class=\"note\" d=\"M 387.7 360.9 L 390.3 360.9 L 390.3 352.0 L 387.4 352.9 L 387.0 351.9 L 390.7 350.3 L 391.9 350.5 L 391.9 360.9 L 394.2 360.9 L 394.2 362.3 L 387.7 362.3 L 387.7 360.9 \" fill=\"#000000\"/>\n",
       "<path class=\"note\" d=\"M 395.7 360.3 L 397.3 360.3 L 397.3 362.0 L 395.7 362.0 L 395.7 360.3 M 395.7 354.5 L 397.3 354.5 L 397.3 356.2 L 395.7 356.2 L 395.7 354.5 \" fill=\"#000000\"/>\n",
       "<path class=\"note\" d=\"M 399.3 356.3 Q 399.3 353.3, 400.7 351.8 Q 402.1 350.2, 404.7 350.2 Q 407.2 350.2, 408.5 352.0 L 407.4 352.9 Q 406.4 351.6, 404.7 351.6 Q 402.9 351.6, 402.0 352.8 Q 401.0 354.0, 401.0 356.3 Q 401.0 358.7, 402.0 359.9 Q 403.0 361.1, 404.9 361.1 Q 406.2 361.1, 407.8 360.3 L 408.3 361.6 Q 407.6 362.0, 406.7 362.2 Q 405.7 362.4, 404.7 362.4 Q 402.1 362.4, 400.7 360.9 Q 399.3 359.3, 399.3 356.3 \" fill=\"#000000\"/>\n",
       "<path class=\"note\" d=\"M 418.7 362.3 L 417.5 358.8 L 412.7 358.8 L 411.5 362.3 L 409.9 362.3 L 414.0 350.4 L 416.0 350.4 L 420.3 362.3 L 418.7 362.3 M 413.2 357.4 L 417.0 357.4 L 415.0 352.0 L 413.2 357.4 \" fill=\"#000000\"/>\n",
       "<path class=\"note\" d=\"M 423.9 411.8 Q 424.3 410.6, 425.4 410.0 Q 426.4 409.4, 427.8 409.4 Q 429.7 409.4, 430.7 410.4 Q 431.7 411.3, 431.7 413.1 Q 431.7 414.8, 430.4 416.5 Q 429.1 418.1, 426.4 420.1 L 431.9 420.1 L 431.9 421.4 L 423.8 421.4 L 423.8 420.3 Q 426.1 418.7, 427.4 417.6 Q 428.7 416.4, 429.3 415.3 Q 430.0 414.2, 430.0 413.2 Q 430.0 412.0, 429.4 411.4 Q 428.8 410.7, 427.8 410.7 Q 426.9 410.7, 426.2 411.1 Q 425.6 411.5, 425.2 412.4 L 423.9 411.8 \" fill=\"#000000\"/>\n",
       "<path class=\"note\" d=\"M 433.5 419.5 L 435.2 419.5 L 435.2 421.2 L 433.5 421.2 L 433.5 419.5 M 433.5 413.7 L 435.2 413.7 L 435.2 415.4 L 433.5 415.4 L 433.5 413.7 \" fill=\"#000000\"/>\n",
       "<path class=\"note\" d=\"M 437.1 415.5 Q 437.1 412.5, 438.5 410.9 Q 439.9 409.4, 442.5 409.4 Q 445.0 409.4, 446.3 411.1 L 445.2 412.0 Q 444.2 410.8, 442.5 410.8 Q 440.7 410.8, 439.8 412.0 Q 438.8 413.2, 438.8 415.5 Q 438.8 417.8, 439.8 419.0 Q 440.8 420.2, 442.7 420.2 Q 444.0 420.2, 445.6 419.5 L 446.0 420.7 Q 445.4 421.1, 444.5 421.4 Q 443.5 421.6, 442.5 421.6 Q 439.9 421.6, 438.5 420.0 Q 437.1 418.4, 437.1 415.5 \" fill=\"#000000\"/>\n",
       "<path class=\"note\" d=\"M 470.3 407.7 Q 471.4 408.1, 472.0 408.8 Q 472.6 409.6, 472.6 410.7 Q 472.6 411.8, 472.1 412.5 Q 471.6 413.3, 470.6 413.8 Q 469.7 414.2, 468.5 414.2 Q 467.2 414.2, 466.3 413.7 Q 465.3 413.3, 464.6 412.4 L 465.5 411.4 Q 466.3 412.2, 466.9 412.5 Q 467.5 412.8, 468.5 412.8 Q 469.6 412.8, 470.2 412.3 Q 470.9 411.7, 470.9 410.7 Q 470.9 409.5, 470.2 409.0 Q 469.5 408.4, 468.1 408.4 L 467.2 408.4 L 467.2 407.2 L 468.0 407.2 Q 469.3 407.2, 469.9 406.6 Q 470.6 406.1, 470.6 405.0 Q 470.6 404.2, 470.1 403.8 Q 469.5 403.3, 468.5 403.3 Q 467.5 403.3, 466.9 403.6 Q 466.3 404.0, 465.8 404.9 L 464.7 404.3 Q 465.1 403.3, 466.1 402.6 Q 467.1 401.9, 468.5 401.9 Q 470.3 401.9, 471.3 402.8 Q 472.3 403.6, 472.3 405.0 Q 472.3 406.0, 471.8 406.6 Q 471.3 407.3, 470.3 407.7 \" fill=\"#000000\"/>\n",
       "<path class=\"note\" d=\"M 474.3 412.0 L 475.9 412.0 L 475.9 413.7 L 474.3 413.7 L 474.3 412.0 M 474.3 406.2 L 475.9 406.2 L 475.9 407.9 L 474.3 407.9 L 474.3 406.2 \" fill=\"#000000\"/>\n",
       "<path class=\"note\" d=\"M 477.9 408.0 Q 477.9 405.1, 479.3 403.5 Q 480.7 401.9, 483.4 401.9 Q 486.0 401.9, 487.4 403.5 Q 488.9 405.1, 488.9 408.0 Q 488.9 410.9, 487.4 412.6 Q 486.0 414.2, 483.4 414.2 Q 480.8 414.2, 479.3 412.6 Q 477.9 410.9, 477.9 408.0 M 483.4 412.9 Q 485.2 412.9, 486.2 411.6 Q 487.2 410.4, 487.2 408.0 Q 487.2 405.7, 486.2 404.5 Q 485.2 403.3, 483.4 403.3 Q 481.6 403.3, 480.6 404.5 Q 479.6 405.7, 479.6 408.0 Q 479.6 410.4, 480.6 411.6 Q 481.6 412.9, 483.4 412.9 \" fill=\"#000000\"/>\n",
       "<path class=\"note\" d=\"M 354.2 310.6 L 355.7 310.6 L 355.7 311.9 L 354.2 311.9 L 354.2 314.7 L 352.7 314.7 L 352.7 311.9 L 346.5 311.9 L 346.5 310.9 L 351.7 302.7 L 354.2 302.7 L 354.2 310.6 M 348.4 310.6 L 352.7 310.6 L 352.7 303.8 L 348.4 310.6 \" fill=\"#000000\"/>\n",
       "<path class=\"note\" d=\"M 357.2 312.7 L 358.9 312.7 L 358.9 314.4 L 357.2 314.4 L 357.2 312.7 M 357.2 306.9 L 358.9 306.9 L 358.9 308.6 L 357.2 308.6 L 357.2 306.9 \" fill=\"#000000\"/>\n",
       "<path class=\"note\" d=\"M 360.9 308.7 Q 360.9 305.7, 362.2 304.2 Q 363.6 302.6, 366.3 302.6 Q 368.8 302.6, 370.1 304.3 L 369.0 305.2 Q 368.0 304.0, 366.3 304.0 Q 364.5 304.0, 363.5 305.2 Q 362.6 306.4, 362.6 308.7 Q 362.6 311.0, 363.6 312.3 Q 364.6 313.5, 366.5 313.5 Q 367.8 313.5, 369.3 312.7 L 369.8 313.9 Q 369.2 314.3, 368.2 314.6 Q 367.3 314.8, 366.2 314.8 Q 363.6 314.8, 362.2 313.2 Q 360.9 311.6, 360.9 308.7 \" fill=\"#000000\"/>\n",
       "<path class=\"note\" d=\"M 377.2 308.4 Q 378.4 308.7, 379.0 309.4 Q 379.6 310.1, 379.6 311.1 Q 379.6 312.8, 378.5 313.7 Q 377.4 314.7, 375.5 314.7 L 371.4 314.7 L 371.4 302.7 L 375.0 302.7 Q 377.0 302.7, 378.0 303.6 Q 379.1 304.4, 379.1 305.9 Q 379.1 307.7, 377.2 308.4 M 373.0 304.1 L 373.0 307.8 L 375.0 307.8 Q 376.1 307.8, 376.8 307.3 Q 377.4 306.9, 377.4 305.9 Q 377.4 304.1, 375.0 304.1 L 373.0 304.1 M 375.5 313.3 Q 376.6 313.3, 377.2 312.8 Q 377.9 312.2, 377.9 311.1 Q 377.9 310.2, 377.2 309.7 Q 376.5 309.2, 375.2 309.2 L 373.0 309.2 L 373.0 313.3 L 375.5 313.3 \" fill=\"#000000\"/>\n",
       "<path class=\"note\" d=\"M 364.9 251.9 Q 365.9 251.9, 366.8 252.3 Q 367.7 252.8, 368.1 253.6 Q 368.6 254.4, 368.6 255.6 Q 368.6 256.8, 368.0 257.7 Q 367.4 258.6, 366.5 259.0 Q 365.5 259.5, 364.4 259.5 Q 363.3 259.5, 362.3 259.1 Q 361.2 258.7, 360.6 257.9 L 361.6 256.8 Q 362.1 257.5, 362.9 257.8 Q 363.6 258.1, 364.4 258.1 Q 365.5 258.1, 366.2 257.5 Q 366.9 256.8, 366.9 255.6 Q 366.9 254.3, 366.2 253.7 Q 365.5 253.1, 364.3 253.1 Q 363.3 253.1, 362.1 253.6 L 361.2 253.2 L 361.8 247.4 L 367.9 247.4 L 367.7 248.8 L 363.1 248.8 L 362.8 252.3 Q 363.8 251.9, 364.9 251.9 \" fill=\"#000000\"/>\n",
       "<path class=\"note\" d=\"M 370.2 257.4 L 371.8 257.4 L 371.8 259.1 L 370.2 259.1 L 370.2 257.4 M 370.2 251.6 L 371.8 251.6 L 371.8 253.3 L 370.2 253.3 L 370.2 251.6 \" fill=\"#000000\"/>\n",
       "<path class=\"note\" d=\"M 373.8 253.4 Q 373.8 250.4, 375.2 248.8 Q 376.6 247.3, 379.2 247.3 Q 381.7 247.3, 383.0 249.0 L 381.9 249.9 Q 380.9 248.7, 379.2 248.7 Q 377.4 248.7, 376.5 249.9 Q 375.5 251.1, 375.5 253.4 Q 375.5 255.7, 376.5 256.9 Q 377.5 258.1, 379.4 258.1 Q 380.7 258.1, 382.3 257.4 L 382.8 258.6 Q 382.1 259.0, 381.2 259.3 Q 380.2 259.5, 379.2 259.5 Q 376.6 259.5, 375.2 257.9 Q 373.8 256.3, 373.8 253.4 \" fill=\"#000000\"/>\n",
       "<path class=\"note\" d=\"M 394.0 253.5 L 394.0 258.5 Q 392.3 259.5, 389.8 259.5 Q 387.2 259.5, 385.8 257.9 Q 384.4 256.3, 384.4 253.4 Q 384.4 250.4, 385.8 248.8 Q 387.2 247.3, 389.8 247.3 Q 391.2 247.3, 392.2 247.7 Q 393.2 248.1, 394.0 249.0 L 392.9 249.9 Q 391.7 248.6, 389.8 248.6 Q 388.0 248.6, 387.1 249.8 Q 386.1 251.0, 386.1 253.4 Q 386.1 255.7, 387.1 256.9 Q 388.1 258.1, 390.0 258.1 Q 391.3 258.1, 392.4 257.7 L 392.4 253.5 L 394.0 253.5 \" fill=\"#000000\"/>\n",
       "<path class=\"note\" d=\"M 325.3 211.3 Q 326.4 211.3, 327.2 211.7 Q 328.0 212.2, 328.5 213.0 Q 328.9 213.8, 328.9 214.9 Q 328.9 216.1, 328.4 217.0 Q 327.9 217.9, 327.0 218.4 Q 326.1 218.9, 324.9 218.9 Q 322.8 218.9, 321.7 217.4 Q 320.6 216.0, 320.6 213.1 Q 320.6 209.9, 322.0 208.3 Q 323.3 206.7, 325.8 206.7 Q 326.6 206.7, 327.2 206.8 Q 327.8 207.0, 328.4 207.4 L 327.8 208.5 Q 326.9 208.0, 325.9 208.0 Q 324.2 208.0, 323.3 209.1 Q 322.4 210.2, 322.3 212.4 Q 323.0 211.9, 323.7 211.6 Q 324.5 211.3, 325.3 211.3 M 324.9 217.5 Q 325.6 217.5, 326.1 217.1 Q 326.6 216.8, 326.9 216.2 Q 327.2 215.6, 327.2 214.9 Q 327.2 213.8, 326.6 213.2 Q 326.1 212.6, 325.0 212.6 Q 324.3 212.6, 323.6 212.9 Q 322.8 213.2, 322.3 213.7 Q 322.4 215.7, 323.0 216.6 Q 323.7 217.5, 324.9 217.5 \" fill=\"#000000\"/>\n",
       "<path class=\"note\" d=\"M 330.6 216.8 L 332.2 216.8 L 332.2 218.4 L 330.6 218.4 L 330.6 216.8 M 330.6 211.0 L 332.2 211.0 L 332.2 212.6 L 330.6 212.6 L 330.6 211.0 \" fill=\"#000000\"/>\n",
       "<path class=\"note\" d=\"M 334.2 212.7 Q 334.2 209.8, 335.6 208.2 Q 337.0 206.7, 339.7 206.7 Q 342.1 206.7, 343.4 208.4 L 342.3 209.3 Q 341.4 208.0, 339.7 208.0 Q 337.8 208.0, 336.9 209.3 Q 335.9 210.5, 335.9 212.7 Q 335.9 215.1, 336.9 216.3 Q 337.9 217.5, 339.8 217.5 Q 341.2 217.5, 342.7 216.7 L 343.2 218.0 Q 342.5 218.4, 341.6 218.6 Q 340.6 218.9, 339.6 218.9 Q 337.0 218.9, 335.6 217.3 Q 334.2 215.7, 334.2 212.7 \" fill=\"#000000\"/>\n",
       "<path class=\"note\" d=\"M 348.7 206.8 Q 351.3 206.8, 352.7 208.4 Q 354.2 209.9, 354.2 212.7 Q 354.2 215.6, 352.7 217.1 Q 351.3 218.7, 348.7 218.7 L 344.8 218.7 L 344.8 206.8 L 348.7 206.8 M 348.7 217.4 Q 350.5 217.4, 351.5 216.2 Q 352.5 215.1, 352.5 212.7 Q 352.5 210.4, 351.5 209.3 Q 350.5 208.1, 348.7 208.1 L 346.4 208.1 L 346.4 217.4 L 348.7 217.4 \" fill=\"#000000\"/>\n",
       "<path class=\"note\" d=\"M 308.0 187.7 L 301.7 187.7 L 301.7 186.3 L 309.6 186.3 L 309.6 187.5 L 304.8 198.2 L 303.2 198.2 L 308.0 187.7 \" fill=\"#000000\"/>\n",
       "<path class=\"note\" d=\"M 310.8 196.3 L 312.4 196.3 L 312.4 198.0 L 310.8 198.0 L 310.8 196.3 M 310.8 190.5 L 312.4 190.5 L 312.4 192.2 L 310.8 192.2 L 310.8 190.5 \" fill=\"#000000\"/>\n",
       "<path class=\"note\" d=\"M 314.4 192.3 Q 314.4 189.3, 315.7 187.7 Q 317.1 186.2, 319.8 186.2 Q 322.3 186.2, 323.6 187.9 L 322.5 188.8 Q 321.5 187.6, 319.8 187.6 Q 318.0 187.6, 317.0 188.8 Q 316.1 190.0, 316.1 192.3 Q 316.1 194.6, 317.1 195.8 Q 318.1 197.0, 320.0 197.0 Q 321.3 197.0, 322.8 196.3 L 323.3 197.5 Q 322.7 197.9, 321.7 198.2 Q 320.8 198.4, 319.7 198.4 Q 317.1 198.4, 315.7 196.8 Q 314.4 195.2, 314.4 192.3 \" fill=\"#000000\"/>\n",
       "<path class=\"note\" d=\"M 324.9 186.3 L 332.0 186.3 L 332.0 187.7 L 326.5 187.7 L 326.5 191.3 L 331.4 191.3 L 331.4 192.7 L 326.5 192.7 L 326.5 196.8 L 332.2 196.8 L 332.2 198.2 L 324.9 198.2 L 324.9 186.3 \" fill=\"#000000\"/>\n",
       "<path class=\"note\" d=\"M 267.0 151.5 Q 268.1 151.9, 268.8 152.7 Q 269.4 153.3, 269.4 154.5 Q 269.4 155.5, 268.9 156.3 Q 268.3 157.1, 267.4 157.5 Q 266.5 158.0, 265.2 158.0 Q 263.2 158.0, 262.1 157.1 Q 261.0 156.1, 261.0 154.5 Q 261.0 153.5, 261.5 152.8 Q 262.0 152.1, 263.0 151.5 Q 262.2 151.1, 261.8 150.4 Q 261.4 149.8, 261.4 148.8 Q 261.4 147.4, 262.4 146.6 Q 263.4 145.7, 265.2 145.7 Q 266.9 145.7, 267.9 146.6 Q 268.9 147.4, 268.9 148.8 Q 268.9 149.7, 268.5 150.3 Q 268.0 151.0, 267.0 151.5 M 265.2 147.0 Q 264.2 147.0, 263.6 147.5 Q 263.1 147.9, 263.1 148.8 Q 263.1 149.4, 263.4 149.8 Q 263.8 150.2, 264.3 150.5 Q 264.9 150.7, 265.9 151.1 Q 266.6 150.5, 266.9 150.0 Q 267.3 149.5, 267.3 148.8 Q 267.3 147.9, 266.7 147.5 Q 266.2 147.0, 265.2 147.0 M 265.2 156.7 Q 266.3 156.7, 267.0 156.1 Q 267.7 155.5, 267.7 154.5 Q 267.7 153.9, 267.3 153.5 Q 267.0 153.1, 266.4 152.8 Q 265.9 152.6, 265.0 152.3 L 264.2 152.0 Q 263.4 152.5, 263.0 153.1 Q 262.6 153.7, 262.6 154.5 Q 262.6 155.5, 263.3 156.1 Q 264.1 156.7, 265.2 156.7 \" fill=\"#000000\"/>\n",
       "<path class=\"note\" d=\"M 271.1 155.8 L 272.8 155.8 L 272.8 157.5 L 271.1 157.5 L 271.1 155.8 M 271.1 150.0 L 272.8 150.0 L 272.8 151.7 L 271.1 151.7 L 271.1 150.0 \" fill=\"#000000\"/>\n",
       "<path class=\"note\" d=\"M 276.6 145.9 L 280.6 152.2 Q 280.9 152.8, 281.6 153.9 Q 282.2 155.1, 282.2 155.1 L 282.2 145.9 L 283.8 145.9 L 283.8 157.8 L 282.2 157.8 L 278.0 150.9 Q 277.5 150.1, 277.0 149.1 Q 276.5 148.2, 276.3 147.9 L 276.3 157.8 L 274.8 157.8 L 274.8 145.9 L 276.6 145.9 \" fill=\"#000000\"/>\n",
       "<path class=\"note\" d=\"M 285.9 156.5 L 291.9 147.2 L 286.1 147.2 L 286.1 145.9 L 293.9 145.9 L 293.9 147.1 L 287.9 156.4 L 293.8 156.4 L 293.8 157.8 L 285.9 157.8 L 285.9 156.5 \" fill=\"#000000\"/>\n",
       "<path class=\"note\" d=\"M 365.8 484.4 Q 367.9 484.4, 369.0 485.9 Q 370.1 487.3, 370.1 490.2 Q 370.1 493.4, 368.8 495.0 Q 367.4 496.6, 364.9 496.6 Q 364.1 496.6, 363.5 496.5 Q 362.9 496.3, 362.3 496.0 L 362.9 494.8 Q 363.8 495.3, 364.9 495.3 Q 366.6 495.3, 367.4 494.2 Q 368.3 493.1, 368.4 490.9 Q 367.8 491.4, 367.0 491.7 Q 366.2 492.0, 365.4 492.0 Q 364.4 492.0, 363.5 491.6 Q 362.7 491.1, 362.3 490.3 Q 361.8 489.5, 361.8 488.4 Q 361.8 487.3, 362.3 486.4 Q 362.8 485.5, 363.7 484.9 Q 364.7 484.4, 365.8 484.4 M 363.5 488.4 Q 363.5 489.5, 364.1 490.1 Q 364.7 490.7, 365.7 490.7 Q 366.4 490.7, 367.1 490.4 Q 367.9 490.1, 368.4 489.6 Q 368.3 487.6, 367.7 486.7 Q 367.1 485.8, 365.8 485.8 Q 365.2 485.8, 364.6 486.2 Q 364.1 486.5, 363.8 487.1 Q 363.5 487.7, 363.5 488.4 \" fill=\"#000000\"/>\n",
       "<path class=\"note\" d=\"M 372.0 494.5 L 373.7 494.5 L 373.7 496.2 L 372.0 496.2 L 372.0 494.5 M 372.0 488.7 L 373.7 488.7 L 373.7 490.4 L 372.0 490.4 L 372.0 488.7 \" fill=\"#000000\"/>\n",
       "<path class=\"note\" d=\"M 375.8 490.5 Q 375.8 487.6, 377.2 486.0 Q 378.6 484.4, 381.3 484.4 Q 383.9 484.4, 385.4 486.0 Q 386.8 487.6, 386.8 490.5 Q 386.8 493.4, 385.3 495.1 Q 383.9 496.7, 381.3 496.7 Q 378.7 496.7, 377.2 495.1 Q 375.8 493.4, 375.8 490.5 M 381.3 495.3 Q 383.1 495.3, 384.1 494.1 Q 385.1 492.9, 385.1 490.5 Q 385.1 488.2, 384.1 487.0 Q 383.1 485.8, 381.3 485.8 Q 379.5 485.8, 378.5 487.0 Q 377.5 488.2, 377.5 490.5 Q 377.5 492.9, 378.5 494.1 Q 379.5 495.3, 381.3 495.3 \" fill=\"#000000\"/>\n",
       "<path class=\"note\" d=\"M 399.2 496.5 L 397.3 496.5 L 393.8 491.6 L 390.3 496.5 L 388.4 496.5 L 392.9 490.3 L 388.8 484.6 L 390.6 484.6 L 393.9 489.1 L 397.1 484.6 L 398.9 484.6 L 394.8 490.4 L 399.2 496.5 \" fill=\"#000000\"/>\n",
       "<path class=\"note\" d=\"M 403.8 485.9 L 400.1 485.9 L 400.1 484.6 L 408.9 484.6 L 408.9 485.9 L 405.4 485.9 L 405.4 496.5 L 403.8 496.5 L 403.8 485.9 \" fill=\"#000000\"/>\n",
       "<path class=\"note\" d=\"M 414.3 484.6 L 418.1 490.4 L 416.6 490.4 L 413.9 485.9 L 411.1 490.4 L 409.7 490.4 L 413.4 484.6 L 414.3 484.6 \" fill=\"#000000\"/>\n",
       "<path class=\"note\" d=\"M 247.2 359.1 L 249.8 359.1 L 249.8 350.1 L 246.9 351.0 L 246.5 350.0 L 250.2 348.4 L 251.4 348.6 L 251.4 359.1 L 253.7 359.1 L 253.7 360.4 L 247.2 360.4 L 247.2 359.1 \" fill=\"#000000\"/>\n",
       "<path class=\"note\" d=\"M 259.4 360.5 Q 257.2 360.5, 256.1 358.9 Q 255.1 357.3, 255.1 354.4 Q 255.1 351.5, 256.1 349.9 Q 257.2 348.3, 259.4 348.3 Q 261.6 348.3, 262.7 349.9 Q 263.8 351.5, 263.8 354.4 Q 263.8 357.3, 262.7 358.9 Q 261.6 360.5, 259.4 360.5 M 259.4 359.2 Q 260.7 359.2, 261.4 358.0 Q 262.1 356.8, 262.1 354.4 Q 262.1 352.1, 261.4 350.9 Q 260.7 349.7, 259.4 349.7 Q 258.1 349.7, 257.4 350.9 Q 256.7 352.1, 256.7 354.4 Q 256.7 356.8, 257.4 358.0 Q 258.1 359.2, 259.4 359.2 \" fill=\"#000000\"/>\n",
       "<path class=\"note\" d=\"M 265.5 358.4 L 267.2 358.4 L 267.2 360.1 L 265.5 360.1 L 265.5 358.4 M 265.5 352.6 L 267.2 352.6 L 267.2 354.3 L 265.5 354.3 L 265.5 352.6 \" fill=\"#000000\"/>\n",
       "<path class=\"note\" d=\"M 269.1 348.5 L 270.7 348.5 L 270.7 353.5 L 276.8 353.5 L 276.8 348.5 L 278.5 348.5 L 278.5 360.4 L 276.8 360.4 L 276.8 354.9 L 270.7 354.9 L 270.7 360.4 L 269.1 360.4 L 269.1 348.5 \" fill=\"#000000\"/>\n",
       "<path class=\"note\" d=\"M 280.5 347.4 L 282.0 347.4 L 282.0 363.7 L 280.5 363.7 L 280.5 347.4 \" fill=\"#000000\"/>\n",
       "<path class=\"note\" d=\"M 284.0 348.5 L 285.6 348.5 L 285.6 353.5 L 291.7 353.5 L 291.7 348.5 L 293.4 348.5 L 293.4 360.4 L 291.7 360.4 L 291.7 354.9 L 285.6 354.9 L 285.6 360.4 L 284.0 360.4 L 284.0 348.5 \" fill=\"#000000\"/>\n",
       "<path class=\"note\" d=\"M 296.1 359.1 L 298.7 359.1 L 298.7 350.1 L 295.8 351.0 L 295.4 350.0 L 299.1 348.4 L 300.3 348.6 L 300.3 359.1 L 302.6 359.1 L 302.6 360.4 L 296.1 360.4 L 296.1 359.1 \" fill=\"#000000\"/>\n",
       "<path class=\"note\" d=\"M 308.7 374.3 L 311.3 374.3 L 311.3 365.4 L 308.4 366.3 L 308.0 365.3 L 311.7 363.7 L 312.9 363.9 L 312.9 374.3 L 315.2 374.3 L 315.2 375.7 L 308.7 375.7 L 308.7 374.3 \" fill=\"#000000\"/>\n",
       "<path class=\"note\" d=\"M 317.3 374.3 L 319.9 374.3 L 319.9 365.4 L 317.0 366.3 L 316.7 365.3 L 320.3 363.7 L 321.5 363.9 L 321.5 374.3 L 323.9 374.3 L 323.9 375.7 L 317.3 375.7 L 317.3 374.3 \" fill=\"#000000\"/>\n",
       "<path class=\"note\" d=\"M 325.3 373.7 L 327.0 373.7 L 327.0 375.4 L 325.3 375.4 L 325.3 373.7 M 325.3 367.9 L 327.0 367.9 L 327.0 369.6 L 325.3 369.6 L 325.3 367.9 \" fill=\"#000000\"/>\n",
       "<path class=\"note\" d=\"M 328.9 363.8 L 330.6 363.8 L 330.6 368.8 L 336.7 368.8 L 336.7 363.8 L 338.3 363.8 L 338.3 375.7 L 336.7 375.7 L 336.7 370.2 L 330.6 370.2 L 330.6 375.7 L 328.9 375.7 L 328.9 363.8 \" fill=\"#000000\"/>\n",
       "<path class=\"note\" d=\"M 349.2 375.7 L 348.0 372.2 L 343.3 372.2 L 342.1 375.7 L 340.4 375.7 L 344.5 363.8 L 346.5 363.8 L 350.8 375.7 L 349.2 375.7 M 343.7 370.8 L 347.5 370.8 L 345.6 365.4 L 343.7 370.8 \" fill=\"#000000\"/>\n",
       "<path class=\"note\" d=\"M 418.0 298.2 L 420.7 298.2 L 420.7 289.2 L 417.8 290.1 L 417.4 289.1 L 421.1 287.5 L 422.2 287.7 L 422.2 298.2 L 424.6 298.2 L 424.6 299.5 L 418.0 299.5 L 418.0 298.2 \" fill=\"#000000\"/>\n",
       "<path class=\"note\" d=\"M 426.0 289.8 Q 426.5 288.7, 427.5 288.1 Q 428.5 287.4, 430.0 287.4 Q 431.8 287.4, 432.8 288.4 Q 433.8 289.4, 433.8 291.1 Q 433.8 292.9, 432.5 294.6 Q 431.2 296.2, 428.5 298.2 L 434.0 298.2 L 434.0 299.5 L 426.0 299.5 L 426.0 298.4 Q 428.2 296.8, 429.5 295.6 Q 430.9 294.4, 431.5 293.4 Q 432.1 292.3, 432.1 291.2 Q 432.1 290.1, 431.6 289.4 Q 431.0 288.8, 430.0 288.8 Q 429.0 288.8, 428.4 289.2 Q 427.8 289.6, 427.3 290.4 L 426.0 289.8 \" fill=\"#000000\"/>\n",
       "<path class=\"note\" d=\"M 435.7 297.5 L 437.4 297.5 L 437.4 299.2 L 435.7 299.2 L 435.7 297.5 M 435.7 291.7 L 437.4 291.7 L 437.4 293.4 L 435.7 293.4 L 435.7 291.7 \" fill=\"#000000\"/>\n",
       "<path class=\"note\" d=\"M 439.4 287.6 L 441.0 287.6 L 441.0 292.7 L 447.1 292.7 L 447.1 287.6 L 448.7 287.6 L 448.7 299.5 L 447.1 299.5 L 447.1 294.0 L 441.0 294.0 L 441.0 299.5 L 439.4 299.5 L 439.4 287.6 \" fill=\"#000000\"/>\n",
       "<path class=\"note\" d=\"M 456.6 293.2 Q 457.8 293.6, 458.3 294.3 Q 458.9 295.0, 458.9 296.0 Q 458.9 297.6, 457.9 298.6 Q 456.8 299.5, 454.8 299.5 L 450.8 299.5 L 450.8 287.6 L 454.3 287.6 Q 456.4 287.6, 457.4 288.4 Q 458.4 289.2, 458.4 290.7 Q 458.4 292.6, 456.6 293.2 M 452.4 288.9 L 452.4 292.7 L 454.3 292.7 Q 455.5 292.7, 456.1 292.2 Q 456.8 291.7, 456.8 290.7 Q 456.8 288.9, 454.3 288.9 L 452.4 288.9 M 454.8 298.2 Q 456.0 298.2, 456.6 297.6 Q 457.2 297.1, 457.2 296.0 Q 457.2 295.0, 456.5 294.5 Q 455.9 294.0, 454.6 294.0 L 452.4 294.0 L 452.4 298.2 L 454.8 298.2 \" fill=\"#000000\"/>\n",
       "<path class=\"note\" d=\"M 460.4 289.8 Q 460.9 288.7, 461.9 288.1 Q 462.9 287.4, 464.4 287.4 Q 466.2 287.4, 467.2 288.4 Q 468.2 289.4, 468.2 291.1 Q 468.2 292.9, 466.9 294.6 Q 465.6 296.2, 462.9 298.2 L 468.4 298.2 L 468.4 299.5 L 460.4 299.5 L 460.4 298.4 Q 462.6 296.8, 463.9 295.6 Q 465.3 294.4, 465.9 293.4 Q 466.5 292.3, 466.5 291.2 Q 466.5 290.1, 466.0 289.4 Q 465.4 288.8, 464.4 288.8 Q 463.4 288.8, 462.8 289.2 Q 462.2 289.6, 461.7 290.4 L 460.4 289.8 \" fill=\"#000000\"/>\n",
       "<path class=\"note\" d=\"M 470.1 286.5 L 471.5 286.5 L 471.5 302.8 L 470.1 302.8 L 470.1 286.5 \" fill=\"#000000\"/>\n",
       "<path class=\"note\" d=\"M 474.3 298.2 L 476.9 298.2 L 476.9 289.2 L 474.0 290.1 L 473.7 289.1 L 477.3 287.5 L 478.5 287.7 L 478.5 298.2 L 480.9 298.2 L 480.9 299.5 L 474.3 299.5 L 474.3 298.2 \" fill=\"#000000\"/>\n",
       "<path class=\"note\" d=\"M 482.3 287.6 L 483.9 287.6 L 483.9 292.7 L 490.0 292.7 L 490.0 287.6 L 491.6 287.6 L 491.6 299.5 L 490.0 299.5 L 490.0 294.0 L 483.9 294.0 L 483.9 299.5 L 482.3 299.5 L 482.3 287.6 \" fill=\"#000000\"/>\n",
       "<path class=\"note\" d=\"M 499.5 293.2 Q 500.7 293.6, 501.2 294.3 Q 501.8 295.0, 501.8 296.0 Q 501.8 297.6, 500.8 298.6 Q 499.7 299.5, 497.7 299.5 L 493.7 299.5 L 493.7 287.6 L 497.2 287.6 Q 499.3 287.6, 500.3 288.4 Q 501.3 289.2, 501.3 290.7 Q 501.3 292.6, 499.5 293.2 M 495.3 288.9 L 495.3 292.7 L 497.2 292.7 Q 498.4 292.7, 499.0 292.2 Q 499.6 291.7, 499.6 290.7 Q 499.6 288.9, 497.2 288.9 L 495.3 288.9 M 497.7 298.2 Q 498.9 298.2, 499.5 297.6 Q 500.1 297.1, 500.1 296.0 Q 500.1 295.0, 499.4 294.5 Q 498.8 294.0, 497.5 294.0 L 495.3 294.0 L 495.3 298.2 L 497.7 298.2 \" fill=\"#000000\"/>\n",
       "<path class=\"note\" d=\"M 431.8 351.6 L 434.4 351.6 L 434.4 342.7 L 431.5 343.6 L 431.2 342.6 L 434.8 341.0 L 436.0 341.2 L 436.0 351.6 L 438.4 351.6 L 438.4 353.0 L 431.8 353.0 L 431.8 351.6 \" fill=\"#000000\"/>\n",
       "<path class=\"note\" d=\"M 445.5 346.7 Q 446.7 347.0, 447.2 347.8 Q 447.8 348.5, 447.8 349.7 Q 447.8 350.7, 447.3 351.5 Q 446.8 352.3, 445.8 352.7 Q 444.9 353.1, 443.7 353.1 Q 442.4 353.1, 441.5 352.7 Q 440.5 352.2, 439.8 351.3 L 440.7 350.4 Q 441.5 351.2, 442.1 351.5 Q 442.7 351.8, 443.7 351.8 Q 444.8 351.8, 445.4 351.2 Q 446.1 350.6, 446.1 349.7 Q 446.1 348.5, 445.4 347.9 Q 444.7 347.4, 443.3 347.4 L 442.4 347.4 L 442.4 346.2 L 443.2 346.2 Q 444.5 346.1, 445.2 345.6 Q 445.8 345.0, 445.8 343.9 Q 445.8 343.2, 445.3 342.7 Q 444.7 342.2, 443.7 342.2 Q 442.7 342.2, 442.1 342.6 Q 441.5 343.0, 441.0 343.8 L 439.9 343.2 Q 440.3 342.2, 441.3 341.6 Q 442.3 340.9, 443.7 340.9 Q 445.5 340.9, 446.5 341.7 Q 447.5 342.5, 447.5 343.9 Q 447.5 344.9, 447.0 345.6 Q 446.5 346.3, 445.5 346.7 \" fill=\"#000000\"/>\n",
       "<path class=\"note\" d=\"M 449.5 351.0 L 451.2 351.0 L 451.2 352.7 L 449.5 352.7 L 449.5 351.0 M 449.5 345.2 L 451.2 345.2 L 451.2 346.9 L 449.5 346.9 L 449.5 345.2 \" fill=\"#000000\"/>\n",
       "<path class=\"note\" d=\"M 453.1 341.0 L 454.7 341.0 L 454.7 346.1 L 460.8 346.1 L 460.8 341.0 L 462.5 341.0 L 462.5 353.0 L 460.8 353.0 L 460.8 347.5 L 454.7 347.5 L 454.7 353.0 L 453.1 353.0 L 453.1 341.0 \" fill=\"#000000\"/>\n",
       "<path class=\"note\" d=\"M 470.4 346.7 Q 471.5 347.0, 472.1 347.7 Q 472.7 348.4, 472.7 349.4 Q 472.7 351.1, 471.6 352.0 Q 470.6 353.0, 468.6 353.0 L 464.6 353.0 L 464.6 341.0 L 468.1 341.0 Q 470.1 341.0, 471.2 341.9 Q 472.2 342.7, 472.2 344.2 Q 472.2 346.0, 470.4 346.7 M 466.2 342.4 L 466.2 346.1 L 468.1 346.1 Q 469.3 346.1, 469.9 345.7 Q 470.5 345.2, 470.5 344.2 Q 470.5 342.4, 468.1 342.4 L 466.2 342.4 M 468.6 351.6 Q 469.8 351.6, 470.4 351.1 Q 471.0 350.5, 471.0 349.4 Q 471.0 348.5, 470.3 348.0 Q 469.6 347.5, 468.3 347.5 L 466.2 347.5 L 466.2 351.6 L 468.6 351.6 \" fill=\"#000000\"/>\n",
       "<path class=\"note\" d=\"M 479.9 346.7 Q 481.1 347.0, 481.6 347.8 Q 482.2 348.5, 482.2 349.7 Q 482.2 350.7, 481.7 351.5 Q 481.2 352.3, 480.2 352.7 Q 479.3 353.1, 478.1 353.1 Q 476.8 353.1, 475.9 352.7 Q 474.9 352.2, 474.2 351.3 L 475.1 350.4 Q 475.9 351.2, 476.5 351.5 Q 477.1 351.8, 478.1 351.8 Q 479.2 351.8, 479.8 351.2 Q 480.5 350.6, 480.5 349.7 Q 480.5 348.5, 479.8 347.9 Q 479.1 347.4, 477.7 347.4 L 476.8 347.4 L 476.8 346.2 L 477.6 346.2 Q 478.9 346.1, 479.6 345.6 Q 480.2 345.0, 480.2 343.9 Q 480.2 343.2, 479.7 342.7 Q 479.1 342.2, 478.1 342.2 Q 477.1 342.2, 476.5 342.6 Q 475.9 343.0, 475.4 343.8 L 474.3 343.2 Q 474.7 342.2, 475.7 341.6 Q 476.7 340.9, 478.1 340.9 Q 479.9 340.9, 480.9 341.7 Q 481.9 342.5, 481.9 343.9 Q 481.9 344.9, 481.4 345.6 Q 480.9 346.3, 479.9 346.7 \" fill=\"#000000\"/>\n",
       "<path class=\"note\" d=\"M 483.9 339.9 L 485.3 339.9 L 485.3 356.2 L 483.9 356.2 L 483.9 339.9 \" fill=\"#000000\"/>\n",
       "<path class=\"note\" d=\"M 487.4 343.3 Q 487.9 342.2, 488.9 341.5 Q 490.0 340.9, 491.4 340.9 Q 493.2 340.9, 494.2 341.9 Q 495.3 342.9, 495.3 344.6 Q 495.3 346.4, 493.9 348.0 Q 492.6 349.7, 489.9 351.6 L 495.5 351.6 L 495.5 353.0 L 487.4 353.0 L 487.4 351.8 Q 489.6 350.3, 491.0 349.1 Q 492.3 347.9, 492.9 346.8 Q 493.6 345.8, 493.6 344.7 Q 493.6 343.5, 493.0 342.9 Q 492.4 342.2, 491.4 342.2 Q 490.5 342.2, 489.8 342.6 Q 489.2 343.0, 488.7 343.9 L 487.4 343.3 \" fill=\"#000000\"/>\n",
       "<path class=\"note\" d=\"M 497.2 341.0 L 498.8 341.0 L 498.8 346.1 L 504.9 346.1 L 504.9 341.0 L 506.5 341.0 L 506.5 353.0 L 504.9 353.0 L 504.9 347.5 L 498.8 347.5 L 498.8 353.0 L 497.2 353.0 L 497.2 341.0 \" fill=\"#000000\"/>\n",
       "<path class=\"note\" d=\"M 514.4 346.7 Q 515.6 347.0, 516.1 347.7 Q 516.7 348.4, 516.7 349.4 Q 516.7 351.1, 515.7 352.0 Q 514.6 353.0, 512.6 353.0 L 508.6 353.0 L 508.6 341.0 L 512.1 341.0 Q 514.2 341.0, 515.2 341.9 Q 516.2 342.7, 516.2 344.2 Q 516.2 346.0, 514.4 346.7 M 510.2 342.4 L 510.2 346.1 L 512.1 346.1 Q 513.3 346.1, 513.9 345.7 Q 514.6 345.2, 514.6 344.2 Q 514.6 342.4, 512.1 342.4 L 510.2 342.4 M 512.6 351.6 Q 513.8 351.6, 514.4 351.1 Q 515.0 350.5, 515.0 349.4 Q 515.0 348.5, 514.4 348.0 Q 513.7 347.5, 512.4 347.5 L 510.2 347.5 L 510.2 351.6 L 512.6 351.6 \" fill=\"#000000\"/>\n",
       "<path class=\"note\" d=\"M 259.5 276.9 L 262.1 276.9 L 262.1 268.0 L 259.2 268.9 L 258.8 267.9 L 262.5 266.3 L 263.7 266.5 L 263.7 276.9 L 266.0 276.9 L 266.0 278.3 L 259.5 278.3 L 259.5 276.9 \" fill=\"#000000\"/>\n",
       "<path class=\"note\" d=\"M 275.2 274.2 L 276.7 274.2 L 276.7 275.5 L 275.2 275.5 L 275.2 278.3 L 273.6 278.3 L 273.6 275.5 L 267.5 275.5 L 267.5 274.5 L 272.7 266.3 L 275.2 266.3 L 275.2 274.2 M 269.4 274.2 L 273.6 274.2 L 273.6 267.4 L 269.4 274.2 \" fill=\"#000000\"/>\n",
       "<path class=\"note\" d=\"M 278.2 276.3 L 279.9 276.3 L 279.9 278.0 L 278.2 278.0 L 278.2 276.3 M 278.2 270.5 L 279.9 270.5 L 279.9 272.2 L 278.2 272.2 L 278.2 270.5 \" fill=\"#000000\"/>\n",
       "<path class=\"note\" d=\"M 281.9 266.3 L 283.5 266.3 L 283.5 271.4 L 289.6 271.4 L 289.6 266.3 L 291.2 266.3 L 291.2 278.3 L 289.6 278.3 L 289.6 272.8 L 283.5 272.8 L 283.5 278.3 L 281.9 278.3 L 281.9 266.3 \" fill=\"#000000\"/>\n",
       "<path class=\"note\" d=\"M 303.0 272.4 L 303.0 277.5 Q 301.3 278.4, 298.8 278.4 Q 296.2 278.4, 294.8 276.8 Q 293.4 275.3, 293.4 272.3 Q 293.4 269.3, 294.8 267.8 Q 296.2 266.2, 298.8 266.2 Q 300.2 266.2, 301.2 266.6 Q 302.2 267.1, 302.9 267.9 L 301.8 268.9 Q 300.7 267.6, 298.8 267.6 Q 297.0 267.6, 296.0 268.8 Q 295.1 270.0, 295.1 272.3 Q 295.1 274.7, 296.1 275.9 Q 297.1 277.1, 299.0 277.1 Q 300.2 277.1, 301.4 276.7 L 301.4 272.4 L 303.0 272.4 \" fill=\"#000000\"/>\n",
       "<path class=\"note\" d=\"M 305.0 268.6 Q 305.4 267.5, 306.5 266.8 Q 307.5 266.2, 309.0 266.2 Q 310.8 266.2, 311.8 267.2 Q 312.8 268.2, 312.8 269.9 Q 312.8 271.7, 311.5 273.3 Q 310.2 275.0, 307.5 276.9 L 313.0 276.9 L 313.0 278.3 L 305.0 278.3 L 305.0 277.1 Q 307.2 275.6, 308.5 274.4 Q 309.8 273.2, 310.5 272.1 Q 311.1 271.1, 311.1 270.0 Q 311.1 268.8, 310.5 268.2 Q 310.0 267.6, 309.0 267.6 Q 308.0 267.6, 307.4 267.9 Q 306.7 268.3, 306.3 269.2 L 305.0 268.6 \" fill=\"#000000\"/>\n",
       "<path class=\"note\" d=\"M 314.7 265.2 L 316.2 265.2 L 316.2 281.5 L 314.7 281.5 L 314.7 265.2 \" fill=\"#000000\"/>\n",
       "<path class=\"note\" d=\"M 319.0 276.9 L 321.6 276.9 L 321.6 268.0 L 318.7 268.9 L 318.3 267.9 L 322.0 266.3 L 323.2 266.5 L 323.2 276.9 L 325.5 276.9 L 325.5 278.3 L 319.0 278.3 L 319.0 276.9 \" fill=\"#000000\"/>\n",
       "<path class=\"note\" d=\"M 327.0 266.3 L 328.6 266.3 L 328.6 271.4 L 334.7 271.4 L 334.7 266.3 L 336.3 266.3 L 336.3 278.3 L 334.7 278.3 L 334.7 272.8 L 328.6 272.8 L 328.6 278.3 L 327.0 278.3 L 327.0 266.3 \" fill=\"#000000\"/>\n",
       "<path class=\"note\" d=\"M 348.0 272.4 L 348.0 277.5 Q 346.3 278.4, 343.8 278.4 Q 341.2 278.4, 339.8 276.8 Q 338.5 275.3, 338.5 272.3 Q 338.5 269.3, 339.8 267.8 Q 341.2 266.2, 343.9 266.2 Q 345.3 266.2, 346.3 266.6 Q 347.3 267.1, 348.0 267.9 L 346.9 268.9 Q 345.8 267.6, 343.9 267.6 Q 342.1 267.6, 341.1 268.8 Q 340.2 270.0, 340.2 272.3 Q 340.2 274.7, 341.2 275.9 Q 342.1 277.1, 344.1 277.1 Q 345.3 277.1, 346.4 276.7 L 346.4 272.4 L 348.0 272.4 \" fill=\"#000000\"/>\n",
       "<path class=\"note\" d=\"M 260.0 224.3 L 262.6 224.3 L 262.6 215.4 L 259.7 216.3 L 259.4 215.3 L 263.0 213.7 L 264.2 213.9 L 264.2 224.3 L 266.6 224.3 L 266.6 225.7 L 260.0 225.7 L 260.0 224.3 \" fill=\"#000000\"/>\n",
       "<path class=\"note\" d=\"M 272.3 218.2 Q 273.4 218.2, 274.2 218.7 Q 275.1 219.1, 275.6 219.9 Q 276.1 220.8, 276.1 221.9 Q 276.1 223.1, 275.5 224.0 Q 274.9 224.9, 273.9 225.3 Q 272.9 225.8, 271.8 225.8 Q 270.7 225.8, 269.7 225.4 Q 268.7 225.0, 268.0 224.2 L 269.0 223.2 Q 269.6 223.8, 270.3 224.1 Q 271.1 224.4, 271.8 224.4 Q 272.9 224.4, 273.6 223.8 Q 274.4 223.1, 274.4 221.9 Q 274.4 220.7, 273.6 220.1 Q 272.9 219.5, 271.7 219.5 Q 270.7 219.5, 269.5 219.9 L 268.6 219.5 L 269.2 213.7 L 275.3 213.7 L 275.2 215.1 L 270.6 215.1 L 270.2 218.6 Q 271.3 218.2, 272.3 218.2 \" fill=\"#000000\"/>\n",
       "<path class=\"note\" d=\"M 277.6 223.7 L 279.3 223.7 L 279.3 225.4 L 277.6 225.4 L 277.6 223.7 M 277.6 217.9 L 279.3 217.9 L 279.3 219.6 L 277.6 219.6 L 277.6 217.9 \" fill=\"#000000\"/>\n",
       "<path class=\"note\" d=\"M 281.3 213.7 L 282.9 213.7 L 282.9 218.8 L 289.0 218.8 L 289.0 213.7 L 290.6 213.7 L 290.6 225.7 L 289.0 225.7 L 289.0 220.2 L 282.9 220.2 L 282.9 225.7 L 281.3 225.7 L 281.3 213.7 \" fill=\"#000000\"/>\n",
       "<path class=\"note\" d=\"M 302.4 219.8 L 302.4 224.9 Q 300.7 225.8, 298.1 225.8 Q 295.5 225.8, 294.1 224.2 Q 292.8 222.7, 292.8 219.7 Q 292.8 216.7, 294.1 215.2 Q 295.5 213.6, 298.2 213.6 Q 299.6 213.6, 300.6 214.0 Q 301.6 214.5, 302.3 215.3 L 301.2 216.2 Q 300.1 214.9, 298.2 214.9 Q 296.4 214.9, 295.4 216.2 Q 294.5 217.4, 294.5 219.7 Q 294.5 222.0, 295.5 223.3 Q 296.5 224.5, 298.4 224.5 Q 299.6 224.5, 300.7 224.1 L 300.7 219.8 L 302.4 219.8 \" fill=\"#000000\"/>\n",
       "<path class=\"note\" d=\"M 310.1 219.4 Q 311.2 219.7, 311.8 220.5 Q 312.4 221.2, 312.4 222.4 Q 312.4 223.4, 311.9 224.2 Q 311.4 225.0, 310.4 225.4 Q 309.5 225.8, 308.3 225.8 Q 307.0 225.8, 306.0 225.4 Q 305.1 224.9, 304.3 224.0 L 305.3 223.1 Q 306.0 223.9, 306.7 224.2 Q 307.3 224.5, 308.3 224.5 Q 309.4 224.5, 310.0 223.9 Q 310.7 223.3, 310.7 222.4 Q 310.7 221.2, 310.0 220.6 Q 309.3 220.1, 307.9 220.1 L 307.0 220.1 L 307.0 218.9 L 307.8 218.9 Q 309.0 218.8, 309.7 218.3 Q 310.4 217.7, 310.4 216.6 Q 310.4 215.9, 309.9 215.4 Q 309.3 214.9, 308.3 214.9 Q 307.3 214.9, 306.7 215.3 Q 306.1 215.7, 305.6 216.5 L 304.4 215.9 Q 304.9 214.9, 305.9 214.3 Q 306.9 213.6, 308.3 213.6 Q 310.1 213.6, 311.1 214.4 Q 312.1 215.3, 312.1 216.6 Q 312.1 217.6, 311.6 218.3 Q 311.1 219.0, 310.1 219.4 \" fill=\"#000000\"/>\n",
       "<path class=\"note\" d=\"M 314.1 212.6 L 315.5 212.6 L 315.5 228.9 L 314.1 228.9 L 314.1 212.6 \" fill=\"#000000\"/>\n",
       "<path class=\"note\" d=\"M 317.7 216.0 Q 318.1 214.9, 319.2 214.2 Q 320.2 213.6, 321.7 213.6 Q 323.5 213.6, 324.5 214.6 Q 325.5 215.6, 325.5 217.3 Q 325.5 219.1, 324.2 220.7 Q 322.9 222.4, 320.2 224.3 L 325.7 224.3 L 325.7 225.7 L 317.7 225.7 L 317.7 224.5 Q 319.9 223.0, 321.2 221.8 Q 322.5 220.6, 323.2 219.5 Q 323.8 218.5, 323.8 217.4 Q 323.8 216.2, 323.2 215.6 Q 322.7 214.9, 321.7 214.9 Q 320.7 214.9, 320.1 215.3 Q 319.4 215.7, 319.0 216.6 L 317.7 216.0 \" fill=\"#000000\"/>\n",
       "<path class=\"note\" d=\"M 327.4 213.7 L 329.1 213.7 L 329.1 218.8 L 335.2 218.8 L 335.2 213.7 L 336.8 213.7 L 336.8 225.7 L 335.2 225.7 L 335.2 220.2 L 329.1 220.2 L 329.1 225.7 L 327.4 225.7 L 327.4 213.7 \" fill=\"#000000\"/>\n",
       "<path class=\"note\" d=\"M 348.5 219.8 L 348.5 224.9 Q 346.8 225.8, 344.3 225.8 Q 341.7 225.8, 340.3 224.2 Q 338.9 222.7, 338.9 219.7 Q 338.9 216.7, 340.3 215.2 Q 341.7 213.6, 344.4 213.6 Q 345.7 213.6, 346.8 214.0 Q 347.8 214.5, 348.5 215.3 L 347.4 216.2 Q 346.3 214.9, 344.4 214.9 Q 342.6 214.9, 341.6 216.2 Q 340.7 217.4, 340.7 219.7 Q 340.7 222.0, 341.6 223.3 Q 342.6 224.5, 344.5 224.5 Q 345.8 224.5, 346.9 224.1 L 346.9 219.8 L 348.5 219.8 \" fill=\"#000000\"/>\n",
       "<path class=\"note\" d=\"M 405.1 194.1 L 407.7 194.1 L 407.7 185.2 L 404.8 186.1 L 404.4 185.1 L 408.1 183.5 L 409.3 183.7 L 409.3 194.1 L 411.6 194.1 L 411.6 195.5 L 405.1 195.5 L 405.1 194.1 \" fill=\"#000000\"/>\n",
       "<path class=\"note\" d=\"M 417.7 188.0 Q 418.8 188.0, 419.6 188.5 Q 420.4 188.9, 420.9 189.8 Q 421.3 190.6, 421.3 191.6 Q 421.3 192.8, 420.8 193.7 Q 420.3 194.6, 419.4 195.1 Q 418.5 195.6, 417.3 195.6 Q 415.2 195.6, 414.1 194.2 Q 413.0 192.7, 413.0 189.9 Q 413.0 186.7, 414.4 185.1 Q 415.7 183.4, 418.2 183.4 Q 419.0 183.4, 419.6 183.6 Q 420.2 183.7, 420.8 184.1 L 420.2 185.2 Q 419.3 184.8, 418.3 184.8 Q 416.6 184.8, 415.7 185.8 Q 414.8 186.9, 414.7 189.2 Q 415.4 188.6, 416.1 188.3 Q 416.9 188.0, 417.7 188.0 M 417.3 194.2 Q 418.0 194.2, 418.5 193.9 Q 419.0 193.6, 419.3 193.0 Q 419.6 192.4, 419.6 191.6 Q 419.6 190.6, 419.0 190.0 Q 418.5 189.4, 417.4 189.4 Q 416.7 189.4, 416.0 189.7 Q 415.3 190.0, 414.7 190.5 Q 414.8 192.4, 415.4 193.3 Q 416.1 194.2, 417.3 194.2 \" fill=\"#000000\"/>\n",
       "<path class=\"note\" d=\"M 423.0 193.5 L 424.6 193.5 L 424.6 195.2 L 423.0 195.2 L 423.0 193.5 M 423.0 187.7 L 424.6 187.7 L 424.6 189.4 L 423.0 189.4 L 423.0 187.7 \" fill=\"#000000\"/>\n",
       "<path class=\"note\" d=\"M 426.6 183.5 L 428.2 183.5 L 428.2 188.6 L 434.3 188.6 L 434.3 183.5 L 436.0 183.5 L 436.0 195.5 L 434.3 195.5 L 434.3 190.0 L 428.2 190.0 L 428.2 195.5 L 426.6 195.5 L 426.6 183.5 \" fill=\"#000000\"/>\n",
       "<path class=\"note\" d=\"M 442.0 183.5 Q 444.6 183.5, 446.0 185.1 Q 447.4 186.7, 447.4 189.5 Q 447.4 192.3, 446.0 193.9 Q 444.6 195.5, 442.0 195.5 L 438.1 195.5 L 438.1 183.5 L 442.0 183.5 M 442.0 194.1 Q 443.8 194.1, 444.8 193.0 Q 445.8 191.8, 445.8 189.5 Q 445.8 187.2, 444.8 186.0 Q 443.8 184.9, 442.0 184.9 L 439.7 184.9 L 439.7 194.1 L 442.0 194.1 \" fill=\"#000000\"/>\n",
       "<path class=\"note\" d=\"M 449.0 185.8 Q 449.4 184.7, 450.4 184.0 Q 451.5 183.4, 452.9 183.4 Q 454.7 183.4, 455.7 184.4 Q 456.8 185.4, 456.8 187.1 Q 456.8 188.9, 455.4 190.5 Q 454.1 192.2, 451.4 194.1 L 457.0 194.1 L 457.0 195.5 L 448.9 195.5 L 448.9 194.3 Q 451.1 192.8, 452.5 191.6 Q 453.8 190.4, 454.4 189.3 Q 455.1 188.3, 455.1 187.2 Q 455.1 186.0, 454.5 185.4 Q 453.9 184.8, 452.9 184.8 Q 452.0 184.8, 451.3 185.1 Q 450.7 185.5, 450.2 186.4 L 449.0 185.8 \" fill=\"#000000\"/>\n",
       "<path class=\"note\" d=\"M 458.7 182.4 L 460.1 182.4 L 460.1 198.7 L 458.7 198.7 L 458.7 182.4 \" fill=\"#000000\"/>\n",
       "<path class=\"note\" d=\"M 462.9 194.1 L 465.5 194.1 L 465.5 185.2 L 462.6 186.1 L 462.2 185.1 L 465.9 183.5 L 467.1 183.7 L 467.1 194.1 L 469.4 194.1 L 469.4 195.5 L 462.9 195.5 L 462.9 194.1 \" fill=\"#000000\"/>\n",
       "<path class=\"note\" d=\"M 470.9 183.5 L 472.5 183.5 L 472.5 188.6 L 478.6 188.6 L 478.6 183.5 L 480.2 183.5 L 480.2 195.5 L 478.6 195.5 L 478.6 190.0 L 472.5 190.0 L 472.5 195.5 L 470.9 195.5 L 470.9 183.5 \" fill=\"#000000\"/>\n",
       "<path class=\"note\" d=\"M 486.2 183.5 Q 488.9 183.5, 490.3 185.1 Q 491.7 186.7, 491.7 189.5 Q 491.7 192.3, 490.3 193.9 Q 488.8 195.5, 486.2 195.5 L 482.4 195.5 L 482.4 183.5 L 486.2 183.5 M 486.2 194.1 Q 488.0 194.1, 489.0 193.0 Q 490.0 191.8, 490.0 189.5 Q 490.0 187.2, 489.0 186.0 Q 488.0 184.9, 486.2 184.9 L 484.0 184.9 L 484.0 194.1 L 486.2 194.1 \" fill=\"#000000\"/>\n",
       "<path class=\"note\" d=\"M 390.6 140.7 L 393.2 140.7 L 393.2 131.8 L 390.3 132.7 L 389.9 131.7 L 393.6 130.1 L 394.8 130.3 L 394.8 140.7 L 397.1 140.7 L 397.1 142.1 L 390.6 142.1 L 390.6 140.7 \" fill=\"#000000\"/>\n",
       "<path class=\"note\" d=\"M 404.8 131.5 L 398.5 131.5 L 398.5 130.1 L 406.5 130.1 L 406.5 131.3 L 401.7 142.1 L 400.0 142.1 L 404.8 131.5 \" fill=\"#000000\"/>\n",
       "<path class=\"note\" d=\"M 407.7 140.1 L 409.4 140.1 L 409.4 141.8 L 407.7 141.8 L 407.7 140.1 M 407.7 134.3 L 409.4 134.3 L 409.4 136.0 L 407.7 136.0 L 407.7 134.3 \" fill=\"#000000\"/>\n",
       "<path class=\"note\" d=\"M 411.3 130.1 L 413.0 130.1 L 413.0 135.2 L 419.1 135.2 L 419.1 130.1 L 420.7 130.1 L 420.7 142.1 L 419.1 142.1 L 419.1 136.5 L 413.0 136.5 L 413.0 142.1 L 411.3 142.1 L 411.3 130.1 \" fill=\"#000000\"/>\n",
       "<path class=\"note\" d=\"M 426.7 130.1 Q 429.3 130.1, 430.8 131.7 Q 432.2 133.2, 432.2 136.1 Q 432.2 138.9, 430.7 140.5 Q 429.3 142.1, 426.7 142.1 L 422.8 142.1 L 422.8 130.1 L 426.7 130.1 M 426.7 140.7 Q 428.5 140.7, 429.5 139.5 Q 430.5 138.4, 430.5 136.1 Q 430.5 133.7, 429.5 132.6 Q 428.5 131.5, 426.7 131.5 L 424.5 131.5 L 424.5 140.7 L 426.7 140.7 \" fill=\"#000000\"/>\n",
       "<path class=\"note\" d=\"M 439.4 135.8 Q 440.5 136.1, 441.1 136.9 Q 441.7 137.6, 441.7 138.8 Q 441.7 139.8, 441.2 140.6 Q 440.7 141.4, 439.7 141.8 Q 438.8 142.2, 437.6 142.2 Q 436.3 142.2, 435.4 141.8 Q 434.4 141.3, 433.7 140.4 L 434.6 139.4 Q 435.4 140.3, 436.0 140.6 Q 436.6 140.9, 437.6 140.9 Q 438.7 140.9, 439.3 140.3 Q 440.0 139.7, 440.0 138.8 Q 440.0 137.6, 439.3 137.0 Q 438.6 136.5, 437.2 136.5 L 436.3 136.5 L 436.3 135.2 L 437.1 135.2 Q 438.4 135.2, 439.0 134.7 Q 439.7 134.1, 439.7 133.0 Q 439.7 132.3, 439.2 131.8 Q 438.6 131.3, 437.6 131.3 Q 436.6 131.3, 436.0 131.7 Q 435.4 132.0, 434.9 132.9 L 433.8 132.3 Q 434.2 131.3, 435.2 130.7 Q 436.2 130.0, 437.6 130.0 Q 439.4 130.0, 440.4 130.8 Q 441.4 131.6, 441.4 133.0 Q 441.4 134.0, 440.9 134.7 Q 440.4 135.4, 439.4 135.8 \" fill=\"#000000\"/>\n",
       "<path class=\"note\" d=\"M 443.4 129.0 L 444.8 129.0 L 444.8 145.3 L 443.4 145.3 L 443.4 129.0 \" fill=\"#000000\"/>\n",
       "<path class=\"note\" d=\"M 447.0 132.4 Q 447.4 131.3, 448.5 130.6 Q 449.5 130.0, 451.0 130.0 Q 452.8 130.0, 453.8 131.0 Q 454.8 131.9, 454.8 133.7 Q 454.8 135.4, 453.5 137.1 Q 452.2 138.8, 449.5 140.7 L 455.0 140.7 L 455.0 142.1 L 447.0 142.1 L 447.0 140.9 Q 449.2 139.3, 450.5 138.2 Q 451.8 137.0, 452.5 135.9 Q 453.1 134.9, 453.1 133.8 Q 453.1 132.6, 452.5 132.0 Q 452.0 131.3, 451.0 131.3 Q 450.0 131.3, 449.4 131.7 Q 448.7 132.1, 448.3 133.0 L 447.0 132.4 \" fill=\"#000000\"/>\n",
       "<path class=\"note\" d=\"M 456.7 130.1 L 458.3 130.1 L 458.3 135.2 L 464.4 135.2 L 464.4 130.1 L 466.1 130.1 L 466.1 142.1 L 464.4 142.1 L 464.4 136.5 L 458.3 136.5 L 458.3 142.1 L 456.7 142.1 L 456.7 130.1 \" fill=\"#000000\"/>\n",
       "<path class=\"note\" d=\"M 472.1 130.1 Q 474.7 130.1, 476.1 131.7 Q 477.6 133.2, 477.6 136.1 Q 477.6 138.9, 476.1 140.5 Q 474.7 142.1, 472.1 142.1 L 468.2 142.1 L 468.2 130.1 L 472.1 130.1 M 472.1 140.7 Q 473.9 140.7, 474.9 139.5 Q 475.9 138.4, 475.9 136.1 Q 475.9 133.7, 474.9 132.6 Q 473.9 131.5, 472.1 131.5 L 469.8 131.5 L 469.8 140.7 L 472.1 140.7 \" fill=\"#000000\"/>\n",
       "<path class=\"note\" d=\"M 331.1 103.9 L 333.7 103.9 L 333.7 94.9 L 330.9 95.8 L 330.5 94.8 L 334.1 93.2 L 335.3 93.4 L 335.3 103.9 L 337.7 103.9 L 337.7 105.2 L 331.1 105.2 L 331.1 103.9 \" fill=\"#000000\"/>\n",
       "<path class=\"note\" d=\"M 345.1 98.9 Q 346.2 99.4, 346.9 100.1 Q 347.5 100.8, 347.5 101.9 Q 347.5 102.9, 347.0 103.7 Q 346.4 104.5, 345.5 105.0 Q 344.6 105.4, 343.3 105.4 Q 341.3 105.4, 340.2 104.5 Q 339.1 103.5, 339.1 101.9 Q 339.1 101.0, 339.6 100.2 Q 340.1 99.5, 341.1 98.9 Q 340.3 98.5, 339.9 97.9 Q 339.5 97.2, 339.5 96.2 Q 339.5 94.8, 340.5 94.0 Q 341.5 93.1, 343.3 93.1 Q 345.0 93.1, 346.0 94.0 Q 347.0 94.8, 347.0 96.2 Q 347.0 97.1, 346.6 97.7 Q 346.1 98.4, 345.1 98.9 M 343.3 94.4 Q 342.3 94.4, 341.7 94.9 Q 341.2 95.3, 341.2 96.2 Q 341.2 96.8, 341.5 97.2 Q 341.9 97.6, 342.4 97.9 Q 343.0 98.1, 344.0 98.5 Q 344.7 98.0, 345.0 97.4 Q 345.4 96.9, 345.4 96.2 Q 345.4 95.3, 344.8 94.9 Q 344.3 94.4, 343.3 94.4 M 343.3 104.1 Q 344.4 104.1, 345.1 103.5 Q 345.8 102.9, 345.8 101.9 Q 345.8 101.3, 345.4 100.9 Q 345.1 100.5, 344.5 100.2 Q 344.0 100.0, 343.1 99.7 L 342.3 99.4 Q 341.5 99.9, 341.1 100.6 Q 340.7 101.1, 340.7 101.9 Q 340.7 102.9, 341.4 103.5 Q 342.2 104.1, 343.3 104.1 \" fill=\"#000000\"/>\n",
       "<path class=\"note\" d=\"M 349.2 103.2 L 350.9 103.2 L 350.9 104.9 L 349.2 104.9 L 349.2 103.2 M 349.2 97.4 L 350.9 97.4 L 350.9 99.1 L 349.2 99.1 L 349.2 97.4 \" fill=\"#000000\"/>\n",
       "<path class=\"note\" d=\"M 352.8 93.3 L 354.5 93.3 L 354.5 98.3 L 360.6 98.3 L 360.6 93.3 L 362.2 93.3 L 362.2 105.2 L 360.6 105.2 L 360.6 99.7 L 354.5 99.7 L 354.5 105.2 L 352.8 105.2 L 352.8 93.3 \" fill=\"#000000\"/>\n",
       "<path class=\"note\" d=\"M 364.3 93.3 L 371.4 93.3 L 371.4 94.6 L 365.9 94.6 L 365.9 98.3 L 370.8 98.3 L 370.8 99.6 L 365.9 99.6 L 365.9 103.8 L 371.6 103.8 L 371.6 105.2 L 364.3 105.2 L 364.3 93.3 \" fill=\"#000000\"/>\n",
       "<path class=\"note\" d=\"M 373.1 95.5 Q 373.5 94.4, 374.6 93.8 Q 375.6 93.1, 377.1 93.1 Q 378.9 93.1, 379.9 94.1 Q 380.9 95.1, 380.9 96.8 Q 380.9 98.6, 379.6 100.2 Q 378.3 101.9, 375.6 103.9 L 381.1 103.9 L 381.1 105.2 L 373.1 105.2 L 373.1 104.1 Q 375.3 102.5, 376.6 101.3 Q 377.9 100.1, 378.6 99.1 Q 379.2 98.0, 379.2 96.9 Q 379.2 95.8, 378.6 95.1 Q 378.1 94.5, 377.1 94.5 Q 376.1 94.5, 375.5 94.9 Q 374.8 95.3, 374.4 96.1 L 373.1 95.5 \" fill=\"#000000\"/>\n",
       "<path class=\"note\" d=\"M 382.8 92.2 L 384.2 92.2 L 384.2 108.5 L 382.8 108.5 L 382.8 92.2 \" fill=\"#000000\"/>\n",
       "<path class=\"note\" d=\"M 387.0 103.9 L 389.6 103.9 L 389.6 94.9 L 386.7 95.8 L 386.3 94.8 L 390.0 93.2 L 391.2 93.4 L 391.2 103.9 L 393.5 103.9 L 393.5 105.2 L 387.0 105.2 L 387.0 103.9 \" fill=\"#000000\"/>\n",
       "<path class=\"note\" d=\"M 394.9 93.3 L 396.5 93.3 L 396.5 98.3 L 402.6 98.3 L 402.6 93.3 L 404.2 93.3 L 404.2 105.2 L 402.6 105.2 L 402.6 99.7 L 396.5 99.7 L 396.5 105.2 L 394.9 105.2 L 394.9 93.3 \" fill=\"#000000\"/>\n",
       "<path class=\"note\" d=\"M 406.3 93.3 L 413.4 93.3 L 413.4 94.6 L 407.9 94.6 L 407.9 98.3 L 412.9 98.3 L 412.9 99.6 L 407.9 99.6 L 407.9 103.8 L 413.6 103.8 L 413.6 105.2 L 406.3 105.2 L 406.3 93.3 \" fill=\"#000000\"/>\n",
       "<path class=\"note\" d=\"M 258.8 75.1 L 261.4 75.1 L 261.4 66.2 L 258.6 67.0 L 258.2 66.0 L 261.8 64.4 L 263.0 64.6 L 263.0 75.1 L 265.4 75.1 L 265.4 76.4 L 258.8 76.4 L 258.8 75.1 \" fill=\"#000000\"/>\n",
       "<path class=\"note\" d=\"M 270.8 64.3 Q 272.9 64.3, 274.0 65.8 Q 275.0 67.2, 275.0 70.1 Q 275.0 73.3, 273.7 74.9 Q 272.4 76.6, 269.8 76.6 Q 269.1 76.6, 268.5 76.4 Q 267.8 76.2, 267.2 75.9 L 267.9 74.7 Q 268.8 75.2, 269.8 75.2 Q 271.5 75.2, 272.4 74.1 Q 273.2 73.0, 273.3 70.8 Q 272.7 71.3, 271.9 71.6 Q 271.2 71.9, 270.4 71.9 Q 269.3 71.9, 268.5 71.5 Q 267.7 71.0, 267.2 70.2 Q 266.8 69.4, 266.8 68.3 Q 266.8 67.2, 267.3 66.3 Q 267.8 65.4, 268.7 64.9 Q 269.6 64.3, 270.8 64.3 M 268.4 68.3 Q 268.4 69.4, 269.0 70.0 Q 269.6 70.6, 270.7 70.6 Q 271.4 70.6, 272.1 70.3 Q 272.8 70.0, 273.3 69.5 Q 273.3 67.5, 272.6 66.6 Q 272.0 65.7, 270.7 65.7 Q 270.1 65.7, 269.6 66.1 Q 269.0 66.4, 268.7 67.0 Q 268.4 67.6, 268.4 68.3 \" fill=\"#000000\"/>\n",
       "<path class=\"note\" d=\"M 276.9 74.4 L 278.5 74.4 L 278.5 76.1 L 276.9 76.1 L 276.9 74.4 M 276.9 68.6 L 278.5 68.6 L 278.5 70.3 L 276.9 70.3 L 276.9 68.6 \" fill=\"#000000\"/>\n",
       "<path class=\"note\" d=\"M 280.5 64.5 L 282.1 64.5 L 282.1 69.6 L 288.2 69.6 L 288.2 64.5 L 289.8 64.5 L 289.8 76.4 L 288.2 76.4 L 288.2 70.9 L 282.1 70.9 L 282.1 76.4 L 280.5 76.4 L 280.5 64.5 \" fill=\"#000000\"/>\n",
       "<path class=\"note\" d=\"M 291.9 64.5 L 299.0 64.5 L 299.0 65.8 L 293.5 65.8 L 293.5 69.5 L 298.5 69.5 L 298.5 70.9 L 293.5 70.9 L 293.5 75.0 L 299.2 75.0 L 299.2 76.4 L 291.9 76.4 L 291.9 64.5 \" fill=\"#000000\"/>\n",
       "<path class=\"note\" d=\"M 306.5 70.1 Q 307.6 70.5, 308.2 71.2 Q 308.8 72.0, 308.8 73.1 Q 308.8 74.2, 308.2 75.0 Q 307.7 75.7, 306.8 76.2 Q 305.9 76.6, 304.7 76.6 Q 303.4 76.6, 302.4 76.1 Q 301.5 75.7, 300.7 74.8 L 301.7 73.8 Q 302.4 74.6, 303.1 74.9 Q 303.7 75.2, 304.7 75.2 Q 305.8 75.2, 306.4 74.7 Q 307.1 74.1, 307.1 73.1 Q 307.1 71.9, 306.4 71.4 Q 305.7 70.8, 304.2 70.8 L 303.4 70.8 L 303.4 69.6 L 304.1 69.6 Q 305.4 69.6, 306.1 69.0 Q 306.8 68.5, 306.8 67.4 Q 306.8 66.6, 306.2 66.2 Q 305.7 65.7, 304.7 65.7 Q 303.7 65.7, 303.1 66.0 Q 302.5 66.4, 302.0 67.3 L 300.8 66.7 Q 301.2 65.7, 302.3 65.0 Q 303.3 64.3, 304.7 64.3 Q 306.4 64.3, 307.5 65.2 Q 308.5 66.0, 308.5 67.4 Q 308.5 68.4, 308.0 69.1 Q 307.5 69.7, 306.5 70.1 \" fill=\"#000000\"/>\n",
       "<path class=\"note\" d=\"M 310.4 63.4 L 311.8 63.4 L 311.8 79.7 L 310.4 79.7 L 310.4 63.4 \" fill=\"#000000\"/>\n",
       "<path class=\"note\" d=\"M 314.0 66.7 Q 314.4 65.6, 315.5 65.0 Q 316.5 64.3, 318.0 64.3 Q 319.8 64.3, 320.8 65.3 Q 321.8 66.3, 321.8 68.0 Q 321.8 69.8, 320.5 71.5 Q 319.2 73.1, 316.5 75.1 L 322.0 75.1 L 322.0 76.4 L 314.0 76.4 L 314.0 75.3 Q 316.2 73.7, 317.5 72.5 Q 318.8 71.3, 319.5 70.3 Q 320.1 69.2, 320.1 68.1 Q 320.1 67.0, 319.5 66.3 Q 319.0 65.7, 318.0 65.7 Q 317.0 65.7, 316.4 66.1 Q 315.7 66.5, 315.3 67.3 L 314.0 66.7 \" fill=\"#000000\"/>\n",
       "<path class=\"note\" d=\"M 323.7 64.5 L 325.3 64.5 L 325.3 69.6 L 331.4 69.6 L 331.4 64.5 L 333.0 64.5 L 333.0 76.4 L 331.4 76.4 L 331.4 70.9 L 325.3 70.9 L 325.3 76.4 L 323.7 76.4 L 323.7 64.5 \" fill=\"#000000\"/>\n",
       "<path class=\"note\" d=\"M 335.1 64.5 L 342.2 64.5 L 342.2 65.8 L 336.7 65.8 L 336.7 69.5 L 341.7 69.5 L 341.7 70.9 L 336.7 70.9 L 336.7 75.0 L 342.4 75.0 L 342.4 76.4 L 335.1 76.4 L 335.1 64.5 \" fill=\"#000000\"/>\n",
       "<path class=\"note\" d=\"M 219.4 201.9 Q 219.9 200.8, 220.9 200.1 Q 221.9 199.5, 223.4 199.5 Q 225.2 199.5, 226.2 200.5 Q 227.2 201.5, 227.2 203.2 Q 227.2 205.0, 225.9 206.6 Q 224.6 208.3, 221.9 210.2 L 227.4 210.2 L 227.4 211.6 L 219.4 211.6 L 219.4 210.4 Q 221.6 208.9, 222.9 207.7 Q 224.3 206.5, 224.9 205.4 Q 225.5 204.4, 225.5 203.3 Q 225.5 202.1, 225.0 201.5 Q 224.4 200.8, 223.4 200.8 Q 222.4 200.8, 221.8 201.2 Q 221.2 201.6, 220.7 202.5 L 219.4 201.9 \" fill=\"#000000\"/>\n",
       "<path class=\"note\" d=\"M 233.5 211.7 Q 231.3 211.7, 230.2 210.1 Q 229.1 208.5, 229.1 205.6 Q 229.1 202.7, 230.2 201.1 Q 231.3 199.5, 233.5 199.5 Q 235.7 199.5, 236.8 201.1 Q 237.9 202.7, 237.9 205.6 Q 237.9 208.5, 236.8 210.1 Q 235.7 211.7, 233.5 211.7 M 233.5 210.4 Q 234.8 210.4, 235.5 209.2 Q 236.2 207.9, 236.2 205.6 Q 236.2 203.2, 235.5 202.0 Q 234.8 200.8, 233.5 200.8 Q 232.2 200.8, 231.5 202.0 Q 230.8 203.2, 230.8 205.6 Q 230.8 207.9, 231.5 209.2 Q 232.2 210.4, 233.5 210.4 \" fill=\"#000000\"/>\n",
       "<path class=\"note\" d=\"M 239.7 209.6 L 241.3 209.6 L 241.3 211.3 L 239.7 211.3 L 239.7 209.6 M 239.7 203.8 L 241.3 203.8 L 241.3 205.5 L 239.7 205.5 L 239.7 203.8 \" fill=\"#000000\"/>\n",
       "<path class=\"note\" d=\"M 243.3 199.6 L 244.9 199.6 L 244.9 204.7 L 251.0 204.7 L 251.0 199.6 L 252.6 199.6 L 252.6 211.6 L 251.0 211.6 L 251.0 206.1 L 244.9 206.1 L 244.9 211.6 L 243.3 211.6 L 243.3 199.6 \" fill=\"#000000\"/>\n",
       "<path class=\"note\" d=\"M 254.8 210.3 L 260.8 201.0 L 255.0 201.0 L 255.0 199.6 L 262.8 199.6 L 262.8 200.8 L 256.7 210.2 L 262.7 210.2 L 262.7 211.6 L 254.8 211.6 L 254.8 210.3 \" fill=\"#000000\"/>\n",
       "<path class=\"note\" d=\"M 264.9 210.2 L 267.5 210.2 L 267.5 201.3 L 264.6 202.2 L 264.2 201.2 L 267.9 199.6 L 269.1 199.8 L 269.1 210.2 L 271.4 210.2 L 271.4 211.6 L 264.9 211.6 L 264.9 210.2 \" fill=\"#000000\"/>\n",
       "<path class=\"note\" d=\"M 272.8 198.5 L 274.2 198.5 L 274.2 214.8 L 272.8 214.8 L 272.8 198.5 \" fill=\"#000000\"/>\n",
       "<path class=\"note\" d=\"M 277.0 210.2 L 279.6 210.2 L 279.6 201.3 L 276.7 202.2 L 276.4 201.2 L 280.0 199.6 L 281.2 199.8 L 281.2 210.2 L 283.6 210.2 L 283.6 211.6 L 277.0 211.6 L 277.0 210.2 \" fill=\"#000000\"/>\n",
       "<path class=\"note\" d=\"M 284.9 199.6 L 286.6 199.6 L 286.6 204.7 L 292.7 204.7 L 292.7 199.6 L 294.3 199.6 L 294.3 211.6 L 292.7 211.6 L 292.7 206.1 L 286.6 206.1 L 286.6 211.6 L 284.9 211.6 L 284.9 199.6 \" fill=\"#000000\"/>\n",
       "<path class=\"note\" d=\"M 296.4 210.3 L 302.4 201.0 L 296.6 201.0 L 296.6 199.6 L 304.5 199.6 L 304.5 200.8 L 298.4 210.2 L 304.4 210.2 L 304.4 211.6 L 296.4 211.6 L 296.4 210.3 \" fill=\"#000000\"/>\n",
       "<path class=\"note\" d=\"M 181.2 108.0 Q 181.6 106.9, 182.7 106.2 Q 183.7 105.6, 185.2 105.6 Q 187.0 105.6, 188.0 106.6 Q 189.0 107.5, 189.0 109.3 Q 189.0 111.1, 187.7 112.7 Q 186.4 114.4, 183.7 116.3 L 189.2 116.3 L 189.2 117.7 L 181.2 117.7 L 181.2 116.5 Q 183.4 115.0, 184.7 113.8 Q 186.0 112.6, 186.7 111.5 Q 187.3 110.5, 187.3 109.4 Q 187.3 108.2, 186.7 107.6 Q 186.2 106.9, 185.2 106.9 Q 184.2 106.9, 183.6 107.3 Q 182.9 107.7, 182.5 108.6 L 181.2 108.0 \" fill=\"#000000\"/>\n",
       "<path class=\"note\" d=\"M 191.6 116.3 L 194.2 116.3 L 194.2 107.4 L 191.3 108.3 L 190.9 107.3 L 194.6 105.7 L 195.8 105.9 L 195.8 116.3 L 198.1 116.3 L 198.1 117.7 L 191.6 117.7 L 191.6 116.3 \" fill=\"#000000\"/>\n",
       "<path class=\"note\" d=\"M 199.5 115.7 L 201.2 115.7 L 201.2 117.4 L 199.5 117.4 L 199.5 115.7 M 199.5 109.9 L 201.2 109.9 L 201.2 111.6 L 199.5 111.6 L 199.5 109.9 \" fill=\"#000000\"/>\n",
       "<path class=\"note\" d=\"M 203.1 105.7 L 204.8 105.7 L 204.8 110.8 L 210.9 110.8 L 210.9 105.7 L 212.5 105.7 L 212.5 117.7 L 210.9 117.7 L 210.9 112.2 L 204.8 112.2 L 204.8 117.7 L 203.1 117.7 L 203.1 105.7 \" fill=\"#000000\"/>\n",
       "<path class=\"note\" d=\"M 214.6 116.4 L 220.6 107.1 L 214.8 107.1 L 214.8 105.7 L 222.6 105.7 L 222.6 106.9 L 216.6 116.3 L 222.6 116.3 L 222.6 117.7 L 214.6 117.7 L 214.6 116.4 \" fill=\"#000000\"/>\n",
       "<path class=\"note\" d=\"M 224.1 108.0 Q 224.5 106.9, 225.6 106.2 Q 226.6 105.6, 228.1 105.6 Q 229.9 105.6, 230.9 106.6 Q 231.9 107.5, 231.9 109.3 Q 231.9 111.1, 230.6 112.7 Q 229.3 114.4, 226.6 116.3 L 232.1 116.3 L 232.1 117.7 L 224.1 117.7 L 224.1 116.5 Q 226.3 115.0, 227.6 113.8 Q 228.9 112.6, 229.6 111.5 Q 230.2 110.5, 230.2 109.4 Q 230.2 108.2, 229.6 107.6 Q 229.1 106.9, 228.1 106.9 Q 227.1 106.9, 226.5 107.3 Q 225.8 107.7, 225.4 108.6 L 224.1 108.0 \" fill=\"#000000\"/>\n",
       "<path class=\"note\" d=\"M 233.8 104.6 L 235.2 104.6 L 235.2 120.9 L 233.8 120.9 L 233.8 104.6 \" fill=\"#000000\"/>\n",
       "<path class=\"note\" d=\"M 237.4 108.0 Q 237.8 106.9, 238.9 106.2 Q 239.9 105.6, 241.4 105.6 Q 243.2 105.6, 244.2 106.6 Q 245.2 107.5, 245.2 109.3 Q 245.2 111.1, 243.9 112.7 Q 242.6 114.4, 239.9 116.3 L 245.4 116.3 L 245.4 117.7 L 237.4 117.7 L 237.4 116.5 Q 239.6 115.0, 240.9 113.8 Q 242.2 112.6, 242.9 111.5 Q 243.5 110.5, 243.5 109.4 Q 243.5 108.2, 242.9 107.6 Q 242.4 106.9, 241.4 106.9 Q 240.4 106.9, 239.8 107.3 Q 239.1 107.7, 238.7 108.6 L 237.4 108.0 \" fill=\"#000000\"/>\n",
       "<path class=\"note\" d=\"M 247.1 105.7 L 248.7 105.7 L 248.7 110.8 L 254.8 110.8 L 254.8 105.7 L 256.4 105.7 L 256.4 117.7 L 254.8 117.7 L 254.8 112.2 L 248.7 112.2 L 248.7 117.7 L 247.1 117.7 L 247.1 105.7 \" fill=\"#000000\"/>\n",
       "<path class=\"note\" d=\"M 258.6 116.4 L 264.6 107.1 L 258.8 107.1 L 258.8 105.7 L 266.6 105.7 L 266.6 106.9 L 260.6 116.3 L 266.5 116.3 L 266.5 117.7 L 258.6 117.7 L 258.6 116.4 \" fill=\"#000000\"/>\n",
       "<path class=\"note\" d=\"M 415.7 512.7 Q 416.1 511.6, 417.1 511.0 Q 418.2 510.3, 419.6 510.3 Q 421.4 510.3, 422.5 511.3 Q 423.5 512.3, 423.5 514.0 Q 423.5 515.8, 422.1 517.5 Q 420.9 519.1, 418.2 521.1 L 423.7 521.1 L 423.7 522.4 L 415.6 522.4 L 415.6 521.3 Q 417.9 519.7, 419.2 518.5 Q 420.5 517.3, 421.1 516.3 Q 421.8 515.2, 421.8 514.1 Q 421.8 513.0, 421.2 512.3 Q 420.6 511.7, 419.6 511.7 Q 418.7 511.7, 418.0 512.1 Q 417.4 512.5, 416.9 513.3 L 415.7 512.7 \" fill=\"#000000\"/>\n",
       "<path class=\"note\" d=\"M 425.5 512.7 Q 425.9 511.6, 427.0 511.0 Q 428.0 510.3, 429.5 510.3 Q 431.3 510.3, 432.3 511.3 Q 433.3 512.3, 433.3 514.0 Q 433.3 515.8, 432.0 517.5 Q 430.7 519.1, 428.0 521.1 L 433.5 521.1 L 433.5 522.4 L 425.5 522.4 L 425.5 521.3 Q 427.7 519.7, 429.0 518.5 Q 430.3 517.3, 431.0 516.3 Q 431.6 515.2, 431.6 514.1 Q 431.6 513.0, 431.0 512.3 Q 430.5 511.7, 429.5 511.7 Q 428.5 511.7, 427.9 512.1 Q 427.2 512.5, 426.8 513.3 L 425.5 512.7 \" fill=\"#000000\"/>\n",
       "<path class=\"note\" d=\"M 435.3 520.4 L 437.0 520.4 L 437.0 522.1 L 435.3 522.1 L 435.3 520.4 M 435.3 514.6 L 437.0 514.6 L 437.0 516.3 L 435.3 516.3 L 435.3 514.6 \" fill=\"#000000\"/>\n",
       "<path class=\"note\" d=\"M 439.0 510.5 L 440.7 510.5 L 440.7 515.5 L 446.8 515.5 L 446.8 510.5 L 448.4 510.5 L 448.4 522.4 L 446.8 522.4 L 446.8 516.9 L 440.7 516.9 L 440.7 522.4 L 439.0 522.4 L 439.0 510.5 \" fill=\"#000000\"/>\n",
       "<path class=\"note\" d=\"M 461.4 522.4 L 459.5 522.4 L 456.0 517.5 L 452.4 522.4 L 450.6 522.4 L 455.0 516.2 L 450.9 510.5 L 452.8 510.5 L 456.0 515.0 L 459.3 510.5 L 461.1 510.5 L 457.0 516.3 L 461.4 522.4 \" fill=\"#000000\"/>\n",
       "<path class=\"note\" d=\"M 465.9 511.8 L 462.2 511.8 L 462.2 510.5 L 471.0 510.5 L 471.0 511.8 L 467.5 511.8 L 467.5 522.4 L 465.9 522.4 L 465.9 511.8 \" fill=\"#000000\"/>\n",
       "<path class=\"note\" d=\"M 476.4 510.5 L 480.2 516.3 L 478.7 516.3 L 476.0 511.8 L 473.2 516.3 L 471.8 516.3 L 475.5 510.5 L 476.4 510.5 \" fill=\"#000000\"/>\n",
       "</svg>"
      ],
      "text/plain": [
       "<IPython.core.display.SVG object>"
      ]
     },
     "execution_count": 32,
     "metadata": {},
     "output_type": "execute_result"
    }
   ],
   "source": [
    "mol = CCD_RESIDUE_DEFINITION_CACHE['LYS'][6].to_openff_molecule()\n",
    "print(mol.properties[\"description\"])\n",
    "draw_mol_with_atom_names(mol)"
   ]
  },
  {
   "cell_type": "code",
   "execution_count": 33,
   "id": "8fa60535-998b-4a91-b4e5-f245a02b17e7",
   "metadata": {
    "execution": {
     "iopub.execute_input": "2025-08-15T18:36:28.496734Z",
     "iopub.status.busy": "2025-08-15T18:36:28.495658Z",
     "iopub.status.idle": "2025-08-15T18:36:28.524925Z",
     "shell.execute_reply": "2025-08-15T18:36:28.524328Z",
     "shell.execute_reply.started": "2025-08-15T18:36:28.496687Z"
    }
   },
   "outputs": [
    {
     "name": "stdout",
     "output_type": "stream",
     "text": [
      "LYSINE\n",
      "LYSINE -HXT\n",
      "LYSINE -H2\n",
      "LYSINE -HXT -H2\n",
      "LYSINE -HZ3\n",
      "LYSINE -HXT -HZ3\n",
      "LYSINE -H2 -HZ3\n",
      "LYSINE -HXT -H2 -HZ3\n",
      "LYSINE +H3\n",
      "LYSINE -HXT +H3\n",
      "LYSINE -H2 +H3\n",
      "LYSINE -HXT -H2 +H3\n",
      "LYSINE -HZ3 +H3\n",
      "LYSINE -HXT -HZ3 +H3\n",
      "LYSINE -H2 -HZ3 +H3\n",
      "LYSINE -HXT -H2 -HZ3 +H3\n"
     ]
    }
   ],
   "source": [
    "for template in CCD_RESIDUE_DEFINITION_CACHE['LYS']:\n",
    "    print(template.to_openff_molecule().properties['description'])"
   ]
  },
  {
   "cell_type": "code",
   "execution_count": null,
   "id": "f344d88c-56c0-4c0c-818f-335972894304",
   "metadata": {},
   "outputs": [],
   "source": []
  }
 ],
 "metadata": {
  "kernelspec": {
   "display_name": "Python 3 (ipykernel)",
   "language": "python",
   "name": "python3"
  },
  "language_info": {
   "codemirror_mode": {
    "name": "ipython",
    "version": 3
   },
   "file_extension": ".py",
   "mimetype": "text/x-python",
   "name": "python",
   "nbconvert_exporter": "python",
   "pygments_lexer": "ipython3",
   "version": "3.11.13"
  }
 },
 "nbformat": 4,
 "nbformat_minor": 5
}
