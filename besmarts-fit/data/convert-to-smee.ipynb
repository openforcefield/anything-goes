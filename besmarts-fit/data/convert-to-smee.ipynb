{
 "cells": [
  {
   "cell_type": "code",
   "execution_count": 7,
   "id": "c5edf322-eb69-4f50-8973-d56c19be1935",
   "metadata": {},
   "outputs": [],
   "source": [
    "import json\n",
    "import pathlib\n",
    "import numpy as np\n",
    "import torch\n",
    "\n",
    "import descent.targets.energy"
   ]
  },
  {
   "cell_type": "markdown",
   "id": "7673adcd-e32c-490a-b339-b66ae53e8e42",
   "metadata": {},
   "source": [
    "## Conventional energy/force targets from optimizations"
   ]
  },
  {
   "cell_type": "code",
   "execution_count": 15,
   "id": "a59d0f96-21f1-44ca-acbb-4a3cddcba995",
   "metadata": {},
   "outputs": [],
   "source": [
    "def convert(json_file, with_forces=True):\n",
    "    with open(json_file, \"r\") as f:\n",
    "        contents = json.load(f)\n",
    "\n",
    "    descent_entries = []\n",
    "\n",
    "    for mapped_smiles, entries in contents.items():\n",
    "        n_atoms = len(entries[0][\"coords\"]) // 3\n",
    "        coords = []\n",
    "        energy = []\n",
    "        forces = []\n",
    "\n",
    "        for conformer in entries:\n",
    "            coords.append(\n",
    "                np.array(conformer[\"coords\"]).reshape((n_atoms, 3))\n",
    "            )\n",
    "            energy.append(conformer[\"energy\"])\n",
    "            if with_forces:\n",
    "                forces.append(\n",
    "                    np.array(conformer[\"forces\"]).reshape((n_atoms, 3))\n",
    "                )\n",
    "\n",
    "        entry = {\n",
    "            \"smiles\": mapped_smiles,\n",
    "            \"coords\": torch.tensor(coords),\n",
    "            \"energy\": torch.tensor(energy),\n",
    "            \"forces\": torch.tensor(forces), # empty if missing\n",
    "        }\n",
    "        descent_entries.append(entry)\n",
    "        \n",
    "    dataset = descent.targets.energy.create_dataset(entries=descent_entries)\n",
    "    output_directory = pathlib.Path(json_file.stem)\n",
    "    dataset.save_to_disk(output_directory)\n",
    "    print(f\"Saved to {output_directory}\")\n",
    "    "
   ]
  },
  {
   "cell_type": "code",
   "execution_count": 16,
   "id": "2c6ef647-5fde-4bc5-be9d-5cd525fbb818",
   "metadata": {},
   "outputs": [
    {
     "name": "stderr",
     "output_type": "stream",
     "text": [
      "/Users/lily/micromamba/envs/smee-descent/lib/python3.11/site-packages/descent/targets/energy.py:51: UserWarning: To copy construct from a tensor, it is recommended to use sourceTensor.clone().detach() or sourceTensor.clone().detach().requires_grad_(True), rather than torch.tensor(sourceTensor).\n",
      "  \"coords\": torch.tensor(entry[\"coords\"]).flatten().tolist(),\n",
      "/Users/lily/micromamba/envs/smee-descent/lib/python3.11/site-packages/descent/targets/energy.py:52: UserWarning: To copy construct from a tensor, it is recommended to use sourceTensor.clone().detach() or sourceTensor.clone().detach().requires_grad_(True), rather than torch.tensor(sourceTensor).\n",
      "  \"energy\": torch.tensor(entry[\"energy\"]).flatten().tolist(),\n",
      "/Users/lily/micromamba/envs/smee-descent/lib/python3.11/site-packages/descent/targets/energy.py:53: UserWarning: To copy construct from a tensor, it is recommended to use sourceTensor.clone().detach() or sourceTensor.clone().detach().requires_grad_(True), rather than torch.tensor(sourceTensor).\n",
      "  \"forces\": torch.tensor(entry[\"forces\"]).flatten().tolist(),\n"
     ]
    },
    {
     "name": "stdout",
     "output_type": "stream",
     "text": [
      "Saved to original-torsiondrives\n",
      "Saved to original-optimizations\n",
      "Saved to combined-torsiondrives\n",
      "Saved to combined-optimizations\n",
      "Saved to additional-optimizations\n",
      "Saved to additional-torsiondrives\n"
     ]
    }
   ],
   "source": [
    "json_files = pathlib.Path(\"jsons\").glob(\"*.json\")\n",
    "for json_file in json_files:\n",
    "    convert(json_file, with_forces=not \"torsion\" in str(json_file))"
   ]
  },
  {
   "cell_type": "code",
   "execution_count": null,
   "id": "47e80eb2-ff85-458b-a057-7ca8605c1bda",
   "metadata": {},
   "outputs": [],
   "source": []
  }
 ],
 "metadata": {
  "kernelspec": {
   "display_name": "Python 3 (ipykernel)",
   "language": "python",
   "name": "python3"
  },
  "language_info": {
   "codemirror_mode": {
    "name": "ipython",
    "version": 3
   },
   "file_extension": ".py",
   "mimetype": "text/x-python",
   "name": "python",
   "nbconvert_exporter": "python",
   "pygments_lexer": "ipython3",
   "version": "3.11.0"
  },
  "widgets": {
   "application/vnd.jupyter.widget-state+json": {
    "state": {},
    "version_major": 2,
    "version_minor": 0
   }
  }
 },
 "nbformat": 4,
 "nbformat_minor": 5
}
