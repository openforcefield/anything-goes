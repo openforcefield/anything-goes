{
 "cells": [
  {
   "cell_type": "code",
   "execution_count": 1,
   "id": "9ca85add-c4c9-4a18-8c18-027db3f5ff27",
   "metadata": {},
   "outputs": [],
   "source": [
    "from collections import defaultdict\n",
    "import json\n",
    "import tqdm\n",
    "\n",
    "import numpy as np\n",
    "from openff.toolkit import Molecule, ForceField"
   ]
  },
  {
   "cell_type": "code",
   "execution_count": 2,
   "id": "78ed1de0-daf5-4e74-b3db-9aee464eb994",
   "metadata": {},
   "outputs": [],
   "source": [
    "QCFRACTAL_URL = \"https://api.qcarchive.molssi.org:443/\""
   ]
  },
  {
   "cell_type": "markdown",
   "id": "2f52b355-c705-4f1d-9b2d-22c31fce3670",
   "metadata": {},
   "source": [
    "## Filter existing records"
   ]
  },
  {
   "cell_type": "code",
   "execution_count": 3,
   "id": "5338c004-9f02-4554-95ff-8894bdb2605a",
   "metadata": {},
   "outputs": [],
   "source": [
    "def filter_dataset(file, searches) -> dict[int, str]:\n",
    "    \"\"\"\n",
    "    Quickly filter for records of interest.\n",
    "    \"\"\"\n",
    "    output = {}\n",
    "    seen_smiles_nonmatches = set()\n",
    "    seen_smiles_matches = set()\n",
    "\n",
    "    ff = ForceField(\"openff-2.2.1.offxml\")\n",
    "\n",
    "    with open(file, \"r\") as f:\n",
    "        \n",
    "        entries = json.load(f)[\"entries\"][QCFRACTAL_URL]\n",
    "        for entry in tqdm.tqdm(entries):\n",
    "            smi = entry[\"cmiles\"]\n",
    "            if smi in seen_smiles_matches:\n",
    "                output[int(entry[\"record_id\"])] = smi\n",
    "                continue\n",
    "            elif smi in seen_smiles_nonmatches:\n",
    "                continue\n",
    "                \n",
    "            mol = Molecule.from_smiles(smi, allow_undefined_stereo=True)\n",
    "            torsions = [\n",
    "                param.id for param in ff.label_molecules(\n",
    "                    mol.to_topology()\n",
    "                )[0][\"ProperTorsions\"].values()\n",
    "            ]\n",
    "            if any(torsion in torsions for torsion in searches):\n",
    "                output[int(entry[\"record_id\"])] = smi\n",
    "                seen_smiles_matches.add(smi)\n",
    "            else:\n",
    "                seen_smiles_nonmatches.add(smi)\n",
    "    return output"
   ]
  },
  {
   "cell_type": "code",
   "execution_count": 4,
   "id": "8453f972-0f0f-4f00-b92f-c193b46a249e",
   "metadata": {},
   "outputs": [
    {
     "name": "stderr",
     "output_type": "stream",
     "text": [
      "/var/folders/bf/2ytrzlmd6jbbgqs37bl9lld40000gn/T/ipykernel_25751/530512539.py:22: AtomMappingWarning: Warning! Fully mapped SMILES pattern passed to `from_smiles`. The atom map is stored as a property in `Molecule._properties`, but these indices are NOT used to determine atom ordering. To use these indices for atom ordering, use `Molecule.from_mapped_smiles`.\n",
      "  mol = Molecule.from_smiles(smi, allow_undefined_stereo=True)\n",
      "100%|██████████████████████████████████████| 5126/5126 [00:23<00:00, 215.57it/s]\n",
      "100%|██████████████████████████████████████| 1290/1290 [00:11<00:00, 110.96it/s]\n"
     ]
    }
   ],
   "source": [
    "# quickly filter through existing data\n",
    "searches = [\"t17\", \"t48a\", \"t19\", \"t18\", \"t105\"]\n",
    "opt_record_ids = filter_dataset(\"sage-2.2.1/optimization-training-set.json\", searches)\n",
    "td_record_ids = filter_dataset(\"sage-2.2.1/torsion-training-set.json\", searches)"
   ]
  },
  {
   "cell_type": "code",
   "execution_count": 5,
   "id": "41fd833f-55cb-4690-8414-8cca7270b13c",
   "metadata": {},
   "outputs": [
    {
     "name": "stdout",
     "output_type": "stream",
     "text": [
      "3939\n",
      "693\n"
     ]
    }
   ],
   "source": [
    "print(len(opt_record_ids))\n",
    "print(len(td_record_ids))"
   ]
  },
  {
   "cell_type": "code",
   "execution_count": 6,
   "id": "f1b1f3c7-376c-4b2a-9e01-ddb46e6c8db7",
   "metadata": {},
   "outputs": [],
   "source": [
    "from openff.qcsubmit.results import (\n",
    "    BasicResultCollection,\n",
    "    OptimizationResultCollection,\n",
    "    TorsionDriveResultCollection,\n",
    ")\n",
    "\n",
    "import qcportal as ptl"
   ]
  },
  {
   "cell_type": "code",
   "execution_count": 7,
   "id": "ed1a50e8-8f05-4648-9ac7-799c30e589d7",
   "metadata": {},
   "outputs": [],
   "source": [
    "client = ptl.PortalClient(QCFRACTAL_URL, cache_dir=\".\")"
   ]
  },
  {
   "cell_type": "code",
   "execution_count": 8,
   "id": "3a5a4b4b-ca2c-49a0-bc41-db5ef0b9a998",
   "metadata": {},
   "outputs": [],
   "source": [
    "# pull energies and forces for opts, energies for torsions"
   ]
  },
  {
   "cell_type": "code",
   "execution_count": 9,
   "id": "e20b5a11-5667-41b3-911b-34926a5ad63f",
   "metadata": {},
   "outputs": [],
   "source": [
    "optimization_records_original = client.get_optimizations(\n",
    "    list(opt_record_ids),\n",
    "    include=[\"initial_molecule\"]\n",
    ")"
   ]
  },
  {
   "cell_type": "code",
   "execution_count": 10,
   "id": "8c023009-d657-4e41-95f4-a2a6a9426103",
   "metadata": {},
   "outputs": [
    {
     "data": {
      "text/plain": [
       "Identifiers(molecule_hash='7b42c896d68faf7b09b4d93149a769e47b5476bd', molecular_formula='C13H13NO2', smiles=None, inchi=None, inchikey=None, canonical_explicit_hydrogen_smiles=None, canonical_isomeric_explicit_hydrogen_mapped_smiles=None, canonical_isomeric_explicit_hydrogen_smiles=None, canonical_isomeric_smiles=None, canonical_smiles=None, pubchem_cid=None, pubchem_sid=None, pubchem_conformerid=None)"
      ]
     },
     "execution_count": 10,
     "metadata": {},
     "output_type": "execute_result"
    }
   ],
   "source": [
    "optimization_records_original[0].final_molecule.identifiers"
   ]
  },
  {
   "cell_type": "code",
   "execution_count": 11,
   "id": "1e001e33-95e2-4644-ac7d-2605e72ab283",
   "metadata": {
    "scrolled": true
   },
   "outputs": [
    {
     "name": "stderr",
     "output_type": "stream",
     "text": [
      "Fetching last frame: 100%|██████████████████| 3939/3939 [43:08<00:00,  1.52it/s]\n"
     ]
    }
   ],
   "source": [
    "# this might be the lightest way to simply fetch the last frame\n",
    "# alternatively could do `includes=['trajectory']`\n",
    "# but I think this fetches the entire trajectory one-by-one\n",
    "\n",
    "singlepoints_original_with_smiles = [\n",
    "    (opt_record_ids[opt.id], opt.trajectory_element(-1))\n",
    "    for opt in tqdm.tqdm(\n",
    "        optimization_records_original,\n",
    "        desc=\"Fetching last frame\",\n",
    "    )\n",
    "]"
   ]
  },
  {
   "cell_type": "code",
   "execution_count": 12,
   "id": "bf85fa1a-a50b-420d-8190-8978ce0a3128",
   "metadata": {
    "scrolled": true
   },
   "outputs": [
    {
     "data": {
      "text/plain": [
       "'[H:17][c:1]1[c:2]([c:5]([c:9]([c:8]([c:4]1[H:20])[c:10]2[c:6]([c:3]([c:7]([c:11](=[O:15])[n:14]2[C:12]([H:24])([H:25])[H:26])[H:23])[H:19])[H:22])[O:16][C:13]([H:27])([H:28])[H:29])[H:21])[H:18]'"
      ]
     },
     "execution_count": 12,
     "metadata": {},
     "output_type": "execute_result"
    }
   ],
   "source": [
    "singlepoints_original_with_smiles[0][0]"
   ]
  },
  {
   "cell_type": "code",
   "execution_count": 13,
   "id": "d8cb27bf-9bd5-42e3-9c9a-2d399d2500d6",
   "metadata": {},
   "outputs": [],
   "source": [
    "torsiondrive_records_original = client.get_records(\n",
    "    list(td_record_ids),\n",
    "    include=[\"minimum_optimizations\"]\n",
    ")"
   ]
  },
  {
   "cell_type": "code",
   "execution_count": 14,
   "id": "41c7beff-923a-4050-9a3d-a7555563a61d",
   "metadata": {},
   "outputs": [
    {
     "data": {
      "text/plain": [
       "TorsiondriveRecord(id=18535805, record_type='torsiondrive', is_service=True, properties={}, extras={}, status=<RecordStatusEnum.complete: 'complete'>, manager_name=None, created_on=datetime.datetime(2020, 3, 24, 17, 35, 56, 324581, tzinfo=datetime.timezone.utc), modified_on=datetime.datetime(2020, 3, 24, 17, 35, 56, 324579, tzinfo=datetime.timezone.utc), owner_user=None, owner_group=None, compute_history_=None, task_=None, service_=None, comments_=None, native_files_=None, specification=TorsiondriveSpecification(program='torsiondrive', optimization_specification=OptimizationSpecification(program='geometric', qc_specification=QCSpecification(program='psi4', driver=<SinglepointDriver.deferred: 'deferred'>, method='b3lyp-d3bj', basis='dzvp', keywords={'maxiter': 200, 'scf_properties': ['dipole', 'quadrupole', 'wiberg_lowdin_indices', 'mayer_indices']}, protocols=AtomicResultProtocols(wavefunction=<WavefunctionProtocolEnum.none: 'none'>, stdout=True, error_correction=ErrorCorrectionProtocol(default_policy=True, policies=None), native_files=<NativeFilesProtocolEnum.none: 'none'>)), keywords={'qccnv': True, 'reset': True, 'enforce': 0.1, 'epsilon': 0, 'coordsys': 'tric'}, protocols=OptimizationProtocols(trajectory=<TrajectoryProtocolEnum.all: 'all'>)), keywords=TorsiondriveKeywords(dihedrals=[(5, 6, 7, 8)], grid_spacing=[15], dihedral_ranges=None, energy_decrease_thresh=None, energy_upper_limit=0.05)), initial_molecules_ids_=None, initial_molecules_=None, optimizations_=None, minimum_optimizations_=None)"
      ]
     },
     "execution_count": 14,
     "metadata": {},
     "output_type": "execute_result"
    }
   ],
   "source": [
    "torsiondrive_records_original[0]"
   ]
  },
  {
   "cell_type": "code",
   "execution_count": 15,
   "id": "419925b6-8b4a-4667-8c08-fcd96ab34af4",
   "metadata": {},
   "outputs": [
    {
     "name": "stderr",
     "output_type": "stream",
     "text": [
      "Pulling last frames: 100%|████████████████████| 693/693 [18:39<00:00,  1.62s/it]"
     ]
    },
    {
     "name": "stdout",
     "output_type": "stream",
     "text": [
      "1560\n"
     ]
    },
    {
     "name": "stderr",
     "output_type": "stream",
     "text": [
      "\n"
     ]
    }
   ],
   "source": [
    "singlepoints_torsiondrive_original = []\n",
    "for record in tqdm.tqdm(torsiondrive_records_original, desc=\"Pulling last frames\"):\n",
    "    smi = td_record_ids[record.id]\n",
    "\n",
    "    # first check this is rotating around the correct torsions\n",
    "    mol = Molecule.from_mapped_smiles(smi, allow_undefined_stereo=True)\n",
    "    ff = ForceField(\"openff-2.2.1.offxml\")\n",
    "    torsions = ff.label_molecules(\n",
    "        mol.to_topology()\n",
    "    )[0][\"ProperTorsions\"]\n",
    "    \n",
    "    dihedrals = record.specification.keywords.dihedrals\n",
    "    scanned_torsions = []\n",
    "    for dih in dihedrals:\n",
    "        if dih in torsions:\n",
    "            scanned_torsions.append(torsions[dih].id)\n",
    "        elif dih[::-1] in torsions:\n",
    "            scanned_torsions.append(torsions[dih[::-1]].id)\n",
    "\n",
    "    if not any(tors in scanned_torsions for tors in searches):\n",
    "        continue\n",
    "\n",
    "    # now pull the constrained optimization\n",
    "    for opt in record.minimum_optimizations.values():\n",
    "        singlepoints_torsiondrive_original.append(\n",
    "            (smi, opt.trajectory_element(-1))\n",
    "        )\n",
    "        \n",
    "print(len(singlepoints_torsiondrive_original))"
   ]
  },
  {
   "cell_type": "markdown",
   "id": "c2314024-e6e5-4b19-93ab-c2691b882d45",
   "metadata": {},
   "source": [
    "## Pull down additional complete datasets"
   ]
  },
  {
   "cell_type": "code",
   "execution_count": 16,
   "id": "a2c7c6e0-dc22-458f-9858-b7e8b2042fd8",
   "metadata": {},
   "outputs": [],
   "source": [
    "# Pull down the records from additional datasets\n",
    "additional_torsiondrive_collection = TorsionDriveResultCollection.from_server(\n",
    "    client=client,\n",
    "    datasets=\"OpenFF Cresset Additional Coverage TorsionDrives v4.0\",\n",
    "    spec_name=\"default\",\n",
    ")\n",
    "additional_optimization_collection = OptimizationResultCollection.from_server(\n",
    "    client=client,\n",
    "    datasets=\"OpenFF Cresset Additional Coverage Optimizations v4.0\",\n",
    "    spec_name=\"default\",\n",
    ")"
   ]
  },
  {
   "cell_type": "code",
   "execution_count": 17,
   "id": "a0e6cd92-65d3-4087-8138-e179f672c527",
   "metadata": {},
   "outputs": [],
   "source": [
    "additional_td_records_and_molecules = list(\n",
    "    additional_torsiondrive_collection.to_records()\n",
    ")\n",
    "additional_opt_records_and_molecules = list(\n",
    "    additional_optimization_collection.to_records()\n",
    ")\n"
   ]
  },
  {
   "cell_type": "code",
   "execution_count": 18,
   "id": "e5a407ab-dfef-4a7e-9de1-0e39863e5c47",
   "metadata": {},
   "outputs": [
    {
     "data": {
      "text/plain": [
       "Identifiers(molecule_hash='6cbc29d00b72458a7ec1dd141c14a76d35d4fbe4', molecular_formula='C8H11N3', smiles=None, inchi=None, inchikey=None, canonical_explicit_hydrogen_smiles=None, canonical_isomeric_explicit_hydrogen_mapped_smiles='[H:14][C:3]1=[C:2]([N:11]([N:10]=[C:4]1[C:5]23[C:6]([C:7]([C:8]2([H:18])[H:19])([C:9]3([H:20])[H:21])[H:17])([H:15])[H:16])[H:22])[N:1]([H:12])[H:13]', canonical_isomeric_explicit_hydrogen_smiles=None, canonical_isomeric_smiles=None, canonical_smiles=None, pubchem_cid=None, pubchem_sid=None, pubchem_conformerid=None)"
      ]
     },
     "execution_count": 18,
     "metadata": {},
     "output_type": "execute_result"
    }
   ],
   "source": [
    "additional_opt_records_and_molecules[0][0].trajectory_element(-1).molecule.identifiers"
   ]
  },
  {
   "cell_type": "code",
   "execution_count": 19,
   "id": "fae9a815-e133-4a42-bd7e-84dbacc395b7",
   "metadata": {},
   "outputs": [
    {
     "name": "stderr",
     "output_type": "stream",
     "text": [
      "100%|█████████████████████████████████████████| 393/393 [05:57<00:00,  1.10it/s]\n"
     ]
    }
   ],
   "source": [
    "singlepoints_additional = []\n",
    "for opt, _ in tqdm.tqdm(additional_opt_records_and_molecules):\n",
    "    last = opt.trajectory_element(-1)\n",
    "    singlepoints_additional.append(\n",
    "        (last.molecule.identifiers.canonical_isomeric_explicit_hydrogen_mapped_smiles, last)\n",
    "    )"
   ]
  },
  {
   "cell_type": "code",
   "execution_count": 20,
   "id": "7cfd50b9-4fc8-4ffa-8f3e-64c4beb05e7d",
   "metadata": {},
   "outputs": [
    {
     "name": "stderr",
     "output_type": "stream",
     "text": [
      "Pulling last frames: 100%|██████████████████████| 82/82 [32:08<00:00, 23.52s/it]\n"
     ]
    }
   ],
   "source": [
    "singlepoints_torsiondrive_additional = []\n",
    "for record, _ in tqdm.tqdm(additional_td_records_and_molecules, desc=\"Pulling last frames\"):\n",
    "    for opt in record.minimum_optimizations.values():\n",
    "        last = opt.trajectory_element(-1)\n",
    "        singlepoints_torsiondrive_additional.append(\n",
    "            (last.molecule.identifiers.canonical_isomeric_explicit_hydrogen_mapped_smiles, last)\n",
    "        )"
   ]
  },
  {
   "cell_type": "markdown",
   "id": "1fd6400b-5906-4adc-a732-cc594818490c",
   "metadata": {},
   "source": [
    "## Convert to JSON"
   ]
  },
  {
   "cell_type": "code",
   "execution_count": 21,
   "id": "0e425991-c742-46ba-affc-a8fe1aa0db80",
   "metadata": {},
   "outputs": [],
   "source": [
    "from openff.units import unit\n",
    "\n",
    "bohr_to_angstrom = (1 * unit.bohr).m_as(unit.angstrom)\n",
    "hartree_to_kcal = (1 * unit.hartree * unit.avogadro_constant).m_as(\n",
    "    unit.kilocalories_per_mole\n",
    ")\n",
    "\n",
    "def convert_singlepoints(singlepoints, include_gradient: bool = True):\n",
    "    \"\"\"\n",
    "    Convert data to smee-friendly format.\n",
    "    \"\"\"\n",
    "    data_by_smiles = defaultdict(list)\n",
    "\n",
    "    for mapped_smiles, record in tqdm.tqdm(singlepoints, desc=\"Converting\"): \n",
    "        mol = record.molecule\n",
    "        coords = np.array(mol.geometry * bohr_to_angstrom).flatten().tolist()\n",
    "        energy = record.properties[\"return_energy\"] * hartree_to_kcal\n",
    "        entry = {\n",
    "            \"coords\": coords,\n",
    "            \"energy\": energy,\n",
    "        }\n",
    "        if include_gradient:\n",
    "            try:\n",
    "                gradient = np.array(record.properties[\"scf total gradient\"]).reshape((-1, 3))\n",
    "            except KeyError:\n",
    "                # throw out any opts without gradients for now\n",
    "                continue\n",
    "            forces = ((-gradient) * hartree_to_kcal / bohr_to_angstrom)\n",
    "            entry[\"forces\"] = np.array(forces).flatten().tolist()\n",
    "            \n",
    "        data_by_smiles[mapped_smiles].append(entry)\n",
    "    return data_by_smiles"
   ]
  },
  {
   "cell_type": "code",
   "execution_count": 23,
   "id": "267351da-a2d8-4324-895c-98384efee363",
   "metadata": {},
   "outputs": [],
   "source": [
    "# singlepoints_original[0].molecule.identifiers"
   ]
  },
  {
   "cell_type": "code",
   "execution_count": 25,
   "id": "56a465ff-686b-460c-a488-69e2ea13fa0e",
   "metadata": {},
   "outputs": [],
   "source": [
    "# original_optimizations = convert_singlepoints(singlepoints_original)\n",
    "# len(original_optimizations)"
   ]
  },
  {
   "cell_type": "code",
   "execution_count": 26,
   "id": "844c89a3-bc72-48f5-9eb0-7126d56096ce",
   "metadata": {},
   "outputs": [
    {
     "name": "stderr",
     "output_type": "stream",
     "text": [
      "Converting: 100%|███████████████████████████| 3939/3939 [20:07<00:00,  3.26it/s]\n",
      "Converting: 100%|██████████████████████████| 393/393 [00:00<00:00, 10682.77it/s]\n",
      "Converting: 100%|███████████████████████████| 1560/1560 [07:40<00:00,  3.39it/s]\n",
      "Converting: 100%|████████████████████████| 1968/1968 [00:00<00:00, 34056.28it/s]\n"
     ]
    },
    {
     "ename": "NameError",
     "evalue": "name 'collections' is not defined",
     "output_type": "error",
     "traceback": [
      "\u001b[0;31m---------------------------------------------------------------------------\u001b[0m",
      "\u001b[0;31mNameError\u001b[0m                                 Traceback (most recent call last)",
      "Cell \u001b[0;32mIn[26], line 26\u001b[0m\n\u001b[1;32m     22\u001b[0m \u001b[38;5;28;01mwith\u001b[39;00m \u001b[38;5;28mopen\u001b[39m(\u001b[38;5;124m\"\u001b[39m\u001b[38;5;124madditional-torsiondrives.json\u001b[39m\u001b[38;5;124m\"\u001b[39m, \u001b[38;5;124m\"\u001b[39m\u001b[38;5;124mw\u001b[39m\u001b[38;5;124m\"\u001b[39m) \u001b[38;5;28;01mas\u001b[39;00m f:\n\u001b[1;32m     23\u001b[0m     json\u001b[38;5;241m.\u001b[39mdump(additional_torsiondrives, f)\n\u001b[0;32m---> 26\u001b[0m combined_optimizations \u001b[38;5;241m=\u001b[39m \u001b[43mcollections\u001b[49m\u001b[38;5;241m.\u001b[39mdefaultdict(\u001b[38;5;28mlist\u001b[39m)\n\u001b[1;32m     27\u001b[0m combined_torsiondrives \u001b[38;5;241m=\u001b[39m collections\u001b[38;5;241m.\u001b[39mdefaultdict(\u001b[38;5;28mlist\u001b[39m)\n\u001b[1;32m     29\u001b[0m \u001b[38;5;28;01mfor\u001b[39;00m dataset \u001b[38;5;129;01min\u001b[39;00m [original_optimizations, additional_optimizations]:\n",
      "\u001b[0;31mNameError\u001b[0m: name 'collections' is not defined"
     ]
    }
   ],
   "source": [
    "# convert optimizations\n",
    "\n",
    "original_optimizations = convert_singlepoints(singlepoints_original_with_smiles)\n",
    "with open(\"original-optimizations.json\", \"w\") as f:\n",
    "    json.dump(original_optimizations, f)\n",
    "    \n",
    "additional_optimizations = convert_singlepoints(singlepoints_additional)\n",
    "with open(\"additional-optimizations.json\", \"w\") as f:\n",
    "    json.dump(additional_optimizations, f)\n",
    "\n",
    "original_torsiondrives = convert_singlepoints(\n",
    "    singlepoints_torsiondrive_original,\n",
    "    include_gradient=False\n",
    ")\n",
    "with open(\"original-torsiondrives.json\", \"w\") as f:\n",
    "    json.dump(original_torsiondrives, f)\n",
    "    \n",
    "additional_torsiondrives = convert_singlepoints(\n",
    "    singlepoints_torsiondrive_additional,\n",
    "    include_gradient=False\n",
    ")\n",
    "with open(\"additional-torsiondrives.json\", \"w\") as f:\n",
    "    json.dump(additional_torsiondrives, f)\n"
   ]
  },
  {
   "cell_type": "code",
   "execution_count": 27,
   "id": "b0cccde8-4320-433d-86cd-e45b774e8381",
   "metadata": {},
   "outputs": [],
   "source": [
    "import collections"
   ]
  },
  {
   "cell_type": "code",
   "execution_count": 28,
   "id": "b1e6681f-84cc-42c1-a7bb-32378462f792",
   "metadata": {},
   "outputs": [],
   "source": [
    "combined_optimizations = collections.defaultdict(list)\n",
    "combined_torsiondrives = collections.defaultdict(list)\n",
    "\n",
    "for dataset in [original_optimizations, additional_optimizations]:\n",
    "    for k, v in dataset.items():\n",
    "        combined_optimizations[k].extend(v)\n",
    "\n",
    "for dataset in [original_torsiondrives, additional_torsiondrives]:\n",
    "    for k, v in dataset.items():\n",
    "        combined_torsiondrives[k].extend(v)\n",
    "\n",
    "with open(\"combined-optimizations.json\", \"w\") as f:\n",
    "    json.dump(combined_optimizations, f)\n",
    "\n",
    "with open(\"combined-torsiondrives.json\", \"w\") as f:\n",
    "    json.dump(combined_torsiondrives, f)\n"
   ]
  },
  {
   "cell_type": "code",
   "execution_count": null,
   "id": "79ab5d02-50a1-4e22-991f-9b846eea15b6",
   "metadata": {},
   "outputs": [],
   "source": []
  }
 ],
 "metadata": {
  "kernelspec": {
   "display_name": "Python 3 (ipykernel)",
   "language": "python",
   "name": "python3"
  },
  "language_info": {
   "codemirror_mode": {
    "name": "ipython",
    "version": 3
   },
   "file_extension": ".py",
   "mimetype": "text/x-python",
   "name": "python",
   "nbconvert_exporter": "python",
   "pygments_lexer": "ipython3",
   "version": "3.11.0"
  },
  "widgets": {
   "application/vnd.jupyter.widget-state+json": {
    "state": {},
    "version_major": 2,
    "version_minor": 0
   }
  }
 },
 "nbformat": 4,
 "nbformat_minor": 5
}
