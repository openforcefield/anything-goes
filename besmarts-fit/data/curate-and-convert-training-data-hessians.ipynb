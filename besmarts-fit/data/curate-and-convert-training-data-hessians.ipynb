{
 "cells": [
  {
   "cell_type": "code",
   "execution_count": 1,
   "id": "9ca85add-c4c9-4a18-8c18-027db3f5ff27",
   "metadata": {
    "execution": {
     "iopub.execute_input": "2025-04-03T00:31:41.510455Z",
     "iopub.status.busy": "2025-04-03T00:31:41.510126Z",
     "iopub.status.idle": "2025-04-03T00:31:43.198457Z",
     "shell.execute_reply": "2025-04-03T00:31:43.198054Z",
     "shell.execute_reply.started": "2025-04-03T00:31:41.510442Z"
    }
   },
   "outputs": [],
   "source": [
    "from collections import defaultdict\n",
    "import json\n",
    "import tqdm\n",
    "\n",
    "import numpy as np\n",
    "from openff.toolkit import Molecule, ForceField"
   ]
  },
  {
   "cell_type": "code",
   "execution_count": 2,
   "id": "78ed1de0-daf5-4e74-b3db-9aee464eb994",
   "metadata": {
    "execution": {
     "iopub.execute_input": "2025-04-03T00:31:43.199258Z",
     "iopub.status.busy": "2025-04-03T00:31:43.199076Z",
     "iopub.status.idle": "2025-04-03T00:31:43.201124Z",
     "shell.execute_reply": "2025-04-03T00:31:43.200870Z",
     "shell.execute_reply.started": "2025-04-03T00:31:43.199247Z"
    }
   },
   "outputs": [],
   "source": [
    "QCFRACTAL_URL = \"https://api.qcarchive.molssi.org:443/\""
   ]
  },
  {
   "cell_type": "markdown",
   "id": "2f52b355-c705-4f1d-9b2d-22c31fce3670",
   "metadata": {},
   "source": [
    "## Filter existing records"
   ]
  },
  {
   "cell_type": "code",
   "execution_count": 3,
   "id": "5338c004-9f02-4554-95ff-8894bdb2605a",
   "metadata": {
    "execution": {
     "iopub.execute_input": "2025-04-03T00:31:43.201470Z",
     "iopub.status.busy": "2025-04-03T00:31:43.201382Z",
     "iopub.status.idle": "2025-04-03T00:31:43.238012Z",
     "shell.execute_reply": "2025-04-03T00:31:43.237751Z",
     "shell.execute_reply.started": "2025-04-03T00:31:43.201462Z"
    }
   },
   "outputs": [],
   "source": [
    "def filter_dataset(file, searches) -> dict[int, str]:\n",
    "    \"\"\"\n",
    "    Quickly filter for records of interest.\n",
    "    \"\"\"\n",
    "    output = {}\n",
    "    seen_smiles_nonmatches = set()\n",
    "    seen_smiles_matches = set()\n",
    "\n",
    "    ff = ForceField(\"openff-2.2.1.offxml\")\n",
    "\n",
    "    with open(file, \"r\") as f:\n",
    "        \n",
    "        entries = json.load(f)[\"entries\"][QCFRACTAL_URL]\n",
    "        for entry in tqdm.tqdm(entries):\n",
    "            smi = entry[\"cmiles\"]\n",
    "            if smi in seen_smiles_matches:\n",
    "                output[int(entry[\"record_id\"])] = smi\n",
    "                continue\n",
    "            elif smi in seen_smiles_nonmatches:\n",
    "                continue\n",
    "                \n",
    "            mol = Molecule.from_smiles(smi, allow_undefined_stereo=True)\n",
    "            torsions = [\n",
    "                param.id for param in ff.label_molecules(\n",
    "                    mol.to_topology()\n",
    "                )[0][\"ProperTorsions\"].values()\n",
    "            ]\n",
    "            if any(torsion in torsions for torsion in searches):\n",
    "                output[int(entry[\"record_id\"])] = smi\n",
    "                seen_smiles_matches.add(smi)\n",
    "            else:\n",
    "                seen_smiles_nonmatches.add(smi)\n",
    "    return output"
   ]
  },
  {
   "cell_type": "code",
   "execution_count": 4,
   "id": "8453f972-0f0f-4f00-b92f-c193b46a249e",
   "metadata": {
    "execution": {
     "iopub.execute_input": "2025-04-03T00:31:43.238597Z",
     "iopub.status.busy": "2025-04-03T00:31:43.238513Z",
     "iopub.status.idle": "2025-04-03T00:32:29.087488Z",
     "shell.execute_reply": "2025-04-03T00:32:29.087175Z",
     "shell.execute_reply.started": "2025-04-03T00:31:43.238588Z"
    }
   },
   "outputs": [
    {
     "name": "stderr",
     "output_type": "stream",
     "text": [
      "  0%|                                                                                       | 0/5126 [00:00<?, ?it/s]/tmp/ipykernel_42086/530512539.py:22: AtomMappingWarning: Warning! Fully mapped SMILES pattern passed to `from_smiles`. The atom map is stored as a property in `Molecule._properties`, but these indices are NOT used to determine atom ordering. To use these indices for atom ordering, use `Molecule.from_mapped_smiles`.\n",
      "  mol = Molecule.from_smiles(smi, allow_undefined_stereo=True)\n",
      "100%|███████████████████████████████████████████████████████████████████████████| 5126/5126 [00:30<00:00, 170.15it/s]\n",
      "100%|████████████████████████████████████████████████████████████████████████████| 1290/1290 [00:15<00:00, 83.90it/s]\n"
     ]
    }
   ],
   "source": [
    "# quickly filter through existing data\n",
    "searches = [\"t17\", \"t48a\", \"t19\", \"t18\", \"t105\"]\n",
    "opt_record_ids = filter_dataset(\"sage-2.2.1/optimization-training-set.json\", searches)\n",
    "td_record_ids = filter_dataset(\"sage-2.2.1/torsion-training-set.json\", searches)"
   ]
  },
  {
   "cell_type": "code",
   "execution_count": 5,
   "id": "41fd833f-55cb-4690-8414-8cca7270b13c",
   "metadata": {
    "execution": {
     "iopub.execute_input": "2025-04-03T00:32:29.087900Z",
     "iopub.status.busy": "2025-04-03T00:32:29.087803Z",
     "iopub.status.idle": "2025-04-03T00:32:29.089718Z",
     "shell.execute_reply": "2025-04-03T00:32:29.089481Z",
     "shell.execute_reply.started": "2025-04-03T00:32:29.087891Z"
    }
   },
   "outputs": [
    {
     "name": "stdout",
     "output_type": "stream",
     "text": [
      "3939\n",
      "693\n"
     ]
    }
   ],
   "source": [
    "print(len(opt_record_ids))\n",
    "print(len(td_record_ids))"
   ]
  },
  {
   "cell_type": "code",
   "execution_count": 6,
   "id": "f1b1f3c7-376c-4b2a-9e01-ddb46e6c8db7",
   "metadata": {
    "execution": {
     "iopub.execute_input": "2025-04-03T00:32:29.090223Z",
     "iopub.status.busy": "2025-04-03T00:32:29.090137Z",
     "iopub.status.idle": "2025-04-03T00:32:29.500961Z",
     "shell.execute_reply": "2025-04-03T00:32:29.500648Z",
     "shell.execute_reply.started": "2025-04-03T00:32:29.090214Z"
    }
   },
   "outputs": [],
   "source": [
    "from openff.qcsubmit.results import (\n",
    "    BasicResultCollection,\n",
    "    OptimizationResultCollection,\n",
    "    TorsionDriveResultCollection,\n",
    ")\n",
    "\n",
    "import qcportal as ptl"
   ]
  },
  {
   "cell_type": "code",
   "execution_count": 7,
   "id": "ed1a50e8-8f05-4648-9ac7-799c30e589d7",
   "metadata": {
    "execution": {
     "iopub.execute_input": "2025-04-03T00:33:37.808078Z",
     "iopub.status.busy": "2025-04-03T00:33:37.807645Z",
     "iopub.status.idle": "2025-04-03T00:33:39.284126Z",
     "shell.execute_reply": "2025-04-03T00:33:39.283824Z",
     "shell.execute_reply.started": "2025-04-03T00:33:37.808063Z"
    }
   },
   "outputs": [],
   "source": [
    "client = ptl.PortalClient(QCFRACTAL_URL, cache_dir=\".\")"
   ]
  },
  {
   "cell_type": "code",
   "execution_count": 8,
   "id": "3a5a4b4b-ca2c-49a0-bc41-db5ef0b9a998",
   "metadata": {
    "execution": {
     "iopub.execute_input": "2025-04-03T00:33:39.284699Z",
     "iopub.status.busy": "2025-04-03T00:33:39.284597Z",
     "iopub.status.idle": "2025-04-03T00:33:39.286419Z",
     "shell.execute_reply": "2025-04-03T00:33:39.286194Z",
     "shell.execute_reply.started": "2025-04-03T00:33:39.284689Z"
    }
   },
   "outputs": [],
   "source": [
    "# pull energies and forces for opts, energies for torsions"
   ]
  },
  {
   "cell_type": "code",
   "execution_count": 9,
   "id": "e20b5a11-5667-41b3-911b-34926a5ad63f",
   "metadata": {
    "execution": {
     "iopub.execute_input": "2025-04-03T00:33:39.286754Z",
     "iopub.status.busy": "2025-04-03T00:33:39.286668Z",
     "iopub.status.idle": "2025-04-03T00:34:03.854542Z",
     "shell.execute_reply": "2025-04-03T00:34:03.854197Z",
     "shell.execute_reply.started": "2025-04-03T00:33:39.286745Z"
    }
   },
   "outputs": [],
   "source": [
    "optimization_records_original = client.get_optimizations(\n",
    "    list(opt_record_ids),\n",
    "    include=[\"initial_molecule\"]\n",
    ")"
   ]
  },
  {
   "cell_type": "code",
   "execution_count": 10,
   "id": "8c023009-d657-4e41-95f4-a2a6a9426103",
   "metadata": {
    "execution": {
     "iopub.execute_input": "2025-04-03T00:34:03.855303Z",
     "iopub.status.busy": "2025-04-03T00:34:03.855191Z",
     "iopub.status.idle": "2025-04-03T00:34:04.122035Z",
     "shell.execute_reply": "2025-04-03T00:34:04.121729Z",
     "shell.execute_reply.started": "2025-04-03T00:34:03.855293Z"
    }
   },
   "outputs": [
    {
     "data": {
      "text/plain": [
       "Identifiers(molecule_hash='7b42c896d68faf7b09b4d93149a769e47b5476bd', molecular_formula='C13H13NO2', smiles=None, inchi=None, inchikey=None, canonical_explicit_hydrogen_smiles=None, canonical_isomeric_explicit_hydrogen_mapped_smiles=None, canonical_isomeric_explicit_hydrogen_smiles=None, canonical_isomeric_smiles=None, canonical_smiles=None, pubchem_cid=None, pubchem_sid=None, pubchem_conformerid=None)"
      ]
     },
     "execution_count": 10,
     "metadata": {},
     "output_type": "execute_result"
    }
   ],
   "source": [
    "optimization_records_original[0].final_molecule.identifiers"
   ]
  },
  {
   "cell_type": "code",
   "execution_count": 11,
   "id": "1e001e33-95e2-4644-ac7d-2605e72ab283",
   "metadata": {
    "execution": {
     "iopub.execute_input": "2025-04-03T00:34:04.122490Z",
     "iopub.status.busy": "2025-04-03T00:34:04.122355Z",
     "iopub.status.idle": "2025-04-03T00:36:14.505229Z",
     "shell.execute_reply": "2025-04-03T00:36:14.504790Z",
     "shell.execute_reply.started": "2025-04-03T00:34:04.122476Z"
    },
    "scrolled": true
   },
   "outputs": [
    {
     "name": "stderr",
     "output_type": "stream",
     "text": [
      "Fetching last frame:   5%|██▉                                                     | 210/3939 [02:09<35:50,  1.73it/s]"
     ]
    },
    {
     "ename": "KeyboardInterrupt",
     "evalue": "",
     "output_type": "error",
     "traceback": [
      "\u001b[31m---------------------------------------------------------------------------\u001b[39m",
      "\u001b[31mKeyboardInterrupt\u001b[39m                         Traceback (most recent call last)",
      "\u001b[36mCell\u001b[39m\u001b[36m \u001b[39m\u001b[32mIn[11]\u001b[39m\u001b[32m, line 5\u001b[39m\n\u001b[32m      1\u001b[39m \u001b[38;5;66;03m# this might be the lightest way to simply fetch the last frame\u001b[39;00m\n\u001b[32m      2\u001b[39m \u001b[38;5;66;03m# alternatively could do `includes=['trajectory']`\u001b[39;00m\n\u001b[32m      3\u001b[39m \u001b[38;5;66;03m# but I think this fetches the entire trajectory one-by-one\u001b[39;00m\n\u001b[32m----> \u001b[39m\u001b[32m5\u001b[39m singlepoints_original_with_smiles = \u001b[43m[\u001b[49m\n\u001b[32m      6\u001b[39m \u001b[43m    \u001b[49m\u001b[43m(\u001b[49m\u001b[43mopt_record_ids\u001b[49m\u001b[43m[\u001b[49m\u001b[43mopt\u001b[49m\u001b[43m.\u001b[49m\u001b[43mid\u001b[49m\u001b[43m]\u001b[49m\u001b[43m,\u001b[49m\u001b[43m \u001b[49m\u001b[43mopt\u001b[49m\u001b[43m.\u001b[49m\u001b[43mtrajectory_element\u001b[49m\u001b[43m(\u001b[49m\u001b[43m-\u001b[49m\u001b[32;43m1\u001b[39;49m\u001b[43m)\u001b[49m\u001b[43m)\u001b[49m\n\u001b[32m      7\u001b[39m \u001b[43m    \u001b[49m\u001b[38;5;28;43;01mfor\u001b[39;49;00m\u001b[43m \u001b[49m\u001b[43mopt\u001b[49m\u001b[43m \u001b[49m\u001b[38;5;129;43;01min\u001b[39;49;00m\u001b[43m \u001b[49m\u001b[43mtqdm\u001b[49m\u001b[43m.\u001b[49m\u001b[43mtqdm\u001b[49m\u001b[43m(\u001b[49m\n\u001b[32m      8\u001b[39m \u001b[43m        \u001b[49m\u001b[43moptimization_records_original\u001b[49m\u001b[43m,\u001b[49m\n\u001b[32m      9\u001b[39m \u001b[43m        \u001b[49m\u001b[43mdesc\u001b[49m\u001b[43m=\u001b[49m\u001b[33;43m\"\u001b[39;49m\u001b[33;43mFetching last frame\u001b[39;49m\u001b[33;43m\"\u001b[39;49m\u001b[43m,\u001b[49m\n\u001b[32m     10\u001b[39m \u001b[43m    \u001b[49m\u001b[43m)\u001b[49m\n\u001b[32m     11\u001b[39m \u001b[43m]\u001b[49m\n",
      "\u001b[36mCell\u001b[39m\u001b[36m \u001b[39m\u001b[32mIn[11]\u001b[39m\u001b[32m, line 6\u001b[39m, in \u001b[36m<listcomp>\u001b[39m\u001b[34m(.0)\u001b[39m\n\u001b[32m      1\u001b[39m \u001b[38;5;66;03m# this might be the lightest way to simply fetch the last frame\u001b[39;00m\n\u001b[32m      2\u001b[39m \u001b[38;5;66;03m# alternatively could do `includes=['trajectory']`\u001b[39;00m\n\u001b[32m      3\u001b[39m \u001b[38;5;66;03m# but I think this fetches the entire trajectory one-by-one\u001b[39;00m\n\u001b[32m      5\u001b[39m singlepoints_original_with_smiles = [\n\u001b[32m----> \u001b[39m\u001b[32m6\u001b[39m     (opt_record_ids[opt.id], \u001b[43mopt\u001b[49m\u001b[43m.\u001b[49m\u001b[43mtrajectory_element\u001b[49m\u001b[43m(\u001b[49m\u001b[43m-\u001b[49m\u001b[32;43m1\u001b[39;49m\u001b[43m)\u001b[49m)\n\u001b[32m      7\u001b[39m     \u001b[38;5;28;01mfor\u001b[39;00m opt \u001b[38;5;129;01min\u001b[39;00m tqdm.tqdm(\n\u001b[32m      8\u001b[39m         optimization_records_original,\n\u001b[32m      9\u001b[39m         desc=\u001b[33m\"\u001b[39m\u001b[33mFetching last frame\u001b[39m\u001b[33m\"\u001b[39m,\n\u001b[32m     10\u001b[39m     )\n\u001b[32m     11\u001b[39m ]\n",
      "\u001b[36mFile \u001b[39m\u001b[32m~/Documents/openff/besmarts-smee-refit/.soap/examples/lib/python3.11/site-packages/qcportal/optimization/record_models.py:163\u001b[39m, in \u001b[36mOptimizationRecord.trajectory_element\u001b[39m\u001b[34m(self, trajectory_index)\u001b[39m\n\u001b[32m    161\u001b[39m \u001b[38;5;28;01mif\u001b[39;00m \u001b[38;5;28mself\u001b[39m.trajectory_ids_ \u001b[38;5;129;01mis\u001b[39;00m \u001b[38;5;129;01mnot\u001b[39;00m \u001b[38;5;28;01mNone\u001b[39;00m:\n\u001b[32m    162\u001b[39m     traj_id = \u001b[38;5;28mself\u001b[39m.trajectory_ids_[trajectory_index]\n\u001b[32m--> \u001b[39m\u001b[32m163\u001b[39m     sp_rec = \u001b[38;5;28;43mself\u001b[39;49m\u001b[43m.\u001b[49m\u001b[43m_get_child_records\u001b[49m\u001b[43m(\u001b[49m\u001b[43m[\u001b[49m\u001b[43mtraj_id\u001b[49m\u001b[43m]\u001b[49m\u001b[43m,\u001b[49m\u001b[43m \u001b[49m\u001b[43mSinglepointRecord\u001b[49m\u001b[43m)\u001b[49m[\u001b[32m0\u001b[39m]\n\u001b[32m    164\u001b[39m     sp_rec.propagate_client(\u001b[38;5;28mself\u001b[39m._client)\n\u001b[32m    165\u001b[39m     \u001b[38;5;28;01mreturn\u001b[39;00m sp_rec\n",
      "\u001b[36mFile \u001b[39m\u001b[32m~/Documents/openff/besmarts-smee-refit/.soap/examples/lib/python3.11/site-packages/qcportal/record_models.py:571\u001b[39m, in \u001b[36mBaseRecord._get_child_records\u001b[39m\u001b[34m(self, child_record_ids, child_record_type, include)\u001b[39m\n\u001b[32m    556\u001b[39m \u001b[38;5;28;01mdef\u001b[39;00m\u001b[38;5;250m \u001b[39m\u001b[34m_get_child_records\u001b[39m(\n\u001b[32m    557\u001b[39m     \u001b[38;5;28mself\u001b[39m,\n\u001b[32m    558\u001b[39m     child_record_ids: Sequence[\u001b[38;5;28mint\u001b[39m],\n\u001b[32m    559\u001b[39m     child_record_type: Type[_Record_T],\n\u001b[32m    560\u001b[39m     include: Optional[Iterable[\u001b[38;5;28mstr\u001b[39m]] = \u001b[38;5;28;01mNone\u001b[39;00m,\n\u001b[32m    561\u001b[39m ) -> List[_Record_T]:\n\u001b[32m    562\u001b[39m \u001b[38;5;250m    \u001b[39m\u001b[33;03m\"\"\"\u001b[39;00m\n\u001b[32m    563\u001b[39m \u001b[33;03m    Helper function for obtaining child records either from the cache or from the server\u001b[39;00m\n\u001b[32m    564\u001b[39m \n\u001b[32m   (...)\u001b[39m\u001b[32m    568\u001b[39m \u001b[33;03m    cache already, they may be missing those fields.\u001b[39;00m\n\u001b[32m    569\u001b[39m \u001b[33;03m    \"\"\"\u001b[39;00m\n\u001b[32m--> \u001b[39m\u001b[32m571\u001b[39m     \u001b[38;5;28;01mreturn\u001b[39;00m \u001b[43mget_records_with_cache\u001b[49m\u001b[43m(\u001b[49m\n\u001b[32m    572\u001b[39m \u001b[43m        \u001b[49m\u001b[38;5;28;43mself\u001b[39;49m\u001b[43m.\u001b[49m\u001b[43m_client\u001b[49m\u001b[43m,\u001b[49m\u001b[43m \u001b[49m\u001b[38;5;28;43mself\u001b[39;49m\u001b[43m.\u001b[49m\u001b[43m_record_cache\u001b[49m\u001b[43m,\u001b[49m\u001b[43m \u001b[49m\u001b[43mchild_record_type\u001b[49m\u001b[43m,\u001b[49m\u001b[43m \u001b[49m\u001b[43mchild_record_ids\u001b[49m\u001b[43m,\u001b[49m\u001b[43m \u001b[49m\u001b[43minclude\u001b[49m\u001b[43m,\u001b[49m\u001b[43m \u001b[49m\u001b[43mforce_fetch\u001b[49m\u001b[43m=\u001b[49m\u001b[38;5;28;43;01mFalse\u001b[39;49;00m\n\u001b[32m    573\u001b[39m \u001b[43m    \u001b[49m\u001b[43m)\u001b[49m\n",
      "\u001b[36mFile \u001b[39m\u001b[32m~/Documents/openff/besmarts-smee-refit/.soap/examples/lib/python3.11/site-packages/qcportal/cache.py:669\u001b[39m, in \u001b[36mget_records_with_cache\u001b[39m\u001b[34m(client, record_cache, record_type, record_ids, include, force_fetch)\u001b[39m\n\u001b[32m    666\u001b[39m \u001b[38;5;28;01mif\u001b[39;00m client \u001b[38;5;129;01mis\u001b[39;00m \u001b[38;5;28;01mNone\u001b[39;00m:\n\u001b[32m    667\u001b[39m     \u001b[38;5;28;01mraise\u001b[39;00m \u001b[38;5;167;01mRuntimeError\u001b[39;00m(\u001b[33m\"\u001b[39m\u001b[33mNeed to fetch some records, but not connected to a client\u001b[39m\u001b[33m\"\u001b[39m)\n\u001b[32m--> \u001b[39m\u001b[32m669\u001b[39m recs = \u001b[43mclient\u001b[49m\u001b[43m.\u001b[49m\u001b[43m_fetch_records\u001b[49m\u001b[43m(\u001b[49m\u001b[43mrecord_type\u001b[49m\u001b[43m,\u001b[49m\u001b[43m \u001b[49m\u001b[38;5;28;43mlist\u001b[39;49m\u001b[43m(\u001b[49m\u001b[43mrecords_tofetch\u001b[49m\u001b[43m)\u001b[49m\u001b[43m,\u001b[49m\u001b[43m \u001b[49m\u001b[43minclude\u001b[49m\u001b[43m=\u001b[49m\u001b[43minclude\u001b[49m\u001b[43m)\u001b[49m\n\u001b[32m    671\u001b[39m \u001b[38;5;66;03m# Set up for the writeback on change, but write the record as-is for now\u001b[39;00m\n\u001b[32m    672\u001b[39m \u001b[38;5;28;01mif\u001b[39;00m record_cache \u001b[38;5;129;01mis\u001b[39;00m \u001b[38;5;129;01mnot\u001b[39;00m \u001b[38;5;28;01mNone\u001b[39;00m:\n",
      "\u001b[36mFile \u001b[39m\u001b[32m~/Documents/openff/besmarts-smee-refit/.soap/examples/lib/python3.11/site-packages/qcportal/client.py:628\u001b[39m, in \u001b[36mPortalClient._fetch_records\u001b[39m\u001b[34m(self, record_type, record_ids, missing_ok, include)\u001b[39m\n\u001b[32m    625\u001b[39m     \u001b[38;5;28;01mreturn\u001b[39;00m \u001b[38;5;28mself\u001b[39m.make_request(\u001b[33m\"\u001b[39m\u001b[33mpost\u001b[39m\u001b[33m\"\u001b[39m, endpoint, List[Optional[Dict[\u001b[38;5;28mstr\u001b[39m, Any]]], body=body)\n\u001b[32m    627\u001b[39m all_records = []\n\u001b[32m--> \u001b[39m\u001b[32m628\u001b[39m \u001b[43m\u001b[49m\u001b[38;5;28;43;01mfor\u001b[39;49;00m\u001b[43m \u001b[49m\u001b[43mrecord_dicts\u001b[49m\u001b[43m \u001b[49m\u001b[38;5;129;43;01min\u001b[39;49;00m\u001b[43m \u001b[49m\u001b[43mprocess_chunk_iterable\u001b[49m\u001b[43m(\u001b[49m\n\u001b[32m    629\u001b[39m \u001b[43m    \u001b[49m\u001b[43m_download_chunk\u001b[49m\u001b[43m,\u001b[49m\n\u001b[32m    630\u001b[39m \u001b[43m    \u001b[49m\u001b[43mrecord_ids\u001b[49m\u001b[43m,\u001b[49m\n\u001b[32m    631\u001b[39m \u001b[43m    \u001b[49m\u001b[38;5;28;43mself\u001b[39;49m\u001b[43m.\u001b[49m\u001b[43mdownload_target_time\u001b[49m\u001b[43m,\u001b[49m\n\u001b[32m    632\u001b[39m \u001b[43m    \u001b[49m\u001b[43mmax_batch_size\u001b[49m\u001b[43m,\u001b[49m\n\u001b[32m    633\u001b[39m \u001b[43m    \u001b[49m\u001b[43minitial_batch_size\u001b[49m\u001b[43m,\u001b[49m\n\u001b[32m    634\u001b[39m \u001b[43m    \u001b[49m\u001b[38;5;28;43mself\u001b[39;49m\u001b[43m.\u001b[49m\u001b[43mn_download_threads\u001b[49m\u001b[43m,\u001b[49m\n\u001b[32m    635\u001b[39m \u001b[43m    \u001b[49m\u001b[43mkeep_order\u001b[49m\u001b[43m=\u001b[49m\u001b[38;5;28;43;01mTrue\u001b[39;49;00m\u001b[43m,\u001b[49m\n\u001b[32m    636\u001b[39m \u001b[43m\u001b[49m\u001b[43m)\u001b[49m\u001b[43m:\u001b[49m\n\u001b[32m    637\u001b[39m \u001b[43m    \u001b[49m\u001b[38;5;28;43;01mif\u001b[39;49;00m\u001b[43m \u001b[49m\u001b[43mrecord_type\u001b[49m\u001b[43m \u001b[49m\u001b[38;5;129;43;01mis\u001b[39;49;00m\u001b[43m \u001b[49m\u001b[38;5;28;43;01mNone\u001b[39;49;00m\u001b[43m:\u001b[49m\n\u001b[32m    638\u001b[39m \u001b[43m        \u001b[49m\u001b[43mall_records\u001b[49m\u001b[43m.\u001b[49m\u001b[43mextend\u001b[49m\u001b[43m(\u001b[49m\u001b[43mrecords_from_dicts\u001b[49m\u001b[43m(\u001b[49m\u001b[43mrecord_dicts\u001b[49m\u001b[43m,\u001b[49m\u001b[43m \u001b[49m\u001b[38;5;28;43mself\u001b[39;49m\u001b[43m)\u001b[49m\u001b[43m)\u001b[49m\n",
      "\u001b[36mFile \u001b[39m\u001b[32m~/Documents/openff/besmarts-smee-refit/.soap/examples/lib/python3.11/site-packages/qcportal/utils.py:179\u001b[39m, in \u001b[36mprocess_chunk_iterable\u001b[39m\u001b[34m(fn, it, chunk_time, max_chunk_size, initial_chunk_size, max_workers, keep_order)\u001b[39m\n\u001b[32m    176\u001b[39m     \u001b[38;5;28;01mbreak\u001b[39;00m\n\u001b[32m    178\u001b[39m \u001b[38;5;66;03m# Wait for any of the futures\u001b[39;00m\n\u001b[32m--> \u001b[39m\u001b[32m179\u001b[39m done, not_done = \u001b[43mconcurrent\u001b[49m\u001b[43m.\u001b[49m\u001b[43mfutures\u001b[49m\u001b[43m.\u001b[49m\u001b[43mwait\u001b[49m\u001b[43m(\u001b[49m\u001b[43mfutures\u001b[49m\u001b[43m,\u001b[49m\u001b[43m \u001b[49m\u001b[43mreturn_when\u001b[49m\u001b[43m=\u001b[49m\u001b[43mconcurrent\u001b[49m\u001b[43m.\u001b[49m\u001b[43mfutures\u001b[49m\u001b[43m.\u001b[49m\u001b[43mFIRST_COMPLETED\u001b[49m\u001b[43m)\u001b[49m\n\u001b[32m    181\u001b[39m \u001b[38;5;66;03m# Get the result of the first completed future\u001b[39;00m\n\u001b[32m    182\u001b[39m average_per_element = \u001b[32m0.0\u001b[39m\n",
      "\u001b[36mFile \u001b[39m\u001b[32m~/Documents/openff/besmarts-smee-refit/.soap/examples/lib/python3.11/concurrent/futures/_base.py:305\u001b[39m, in \u001b[36mwait\u001b[39m\u001b[34m(fs, timeout, return_when)\u001b[39m\n\u001b[32m    301\u001b[39m         \u001b[38;5;28;01mreturn\u001b[39;00m DoneAndNotDoneFutures(done, not_done)\n\u001b[32m    303\u001b[39m     waiter = _create_and_install_waiters(fs, return_when)\n\u001b[32m--> \u001b[39m\u001b[32m305\u001b[39m \u001b[43mwaiter\u001b[49m\u001b[43m.\u001b[49m\u001b[43mevent\u001b[49m\u001b[43m.\u001b[49m\u001b[43mwait\u001b[49m\u001b[43m(\u001b[49m\u001b[43mtimeout\u001b[49m\u001b[43m)\u001b[49m\n\u001b[32m    306\u001b[39m \u001b[38;5;28;01mfor\u001b[39;00m f \u001b[38;5;129;01min\u001b[39;00m fs:\n\u001b[32m    307\u001b[39m     \u001b[38;5;28;01mwith\u001b[39;00m f._condition:\n",
      "\u001b[36mFile \u001b[39m\u001b[32m~/Documents/openff/besmarts-smee-refit/.soap/examples/lib/python3.11/threading.py:622\u001b[39m, in \u001b[36mEvent.wait\u001b[39m\u001b[34m(self, timeout)\u001b[39m\n\u001b[32m    620\u001b[39m signaled = \u001b[38;5;28mself\u001b[39m._flag\n\u001b[32m    621\u001b[39m \u001b[38;5;28;01mif\u001b[39;00m \u001b[38;5;129;01mnot\u001b[39;00m signaled:\n\u001b[32m--> \u001b[39m\u001b[32m622\u001b[39m     signaled = \u001b[38;5;28;43mself\u001b[39;49m\u001b[43m.\u001b[49m\u001b[43m_cond\u001b[49m\u001b[43m.\u001b[49m\u001b[43mwait\u001b[49m\u001b[43m(\u001b[49m\u001b[43mtimeout\u001b[49m\u001b[43m)\u001b[49m\n\u001b[32m    623\u001b[39m \u001b[38;5;28;01mreturn\u001b[39;00m signaled\n",
      "\u001b[36mFile \u001b[39m\u001b[32m~/Documents/openff/besmarts-smee-refit/.soap/examples/lib/python3.11/threading.py:320\u001b[39m, in \u001b[36mCondition.wait\u001b[39m\u001b[34m(self, timeout)\u001b[39m\n\u001b[32m    318\u001b[39m \u001b[38;5;28;01mtry\u001b[39;00m:    \u001b[38;5;66;03m# restore state no matter what (e.g., KeyboardInterrupt)\u001b[39;00m\n\u001b[32m    319\u001b[39m     \u001b[38;5;28;01mif\u001b[39;00m timeout \u001b[38;5;129;01mis\u001b[39;00m \u001b[38;5;28;01mNone\u001b[39;00m:\n\u001b[32m--> \u001b[39m\u001b[32m320\u001b[39m         \u001b[43mwaiter\u001b[49m\u001b[43m.\u001b[49m\u001b[43macquire\u001b[49m\u001b[43m(\u001b[49m\u001b[43m)\u001b[49m\n\u001b[32m    321\u001b[39m         gotit = \u001b[38;5;28;01mTrue\u001b[39;00m\n\u001b[32m    322\u001b[39m     \u001b[38;5;28;01melse\u001b[39;00m:\n",
      "\u001b[31mKeyboardInterrupt\u001b[39m: "
     ]
    }
   ],
   "source": [
    "# this might be the lightest way to simply fetch the last frame\n",
    "# alternatively could do `includes=['trajectory']`\n",
    "# but I think this fetches the entire trajectory one-by-one\n",
    "\n",
    "singlepoints_original_with_smiles = [\n",
    "    (opt_record_ids[opt.id], opt.trajectory_element(-1))\n",
    "    for opt in tqdm.tqdm(\n",
    "        optimization_records_original,\n",
    "        desc=\"Fetching last frame\",\n",
    "    )\n",
    "]"
   ]
  },
  {
   "cell_type": "code",
   "execution_count": null,
   "id": "bf85fa1a-a50b-420d-8190-8978ce0a3128",
   "metadata": {
    "execution": {
     "iopub.status.busy": "2025-04-03T00:36:14.505456Z",
     "iopub.status.idle": "2025-04-03T00:36:14.505566Z",
     "shell.execute_reply": "2025-04-03T00:36:14.505515Z",
     "shell.execute_reply.started": "2025-04-03T00:36:14.505510Z"
    },
    "scrolled": true
   },
   "outputs": [],
   "source": [
    "singlepoints_original_with_smiles[0][0]"
   ]
  },
  {
   "cell_type": "code",
   "execution_count": null,
   "id": "d8cb27bf-9bd5-42e3-9c9a-2d399d2500d6",
   "metadata": {
    "execution": {
     "iopub.status.busy": "2025-04-03T00:36:14.505881Z",
     "iopub.status.idle": "2025-04-03T00:36:14.505990Z",
     "shell.execute_reply": "2025-04-03T00:36:14.505940Z",
     "shell.execute_reply.started": "2025-04-03T00:36:14.505935Z"
    }
   },
   "outputs": [],
   "source": [
    "torsiondrive_records_original = client.get_records(\n",
    "    list(td_record_ids),\n",
    "    include=[\"minimum_optimizations\"]\n",
    ")"
   ]
  },
  {
   "cell_type": "code",
   "execution_count": null,
   "id": "41c7beff-923a-4050-9a3d-a7555563a61d",
   "metadata": {
    "execution": {
     "iopub.status.busy": "2025-04-03T00:36:14.506385Z",
     "iopub.status.idle": "2025-04-03T00:36:14.506488Z",
     "shell.execute_reply": "2025-04-03T00:36:14.506441Z",
     "shell.execute_reply.started": "2025-04-03T00:36:14.506436Z"
    }
   },
   "outputs": [],
   "source": [
    "torsiondrive_records_original[0]"
   ]
  },
  {
   "cell_type": "code",
   "execution_count": null,
   "id": "419925b6-8b4a-4667-8c08-fcd96ab34af4",
   "metadata": {
    "execution": {
     "iopub.status.busy": "2025-04-03T00:36:14.506744Z",
     "iopub.status.idle": "2025-04-03T00:36:14.506844Z",
     "shell.execute_reply": "2025-04-03T00:36:14.506798Z",
     "shell.execute_reply.started": "2025-04-03T00:36:14.506793Z"
    }
   },
   "outputs": [],
   "source": [
    "singlepoints_torsiondrive_original = []\n",
    "for record in tqdm.tqdm(torsiondrive_records_original, desc=\"Pulling last frames\"):\n",
    "    smi = td_record_ids[record.id]\n",
    "\n",
    "    # first check this is rotating around the correct torsions\n",
    "    mol = Molecule.from_mapped_smiles(smi, allow_undefined_stereo=True)\n",
    "    ff = ForceField(\"openff-2.2.1.offxml\")\n",
    "    torsions = ff.label_molecules(\n",
    "        mol.to_topology()\n",
    "    )[0][\"ProperTorsions\"]\n",
    "    \n",
    "    dihedrals = record.specification.keywords.dihedrals\n",
    "    scanned_torsions = []\n",
    "    for dih in dihedrals:\n",
    "        if dih in torsions:\n",
    "            scanned_torsions.append(torsions[dih].id)\n",
    "        elif dih[::-1] in torsions:\n",
    "            scanned_torsions.append(torsions[dih[::-1]].id)\n",
    "\n",
    "    if not any(tors in scanned_torsions for tors in searches):\n",
    "        continue\n",
    "\n",
    "    # now pull the constrained optimization\n",
    "    for opt in record.minimum_optimizations.values():\n",
    "        singlepoints_torsiondrive_original.append(\n",
    "            (smi, opt.trajectory_element(-1))\n",
    "        )\n",
    "        \n",
    "print(len(singlepoints_torsiondrive_original))"
   ]
  },
  {
   "cell_type": "markdown",
   "id": "c2314024-e6e5-4b19-93ab-c2691b882d45",
   "metadata": {},
   "source": [
    "## Pull down additional complete datasets"
   ]
  },
  {
   "cell_type": "code",
   "execution_count": 15,
   "id": "a2c7c6e0-dc22-458f-9858-b7e8b2042fd8",
   "metadata": {
    "execution": {
     "iopub.execute_input": "2025-04-03T00:39:11.061291Z",
     "iopub.status.busy": "2025-04-03T00:39:11.061151Z",
     "iopub.status.idle": "2025-04-03T00:40:17.380203Z",
     "shell.execute_reply": "2025-04-03T00:40:17.379881Z",
     "shell.execute_reply.started": "2025-04-03T00:39:11.061282Z"
    }
   },
   "outputs": [
    {
     "name": "stderr",
     "output_type": "stream",
     "text": [
      "Fetching last frame:   5%|██▉                                                   | 210/3939 [05:09<1:31:42,  1.48s/it]\n"
     ]
    }
   ],
   "source": [
    "# Pull down the records from additional datasets\n",
    "# additional_torsiondrive_collection = TorsionDriveResultCollection.from_server(\n",
    "#     client=client,\n",
    "#     datasets=\"OpenFF Cresset Additional Coverage TorsionDrives v4.0\",\n",
    "#     spec_name=\"default\",\n",
    "# )\n",
    "# additional_optimization_collection = OptimizationResultCollection.from_server(\n",
    "#     client=client,\n",
    "#     datasets=\"OpenFF Cresset Additional Coverage Optimizations v4.0\",\n",
    "#     spec_name=\"default\",\n",
    "# )\n",
    "additional_hessian_collection = BasicResultCollection.from_server(\n",
    "    client=client,\n",
    "    datasets=\"OpenFF Cresset Additional Coverage Hessian v4.0\",\n",
    "    spec_name=\"default\",\n",
    ")"
   ]
  },
  {
   "cell_type": "code",
   "execution_count": 18,
   "id": "a0e6cd92-65d3-4087-8138-e179f672c527",
   "metadata": {
    "execution": {
     "iopub.execute_input": "2025-04-03T00:45:13.011147Z",
     "iopub.status.busy": "2025-04-03T00:45:13.010844Z",
     "iopub.status.idle": "2025-04-03T00:47:25.783924Z",
     "shell.execute_reply": "2025-04-03T00:47:25.783583Z",
     "shell.execute_reply.started": "2025-04-03T00:45:13.011137Z"
    }
   },
   "outputs": [],
   "source": [
    "# additional_td_records_and_molecules = list(\n",
    "#     additional_torsiondrive_collection.to_records()\n",
    "# )\n",
    "# additional_opt_records_and_molecules = list(\n",
    "#     additional_optimization_collection.to_records()\n",
    "# )\n",
    "additional_hess_records_and_molecules = list(\n",
    "    additional_hessian_collection.to_records()\n",
    ")\n"
   ]
  },
  {
   "cell_type": "code",
   "execution_count": 22,
   "id": "e5a407ab-dfef-4a7e-9de1-0e39863e5c47",
   "metadata": {
    "execution": {
     "iopub.execute_input": "2025-04-03T00:49:18.425171Z",
     "iopub.status.busy": "2025-04-03T00:49:18.424845Z",
     "iopub.status.idle": "2025-04-03T00:49:18.427351Z",
     "shell.execute_reply": "2025-04-03T00:49:18.427139Z",
     "shell.execute_reply.started": "2025-04-03T00:49:18.425161Z"
    },
    "scrolled": true
   },
   "outputs": [
    {
     "data": {
      "text/plain": [
       "dict_keys(['id', 'record_type', 'is_service', 'properties', 'extras', 'status', 'manager_name', 'created_on', 'modified_on', 'owner_user', 'owner_group', 'compute_history_', 'task_', 'service_', 'comments_', 'native_files_', 'specification', 'molecule_id', 'molecule_', 'wavefunction_'])"
      ]
     },
     "execution_count": 22,
     "metadata": {},
     "output_type": "execute_result"
    }
   ],
   "source": [
    "additional_hess_records_and_molecules[0][0].__dict__.keys()"
   ]
  },
  {
   "cell_type": "code",
   "execution_count": 24,
   "id": "4dd99785-2504-4530-9388-8b04d902c360",
   "metadata": {
    "execution": {
     "iopub.execute_input": "2025-04-03T00:49:57.218697Z",
     "iopub.status.busy": "2025-04-03T00:49:57.218434Z",
     "iopub.status.idle": "2025-04-03T00:49:57.221015Z",
     "shell.execute_reply": "2025-04-03T00:49:57.220739Z",
     "shell.execute_reply.started": "2025-04-03T00:49:57.218685Z"
    }
   },
   "outputs": [
    {
     "data": {
      "text/plain": [
       "dict_keys(['pe energy', 'scf dipole', '-d gradient', 'calcinfo_nmo', 'dft xc energy', 'findif number', 'mayer indices', 'return_energy', 'return_result', 'calcinfo_natom', 'calcinfo_nbeta', 'current dipole', 'current energy', 'return_hessian', 'scf iterations', 'scf quadrupole', 'calcinfo_nalpha', 'calcinfo_nbasis', 'current hessian', 'dft vv10 energy', 'return_gradient', 'current gradient', 'dft total energy', 'scf total energy', 'dft total gradient', 'scf total energies', 'scf total gradient', 'dd solvation energy', 'grid electrons beta', 'one-electron energy', 'two-electron energy', 'grid electrons alpha', 'grid electrons total', 'scf iteration energy', 'wiberg lowdin indices', 'current dipole gradient', 'pcm polarization energy', 'b3lyp-d3bj total hessian', 'current reference energy', 'nuclear_repulsion_energy', 'b3lyp-d3bj total gradient', 'b3lyp-d3bj dipole gradient', 'dft functional total energy', 'dispersion correction energy', 'dispersion correction gradient', 'b3lyp-d3(bj) dispersion correction energy', 'b3lyp-d3(bj) dispersion correction gradient'])"
      ]
     },
     "execution_count": 24,
     "metadata": {},
     "output_type": "execute_result"
    }
   ],
   "source": [
    "additional_hess_records_and_molecules[0][0].properties.keys()"
   ]
  },
  {
   "cell_type": "code",
   "execution_count": 19,
   "id": "fae9a815-e133-4a42-bd7e-84dbacc395b7",
   "metadata": {},
   "outputs": [
    {
     "name": "stderr",
     "output_type": "stream",
     "text": [
      "100%|█████████████████████████████████████████| 393/393 [05:57<00:00,  1.10it/s]\n"
     ]
    }
   ],
   "source": [
    "# singlepoints_additional = []\n",
    "# for opt, _ in tqdm.tqdm(additional_opt_records_and_molecules):\n",
    "#     last = opt.trajectory_element(-1)\n",
    "#     singlepoints_additional.append(\n",
    "#         (last.molecule.identifiers.canonical_isomeric_explicit_hydrogen_mapped_smiles, last)\n",
    "#     )"
   ]
  },
  {
   "cell_type": "code",
   "execution_count": 20,
   "id": "7cfd50b9-4fc8-4ffa-8f3e-64c4beb05e7d",
   "metadata": {},
   "outputs": [
    {
     "name": "stderr",
     "output_type": "stream",
     "text": [
      "Pulling last frames: 100%|██████████████████████| 82/82 [32:08<00:00, 23.52s/it]\n"
     ]
    }
   ],
   "source": [
    "# singlepoints_torsiondrive_additional = []\n",
    "# for record, _ in tqdm.tqdm(additional_td_records_and_molecules, desc=\"Pulling last frames\"):\n",
    "#     for opt in record.minimum_optimizations.values():\n",
    "#         last = opt.trajectory_element(-1)\n",
    "#         singlepoints_torsiondrive_additional.append(\n",
    "#             (last.molecule.identifiers.canonical_isomeric_explicit_hydrogen_mapped_smiles, last)\n",
    "#         )"
   ]
  },
  {
   "cell_type": "code",
   "execution_count": 26,
   "id": "15079b4e-32ac-4a15-8eaa-b2e2b8a48a25",
   "metadata": {
    "execution": {
     "iopub.execute_input": "2025-04-03T00:50:58.253654Z",
     "iopub.status.busy": "2025-04-03T00:50:58.253317Z",
     "iopub.status.idle": "2025-04-03T00:50:58.257071Z",
     "shell.execute_reply": "2025-04-03T00:50:58.256826Z",
     "shell.execute_reply.started": "2025-04-03T00:50:58.253642Z"
    }
   },
   "outputs": [
    {
     "name": "stderr",
     "output_type": "stream",
     "text": [
      "100%|██████████████████████████████████████████████████████████████████████████| 393/393 [00:00<00:00, 674728.40it/s]\n"
     ]
    }
   ],
   "source": [
    "singlepoints_hessians_additional = []\n",
    "for opt, _ in tqdm.tqdm(additional_hess_records_and_molecules):\n",
    "    singlepoints_hessians_additional.append(\n",
    "        (opt.molecule.identifiers.canonical_isomeric_explicit_hydrogen_mapped_smiles, opt)\n",
    "    )"
   ]
  },
  {
   "cell_type": "markdown",
   "id": "1fd6400b-5906-4adc-a732-cc594818490c",
   "metadata": {},
   "source": [
    "## Convert to JSON"
   ]
  },
  {
   "cell_type": "code",
   "execution_count": 40,
   "id": "0e425991-c742-46ba-affc-a8fe1aa0db80",
   "metadata": {
    "execution": {
     "iopub.execute_input": "2025-04-03T01:02:24.759703Z",
     "iopub.status.busy": "2025-04-03T01:02:24.759426Z",
     "iopub.status.idle": "2025-04-03T01:02:24.763345Z",
     "shell.execute_reply": "2025-04-03T01:02:24.763093Z",
     "shell.execute_reply.started": "2025-04-03T01:02:24.759690Z"
    }
   },
   "outputs": [],
   "source": [
    "from openff.units import unit\n",
    "\n",
    "bohr_to_angstrom = (1 * unit.bohr).m_as(unit.angstrom)\n",
    "hartree_to_kcal = (1 * unit.hartree * unit.avogadro_constant).m_as(\n",
    "    unit.kilocalories_per_mole\n",
    ")\n",
    "\n",
    "def convert_singlepoints(singlepoints, include_gradient: bool = True):\n",
    "    \"\"\"\n",
    "    Convert data to smee-friendly format.\n",
    "    \"\"\"\n",
    "    data_by_smiles = defaultdict(list)\n",
    "\n",
    "    for mapped_smiles, record in tqdm.tqdm(singlepoints, desc=\"Converting\"): \n",
    "        mol = record.molecule\n",
    "        coords = np.array(mol.geometry * bohr_to_angstrom).flatten().tolist()\n",
    "        energy = record.properties[\"return_energy\"] * hartree_to_kcal\n",
    "        hessian = (np.array(record.properties[\"return_hessian\"]) * hartree_to_kcal / bohr_to_angstrom**2).tolist()\n",
    "        entry = {\n",
    "            \"coords\": coords,\n",
    "            \"energy\": energy,\n",
    "            \"hessian\": hessian\n",
    "        }\n",
    "        if include_gradient:\n",
    "            try:\n",
    "                gradient = np.array(record.properties[\"scf total gradient\"]).reshape((-1, 3))\n",
    "            except KeyError:\n",
    "                # throw out any opts without gradients for now\n",
    "                continue\n",
    "            forces = ((-gradient) * hartree_to_kcal / bohr_to_angstrom)\n",
    "            entry[\"forces\"] = np.array(forces).flatten().tolist()\n",
    "            \n",
    "        data_by_smiles[mapped_smiles].append(entry)\n",
    "    return data_by_smiles"
   ]
  },
  {
   "cell_type": "code",
   "execution_count": 23,
   "id": "267351da-a2d8-4324-895c-98384efee363",
   "metadata": {},
   "outputs": [],
   "source": [
    "# singlepoints_original[0].molecule.identifiers"
   ]
  },
  {
   "cell_type": "code",
   "execution_count": 25,
   "id": "56a465ff-686b-460c-a488-69e2ea13fa0e",
   "metadata": {},
   "outputs": [],
   "source": [
    "# original_optimizations = convert_singlepoints(singlepoints_original)\n",
    "# len(original_optimizations)"
   ]
  },
  {
   "cell_type": "code",
   "execution_count": 41,
   "id": "844c89a3-bc72-48f5-9eb0-7126d56096ce",
   "metadata": {
    "execution": {
     "iopub.execute_input": "2025-04-03T01:02:28.053581Z",
     "iopub.status.busy": "2025-04-03T01:02:28.053316Z",
     "iopub.status.idle": "2025-04-03T01:02:29.114477Z",
     "shell.execute_reply": "2025-04-03T01:02:29.114197Z",
     "shell.execute_reply.started": "2025-04-03T01:02:28.053570Z"
    }
   },
   "outputs": [
    {
     "name": "stderr",
     "output_type": "stream",
     "text": [
      "Converting: 100%|████████████████████████████████████████████████████████████████| 393/393 [00:00<00:00, 4510.53it/s]\n"
     ]
    }
   ],
   "source": [
    "# convert optimizations\n",
    "\n",
    "# original_optimizations = convert_singlepoints(singlepoints_original_with_smiles)\n",
    "# with open(\"original-optimizations.json\", \"w\") as f:\n",
    "#     json.dump(original_optimizations, f)\n",
    "    \n",
    "# additional_optimizations = convert_singlepoints(singlepoints_additional)\n",
    "# with open(\"additional-optimizations.json\", \"w\") as f:\n",
    "#     json.dump(additional_optimizations, f)\n",
    "\n",
    "# original_torsiondrives = convert_singlepoints(\n",
    "#     singlepoints_torsiondrive_original,\n",
    "#     include_gradient=False\n",
    "# )\n",
    "# with open(\"original-torsiondrives.json\", \"w\") as f:\n",
    "#     json.dump(original_torsiondrives, f)\n",
    "    \n",
    "# additional_torsiondrives = convert_singlepoints(\n",
    "#     singlepoints_torsiondrive_additional,\n",
    "#     include_gradient=False\n",
    "# )\n",
    "# with open(\"additional-torsiondrives.json\", \"w\") as f:\n",
    "#     json.dump(additional_torsiondrives, f)\n",
    "\n",
    "additional_hessians = convert_singlepoints(\n",
    "    singlepoints_hessians_additional,\n",
    "    # include_gradient=False\n",
    ")\n",
    "with open(\"additional-hessians.json\", \"w\") as f:\n",
    "    json.dump(additional_hessians, f)\n"
   ]
  },
  {
   "cell_type": "code",
   "execution_count": 42,
   "id": "b0cccde8-4320-433d-86cd-e45b774e8381",
   "metadata": {
    "execution": {
     "iopub.execute_input": "2025-04-03T01:02:30.598726Z",
     "iopub.status.busy": "2025-04-03T01:02:30.598498Z",
     "iopub.status.idle": "2025-04-03T01:02:30.600450Z",
     "shell.execute_reply": "2025-04-03T01:02:30.600136Z",
     "shell.execute_reply.started": "2025-04-03T01:02:30.598715Z"
    }
   },
   "outputs": [],
   "source": [
    "import collections"
   ]
  },
  {
   "cell_type": "code",
   "execution_count": 28,
   "id": "b1e6681f-84cc-42c1-a7bb-32378462f792",
   "metadata": {},
   "outputs": [],
   "source": [
    "combined_optimizations = collections.defaultdict(list)\n",
    "combined_torsiondrives = collections.defaultdict(list)\n",
    "\n",
    "for dataset in [original_optimizations, additional_optimizations]:\n",
    "    for k, v in dataset.items():\n",
    "        combined_optimizations[k].extend(v)\n",
    "\n",
    "for dataset in [original_torsiondrives, additional_torsiondrives]:\n",
    "    for k, v in dataset.items():\n",
    "        combined_torsiondrives[k].extend(v)\n",
    "\n",
    "with open(\"combined-optimizations.json\", \"w\") as f:\n",
    "    json.dump(combined_optimizations, f)\n",
    "\n",
    "with open(\"combined-torsiondrives.json\", \"w\") as f:\n",
    "    json.dump(combined_torsiondrives, f)\n"
   ]
  },
  {
   "cell_type": "code",
   "execution_count": null,
   "id": "79ab5d02-50a1-4e22-991f-9b846eea15b6",
   "metadata": {},
   "outputs": [],
   "source": []
  }
 ],
 "metadata": {
  "kernelspec": {
   "display_name": "Python 3 (ipykernel)",
   "language": "python",
   "name": "python3"
  },
  "language_info": {
   "codemirror_mode": {
    "name": "ipython",
    "version": 3
   },
   "file_extension": ".py",
   "mimetype": "text/x-python",
   "name": "python",
   "nbconvert_exporter": "python",
   "pygments_lexer": "ipython3",
   "version": "3.11.0"
  },
  "widgets": {
   "application/vnd.jupyter.widget-state+json": {
    "state": {},
    "version_major": 2,
    "version_minor": 0
   }
  }
 },
 "nbformat": 4,
 "nbformat_minor": 5
}
