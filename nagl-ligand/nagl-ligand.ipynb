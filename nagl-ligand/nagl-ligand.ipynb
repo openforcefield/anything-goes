{
 "cells": [
  {
   "cell_type": "code",
   "execution_count": 1,
   "metadata": {},
   "outputs": [
    {
     "name": "stderr",
     "output_type": "stream",
     "text": [
      "DEPRECATION: --no-python-version-warning is deprecated. pip 25.1 will enforce this behaviour change. A possible replacement is to remove the flag as it's a no-op. Discussion can be found at https://github.com/pypa/pip/issues/13154\n"
     ]
    }
   ],
   "source": [
    "from openff.toolkit import Molecule, ForceField\n",
    "from openff.toolkit.utils.nagl_wrapper import NAGLToolkitWrapper\n",
    "from openff.nagl_models import list_available_nagl_models"
   ]
  },
  {
   "cell_type": "code",
   "execution_count": 2,
   "metadata": {},
   "outputs": [
    {
     "name": "stdout",
     "output_type": "stream",
     "text": [
      "[PosixPath('/Users/mattthompson/micromamba/envs/openff-nagl-test/lib/python3.12/site-packages/openff/nagl_models/models/am1bcc/openff-gnn-am1bcc-0.0.1-alpha.1.pt'), PosixPath('/Users/mattthompson/micromamba/envs/openff-nagl-test/lib/python3.12/site-packages/openff/nagl_models/models/am1bcc/openff-gnn-am1bcc-0.1.0-rc.1.pt'), PosixPath('/Users/mattthompson/micromamba/envs/openff-nagl-test/lib/python3.12/site-packages/openff/nagl_models/models/am1bcc/openff-gnn-am1bcc-0.1.0-rc.2.pt'), PosixPath('/Users/mattthompson/micromamba/envs/openff-nagl-test/lib/python3.12/site-packages/openff/nagl_models/models/am1bcc/openff-gnn-am1bcc-0.1.0-rc.3.pt')]\n"
     ]
    }
   ],
   "source": [
    "# OpenFF NAGL store models as PyTorch files. Right now (February 2025) we want the model ending in rc.3 ...\n",
    "NAGL_MODEL = \"openff-gnn-am1bcc-0.1.0-rc.3.pt\"\n",
    "\n",
    "# ... but in the future there should be improved models. We can list them here:\n",
    "print(list_available_nagl_models())"
   ]
  },
  {
   "cell_type": "code",
   "execution_count": 3,
   "metadata": {},
   "outputs": [
    {
     "data": {
      "application/vnd.jupyter.widget-view+json": {
       "model_id": "1d0eff49d341464289303ded2896210c",
       "version_major": 2,
       "version_minor": 0
      },
      "text/plain": []
     },
     "metadata": {},
     "output_type": "display_data"
    },
    {
     "data": {
      "application/vnd.jupyter.widget-view+json": {
       "model_id": "302037449b4943dc9373a59a3dd00c9c",
       "version_major": 2,
       "version_minor": 0
      },
      "text/plain": [
       "NGLWidget()"
      ]
     },
     "metadata": {},
     "output_type": "display_data"
    }
   ],
   "source": [
    "# load the molecule from SMILES - here you could also load from other formats, like an SDF file with 3D coordinates.\n",
    "# For many ways to create a Molecule, see the cookbook:\n",
    "# https://docs.openforcefield.org/projects/toolkit/en/stable/users/molecule_cookbook.html\n",
    "aspirin = Molecule.from_smiles(\"CC(=O)OC1=CC=CC=C1C(=O)O\")\n",
    "\n",
    "aspirin.generate_conformers(n_conformers=1)\n",
    "\n",
    "# visualization in notebook requires NGLView, which can be skipped\n",
    "aspirin"
   ]
  },
  {
   "cell_type": "code",
   "execution_count": 4,
   "metadata": {},
   "outputs": [
    {
     "name": "stdout",
     "output_type": "stream",
     "text": [
      "[-0.16133040828364237 0.6449682797704425 -0.49803232295172556 -0.3440593693937574 0.16385800497872488 -0.15869387132780893 -0.08339377386229378 -0.14783590180533274 -0.07089014989989144 -0.13842942459242685 0.6621711935315814 -0.533313683101109 -0.6033047352518354 0.07867553191525596 0.07867553191525596 0.07867553191525596 0.1530339206968035 0.14112668590886251 0.14153014974934713 0.15063593643052237 0.4459328736577715] elementary_charge\n"
     ]
    }
   ],
   "source": [
    "# in order to assign partial charges, we need to\n",
    "# 1. pass it the specific model (the name of a PyTorch file) we want to use\n",
    "# 2. pass it the NAGL wrapper, which wires up the toolkit to the\n",
    "#    `openff-nagl` software that loads the model and assigns charges\n",
    "aspirin.assign_partial_charges(\n",
    "    partial_charge_method=NAGL_MODEL,\n",
    "    toolkit_registry=NAGLToolkitWrapper(),\n",
    ")\n",
    "\n",
    "# this `Molecule` object now contains partial charges as assigned by\n",
    "# this particular NAGL model\n",
    "print(aspirin.partial_charges)"
   ]
  },
  {
   "cell_type": "code",
   "execution_count": 5,
   "metadata": {},
   "outputs": [
    {
     "data": {
      "application/vnd.jupyter.widget-view+json": {
       "model_id": "fff1c6417dc248ce90e986f5581c12ea",
       "version_major": 2,
       "version_minor": 0
      },
      "text/plain": [
       "NGLWidget()"
      ]
     },
     "metadata": {},
     "output_type": "display_data"
    }
   ],
   "source": [
    "# load Sage\n",
    "sage = ForceField(\"openff-2.2.1.offxml\")\n",
    "\n",
    "# normally when we call `ForceField.create_interchange` or `ForceField.create_openmm_system`, the toolkit will call\n",
    "# AmberTools or OEChem to assign partial charges, since that's what's in the force field file. A future OpenFF release\n",
    "# which uses NAGL for charge assignment will encode this instruction in the force field file itself, but until that we\n",
    "# can use the `charge_from_molecules` argument to tell it to use the charges that we just assigned# for more, see:\n",
    "# https://docs.openforcefield.org/projects/toolkit/en/stable/api/generated/openff.toolkit.typing.engines.smirnoff.ForceField.html#openff.toolkit.typing.engines.smirnoff.ForceField.create_openmm_system\n",
    "interchange = sage.create_interchange(\n",
    "    aspirin.to_topology(),\n",
    "    charge_from_molecules=[aspirin],\n",
    ")\n",
    "\n",
    "interchange.visualize() # this also visualizes the 3D structure via NGLview"
   ]
  },
  {
   "cell_type": "code",
   "execution_count": 6,
   "metadata": {},
   "outputs": [],
   "source": [
    "# From here you can export to MD software (OpenMM, GROMACS, etc.). See\n",
    "# https://docs.openforcefield.org/projects/interchange/en/stable/using/output.html"
   ]
  }
 ],
 "metadata": {
  "kernelspec": {
   "display_name": "Python 3",
   "language": "python",
   "name": "python3"
  },
  "language_info": {
   "codemirror_mode": {
    "name": "ipython",
    "version": 3
   },
   "file_extension": ".py",
   "mimetype": "text/x-python",
   "name": "python",
   "nbconvert_exporter": "python",
   "pygments_lexer": "ipython3",
   "version": "3.12.9"
  }
 },
 "nbformat": 4,
 "nbformat_minor": 2
}
