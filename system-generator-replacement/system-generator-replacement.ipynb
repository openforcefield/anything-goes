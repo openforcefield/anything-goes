{
 "cells": [
  {
   "cell_type": "markdown",
   "id": "0bd7bcac-7257-44db-96a1-804133501cbc",
   "metadata": {},
   "source": [
    "# SystemGenerator replacement\n",
    "\n",
    "The purpose of this example is to show how a production pipeline reliant on `openmmforcefields` can be migrated to OpenFF infrastructure.\n",
    "\n",
    "For four different example systems, a cell shows how to prepare it with `openmmforcefields` and then the following cell shows how to prepare an equivalent system with OpenFF infrastructure.`\n",
    "\n",
    "The imports here are intentionally clunky; since each uses similarly-named classes, only their modules are imported. The result is excessively verbose for most cases, but useful here for clarity."
   ]
  },
  {
   "cell_type": "markdown",
   "id": "1f6c9cbf-4696-4146-90e5-9156eba9c96a",
   "metadata": {},
   "source": [
    "## Data sources\n",
    "\n",
    "* [Protein PDB](https://github.com/omsf/joint-demo/blob/8fe4145dd3255c961d04bb16c00f39ecd768dc71/source/openfe/protein.pdb)\n",
    "* [Ligand(s) SDF](https://github.com/omsf/joint-demo/blob/8fe4145dd3255c961d04bb16c00f39ecd768dc71/source/openfe/ligands.sdf)"
   ]
  },
  {
   "cell_type": "markdown",
   "id": "92e52a0f-7eee-46f3-a8f5-7dec42274e80",
   "metadata": {},
   "source": [
    "## Example #1: Ligand in vacuum"
   ]
  },
  {
   "cell_type": "markdown",
   "id": "ccc50612-710d-4578-bead-34bb0d274dfc",
   "metadata": {},
   "source": [
    "### The \"old\" way"
   ]
  },
  {
   "cell_type": "code",
   "execution_count": 1,
   "id": "09b1b09c-3f5b-4573-aad3-7f26f03a9ad7",
   "metadata": {
    "scrolled": true
   },
   "outputs": [
    {
     "name": "stderr",
     "output_type": "stream",
     "text": [
      "/Users/mattthompson/micromamba/envs/system-generator-replacement/lib/python3.12/site-packages/openff/utilities/provenance.py:25: CondaExecutableNotFoundWarning: No conda/mamba/micromamba executable found. Unable to determine package versions.\n",
      "  warnings.warn(\n",
      "/Users/mattthompson/micromamba/envs/system-generator-replacement/lib/python3.12/site-packages/openff/amber_ff_ports/amber_ff_ports.py:8: UserWarning: pkg_resources is deprecated as an API. See https://setuptools.pypa.io/en/latest/pkg_resources.html. The pkg_resources package is slated for removal as early as 2025-11-30. Refrain from using this package or pin to Setuptools<81.\n",
      "  from pkg_resources import resource_filename\n"
     ]
    },
    {
     "data": {
      "text/plain": [
       "<openmm.openmm.System; proxy of <Swig Object of type 'OpenMM::System *' at 0x13a300de0> >"
      ]
     },
     "execution_count": 1,
     "metadata": {},
     "output_type": "execute_result"
    }
   ],
   "source": [
    "import openmm.app\n",
    "import openmm.unit\n",
    "import openff.toolkit\n",
    "import openmmforcefields.generators\n",
    "\n",
    "molecule = openff.toolkit.Molecule.from_smiles(smiles=\"c1ccccc1\")\n",
    "molecule.generate_conformers(n_conformers=1)\n",
    "\n",
    "smirnoff_generator = openmmforcefields.generators.SMIRNOFFTemplateGenerator(molecules=molecule, forcefield='openff-2.2.1')\n",
    "force_field = openmm.app.ForceField()\n",
    "force_field.registerTemplateGenerator(smirnoff_generator.generator)\n",
    "\n",
    "force_field.createSystem(\n",
    "    topology=molecule.to_topology().to_openmm(),\n",
    "    nonbondedCutoff=9 * openmm.unit.angstrom,\n",
    "    switchDistance=8 * openmm.unit.angstrom,\n",
    "    nonbondedMethod=openmm.app.NoCutoff,\n",
    ")"
   ]
  },
  {
   "cell_type": "markdown",
   "id": "83e5dfbf-4f22-4886-8d48-8ee81a6ae6fd",
   "metadata": {},
   "source": [
    "### Using OpenFF infrastructure"
   ]
  },
  {
   "cell_type": "code",
   "execution_count": 2,
   "id": "87bdc79f-54fc-48c4-93d9-926d8aaea92d",
   "metadata": {},
   "outputs": [
    {
     "data": {
      "text/plain": [
       "<openmm.openmm.System; proxy of <Swig Object of type 'OpenMM::System *' at 0x13f8eb630> >"
      ]
     },
     "execution_count": 2,
     "metadata": {},
     "output_type": "execute_result"
    }
   ],
   "source": [
    "import openff.toolkit\n",
    "\n",
    "molecule = openff.toolkit.Molecule.from_smiles(smiles=\"c1ccccc1\")\n",
    "molecule.generate_conformers(n_conformers=1)\n",
    "\n",
    "sage = openff.toolkit.ForceField(\"openff-2.2.1.offxml\")\n",
    "\n",
    "sage.create_openmm_system(topology=molecule.to_topology())"
   ]
  },
  {
   "cell_type": "markdown",
   "id": "f371fa38-359d-477d-a8a2-b099c426d101",
   "metadata": {},
   "source": [
    "### Example #2: Protein in vacuum\n",
    "\n",
    "This should$^{\\mathrm{TM}}$ be quite simple since there is only one component in the system - just load up a protein-relevant force field and a PDB file, then call `.createSystem()` to squish them together.\n",
    "\n",
    "As a result, the steps are identical, differing only in how the API points are spelled."
   ]
  },
  {
   "cell_type": "markdown",
   "id": "311f08ac-1c98-4e1f-ac1a-93c7efa95584",
   "metadata": {},
   "source": [
    "### The \"old\" way"
   ]
  },
  {
   "cell_type": "code",
   "execution_count": 3,
   "id": "365ecee2-9743-40fc-9821-5b7d0736f65c",
   "metadata": {},
   "outputs": [
    {
     "data": {
      "text/plain": [
       "<openmm.openmm.System; proxy of <Swig Object of type 'OpenMM::System *' at 0x152b5bfc0> >"
      ]
     },
     "execution_count": 3,
     "metadata": {},
     "output_type": "execute_result"
    }
   ],
   "source": [
    "import openmm.app\n",
    "\n",
    "pdb = openmm.app.PDBFile(\"protein.pdb\")\n",
    "ff14sb = openmm.app.ForceField(\"amber/ff14SB.xml\")\n",
    "\n",
    "ff14sb.createSystem(pdb.topology)"
   ]
  },
  {
   "cell_type": "markdown",
   "id": "e527d356-1559-4073-9885-7752a5fb3acd",
   "metadata": {},
   "source": [
    "### Using OpenFF infrastructure"
   ]
  },
  {
   "cell_type": "code",
   "execution_count": 4,
   "id": "c9905229-d43e-49f8-9866-58a176f55c8c",
   "metadata": {
    "scrolled": true
   },
   "outputs": [
    {
     "data": {
      "text/plain": [
       "<openmm.openmm.System; proxy of <Swig Object of type 'OpenMM::System *' at 0x152ccab80> >"
      ]
     },
     "execution_count": 4,
     "metadata": {},
     "output_type": "execute_result"
    }
   ],
   "source": [
    "import openff.toolkit\n",
    "\n",
    "topology = openff.toolkit.Topology.from_pdb(\"protein.pdb\")\n",
    "ff14sb = openff.toolkit.ForceField(\"ff14sb_off_impropers_0.0.4.offxml\")\n",
    "\n",
    "ff14sb.create_openmm_system(topology)"
   ]
  },
  {
   "cell_type": "markdown",
   "id": "f8fcc8ba-079f-4735-9394-ae462a753c4e",
   "metadata": {},
   "source": [
    "### Example #3: Ligand in water\n",
    "\n",
    "This is much the same as Example #1 - including plenty of re-used code - with the added step of creating solvent around the ligand. There are several ways of doing this; `addSolvent` is one way when things are already represented in memory with OpenMM objects. This requires jumping into `openmm.app.Modeller` which was otherwise unnecessary."
   ]
  },
  {
   "cell_type": "markdown",
   "id": "5e74c7f1-1d0d-4f0a-be3c-b1c95aa8a0f9",
   "metadata": {},
   "source": [
    "### The \"old\" way"
   ]
  },
  {
   "cell_type": "code",
   "execution_count": 5,
   "id": "a0678f0b-da01-499a-8929-3f21a5ea1431",
   "metadata": {},
   "outputs": [
    {
     "data": {
      "text/plain": [
       "<openmm.openmm.System; proxy of <Swig Object of type 'OpenMM::System *' at 0x158ebeb50> >"
      ]
     },
     "execution_count": 5,
     "metadata": {},
     "output_type": "execute_result"
    }
   ],
   "source": [
    "import openmm.app\n",
    "import openmm.unit\n",
    "import openff.toolkit\n",
    "import openmmforcefields.generators\n",
    "\n",
    "def make_vec3(positions: openff.toolkit.Quantity) -> openmm.Vec3:\n",
    "    return [\n",
    "        openmm.Vec3(float(row[0]), float(row[1]), float(row[2]))\n",
    "        for row in positions.m_as(\"nanometer\")\n",
    "    ]\n",
    "        \n",
    "molecule = openff.toolkit.Molecule.from_smiles(smiles=\"c1ccccc1\")\n",
    "molecule.generate_conformers(n_conformers=1)\n",
    "\n",
    "modeller = openmm.app.Modeller(\n",
    "    topology =molecule.to_topology().to_openmm(),\n",
    "    positions=make_vec3(molecule.conformers[0]),\n",
    ")\n",
    "\n",
    "smirnoff_generator = openmmforcefields.generators.SMIRNOFFTemplateGenerator(\n",
    "    molecules=molecule,\n",
    "    forcefield='openff-2.2.1',\n",
    ")\n",
    "force_field = openmm.app.ForceField(\"tip3p.xml\")\n",
    "force_field.registerTemplateGenerator(smirnoff_generator.generator)\n",
    "\n",
    "modeller.addSolvent(\n",
    "    forcefield=force_field,\n",
    "    boxSize=openmm.Vec3(5, 5, 5),\n",
    ")\n",
    "\n",
    "system_generator = openmmforcefields.generators.SystemGenerator()\n",
    "system_generator.create_system(\n",
    "    topology=modeller.topology,\n",
    "    molecules=[molecule, openff.toolkit.Molecule.from_smiles(\"O\")],\n",
    ")"
   ]
  },
  {
   "cell_type": "markdown",
   "id": "bfb9006b-1cd2-443b-b8a6-910fcb72dbe5",
   "metadata": {},
   "source": [
    "### Using OpenFF infrastructure"
   ]
  },
  {
   "cell_type": "code",
   "execution_count": 6,
   "id": "d2457818-939c-4833-ba75-7b57b31bfe48",
   "metadata": {},
   "outputs": [
    {
     "data": {
      "text/plain": [
       "<openmm.openmm.System; proxy of <Swig Object of type 'OpenMM::System *' at 0x156634030> >"
      ]
     },
     "execution_count": 6,
     "metadata": {},
     "output_type": "execute_result"
    }
   ],
   "source": [
    "import openff.toolkit\n",
    "from openff.interchange.components._packmol import pack_box\n",
    "\n",
    "\n",
    "molecule = openff.toolkit.Molecule.from_smiles(smiles=\"c1ccccc1\")\n",
    "molecule.generate_conformers(n_conformers=1)\n",
    "\n",
    "water = openff.toolkit.Molecule.from_smiles(\"O\")\n",
    "\n",
    "packed_topology = pack_box(\n",
    "    molecules=[molecule, water],\n",
    "    number_of_copies=[1, 4000],\n",
    "    target_density=openff.toolkit.Quantity(\"1 g/cm^3\"),\n",
    ")\n",
    "\n",
    "sage = openff.toolkit.ForceField(\"openff-2.2.1.offxml\")\n",
    "sage.create_openmm_system(packed_topology)"
   ]
  },
  {
   "cell_type": "markdown",
   "id": "3864f694-806e-44df-ad8d-a18c52781d8d",
   "metadata": {},
   "source": [
    "### Example #4: Protein-ligand complex in solvent\n",
    "\n",
    "This puts everything together - also adds a bit of salt in with the water."
   ]
  },
  {
   "cell_type": "markdown",
   "id": "f1b8ebed-9207-45a8-a6fd-2a1718511183",
   "metadata": {},
   "source": [
    "### The \"old\" way"
   ]
  },
  {
   "cell_type": "code",
   "execution_count": 7,
   "id": "09d60aae-53de-49bf-bc6d-7e4670e85ad0",
   "metadata": {
    "scrolled": true
   },
   "outputs": [
    {
     "data": {
      "text/plain": [
       "<openmm.openmm.System; proxy of <Swig Object of type 'OpenMM::System *' at 0x1597148a0> >"
      ]
     },
     "execution_count": 7,
     "metadata": {},
     "output_type": "execute_result"
    }
   ],
   "source": [
    "import openmm.app\n",
    "import openff.toolkit\n",
    "\n",
    "pdb = openmm.app.PDBFile(\"protein.pdb\")\n",
    "modeller = openmm.app.Modeller(pdb.topology, positions=pdb.positions)\n",
    "\n",
    "ligand = openff.toolkit.Molecule.from_file(\"ligands.sdf\")[0]\n",
    "modeller.add(ligand.to_topology().to_openmm(), addPositions=ligand.conformers[0].to_openmm())\n",
    "\n",
    "smirnoff_generator = openmmforcefields.generators.SMIRNOFFTemplateGenerator(\n",
    "    molecules=ligand,\n",
    "    forcefield='openff-2.2.1',\n",
    ")\n",
    "\n",
    "force_field = openmm.app.ForceField(\"amber/ff14SB.xml\", \"amber/tip3p_standard.xml\")\n",
    "force_field.registerTemplateGenerator(smirnoff_generator.generator)\n",
    "\n",
    "modeller.addSolvent(\n",
    "    forcefield=force_field,\n",
    "    boxSize=openmm.Vec3(5, 5, 5),\n",
    ")\n",
    "\n",
    "force_field.createSystem(modeller.topology)"
   ]
  },
  {
   "cell_type": "markdown",
   "id": "a2592104-c6ec-47e8-8dc6-ec0bb8a56d7a",
   "metadata": {},
   "source": [
    "### Using OpenFF infrastructure"
   ]
  },
  {
   "cell_type": "code",
   "execution_count": 8,
   "id": "840892f5-3625-4339-916f-600be38d5df4",
   "metadata": {},
   "outputs": [
    {
     "data": {
      "text/plain": [
       "<openmm.openmm.System; proxy of <Swig Object of type 'OpenMM::System *' at 0x15353ab80> >"
      ]
     },
     "execution_count": 8,
     "metadata": {},
     "output_type": "execute_result"
    }
   ],
   "source": [
    "import openff.toolkit\n",
    "from openff.interchange.components._packmol import solvate_topology, UNIT_CUBE\n",
    "\n",
    "\n",
    "protein = openff.toolkit.Topology.from_pdb(\"protein.pdb\")\n",
    "protein.add_molecule(openff.toolkit.Molecule.from_file(\"ligands.sdf\")[0])\n",
    "\n",
    "# this is no longer just a protein, so rename\n",
    "protein_ligand_complex = protein\n",
    "\n",
    "# shift by [3, 3, 3] nm so it ends up in the middle of the box later\n",
    "protein_ligand_complex.set_positions(\n",
    "    protein_ligand_complex.get_positions() + openff.toolkit.Quantity([3, 3, 3], \"nanometer\")\n",
    ")\n",
    "\n",
    "topology = solvate_topology(\n",
    "    topology=protein_ligand_complex,\n",
    "    nacl_conc=openff.toolkit.Quantity(0.08, 'mole / liter'),\n",
    "    box_shape=UNIT_CUBE,\n",
    "    target_density=openff.toolkit.Quantity(\"1 g/cm^3\"),\n",
    ")\n",
    "\n",
    "ff14sb_with_sage = openff.toolkit.ForceField(\"ff14sb_off_impropers_0.0.4.offxml\", \"openff-2.2.1.offxml\")\n",
    "\n",
    "ff14sb_with_sage.create_openmm_system(topology)"
   ]
  }
 ],
 "metadata": {
  "kernelspec": {
   "display_name": "Python 3 (ipykernel)",
   "language": "python",
   "name": "python3"
  },
  "language_info": {
   "codemirror_mode": {
    "name": "ipython",
    "version": 3
   },
   "file_extension": ".py",
   "mimetype": "text/x-python",
   "name": "python",
   "nbconvert_exporter": "python",
   "pygments_lexer": "ipython3",
   "version": "3.12.11"
  }
 },
 "nbformat": 4,
 "nbformat_minor": 5
}
